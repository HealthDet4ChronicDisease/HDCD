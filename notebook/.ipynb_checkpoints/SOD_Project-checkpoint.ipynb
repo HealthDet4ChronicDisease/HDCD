{
 "cells": [
  {
   "cell_type": "code",
   "execution_count": 1,
   "id": "0a824897",
   "metadata": {},
   "outputs": [],
   "source": [
    "import pandas as pd\n",
    "import numpy as np\n",
    "import scipy.stats as sp\n",
    "import matplotlib.pyplot as plt\n",
    "import altair as alt"
   ]
  },
  {
   "cell_type": "markdown",
   "id": "28e4d82d",
   "metadata": {},
   "source": [
    "# load data"
   ]
  },
  {
   "cell_type": "code",
   "execution_count": 2,
   "id": "2809070f",
   "metadata": {},
   "outputs": [],
   "source": [
    "data = pd.read_csv(\"/Users/suxian/Data/Class/CSE583/Data/PLACES__Local_Data_for_Better_Health__Census_Tract_Data_2023_release_20231024.csv\")"
   ]
  },
  {
   "cell_type": "code",
   "execution_count": 6,
   "id": "c430fdf9",
   "metadata": {
    "scrolled": true
   },
   "outputs": [
    {
     "data": {
      "text/plain": [
       "array(['Obesity among adults aged >=18 years',\n",
       "       'Stroke among adults aged >=18 years',\n",
       "       'Arthritis among adults aged >=18 years',\n",
       "       'Mammography use among women aged 50-74 years',\n",
       "       'Depression among adults aged >=18 years',\n",
       "       'Vision disability among adults aged >=18 years',\n",
       "       'Chronic obstructive pulmonary disease among adults aged >=18 years',\n",
       "       'Visits to dentist or dental clinic among adults aged >=18 years',\n",
       "       'High cholesterol among adults aged >=18 years who have been screened in the past 5 years',\n",
       "       'Current smoking among adults aged >=18 years',\n",
       "       'Mobility disability among adults aged >=18 years',\n",
       "       'Taking medicine for high blood pressure control among adults aged >=18 years with high blood pressure',\n",
       "       'Self-care disability among adults aged >=18 years',\n",
       "       'Cholesterol screening among adults aged >=18 years',\n",
       "       'Any disability among adults aged >=18 years',\n",
       "       'Fecal occult blood test, sigmoidoscopy, or colonoscopy among adults aged 50-75 years',\n",
       "       'All teeth lost among adults aged >=65 years',\n",
       "       'No leisure-time physical activity among adults aged >=18 years',\n",
       "       'Older adult women aged >=65 years who are up to date on a core set of clinical preventive services: Flu shot past year, PPV shot ever, Colorectal cancer screening, and Mammogram past 2 years',\n",
       "       'Sleeping less than 7 hours among adults aged >=18 years',\n",
       "       'Independent living disability among adults aged >=18 years',\n",
       "       'Current lack of health insurance among adults aged 18-64 years',\n",
       "       'Cancer (excluding skin cancer) among adults aged >=18 years',\n",
       "       'Chronic kidney disease among adults aged >=18 years',\n",
       "       'High blood pressure among adults aged >=18 years',\n",
       "       'Mental health not good for >=14 days among adults aged >=18 years',\n",
       "       'Cervical cancer screening among adult women aged 21-65 years',\n",
       "       'Binge drinking among adults aged >=18 years',\n",
       "       'Fair or poor self-rated health status among adults aged >=18 years',\n",
       "       'Current asthma among adults aged >=18 years',\n",
       "       'Visits to doctor for routine checkup within the past year among adults aged >=18 years',\n",
       "       'Cognitive disability among adults ages >=18 years',\n",
       "       'Hearing disability among adults aged >=18 years',\n",
       "       'Diagnosed diabetes among adults aged >=18 years',\n",
       "       'Older adult men aged >=65 years who are up to date on a core set of clinical preventive services: Flu shot past year, PPV shot ever, Colorectal cancer screening',\n",
       "       'Physical health not good for >=14 days among adults aged >=18 years',\n",
       "       'Coronary heart disease among adults aged >=18 years'],\n",
       "      dtype=object)"
      ]
     },
     "execution_count": 6,
     "metadata": {},
     "output_type": "execute_result"
    }
   ],
   "source": [
    "data[\"Measure\"].unique()"
   ]
  },
  {
   "cell_type": "code",
   "execution_count": 10,
   "id": "5bd7a580",
   "metadata": {
    "scrolled": true
   },
   "outputs": [
    {
     "data": {
      "text/plain": [
       "array(['OBESITY', 'STROKE', 'ARTHRITIS', 'MAMMOUSE', 'DEPRESSION',\n",
       "       'VISION', 'COPD', 'DENTAL', 'HIGHCHOL', 'CSMOKING', 'MOBILITY',\n",
       "       'BPMED', 'SELFCARE', 'CHOLSCREEN', 'DISABILITY', 'COLON_SCREEN',\n",
       "       'TEETHLOST', 'LPA', 'COREW', 'SLEEP', 'INDEPLIVE', 'ACCESS2',\n",
       "       'CANCER', 'KIDNEY', 'BPHIGH', 'MHLTH', 'CERVICAL', 'BINGE',\n",
       "       'GHLTH', 'CASTHMA', 'CHECKUP', 'COGNITION', 'HEARING', 'DIABETES',\n",
       "       'COREM', 'PHLTH', 'CHD'], dtype=object)"
      ]
     },
     "execution_count": 10,
     "metadata": {},
     "output_type": "execute_result"
    }
   ],
   "source": [
    "data[\"MeasureId\"].unique()"
   ]
  },
  {
   "cell_type": "code",
   "execution_count": 17,
   "id": "5c57f4eb",
   "metadata": {},
   "outputs": [
    {
     "data": {
      "text/plain": [
       "array(['Health Outcomes', 'Prevention', 'Disability',\n",
       "       'Health Risk Behaviors', 'Health Status'], dtype=object)"
      ]
     },
     "execution_count": 17,
     "metadata": {},
     "output_type": "execute_result"
    }
   ],
   "source": [
    "data[\"Category\"].unique()"
   ]
  },
  {
   "cell_type": "markdown",
   "id": "77220dcb",
   "metadata": {},
   "source": [
    "# Category of data"
   ]
  },
  {
   "cell_type": "code",
   "execution_count": null,
   "id": "40e8483d",
   "metadata": {},
   "outputs": [],
   "source": [
    "Data_Value_Unit',\n",
    " 'Data_Value_Type',\n",
    " 'Data_Value',\n",
    " 'Data_Value_Footnote_Symbol',\n",
    " 'Data_Value_Footnote',"
   ]
  },
  {
   "cell_type": "code",
   "execution_count": 36,
   "id": "b8739066",
   "metadata": {
    "scrolled": true
   },
   "outputs": [
    {
     "data": {
      "text/plain": [
       "array(['Crude prevalence'], dtype=object)"
      ]
     },
     "execution_count": 36,
     "metadata": {},
     "output_type": "execute_result"
    }
   ],
   "source": [
    "data[data[\"Category\"] == \"Health Status\"][\"Data_Value_Type\"].unique()"
   ]
  },
  {
   "cell_type": "code",
   "execution_count": 32,
   "id": "fe7fadcb",
   "metadata": {},
   "outputs": [
    {
     "data": {
      "text/plain": [
       "array(['Crude prevalence'], dtype=object)"
      ]
     },
     "execution_count": 32,
     "metadata": {},
     "output_type": "execute_result"
    }
   ],
   "source": [
    "data[\"Data_Value_Type\"].unique()"
   ]
  },
  {
   "cell_type": "markdown",
   "id": "53c59c34",
   "metadata": {},
   "source": [
    "# Focusing on one Chronic condition"
   ]
  },
  {
   "cell_type": "code",
   "execution_count": 18,
   "id": "2d356e6b",
   "metadata": {
    "scrolled": true
   },
   "outputs": [],
   "source": [
    "stroke_data = data[data[\"MeasureId\"] == \"STROKE\"]"
   ]
  },
  {
   "cell_type": "code",
   "execution_count": 22,
   "id": "ecb1622d",
   "metadata": {},
   "outputs": [
    {
     "data": {
      "text/plain": [
       "['Year',\n",
       " 'StateAbbr',\n",
       " 'StateDesc',\n",
       " 'CountyName',\n",
       " 'CountyFIPS',\n",
       " 'LocationName',\n",
       " 'DataSource',\n",
       " 'Category',\n",
       " 'Measure',\n",
       " 'Data_Value_Unit',\n",
       " 'Data_Value_Type',\n",
       " 'Data_Value',\n",
       " 'Data_Value_Footnote_Symbol',\n",
       " 'Data_Value_Footnote',\n",
       " 'Low_Confidence_Limit',\n",
       " 'High_Confidence_Limit',\n",
       " 'TotalPopulation',\n",
       " 'Geolocation',\n",
       " 'LocationID',\n",
       " 'CategoryID',\n",
       " 'MeasureId',\n",
       " 'DataValueTypeID',\n",
       " 'Short_Question_Text']"
      ]
     },
     "execution_count": 22,
     "metadata": {},
     "output_type": "execute_result"
    }
   ],
   "source": [
    "stroke_data.columns.tolist()"
   ]
  },
  {
   "cell_type": "code",
   "execution_count": 42,
   "id": "ca13c524",
   "metadata": {},
   "outputs": [
    {
     "data": {
      "text/plain": [
       "array(['Obesity', 'Stroke', 'Arthritis', 'Mammography', 'Depression',\n",
       "       'Vision Disability', 'COPD', 'Dental Visit', 'High Cholesterol',\n",
       "       'Current Smoking', 'Mobility Disability', 'Taking BP Medication',\n",
       "       'Self-care Disability', 'Cholesterol Screening', 'Any Disability',\n",
       "       'Colorectal Cancer Screening', 'All Teeth Lost',\n",
       "       'Physical Inactivity', 'Core preventive services for older women',\n",
       "       'Sleep <7 hours', 'Independent Living Disability',\n",
       "       'Health Insurance', 'Cancer (except skin)',\n",
       "       'Chronic Kidney Disease', 'High Blood Pressure', 'Mental Health',\n",
       "       'Cervical Cancer Screening', 'Binge Drinking', 'General Health',\n",
       "       'Current Asthma', 'Annual Checkup', 'Cognitive Disability',\n",
       "       'Hearing Disability', 'Diabetes',\n",
       "       'Core preventive services for older men', 'Physical Health',\n",
       "       'Coronary Heart Disease'], dtype=object)"
      ]
     },
     "execution_count": 42,
     "metadata": {},
     "output_type": "execute_result"
    }
   ],
   "source": [
    "data[\"Short_Question_Text\"].unique()"
   ]
  },
  {
   "cell_type": "markdown",
   "id": "e7b6ec37",
   "metadata": {},
   "source": [
    "# Simple correlation analysis test"
   ]
  },
  {
   "cell_type": "code",
   "execution_count": 73,
   "id": "9810adee",
   "metadata": {},
   "outputs": [],
   "source": [
    "v1 = data[(data[\"Short_Question_Text\"] == \"COPD\") & (data[\"Year\"] == 2021)].groupby(\"StateDesc\")[\"Data_Value\"].mean()"
   ]
  },
  {
   "cell_type": "code",
   "execution_count": 74,
   "id": "32592be6",
   "metadata": {
    "scrolled": true
   },
   "outputs": [],
   "source": [
    "v2 = data[(data[\"Short_Question_Text\"] == \"Sleep <7 hours\") & (data[\"Year\"] == 2020)].groupby(\"StateDesc\")[\"Data_Value\"].mean()"
   ]
  },
  {
   "cell_type": "code",
   "execution_count": 75,
   "id": "d3f76023",
   "metadata": {
    "scrolled": true
   },
   "outputs": [
    {
     "name": "stderr",
     "output_type": "stream",
     "text": [
      "/var/folders/yq/x6shc62d4rlg1jm8c0xh38h40000gn/T/ipykernel_88546/1154150130.py:2: DeprecationWarning: Please use `spearmanr` from the `scipy.stats` namespace, the `scipy.stats.stats` namespace is deprecated.\n",
      "  sp.stats.spearmanr(v1.loc[common_index],\n"
     ]
    },
    {
     "data": {
      "text/plain": [
       "SignificanceResult(statistic=0.4916686674669868, pvalue=0.00028776186616503974)"
      ]
     },
     "execution_count": 75,
     "metadata": {},
     "output_type": "execute_result"
    }
   ],
   "source": [
    "common_index = list(set(v1.index).intersection(v2.index))\n",
    "sp.stats.spearmanr(v1.loc[common_index],\n",
    "                   v2.loc[common_index])"
   ]
  },
  {
   "cell_type": "markdown",
   "id": "26b9ab3b",
   "metadata": {},
   "source": [
    "# BRFSS survey"
   ]
  },
  {
   "cell_type": "code",
   "execution_count": 113,
   "id": "1634bf8f",
   "metadata": {
    "scrolled": true
   },
   "outputs": [],
   "source": [
    "import numpy as np\n",
    "data_brfss = pd.read_csv(\"/Users/suxian/Data/Class/CSE583/Data/Behavioral_Risk_Factor_Surveillance_System__BRFSS__Historical_Questions_20231024.csv\")"
   ]
  },
  {
   "cell_type": "markdown",
   "id": "7e2ab252",
   "metadata": {
    "jp-MarkdownHeadingCollapsed": true
   },
   "source": [
    "# CDI"
   ]
  },
  {
   "cell_type": "code",
   "execution_count": 2,
   "id": "6bad70b7-8305-476d-b678-982a41b7bbd5",
   "metadata": {},
   "outputs": [],
   "source": [
    "# directory reach\n",
    "import os\n",
    "import sys\n",
    "\n",
    "parentdir = os.path.dirname(os.getcwd())\n",
    "sys.path.append(parentdir)\n",
    "\n",
    "import hdcd"
   ]
  },
  {
   "cell_type": "code",
   "execution_count": 3,
   "id": "01986f2a",
   "metadata": {
    "scrolled": true
   },
   "outputs": [],
   "source": [
    "cdi = pd.read_csv(\"/Users/suxian/Data/course/cse583/project/data/U.S._Chronic_Disease_Indicators__CDI__20231024.csv\")"
   ]
  },
  {
   "cell_type": "code",
   "execution_count": 4,
   "id": "036b9a43-0006-44b5-bdc9-edfa59cac2c7",
   "metadata": {},
   "outputs": [],
   "source": [
    "cdi_dummy = pd.read_csv(\"/Users/suxian/Data/course/cse583/hw0/Project_Test/dummy_data/cdi_dummy.csv\")"
   ]
  },
  {
   "cell_type": "code",
   "execution_count": 5,
   "id": "3f75dd9f-7978-48f9-94e5-77a657650647",
   "metadata": {
    "scrolled": true
   },
   "outputs": [
    {
     "data": {
      "text/html": [
       "<div>\n",
       "<style scoped>\n",
       "    .dataframe tbody tr th:only-of-type {\n",
       "        vertical-align: middle;\n",
       "    }\n",
       "\n",
       "    .dataframe tbody tr th {\n",
       "        vertical-align: top;\n",
       "    }\n",
       "\n",
       "    .dataframe thead th {\n",
       "        text-align: right;\n",
       "    }\n",
       "</style>\n",
       "<table border=\"1\" class=\"dataframe\">\n",
       "  <thead>\n",
       "    <tr style=\"text-align: right;\">\n",
       "      <th></th>\n",
       "      <th>YearStart</th>\n",
       "      <th>YearEnd</th>\n",
       "      <th>LocationAbbr</th>\n",
       "      <th>LocationDesc</th>\n",
       "      <th>DataSource</th>\n",
       "      <th>Topic</th>\n",
       "      <th>Question</th>\n",
       "      <th>Response</th>\n",
       "      <th>DataValueUnit</th>\n",
       "      <th>DataValueType</th>\n",
       "      <th>...</th>\n",
       "      <th>LocationID</th>\n",
       "      <th>TopicID</th>\n",
       "      <th>QuestionID</th>\n",
       "      <th>DataValueTypeID</th>\n",
       "      <th>StratificationCategoryID1</th>\n",
       "      <th>StratificationID1</th>\n",
       "      <th>StratificationCategoryID2</th>\n",
       "      <th>StratificationID2</th>\n",
       "      <th>StratificationCategoryID3</th>\n",
       "      <th>StratificationID3</th>\n",
       "    </tr>\n",
       "  </thead>\n",
       "  <tbody>\n",
       "    <tr>\n",
       "      <th>0</th>\n",
       "      <td>2010</td>\n",
       "      <td>2010</td>\n",
       "      <td>OK</td>\n",
       "      <td>Oklahoma</td>\n",
       "      <td>NVSS</td>\n",
       "      <td>Cardiovascular Disease</td>\n",
       "      <td>Mortality from coronary heart disease</td>\n",
       "      <td>NaN</td>\n",
       "      <td>cases per 100,000</td>\n",
       "      <td>Crude Rate</td>\n",
       "      <td>...</td>\n",
       "      <td>40</td>\n",
       "      <td>CVD</td>\n",
       "      <td>CVD1_3</td>\n",
       "      <td>CRDRATE</td>\n",
       "      <td>GENDER</td>\n",
       "      <td>GENF</td>\n",
       "      <td>NaN</td>\n",
       "      <td>NaN</td>\n",
       "      <td>NaN</td>\n",
       "      <td>NaN</td>\n",
       "    </tr>\n",
       "    <tr>\n",
       "      <th>1</th>\n",
       "      <td>2020</td>\n",
       "      <td>2020</td>\n",
       "      <td>OR</td>\n",
       "      <td>Oregon</td>\n",
       "      <td>NVSS</td>\n",
       "      <td>Cardiovascular Disease</td>\n",
       "      <td>Mortality from coronary heart disease</td>\n",
       "      <td>NaN</td>\n",
       "      <td>cases per 100,000</td>\n",
       "      <td>Age-adjusted Rate</td>\n",
       "      <td>...</td>\n",
       "      <td>41</td>\n",
       "      <td>CVD</td>\n",
       "      <td>CVD1_3</td>\n",
       "      <td>AGEADJRATE</td>\n",
       "      <td>RACE</td>\n",
       "      <td>WHT</td>\n",
       "      <td>NaN</td>\n",
       "      <td>NaN</td>\n",
       "      <td>NaN</td>\n",
       "      <td>NaN</td>\n",
       "    </tr>\n",
       "    <tr>\n",
       "      <th>2</th>\n",
       "      <td>2019</td>\n",
       "      <td>2019</td>\n",
       "      <td>NV</td>\n",
       "      <td>Nevada</td>\n",
       "      <td>NVSS</td>\n",
       "      <td>Cardiovascular Disease</td>\n",
       "      <td>Mortality from coronary heart disease</td>\n",
       "      <td>NaN</td>\n",
       "      <td>cases per 100,000</td>\n",
       "      <td>Crude Rate</td>\n",
       "      <td>...</td>\n",
       "      <td>32</td>\n",
       "      <td>CVD</td>\n",
       "      <td>CVD1_3</td>\n",
       "      <td>CRDRATE</td>\n",
       "      <td>OVERALL</td>\n",
       "      <td>OVR</td>\n",
       "      <td>NaN</td>\n",
       "      <td>NaN</td>\n",
       "      <td>NaN</td>\n",
       "      <td>NaN</td>\n",
       "    </tr>\n",
       "    <tr>\n",
       "      <th>3</th>\n",
       "      <td>2020</td>\n",
       "      <td>2020</td>\n",
       "      <td>TN</td>\n",
       "      <td>Tennessee</td>\n",
       "      <td>NVSS</td>\n",
       "      <td>Cardiovascular Disease</td>\n",
       "      <td>Mortality from coronary heart disease</td>\n",
       "      <td>NaN</td>\n",
       "      <td>Number</td>\n",
       "      <td>Number</td>\n",
       "      <td>...</td>\n",
       "      <td>47</td>\n",
       "      <td>CVD</td>\n",
       "      <td>CVD1_3</td>\n",
       "      <td>NMBR</td>\n",
       "      <td>OVERALL</td>\n",
       "      <td>OVR</td>\n",
       "      <td>NaN</td>\n",
       "      <td>NaN</td>\n",
       "      <td>NaN</td>\n",
       "      <td>NaN</td>\n",
       "    </tr>\n",
       "    <tr>\n",
       "      <th>4</th>\n",
       "      <td>2020</td>\n",
       "      <td>2020</td>\n",
       "      <td>VA</td>\n",
       "      <td>Virginia</td>\n",
       "      <td>NVSS</td>\n",
       "      <td>Cardiovascular Disease</td>\n",
       "      <td>Mortality from coronary heart disease</td>\n",
       "      <td>NaN</td>\n",
       "      <td>Number</td>\n",
       "      <td>Number</td>\n",
       "      <td>...</td>\n",
       "      <td>51</td>\n",
       "      <td>CVD</td>\n",
       "      <td>CVD1_3</td>\n",
       "      <td>NMBR</td>\n",
       "      <td>RACE</td>\n",
       "      <td>BLK</td>\n",
       "      <td>NaN</td>\n",
       "      <td>NaN</td>\n",
       "      <td>NaN</td>\n",
       "      <td>NaN</td>\n",
       "    </tr>\n",
       "    <tr>\n",
       "      <th>...</th>\n",
       "      <td>...</td>\n",
       "      <td>...</td>\n",
       "      <td>...</td>\n",
       "      <td>...</td>\n",
       "      <td>...</td>\n",
       "      <td>...</td>\n",
       "      <td>...</td>\n",
       "      <td>...</td>\n",
       "      <td>...</td>\n",
       "      <td>...</td>\n",
       "      <td>...</td>\n",
       "      <td>...</td>\n",
       "      <td>...</td>\n",
       "      <td>...</td>\n",
       "      <td>...</td>\n",
       "      <td>...</td>\n",
       "      <td>...</td>\n",
       "      <td>...</td>\n",
       "      <td>...</td>\n",
       "      <td>...</td>\n",
       "      <td>...</td>\n",
       "    </tr>\n",
       "    <tr>\n",
       "      <th>29828</th>\n",
       "      <td>2020</td>\n",
       "      <td>2020</td>\n",
       "      <td>WY</td>\n",
       "      <td>Wyoming</td>\n",
       "      <td>BRFSS</td>\n",
       "      <td>Overarching Conditions</td>\n",
       "      <td>Prevalence of sufficient sleep among adults ag...</td>\n",
       "      <td>NaN</td>\n",
       "      <td>%</td>\n",
       "      <td>Crude Prevalence</td>\n",
       "      <td>...</td>\n",
       "      <td>56</td>\n",
       "      <td>OVC</td>\n",
       "      <td>OVC8_0</td>\n",
       "      <td>CRDPREV</td>\n",
       "      <td>OVERALL</td>\n",
       "      <td>OVR</td>\n",
       "      <td>NaN</td>\n",
       "      <td>NaN</td>\n",
       "      <td>NaN</td>\n",
       "      <td>NaN</td>\n",
       "    </tr>\n",
       "    <tr>\n",
       "      <th>29829</th>\n",
       "      <td>2020</td>\n",
       "      <td>2020</td>\n",
       "      <td>WY</td>\n",
       "      <td>Wyoming</td>\n",
       "      <td>BRFSS</td>\n",
       "      <td>Alcohol</td>\n",
       "      <td>Binge drinking frequency among adults aged &gt;= ...</td>\n",
       "      <td>NaN</td>\n",
       "      <td>Number</td>\n",
       "      <td>Age-adjusted Mean</td>\n",
       "      <td>...</td>\n",
       "      <td>56</td>\n",
       "      <td>ALC</td>\n",
       "      <td>ALC3_0</td>\n",
       "      <td>AGEADJMEAN</td>\n",
       "      <td>RACE</td>\n",
       "      <td>WHT</td>\n",
       "      <td>NaN</td>\n",
       "      <td>NaN</td>\n",
       "      <td>NaN</td>\n",
       "      <td>NaN</td>\n",
       "    </tr>\n",
       "    <tr>\n",
       "      <th>29830</th>\n",
       "      <td>2020</td>\n",
       "      <td>2020</td>\n",
       "      <td>WY</td>\n",
       "      <td>Wyoming</td>\n",
       "      <td>BRFSS</td>\n",
       "      <td>Overarching Conditions</td>\n",
       "      <td>Prevalence of sufficient sleep among adults ag...</td>\n",
       "      <td>NaN</td>\n",
       "      <td>%</td>\n",
       "      <td>Age-adjusted Prevalence</td>\n",
       "      <td>...</td>\n",
       "      <td>56</td>\n",
       "      <td>OVC</td>\n",
       "      <td>OVC8_0</td>\n",
       "      <td>AGEADJPREV</td>\n",
       "      <td>RACE</td>\n",
       "      <td>HIS</td>\n",
       "      <td>NaN</td>\n",
       "      <td>NaN</td>\n",
       "      <td>NaN</td>\n",
       "      <td>NaN</td>\n",
       "    </tr>\n",
       "    <tr>\n",
       "      <th>29831</th>\n",
       "      <td>2020</td>\n",
       "      <td>2020</td>\n",
       "      <td>WY</td>\n",
       "      <td>Wyoming</td>\n",
       "      <td>BRFSS</td>\n",
       "      <td>Alcohol</td>\n",
       "      <td>Binge drinking frequency among adults aged &gt;= ...</td>\n",
       "      <td>NaN</td>\n",
       "      <td>Number</td>\n",
       "      <td>Mean</td>\n",
       "      <td>...</td>\n",
       "      <td>56</td>\n",
       "      <td>ALC</td>\n",
       "      <td>ALC3_0</td>\n",
       "      <td>MEAN</td>\n",
       "      <td>OVERALL</td>\n",
       "      <td>OVR</td>\n",
       "      <td>NaN</td>\n",
       "      <td>NaN</td>\n",
       "      <td>NaN</td>\n",
       "      <td>NaN</td>\n",
       "    </tr>\n",
       "    <tr>\n",
       "      <th>29832</th>\n",
       "      <td>2020</td>\n",
       "      <td>2020</td>\n",
       "      <td>WY</td>\n",
       "      <td>Wyoming</td>\n",
       "      <td>BRFSS</td>\n",
       "      <td>Alcohol</td>\n",
       "      <td>Binge drinking frequency among adults aged &gt;= ...</td>\n",
       "      <td>NaN</td>\n",
       "      <td>Number</td>\n",
       "      <td>Mean</td>\n",
       "      <td>...</td>\n",
       "      <td>56</td>\n",
       "      <td>ALC</td>\n",
       "      <td>ALC3_0</td>\n",
       "      <td>MEAN</td>\n",
       "      <td>RACE</td>\n",
       "      <td>OTH</td>\n",
       "      <td>NaN</td>\n",
       "      <td>NaN</td>\n",
       "      <td>NaN</td>\n",
       "      <td>NaN</td>\n",
       "    </tr>\n",
       "  </tbody>\n",
       "</table>\n",
       "<p>29833 rows × 34 columns</p>\n",
       "</div>"
      ],
      "text/plain": [
       "       YearStart  YearEnd LocationAbbr LocationDesc DataSource  \\\n",
       "0           2010     2010           OK     Oklahoma       NVSS   \n",
       "1           2020     2020           OR       Oregon       NVSS   \n",
       "2           2019     2019           NV       Nevada       NVSS   \n",
       "3           2020     2020           TN    Tennessee       NVSS   \n",
       "4           2020     2020           VA     Virginia       NVSS   \n",
       "...          ...      ...          ...          ...        ...   \n",
       "29828       2020     2020           WY      Wyoming      BRFSS   \n",
       "29829       2020     2020           WY      Wyoming      BRFSS   \n",
       "29830       2020     2020           WY      Wyoming      BRFSS   \n",
       "29831       2020     2020           WY      Wyoming      BRFSS   \n",
       "29832       2020     2020           WY      Wyoming      BRFSS   \n",
       "\n",
       "                        Topic  \\\n",
       "0      Cardiovascular Disease   \n",
       "1      Cardiovascular Disease   \n",
       "2      Cardiovascular Disease   \n",
       "3      Cardiovascular Disease   \n",
       "4      Cardiovascular Disease   \n",
       "...                       ...   \n",
       "29828  Overarching Conditions   \n",
       "29829                 Alcohol   \n",
       "29830  Overarching Conditions   \n",
       "29831                 Alcohol   \n",
       "29832                 Alcohol   \n",
       "\n",
       "                                                Question  Response  \\\n",
       "0                  Mortality from coronary heart disease       NaN   \n",
       "1                  Mortality from coronary heart disease       NaN   \n",
       "2                  Mortality from coronary heart disease       NaN   \n",
       "3                  Mortality from coronary heart disease       NaN   \n",
       "4                  Mortality from coronary heart disease       NaN   \n",
       "...                                                  ...       ...   \n",
       "29828  Prevalence of sufficient sleep among adults ag...       NaN   \n",
       "29829  Binge drinking frequency among adults aged >= ...       NaN   \n",
       "29830  Prevalence of sufficient sleep among adults ag...       NaN   \n",
       "29831  Binge drinking frequency among adults aged >= ...       NaN   \n",
       "29832  Binge drinking frequency among adults aged >= ...       NaN   \n",
       "\n",
       "           DataValueUnit            DataValueType  ...  LocationID  TopicID  \\\n",
       "0      cases per 100,000               Crude Rate  ...          40      CVD   \n",
       "1      cases per 100,000        Age-adjusted Rate  ...          41      CVD   \n",
       "2      cases per 100,000               Crude Rate  ...          32      CVD   \n",
       "3                 Number                   Number  ...          47      CVD   \n",
       "4                 Number                   Number  ...          51      CVD   \n",
       "...                  ...                      ...  ...         ...      ...   \n",
       "29828                  %         Crude Prevalence  ...          56      OVC   \n",
       "29829             Number        Age-adjusted Mean  ...          56      ALC   \n",
       "29830                  %  Age-adjusted Prevalence  ...          56      OVC   \n",
       "29831             Number                     Mean  ...          56      ALC   \n",
       "29832             Number                     Mean  ...          56      ALC   \n",
       "\n",
       "      QuestionID DataValueTypeID  StratificationCategoryID1  \\\n",
       "0         CVD1_3         CRDRATE                     GENDER   \n",
       "1         CVD1_3      AGEADJRATE                       RACE   \n",
       "2         CVD1_3         CRDRATE                    OVERALL   \n",
       "3         CVD1_3            NMBR                    OVERALL   \n",
       "4         CVD1_3            NMBR                       RACE   \n",
       "...          ...             ...                        ...   \n",
       "29828     OVC8_0         CRDPREV                    OVERALL   \n",
       "29829     ALC3_0      AGEADJMEAN                       RACE   \n",
       "29830     OVC8_0      AGEADJPREV                       RACE   \n",
       "29831     ALC3_0            MEAN                    OVERALL   \n",
       "29832     ALC3_0            MEAN                       RACE   \n",
       "\n",
       "       StratificationID1 StratificationCategoryID2 StratificationID2  \\\n",
       "0                   GENF                       NaN               NaN   \n",
       "1                    WHT                       NaN               NaN   \n",
       "2                    OVR                       NaN               NaN   \n",
       "3                    OVR                       NaN               NaN   \n",
       "4                    BLK                       NaN               NaN   \n",
       "...                  ...                       ...               ...   \n",
       "29828                OVR                       NaN               NaN   \n",
       "29829                WHT                       NaN               NaN   \n",
       "29830                HIS                       NaN               NaN   \n",
       "29831                OVR                       NaN               NaN   \n",
       "29832                OTH                       NaN               NaN   \n",
       "\n",
       "       StratificationCategoryID3  StratificationID3  \n",
       "0                            NaN                NaN  \n",
       "1                            NaN                NaN  \n",
       "2                            NaN                NaN  \n",
       "3                            NaN                NaN  \n",
       "4                            NaN                NaN  \n",
       "...                          ...                ...  \n",
       "29828                        NaN                NaN  \n",
       "29829                        NaN                NaN  \n",
       "29830                        NaN                NaN  \n",
       "29831                        NaN                NaN  \n",
       "29832                        NaN                NaN  \n",
       "\n",
       "[29833 rows x 34 columns]"
      ]
     },
     "execution_count": 5,
     "metadata": {},
     "output_type": "execute_result"
    }
   ],
   "source": [
    "cdi_dummy.copy()"
   ]
  },
  {
   "cell_type": "code",
   "execution_count": 5,
   "id": "035d74d5-071c-4c62-9feb-399a4bfbae25",
   "metadata": {
    "scrolled": true
   },
   "outputs": [
    {
     "data": {
      "text/html": [
       "\n",
       "<style>\n",
       "  #altair-viz-c142a0b019c247e194dfbfe8ca6a1fac.vega-embed {\n",
       "    width: 100%;\n",
       "    display: flex;\n",
       "  }\n",
       "\n",
       "  #altair-viz-c142a0b019c247e194dfbfe8ca6a1fac.vega-embed details,\n",
       "  #altair-viz-c142a0b019c247e194dfbfe8ca6a1fac.vega-embed details summary {\n",
       "    position: relative;\n",
       "  }\n",
       "</style>\n",
       "<div id=\"altair-viz-c142a0b019c247e194dfbfe8ca6a1fac\"></div>\n",
       "<script type=\"text/javascript\">\n",
       "  var VEGA_DEBUG = (typeof VEGA_DEBUG == \"undefined\") ? {} : VEGA_DEBUG;\n",
       "  (function(spec, embedOpt){\n",
       "    let outputDiv = document.currentScript.previousElementSibling;\n",
       "    if (outputDiv.id !== \"altair-viz-c142a0b019c247e194dfbfe8ca6a1fac\") {\n",
       "      outputDiv = document.getElementById(\"altair-viz-c142a0b019c247e194dfbfe8ca6a1fac\");\n",
       "    }\n",
       "    const paths = {\n",
       "      \"vega\": \"https://cdn.jsdelivr.net/npm/vega@5?noext\",\n",
       "      \"vega-lib\": \"https://cdn.jsdelivr.net/npm/vega-lib?noext\",\n",
       "      \"vega-lite\": \"https://cdn.jsdelivr.net/npm/vega-lite@5.16.3?noext\",\n",
       "      \"vega-embed\": \"https://cdn.jsdelivr.net/npm/vega-embed@6?noext\",\n",
       "    };\n",
       "\n",
       "    function maybeLoadScript(lib, version) {\n",
       "      var key = `${lib.replace(\"-\", \"\")}_version`;\n",
       "      return (VEGA_DEBUG[key] == version) ?\n",
       "        Promise.resolve(paths[lib]) :\n",
       "        new Promise(function(resolve, reject) {\n",
       "          var s = document.createElement('script');\n",
       "          document.getElementsByTagName(\"head\")[0].appendChild(s);\n",
       "          s.async = true;\n",
       "          s.onload = () => {\n",
       "            VEGA_DEBUG[key] = version;\n",
       "            return resolve(paths[lib]);\n",
       "          };\n",
       "          s.onerror = () => reject(`Error loading script: ${paths[lib]}`);\n",
       "          s.src = paths[lib];\n",
       "        });\n",
       "    }\n",
       "\n",
       "    function showError(err) {\n",
       "      outputDiv.innerHTML = `<div class=\"error\" style=\"color:red;\">${err}</div>`;\n",
       "      throw err;\n",
       "    }\n",
       "\n",
       "    function displayChart(vegaEmbed) {\n",
       "      vegaEmbed(outputDiv, spec, embedOpt)\n",
       "        .catch(err => showError(`Javascript Error: ${err.message}<br>This usually means there's a typo in your chart specification. See the javascript console for the full traceback.`));\n",
       "    }\n",
       "\n",
       "    if(typeof define === \"function\" && define.amd) {\n",
       "      requirejs.config({paths});\n",
       "      require([\"vega-embed\"], displayChart, err => showError(`Error loading script: ${err.message}`));\n",
       "    } else {\n",
       "      maybeLoadScript(\"vega\", \"5\")\n",
       "        .then(() => maybeLoadScript(\"vega-lite\", \"5.16.3\"))\n",
       "        .then(() => maybeLoadScript(\"vega-embed\", \"6\"))\n",
       "        .catch(showError)\n",
       "        .then(() => displayChart(vegaEmbed));\n",
       "    }\n",
       "  })({\"config\": {\"view\": {\"continuousWidth\": 300, \"continuousHeight\": 300}}, \"layer\": [{\"data\": {\"url\": \"https://cdn.jsdelivr.net/npm/vega-datasets@v1.29.0/data/us-10m.json\", \"format\": {\"feature\": \"states\", \"type\": \"topojson\"}}, \"mark\": {\"type\": \"geoshape\", \"fill\": \"lightgray\", \"stroke\": \"white\"}, \"projection\": {\"type\": \"albersUsa\"}}, {\"data\": {\"name\": \"data-30e867aa87d176e2a01a64745824744a\"}, \"mark\": {\"type\": \"geoshape\"}, \"encoding\": {\"color\": {\"field\": \"DataValue\", \"scale\": {\"domainMax\": 81.3, \"domainMin\": 71.9, \"scheme\": \"bluepurple\"}, \"type\": \"quantitative\"}, \"tooltip\": [{\"field\": \"LocationDesc\", \"type\": \"nominal\"}, {\"field\": \"YearStart\", \"type\": \"quantitative\"}, {\"field\": \"DataValue\", \"type\": \"quantitative\"}]}, \"name\": \"view_1\", \"projection\": {\"type\": \"albersUsa\"}, \"transform\": [{\"lookup\": \"id\", \"from\": {\"data\": {\"url\": \"https://cdn.jsdelivr.net/npm/vega-datasets@v1.29.0/data/us-10m.json\", \"format\": {\"feature\": \"states\", \"type\": \"topojson\"}}, \"key\": \"id\", \"fields\": [\"id\", \"type\", \"properties\", \"geometry\"]}}, {\"filter\": {\"param\": \"param_1\"}}]}], \"height\": 720, \"params\": [{\"name\": \"param_1\", \"select\": {\"type\": \"point\", \"fields\": [\"YearStart\"]}, \"bind\": {\"input\": \"range\", \"max\": 2020.0, \"min\": 2001.0, \"name\": \"YearStart\", \"step\": 1}, \"views\": [\"view_1\"]}], \"width\": 720, \"$schema\": \"https://vega.github.io/schema/vega-lite/v5.16.3.json\", \"datasets\": {\"data-30e867aa87d176e2a01a64745824744a\": [{\"YearStart\": 2018, \"YearEnd\": 2018, \"LocationAbbr\": \"NM\", \"LocationDesc\": \"New Mexico\", \"DataSource\": \"NVSS, Mortality\", \"Topic\": \"Overarching Conditions\", \"Question\": \"Life expectancy at birth\", \"Response\": null, \"DataValueUnit\": \"Years\", \"DataValueType\": \"Number\", \"DataValue\": 77.2, \"DataValueAlt\": 77.2, \"DataValueFootnoteSymbol\": NaN, \"DatavalueFootnote\": NaN, \"LowConfidenceLimit\": 77.0, \"HighConfidenceLimit\": 77.4, \"StratificationCategory1\": \"Overall\", \"Stratification1\": \"Overall\", \"StratificationCategory2\": null, \"Stratification2\": null, \"StratificationCategory3\": null, \"Stratification3\": null, \"GeoLocation\": \"POINT (-106.24058098499967 34.52088095200048)\", \"ResponseID\": null, \"LocationID\": 35, \"TopicID\": \"OVC\", \"QuestionID\": \"OVC4_1\", \"DataValueTypeID\": \"NMBR\", \"StratificationCategoryID1\": \"OVERALL\", \"StratificationID1\": \"OVR\", \"StratificationCategoryID2\": null, \"StratificationID2\": null, \"StratificationCategoryID3\": null, \"StratificationID3\": null, \"id\": 35}, {\"YearStart\": 2018, \"YearEnd\": 2018, \"LocationAbbr\": \"MD\", \"LocationDesc\": \"Maryland\", \"DataSource\": \"NVSS, Mortality\", \"Topic\": \"Overarching Conditions\", \"Question\": \"Life expectancy at birth\", \"Response\": null, \"DataValueUnit\": \"Years\", \"DataValueType\": \"Number\", \"DataValue\": 78.5, \"DataValueAlt\": 78.5, \"DataValueFootnoteSymbol\": NaN, \"DatavalueFootnote\": NaN, \"LowConfidenceLimit\": 78.4, \"HighConfidenceLimit\": 78.6, \"StratificationCategory1\": \"Overall\", \"Stratification1\": \"Overall\", \"StratificationCategory2\": null, \"Stratification2\": null, \"StratificationCategory3\": null, \"Stratification3\": null, \"GeoLocation\": \"POINT (-76.60926011099963 39.29058096400047)\", \"ResponseID\": null, \"LocationID\": 24, \"TopicID\": \"OVC\", \"QuestionID\": \"OVC4_1\", \"DataValueTypeID\": \"NMBR\", \"StratificationCategoryID1\": \"OVERALL\", \"StratificationID1\": \"OVR\", \"StratificationCategoryID2\": null, \"StratificationID2\": null, \"StratificationCategoryID3\": null, \"StratificationID3\": null, \"id\": 24}, {\"YearStart\": 2009, \"YearEnd\": 2009, \"LocationAbbr\": \"ME\", \"LocationDesc\": \"Maine\", \"DataSource\": \"NVSS, Mortality\", \"Topic\": \"Overarching Conditions\", \"Question\": \"Life expectancy at birth\", \"Response\": null, \"DataValueUnit\": \"Years\", \"DataValueType\": \"Number\", \"DataValue\": 79.2, \"DataValueAlt\": 79.2, \"DataValueFootnoteSymbol\": NaN, \"DatavalueFootnote\": NaN, \"LowConfidenceLimit\": null, \"HighConfidenceLimit\": null, \"StratificationCategory1\": \"Overall\", \"Stratification1\": \"Overall\", \"StratificationCategory2\": null, \"Stratification2\": null, \"StratificationCategory3\": null, \"Stratification3\": null, \"GeoLocation\": \"POINT (-68.98503133599962 45.254228894000505)\", \"ResponseID\": null, \"LocationID\": 23, \"TopicID\": \"OVC\", \"QuestionID\": \"OVC4_1\", \"DataValueTypeID\": \"NMBR\", \"StratificationCategoryID1\": \"OVERALL\", \"StratificationID1\": \"OVR\", \"StratificationCategoryID2\": null, \"StratificationID2\": null, \"StratificationCategoryID3\": null, \"StratificationID3\": null, \"id\": 23}, {\"YearStart\": 2009, \"YearEnd\": 2009, \"LocationAbbr\": \"IA\", \"LocationDesc\": \"Iowa\", \"DataSource\": \"NVSS, Mortality\", \"Topic\": \"Overarching Conditions\", \"Question\": \"Life expectancy at birth\", \"Response\": null, \"DataValueUnit\": \"Years\", \"DataValueType\": \"Number\", \"DataValue\": 79.7, \"DataValueAlt\": 79.7, \"DataValueFootnoteSymbol\": NaN, \"DatavalueFootnote\": NaN, \"LowConfidenceLimit\": null, \"HighConfidenceLimit\": null, \"StratificationCategory1\": \"Overall\", \"Stratification1\": \"Overall\", \"StratificationCategory2\": null, \"Stratification2\": null, \"StratificationCategory3\": null, \"Stratification3\": null, \"GeoLocation\": \"POINT (-93.81649055599968 42.46940091300047)\", \"ResponseID\": null, \"LocationID\": 19, \"TopicID\": \"OVC\", \"QuestionID\": \"OVC4_1\", \"DataValueTypeID\": \"NMBR\", \"StratificationCategoryID1\": \"OVERALL\", \"StratificationID1\": \"OVR\", \"StratificationCategoryID2\": null, \"StratificationID2\": null, \"StratificationCategoryID3\": null, \"StratificationID3\": null, \"id\": 19}, {\"YearStart\": 2001, \"YearEnd\": 2001, \"LocationAbbr\": \"NH\", \"LocationDesc\": \"New Hampshire\", \"DataSource\": \"NVSS, Mortality\", \"Topic\": \"Overarching Conditions\", \"Question\": \"Life expectancy at birth\", \"Response\": null, \"DataValueUnit\": \"Years\", \"DataValueType\": \"Number\", \"DataValue\": 78.8, \"DataValueAlt\": 78.8, \"DataValueFootnoteSymbol\": NaN, \"DatavalueFootnote\": NaN, \"LowConfidenceLimit\": null, \"HighConfidenceLimit\": null, \"StratificationCategory1\": \"Overall\", \"Stratification1\": \"Overall\", \"StratificationCategory2\": null, \"Stratification2\": null, \"StratificationCategory3\": null, \"Stratification3\": null, \"GeoLocation\": \"POINT (-71.50036091999965 43.65595011300047)\", \"ResponseID\": null, \"LocationID\": 33, \"TopicID\": \"OVC\", \"QuestionID\": \"OVC4_1\", \"DataValueTypeID\": \"NMBR\", \"StratificationCategoryID1\": \"OVERALL\", \"StratificationID1\": \"OVR\", \"StratificationCategoryID2\": null, \"StratificationID2\": null, \"StratificationCategoryID3\": null, \"StratificationID3\": null, \"id\": 33}, {\"YearStart\": 2001, \"YearEnd\": 2001, \"LocationAbbr\": \"IN\", \"LocationDesc\": \"Indiana\", \"DataSource\": \"NVSS, Mortality\", \"Topic\": \"Overarching Conditions\", \"Question\": \"Life expectancy at birth\", \"Response\": null, \"DataValueUnit\": \"Years\", \"DataValueType\": \"Number\", \"DataValue\": 76.5, \"DataValueAlt\": 76.5, \"DataValueFootnoteSymbol\": NaN, \"DatavalueFootnote\": NaN, \"LowConfidenceLimit\": null, \"HighConfidenceLimit\": null, \"StratificationCategory1\": \"Overall\", \"Stratification1\": \"Overall\", \"StratificationCategory2\": null, \"Stratification2\": null, \"StratificationCategory3\": null, \"Stratification3\": null, \"GeoLocation\": \"POINT (-86.14996019399968 39.766910452000445)\", \"ResponseID\": null, \"LocationID\": 18, \"TopicID\": \"OVC\", \"QuestionID\": \"OVC4_1\", \"DataValueTypeID\": \"NMBR\", \"StratificationCategoryID1\": \"OVERALL\", \"StratificationID1\": \"OVR\", \"StratificationCategoryID2\": null, \"StratificationID2\": null, \"StratificationCategoryID3\": null, \"StratificationID3\": null, \"id\": 18}, {\"YearStart\": 2019, \"YearEnd\": 2019, \"LocationAbbr\": \"WI\", \"LocationDesc\": \"Wisconsin\", \"DataSource\": \"NVSS, Mortality\", \"Topic\": \"Overarching Conditions\", \"Question\": \"Life expectancy at birth\", \"Response\": null, \"DataValueUnit\": \"Years\", \"DataValueType\": \"Number\", \"DataValue\": 79.3, \"DataValueAlt\": 79.3, \"DataValueFootnoteSymbol\": NaN, \"DatavalueFootnote\": NaN, \"LowConfidenceLimit\": 79.2, \"HighConfidenceLimit\": 79.4, \"StratificationCategory1\": \"Overall\", \"Stratification1\": \"Overall\", \"StratificationCategory2\": null, \"Stratification2\": null, \"StratificationCategory3\": null, \"Stratification3\": null, \"GeoLocation\": \"POINT (-89.81637074199966 44.39319117400049)\", \"ResponseID\": null, \"LocationID\": 55, \"TopicID\": \"OVC\", \"QuestionID\": \"OVC4_1\", \"DataValueTypeID\": \"NMBR\", \"StratificationCategoryID1\": \"OVERALL\", \"StratificationID1\": \"OVR\", \"StratificationCategoryID2\": null, \"StratificationID2\": null, \"StratificationCategoryID3\": null, \"StratificationID3\": null, \"id\": 55}, {\"YearStart\": 2020, \"YearEnd\": 2020, \"LocationAbbr\": \"NH\", \"LocationDesc\": \"New Hampshire\", \"DataSource\": \"NVSS, Mortality\", \"Topic\": \"Overarching Conditions\", \"Question\": \"Life expectancy at birth\", \"Response\": null, \"DataValueUnit\": \"Years\", \"DataValueType\": \"Number\", \"DataValue\": 79.0, \"DataValueAlt\": 79.0, \"DataValueFootnoteSymbol\": NaN, \"DatavalueFootnote\": NaN, \"LowConfidenceLimit\": 78.8, \"HighConfidenceLimit\": 79.2, \"StratificationCategory1\": \"Overall\", \"Stratification1\": \"Overall\", \"StratificationCategory2\": null, \"Stratification2\": null, \"StratificationCategory3\": null, \"Stratification3\": null, \"GeoLocation\": \"POINT (-71.50036091999965 43.65595011300047)\", \"ResponseID\": null, \"LocationID\": 33, \"TopicID\": \"OVC\", \"QuestionID\": \"OVC4_1\", \"DataValueTypeID\": \"NMBR\", \"StratificationCategoryID1\": \"OVERALL\", \"StratificationID1\": \"OVR\", \"StratificationCategoryID2\": null, \"StratificationID2\": null, \"StratificationCategoryID3\": null, \"StratificationID3\": null, \"id\": 33}, {\"YearStart\": 2001, \"YearEnd\": 2001, \"LocationAbbr\": \"AL\", \"LocationDesc\": \"Alabama\", \"DataSource\": \"NVSS, Mortality\", \"Topic\": \"Overarching Conditions\", \"Question\": \"Life expectancy at birth\", \"Response\": null, \"DataValueUnit\": \"Years\", \"DataValueType\": \"Number\", \"DataValue\": 74.8, \"DataValueAlt\": 74.8, \"DataValueFootnoteSymbol\": NaN, \"DatavalueFootnote\": NaN, \"LowConfidenceLimit\": null, \"HighConfidenceLimit\": null, \"StratificationCategory1\": \"Overall\", \"Stratification1\": \"Overall\", \"StratificationCategory2\": null, \"Stratification2\": null, \"StratificationCategory3\": null, \"Stratification3\": null, \"GeoLocation\": \"POINT (-86.63186076199969 32.84057112200048)\", \"ResponseID\": null, \"LocationID\": 1, \"TopicID\": \"OVC\", \"QuestionID\": \"OVC4_1\", \"DataValueTypeID\": \"NMBR\", \"StratificationCategoryID1\": \"OVERALL\", \"StratificationID1\": \"OVR\", \"StratificationCategoryID2\": null, \"StratificationID2\": null, \"StratificationCategoryID3\": null, \"StratificationID3\": null, \"id\": 1}, {\"YearStart\": 2001, \"YearEnd\": 2001, \"LocationAbbr\": \"CA\", \"LocationDesc\": \"California\", \"DataSource\": \"NVSS, Mortality\", \"Topic\": \"Overarching Conditions\", \"Question\": \"Life expectancy at birth\", \"Response\": null, \"DataValueUnit\": \"Years\", \"DataValueType\": \"Number\", \"DataValue\": 78.8, \"DataValueAlt\": 78.8, \"DataValueFootnoteSymbol\": NaN, \"DatavalueFootnote\": NaN, \"LowConfidenceLimit\": null, \"HighConfidenceLimit\": null, \"StratificationCategory1\": \"Overall\", \"Stratification1\": \"Overall\", \"StratificationCategory2\": null, \"Stratification2\": null, \"StratificationCategory3\": null, \"Stratification3\": null, \"GeoLocation\": \"POINT (-120.99999953799971 37.63864012300047)\", \"ResponseID\": null, \"LocationID\": 6, \"TopicID\": \"OVC\", \"QuestionID\": \"OVC4_1\", \"DataValueTypeID\": \"NMBR\", \"StratificationCategoryID1\": \"OVERALL\", \"StratificationID1\": \"OVR\", \"StratificationCategoryID2\": null, \"StratificationID2\": null, \"StratificationCategoryID3\": null, \"StratificationID3\": null, \"id\": 6}, {\"YearStart\": 2020, \"YearEnd\": 2020, \"LocationAbbr\": \"ME\", \"LocationDesc\": \"Maine\", \"DataSource\": \"NVSS, Mortality\", \"Topic\": \"Overarching Conditions\", \"Question\": \"Life expectancy at birth\", \"Response\": null, \"DataValueUnit\": \"Years\", \"DataValueType\": \"Number\", \"DataValue\": 77.8, \"DataValueAlt\": 77.8, \"DataValueFootnoteSymbol\": NaN, \"DatavalueFootnote\": NaN, \"LowConfidenceLimit\": 77.6, \"HighConfidenceLimit\": 78.0, \"StratificationCategory1\": \"Overall\", \"Stratification1\": \"Overall\", \"StratificationCategory2\": null, \"Stratification2\": null, \"StratificationCategory3\": null, \"Stratification3\": null, \"GeoLocation\": \"POINT (-68.98503133599962 45.254228894000505)\", \"ResponseID\": null, \"LocationID\": 23, \"TopicID\": \"OVC\", \"QuestionID\": \"OVC4_1\", \"DataValueTypeID\": \"NMBR\", \"StratificationCategoryID1\": \"OVERALL\", \"StratificationID1\": \"OVR\", \"StratificationCategoryID2\": null, \"StratificationID2\": null, \"StratificationCategoryID3\": null, \"StratificationID3\": null, \"id\": 23}, {\"YearStart\": 2019, \"YearEnd\": 2019, \"LocationAbbr\": \"GA\", \"LocationDesc\": \"Georgia\", \"DataSource\": \"NVSS, Mortality\", \"Topic\": \"Overarching Conditions\", \"Question\": \"Life expectancy at birth\", \"Response\": null, \"DataValueUnit\": \"Years\", \"DataValueType\": \"Number\", \"DataValue\": 77.4, \"DataValueAlt\": 77.4, \"DataValueFootnoteSymbol\": NaN, \"DatavalueFootnote\": NaN, \"LowConfidenceLimit\": 77.3, \"HighConfidenceLimit\": 77.5, \"StratificationCategory1\": \"Overall\", \"Stratification1\": \"Overall\", \"StratificationCategory2\": null, \"Stratification2\": null, \"StratificationCategory3\": null, \"Stratification3\": null, \"GeoLocation\": \"POINT (-83.62758034599966 32.83968109300048)\", \"ResponseID\": null, \"LocationID\": 13, \"TopicID\": \"OVC\", \"QuestionID\": \"OVC4_1\", \"DataValueTypeID\": \"NMBR\", \"StratificationCategoryID1\": \"OVERALL\", \"StratificationID1\": \"OVR\", \"StratificationCategoryID2\": null, \"StratificationID2\": null, \"StratificationCategoryID3\": null, \"StratificationID3\": null, \"id\": 13}, {\"YearStart\": 2019, \"YearEnd\": 2019, \"LocationAbbr\": \"ID\", \"LocationDesc\": \"Idaho\", \"DataSource\": \"NVSS, Mortality\", \"Topic\": \"Overarching Conditions\", \"Question\": \"Life expectancy at birth\", \"Response\": null, \"DataValueUnit\": \"Years\", \"DataValueType\": \"Number\", \"DataValue\": 79.5, \"DataValueAlt\": 79.5, \"DataValueFootnoteSymbol\": NaN, \"DatavalueFootnote\": NaN, \"LowConfidenceLimit\": 79.3, \"HighConfidenceLimit\": 79.7, \"StratificationCategory1\": \"Overall\", \"Stratification1\": \"Overall\", \"StratificationCategory2\": null, \"Stratification2\": null, \"StratificationCategory3\": null, \"Stratification3\": null, \"GeoLocation\": \"POINT (-114.3637300419997 43.682630005000476)\", \"ResponseID\": null, \"LocationID\": 16, \"TopicID\": \"OVC\", \"QuestionID\": \"OVC4_1\", \"DataValueTypeID\": \"NMBR\", \"StratificationCategoryID1\": \"OVERALL\", \"StratificationID1\": \"OVR\", \"StratificationCategoryID2\": null, \"StratificationID2\": null, \"StratificationCategoryID3\": null, \"StratificationID3\": null, \"id\": 16}, {\"YearStart\": 2001, \"YearEnd\": 2001, \"LocationAbbr\": \"OR\", \"LocationDesc\": \"Oregon\", \"DataSource\": \"NVSS, Mortality\", \"Topic\": \"Overarching Conditions\", \"Question\": \"Life expectancy at birth\", \"Response\": null, \"DataValueUnit\": \"Years\", \"DataValueType\": \"Number\", \"DataValue\": 78.1, \"DataValueAlt\": 78.1, \"DataValueFootnoteSymbol\": NaN, \"DatavalueFootnote\": NaN, \"LowConfidenceLimit\": null, \"HighConfidenceLimit\": null, \"StratificationCategory1\": \"Overall\", \"Stratification1\": \"Overall\", \"StratificationCategory2\": null, \"Stratification2\": null, \"StratificationCategory3\": null, \"Stratification3\": null, \"GeoLocation\": \"POINT (-120.15503132599969 44.56744942400047)\", \"ResponseID\": null, \"LocationID\": 41, \"TopicID\": \"OVC\", \"QuestionID\": \"OVC4_1\", \"DataValueTypeID\": \"NMBR\", \"StratificationCategoryID1\": \"OVERALL\", \"StratificationID1\": \"OVR\", \"StratificationCategoryID2\": null, \"StratificationID2\": null, \"StratificationCategoryID3\": null, \"StratificationID3\": null, \"id\": 41}, {\"YearStart\": 2019, \"YearEnd\": 2019, \"LocationAbbr\": \"NC\", \"LocationDesc\": \"North Carolina\", \"DataSource\": \"NVSS, Mortality\", \"Topic\": \"Overarching Conditions\", \"Question\": \"Life expectancy at birth\", \"Response\": null, \"DataValueUnit\": \"Years\", \"DataValueType\": \"Number\", \"DataValue\": 77.6, \"DataValueAlt\": 77.6, \"DataValueFootnoteSymbol\": NaN, \"DatavalueFootnote\": NaN, \"LowConfidenceLimit\": 77.5, \"HighConfidenceLimit\": 77.7, \"StratificationCategory1\": \"Overall\", \"Stratification1\": \"Overall\", \"StratificationCategory2\": null, \"Stratification2\": null, \"StratificationCategory3\": null, \"Stratification3\": null, \"GeoLocation\": \"POINT (-79.15925046299964 35.466220975000454)\", \"ResponseID\": null, \"LocationID\": 37, \"TopicID\": \"OVC\", \"QuestionID\": \"OVC4_1\", \"DataValueTypeID\": \"NMBR\", \"StratificationCategoryID1\": \"OVERALL\", \"StratificationID1\": \"OVR\", \"StratificationCategoryID2\": null, \"StratificationID2\": null, \"StratificationCategoryID3\": null, \"StratificationID3\": null, \"id\": 37}, {\"YearStart\": 2020, \"YearEnd\": 2020, \"LocationAbbr\": \"KS\", \"LocationDesc\": \"Kansas\", \"DataSource\": \"NVSS, Mortality\", \"Topic\": \"Overarching Conditions\", \"Question\": \"Life expectancy at birth\", \"Response\": null, \"DataValueUnit\": \"Years\", \"DataValueType\": \"Number\", \"DataValue\": 76.4, \"DataValueAlt\": 76.4, \"DataValueFootnoteSymbol\": NaN, \"DatavalueFootnote\": NaN, \"LowConfidenceLimit\": 76.2, \"HighConfidenceLimit\": 76.6, \"StratificationCategory1\": \"Overall\", \"Stratification1\": \"Overall\", \"StratificationCategory2\": null, \"Stratification2\": null, \"StratificationCategory3\": null, \"Stratification3\": null, \"GeoLocation\": \"POINT (-98.20078122699965 38.34774030000045)\", \"ResponseID\": null, \"LocationID\": 20, \"TopicID\": \"OVC\", \"QuestionID\": \"OVC4_1\", \"DataValueTypeID\": \"NMBR\", \"StratificationCategoryID1\": \"OVERALL\", \"StratificationID1\": \"OVR\", \"StratificationCategoryID2\": null, \"StratificationID2\": null, \"StratificationCategoryID3\": null, \"StratificationID3\": null, \"id\": 20}, {\"YearStart\": 2001, \"YearEnd\": 2001, \"LocationAbbr\": \"ID\", \"LocationDesc\": \"Idaho\", \"DataSource\": \"NVSS, Mortality\", \"Topic\": \"Overarching Conditions\", \"Question\": \"Life expectancy at birth\", \"Response\": null, \"DataValueUnit\": \"Years\", \"DataValueType\": \"Number\", \"DataValue\": 78.3, \"DataValueAlt\": 78.3, \"DataValueFootnoteSymbol\": NaN, \"DatavalueFootnote\": NaN, \"LowConfidenceLimit\": null, \"HighConfidenceLimit\": null, \"StratificationCategory1\": \"Overall\", \"Stratification1\": \"Overall\", \"StratificationCategory2\": null, \"Stratification2\": null, \"StratificationCategory3\": null, \"Stratification3\": null, \"GeoLocation\": \"POINT (-114.3637300419997 43.682630005000476)\", \"ResponseID\": null, \"LocationID\": 16, \"TopicID\": \"OVC\", \"QuestionID\": \"OVC4_1\", \"DataValueTypeID\": \"NMBR\", \"StratificationCategoryID1\": \"OVERALL\", \"StratificationID1\": \"OVR\", \"StratificationCategoryID2\": null, \"StratificationID2\": null, \"StratificationCategoryID3\": null, \"StratificationID3\": null, \"id\": 16}, {\"YearStart\": 2020, \"YearEnd\": 2020, \"LocationAbbr\": \"FL\", \"LocationDesc\": \"Florida\", \"DataSource\": \"NVSS, Mortality\", \"Topic\": \"Overarching Conditions\", \"Question\": \"Life expectancy at birth\", \"Response\": null, \"DataValueUnit\": \"Years\", \"DataValueType\": \"Number\", \"DataValue\": 77.5, \"DataValueAlt\": 77.5, \"DataValueFootnoteSymbol\": NaN, \"DatavalueFootnote\": NaN, \"LowConfidenceLimit\": 77.4, \"HighConfidenceLimit\": 77.6, \"StratificationCategory1\": \"Overall\", \"Stratification1\": \"Overall\", \"StratificationCategory2\": null, \"Stratification2\": null, \"StratificationCategory3\": null, \"Stratification3\": null, \"GeoLocation\": \"POINT (-81.92896053899966 28.932040377000476)\", \"ResponseID\": null, \"LocationID\": 12, \"TopicID\": \"OVC\", \"QuestionID\": \"OVC4_1\", \"DataValueTypeID\": \"NMBR\", \"StratificationCategoryID1\": \"OVERALL\", \"StratificationID1\": \"OVR\", \"StratificationCategoryID2\": null, \"StratificationID2\": null, \"StratificationCategoryID3\": null, \"StratificationID3\": null, \"id\": 12}, {\"YearStart\": 2020, \"YearEnd\": 2020, \"LocationAbbr\": \"LA\", \"LocationDesc\": \"Louisiana\", \"DataSource\": \"NVSS, Mortality\", \"Topic\": \"Overarching Conditions\", \"Question\": \"Life expectancy at birth\", \"Response\": null, \"DataValueUnit\": \"Years\", \"DataValueType\": \"Number\", \"DataValue\": 73.1, \"DataValueAlt\": 73.1, \"DataValueFootnoteSymbol\": NaN, \"DatavalueFootnote\": NaN, \"LowConfidenceLimit\": 73.0, \"HighConfidenceLimit\": 73.2, \"StratificationCategory1\": \"Overall\", \"Stratification1\": \"Overall\", \"StratificationCategory2\": null, \"Stratification2\": null, \"StratificationCategory3\": null, \"Stratification3\": null, \"GeoLocation\": \"POINT (-92.44568007099969 31.31266064400046)\", \"ResponseID\": null, \"LocationID\": 22, \"TopicID\": \"OVC\", \"QuestionID\": \"OVC4_1\", \"DataValueTypeID\": \"NMBR\", \"StratificationCategoryID1\": \"OVERALL\", \"StratificationID1\": \"OVR\", \"StratificationCategoryID2\": null, \"StratificationID2\": null, \"StratificationCategoryID3\": null, \"StratificationID3\": null, \"id\": 22}, {\"YearStart\": 2019, \"YearEnd\": 2019, \"LocationAbbr\": \"VT\", \"LocationDesc\": \"Vermont\", \"DataSource\": \"NVSS, Mortality\", \"Topic\": \"Overarching Conditions\", \"Question\": \"Life expectancy at birth\", \"Response\": null, \"DataValueUnit\": \"Years\", \"DataValueType\": \"Number\", \"DataValue\": 79.8, \"DataValueAlt\": 79.8, \"DataValueFootnoteSymbol\": NaN, \"DatavalueFootnote\": NaN, \"LowConfidenceLimit\": 79.5, \"HighConfidenceLimit\": 80.1, \"StratificationCategory1\": \"Overall\", \"Stratification1\": \"Overall\", \"StratificationCategory2\": null, \"Stratification2\": null, \"StratificationCategory3\": null, \"Stratification3\": null, \"GeoLocation\": \"POINT (-72.51764079099962 43.62538123900049)\", \"ResponseID\": null, \"LocationID\": 50, \"TopicID\": \"OVC\", \"QuestionID\": \"OVC4_1\", \"DataValueTypeID\": \"NMBR\", \"StratificationCategoryID1\": \"OVERALL\", \"StratificationID1\": \"OVR\", \"StratificationCategoryID2\": null, \"StratificationID2\": null, \"StratificationCategoryID3\": null, \"StratificationID3\": null, \"id\": 50}, {\"YearStart\": 2009, \"YearEnd\": 2009, \"LocationAbbr\": \"AK\", \"LocationDesc\": \"Alaska\", \"DataSource\": \"NVSS, Mortality\", \"Topic\": \"Overarching Conditions\", \"Question\": \"Life expectancy at birth\", \"Response\": null, \"DataValueUnit\": \"Years\", \"DataValueType\": \"Number\", \"DataValue\": 78.3, \"DataValueAlt\": 78.3, \"DataValueFootnoteSymbol\": NaN, \"DatavalueFootnote\": NaN, \"LowConfidenceLimit\": null, \"HighConfidenceLimit\": null, \"StratificationCategory1\": \"Overall\", \"Stratification1\": \"Overall\", \"StratificationCategory2\": null, \"Stratification2\": null, \"StratificationCategory3\": null, \"Stratification3\": null, \"GeoLocation\": \"POINT (-147.72205903599973 64.84507995700051)\", \"ResponseID\": null, \"LocationID\": 2, \"TopicID\": \"OVC\", \"QuestionID\": \"OVC4_1\", \"DataValueTypeID\": \"NMBR\", \"StratificationCategoryID1\": \"OVERALL\", \"StratificationID1\": \"OVR\", \"StratificationCategoryID2\": null, \"StratificationID2\": null, \"StratificationCategoryID3\": null, \"StratificationID3\": null, \"id\": 2}, {\"YearStart\": 2018, \"YearEnd\": 2018, \"LocationAbbr\": \"MO\", \"LocationDesc\": \"Missouri\", \"DataSource\": \"NVSS, Mortality\", \"Topic\": \"Overarching Conditions\", \"Question\": \"Life expectancy at birth\", \"Response\": null, \"DataValueUnit\": \"Years\", \"DataValueType\": \"Number\", \"DataValue\": 76.6, \"DataValueAlt\": 76.6, \"DataValueFootnoteSymbol\": NaN, \"DatavalueFootnote\": NaN, \"LowConfidenceLimit\": 76.5, \"HighConfidenceLimit\": 76.7, \"StratificationCategory1\": \"Overall\", \"Stratification1\": \"Overall\", \"StratificationCategory2\": null, \"Stratification2\": null, \"StratificationCategory3\": null, \"Stratification3\": null, \"GeoLocation\": \"POINT (-92.56630005299968 38.635790776000476)\", \"ResponseID\": null, \"LocationID\": 29, \"TopicID\": \"OVC\", \"QuestionID\": \"OVC4_1\", \"DataValueTypeID\": \"NMBR\", \"StratificationCategoryID1\": \"OVERALL\", \"StratificationID1\": \"OVR\", \"StratificationCategoryID2\": null, \"StratificationID2\": null, \"StratificationCategoryID3\": null, \"StratificationID3\": null, \"id\": 29}, {\"YearStart\": 2020, \"YearEnd\": 2020, \"LocationAbbr\": \"MS\", \"LocationDesc\": \"Mississippi\", \"DataSource\": \"NVSS, Mortality\", \"Topic\": \"Overarching Conditions\", \"Question\": \"Life expectancy at birth\", \"Response\": null, \"DataValueUnit\": \"Years\", \"DataValueType\": \"Number\", \"DataValue\": 71.9, \"DataValueAlt\": 71.9, \"DataValueFootnoteSymbol\": NaN, \"DatavalueFootnote\": NaN, \"LowConfidenceLimit\": 71.7, \"HighConfidenceLimit\": 72.1, \"StratificationCategory1\": \"Overall\", \"Stratification1\": \"Overall\", \"StratificationCategory2\": null, \"Stratification2\": null, \"StratificationCategory3\": null, \"Stratification3\": null, \"GeoLocation\": \"POINT (-89.53803082499968 32.745510099000455)\", \"ResponseID\": null, \"LocationID\": 28, \"TopicID\": \"OVC\", \"QuestionID\": \"OVC4_1\", \"DataValueTypeID\": \"NMBR\", \"StratificationCategoryID1\": \"OVERALL\", \"StratificationID1\": \"OVR\", \"StratificationCategoryID2\": null, \"StratificationID2\": null, \"StratificationCategoryID3\": null, \"StratificationID3\": null, \"id\": 28}, {\"YearStart\": 2018, \"YearEnd\": 2018, \"LocationAbbr\": \"AZ\", \"LocationDesc\": \"Arizona\", \"DataSource\": \"NVSS, Mortality\", \"Topic\": \"Overarching Conditions\", \"Question\": \"Life expectancy at birth\", \"Response\": null, \"DataValueUnit\": \"Years\", \"DataValueType\": \"Number\", \"DataValue\": 78.7, \"DataValueAlt\": 78.7, \"DataValueFootnoteSymbol\": NaN, \"DatavalueFootnote\": NaN, \"LowConfidenceLimit\": 78.6, \"HighConfidenceLimit\": 78.8, \"StratificationCategory1\": \"Overall\", \"Stratification1\": \"Overall\", \"StratificationCategory2\": null, \"Stratification2\": null, \"StratificationCategory3\": null, \"Stratification3\": null, \"GeoLocation\": \"POINT (-111.76381127699972 34.865970280000454)\", \"ResponseID\": null, \"LocationID\": 4, \"TopicID\": \"OVC\", \"QuestionID\": \"OVC4_1\", \"DataValueTypeID\": \"NMBR\", \"StratificationCategoryID1\": \"OVERALL\", \"StratificationID1\": \"OVR\", \"StratificationCategoryID2\": null, \"StratificationID2\": null, \"StratificationCategoryID3\": null, \"StratificationID3\": null, \"id\": 4}, {\"YearStart\": 2001, \"YearEnd\": 2001, \"LocationAbbr\": \"KS\", \"LocationDesc\": \"Kansas\", \"DataSource\": \"NVSS, Mortality\", \"Topic\": \"Overarching Conditions\", \"Question\": \"Life expectancy at birth\", \"Response\": null, \"DataValueUnit\": \"Years\", \"DataValueType\": \"Number\", \"DataValue\": 77.8, \"DataValueAlt\": 77.8, \"DataValueFootnoteSymbol\": NaN, \"DatavalueFootnote\": NaN, \"LowConfidenceLimit\": null, \"HighConfidenceLimit\": null, \"StratificationCategory1\": \"Overall\", \"Stratification1\": \"Overall\", \"StratificationCategory2\": null, \"Stratification2\": null, \"StratificationCategory3\": null, \"Stratification3\": null, \"GeoLocation\": \"POINT (-98.20078122699965 38.34774030000045)\", \"ResponseID\": null, \"LocationID\": 20, \"TopicID\": \"OVC\", \"QuestionID\": \"OVC4_1\", \"DataValueTypeID\": \"NMBR\", \"StratificationCategoryID1\": \"OVERALL\", \"StratificationID1\": \"OVR\", \"StratificationCategoryID2\": null, \"StratificationID2\": null, \"StratificationCategoryID3\": null, \"StratificationID3\": null, \"id\": 20}, {\"YearStart\": 2018, \"YearEnd\": 2018, \"LocationAbbr\": \"CT\", \"LocationDesc\": \"Connecticut\", \"DataSource\": \"NVSS, Mortality\", \"Topic\": \"Overarching Conditions\", \"Question\": \"Life expectancy at birth\", \"Response\": null, \"DataValueUnit\": \"Years\", \"DataValueType\": \"Number\", \"DataValue\": 80.4, \"DataValueAlt\": 80.4, \"DataValueFootnoteSymbol\": NaN, \"DatavalueFootnote\": NaN, \"LowConfidenceLimit\": 80.3, \"HighConfidenceLimit\": 80.5, \"StratificationCategory1\": \"Overall\", \"Stratification1\": \"Overall\", \"StratificationCategory2\": null, \"Stratification2\": null, \"StratificationCategory3\": null, \"Stratification3\": null, \"GeoLocation\": \"POINT (-72.64984095199964 41.56266102000046)\", \"ResponseID\": null, \"LocationID\": 9, \"TopicID\": \"OVC\", \"QuestionID\": \"OVC4_1\", \"DataValueTypeID\": \"NMBR\", \"StratificationCategoryID1\": \"OVERALL\", \"StratificationID1\": \"OVR\", \"StratificationCategoryID2\": null, \"StratificationID2\": null, \"StratificationCategoryID3\": null, \"StratificationID3\": null, \"id\": 9}, {\"YearStart\": 2018, \"YearEnd\": 2018, \"LocationAbbr\": \"TX\", \"LocationDesc\": \"Texas\", \"DataSource\": \"NVSS, Mortality\", \"Topic\": \"Overarching Conditions\", \"Question\": \"Life expectancy at birth\", \"Response\": null, \"DataValueUnit\": \"Years\", \"DataValueType\": \"Number\", \"DataValue\": 78.4, \"DataValueAlt\": 78.4, \"DataValueFootnoteSymbol\": NaN, \"DatavalueFootnote\": NaN, \"LowConfidenceLimit\": 78.3, \"HighConfidenceLimit\": 78.5, \"StratificationCategory1\": \"Overall\", \"Stratification1\": \"Overall\", \"StratificationCategory2\": null, \"Stratification2\": null, \"StratificationCategory3\": null, \"Stratification3\": null, \"GeoLocation\": \"POINT (-99.42677020599967 31.827240407000488)\", \"ResponseID\": null, \"LocationID\": 48, \"TopicID\": \"OVC\", \"QuestionID\": \"OVC4_1\", \"DataValueTypeID\": \"NMBR\", \"StratificationCategoryID1\": \"OVERALL\", \"StratificationID1\": \"OVR\", \"StratificationCategoryID2\": null, \"StratificationID2\": null, \"StratificationCategoryID3\": null, \"StratificationID3\": null, \"id\": 48}, {\"YearStart\": 2009, \"YearEnd\": 2009, \"LocationAbbr\": \"OH\", \"LocationDesc\": \"Ohio\", \"DataSource\": \"NVSS, Mortality\", \"Topic\": \"Overarching Conditions\", \"Question\": \"Life expectancy at birth\", \"Response\": null, \"DataValueUnit\": \"Years\", \"DataValueType\": \"Number\", \"DataValue\": 77.8, \"DataValueAlt\": 77.8, \"DataValueFootnoteSymbol\": NaN, \"DatavalueFootnote\": NaN, \"LowConfidenceLimit\": null, \"HighConfidenceLimit\": null, \"StratificationCategory1\": \"Overall\", \"Stratification1\": \"Overall\", \"StratificationCategory2\": null, \"Stratification2\": null, \"StratificationCategory3\": null, \"Stratification3\": null, \"GeoLocation\": \"POINT (-82.40426005599966 40.06021014100048)\", \"ResponseID\": null, \"LocationID\": 39, \"TopicID\": \"OVC\", \"QuestionID\": \"OVC4_1\", \"DataValueTypeID\": \"NMBR\", \"StratificationCategoryID1\": \"OVERALL\", \"StratificationID1\": \"OVR\", \"StratificationCategoryID2\": null, \"StratificationID2\": null, \"StratificationCategoryID3\": null, \"StratificationID3\": null, \"id\": 39}, {\"YearStart\": 2009, \"YearEnd\": 2009, \"LocationAbbr\": \"WI\", \"LocationDesc\": \"Wisconsin\", \"DataSource\": \"NVSS, Mortality\", \"Topic\": \"Overarching Conditions\", \"Question\": \"Life expectancy at birth\", \"Response\": null, \"DataValueUnit\": \"Years\", \"DataValueType\": \"Number\", \"DataValue\": 80.0, \"DataValueAlt\": 80.0, \"DataValueFootnoteSymbol\": NaN, \"DatavalueFootnote\": NaN, \"LowConfidenceLimit\": null, \"HighConfidenceLimit\": null, \"StratificationCategory1\": \"Overall\", \"Stratification1\": \"Overall\", \"StratificationCategory2\": null, \"Stratification2\": null, \"StratificationCategory3\": null, \"Stratification3\": null, \"GeoLocation\": \"POINT (-89.81637074199966 44.39319117400049)\", \"ResponseID\": null, \"LocationID\": 55, \"TopicID\": \"OVC\", \"QuestionID\": \"OVC4_1\", \"DataValueTypeID\": \"NMBR\", \"StratificationCategoryID1\": \"OVERALL\", \"StratificationID1\": \"OVR\", \"StratificationCategoryID2\": null, \"StratificationID2\": null, \"StratificationCategoryID3\": null, \"StratificationID3\": null, \"id\": 55}, {\"YearStart\": 2020, \"YearEnd\": 2020, \"LocationAbbr\": \"VA\", \"LocationDesc\": \"Virginia\", \"DataSource\": \"NVSS, Mortality\", \"Topic\": \"Overarching Conditions\", \"Question\": \"Life expectancy at birth\", \"Response\": null, \"DataValueUnit\": \"Years\", \"DataValueType\": \"Number\", \"DataValue\": 77.6, \"DataValueAlt\": 77.6, \"DataValueFootnoteSymbol\": NaN, \"DatavalueFootnote\": NaN, \"LowConfidenceLimit\": 77.5, \"HighConfidenceLimit\": 77.7, \"StratificationCategory1\": \"Overall\", \"Stratification1\": \"Overall\", \"StratificationCategory2\": null, \"Stratification2\": null, \"StratificationCategory3\": null, \"Stratification3\": null, \"GeoLocation\": \"POINT (-78.45789046299967 37.54268067400045)\", \"ResponseID\": null, \"LocationID\": 51, \"TopicID\": \"OVC\", \"QuestionID\": \"OVC4_1\", \"DataValueTypeID\": \"NMBR\", \"StratificationCategoryID1\": \"OVERALL\", \"StratificationID1\": \"OVR\", \"StratificationCategoryID2\": null, \"StratificationID2\": null, \"StratificationCategoryID3\": null, \"StratificationID3\": null, \"id\": 51}, {\"YearStart\": 2019, \"YearEnd\": 2019, \"LocationAbbr\": \"CO\", \"LocationDesc\": \"Colorado\", \"DataSource\": \"NVSS, Mortality\", \"Topic\": \"Overarching Conditions\", \"Question\": \"Life expectancy at birth\", \"Response\": null, \"DataValueUnit\": \"Years\", \"DataValueType\": \"Number\", \"DataValue\": 80.0, \"DataValueAlt\": 80.0, \"DataValueFootnoteSymbol\": NaN, \"DatavalueFootnote\": NaN, \"LowConfidenceLimit\": 79.9, \"HighConfidenceLimit\": 80.1, \"StratificationCategory1\": \"Overall\", \"Stratification1\": \"Overall\", \"StratificationCategory2\": null, \"Stratification2\": null, \"StratificationCategory3\": null, \"Stratification3\": null, \"GeoLocation\": \"POINT (-106.13361092099967 38.843840757000464)\", \"ResponseID\": null, \"LocationID\": 8, \"TopicID\": \"OVC\", \"QuestionID\": \"OVC4_1\", \"DataValueTypeID\": \"NMBR\", \"StratificationCategoryID1\": \"OVERALL\", \"StratificationID1\": \"OVR\", \"StratificationCategoryID2\": null, \"StratificationID2\": null, \"StratificationCategoryID3\": null, \"StratificationID3\": null, \"id\": 8}, {\"YearStart\": 2018, \"YearEnd\": 2018, \"LocationAbbr\": \"NE\", \"LocationDesc\": \"Nebraska\", \"DataSource\": \"NVSS, Mortality\", \"Topic\": \"Overarching Conditions\", \"Question\": \"Life expectancy at birth\", \"Response\": null, \"DataValueUnit\": \"Years\", \"DataValueType\": \"Number\", \"DataValue\": 79.1, \"DataValueAlt\": 79.1, \"DataValueFootnoteSymbol\": NaN, \"DatavalueFootnote\": NaN, \"LowConfidenceLimit\": 78.9, \"HighConfidenceLimit\": 79.3, \"StratificationCategory1\": \"Overall\", \"Stratification1\": \"Overall\", \"StratificationCategory2\": null, \"Stratification2\": null, \"StratificationCategory3\": null, \"Stratification3\": null, \"GeoLocation\": \"POINT (-99.36572062299967 41.6410409880005)\", \"ResponseID\": null, \"LocationID\": 31, \"TopicID\": \"OVC\", \"QuestionID\": \"OVC4_1\", \"DataValueTypeID\": \"NMBR\", \"StratificationCategoryID1\": \"OVERALL\", \"StratificationID1\": \"OVR\", \"StratificationCategoryID2\": null, \"StratificationID2\": null, \"StratificationCategoryID3\": null, \"StratificationID3\": null, \"id\": 31}, {\"YearStart\": 2009, \"YearEnd\": 2009, \"LocationAbbr\": \"LA\", \"LocationDesc\": \"Louisiana\", \"DataSource\": \"NVSS, Mortality\", \"Topic\": \"Overarching Conditions\", \"Question\": \"Life expectancy at birth\", \"Response\": null, \"DataValueUnit\": \"Years\", \"DataValueType\": \"Number\", \"DataValue\": 75.7, \"DataValueAlt\": 75.7, \"DataValueFootnoteSymbol\": NaN, \"DatavalueFootnote\": NaN, \"LowConfidenceLimit\": null, \"HighConfidenceLimit\": null, \"StratificationCategory1\": \"Overall\", \"Stratification1\": \"Overall\", \"StratificationCategory2\": null, \"Stratification2\": null, \"StratificationCategory3\": null, \"Stratification3\": null, \"GeoLocation\": \"POINT (-92.44568007099969 31.31266064400046)\", \"ResponseID\": null, \"LocationID\": 22, \"TopicID\": \"OVC\", \"QuestionID\": \"OVC4_1\", \"DataValueTypeID\": \"NMBR\", \"StratificationCategoryID1\": \"OVERALL\", \"StratificationID1\": \"OVR\", \"StratificationCategoryID2\": null, \"StratificationID2\": null, \"StratificationCategoryID3\": null, \"StratificationID3\": null, \"id\": 22}, {\"YearStart\": 2018, \"YearEnd\": 2018, \"LocationAbbr\": \"KS\", \"LocationDesc\": \"Kansas\", \"DataSource\": \"NVSS, Mortality\", \"Topic\": \"Overarching Conditions\", \"Question\": \"Life expectancy at birth\", \"Response\": null, \"DataValueUnit\": \"Years\", \"DataValueType\": \"Number\", \"DataValue\": 78.0, \"DataValueAlt\": 78.0, \"DataValueFootnoteSymbol\": NaN, \"DatavalueFootnote\": NaN, \"LowConfidenceLimit\": 77.8, \"HighConfidenceLimit\": 78.2, \"StratificationCategory1\": \"Overall\", \"Stratification1\": \"Overall\", \"StratificationCategory2\": null, \"Stratification2\": null, \"StratificationCategory3\": null, \"Stratification3\": null, \"GeoLocation\": \"POINT (-98.20078122699965 38.34774030000045)\", \"ResponseID\": null, \"LocationID\": 20, \"TopicID\": \"OVC\", \"QuestionID\": \"OVC4_1\", \"DataValueTypeID\": \"NMBR\", \"StratificationCategoryID1\": \"OVERALL\", \"StratificationID1\": \"OVR\", \"StratificationCategoryID2\": null, \"StratificationID2\": null, \"StratificationCategoryID3\": null, \"StratificationID3\": null, \"id\": 20}, {\"YearStart\": 2019, \"YearEnd\": 2019, \"LocationAbbr\": \"IA\", \"LocationDesc\": \"Iowa\", \"DataSource\": \"NVSS, Mortality\", \"Topic\": \"Overarching Conditions\", \"Question\": \"Life expectancy at birth\", \"Response\": null, \"DataValueUnit\": \"Years\", \"DataValueType\": \"Number\", \"DataValue\": 79.0, \"DataValueAlt\": 79.0, \"DataValueFootnoteSymbol\": NaN, \"DatavalueFootnote\": NaN, \"LowConfidenceLimit\": 78.8, \"HighConfidenceLimit\": 79.2, \"StratificationCategory1\": \"Overall\", \"Stratification1\": \"Overall\", \"StratificationCategory2\": null, \"Stratification2\": null, \"StratificationCategory3\": null, \"Stratification3\": null, \"GeoLocation\": \"POINT (-93.81649055599968 42.46940091300047)\", \"ResponseID\": null, \"LocationID\": 19, \"TopicID\": \"OVC\", \"QuestionID\": \"OVC4_1\", \"DataValueTypeID\": \"NMBR\", \"StratificationCategoryID1\": \"OVERALL\", \"StratificationID1\": \"OVR\", \"StratificationCategoryID2\": null, \"StratificationID2\": null, \"StratificationCategoryID3\": null, \"StratificationID3\": null, \"id\": 19}, {\"YearStart\": 2019, \"YearEnd\": 2019, \"LocationAbbr\": \"MA\", \"LocationDesc\": \"Massachusetts\", \"DataSource\": \"NVSS, Mortality\", \"Topic\": \"Overarching Conditions\", \"Question\": \"Life expectancy at birth\", \"Response\": null, \"DataValueUnit\": \"Years\", \"DataValueType\": \"Number\", \"DataValue\": 80.4, \"DataValueAlt\": 80.4, \"DataValueFootnoteSymbol\": NaN, \"DatavalueFootnote\": NaN, \"LowConfidenceLimit\": 80.3, \"HighConfidenceLimit\": 80.5, \"StratificationCategory1\": \"Overall\", \"Stratification1\": \"Overall\", \"StratificationCategory2\": null, \"Stratification2\": null, \"StratificationCategory3\": null, \"Stratification3\": null, \"GeoLocation\": \"POINT (-72.08269067499964 42.27687047000046)\", \"ResponseID\": null, \"LocationID\": 25, \"TopicID\": \"OVC\", \"QuestionID\": \"OVC4_1\", \"DataValueTypeID\": \"NMBR\", \"StratificationCategoryID1\": \"OVERALL\", \"StratificationID1\": \"OVR\", \"StratificationCategoryID2\": null, \"StratificationID2\": null, \"StratificationCategoryID3\": null, \"StratificationID3\": null, \"id\": 25}, {\"YearStart\": 2001, \"YearEnd\": 2001, \"LocationAbbr\": \"MI\", \"LocationDesc\": \"Michigan\", \"DataSource\": \"NVSS, Mortality\", \"Topic\": \"Overarching Conditions\", \"Question\": \"Life expectancy at birth\", \"Response\": null, \"DataValueUnit\": \"Years\", \"DataValueType\": \"Number\", \"DataValue\": 76.9, \"DataValueAlt\": 76.9, \"DataValueFootnoteSymbol\": NaN, \"DatavalueFootnote\": NaN, \"LowConfidenceLimit\": null, \"HighConfidenceLimit\": null, \"StratificationCategory1\": \"Overall\", \"Stratification1\": \"Overall\", \"StratificationCategory2\": null, \"Stratification2\": null, \"StratificationCategory3\": null, \"Stratification3\": null, \"GeoLocation\": \"POINT (-84.71439026999968 44.6613195430005)\", \"ResponseID\": null, \"LocationID\": 26, \"TopicID\": \"OVC\", \"QuestionID\": \"OVC4_1\", \"DataValueTypeID\": \"NMBR\", \"StratificationCategoryID1\": \"OVERALL\", \"StratificationID1\": \"OVR\", \"StratificationCategoryID2\": null, \"StratificationID2\": null, \"StratificationCategoryID3\": null, \"StratificationID3\": null, \"id\": 26}, {\"YearStart\": 2001, \"YearEnd\": 2001, \"LocationAbbr\": \"VA\", \"LocationDesc\": \"Virginia\", \"DataSource\": \"NVSS, Mortality\", \"Topic\": \"Overarching Conditions\", \"Question\": \"Life expectancy at birth\", \"Response\": null, \"DataValueUnit\": \"Years\", \"DataValueType\": \"Number\", \"DataValue\": 77.0, \"DataValueAlt\": 77.0, \"DataValueFootnoteSymbol\": NaN, \"DatavalueFootnote\": NaN, \"LowConfidenceLimit\": null, \"HighConfidenceLimit\": null, \"StratificationCategory1\": \"Overall\", \"Stratification1\": \"Overall\", \"StratificationCategory2\": null, \"Stratification2\": null, \"StratificationCategory3\": null, \"Stratification3\": null, \"GeoLocation\": \"POINT (-78.45789046299967 37.54268067400045)\", \"ResponseID\": null, \"LocationID\": 51, \"TopicID\": \"OVC\", \"QuestionID\": \"OVC4_1\", \"DataValueTypeID\": \"NMBR\", \"StratificationCategoryID1\": \"OVERALL\", \"StratificationID1\": \"OVR\", \"StratificationCategoryID2\": null, \"StratificationID2\": null, \"StratificationCategoryID3\": null, \"StratificationID3\": null, \"id\": 51}, {\"YearStart\": 2001, \"YearEnd\": 2001, \"LocationAbbr\": \"UT\", \"LocationDesc\": \"Utah\", \"DataSource\": \"NVSS, Mortality\", \"Topic\": \"Overarching Conditions\", \"Question\": \"Life expectancy at birth\", \"Response\": null, \"DataValueUnit\": \"Years\", \"DataValueType\": \"Number\", \"DataValue\": 78.9, \"DataValueAlt\": 78.9, \"DataValueFootnoteSymbol\": NaN, \"DatavalueFootnote\": NaN, \"LowConfidenceLimit\": null, \"HighConfidenceLimit\": null, \"StratificationCategory1\": \"Overall\", \"Stratification1\": \"Overall\", \"StratificationCategory2\": null, \"Stratification2\": null, \"StratificationCategory3\": null, \"Stratification3\": null, \"GeoLocation\": \"POINT (-111.58713063499971 39.360700171000474)\", \"ResponseID\": null, \"LocationID\": 49, \"TopicID\": \"OVC\", \"QuestionID\": \"OVC4_1\", \"DataValueTypeID\": \"NMBR\", \"StratificationCategoryID1\": \"OVERALL\", \"StratificationID1\": \"OVR\", \"StratificationCategoryID2\": null, \"StratificationID2\": null, \"StratificationCategoryID3\": null, \"StratificationID3\": null, \"id\": 49}, {\"YearStart\": 2009, \"YearEnd\": 2009, \"LocationAbbr\": \"NV\", \"LocationDesc\": \"Nevada\", \"DataSource\": \"NVSS, Mortality\", \"Topic\": \"Overarching Conditions\", \"Question\": \"Life expectancy at birth\", \"Response\": null, \"DataValueUnit\": \"Years\", \"DataValueType\": \"Number\", \"DataValue\": 78.1, \"DataValueAlt\": 78.1, \"DataValueFootnoteSymbol\": NaN, \"DatavalueFootnote\": NaN, \"LowConfidenceLimit\": null, \"HighConfidenceLimit\": null, \"StratificationCategory1\": \"Overall\", \"Stratification1\": \"Overall\", \"StratificationCategory2\": null, \"Stratification2\": null, \"StratificationCategory3\": null, \"Stratification3\": null, \"GeoLocation\": \"POINT (-117.07184056399967 39.493240390000494)\", \"ResponseID\": null, \"LocationID\": 32, \"TopicID\": \"OVC\", \"QuestionID\": \"OVC4_1\", \"DataValueTypeID\": \"NMBR\", \"StratificationCategoryID1\": \"OVERALL\", \"StratificationID1\": \"OVR\", \"StratificationCategoryID2\": null, \"StratificationID2\": null, \"StratificationCategoryID3\": null, \"StratificationID3\": null, \"id\": 32}, {\"YearStart\": 2020, \"YearEnd\": 2020, \"LocationAbbr\": \"NM\", \"LocationDesc\": \"New Mexico\", \"DataSource\": \"NVSS, Mortality\", \"Topic\": \"Overarching Conditions\", \"Question\": \"Life expectancy at birth\", \"Response\": null, \"DataValueUnit\": \"Years\", \"DataValueType\": \"Number\", \"DataValue\": 74.5, \"DataValueAlt\": 74.5, \"DataValueFootnoteSymbol\": NaN, \"DatavalueFootnote\": NaN, \"LowConfidenceLimit\": 74.3, \"HighConfidenceLimit\": 74.7, \"StratificationCategory1\": \"Overall\", \"Stratification1\": \"Overall\", \"StratificationCategory2\": null, \"Stratification2\": null, \"StratificationCategory3\": null, \"Stratification3\": null, \"GeoLocation\": \"POINT (-106.24058098499967 34.52088095200048)\", \"ResponseID\": null, \"LocationID\": 35, \"TopicID\": \"OVC\", \"QuestionID\": \"OVC4_1\", \"DataValueTypeID\": \"NMBR\", \"StratificationCategoryID1\": \"OVERALL\", \"StratificationID1\": \"OVR\", \"StratificationCategoryID2\": null, \"StratificationID2\": null, \"StratificationCategoryID3\": null, \"StratificationID3\": null, \"id\": 35}, {\"YearStart\": 2009, \"YearEnd\": 2009, \"LocationAbbr\": \"MO\", \"LocationDesc\": \"Missouri\", \"DataSource\": \"NVSS, Mortality\", \"Topic\": \"Overarching Conditions\", \"Question\": \"Life expectancy at birth\", \"Response\": null, \"DataValueUnit\": \"Years\", \"DataValueType\": \"Number\", \"DataValue\": 77.5, \"DataValueAlt\": 77.5, \"DataValueFootnoteSymbol\": NaN, \"DatavalueFootnote\": NaN, \"LowConfidenceLimit\": null, \"HighConfidenceLimit\": null, \"StratificationCategory1\": \"Overall\", \"Stratification1\": \"Overall\", \"StratificationCategory2\": null, \"Stratification2\": null, \"StratificationCategory3\": null, \"Stratification3\": null, \"GeoLocation\": \"POINT (-92.56630005299968 38.635790776000476)\", \"ResponseID\": null, \"LocationID\": 29, \"TopicID\": \"OVC\", \"QuestionID\": \"OVC4_1\", \"DataValueTypeID\": \"NMBR\", \"StratificationCategoryID1\": \"OVERALL\", \"StratificationID1\": \"OVR\", \"StratificationCategoryID2\": null, \"StratificationID2\": null, \"StratificationCategoryID3\": null, \"StratificationID3\": null, \"id\": 29}, {\"YearStart\": 2020, \"YearEnd\": 2020, \"LocationAbbr\": \"NV\", \"LocationDesc\": \"Nevada\", \"DataSource\": \"NVSS, Mortality\", \"Topic\": \"Overarching Conditions\", \"Question\": \"Life expectancy at birth\", \"Response\": null, \"DataValueUnit\": \"Years\", \"DataValueType\": \"Number\", \"DataValue\": 76.3, \"DataValueAlt\": 76.3, \"DataValueFootnoteSymbol\": NaN, \"DatavalueFootnote\": NaN, \"LowConfidenceLimit\": 76.1, \"HighConfidenceLimit\": 76.5, \"StratificationCategory1\": \"Overall\", \"Stratification1\": \"Overall\", \"StratificationCategory2\": null, \"Stratification2\": null, \"StratificationCategory3\": null, \"Stratification3\": null, \"GeoLocation\": \"POINT (-117.07184056399967 39.493240390000494)\", \"ResponseID\": null, \"LocationID\": 32, \"TopicID\": \"OVC\", \"QuestionID\": \"OVC4_1\", \"DataValueTypeID\": \"NMBR\", \"StratificationCategoryID1\": \"OVERALL\", \"StratificationID1\": \"OVR\", \"StratificationCategoryID2\": null, \"StratificationID2\": null, \"StratificationCategoryID3\": null, \"StratificationID3\": null, \"id\": 32}, {\"YearStart\": 2019, \"YearEnd\": 2019, \"LocationAbbr\": \"TN\", \"LocationDesc\": \"Tennessee\", \"DataSource\": \"NVSS, Mortality\", \"Topic\": \"Overarching Conditions\", \"Question\": \"Life expectancy at birth\", \"Response\": null, \"DataValueUnit\": \"Years\", \"DataValueType\": \"Number\", \"DataValue\": 75.6, \"DataValueAlt\": 75.6, \"DataValueFootnoteSymbol\": NaN, \"DatavalueFootnote\": NaN, \"LowConfidenceLimit\": 75.5, \"HighConfidenceLimit\": 75.7, \"StratificationCategory1\": \"Overall\", \"Stratification1\": \"Overall\", \"StratificationCategory2\": null, \"Stratification2\": null, \"StratificationCategory3\": null, \"Stratification3\": null, \"GeoLocation\": \"POINT (-85.77449091399967 35.68094058000048)\", \"ResponseID\": null, \"LocationID\": 47, \"TopicID\": \"OVC\", \"QuestionID\": \"OVC4_1\", \"DataValueTypeID\": \"NMBR\", \"StratificationCategoryID1\": \"OVERALL\", \"StratificationID1\": \"OVR\", \"StratificationCategoryID2\": null, \"StratificationID2\": null, \"StratificationCategoryID3\": null, \"StratificationID3\": null, \"id\": 47}, {\"YearStart\": 2019, \"YearEnd\": 2019, \"LocationAbbr\": \"AL\", \"LocationDesc\": \"Alabama\", \"DataSource\": \"NVSS, Mortality\", \"Topic\": \"Overarching Conditions\", \"Question\": \"Life expectancy at birth\", \"Response\": null, \"DataValueUnit\": \"Years\", \"DataValueType\": \"Number\", \"DataValue\": 75.2, \"DataValueAlt\": 75.2, \"DataValueFootnoteSymbol\": NaN, \"DatavalueFootnote\": NaN, \"LowConfidenceLimit\": 75.1, \"HighConfidenceLimit\": 75.3, \"StratificationCategory1\": \"Overall\", \"Stratification1\": \"Overall\", \"StratificationCategory2\": null, \"Stratification2\": null, \"StratificationCategory3\": null, \"Stratification3\": null, \"GeoLocation\": \"POINT (-86.63186076199969 32.84057112200048)\", \"ResponseID\": null, \"LocationID\": 1, \"TopicID\": \"OVC\", \"QuestionID\": \"OVC4_1\", \"DataValueTypeID\": \"NMBR\", \"StratificationCategoryID1\": \"OVERALL\", \"StratificationID1\": \"OVR\", \"StratificationCategoryID2\": null, \"StratificationID2\": null, \"StratificationCategoryID3\": null, \"StratificationID3\": null, \"id\": 1}, {\"YearStart\": 2019, \"YearEnd\": 2019, \"LocationAbbr\": \"PA\", \"LocationDesc\": \"Pennsylvania\", \"DataSource\": \"NVSS, Mortality\", \"Topic\": \"Overarching Conditions\", \"Question\": \"Life expectancy at birth\", \"Response\": null, \"DataValueUnit\": \"Years\", \"DataValueType\": \"Number\", \"DataValue\": 78.3, \"DataValueAlt\": 78.3, \"DataValueFootnoteSymbol\": NaN, \"DatavalueFootnote\": NaN, \"LowConfidenceLimit\": 78.2, \"HighConfidenceLimit\": 78.4, \"StratificationCategory1\": \"Overall\", \"Stratification1\": \"Overall\", \"StratificationCategory2\": null, \"Stratification2\": null, \"StratificationCategory3\": null, \"Stratification3\": null, \"GeoLocation\": \"POINT (-77.86070029399963 40.79373015200048)\", \"ResponseID\": null, \"LocationID\": 42, \"TopicID\": \"OVC\", \"QuestionID\": \"OVC4_1\", \"DataValueTypeID\": \"NMBR\", \"StratificationCategoryID1\": \"OVERALL\", \"StratificationID1\": \"OVR\", \"StratificationCategoryID2\": null, \"StratificationID2\": null, \"StratificationCategoryID3\": null, \"StratificationID3\": null, \"id\": 42}, {\"YearStart\": 2020, \"YearEnd\": 2020, \"LocationAbbr\": \"NE\", \"LocationDesc\": \"Nebraska\", \"DataSource\": \"NVSS, Mortality\", \"Topic\": \"Overarching Conditions\", \"Question\": \"Life expectancy at birth\", \"Response\": null, \"DataValueUnit\": \"Years\", \"DataValueType\": \"Number\", \"DataValue\": 77.7, \"DataValueAlt\": 77.7, \"DataValueFootnoteSymbol\": NaN, \"DatavalueFootnote\": NaN, \"LowConfidenceLimit\": 77.5, \"HighConfidenceLimit\": 77.9, \"StratificationCategory1\": \"Overall\", \"Stratification1\": \"Overall\", \"StratificationCategory2\": null, \"Stratification2\": null, \"StratificationCategory3\": null, \"Stratification3\": null, \"GeoLocation\": \"POINT (-99.36572062299967 41.6410409880005)\", \"ResponseID\": null, \"LocationID\": 31, \"TopicID\": \"OVC\", \"QuestionID\": \"OVC4_1\", \"DataValueTypeID\": \"NMBR\", \"StratificationCategoryID1\": \"OVERALL\", \"StratificationID1\": \"OVR\", \"StratificationCategoryID2\": null, \"StratificationID2\": null, \"StratificationCategoryID3\": null, \"StratificationID3\": null, \"id\": 31}, {\"YearStart\": 2019, \"YearEnd\": 2019, \"LocationAbbr\": \"OR\", \"LocationDesc\": \"Oregon\", \"DataSource\": \"NVSS, Mortality\", \"Topic\": \"Overarching Conditions\", \"Question\": \"Life expectancy at birth\", \"Response\": null, \"DataValueUnit\": \"Years\", \"DataValueType\": \"Number\", \"DataValue\": 79.6, \"DataValueAlt\": 79.6, \"DataValueFootnoteSymbol\": NaN, \"DatavalueFootnote\": NaN, \"LowConfidenceLimit\": 79.5, \"HighConfidenceLimit\": 79.7, \"StratificationCategory1\": \"Overall\", \"Stratification1\": \"Overall\", \"StratificationCategory2\": null, \"Stratification2\": null, \"StratificationCategory3\": null, \"Stratification3\": null, \"GeoLocation\": \"POINT (-120.15503132599969 44.56744942400047)\", \"ResponseID\": null, \"LocationID\": 41, \"TopicID\": \"OVC\", \"QuestionID\": \"OVC4_1\", \"DataValueTypeID\": \"NMBR\", \"StratificationCategoryID1\": \"OVERALL\", \"StratificationID1\": \"OVR\", \"StratificationCategoryID2\": null, \"StratificationID2\": null, \"StratificationCategoryID3\": null, \"StratificationID3\": null, \"id\": 41}, {\"YearStart\": 2001, \"YearEnd\": 2001, \"LocationAbbr\": \"MA\", \"LocationDesc\": \"Massachusetts\", \"DataSource\": \"NVSS, Mortality\", \"Topic\": \"Overarching Conditions\", \"Question\": \"Life expectancy at birth\", \"Response\": null, \"DataValueUnit\": \"Years\", \"DataValueType\": \"Number\", \"DataValue\": 78.8, \"DataValueAlt\": 78.8, \"DataValueFootnoteSymbol\": NaN, \"DatavalueFootnote\": NaN, \"LowConfidenceLimit\": null, \"HighConfidenceLimit\": null, \"StratificationCategory1\": \"Overall\", \"Stratification1\": \"Overall\", \"StratificationCategory2\": null, \"Stratification2\": null, \"StratificationCategory3\": null, \"Stratification3\": null, \"GeoLocation\": \"POINT (-72.08269067499964 42.27687047000046)\", \"ResponseID\": null, \"LocationID\": 25, \"TopicID\": \"OVC\", \"QuestionID\": \"OVC4_1\", \"DataValueTypeID\": \"NMBR\", \"StratificationCategoryID1\": \"OVERALL\", \"StratificationID1\": \"OVR\", \"StratificationCategoryID2\": null, \"StratificationID2\": null, \"StratificationCategoryID3\": null, \"StratificationID3\": null, \"id\": 25}, {\"YearStart\": 2001, \"YearEnd\": 2001, \"LocationAbbr\": \"NC\", \"LocationDesc\": \"North Carolina\", \"DataSource\": \"NVSS, Mortality\", \"Topic\": \"Overarching Conditions\", \"Question\": \"Life expectancy at birth\", \"Response\": null, \"DataValueUnit\": \"Years\", \"DataValueType\": \"Number\", \"DataValue\": 76.3, \"DataValueAlt\": 76.3, \"DataValueFootnoteSymbol\": NaN, \"DatavalueFootnote\": NaN, \"LowConfidenceLimit\": null, \"HighConfidenceLimit\": null, \"StratificationCategory1\": \"Overall\", \"Stratification1\": \"Overall\", \"StratificationCategory2\": null, \"Stratification2\": null, \"StratificationCategory3\": null, \"Stratification3\": null, \"GeoLocation\": \"POINT (-79.15925046299964 35.466220975000454)\", \"ResponseID\": null, \"LocationID\": 37, \"TopicID\": \"OVC\", \"QuestionID\": \"OVC4_1\", \"DataValueTypeID\": \"NMBR\", \"StratificationCategoryID1\": \"OVERALL\", \"StratificationID1\": \"OVR\", \"StratificationCategoryID2\": null, \"StratificationID2\": null, \"StratificationCategoryID3\": null, \"StratificationID3\": null, \"id\": 37}, {\"YearStart\": 2018, \"YearEnd\": 2018, \"LocationAbbr\": \"WA\", \"LocationDesc\": \"Washington\", \"DataSource\": \"NVSS, Mortality\", \"Topic\": \"Overarching Conditions\", \"Question\": \"Life expectancy at birth\", \"Response\": null, \"DataValueUnit\": \"Years\", \"DataValueType\": \"Number\", \"DataValue\": 80.0, \"DataValueAlt\": 80.0, \"DataValueFootnoteSymbol\": NaN, \"DatavalueFootnote\": NaN, \"LowConfidenceLimit\": 79.9, \"HighConfidenceLimit\": 80.1, \"StratificationCategory1\": \"Overall\", \"Stratification1\": \"Overall\", \"StratificationCategory2\": null, \"Stratification2\": null, \"StratificationCategory3\": null, \"Stratification3\": null, \"GeoLocation\": \"POINT (-120.47001078999972 47.52227862900048)\", \"ResponseID\": null, \"LocationID\": 53, \"TopicID\": \"OVC\", \"QuestionID\": \"OVC4_1\", \"DataValueTypeID\": \"NMBR\", \"StratificationCategoryID1\": \"OVERALL\", \"StratificationID1\": \"OVR\", \"StratificationCategoryID2\": null, \"StratificationID2\": null, \"StratificationCategoryID3\": null, \"StratificationID3\": null, \"id\": 53}, {\"YearStart\": 2001, \"YearEnd\": 2001, \"LocationAbbr\": \"SD\", \"LocationDesc\": \"South Dakota\", \"DataSource\": \"NVSS, Mortality\", \"Topic\": \"Overarching Conditions\", \"Question\": \"Life expectancy at birth\", \"Response\": null, \"DataValueUnit\": \"Years\", \"DataValueType\": \"Number\", \"DataValue\": 78.3, \"DataValueAlt\": 78.3, \"DataValueFootnoteSymbol\": NaN, \"DatavalueFootnote\": NaN, \"LowConfidenceLimit\": null, \"HighConfidenceLimit\": null, \"StratificationCategory1\": \"Overall\", \"Stratification1\": \"Overall\", \"StratificationCategory2\": null, \"Stratification2\": null, \"StratificationCategory3\": null, \"Stratification3\": null, \"GeoLocation\": \"POINT (-100.3735306369997 44.353130053000484)\", \"ResponseID\": null, \"LocationID\": 46, \"TopicID\": \"OVC\", \"QuestionID\": \"OVC4_1\", \"DataValueTypeID\": \"NMBR\", \"StratificationCategoryID1\": \"OVERALL\", \"StratificationID1\": \"OVR\", \"StratificationCategoryID2\": null, \"StratificationID2\": null, \"StratificationCategoryID3\": null, \"StratificationID3\": null, \"id\": 46}, {\"YearStart\": 2019, \"YearEnd\": 2019, \"LocationAbbr\": \"NV\", \"LocationDesc\": \"Nevada\", \"DataSource\": \"NVSS, Mortality\", \"Topic\": \"Overarching Conditions\", \"Question\": \"Life expectancy at birth\", \"Response\": null, \"DataValueUnit\": \"Years\", \"DataValueType\": \"Number\", \"DataValue\": 78.0, \"DataValueAlt\": 78.0, \"DataValueFootnoteSymbol\": NaN, \"DatavalueFootnote\": NaN, \"LowConfidenceLimit\": 77.8, \"HighConfidenceLimit\": 78.2, \"StratificationCategory1\": \"Overall\", \"Stratification1\": \"Overall\", \"StratificationCategory2\": null, \"Stratification2\": null, \"StratificationCategory3\": null, \"Stratification3\": null, \"GeoLocation\": \"POINT (-117.07184056399967 39.493240390000494)\", \"ResponseID\": null, \"LocationID\": 32, \"TopicID\": \"OVC\", \"QuestionID\": \"OVC4_1\", \"DataValueTypeID\": \"NMBR\", \"StratificationCategoryID1\": \"OVERALL\", \"StratificationID1\": \"OVR\", \"StratificationCategoryID2\": null, \"StratificationID2\": null, \"StratificationCategoryID3\": null, \"StratificationID3\": null, \"id\": 32}, {\"YearStart\": 2019, \"YearEnd\": 2019, \"LocationAbbr\": \"WV\", \"LocationDesc\": \"West Virginia\", \"DataSource\": \"NVSS, Mortality\", \"Topic\": \"Overarching Conditions\", \"Question\": \"Life expectancy at birth\", \"Response\": null, \"DataValueUnit\": \"Years\", \"DataValueType\": \"Number\", \"DataValue\": 74.5, \"DataValueAlt\": 74.5, \"DataValueFootnoteSymbol\": NaN, \"DatavalueFootnote\": NaN, \"LowConfidenceLimit\": 74.3, \"HighConfidenceLimit\": 74.7, \"StratificationCategory1\": \"Overall\", \"Stratification1\": \"Overall\", \"StratificationCategory2\": null, \"Stratification2\": null, \"StratificationCategory3\": null, \"Stratification3\": null, \"GeoLocation\": \"POINT (-80.71264013499967 38.66551020200046)\", \"ResponseID\": null, \"LocationID\": 54, \"TopicID\": \"OVC\", \"QuestionID\": \"OVC4_1\", \"DataValueTypeID\": \"NMBR\", \"StratificationCategoryID1\": \"OVERALL\", \"StratificationID1\": \"OVR\", \"StratificationCategoryID2\": null, \"StratificationID2\": null, \"StratificationCategoryID3\": null, \"StratificationID3\": null, \"id\": 54}, {\"YearStart\": 2009, \"YearEnd\": 2009, \"LocationAbbr\": \"AL\", \"LocationDesc\": \"Alabama\", \"DataSource\": \"NVSS, Mortality\", \"Topic\": \"Overarching Conditions\", \"Question\": \"Life expectancy at birth\", \"Response\": null, \"DataValueUnit\": \"Years\", \"DataValueType\": \"Number\", \"DataValue\": 75.4, \"DataValueAlt\": 75.4, \"DataValueFootnoteSymbol\": NaN, \"DatavalueFootnote\": NaN, \"LowConfidenceLimit\": null, \"HighConfidenceLimit\": null, \"StratificationCategory1\": \"Overall\", \"Stratification1\": \"Overall\", \"StratificationCategory2\": null, \"Stratification2\": null, \"StratificationCategory3\": null, \"Stratification3\": null, \"GeoLocation\": \"POINT (-86.63186076199969 32.84057112200048)\", \"ResponseID\": null, \"LocationID\": 1, \"TopicID\": \"OVC\", \"QuestionID\": \"OVC4_1\", \"DataValueTypeID\": \"NMBR\", \"StratificationCategoryID1\": \"OVERALL\", \"StratificationID1\": \"OVR\", \"StratificationCategoryID2\": null, \"StratificationID2\": null, \"StratificationCategoryID3\": null, \"StratificationID3\": null, \"id\": 1}, {\"YearStart\": 2009, \"YearEnd\": 2009, \"LocationAbbr\": \"PA\", \"LocationDesc\": \"Pennsylvania\", \"DataSource\": \"NVSS, Mortality\", \"Topic\": \"Overarching Conditions\", \"Question\": \"Life expectancy at birth\", \"Response\": null, \"DataValueUnit\": \"Years\", \"DataValueType\": \"Number\", \"DataValue\": 78.5, \"DataValueAlt\": 78.5, \"DataValueFootnoteSymbol\": NaN, \"DatavalueFootnote\": NaN, \"LowConfidenceLimit\": null, \"HighConfidenceLimit\": null, \"StratificationCategory1\": \"Overall\", \"Stratification1\": \"Overall\", \"StratificationCategory2\": null, \"Stratification2\": null, \"StratificationCategory3\": null, \"Stratification3\": null, \"GeoLocation\": \"POINT (-77.86070029399963 40.79373015200048)\", \"ResponseID\": null, \"LocationID\": 42, \"TopicID\": \"OVC\", \"QuestionID\": \"OVC4_1\", \"DataValueTypeID\": \"NMBR\", \"StratificationCategoryID1\": \"OVERALL\", \"StratificationID1\": \"OVR\", \"StratificationCategoryID2\": null, \"StratificationID2\": null, \"StratificationCategoryID3\": null, \"StratificationID3\": null, \"id\": 42}, {\"YearStart\": 2009, \"YearEnd\": 2009, \"LocationAbbr\": \"NM\", \"LocationDesc\": \"New Mexico\", \"DataSource\": \"NVSS, Mortality\", \"Topic\": \"Overarching Conditions\", \"Question\": \"Life expectancy at birth\", \"Response\": null, \"DataValueUnit\": \"Years\", \"DataValueType\": \"Number\", \"DataValue\": 78.4, \"DataValueAlt\": 78.4, \"DataValueFootnoteSymbol\": NaN, \"DatavalueFootnote\": NaN, \"LowConfidenceLimit\": null, \"HighConfidenceLimit\": null, \"StratificationCategory1\": \"Overall\", \"Stratification1\": \"Overall\", \"StratificationCategory2\": null, \"Stratification2\": null, \"StratificationCategory3\": null, \"Stratification3\": null, \"GeoLocation\": \"POINT (-106.24058098499967 34.52088095200048)\", \"ResponseID\": null, \"LocationID\": 35, \"TopicID\": \"OVC\", \"QuestionID\": \"OVC4_1\", \"DataValueTypeID\": \"NMBR\", \"StratificationCategoryID1\": \"OVERALL\", \"StratificationID1\": \"OVR\", \"StratificationCategoryID2\": null, \"StratificationID2\": null, \"StratificationCategoryID3\": null, \"StratificationID3\": null, \"id\": 35}, {\"YearStart\": 2018, \"YearEnd\": 2018, \"LocationAbbr\": \"ME\", \"LocationDesc\": \"Maine\", \"DataSource\": \"NVSS, Mortality\", \"Topic\": \"Overarching Conditions\", \"Question\": \"Life expectancy at birth\", \"Response\": null, \"DataValueUnit\": \"Years\", \"DataValueType\": \"Number\", \"DataValue\": 78.6, \"DataValueAlt\": 78.6, \"DataValueFootnoteSymbol\": NaN, \"DatavalueFootnote\": NaN, \"LowConfidenceLimit\": 78.4, \"HighConfidenceLimit\": 78.8, \"StratificationCategory1\": \"Overall\", \"Stratification1\": \"Overall\", \"StratificationCategory2\": null, \"Stratification2\": null, \"StratificationCategory3\": null, \"Stratification3\": null, \"GeoLocation\": \"POINT (-68.98503133599962 45.254228894000505)\", \"ResponseID\": null, \"LocationID\": 23, \"TopicID\": \"OVC\", \"QuestionID\": \"OVC4_1\", \"DataValueTypeID\": \"NMBR\", \"StratificationCategoryID1\": \"OVERALL\", \"StratificationID1\": \"OVR\", \"StratificationCategoryID2\": null, \"StratificationID2\": null, \"StratificationCategoryID3\": null, \"StratificationID3\": null, \"id\": 23}, {\"YearStart\": 2019, \"YearEnd\": 2019, \"LocationAbbr\": \"TX\", \"LocationDesc\": \"Texas\", \"DataSource\": \"NVSS, Mortality\", \"Topic\": \"Overarching Conditions\", \"Question\": \"Life expectancy at birth\", \"Response\": null, \"DataValueUnit\": \"Years\", \"DataValueType\": \"Number\", \"DataValue\": 78.6, \"DataValueAlt\": 78.6, \"DataValueFootnoteSymbol\": NaN, \"DatavalueFootnote\": NaN, \"LowConfidenceLimit\": 78.5, \"HighConfidenceLimit\": 78.7, \"StratificationCategory1\": \"Overall\", \"Stratification1\": \"Overall\", \"StratificationCategory2\": null, \"Stratification2\": null, \"StratificationCategory3\": null, \"Stratification3\": null, \"GeoLocation\": \"POINT (-99.42677020599967 31.827240407000488)\", \"ResponseID\": null, \"LocationID\": 48, \"TopicID\": \"OVC\", \"QuestionID\": \"OVC4_1\", \"DataValueTypeID\": \"NMBR\", \"StratificationCategoryID1\": \"OVERALL\", \"StratificationID1\": \"OVR\", \"StratificationCategoryID2\": null, \"StratificationID2\": null, \"StratificationCategoryID3\": null, \"StratificationID3\": null, \"id\": 48}, {\"YearStart\": 2001, \"YearEnd\": 2001, \"LocationAbbr\": \"WV\", \"LocationDesc\": \"West Virginia\", \"DataSource\": \"NVSS, Mortality\", \"Topic\": \"Overarching Conditions\", \"Question\": \"Life expectancy at birth\", \"Response\": null, \"DataValueUnit\": \"Years\", \"DataValueType\": \"Number\", \"DataValue\": 75.3, \"DataValueAlt\": 75.3, \"DataValueFootnoteSymbol\": NaN, \"DatavalueFootnote\": NaN, \"LowConfidenceLimit\": null, \"HighConfidenceLimit\": null, \"StratificationCategory1\": \"Overall\", \"Stratification1\": \"Overall\", \"StratificationCategory2\": null, \"Stratification2\": null, \"StratificationCategory3\": null, \"Stratification3\": null, \"GeoLocation\": \"POINT (-80.71264013499967 38.66551020200046)\", \"ResponseID\": null, \"LocationID\": 54, \"TopicID\": \"OVC\", \"QuestionID\": \"OVC4_1\", \"DataValueTypeID\": \"NMBR\", \"StratificationCategoryID1\": \"OVERALL\", \"StratificationID1\": \"OVR\", \"StratificationCategoryID2\": null, \"StratificationID2\": null, \"StratificationCategoryID3\": null, \"StratificationID3\": null, \"id\": 54}, {\"YearStart\": 2020, \"YearEnd\": 2020, \"LocationAbbr\": \"MO\", \"LocationDesc\": \"Missouri\", \"DataSource\": \"NVSS, Mortality\", \"Topic\": \"Overarching Conditions\", \"Question\": \"Life expectancy at birth\", \"Response\": null, \"DataValueUnit\": \"Years\", \"DataValueType\": \"Number\", \"DataValue\": 75.1, \"DataValueAlt\": 75.1, \"DataValueFootnoteSymbol\": NaN, \"DatavalueFootnote\": NaN, \"LowConfidenceLimit\": 75.0, \"HighConfidenceLimit\": 75.2, \"StratificationCategory1\": \"Overall\", \"Stratification1\": \"Overall\", \"StratificationCategory2\": null, \"Stratification2\": null, \"StratificationCategory3\": null, \"Stratification3\": null, \"GeoLocation\": \"POINT (-92.56630005299968 38.635790776000476)\", \"ResponseID\": null, \"LocationID\": 29, \"TopicID\": \"OVC\", \"QuestionID\": \"OVC4_1\", \"DataValueTypeID\": \"NMBR\", \"StratificationCategoryID1\": \"OVERALL\", \"StratificationID1\": \"OVR\", \"StratificationCategoryID2\": null, \"StratificationID2\": null, \"StratificationCategoryID3\": null, \"StratificationID3\": null, \"id\": 29}, {\"YearStart\": 2020, \"YearEnd\": 2020, \"LocationAbbr\": \"IN\", \"LocationDesc\": \"Indiana\", \"DataSource\": \"NVSS, Mortality\", \"Topic\": \"Overarching Conditions\", \"Question\": \"Life expectancy at birth\", \"Response\": null, \"DataValueUnit\": \"Years\", \"DataValueType\": \"Number\", \"DataValue\": 75.0, \"DataValueAlt\": 75.0, \"DataValueFootnoteSymbol\": NaN, \"DatavalueFootnote\": NaN, \"LowConfidenceLimit\": 74.9, \"HighConfidenceLimit\": 75.1, \"StratificationCategory1\": \"Overall\", \"Stratification1\": \"Overall\", \"StratificationCategory2\": null, \"Stratification2\": null, \"StratificationCategory3\": null, \"Stratification3\": null, \"GeoLocation\": \"POINT (-86.14996019399968 39.766910452000445)\", \"ResponseID\": null, \"LocationID\": 18, \"TopicID\": \"OVC\", \"QuestionID\": \"OVC4_1\", \"DataValueTypeID\": \"NMBR\", \"StratificationCategoryID1\": \"OVERALL\", \"StratificationID1\": \"OVR\", \"StratificationCategoryID2\": null, \"StratificationID2\": null, \"StratificationCategoryID3\": null, \"StratificationID3\": null, \"id\": 18}, {\"YearStart\": 2001, \"YearEnd\": 2001, \"LocationAbbr\": \"OK\", \"LocationDesc\": \"Oklahoma\", \"DataSource\": \"NVSS, Mortality\", \"Topic\": \"Overarching Conditions\", \"Question\": \"Life expectancy at birth\", \"Response\": null, \"DataValueUnit\": \"Years\", \"DataValueType\": \"Number\", \"DataValue\": 75.6, \"DataValueAlt\": 75.6, \"DataValueFootnoteSymbol\": NaN, \"DatavalueFootnote\": NaN, \"LowConfidenceLimit\": null, \"HighConfidenceLimit\": null, \"StratificationCategory1\": \"Overall\", \"Stratification1\": \"Overall\", \"StratificationCategory2\": null, \"Stratification2\": null, \"StratificationCategory3\": null, \"Stratification3\": null, \"GeoLocation\": \"POINT (-97.52107021399968 35.47203135600046)\", \"ResponseID\": null, \"LocationID\": 40, \"TopicID\": \"OVC\", \"QuestionID\": \"OVC4_1\", \"DataValueTypeID\": \"NMBR\", \"StratificationCategoryID1\": \"OVERALL\", \"StratificationID1\": \"OVR\", \"StratificationCategoryID2\": null, \"StratificationID2\": null, \"StratificationCategoryID3\": null, \"StratificationID3\": null, \"id\": 40}, {\"YearStart\": 2019, \"YearEnd\": 2019, \"LocationAbbr\": \"KY\", \"LocationDesc\": \"Kentucky\", \"DataSource\": \"NVSS, Mortality\", \"Topic\": \"Overarching Conditions\", \"Question\": \"Life expectancy at birth\", \"Response\": null, \"DataValueUnit\": \"Years\", \"DataValueType\": \"Number\", \"DataValue\": 75.5, \"DataValueAlt\": 75.5, \"DataValueFootnoteSymbol\": NaN, \"DatavalueFootnote\": NaN, \"LowConfidenceLimit\": 75.4, \"HighConfidenceLimit\": 75.6, \"StratificationCategory1\": \"Overall\", \"Stratification1\": \"Overall\", \"StratificationCategory2\": null, \"Stratification2\": null, \"StratificationCategory3\": null, \"Stratification3\": null, \"GeoLocation\": \"POINT (-84.77497104799966 37.645970271000465)\", \"ResponseID\": null, \"LocationID\": 21, \"TopicID\": \"OVC\", \"QuestionID\": \"OVC4_1\", \"DataValueTypeID\": \"NMBR\", \"StratificationCategoryID1\": \"OVERALL\", \"StratificationID1\": \"OVR\", \"StratificationCategoryID2\": null, \"StratificationID2\": null, \"StratificationCategoryID3\": null, \"StratificationID3\": null, \"id\": 21}, {\"YearStart\": 2018, \"YearEnd\": 2018, \"LocationAbbr\": \"VA\", \"LocationDesc\": \"Virginia\", \"DataSource\": \"NVSS, Mortality\", \"Topic\": \"Overarching Conditions\", \"Question\": \"Life expectancy at birth\", \"Response\": null, \"DataValueUnit\": \"Years\", \"DataValueType\": \"Number\", \"DataValue\": 79.0, \"DataValueAlt\": 79.0, \"DataValueFootnoteSymbol\": NaN, \"DatavalueFootnote\": NaN, \"LowConfidenceLimit\": 78.9, \"HighConfidenceLimit\": 79.1, \"StratificationCategory1\": \"Overall\", \"Stratification1\": \"Overall\", \"StratificationCategory2\": null, \"Stratification2\": null, \"StratificationCategory3\": null, \"Stratification3\": null, \"GeoLocation\": \"POINT (-78.45789046299967 37.54268067400045)\", \"ResponseID\": null, \"LocationID\": 51, \"TopicID\": \"OVC\", \"QuestionID\": \"OVC4_1\", \"DataValueTypeID\": \"NMBR\", \"StratificationCategoryID1\": \"OVERALL\", \"StratificationID1\": \"OVR\", \"StratificationCategoryID2\": null, \"StratificationID2\": null, \"StratificationCategoryID3\": null, \"StratificationID3\": null, \"id\": 51}, {\"YearStart\": 2001, \"YearEnd\": 2001, \"LocationAbbr\": \"NM\", \"LocationDesc\": \"New Mexico\", \"DataSource\": \"NVSS, Mortality\", \"Topic\": \"Overarching Conditions\", \"Question\": \"Life expectancy at birth\", \"Response\": null, \"DataValueUnit\": \"Years\", \"DataValueType\": \"Number\", \"DataValue\": 77.3, \"DataValueAlt\": 77.3, \"DataValueFootnoteSymbol\": NaN, \"DatavalueFootnote\": NaN, \"LowConfidenceLimit\": null, \"HighConfidenceLimit\": null, \"StratificationCategory1\": \"Overall\", \"Stratification1\": \"Overall\", \"StratificationCategory2\": null, \"Stratification2\": null, \"StratificationCategory3\": null, \"Stratification3\": null, \"GeoLocation\": \"POINT (-106.24058098499967 34.52088095200048)\", \"ResponseID\": null, \"LocationID\": 35, \"TopicID\": \"OVC\", \"QuestionID\": \"OVC4_1\", \"DataValueTypeID\": \"NMBR\", \"StratificationCategoryID1\": \"OVERALL\", \"StratificationID1\": \"OVR\", \"StratificationCategoryID2\": null, \"StratificationID2\": null, \"StratificationCategoryID3\": null, \"StratificationID3\": null, \"id\": 35}, {\"YearStart\": 2009, \"YearEnd\": 2009, \"LocationAbbr\": \"MA\", \"LocationDesc\": \"Massachusetts\", \"DataSource\": \"NVSS, Mortality\", \"Topic\": \"Overarching Conditions\", \"Question\": \"Life expectancy at birth\", \"Response\": null, \"DataValueUnit\": \"Years\", \"DataValueType\": \"Number\", \"DataValue\": 80.5, \"DataValueAlt\": 80.5, \"DataValueFootnoteSymbol\": NaN, \"DatavalueFootnote\": NaN, \"LowConfidenceLimit\": null, \"HighConfidenceLimit\": null, \"StratificationCategory1\": \"Overall\", \"Stratification1\": \"Overall\", \"StratificationCategory2\": null, \"Stratification2\": null, \"StratificationCategory3\": null, \"Stratification3\": null, \"GeoLocation\": \"POINT (-72.08269067499964 42.27687047000046)\", \"ResponseID\": null, \"LocationID\": 25, \"TopicID\": \"OVC\", \"QuestionID\": \"OVC4_1\", \"DataValueTypeID\": \"NMBR\", \"StratificationCategoryID1\": \"OVERALL\", \"StratificationID1\": \"OVR\", \"StratificationCategoryID2\": null, \"StratificationID2\": null, \"StratificationCategoryID3\": null, \"StratificationID3\": null, \"id\": 25}, {\"YearStart\": 2018, \"YearEnd\": 2018, \"LocationAbbr\": \"MI\", \"LocationDesc\": \"Michigan\", \"DataSource\": \"NVSS, Mortality\", \"Topic\": \"Overarching Conditions\", \"Question\": \"Life expectancy at birth\", \"Response\": null, \"DataValueUnit\": \"Years\", \"DataValueType\": \"Number\", \"DataValue\": 77.7, \"DataValueAlt\": 77.7, \"DataValueFootnoteSymbol\": NaN, \"DatavalueFootnote\": NaN, \"LowConfidenceLimit\": 77.6, \"HighConfidenceLimit\": 77.8, \"StratificationCategory1\": \"Overall\", \"Stratification1\": \"Overall\", \"StratificationCategory2\": null, \"Stratification2\": null, \"StratificationCategory3\": null, \"Stratification3\": null, \"GeoLocation\": \"POINT (-84.71439026999968 44.6613195430005)\", \"ResponseID\": null, \"LocationID\": 26, \"TopicID\": \"OVC\", \"QuestionID\": \"OVC4_1\", \"DataValueTypeID\": \"NMBR\", \"StratificationCategoryID1\": \"OVERALL\", \"StratificationID1\": \"OVR\", \"StratificationCategoryID2\": null, \"StratificationID2\": null, \"StratificationCategoryID3\": null, \"StratificationID3\": null, \"id\": 26}, {\"YearStart\": 2018, \"YearEnd\": 2018, \"LocationAbbr\": \"AL\", \"LocationDesc\": \"Alabama\", \"DataSource\": \"NVSS, Mortality\", \"Topic\": \"Overarching Conditions\", \"Question\": \"Life expectancy at birth\", \"Response\": null, \"DataValueUnit\": \"Years\", \"DataValueType\": \"Number\", \"DataValue\": 75.1, \"DataValueAlt\": 75.1, \"DataValueFootnoteSymbol\": NaN, \"DatavalueFootnote\": NaN, \"LowConfidenceLimit\": 75.0, \"HighConfidenceLimit\": 75.2, \"StratificationCategory1\": \"Overall\", \"Stratification1\": \"Overall\", \"StratificationCategory2\": null, \"Stratification2\": null, \"StratificationCategory3\": null, \"Stratification3\": null, \"GeoLocation\": \"POINT (-86.63186076199969 32.84057112200048)\", \"ResponseID\": null, \"LocationID\": 1, \"TopicID\": \"OVC\", \"QuestionID\": \"OVC4_1\", \"DataValueTypeID\": \"NMBR\", \"StratificationCategoryID1\": \"OVERALL\", \"StratificationID1\": \"OVR\", \"StratificationCategoryID2\": null, \"StratificationID2\": null, \"StratificationCategoryID3\": null, \"StratificationID3\": null, \"id\": 1}, {\"YearStart\": 2009, \"YearEnd\": 2009, \"LocationAbbr\": \"DC\", \"LocationDesc\": \"District of Columbia\", \"DataSource\": \"NVSS, Mortality\", \"Topic\": \"Overarching Conditions\", \"Question\": \"Life expectancy at birth\", \"Response\": null, \"DataValueUnit\": \"Years\", \"DataValueType\": \"Number\", \"DataValue\": 76.5, \"DataValueAlt\": 76.5, \"DataValueFootnoteSymbol\": NaN, \"DatavalueFootnote\": NaN, \"LowConfidenceLimit\": null, \"HighConfidenceLimit\": null, \"StratificationCategory1\": \"Overall\", \"Stratification1\": \"Overall\", \"StratificationCategory2\": null, \"Stratification2\": null, \"StratificationCategory3\": null, \"Stratification3\": null, \"GeoLocation\": \"POINT (-77.036871 38.907192)\", \"ResponseID\": null, \"LocationID\": 11, \"TopicID\": \"OVC\", \"QuestionID\": \"OVC4_1\", \"DataValueTypeID\": \"NMBR\", \"StratificationCategoryID1\": \"OVERALL\", \"StratificationID1\": \"OVR\", \"StratificationCategoryID2\": null, \"StratificationID2\": null, \"StratificationCategoryID3\": null, \"StratificationID3\": null, \"id\": 11}, {\"YearStart\": 2001, \"YearEnd\": 2001, \"LocationAbbr\": \"HI\", \"LocationDesc\": \"Hawaii\", \"DataSource\": \"NVSS, Mortality\", \"Topic\": \"Overarching Conditions\", \"Question\": \"Life expectancy at birth\", \"Response\": null, \"DataValueUnit\": \"Years\", \"DataValueType\": \"Number\", \"DataValue\": 80.2, \"DataValueAlt\": 80.2, \"DataValueFootnoteSymbol\": NaN, \"DatavalueFootnote\": NaN, \"LowConfidenceLimit\": null, \"HighConfidenceLimit\": null, \"StratificationCategory1\": \"Overall\", \"Stratification1\": \"Overall\", \"StratificationCategory2\": null, \"Stratification2\": null, \"StratificationCategory3\": null, \"Stratification3\": null, \"GeoLocation\": \"POINT (-157.85774940299973 21.304850435000446)\", \"ResponseID\": null, \"LocationID\": 15, \"TopicID\": \"OVC\", \"QuestionID\": \"OVC4_1\", \"DataValueTypeID\": \"NMBR\", \"StratificationCategoryID1\": \"OVERALL\", \"StratificationID1\": \"OVR\", \"StratificationCategoryID2\": null, \"StratificationID2\": null, \"StratificationCategoryID3\": null, \"StratificationID3\": null, \"id\": 15}, {\"YearStart\": 2020, \"YearEnd\": 2020, \"LocationAbbr\": \"ND\", \"LocationDesc\": \"North Dakota\", \"DataSource\": \"NVSS, Mortality\", \"Topic\": \"Overarching Conditions\", \"Question\": \"Life expectancy at birth\", \"Response\": null, \"DataValueUnit\": \"Years\", \"DataValueType\": \"Number\", \"DataValue\": 76.9, \"DataValueAlt\": 76.9, \"DataValueFootnoteSymbol\": NaN, \"DatavalueFootnote\": NaN, \"LowConfidenceLimit\": 76.6, \"HighConfidenceLimit\": 77.2, \"StratificationCategory1\": \"Overall\", \"Stratification1\": \"Overall\", \"StratificationCategory2\": null, \"Stratification2\": null, \"StratificationCategory3\": null, \"Stratification3\": null, \"GeoLocation\": \"POINT (-100.11842104899966 47.47531977900047)\", \"ResponseID\": null, \"LocationID\": 38, \"TopicID\": \"OVC\", \"QuestionID\": \"OVC4_1\", \"DataValueTypeID\": \"NMBR\", \"StratificationCategoryID1\": \"OVERALL\", \"StratificationID1\": \"OVR\", \"StratificationCategoryID2\": null, \"StratificationID2\": null, \"StratificationCategoryID3\": null, \"StratificationID3\": null, \"id\": 38}, {\"YearStart\": 2001, \"YearEnd\": 2001, \"LocationAbbr\": \"LA\", \"LocationDesc\": \"Louisiana\", \"DataSource\": \"NVSS, Mortality\", \"Topic\": \"Overarching Conditions\", \"Question\": \"Life expectancy at birth\", \"Response\": null, \"DataValueUnit\": \"Years\", \"DataValueType\": \"Number\", \"DataValue\": 74.3, \"DataValueAlt\": 74.3, \"DataValueFootnoteSymbol\": NaN, \"DatavalueFootnote\": NaN, \"LowConfidenceLimit\": null, \"HighConfidenceLimit\": null, \"StratificationCategory1\": \"Overall\", \"Stratification1\": \"Overall\", \"StratificationCategory2\": null, \"Stratification2\": null, \"StratificationCategory3\": null, \"Stratification3\": null, \"GeoLocation\": \"POINT (-92.44568007099969 31.31266064400046)\", \"ResponseID\": null, \"LocationID\": 22, \"TopicID\": \"OVC\", \"QuestionID\": \"OVC4_1\", \"DataValueTypeID\": \"NMBR\", \"StratificationCategoryID1\": \"OVERALL\", \"StratificationID1\": \"OVR\", \"StratificationCategoryID2\": null, \"StratificationID2\": null, \"StratificationCategoryID3\": null, \"StratificationID3\": null, \"id\": 22}, {\"YearStart\": 2009, \"YearEnd\": 2009, \"LocationAbbr\": \"KS\", \"LocationDesc\": \"Kansas\", \"DataSource\": \"NVSS, Mortality\", \"Topic\": \"Overarching Conditions\", \"Question\": \"Life expectancy at birth\", \"Response\": null, \"DataValueUnit\": \"Years\", \"DataValueType\": \"Number\", \"DataValue\": 78.7, \"DataValueAlt\": 78.7, \"DataValueFootnoteSymbol\": NaN, \"DatavalueFootnote\": NaN, \"LowConfidenceLimit\": null, \"HighConfidenceLimit\": null, \"StratificationCategory1\": \"Overall\", \"Stratification1\": \"Overall\", \"StratificationCategory2\": null, \"Stratification2\": null, \"StratificationCategory3\": null, \"Stratification3\": null, \"GeoLocation\": \"POINT (-98.20078122699965 38.34774030000045)\", \"ResponseID\": null, \"LocationID\": 20, \"TopicID\": \"OVC\", \"QuestionID\": \"OVC4_1\", \"DataValueTypeID\": \"NMBR\", \"StratificationCategoryID1\": \"OVERALL\", \"StratificationID1\": \"OVR\", \"StratificationCategoryID2\": null, \"StratificationID2\": null, \"StratificationCategoryID3\": null, \"StratificationID3\": null, \"id\": 20}, {\"YearStart\": 2001, \"YearEnd\": 2001, \"LocationAbbr\": \"NY\", \"LocationDesc\": \"New York\", \"DataSource\": \"NVSS, Mortality\", \"Topic\": \"Overarching Conditions\", \"Question\": \"Life expectancy at birth\", \"Response\": null, \"DataValueUnit\": \"Years\", \"DataValueType\": \"Number\", \"DataValue\": 78.2, \"DataValueAlt\": 78.2, \"DataValueFootnoteSymbol\": NaN, \"DatavalueFootnote\": NaN, \"LowConfidenceLimit\": null, \"HighConfidenceLimit\": null, \"StratificationCategory1\": \"Overall\", \"Stratification1\": \"Overall\", \"StratificationCategory2\": null, \"Stratification2\": null, \"StratificationCategory3\": null, \"Stratification3\": null, \"GeoLocation\": \"POINT (-75.54397042699964 42.82700103200045)\", \"ResponseID\": null, \"LocationID\": 36, \"TopicID\": \"OVC\", \"QuestionID\": \"OVC4_1\", \"DataValueTypeID\": \"NMBR\", \"StratificationCategoryID1\": \"OVERALL\", \"StratificationID1\": \"OVR\", \"StratificationCategoryID2\": null, \"StratificationID2\": null, \"StratificationCategoryID3\": null, \"StratificationID3\": null, \"id\": 36}, {\"YearStart\": 2020, \"YearEnd\": 2020, \"LocationAbbr\": \"ID\", \"LocationDesc\": \"Idaho\", \"DataSource\": \"NVSS, Mortality\", \"Topic\": \"Overarching Conditions\", \"Question\": \"Life expectancy at birth\", \"Response\": null, \"DataValueUnit\": \"Years\", \"DataValueType\": \"Number\", \"DataValue\": 78.4, \"DataValueAlt\": 78.4, \"DataValueFootnoteSymbol\": NaN, \"DatavalueFootnote\": NaN, \"LowConfidenceLimit\": 78.2, \"HighConfidenceLimit\": 78.6, \"StratificationCategory1\": \"Overall\", \"Stratification1\": \"Overall\", \"StratificationCategory2\": null, \"Stratification2\": null, \"StratificationCategory3\": null, \"Stratification3\": null, \"GeoLocation\": \"POINT (-114.3637300419997 43.682630005000476)\", \"ResponseID\": null, \"LocationID\": 16, \"TopicID\": \"OVC\", \"QuestionID\": \"OVC4_1\", \"DataValueTypeID\": \"NMBR\", \"StratificationCategoryID1\": \"OVERALL\", \"StratificationID1\": \"OVR\", \"StratificationCategoryID2\": null, \"StratificationID2\": null, \"StratificationCategoryID3\": null, \"StratificationID3\": null, \"id\": 16}, {\"YearStart\": 2009, \"YearEnd\": 2009, \"LocationAbbr\": \"NJ\", \"LocationDesc\": \"New Jersey\", \"DataSource\": \"NVSS, Mortality\", \"Topic\": \"Overarching Conditions\", \"Question\": \"Life expectancy at birth\", \"Response\": null, \"DataValueUnit\": \"Years\", \"DataValueType\": \"Number\", \"DataValue\": 80.3, \"DataValueAlt\": 80.3, \"DataValueFootnoteSymbol\": NaN, \"DatavalueFootnote\": NaN, \"LowConfidenceLimit\": null, \"HighConfidenceLimit\": null, \"StratificationCategory1\": \"Overall\", \"Stratification1\": \"Overall\", \"StratificationCategory2\": null, \"Stratification2\": null, \"StratificationCategory3\": null, \"Stratification3\": null, \"GeoLocation\": \"POINT (-74.27369128799967 40.13057004800049)\", \"ResponseID\": null, \"LocationID\": 34, \"TopicID\": \"OVC\", \"QuestionID\": \"OVC4_1\", \"DataValueTypeID\": \"NMBR\", \"StratificationCategoryID1\": \"OVERALL\", \"StratificationID1\": \"OVR\", \"StratificationCategoryID2\": null, \"StratificationID2\": null, \"StratificationCategoryID3\": null, \"StratificationID3\": null, \"id\": 34}, {\"YearStart\": 2020, \"YearEnd\": 2020, \"LocationAbbr\": \"OK\", \"LocationDesc\": \"Oklahoma\", \"DataSource\": \"NVSS, Mortality\", \"Topic\": \"Overarching Conditions\", \"Question\": \"Life expectancy at birth\", \"Response\": null, \"DataValueUnit\": \"Years\", \"DataValueType\": \"Number\", \"DataValue\": 74.1, \"DataValueAlt\": 74.1, \"DataValueFootnoteSymbol\": NaN, \"DatavalueFootnote\": NaN, \"LowConfidenceLimit\": 74.0, \"HighConfidenceLimit\": 74.2, \"StratificationCategory1\": \"Overall\", \"Stratification1\": \"Overall\", \"StratificationCategory2\": null, \"Stratification2\": null, \"StratificationCategory3\": null, \"Stratification3\": null, \"GeoLocation\": \"POINT (-97.52107021399968 35.47203135600046)\", \"ResponseID\": null, \"LocationID\": 40, \"TopicID\": \"OVC\", \"QuestionID\": \"OVC4_1\", \"DataValueTypeID\": \"NMBR\", \"StratificationCategoryID1\": \"OVERALL\", \"StratificationID1\": \"OVR\", \"StratificationCategoryID2\": null, \"StratificationID2\": null, \"StratificationCategoryID3\": null, \"StratificationID3\": null, \"id\": 40}, {\"YearStart\": 2001, \"YearEnd\": 2001, \"LocationAbbr\": \"MD\", \"LocationDesc\": \"Maryland\", \"DataSource\": \"NVSS, Mortality\", \"Topic\": \"Overarching Conditions\", \"Question\": \"Life expectancy at birth\", \"Response\": null, \"DataValueUnit\": \"Years\", \"DataValueType\": \"Number\", \"DataValue\": 76.4, \"DataValueAlt\": 76.4, \"DataValueFootnoteSymbol\": NaN, \"DatavalueFootnote\": NaN, \"LowConfidenceLimit\": null, \"HighConfidenceLimit\": null, \"StratificationCategory1\": \"Overall\", \"Stratification1\": \"Overall\", \"StratificationCategory2\": null, \"Stratification2\": null, \"StratificationCategory3\": null, \"Stratification3\": null, \"GeoLocation\": \"POINT (-76.60926011099963 39.29058096400047)\", \"ResponseID\": null, \"LocationID\": 24, \"TopicID\": \"OVC\", \"QuestionID\": \"OVC4_1\", \"DataValueTypeID\": \"NMBR\", \"StratificationCategoryID1\": \"OVERALL\", \"StratificationID1\": \"OVR\", \"StratificationCategoryID2\": null, \"StratificationID2\": null, \"StratificationCategoryID3\": null, \"StratificationID3\": null, \"id\": 24}, {\"YearStart\": 2019, \"YearEnd\": 2019, \"LocationAbbr\": \"MO\", \"LocationDesc\": \"Missouri\", \"DataSource\": \"NVSS, Mortality\", \"Topic\": \"Overarching Conditions\", \"Question\": \"Life expectancy at birth\", \"Response\": null, \"DataValueUnit\": \"Years\", \"DataValueType\": \"Number\", \"DataValue\": 76.9, \"DataValueAlt\": 76.9, \"DataValueFootnoteSymbol\": NaN, \"DatavalueFootnote\": NaN, \"LowConfidenceLimit\": 76.8, \"HighConfidenceLimit\": 77.0, \"StratificationCategory1\": \"Overall\", \"Stratification1\": \"Overall\", \"StratificationCategory2\": null, \"Stratification2\": null, \"StratificationCategory3\": null, \"Stratification3\": null, \"GeoLocation\": \"POINT (-92.56630005299968 38.635790776000476)\", \"ResponseID\": null, \"LocationID\": 29, \"TopicID\": \"OVC\", \"QuestionID\": \"OVC4_1\", \"DataValueTypeID\": \"NMBR\", \"StratificationCategoryID1\": \"OVERALL\", \"StratificationID1\": \"OVR\", \"StratificationCategoryID2\": null, \"StratificationID2\": null, \"StratificationCategoryID3\": null, \"StratificationID3\": null, \"id\": 29}, {\"YearStart\": 2019, \"YearEnd\": 2019, \"LocationAbbr\": \"NE\", \"LocationDesc\": \"Nebraska\", \"DataSource\": \"NVSS, Mortality\", \"Topic\": \"Overarching Conditions\", \"Question\": \"Life expectancy at birth\", \"Response\": null, \"DataValueUnit\": \"Years\", \"DataValueType\": \"Number\", \"DataValue\": 79.2, \"DataValueAlt\": 79.2, \"DataValueFootnoteSymbol\": NaN, \"DatavalueFootnote\": NaN, \"LowConfidenceLimit\": 79.0, \"HighConfidenceLimit\": 79.4, \"StratificationCategory1\": \"Overall\", \"Stratification1\": \"Overall\", \"StratificationCategory2\": null, \"Stratification2\": null, \"StratificationCategory3\": null, \"Stratification3\": null, \"GeoLocation\": \"POINT (-99.36572062299967 41.6410409880005)\", \"ResponseID\": null, \"LocationID\": 31, \"TopicID\": \"OVC\", \"QuestionID\": \"OVC4_1\", \"DataValueTypeID\": \"NMBR\", \"StratificationCategoryID1\": \"OVERALL\", \"StratificationID1\": \"OVR\", \"StratificationCategoryID2\": null, \"StratificationID2\": null, \"StratificationCategoryID3\": null, \"StratificationID3\": null, \"id\": 31}, {\"YearStart\": 2020, \"YearEnd\": 2020, \"LocationAbbr\": \"MN\", \"LocationDesc\": \"Minnesota\", \"DataSource\": \"NVSS, Mortality\", \"Topic\": \"Overarching Conditions\", \"Question\": \"Life expectancy at birth\", \"Response\": null, \"DataValueUnit\": \"Years\", \"DataValueType\": \"Number\", \"DataValue\": 79.1, \"DataValueAlt\": 79.1, \"DataValueFootnoteSymbol\": NaN, \"DatavalueFootnote\": NaN, \"LowConfidenceLimit\": 79.0, \"HighConfidenceLimit\": 79.2, \"StratificationCategory1\": \"Overall\", \"Stratification1\": \"Overall\", \"StratificationCategory2\": null, \"Stratification2\": null, \"StratificationCategory3\": null, \"Stratification3\": null, \"GeoLocation\": \"POINT (-94.79420050299967 46.35564873600049)\", \"ResponseID\": null, \"LocationID\": 27, \"TopicID\": \"OVC\", \"QuestionID\": \"OVC4_1\", \"DataValueTypeID\": \"NMBR\", \"StratificationCategoryID1\": \"OVERALL\", \"StratificationID1\": \"OVR\", \"StratificationCategoryID2\": null, \"StratificationID2\": null, \"StratificationCategoryID3\": null, \"StratificationID3\": null, \"id\": 27}, {\"YearStart\": 2020, \"YearEnd\": 2020, \"LocationAbbr\": \"OR\", \"LocationDesc\": \"Oregon\", \"DataSource\": \"NVSS, Mortality\", \"Topic\": \"Overarching Conditions\", \"Question\": \"Life expectancy at birth\", \"Response\": null, \"DataValueUnit\": \"Years\", \"DataValueType\": \"Number\", \"DataValue\": 78.8, \"DataValueAlt\": 78.8, \"DataValueFootnoteSymbol\": NaN, \"DatavalueFootnote\": NaN, \"LowConfidenceLimit\": 78.7, \"HighConfidenceLimit\": 78.9, \"StratificationCategory1\": \"Overall\", \"Stratification1\": \"Overall\", \"StratificationCategory2\": null, \"Stratification2\": null, \"StratificationCategory3\": null, \"Stratification3\": null, \"GeoLocation\": \"POINT (-120.15503132599969 44.56744942400047)\", \"ResponseID\": null, \"LocationID\": 41, \"TopicID\": \"OVC\", \"QuestionID\": \"OVC4_1\", \"DataValueTypeID\": \"NMBR\", \"StratificationCategoryID1\": \"OVERALL\", \"StratificationID1\": \"OVR\", \"StratificationCategoryID2\": null, \"StratificationID2\": null, \"StratificationCategoryID3\": null, \"StratificationID3\": null, \"id\": 41}, {\"YearStart\": 2001, \"YearEnd\": 2001, \"LocationAbbr\": \"GA\", \"LocationDesc\": \"Georgia\", \"DataSource\": \"NVSS, Mortality\", \"Topic\": \"Overarching Conditions\", \"Question\": \"Life expectancy at birth\", \"Response\": null, \"DataValueUnit\": \"Years\", \"DataValueType\": \"Number\", \"DataValue\": 75.3, \"DataValueAlt\": 75.3, \"DataValueFootnoteSymbol\": NaN, \"DatavalueFootnote\": NaN, \"LowConfidenceLimit\": null, \"HighConfidenceLimit\": null, \"StratificationCategory1\": \"Overall\", \"Stratification1\": \"Overall\", \"StratificationCategory2\": null, \"Stratification2\": null, \"StratificationCategory3\": null, \"Stratification3\": null, \"GeoLocation\": \"POINT (-83.62758034599966 32.83968109300048)\", \"ResponseID\": null, \"LocationID\": 13, \"TopicID\": \"OVC\", \"QuestionID\": \"OVC4_1\", \"DataValueTypeID\": \"NMBR\", \"StratificationCategoryID1\": \"OVERALL\", \"StratificationID1\": \"OVR\", \"StratificationCategoryID2\": null, \"StratificationID2\": null, \"StratificationCategoryID3\": null, \"StratificationID3\": null, \"id\": 13}, {\"YearStart\": 2020, \"YearEnd\": 2020, \"LocationAbbr\": \"NC\", \"LocationDesc\": \"North Carolina\", \"DataSource\": \"NVSS, Mortality\", \"Topic\": \"Overarching Conditions\", \"Question\": \"Life expectancy at birth\", \"Response\": null, \"DataValueUnit\": \"Years\", \"DataValueType\": \"Number\", \"DataValue\": 76.1, \"DataValueAlt\": 76.1, \"DataValueFootnoteSymbol\": NaN, \"DatavalueFootnote\": NaN, \"LowConfidenceLimit\": 76.0, \"HighConfidenceLimit\": 76.2, \"StratificationCategory1\": \"Overall\", \"Stratification1\": \"Overall\", \"StratificationCategory2\": null, \"Stratification2\": null, \"StratificationCategory3\": null, \"Stratification3\": null, \"GeoLocation\": \"POINT (-79.15925046299964 35.466220975000454)\", \"ResponseID\": null, \"LocationID\": 37, \"TopicID\": \"OVC\", \"QuestionID\": \"OVC4_1\", \"DataValueTypeID\": \"NMBR\", \"StratificationCategoryID1\": \"OVERALL\", \"StratificationID1\": \"OVR\", \"StratificationCategoryID2\": null, \"StratificationID2\": null, \"StratificationCategoryID3\": null, \"StratificationID3\": null, \"id\": 37}, {\"YearStart\": 2020, \"YearEnd\": 2020, \"LocationAbbr\": \"WV\", \"LocationDesc\": \"West Virginia\", \"DataSource\": \"NVSS, Mortality\", \"Topic\": \"Overarching Conditions\", \"Question\": \"Life expectancy at birth\", \"Response\": null, \"DataValueUnit\": \"Years\", \"DataValueType\": \"Number\", \"DataValue\": 72.8, \"DataValueAlt\": 72.8, \"DataValueFootnoteSymbol\": NaN, \"DatavalueFootnote\": NaN, \"LowConfidenceLimit\": 72.6, \"HighConfidenceLimit\": 73.0, \"StratificationCategory1\": \"Overall\", \"Stratification1\": \"Overall\", \"StratificationCategory2\": null, \"Stratification2\": null, \"StratificationCategory3\": null, \"Stratification3\": null, \"GeoLocation\": \"POINT (-80.71264013499967 38.66551020200046)\", \"ResponseID\": null, \"LocationID\": 54, \"TopicID\": \"OVC\", \"QuestionID\": \"OVC4_1\", \"DataValueTypeID\": \"NMBR\", \"StratificationCategoryID1\": \"OVERALL\", \"StratificationID1\": \"OVR\", \"StratificationCategoryID2\": null, \"StratificationID2\": null, \"StratificationCategoryID3\": null, \"StratificationID3\": null, \"id\": 54}, {\"YearStart\": 2018, \"YearEnd\": 2018, \"LocationAbbr\": \"LA\", \"LocationDesc\": \"Louisiana\", \"DataSource\": \"NVSS, Mortality\", \"Topic\": \"Overarching Conditions\", \"Question\": \"Life expectancy at birth\", \"Response\": null, \"DataValueUnit\": \"Years\", \"DataValueType\": \"Number\", \"DataValue\": 75.6, \"DataValueAlt\": 75.6, \"DataValueFootnoteSymbol\": NaN, \"DatavalueFootnote\": NaN, \"LowConfidenceLimit\": 75.5, \"HighConfidenceLimit\": 75.7, \"StratificationCategory1\": \"Overall\", \"Stratification1\": \"Overall\", \"StratificationCategory2\": null, \"Stratification2\": null, \"StratificationCategory3\": null, \"Stratification3\": null, \"GeoLocation\": \"POINT (-92.44568007099969 31.31266064400046)\", \"ResponseID\": null, \"LocationID\": 22, \"TopicID\": \"OVC\", \"QuestionID\": \"OVC4_1\", \"DataValueTypeID\": \"NMBR\", \"StratificationCategoryID1\": \"OVERALL\", \"StratificationID1\": \"OVR\", \"StratificationCategoryID2\": null, \"StratificationID2\": null, \"StratificationCategoryID3\": null, \"StratificationID3\": null, \"id\": 22}, {\"YearStart\": 2019, \"YearEnd\": 2019, \"LocationAbbr\": \"NJ\", \"LocationDesc\": \"New Jersey\", \"DataSource\": \"NVSS, Mortality\", \"Topic\": \"Overarching Conditions\", \"Question\": \"Life expectancy at birth\", \"Response\": null, \"DataValueUnit\": \"Years\", \"DataValueType\": \"Number\", \"DataValue\": 80.1, \"DataValueAlt\": 80.1, \"DataValueFootnoteSymbol\": NaN, \"DatavalueFootnote\": NaN, \"LowConfidenceLimit\": 80.0, \"HighConfidenceLimit\": 80.2, \"StratificationCategory1\": \"Overall\", \"Stratification1\": \"Overall\", \"StratificationCategory2\": null, \"Stratification2\": null, \"StratificationCategory3\": null, \"Stratification3\": null, \"GeoLocation\": \"POINT (-74.27369128799967 40.13057004800049)\", \"ResponseID\": null, \"LocationID\": 34, \"TopicID\": \"OVC\", \"QuestionID\": \"OVC4_1\", \"DataValueTypeID\": \"NMBR\", \"StratificationCategoryID1\": \"OVERALL\", \"StratificationID1\": \"OVR\", \"StratificationCategoryID2\": null, \"StratificationID2\": null, \"StratificationCategoryID3\": null, \"StratificationID3\": null, \"id\": 34}, {\"YearStart\": 2001, \"YearEnd\": 2001, \"LocationAbbr\": \"NV\", \"LocationDesc\": \"Nevada\", \"DataSource\": \"NVSS, Mortality\", \"Topic\": \"Overarching Conditions\", \"Question\": \"Life expectancy at birth\", \"Response\": null, \"DataValueUnit\": \"Years\", \"DataValueType\": \"Number\", \"DataValue\": 76.1, \"DataValueAlt\": 76.1, \"DataValueFootnoteSymbol\": NaN, \"DatavalueFootnote\": NaN, \"LowConfidenceLimit\": null, \"HighConfidenceLimit\": null, \"StratificationCategory1\": \"Overall\", \"Stratification1\": \"Overall\", \"StratificationCategory2\": null, \"Stratification2\": null, \"StratificationCategory3\": null, \"Stratification3\": null, \"GeoLocation\": \"POINT (-117.07184056399967 39.493240390000494)\", \"ResponseID\": null, \"LocationID\": 32, \"TopicID\": \"OVC\", \"QuestionID\": \"OVC4_1\", \"DataValueTypeID\": \"NMBR\", \"StratificationCategoryID1\": \"OVERALL\", \"StratificationID1\": \"OVR\", \"StratificationCategoryID2\": null, \"StratificationID2\": null, \"StratificationCategoryID3\": null, \"StratificationID3\": null, \"id\": 32}, {\"YearStart\": 2001, \"YearEnd\": 2001, \"LocationAbbr\": \"DC\", \"LocationDesc\": \"District of Columbia\", \"DataSource\": \"NVSS, Mortality\", \"Topic\": \"Overarching Conditions\", \"Question\": \"Life expectancy at birth\", \"Response\": null, \"DataValueUnit\": \"Years\", \"DataValueType\": \"Number\", \"DataValue\": 73.1, \"DataValueAlt\": 73.1, \"DataValueFootnoteSymbol\": NaN, \"DatavalueFootnote\": NaN, \"LowConfidenceLimit\": null, \"HighConfidenceLimit\": null, \"StratificationCategory1\": \"Overall\", \"Stratification1\": \"Overall\", \"StratificationCategory2\": null, \"Stratification2\": null, \"StratificationCategory3\": null, \"Stratification3\": null, \"GeoLocation\": \"POINT (-77.036871 38.907192)\", \"ResponseID\": null, \"LocationID\": 11, \"TopicID\": \"OVC\", \"QuestionID\": \"OVC4_1\", \"DataValueTypeID\": \"NMBR\", \"StratificationCategoryID1\": \"OVERALL\", \"StratificationID1\": \"OVR\", \"StratificationCategoryID2\": null, \"StratificationID2\": null, \"StratificationCategoryID3\": null, \"StratificationID3\": null, \"id\": 11}, {\"YearStart\": 2018, \"YearEnd\": 2018, \"LocationAbbr\": \"WV\", \"LocationDesc\": \"West Virginia\", \"DataSource\": \"NVSS, Mortality\", \"Topic\": \"Overarching Conditions\", \"Question\": \"Life expectancy at birth\", \"Response\": null, \"DataValueUnit\": \"Years\", \"DataValueType\": \"Number\", \"DataValue\": 74.4, \"DataValueAlt\": 74.4, \"DataValueFootnoteSymbol\": NaN, \"DatavalueFootnote\": NaN, \"LowConfidenceLimit\": 74.2, \"HighConfidenceLimit\": 74.6, \"StratificationCategory1\": \"Overall\", \"Stratification1\": \"Overall\", \"StratificationCategory2\": null, \"Stratification2\": null, \"StratificationCategory3\": null, \"Stratification3\": null, \"GeoLocation\": \"POINT (-80.71264013499967 38.66551020200046)\", \"ResponseID\": null, \"LocationID\": 54, \"TopicID\": \"OVC\", \"QuestionID\": \"OVC4_1\", \"DataValueTypeID\": \"NMBR\", \"StratificationCategoryID1\": \"OVERALL\", \"StratificationID1\": \"OVR\", \"StratificationCategoryID2\": null, \"StratificationID2\": null, \"StratificationCategoryID3\": null, \"StratificationID3\": null, \"id\": 54}, {\"YearStart\": 2019, \"YearEnd\": 2019, \"LocationAbbr\": \"NH\", \"LocationDesc\": \"New Hampshire\", \"DataSource\": \"NVSS, Mortality\", \"Topic\": \"Overarching Conditions\", \"Question\": \"Life expectancy at birth\", \"Response\": null, \"DataValueUnit\": \"Years\", \"DataValueType\": \"Number\", \"DataValue\": 79.4, \"DataValueAlt\": 79.4, \"DataValueFootnoteSymbol\": NaN, \"DatavalueFootnote\": NaN, \"LowConfidenceLimit\": 79.2, \"HighConfidenceLimit\": 79.6, \"StratificationCategory1\": \"Overall\", \"Stratification1\": \"Overall\", \"StratificationCategory2\": null, \"Stratification2\": null, \"StratificationCategory3\": null, \"Stratification3\": null, \"GeoLocation\": \"POINT (-71.50036091999965 43.65595011300047)\", \"ResponseID\": null, \"LocationID\": 33, \"TopicID\": \"OVC\", \"QuestionID\": \"OVC4_1\", \"DataValueTypeID\": \"NMBR\", \"StratificationCategoryID1\": \"OVERALL\", \"StratificationID1\": \"OVR\", \"StratificationCategoryID2\": null, \"StratificationID2\": null, \"StratificationCategoryID3\": null, \"StratificationID3\": null, \"id\": 33}, {\"YearStart\": 2018, \"YearEnd\": 2018, \"LocationAbbr\": \"IA\", \"LocationDesc\": \"Iowa\", \"DataSource\": \"NVSS, Mortality\", \"Topic\": \"Overarching Conditions\", \"Question\": \"Life expectancy at birth\", \"Response\": null, \"DataValueUnit\": \"Years\", \"DataValueType\": \"Number\", \"DataValue\": 79.2, \"DataValueAlt\": 79.2, \"DataValueFootnoteSymbol\": NaN, \"DatavalueFootnote\": NaN, \"LowConfidenceLimit\": 79.0, \"HighConfidenceLimit\": 79.4, \"StratificationCategory1\": \"Overall\", \"Stratification1\": \"Overall\", \"StratificationCategory2\": null, \"Stratification2\": null, \"StratificationCategory3\": null, \"Stratification3\": null, \"GeoLocation\": \"POINT (-93.81649055599968 42.46940091300047)\", \"ResponseID\": null, \"LocationID\": 19, \"TopicID\": \"OVC\", \"QuestionID\": \"OVC4_1\", \"DataValueTypeID\": \"NMBR\", \"StratificationCategoryID1\": \"OVERALL\", \"StratificationID1\": \"OVR\", \"StratificationCategoryID2\": null, \"StratificationID2\": null, \"StratificationCategoryID3\": null, \"StratificationID3\": null, \"id\": 19}, {\"YearStart\": 2018, \"YearEnd\": 2018, \"LocationAbbr\": \"OH\", \"LocationDesc\": \"Ohio\", \"DataSource\": \"NVSS, Mortality\", \"Topic\": \"Overarching Conditions\", \"Question\": \"Life expectancy at birth\", \"Response\": null, \"DataValueUnit\": \"Years\", \"DataValueType\": \"Number\", \"DataValue\": 76.8, \"DataValueAlt\": 76.8, \"DataValueFootnoteSymbol\": NaN, \"DatavalueFootnote\": NaN, \"LowConfidenceLimit\": 76.7, \"HighConfidenceLimit\": 76.9, \"StratificationCategory1\": \"Overall\", \"Stratification1\": \"Overall\", \"StratificationCategory2\": null, \"Stratification2\": null, \"StratificationCategory3\": null, \"Stratification3\": null, \"GeoLocation\": \"POINT (-82.40426005599966 40.06021014100048)\", \"ResponseID\": null, \"LocationID\": 39, \"TopicID\": \"OVC\", \"QuestionID\": \"OVC4_1\", \"DataValueTypeID\": \"NMBR\", \"StratificationCategoryID1\": \"OVERALL\", \"StratificationID1\": \"OVR\", \"StratificationCategoryID2\": null, \"StratificationID2\": null, \"StratificationCategoryID3\": null, \"StratificationID3\": null, \"id\": 39}, {\"YearStart\": 2019, \"YearEnd\": 2019, \"LocationAbbr\": \"KS\", \"LocationDesc\": \"Kansas\", \"DataSource\": \"NVSS, Mortality\", \"Topic\": \"Overarching Conditions\", \"Question\": \"Life expectancy at birth\", \"Response\": null, \"DataValueUnit\": \"Years\", \"DataValueType\": \"Number\", \"DataValue\": 78.2, \"DataValueAlt\": 78.2, \"DataValueFootnoteSymbol\": NaN, \"DatavalueFootnote\": NaN, \"LowConfidenceLimit\": 78.0, \"HighConfidenceLimit\": 78.4, \"StratificationCategory1\": \"Overall\", \"Stratification1\": \"Overall\", \"StratificationCategory2\": null, \"Stratification2\": null, \"StratificationCategory3\": null, \"Stratification3\": null, \"GeoLocation\": \"POINT (-98.20078122699965 38.34774030000045)\", \"ResponseID\": null, \"LocationID\": 20, \"TopicID\": \"OVC\", \"QuestionID\": \"OVC4_1\", \"DataValueTypeID\": \"NMBR\", \"StratificationCategoryID1\": \"OVERALL\", \"StratificationID1\": \"OVR\", \"StratificationCategoryID2\": null, \"StratificationID2\": null, \"StratificationCategoryID3\": null, \"StratificationID3\": null, \"id\": 20}, {\"YearStart\": 2018, \"YearEnd\": 2018, \"LocationAbbr\": \"ID\", \"LocationDesc\": \"Idaho\", \"DataSource\": \"NVSS, Mortality\", \"Topic\": \"Overarching Conditions\", \"Question\": \"Life expectancy at birth\", \"Response\": null, \"DataValueUnit\": \"Years\", \"DataValueType\": \"Number\", \"DataValue\": 79.0, \"DataValueAlt\": 79.0, \"DataValueFootnoteSymbol\": NaN, \"DatavalueFootnote\": NaN, \"LowConfidenceLimit\": 78.8, \"HighConfidenceLimit\": 79.2, \"StratificationCategory1\": \"Overall\", \"Stratification1\": \"Overall\", \"StratificationCategory2\": null, \"Stratification2\": null, \"StratificationCategory3\": null, \"Stratification3\": null, \"GeoLocation\": \"POINT (-114.3637300419997 43.682630005000476)\", \"ResponseID\": null, \"LocationID\": 16, \"TopicID\": \"OVC\", \"QuestionID\": \"OVC4_1\", \"DataValueTypeID\": \"NMBR\", \"StratificationCategoryID1\": \"OVERALL\", \"StratificationID1\": \"OVR\", \"StratificationCategoryID2\": null, \"StratificationID2\": null, \"StratificationCategoryID3\": null, \"StratificationID3\": null, \"id\": 16}, {\"YearStart\": 2020, \"YearEnd\": 2020, \"LocationAbbr\": \"OH\", \"LocationDesc\": \"Ohio\", \"DataSource\": \"NVSS, Mortality\", \"Topic\": \"Overarching Conditions\", \"Question\": \"Life expectancy at birth\", \"Response\": null, \"DataValueUnit\": \"Years\", \"DataValueType\": \"Number\", \"DataValue\": 75.3, \"DataValueAlt\": 75.3, \"DataValueFootnoteSymbol\": NaN, \"DatavalueFootnote\": NaN, \"LowConfidenceLimit\": 75.2, \"HighConfidenceLimit\": 75.4, \"StratificationCategory1\": \"Overall\", \"Stratification1\": \"Overall\", \"StratificationCategory2\": null, \"Stratification2\": null, \"StratificationCategory3\": null, \"Stratification3\": null, \"GeoLocation\": \"POINT (-82.40426005599966 40.06021014100048)\", \"ResponseID\": null, \"LocationID\": 39, \"TopicID\": \"OVC\", \"QuestionID\": \"OVC4_1\", \"DataValueTypeID\": \"NMBR\", \"StratificationCategoryID1\": \"OVERALL\", \"StratificationID1\": \"OVR\", \"StratificationCategoryID2\": null, \"StratificationID2\": null, \"StratificationCategoryID3\": null, \"StratificationID3\": null, \"id\": 39}, {\"YearStart\": 2009, \"YearEnd\": 2009, \"LocationAbbr\": \"VT\", \"LocationDesc\": \"Vermont\", \"DataSource\": \"NVSS, Mortality\", \"Topic\": \"Overarching Conditions\", \"Question\": \"Life expectancy at birth\", \"Response\": null, \"DataValueUnit\": \"Years\", \"DataValueType\": \"Number\", \"DataValue\": 80.5, \"DataValueAlt\": 80.5, \"DataValueFootnoteSymbol\": NaN, \"DatavalueFootnote\": NaN, \"LowConfidenceLimit\": null, \"HighConfidenceLimit\": null, \"StratificationCategory1\": \"Overall\", \"Stratification1\": \"Overall\", \"StratificationCategory2\": null, \"Stratification2\": null, \"StratificationCategory3\": null, \"Stratification3\": null, \"GeoLocation\": \"POINT (-72.51764079099962 43.62538123900049)\", \"ResponseID\": null, \"LocationID\": 50, \"TopicID\": \"OVC\", \"QuestionID\": \"OVC4_1\", \"DataValueTypeID\": \"NMBR\", \"StratificationCategoryID1\": \"OVERALL\", \"StratificationID1\": \"OVR\", \"StratificationCategoryID2\": null, \"StratificationID2\": null, \"StratificationCategoryID3\": null, \"StratificationID3\": null, \"id\": 50}, {\"YearStart\": 2018, \"YearEnd\": 2018, \"LocationAbbr\": \"WI\", \"LocationDesc\": \"Wisconsin\", \"DataSource\": \"NVSS, Mortality\", \"Topic\": \"Overarching Conditions\", \"Question\": \"Life expectancy at birth\", \"Response\": null, \"DataValueUnit\": \"Years\", \"DataValueType\": \"Number\", \"DataValue\": 79.3, \"DataValueAlt\": 79.3, \"DataValueFootnoteSymbol\": NaN, \"DatavalueFootnote\": NaN, \"LowConfidenceLimit\": 79.2, \"HighConfidenceLimit\": 79.4, \"StratificationCategory1\": \"Overall\", \"Stratification1\": \"Overall\", \"StratificationCategory2\": null, \"Stratification2\": null, \"StratificationCategory3\": null, \"Stratification3\": null, \"GeoLocation\": \"POINT (-89.81637074199966 44.39319117400049)\", \"ResponseID\": null, \"LocationID\": 55, \"TopicID\": \"OVC\", \"QuestionID\": \"OVC4_1\", \"DataValueTypeID\": \"NMBR\", \"StratificationCategoryID1\": \"OVERALL\", \"StratificationID1\": \"OVR\", \"StratificationCategoryID2\": null, \"StratificationID2\": null, \"StratificationCategoryID3\": null, \"StratificationID3\": null, \"id\": 55}, {\"YearStart\": 2018, \"YearEnd\": 2018, \"LocationAbbr\": \"OR\", \"LocationDesc\": \"Oregon\", \"DataSource\": \"NVSS, Mortality\", \"Topic\": \"Overarching Conditions\", \"Question\": \"Life expectancy at birth\", \"Response\": null, \"DataValueUnit\": \"Years\", \"DataValueType\": \"Number\", \"DataValue\": 79.7, \"DataValueAlt\": 79.7, \"DataValueFootnoteSymbol\": NaN, \"DatavalueFootnote\": NaN, \"LowConfidenceLimit\": 79.6, \"HighConfidenceLimit\": 79.8, \"StratificationCategory1\": \"Overall\", \"Stratification1\": \"Overall\", \"StratificationCategory2\": null, \"Stratification2\": null, \"StratificationCategory3\": null, \"Stratification3\": null, \"GeoLocation\": \"POINT (-120.15503132599969 44.56744942400047)\", \"ResponseID\": null, \"LocationID\": 41, \"TopicID\": \"OVC\", \"QuestionID\": \"OVC4_1\", \"DataValueTypeID\": \"NMBR\", \"StratificationCategoryID1\": \"OVERALL\", \"StratificationID1\": \"OVR\", \"StratificationCategoryID2\": null, \"StratificationID2\": null, \"StratificationCategoryID3\": null, \"StratificationID3\": null, \"id\": 41}, {\"YearStart\": 2018, \"YearEnd\": 2018, \"LocationAbbr\": \"FL\", \"LocationDesc\": \"Florida\", \"DataSource\": \"NVSS, Mortality\", \"Topic\": \"Overarching Conditions\", \"Question\": \"Life expectancy at birth\", \"Response\": null, \"DataValueUnit\": \"Years\", \"DataValueType\": \"Number\", \"DataValue\": 78.9, \"DataValueAlt\": 78.9, \"DataValueFootnoteSymbol\": NaN, \"DatavalueFootnote\": NaN, \"LowConfidenceLimit\": 78.8, \"HighConfidenceLimit\": 79.0, \"StratificationCategory1\": \"Overall\", \"Stratification1\": \"Overall\", \"StratificationCategory2\": null, \"Stratification2\": null, \"StratificationCategory3\": null, \"Stratification3\": null, \"GeoLocation\": \"POINT (-81.92896053899966 28.932040377000476)\", \"ResponseID\": null, \"LocationID\": 12, \"TopicID\": \"OVC\", \"QuestionID\": \"OVC4_1\", \"DataValueTypeID\": \"NMBR\", \"StratificationCategoryID1\": \"OVERALL\", \"StratificationID1\": \"OVR\", \"StratificationCategoryID2\": null, \"StratificationID2\": null, \"StratificationCategoryID3\": null, \"StratificationID3\": null, \"id\": 12}, {\"YearStart\": 2001, \"YearEnd\": 2001, \"LocationAbbr\": \"VT\", \"LocationDesc\": \"Vermont\", \"DataSource\": \"NVSS, Mortality\", \"Topic\": \"Overarching Conditions\", \"Question\": \"Life expectancy at birth\", \"Response\": null, \"DataValueUnit\": \"Years\", \"DataValueType\": \"Number\", \"DataValue\": 78.2, \"DataValueAlt\": 78.2, \"DataValueFootnoteSymbol\": NaN, \"DatavalueFootnote\": NaN, \"LowConfidenceLimit\": null, \"HighConfidenceLimit\": null, \"StratificationCategory1\": \"Overall\", \"Stratification1\": \"Overall\", \"StratificationCategory2\": null, \"Stratification2\": null, \"StratificationCategory3\": null, \"Stratification3\": null, \"GeoLocation\": \"POINT (-72.51764079099962 43.62538123900049)\", \"ResponseID\": null, \"LocationID\": 50, \"TopicID\": \"OVC\", \"QuestionID\": \"OVC4_1\", \"DataValueTypeID\": \"NMBR\", \"StratificationCategoryID1\": \"OVERALL\", \"StratificationID1\": \"OVR\", \"StratificationCategoryID2\": null, \"StratificationID2\": null, \"StratificationCategoryID3\": null, \"StratificationID3\": null, \"id\": 50}, {\"YearStart\": 2009, \"YearEnd\": 2009, \"LocationAbbr\": \"NH\", \"LocationDesc\": \"New Hampshire\", \"DataSource\": \"NVSS, Mortality\", \"Topic\": \"Overarching Conditions\", \"Question\": \"Life expectancy at birth\", \"Response\": null, \"DataValueUnit\": \"Years\", \"DataValueType\": \"Number\", \"DataValue\": 80.3, \"DataValueAlt\": 80.3, \"DataValueFootnoteSymbol\": NaN, \"DatavalueFootnote\": NaN, \"LowConfidenceLimit\": null, \"HighConfidenceLimit\": null, \"StratificationCategory1\": \"Overall\", \"Stratification1\": \"Overall\", \"StratificationCategory2\": null, \"Stratification2\": null, \"StratificationCategory3\": null, \"Stratification3\": null, \"GeoLocation\": \"POINT (-71.50036091999965 43.65595011300047)\", \"ResponseID\": null, \"LocationID\": 33, \"TopicID\": \"OVC\", \"QuestionID\": \"OVC4_1\", \"DataValueTypeID\": \"NMBR\", \"StratificationCategoryID1\": \"OVERALL\", \"StratificationID1\": \"OVR\", \"StratificationCategoryID2\": null, \"StratificationID2\": null, \"StratificationCategoryID3\": null, \"StratificationID3\": null, \"id\": 33}, {\"YearStart\": 2001, \"YearEnd\": 2001, \"LocationAbbr\": \"AR\", \"LocationDesc\": \"Arkansas\", \"DataSource\": \"NVSS, Mortality\", \"Topic\": \"Overarching Conditions\", \"Question\": \"Life expectancy at birth\", \"Response\": null, \"DataValueUnit\": \"Years\", \"DataValueType\": \"Number\", \"DataValue\": 75.4, \"DataValueAlt\": 75.4, \"DataValueFootnoteSymbol\": NaN, \"DatavalueFootnote\": NaN, \"LowConfidenceLimit\": null, \"HighConfidenceLimit\": null, \"StratificationCategory1\": \"Overall\", \"Stratification1\": \"Overall\", \"StratificationCategory2\": null, \"Stratification2\": null, \"StratificationCategory3\": null, \"Stratification3\": null, \"GeoLocation\": \"POINT (-92.27449074299966 34.74865012400045)\", \"ResponseID\": null, \"LocationID\": 5, \"TopicID\": \"OVC\", \"QuestionID\": \"OVC4_1\", \"DataValueTypeID\": \"NMBR\", \"StratificationCategoryID1\": \"OVERALL\", \"StratificationID1\": \"OVR\", \"StratificationCategoryID2\": null, \"StratificationID2\": null, \"StratificationCategoryID3\": null, \"StratificationID3\": null, \"id\": 5}, {\"YearStart\": 2001, \"YearEnd\": 2001, \"LocationAbbr\": \"WA\", \"LocationDesc\": \"Washington\", \"DataSource\": \"NVSS, Mortality\", \"Topic\": \"Overarching Conditions\", \"Question\": \"Life expectancy at birth\", \"Response\": null, \"DataValueUnit\": \"Years\", \"DataValueType\": \"Number\", \"DataValue\": 78.6, \"DataValueAlt\": 78.6, \"DataValueFootnoteSymbol\": NaN, \"DatavalueFootnote\": NaN, \"LowConfidenceLimit\": null, \"HighConfidenceLimit\": null, \"StratificationCategory1\": \"Overall\", \"Stratification1\": \"Overall\", \"StratificationCategory2\": null, \"Stratification2\": null, \"StratificationCategory3\": null, \"Stratification3\": null, \"GeoLocation\": \"POINT (-120.47001078999972 47.52227862900048)\", \"ResponseID\": null, \"LocationID\": 53, \"TopicID\": \"OVC\", \"QuestionID\": \"OVC4_1\", \"DataValueTypeID\": \"NMBR\", \"StratificationCategoryID1\": \"OVERALL\", \"StratificationID1\": \"OVR\", \"StratificationCategoryID2\": null, \"StratificationID2\": null, \"StratificationCategoryID3\": null, \"StratificationID3\": null, \"id\": 53}, {\"YearStart\": 2019, \"YearEnd\": 2019, \"LocationAbbr\": \"HI\", \"LocationDesc\": \"Hawaii\", \"DataSource\": \"NVSS, Mortality\", \"Topic\": \"Overarching Conditions\", \"Question\": \"Life expectancy at birth\", \"Response\": null, \"DataValueUnit\": \"Years\", \"DataValueType\": \"Number\", \"DataValue\": 80.9, \"DataValueAlt\": 80.9, \"DataValueFootnoteSymbol\": NaN, \"DatavalueFootnote\": NaN, \"LowConfidenceLimit\": 80.7, \"HighConfidenceLimit\": 81.1, \"StratificationCategory1\": \"Overall\", \"Stratification1\": \"Overall\", \"StratificationCategory2\": null, \"Stratification2\": null, \"StratificationCategory3\": null, \"Stratification3\": null, \"GeoLocation\": \"POINT (-157.85774940299973 21.304850435000446)\", \"ResponseID\": null, \"LocationID\": 15, \"TopicID\": \"OVC\", \"QuestionID\": \"OVC4_1\", \"DataValueTypeID\": \"NMBR\", \"StratificationCategoryID1\": \"OVERALL\", \"StratificationID1\": \"OVR\", \"StratificationCategoryID2\": null, \"StratificationID2\": null, \"StratificationCategoryID3\": null, \"StratificationID3\": null, \"id\": 15}, {\"YearStart\": 2001, \"YearEnd\": 2001, \"LocationAbbr\": \"WY\", \"LocationDesc\": \"Wyoming\", \"DataSource\": \"NVSS, Mortality\", \"Topic\": \"Overarching Conditions\", \"Question\": \"Life expectancy at birth\", \"Response\": null, \"DataValueUnit\": \"Years\", \"DataValueType\": \"Number\", \"DataValue\": 76.6, \"DataValueAlt\": 76.6, \"DataValueFootnoteSymbol\": NaN, \"DatavalueFootnote\": NaN, \"LowConfidenceLimit\": null, \"HighConfidenceLimit\": null, \"StratificationCategory1\": \"Overall\", \"Stratification1\": \"Overall\", \"StratificationCategory2\": null, \"Stratification2\": null, \"StratificationCategory3\": null, \"Stratification3\": null, \"GeoLocation\": \"POINT (-108.10983035299967 43.23554134300048)\", \"ResponseID\": null, \"LocationID\": 56, \"TopicID\": \"OVC\", \"QuestionID\": \"OVC4_1\", \"DataValueTypeID\": \"NMBR\", \"StratificationCategoryID1\": \"OVERALL\", \"StratificationID1\": \"OVR\", \"StratificationCategoryID2\": null, \"StratificationID2\": null, \"StratificationCategoryID3\": null, \"StratificationID3\": null, \"id\": 56}, {\"YearStart\": 2020, \"YearEnd\": 2020, \"LocationAbbr\": \"CA\", \"LocationDesc\": \"California\", \"DataSource\": \"NVSS, Mortality\", \"Topic\": \"Overarching Conditions\", \"Question\": \"Life expectancy at birth\", \"Response\": null, \"DataValueUnit\": \"Years\", \"DataValueType\": \"Number\", \"DataValue\": 79.0, \"DataValueAlt\": 79.0, \"DataValueFootnoteSymbol\": NaN, \"DatavalueFootnote\": NaN, \"LowConfidenceLimit\": 79.0, \"HighConfidenceLimit\": 79.0, \"StratificationCategory1\": \"Overall\", \"Stratification1\": \"Overall\", \"StratificationCategory2\": null, \"Stratification2\": null, \"StratificationCategory3\": null, \"Stratification3\": null, \"GeoLocation\": \"POINT (-120.99999953799971 37.63864012300047)\", \"ResponseID\": null, \"LocationID\": 6, \"TopicID\": \"OVC\", \"QuestionID\": \"OVC4_1\", \"DataValueTypeID\": \"NMBR\", \"StratificationCategoryID1\": \"OVERALL\", \"StratificationID1\": \"OVR\", \"StratificationCategoryID2\": null, \"StratificationID2\": null, \"StratificationCategoryID3\": null, \"StratificationID3\": null, \"id\": 6}, {\"YearStart\": 2019, \"YearEnd\": 2019, \"LocationAbbr\": \"DC\", \"LocationDesc\": \"District of Columbia\", \"DataSource\": \"NVSS, Mortality\", \"Topic\": \"Overarching Conditions\", \"Question\": \"Life expectancy at birth\", \"Response\": null, \"DataValueUnit\": \"Years\", \"DataValueType\": \"Number\", \"DataValue\": 78.0, \"DataValueAlt\": 78.0, \"DataValueFootnoteSymbol\": NaN, \"DatavalueFootnote\": NaN, \"LowConfidenceLimit\": 77.6, \"HighConfidenceLimit\": 78.4, \"StratificationCategory1\": \"Overall\", \"Stratification1\": \"Overall\", \"StratificationCategory2\": null, \"Stratification2\": null, \"StratificationCategory3\": null, \"Stratification3\": null, \"GeoLocation\": \"POINT (-77.036871 38.907192)\", \"ResponseID\": null, \"LocationID\": 11, \"TopicID\": \"OVC\", \"QuestionID\": \"OVC4_1\", \"DataValueTypeID\": \"NMBR\", \"StratificationCategoryID1\": \"OVERALL\", \"StratificationID1\": \"OVR\", \"StratificationCategoryID2\": null, \"StratificationID2\": null, \"StratificationCategoryID3\": null, \"StratificationID3\": null, \"id\": 11}, {\"YearStart\": 2018, \"YearEnd\": 2018, \"LocationAbbr\": \"IN\", \"LocationDesc\": \"Indiana\", \"DataSource\": \"NVSS, Mortality\", \"Topic\": \"Overarching Conditions\", \"Question\": \"Life expectancy at birth\", \"Response\": null, \"DataValueUnit\": \"Years\", \"DataValueType\": \"Number\", \"DataValue\": 76.8, \"DataValueAlt\": 76.8, \"DataValueFootnoteSymbol\": NaN, \"DatavalueFootnote\": NaN, \"LowConfidenceLimit\": 76.7, \"HighConfidenceLimit\": 76.9, \"StratificationCategory1\": \"Overall\", \"Stratification1\": \"Overall\", \"StratificationCategory2\": null, \"Stratification2\": null, \"StratificationCategory3\": null, \"Stratification3\": null, \"GeoLocation\": \"POINT (-86.14996019399968 39.766910452000445)\", \"ResponseID\": null, \"LocationID\": 18, \"TopicID\": \"OVC\", \"QuestionID\": \"OVC4_1\", \"DataValueTypeID\": \"NMBR\", \"StratificationCategoryID1\": \"OVERALL\", \"StratificationID1\": \"OVR\", \"StratificationCategoryID2\": null, \"StratificationID2\": null, \"StratificationCategoryID3\": null, \"StratificationID3\": null, \"id\": 18}, {\"YearStart\": 2018, \"YearEnd\": 2018, \"LocationAbbr\": \"SD\", \"LocationDesc\": \"South Dakota\", \"DataSource\": \"NVSS, Mortality\", \"Topic\": \"Overarching Conditions\", \"Question\": \"Life expectancy at birth\", \"Response\": null, \"DataValueUnit\": \"Years\", \"DataValueType\": \"Number\", \"DataValue\": 78.9, \"DataValueAlt\": 78.9, \"DataValueFootnoteSymbol\": NaN, \"DatavalueFootnote\": NaN, \"LowConfidenceLimit\": 78.6, \"HighConfidenceLimit\": 79.2, \"StratificationCategory1\": \"Overall\", \"Stratification1\": \"Overall\", \"StratificationCategory2\": null, \"Stratification2\": null, \"StratificationCategory3\": null, \"Stratification3\": null, \"GeoLocation\": \"POINT (-100.3735306369997 44.353130053000484)\", \"ResponseID\": null, \"LocationID\": 46, \"TopicID\": \"OVC\", \"QuestionID\": \"OVC4_1\", \"DataValueTypeID\": \"NMBR\", \"StratificationCategoryID1\": \"OVERALL\", \"StratificationID1\": \"OVR\", \"StratificationCategoryID2\": null, \"StratificationID2\": null, \"StratificationCategoryID3\": null, \"StratificationID3\": null, \"id\": 46}, {\"YearStart\": 2018, \"YearEnd\": 2018, \"LocationAbbr\": \"KY\", \"LocationDesc\": \"Kentucky\", \"DataSource\": \"NVSS, Mortality\", \"Topic\": \"Overarching Conditions\", \"Question\": \"Life expectancy at birth\", \"Response\": null, \"DataValueUnit\": \"Years\", \"DataValueType\": \"Number\", \"DataValue\": 75.3, \"DataValueAlt\": 75.3, \"DataValueFootnoteSymbol\": NaN, \"DatavalueFootnote\": NaN, \"LowConfidenceLimit\": 75.2, \"HighConfidenceLimit\": 75.4, \"StratificationCategory1\": \"Overall\", \"Stratification1\": \"Overall\", \"StratificationCategory2\": null, \"Stratification2\": null, \"StratificationCategory3\": null, \"Stratification3\": null, \"GeoLocation\": \"POINT (-84.77497104799966 37.645970271000465)\", \"ResponseID\": null, \"LocationID\": 21, \"TopicID\": \"OVC\", \"QuestionID\": \"OVC4_1\", \"DataValueTypeID\": \"NMBR\", \"StratificationCategoryID1\": \"OVERALL\", \"StratificationID1\": \"OVR\", \"StratificationCategoryID2\": null, \"StratificationID2\": null, \"StratificationCategoryID3\": null, \"StratificationID3\": null, \"id\": 21}, {\"YearStart\": 2001, \"YearEnd\": 2001, \"LocationAbbr\": \"RI\", \"LocationDesc\": \"Rhode Island\", \"DataSource\": \"NVSS, Mortality\", \"Topic\": \"Overarching Conditions\", \"Question\": \"Life expectancy at birth\", \"Response\": null, \"DataValueUnit\": \"Years\", \"DataValueType\": \"Number\", \"DataValue\": 78.7, \"DataValueAlt\": 78.7, \"DataValueFootnoteSymbol\": NaN, \"DatavalueFootnote\": NaN, \"LowConfidenceLimit\": null, \"HighConfidenceLimit\": null, \"StratificationCategory1\": \"Overall\", \"Stratification1\": \"Overall\", \"StratificationCategory2\": null, \"Stratification2\": null, \"StratificationCategory3\": null, \"Stratification3\": null, \"GeoLocation\": \"POINT (-71.52247031399963 41.70828019300046)\", \"ResponseID\": null, \"LocationID\": 44, \"TopicID\": \"OVC\", \"QuestionID\": \"OVC4_1\", \"DataValueTypeID\": \"NMBR\", \"StratificationCategoryID1\": \"OVERALL\", \"StratificationID1\": \"OVR\", \"StratificationCategoryID2\": null, \"StratificationID2\": null, \"StratificationCategoryID3\": null, \"StratificationID3\": null, \"id\": 44}, {\"YearStart\": 2019, \"YearEnd\": 2019, \"LocationAbbr\": \"IN\", \"LocationDesc\": \"Indiana\", \"DataSource\": \"NVSS, Mortality\", \"Topic\": \"Overarching Conditions\", \"Question\": \"Life expectancy at birth\", \"Response\": null, \"DataValueUnit\": \"Years\", \"DataValueType\": \"Number\", \"DataValue\": 77.0, \"DataValueAlt\": 77.0, \"DataValueFootnoteSymbol\": NaN, \"DatavalueFootnote\": NaN, \"LowConfidenceLimit\": 76.9, \"HighConfidenceLimit\": 77.1, \"StratificationCategory1\": \"Overall\", \"Stratification1\": \"Overall\", \"StratificationCategory2\": null, \"Stratification2\": null, \"StratificationCategory3\": null, \"Stratification3\": null, \"GeoLocation\": \"POINT (-86.14996019399968 39.766910452000445)\", \"ResponseID\": null, \"LocationID\": 18, \"TopicID\": \"OVC\", \"QuestionID\": \"OVC4_1\", \"DataValueTypeID\": \"NMBR\", \"StratificationCategoryID1\": \"OVERALL\", \"StratificationID1\": \"OVR\", \"StratificationCategoryID2\": null, \"StratificationID2\": null, \"StratificationCategoryID3\": null, \"StratificationID3\": null, \"id\": 18}, {\"YearStart\": 2018, \"YearEnd\": 2018, \"LocationAbbr\": \"PA\", \"LocationDesc\": \"Pennsylvania\", \"DataSource\": \"NVSS, Mortality\", \"Topic\": \"Overarching Conditions\", \"Question\": \"Life expectancy at birth\", \"Response\": null, \"DataValueUnit\": \"Years\", \"DataValueType\": \"Number\", \"DataValue\": 78.1, \"DataValueAlt\": 78.1, \"DataValueFootnoteSymbol\": NaN, \"DatavalueFootnote\": NaN, \"LowConfidenceLimit\": 78.0, \"HighConfidenceLimit\": 78.2, \"StratificationCategory1\": \"Overall\", \"Stratification1\": \"Overall\", \"StratificationCategory2\": null, \"Stratification2\": null, \"StratificationCategory3\": null, \"Stratification3\": null, \"GeoLocation\": \"POINT (-77.86070029399963 40.79373015200048)\", \"ResponseID\": null, \"LocationID\": 42, \"TopicID\": \"OVC\", \"QuestionID\": \"OVC4_1\", \"DataValueTypeID\": \"NMBR\", \"StratificationCategoryID1\": \"OVERALL\", \"StratificationID1\": \"OVR\", \"StratificationCategoryID2\": null, \"StratificationID2\": null, \"StratificationCategoryID3\": null, \"StratificationID3\": null, \"id\": 42}, {\"YearStart\": 2019, \"YearEnd\": 2019, \"LocationAbbr\": \"WA\", \"LocationDesc\": \"Washington\", \"DataSource\": \"NVSS, Mortality\", \"Topic\": \"Overarching Conditions\", \"Question\": \"Life expectancy at birth\", \"Response\": null, \"DataValueUnit\": \"Years\", \"DataValueType\": \"Number\", \"DataValue\": 80.0, \"DataValueAlt\": 80.0, \"DataValueFootnoteSymbol\": NaN, \"DatavalueFootnote\": NaN, \"LowConfidenceLimit\": 79.9, \"HighConfidenceLimit\": 80.1, \"StratificationCategory1\": \"Overall\", \"Stratification1\": \"Overall\", \"StratificationCategory2\": null, \"Stratification2\": null, \"StratificationCategory3\": null, \"Stratification3\": null, \"GeoLocation\": \"POINT (-120.47001078999972 47.52227862900048)\", \"ResponseID\": null, \"LocationID\": 53, \"TopicID\": \"OVC\", \"QuestionID\": \"OVC4_1\", \"DataValueTypeID\": \"NMBR\", \"StratificationCategoryID1\": \"OVERALL\", \"StratificationID1\": \"OVR\", \"StratificationCategoryID2\": null, \"StratificationID2\": null, \"StratificationCategoryID3\": null, \"StratificationID3\": null, \"id\": 53}, {\"YearStart\": 2020, \"YearEnd\": 2020, \"LocationAbbr\": \"NY\", \"LocationDesc\": \"New York\", \"DataSource\": \"NVSS, Mortality\", \"Topic\": \"Overarching Conditions\", \"Question\": \"Life expectancy at birth\", \"Response\": null, \"DataValueUnit\": \"Years\", \"DataValueType\": \"Number\", \"DataValue\": 77.7, \"DataValueAlt\": 77.7, \"DataValueFootnoteSymbol\": NaN, \"DatavalueFootnote\": NaN, \"LowConfidenceLimit\": 77.6, \"HighConfidenceLimit\": 77.8, \"StratificationCategory1\": \"Overall\", \"Stratification1\": \"Overall\", \"StratificationCategory2\": null, \"Stratification2\": null, \"StratificationCategory3\": null, \"Stratification3\": null, \"GeoLocation\": \"POINT (-75.54397042699964 42.82700103200045)\", \"ResponseID\": null, \"LocationID\": 36, \"TopicID\": \"OVC\", \"QuestionID\": \"OVC4_1\", \"DataValueTypeID\": \"NMBR\", \"StratificationCategoryID1\": \"OVERALL\", \"StratificationID1\": \"OVR\", \"StratificationCategoryID2\": null, \"StratificationID2\": null, \"StratificationCategoryID3\": null, \"StratificationID3\": null, \"id\": 36}, {\"YearStart\": 2019, \"YearEnd\": 2019, \"LocationAbbr\": \"UT\", \"LocationDesc\": \"Utah\", \"DataSource\": \"NVSS, Mortality\", \"Topic\": \"Overarching Conditions\", \"Question\": \"Life expectancy at birth\", \"Response\": null, \"DataValueUnit\": \"Years\", \"DataValueType\": \"Number\", \"DataValue\": 79.7, \"DataValueAlt\": 79.7, \"DataValueFootnoteSymbol\": NaN, \"DatavalueFootnote\": NaN, \"LowConfidenceLimit\": 79.5, \"HighConfidenceLimit\": 79.9, \"StratificationCategory1\": \"Overall\", \"Stratification1\": \"Overall\", \"StratificationCategory2\": null, \"Stratification2\": null, \"StratificationCategory3\": null, \"Stratification3\": null, \"GeoLocation\": \"POINT (-111.58713063499971 39.360700171000474)\", \"ResponseID\": null, \"LocationID\": 49, \"TopicID\": \"OVC\", \"QuestionID\": \"OVC4_1\", \"DataValueTypeID\": \"NMBR\", \"StratificationCategoryID1\": \"OVERALL\", \"StratificationID1\": \"OVR\", \"StratificationCategoryID2\": null, \"StratificationID2\": null, \"StratificationCategoryID3\": null, \"StratificationID3\": null, \"id\": 49}, {\"YearStart\": 2019, \"YearEnd\": 2019, \"LocationAbbr\": \"DE\", \"LocationDesc\": \"Delaware\", \"DataSource\": \"NVSS, Mortality\", \"Topic\": \"Overarching Conditions\", \"Question\": \"Life expectancy at birth\", \"Response\": null, \"DataValueUnit\": \"Years\", \"DataValueType\": \"Number\", \"DataValue\": 78.1, \"DataValueAlt\": 78.1, \"DataValueFootnoteSymbol\": NaN, \"DatavalueFootnote\": NaN, \"LowConfidenceLimit\": 77.8, \"HighConfidenceLimit\": 78.4, \"StratificationCategory1\": \"Overall\", \"Stratification1\": \"Overall\", \"StratificationCategory2\": null, \"Stratification2\": null, \"StratificationCategory3\": null, \"Stratification3\": null, \"GeoLocation\": \"POINT (-75.57774116799965 39.008830667000495)\", \"ResponseID\": null, \"LocationID\": 10, \"TopicID\": \"OVC\", \"QuestionID\": \"OVC4_1\", \"DataValueTypeID\": \"NMBR\", \"StratificationCategoryID1\": \"OVERALL\", \"StratificationID1\": \"OVR\", \"StratificationCategoryID2\": null, \"StratificationID2\": null, \"StratificationCategoryID3\": null, \"StratificationID3\": null, \"id\": 10}, {\"YearStart\": 2018, \"YearEnd\": 2018, \"LocationAbbr\": \"CA\", \"LocationDesc\": \"California\", \"DataSource\": \"NVSS, Mortality\", \"Topic\": \"Overarching Conditions\", \"Question\": \"Life expectancy at birth\", \"Response\": null, \"DataValueUnit\": \"Years\", \"DataValueType\": \"Number\", \"DataValue\": 80.8, \"DataValueAlt\": 80.8, \"DataValueFootnoteSymbol\": NaN, \"DatavalueFootnote\": NaN, \"LowConfidenceLimit\": 80.8, \"HighConfidenceLimit\": 80.8, \"StratificationCategory1\": \"Overall\", \"Stratification1\": \"Overall\", \"StratificationCategory2\": null, \"Stratification2\": null, \"StratificationCategory3\": null, \"Stratification3\": null, \"GeoLocation\": \"POINT (-120.99999953799971 37.63864012300047)\", \"ResponseID\": null, \"LocationID\": 6, \"TopicID\": \"OVC\", \"QuestionID\": \"OVC4_1\", \"DataValueTypeID\": \"NMBR\", \"StratificationCategoryID1\": \"OVERALL\", \"StratificationID1\": \"OVR\", \"StratificationCategoryID2\": null, \"StratificationID2\": null, \"StratificationCategoryID3\": null, \"StratificationID3\": null, \"id\": 6}, {\"YearStart\": 2018, \"YearEnd\": 2018, \"LocationAbbr\": \"SC\", \"LocationDesc\": \"South Carolina\", \"DataSource\": \"NVSS, Mortality\", \"Topic\": \"Overarching Conditions\", \"Question\": \"Life expectancy at birth\", \"Response\": null, \"DataValueUnit\": \"Years\", \"DataValueType\": \"Number\", \"DataValue\": 76.5, \"DataValueAlt\": 76.5, \"DataValueFootnoteSymbol\": NaN, \"DatavalueFootnote\": NaN, \"LowConfidenceLimit\": 76.4, \"HighConfidenceLimit\": 76.6, \"StratificationCategory1\": \"Overall\", \"Stratification1\": \"Overall\", \"StratificationCategory2\": null, \"Stratification2\": null, \"StratificationCategory3\": null, \"Stratification3\": null, \"GeoLocation\": \"POINT (-81.04537120699968 33.998821303000454)\", \"ResponseID\": null, \"LocationID\": 45, \"TopicID\": \"OVC\", \"QuestionID\": \"OVC4_1\", \"DataValueTypeID\": \"NMBR\", \"StratificationCategoryID1\": \"OVERALL\", \"StratificationID1\": \"OVR\", \"StratificationCategoryID2\": null, \"StratificationID2\": null, \"StratificationCategoryID3\": null, \"StratificationID3\": null, \"id\": 45}, {\"YearStart\": 2020, \"YearEnd\": 2020, \"LocationAbbr\": \"SD\", \"LocationDesc\": \"South Dakota\", \"DataSource\": \"NVSS, Mortality\", \"Topic\": \"Overarching Conditions\", \"Question\": \"Life expectancy at birth\", \"Response\": null, \"DataValueUnit\": \"Years\", \"DataValueType\": \"Number\", \"DataValue\": 76.7, \"DataValueAlt\": 76.7, \"DataValueFootnoteSymbol\": NaN, \"DatavalueFootnote\": NaN, \"LowConfidenceLimit\": 76.4, \"HighConfidenceLimit\": 77.0, \"StratificationCategory1\": \"Overall\", \"Stratification1\": \"Overall\", \"StratificationCategory2\": null, \"Stratification2\": null, \"StratificationCategory3\": null, \"Stratification3\": null, \"GeoLocation\": \"POINT (-100.3735306369997 44.353130053000484)\", \"ResponseID\": null, \"LocationID\": 46, \"TopicID\": \"OVC\", \"QuestionID\": \"OVC4_1\", \"DataValueTypeID\": \"NMBR\", \"StratificationCategoryID1\": \"OVERALL\", \"StratificationID1\": \"OVR\", \"StratificationCategoryID2\": null, \"StratificationID2\": null, \"StratificationCategoryID3\": null, \"StratificationID3\": null, \"id\": 46}, {\"YearStart\": 2001, \"YearEnd\": 2001, \"LocationAbbr\": \"IL\", \"LocationDesc\": \"Illinois\", \"DataSource\": \"NVSS, Mortality\", \"Topic\": \"Overarching Conditions\", \"Question\": \"Life expectancy at birth\", \"Response\": null, \"DataValueUnit\": \"Years\", \"DataValueType\": \"Number\", \"DataValue\": 77.1, \"DataValueAlt\": 77.1, \"DataValueFootnoteSymbol\": NaN, \"DatavalueFootnote\": NaN, \"LowConfidenceLimit\": null, \"HighConfidenceLimit\": null, \"StratificationCategory1\": \"Overall\", \"Stratification1\": \"Overall\", \"StratificationCategory2\": null, \"Stratification2\": null, \"StratificationCategory3\": null, \"Stratification3\": null, \"GeoLocation\": \"POINT (-88.99771017799969 40.48501028300046)\", \"ResponseID\": null, \"LocationID\": 17, \"TopicID\": \"OVC\", \"QuestionID\": \"OVC4_1\", \"DataValueTypeID\": \"NMBR\", \"StratificationCategoryID1\": \"OVERALL\", \"StratificationID1\": \"OVR\", \"StratificationCategoryID2\": null, \"StratificationID2\": null, \"StratificationCategoryID3\": null, \"StratificationID3\": null, \"id\": 17}, {\"YearStart\": 2018, \"YearEnd\": 2018, \"LocationAbbr\": \"DE\", \"LocationDesc\": \"Delaware\", \"DataSource\": \"NVSS, Mortality\", \"Topic\": \"Overarching Conditions\", \"Question\": \"Life expectancy at birth\", \"Response\": null, \"DataValueUnit\": \"Years\", \"DataValueType\": \"Number\", \"DataValue\": 77.8, \"DataValueAlt\": 77.8, \"DataValueFootnoteSymbol\": NaN, \"DatavalueFootnote\": NaN, \"LowConfidenceLimit\": 77.5, \"HighConfidenceLimit\": 78.1, \"StratificationCategory1\": \"Overall\", \"Stratification1\": \"Overall\", \"StratificationCategory2\": null, \"Stratification2\": null, \"StratificationCategory3\": null, \"Stratification3\": null, \"GeoLocation\": \"POINT (-75.57774116799965 39.008830667000495)\", \"ResponseID\": null, \"LocationID\": 10, \"TopicID\": \"OVC\", \"QuestionID\": \"OVC4_1\", \"DataValueTypeID\": \"NMBR\", \"StratificationCategoryID1\": \"OVERALL\", \"StratificationID1\": \"OVR\", \"StratificationCategoryID2\": null, \"StratificationID2\": null, \"StratificationCategoryID3\": null, \"StratificationID3\": null, \"id\": 10}, {\"YearStart\": 2018, \"YearEnd\": 2018, \"LocationAbbr\": \"NC\", \"LocationDesc\": \"North Carolina\", \"DataSource\": \"NVSS, Mortality\", \"Topic\": \"Overarching Conditions\", \"Question\": \"Life expectancy at birth\", \"Response\": null, \"DataValueUnit\": \"Years\", \"DataValueType\": \"Number\", \"DataValue\": 77.6, \"DataValueAlt\": 77.6, \"DataValueFootnoteSymbol\": NaN, \"DatavalueFootnote\": NaN, \"LowConfidenceLimit\": 77.5, \"HighConfidenceLimit\": 77.7, \"StratificationCategory1\": \"Overall\", \"Stratification1\": \"Overall\", \"StratificationCategory2\": null, \"Stratification2\": null, \"StratificationCategory3\": null, \"Stratification3\": null, \"GeoLocation\": \"POINT (-79.15925046299964 35.466220975000454)\", \"ResponseID\": null, \"LocationID\": 37, \"TopicID\": \"OVC\", \"QuestionID\": \"OVC4_1\", \"DataValueTypeID\": \"NMBR\", \"StratificationCategoryID1\": \"OVERALL\", \"StratificationID1\": \"OVR\", \"StratificationCategoryID2\": null, \"StratificationID2\": null, \"StratificationCategoryID3\": null, \"StratificationID3\": null, \"id\": 37}, {\"YearStart\": 2020, \"YearEnd\": 2020, \"LocationAbbr\": \"PA\", \"LocationDesc\": \"Pennsylvania\", \"DataSource\": \"NVSS, Mortality\", \"Topic\": \"Overarching Conditions\", \"Question\": \"Life expectancy at birth\", \"Response\": null, \"DataValueUnit\": \"Years\", \"DataValueType\": \"Number\", \"DataValue\": 76.8, \"DataValueAlt\": 76.8, \"DataValueFootnoteSymbol\": NaN, \"DatavalueFootnote\": NaN, \"LowConfidenceLimit\": 76.7, \"HighConfidenceLimit\": 76.9, \"StratificationCategory1\": \"Overall\", \"Stratification1\": \"Overall\", \"StratificationCategory2\": null, \"Stratification2\": null, \"StratificationCategory3\": null, \"Stratification3\": null, \"GeoLocation\": \"POINT (-77.86070029399963 40.79373015200048)\", \"ResponseID\": null, \"LocationID\": 42, \"TopicID\": \"OVC\", \"QuestionID\": \"OVC4_1\", \"DataValueTypeID\": \"NMBR\", \"StratificationCategoryID1\": \"OVERALL\", \"StratificationID1\": \"OVR\", \"StratificationCategoryID2\": null, \"StratificationID2\": null, \"StratificationCategoryID3\": null, \"StratificationID3\": null, \"id\": 42}, {\"YearStart\": 2009, \"YearEnd\": 2009, \"LocationAbbr\": \"WA\", \"LocationDesc\": \"Washington\", \"DataSource\": \"NVSS, Mortality\", \"Topic\": \"Overarching Conditions\", \"Question\": \"Life expectancy at birth\", \"Response\": null, \"DataValueUnit\": \"Years\", \"DataValueType\": \"Number\", \"DataValue\": 79.9, \"DataValueAlt\": 79.9, \"DataValueFootnoteSymbol\": NaN, \"DatavalueFootnote\": NaN, \"LowConfidenceLimit\": null, \"HighConfidenceLimit\": null, \"StratificationCategory1\": \"Overall\", \"Stratification1\": \"Overall\", \"StratificationCategory2\": null, \"Stratification2\": null, \"StratificationCategory3\": null, \"Stratification3\": null, \"GeoLocation\": \"POINT (-120.47001078999972 47.52227862900048)\", \"ResponseID\": null, \"LocationID\": 53, \"TopicID\": \"OVC\", \"QuestionID\": \"OVC4_1\", \"DataValueTypeID\": \"NMBR\", \"StratificationCategoryID1\": \"OVERALL\", \"StratificationID1\": \"OVR\", \"StratificationCategoryID2\": null, \"StratificationID2\": null, \"StratificationCategoryID3\": null, \"StratificationID3\": null, \"id\": 53}, {\"YearStart\": 2009, \"YearEnd\": 2009, \"LocationAbbr\": \"NY\", \"LocationDesc\": \"New York\", \"DataSource\": \"NVSS, Mortality\", \"Topic\": \"Overarching Conditions\", \"Question\": \"Life expectancy at birth\", \"Response\": null, \"DataValueUnit\": \"Years\", \"DataValueType\": \"Number\", \"DataValue\": 80.5, \"DataValueAlt\": 80.5, \"DataValueFootnoteSymbol\": NaN, \"DatavalueFootnote\": NaN, \"LowConfidenceLimit\": null, \"HighConfidenceLimit\": null, \"StratificationCategory1\": \"Overall\", \"Stratification1\": \"Overall\", \"StratificationCategory2\": null, \"Stratification2\": null, \"StratificationCategory3\": null, \"Stratification3\": null, \"GeoLocation\": \"POINT (-75.54397042699964 42.82700103200045)\", \"ResponseID\": null, \"LocationID\": 36, \"TopicID\": \"OVC\", \"QuestionID\": \"OVC4_1\", \"DataValueTypeID\": \"NMBR\", \"StratificationCategoryID1\": \"OVERALL\", \"StratificationID1\": \"OVR\", \"StratificationCategoryID2\": null, \"StratificationID2\": null, \"StratificationCategoryID3\": null, \"StratificationID3\": null, \"id\": 36}, {\"YearStart\": 2009, \"YearEnd\": 2009, \"LocationAbbr\": \"CA\", \"LocationDesc\": \"California\", \"DataSource\": \"NVSS, Mortality\", \"Topic\": \"Overarching Conditions\", \"Question\": \"Life expectancy at birth\", \"Response\": null, \"DataValueUnit\": \"Years\", \"DataValueType\": \"Number\", \"DataValue\": 80.8, \"DataValueAlt\": 80.8, \"DataValueFootnoteSymbol\": NaN, \"DatavalueFootnote\": NaN, \"LowConfidenceLimit\": null, \"HighConfidenceLimit\": null, \"StratificationCategory1\": \"Overall\", \"Stratification1\": \"Overall\", \"StratificationCategory2\": null, \"Stratification2\": null, \"StratificationCategory3\": null, \"Stratification3\": null, \"GeoLocation\": \"POINT (-120.99999953799971 37.63864012300047)\", \"ResponseID\": null, \"LocationID\": 6, \"TopicID\": \"OVC\", \"QuestionID\": \"OVC4_1\", \"DataValueTypeID\": \"NMBR\", \"StratificationCategoryID1\": \"OVERALL\", \"StratificationID1\": \"OVR\", \"StratificationCategoryID2\": null, \"StratificationID2\": null, \"StratificationCategoryID3\": null, \"StratificationID3\": null, \"id\": 6}, {\"YearStart\": 2019, \"YearEnd\": 2019, \"LocationAbbr\": \"WY\", \"LocationDesc\": \"Wyoming\", \"DataSource\": \"NVSS, Mortality\", \"Topic\": \"Overarching Conditions\", \"Question\": \"Life expectancy at birth\", \"Response\": null, \"DataValueUnit\": \"Years\", \"DataValueType\": \"Number\", \"DataValue\": 77.7, \"DataValueAlt\": 77.7, \"DataValueFootnoteSymbol\": NaN, \"DatavalueFootnote\": NaN, \"LowConfidenceLimit\": 77.3, \"HighConfidenceLimit\": 78.1, \"StratificationCategory1\": \"Overall\", \"Stratification1\": \"Overall\", \"StratificationCategory2\": null, \"Stratification2\": null, \"StratificationCategory3\": null, \"Stratification3\": null, \"GeoLocation\": \"POINT (-108.10983035299967 43.23554134300048)\", \"ResponseID\": null, \"LocationID\": 56, \"TopicID\": \"OVC\", \"QuestionID\": \"OVC4_1\", \"DataValueTypeID\": \"NMBR\", \"StratificationCategoryID1\": \"OVERALL\", \"StratificationID1\": \"OVR\", \"StratificationCategoryID2\": null, \"StratificationID2\": null, \"StratificationCategoryID3\": null, \"StratificationID3\": null, \"id\": 56}, {\"YearStart\": 2019, \"YearEnd\": 2019, \"LocationAbbr\": \"MS\", \"LocationDesc\": \"Mississippi\", \"DataSource\": \"NVSS, Mortality\", \"Topic\": \"Overarching Conditions\", \"Question\": \"Life expectancy at birth\", \"Response\": null, \"DataValueUnit\": \"Years\", \"DataValueType\": \"Number\", \"DataValue\": 74.4, \"DataValueAlt\": 74.4, \"DataValueFootnoteSymbol\": NaN, \"DatavalueFootnote\": NaN, \"LowConfidenceLimit\": 74.2, \"HighConfidenceLimit\": 74.6, \"StratificationCategory1\": \"Overall\", \"Stratification1\": \"Overall\", \"StratificationCategory2\": null, \"Stratification2\": null, \"StratificationCategory3\": null, \"Stratification3\": null, \"GeoLocation\": \"POINT (-89.53803082499968 32.745510099000455)\", \"ResponseID\": null, \"LocationID\": 28, \"TopicID\": \"OVC\", \"QuestionID\": \"OVC4_1\", \"DataValueTypeID\": \"NMBR\", \"StratificationCategoryID1\": \"OVERALL\", \"StratificationID1\": \"OVR\", \"StratificationCategoryID2\": null, \"StratificationID2\": null, \"StratificationCategoryID3\": null, \"StratificationID3\": null, \"id\": 28}, {\"YearStart\": 2018, \"YearEnd\": 2018, \"LocationAbbr\": \"MN\", \"LocationDesc\": \"Minnesota\", \"DataSource\": \"NVSS, Mortality\", \"Topic\": \"Overarching Conditions\", \"Question\": \"Life expectancy at birth\", \"Response\": null, \"DataValueUnit\": \"Years\", \"DataValueType\": \"Number\", \"DataValue\": 80.5, \"DataValueAlt\": 80.5, \"DataValueFootnoteSymbol\": NaN, \"DatavalueFootnote\": NaN, \"LowConfidenceLimit\": 80.4, \"HighConfidenceLimit\": 80.6, \"StratificationCategory1\": \"Overall\", \"Stratification1\": \"Overall\", \"StratificationCategory2\": null, \"Stratification2\": null, \"StratificationCategory3\": null, \"Stratification3\": null, \"GeoLocation\": \"POINT (-94.79420050299967 46.35564873600049)\", \"ResponseID\": null, \"LocationID\": 27, \"TopicID\": \"OVC\", \"QuestionID\": \"OVC4_1\", \"DataValueTypeID\": \"NMBR\", \"StratificationCategoryID1\": \"OVERALL\", \"StratificationID1\": \"OVR\", \"StratificationCategoryID2\": null, \"StratificationID2\": null, \"StratificationCategoryID3\": null, \"StratificationID3\": null, \"id\": 27}, {\"YearStart\": 2001, \"YearEnd\": 2001, \"LocationAbbr\": \"TN\", \"LocationDesc\": \"Tennessee\", \"DataSource\": \"NVSS, Mortality\", \"Topic\": \"Overarching Conditions\", \"Question\": \"Life expectancy at birth\", \"Response\": null, \"DataValueUnit\": \"Years\", \"DataValueType\": \"Number\", \"DataValue\": 75.3, \"DataValueAlt\": 75.3, \"DataValueFootnoteSymbol\": NaN, \"DatavalueFootnote\": NaN, \"LowConfidenceLimit\": null, \"HighConfidenceLimit\": null, \"StratificationCategory1\": \"Overall\", \"Stratification1\": \"Overall\", \"StratificationCategory2\": null, \"Stratification2\": null, \"StratificationCategory3\": null, \"Stratification3\": null, \"GeoLocation\": \"POINT (-85.77449091399967 35.68094058000048)\", \"ResponseID\": null, \"LocationID\": 47, \"TopicID\": \"OVC\", \"QuestionID\": \"OVC4_1\", \"DataValueTypeID\": \"NMBR\", \"StratificationCategoryID1\": \"OVERALL\", \"StratificationID1\": \"OVR\", \"StratificationCategoryID2\": null, \"StratificationID2\": null, \"StratificationCategoryID3\": null, \"StratificationID3\": null, \"id\": 47}, {\"YearStart\": 2019, \"YearEnd\": 2019, \"LocationAbbr\": \"RI\", \"LocationDesc\": \"Rhode Island\", \"DataSource\": \"NVSS, Mortality\", \"Topic\": \"Overarching Conditions\", \"Question\": \"Life expectancy at birth\", \"Response\": null, \"DataValueUnit\": \"Years\", \"DataValueType\": \"Number\", \"DataValue\": 79.5, \"DataValueAlt\": 79.5, \"DataValueFootnoteSymbol\": NaN, \"DatavalueFootnote\": NaN, \"LowConfidenceLimit\": 79.2, \"HighConfidenceLimit\": 79.8, \"StratificationCategory1\": \"Overall\", \"Stratification1\": \"Overall\", \"StratificationCategory2\": null, \"Stratification2\": null, \"StratificationCategory3\": null, \"Stratification3\": null, \"GeoLocation\": \"POINT (-71.52247031399963 41.70828019300046)\", \"ResponseID\": null, \"LocationID\": 44, \"TopicID\": \"OVC\", \"QuestionID\": \"OVC4_1\", \"DataValueTypeID\": \"NMBR\", \"StratificationCategoryID1\": \"OVERALL\", \"StratificationID1\": \"OVR\", \"StratificationCategoryID2\": null, \"StratificationID2\": null, \"StratificationCategoryID3\": null, \"StratificationID3\": null, \"id\": 44}, {\"YearStart\": 2009, \"YearEnd\": 2009, \"LocationAbbr\": \"FL\", \"LocationDesc\": \"Florida\", \"DataSource\": \"NVSS, Mortality\", \"Topic\": \"Overarching Conditions\", \"Question\": \"Life expectancy at birth\", \"Response\": null, \"DataValueUnit\": \"Years\", \"DataValueType\": \"Number\", \"DataValue\": 79.4, \"DataValueAlt\": 79.4, \"DataValueFootnoteSymbol\": NaN, \"DatavalueFootnote\": NaN, \"LowConfidenceLimit\": null, \"HighConfidenceLimit\": null, \"StratificationCategory1\": \"Overall\", \"Stratification1\": \"Overall\", \"StratificationCategory2\": null, \"Stratification2\": null, \"StratificationCategory3\": null, \"Stratification3\": null, \"GeoLocation\": \"POINT (-81.92896053899966 28.932040377000476)\", \"ResponseID\": null, \"LocationID\": 12, \"TopicID\": \"OVC\", \"QuestionID\": \"OVC4_1\", \"DataValueTypeID\": \"NMBR\", \"StratificationCategoryID1\": \"OVERALL\", \"StratificationID1\": \"OVR\", \"StratificationCategoryID2\": null, \"StratificationID2\": null, \"StratificationCategoryID3\": null, \"StratificationID3\": null, \"id\": 12}, {\"YearStart\": 2019, \"YearEnd\": 2019, \"LocationAbbr\": \"VA\", \"LocationDesc\": \"Virginia\", \"DataSource\": \"NVSS, Mortality\", \"Topic\": \"Overarching Conditions\", \"Question\": \"Life expectancy at birth\", \"Response\": null, \"DataValueUnit\": \"Years\", \"DataValueType\": \"Number\", \"DataValue\": 79.1, \"DataValueAlt\": 79.1, \"DataValueFootnoteSymbol\": NaN, \"DatavalueFootnote\": NaN, \"LowConfidenceLimit\": 79.0, \"HighConfidenceLimit\": 79.2, \"StratificationCategory1\": \"Overall\", \"Stratification1\": \"Overall\", \"StratificationCategory2\": null, \"Stratification2\": null, \"StratificationCategory3\": null, \"Stratification3\": null, \"GeoLocation\": \"POINT (-78.45789046299967 37.54268067400045)\", \"ResponseID\": null, \"LocationID\": 51, \"TopicID\": \"OVC\", \"QuestionID\": \"OVC4_1\", \"DataValueTypeID\": \"NMBR\", \"StratificationCategoryID1\": \"OVERALL\", \"StratificationID1\": \"OVR\", \"StratificationCategoryID2\": null, \"StratificationID2\": null, \"StratificationCategoryID3\": null, \"StratificationID3\": null, \"id\": 51}, {\"YearStart\": 2001, \"YearEnd\": 2001, \"LocationAbbr\": \"PA\", \"LocationDesc\": \"Pennsylvania\", \"DataSource\": \"NVSS, Mortality\", \"Topic\": \"Overarching Conditions\", \"Question\": \"Life expectancy at birth\", \"Response\": null, \"DataValueUnit\": \"Years\", \"DataValueType\": \"Number\", \"DataValue\": 77.0, \"DataValueAlt\": 77.0, \"DataValueFootnoteSymbol\": NaN, \"DatavalueFootnote\": NaN, \"LowConfidenceLimit\": null, \"HighConfidenceLimit\": null, \"StratificationCategory1\": \"Overall\", \"Stratification1\": \"Overall\", \"StratificationCategory2\": null, \"Stratification2\": null, \"StratificationCategory3\": null, \"Stratification3\": null, \"GeoLocation\": \"POINT (-77.86070029399963 40.79373015200048)\", \"ResponseID\": null, \"LocationID\": 42, \"TopicID\": \"OVC\", \"QuestionID\": \"OVC4_1\", \"DataValueTypeID\": \"NMBR\", \"StratificationCategoryID1\": \"OVERALL\", \"StratificationID1\": \"OVR\", \"StratificationCategoryID2\": null, \"StratificationID2\": null, \"StratificationCategoryID3\": null, \"StratificationID3\": null, \"id\": 42}, {\"YearStart\": 2019, \"YearEnd\": 2019, \"LocationAbbr\": \"MI\", \"LocationDesc\": \"Michigan\", \"DataSource\": \"NVSS, Mortality\", \"Topic\": \"Overarching Conditions\", \"Question\": \"Life expectancy at birth\", \"Response\": null, \"DataValueUnit\": \"Years\", \"DataValueType\": \"Number\", \"DataValue\": 78.0, \"DataValueAlt\": 78.0, \"DataValueFootnoteSymbol\": NaN, \"DatavalueFootnote\": NaN, \"LowConfidenceLimit\": 77.9, \"HighConfidenceLimit\": 78.1, \"StratificationCategory1\": \"Overall\", \"Stratification1\": \"Overall\", \"StratificationCategory2\": null, \"Stratification2\": null, \"StratificationCategory3\": null, \"Stratification3\": null, \"GeoLocation\": \"POINT (-84.71439026999968 44.6613195430005)\", \"ResponseID\": null, \"LocationID\": 26, \"TopicID\": \"OVC\", \"QuestionID\": \"OVC4_1\", \"DataValueTypeID\": \"NMBR\", \"StratificationCategoryID1\": \"OVERALL\", \"StratificationID1\": \"OVR\", \"StratificationCategoryID2\": null, \"StratificationID2\": null, \"StratificationCategoryID3\": null, \"StratificationID3\": null, \"id\": 26}, {\"YearStart\": 2009, \"YearEnd\": 2009, \"LocationAbbr\": \"SD\", \"LocationDesc\": \"South Dakota\", \"DataSource\": \"NVSS, Mortality\", \"Topic\": \"Overarching Conditions\", \"Question\": \"Life expectancy at birth\", \"Response\": null, \"DataValueUnit\": \"Years\", \"DataValueType\": \"Number\", \"DataValue\": 79.5, \"DataValueAlt\": 79.5, \"DataValueFootnoteSymbol\": NaN, \"DatavalueFootnote\": NaN, \"LowConfidenceLimit\": null, \"HighConfidenceLimit\": null, \"StratificationCategory1\": \"Overall\", \"Stratification1\": \"Overall\", \"StratificationCategory2\": null, \"Stratification2\": null, \"StratificationCategory3\": null, \"Stratification3\": null, \"GeoLocation\": \"POINT (-100.3735306369997 44.353130053000484)\", \"ResponseID\": null, \"LocationID\": 46, \"TopicID\": \"OVC\", \"QuestionID\": \"OVC4_1\", \"DataValueTypeID\": \"NMBR\", \"StratificationCategoryID1\": \"OVERALL\", \"StratificationID1\": \"OVR\", \"StratificationCategoryID2\": null, \"StratificationID2\": null, \"StratificationCategoryID3\": null, \"StratificationID3\": null, \"id\": 46}, {\"YearStart\": 2020, \"YearEnd\": 2020, \"LocationAbbr\": \"DE\", \"LocationDesc\": \"Delaware\", \"DataSource\": \"NVSS, Mortality\", \"Topic\": \"Overarching Conditions\", \"Question\": \"Life expectancy at birth\", \"Response\": null, \"DataValueUnit\": \"Years\", \"DataValueType\": \"Number\", \"DataValue\": 76.7, \"DataValueAlt\": 76.7, \"DataValueFootnoteSymbol\": NaN, \"DatavalueFootnote\": NaN, \"LowConfidenceLimit\": 76.4, \"HighConfidenceLimit\": 77.0, \"StratificationCategory1\": \"Overall\", \"Stratification1\": \"Overall\", \"StratificationCategory2\": null, \"Stratification2\": null, \"StratificationCategory3\": null, \"Stratification3\": null, \"GeoLocation\": \"POINT (-75.57774116799965 39.008830667000495)\", \"ResponseID\": null, \"LocationID\": 10, \"TopicID\": \"OVC\", \"QuestionID\": \"OVC4_1\", \"DataValueTypeID\": \"NMBR\", \"StratificationCategoryID1\": \"OVERALL\", \"StratificationID1\": \"OVR\", \"StratificationCategoryID2\": null, \"StratificationID2\": null, \"StratificationCategoryID3\": null, \"StratificationID3\": null, \"id\": 10}, {\"YearStart\": 2019, \"YearEnd\": 2019, \"LocationAbbr\": \"MT\", \"LocationDesc\": \"Montana\", \"DataSource\": \"NVSS, Mortality\", \"Topic\": \"Overarching Conditions\", \"Question\": \"Life expectancy at birth\", \"Response\": null, \"DataValueUnit\": \"Years\", \"DataValueType\": \"Number\", \"DataValue\": 78.4, \"DataValueAlt\": 78.4, \"DataValueFootnoteSymbol\": NaN, \"DatavalueFootnote\": NaN, \"LowConfidenceLimit\": 78.1, \"HighConfidenceLimit\": 78.7, \"StratificationCategory1\": \"Overall\", \"Stratification1\": \"Overall\", \"StratificationCategory2\": null, \"Stratification2\": null, \"StratificationCategory3\": null, \"Stratification3\": null, \"GeoLocation\": \"POINT (-109.42442064499971 47.06652897200047)\", \"ResponseID\": null, \"LocationID\": 30, \"TopicID\": \"OVC\", \"QuestionID\": \"OVC4_1\", \"DataValueTypeID\": \"NMBR\", \"StratificationCategoryID1\": \"OVERALL\", \"StratificationID1\": \"OVR\", \"StratificationCategoryID2\": null, \"StratificationID2\": null, \"StratificationCategoryID3\": null, \"StratificationID3\": null, \"id\": 30}, {\"YearStart\": 2019, \"YearEnd\": 2019, \"LocationAbbr\": \"OK\", \"LocationDesc\": \"Oklahoma\", \"DataSource\": \"NVSS, Mortality\", \"Topic\": \"Overarching Conditions\", \"Question\": \"Life expectancy at birth\", \"Response\": null, \"DataValueUnit\": \"Years\", \"DataValueType\": \"Number\", \"DataValue\": 75.7, \"DataValueAlt\": 75.7, \"DataValueFootnoteSymbol\": NaN, \"DatavalueFootnote\": NaN, \"LowConfidenceLimit\": 75.6, \"HighConfidenceLimit\": 75.8, \"StratificationCategory1\": \"Overall\", \"Stratification1\": \"Overall\", \"StratificationCategory2\": null, \"Stratification2\": null, \"StratificationCategory3\": null, \"Stratification3\": null, \"GeoLocation\": \"POINT (-97.52107021399968 35.47203135600046)\", \"ResponseID\": null, \"LocationID\": 40, \"TopicID\": \"OVC\", \"QuestionID\": \"OVC4_1\", \"DataValueTypeID\": \"NMBR\", \"StratificationCategoryID1\": \"OVERALL\", \"StratificationID1\": \"OVR\", \"StratificationCategoryID2\": null, \"StratificationID2\": null, \"StratificationCategoryID3\": null, \"StratificationID3\": null, \"id\": 40}, {\"YearStart\": 2018, \"YearEnd\": 2018, \"LocationAbbr\": \"DC\", \"LocationDesc\": \"District of Columbia\", \"DataSource\": \"NVSS, Mortality\", \"Topic\": \"Overarching Conditions\", \"Question\": \"Life expectancy at birth\", \"Response\": null, \"DataValueUnit\": \"Years\", \"DataValueType\": \"Number\", \"DataValue\": 77.7, \"DataValueAlt\": 77.7, \"DataValueFootnoteSymbol\": NaN, \"DatavalueFootnote\": NaN, \"LowConfidenceLimit\": 77.3, \"HighConfidenceLimit\": 78.1, \"StratificationCategory1\": \"Overall\", \"Stratification1\": \"Overall\", \"StratificationCategory2\": null, \"Stratification2\": null, \"StratificationCategory3\": null, \"Stratification3\": null, \"GeoLocation\": \"POINT (-77.036871 38.907192)\", \"ResponseID\": null, \"LocationID\": 11, \"TopicID\": \"OVC\", \"QuestionID\": \"OVC4_1\", \"DataValueTypeID\": \"NMBR\", \"StratificationCategoryID1\": \"OVERALL\", \"StratificationID1\": \"OVR\", \"StratificationCategoryID2\": null, \"StratificationID2\": null, \"StratificationCategoryID3\": null, \"StratificationID3\": null, \"id\": 11}, {\"YearStart\": 2001, \"YearEnd\": 2001, \"LocationAbbr\": \"ME\", \"LocationDesc\": \"Maine\", \"DataSource\": \"NVSS, Mortality\", \"Topic\": \"Overarching Conditions\", \"Question\": \"Life expectancy at birth\", \"Response\": null, \"DataValueUnit\": \"Years\", \"DataValueType\": \"Number\", \"DataValue\": 77.5, \"DataValueAlt\": 77.5, \"DataValueFootnoteSymbol\": NaN, \"DatavalueFootnote\": NaN, \"LowConfidenceLimit\": null, \"HighConfidenceLimit\": null, \"StratificationCategory1\": \"Overall\", \"Stratification1\": \"Overall\", \"StratificationCategory2\": null, \"Stratification2\": null, \"StratificationCategory3\": null, \"Stratification3\": null, \"GeoLocation\": \"POINT (-68.98503133599962 45.254228894000505)\", \"ResponseID\": null, \"LocationID\": 23, \"TopicID\": \"OVC\", \"QuestionID\": \"OVC4_1\", \"DataValueTypeID\": \"NMBR\", \"StratificationCategoryID1\": \"OVERALL\", \"StratificationID1\": \"OVR\", \"StratificationCategoryID2\": null, \"StratificationID2\": null, \"StratificationCategoryID3\": null, \"StratificationID3\": null, \"id\": 23}, {\"YearStart\": 2020, \"YearEnd\": 2020, \"LocationAbbr\": \"AL\", \"LocationDesc\": \"Alabama\", \"DataSource\": \"NVSS, Mortality\", \"Topic\": \"Overarching Conditions\", \"Question\": \"Life expectancy at birth\", \"Response\": null, \"DataValueUnit\": \"Years\", \"DataValueType\": \"Number\", \"DataValue\": 73.2, \"DataValueAlt\": 73.2, \"DataValueFootnoteSymbol\": NaN, \"DatavalueFootnote\": NaN, \"LowConfidenceLimit\": 73.1, \"HighConfidenceLimit\": 73.3, \"StratificationCategory1\": \"Overall\", \"Stratification1\": \"Overall\", \"StratificationCategory2\": null, \"Stratification2\": null, \"StratificationCategory3\": null, \"Stratification3\": null, \"GeoLocation\": \"POINT (-86.63186076199969 32.84057112200048)\", \"ResponseID\": null, \"LocationID\": 1, \"TopicID\": \"OVC\", \"QuestionID\": \"OVC4_1\", \"DataValueTypeID\": \"NMBR\", \"StratificationCategoryID1\": \"OVERALL\", \"StratificationID1\": \"OVR\", \"StratificationCategoryID2\": null, \"StratificationID2\": null, \"StratificationCategoryID3\": null, \"StratificationID3\": null, \"id\": 1}, {\"YearStart\": 2001, \"YearEnd\": 2001, \"LocationAbbr\": \"MS\", \"LocationDesc\": \"Mississippi\", \"DataSource\": \"NVSS, Mortality\", \"Topic\": \"Overarching Conditions\", \"Question\": \"Life expectancy at birth\", \"Response\": null, \"DataValueUnit\": \"Years\", \"DataValueType\": \"Number\", \"DataValue\": 73.9, \"DataValueAlt\": 73.9, \"DataValueFootnoteSymbol\": NaN, \"DatavalueFootnote\": NaN, \"LowConfidenceLimit\": null, \"HighConfidenceLimit\": null, \"StratificationCategory1\": \"Overall\", \"Stratification1\": \"Overall\", \"StratificationCategory2\": null, \"Stratification2\": null, \"StratificationCategory3\": null, \"Stratification3\": null, \"GeoLocation\": \"POINT (-89.53803082499968 32.745510099000455)\", \"ResponseID\": null, \"LocationID\": 28, \"TopicID\": \"OVC\", \"QuestionID\": \"OVC4_1\", \"DataValueTypeID\": \"NMBR\", \"StratificationCategoryID1\": \"OVERALL\", \"StratificationID1\": \"OVR\", \"StratificationCategoryID2\": null, \"StratificationID2\": null, \"StratificationCategoryID3\": null, \"StratificationID3\": null, \"id\": 28}, {\"YearStart\": 2018, \"YearEnd\": 2018, \"LocationAbbr\": \"AK\", \"LocationDesc\": \"Alaska\", \"DataSource\": \"NVSS, Mortality\", \"Topic\": \"Overarching Conditions\", \"Question\": \"Life expectancy at birth\", \"Response\": null, \"DataValueUnit\": \"Years\", \"DataValueType\": \"Number\", \"DataValue\": 78.0, \"DataValueAlt\": 78.0, \"DataValueFootnoteSymbol\": NaN, \"DatavalueFootnote\": NaN, \"LowConfidenceLimit\": 77.7, \"HighConfidenceLimit\": 78.3, \"StratificationCategory1\": \"Overall\", \"Stratification1\": \"Overall\", \"StratificationCategory2\": null, \"Stratification2\": null, \"StratificationCategory3\": null, \"Stratification3\": null, \"GeoLocation\": \"POINT (-147.72205903599973 64.84507995700051)\", \"ResponseID\": null, \"LocationID\": 2, \"TopicID\": \"OVC\", \"QuestionID\": \"OVC4_1\", \"DataValueTypeID\": \"NMBR\", \"StratificationCategoryID1\": \"OVERALL\", \"StratificationID1\": \"OVR\", \"StratificationCategoryID2\": null, \"StratificationID2\": null, \"StratificationCategoryID3\": null, \"StratificationID3\": null, \"id\": 2}, {\"YearStart\": 2019, \"YearEnd\": 2019, \"LocationAbbr\": \"NY\", \"LocationDesc\": \"New York\", \"DataSource\": \"NVSS, Mortality\", \"Topic\": \"Overarching Conditions\", \"Question\": \"Life expectancy at birth\", \"Response\": null, \"DataValueUnit\": \"Years\", \"DataValueType\": \"Number\", \"DataValue\": 80.7, \"DataValueAlt\": 80.7, \"DataValueFootnoteSymbol\": NaN, \"DatavalueFootnote\": NaN, \"LowConfidenceLimit\": 80.6, \"HighConfidenceLimit\": 80.8, \"StratificationCategory1\": \"Overall\", \"Stratification1\": \"Overall\", \"StratificationCategory2\": null, \"Stratification2\": null, \"StratificationCategory3\": null, \"Stratification3\": null, \"GeoLocation\": \"POINT (-75.54397042699964 42.82700103200045)\", \"ResponseID\": null, \"LocationID\": 36, \"TopicID\": \"OVC\", \"QuestionID\": \"OVC4_1\", \"DataValueTypeID\": \"NMBR\", \"StratificationCategoryID1\": \"OVERALL\", \"StratificationID1\": \"OVR\", \"StratificationCategoryID2\": null, \"StratificationID2\": null, \"StratificationCategoryID3\": null, \"StratificationID3\": null, \"id\": 36}, {\"YearStart\": 2009, \"YearEnd\": 2009, \"LocationAbbr\": \"GA\", \"LocationDesc\": \"Georgia\", \"DataSource\": \"NVSS, Mortality\", \"Topic\": \"Overarching Conditions\", \"Question\": \"Life expectancy at birth\", \"Response\": null, \"DataValueUnit\": \"Years\", \"DataValueType\": \"Number\", \"DataValue\": 77.2, \"DataValueAlt\": 77.2, \"DataValueFootnoteSymbol\": NaN, \"DatavalueFootnote\": NaN, \"LowConfidenceLimit\": null, \"HighConfidenceLimit\": null, \"StratificationCategory1\": \"Overall\", \"Stratification1\": \"Overall\", \"StratificationCategory2\": null, \"Stratification2\": null, \"StratificationCategory3\": null, \"Stratification3\": null, \"GeoLocation\": \"POINT (-83.62758034599966 32.83968109300048)\", \"ResponseID\": null, \"LocationID\": 13, \"TopicID\": \"OVC\", \"QuestionID\": \"OVC4_1\", \"DataValueTypeID\": \"NMBR\", \"StratificationCategoryID1\": \"OVERALL\", \"StratificationID1\": \"OVR\", \"StratificationCategoryID2\": null, \"StratificationID2\": null, \"StratificationCategoryID3\": null, \"StratificationID3\": null, \"id\": 13}, {\"YearStart\": 2020, \"YearEnd\": 2020, \"LocationAbbr\": \"UT\", \"LocationDesc\": \"Utah\", \"DataSource\": \"NVSS, Mortality\", \"Topic\": \"Overarching Conditions\", \"Question\": \"Life expectancy at birth\", \"Response\": null, \"DataValueUnit\": \"Years\", \"DataValueType\": \"Number\", \"DataValue\": 78.6, \"DataValueAlt\": 78.6, \"DataValueFootnoteSymbol\": NaN, \"DatavalueFootnote\": NaN, \"LowConfidenceLimit\": 78.4, \"HighConfidenceLimit\": 78.8, \"StratificationCategory1\": \"Overall\", \"Stratification1\": \"Overall\", \"StratificationCategory2\": null, \"Stratification2\": null, \"StratificationCategory3\": null, \"Stratification3\": null, \"GeoLocation\": \"POINT (-111.58713063499971 39.360700171000474)\", \"ResponseID\": null, \"LocationID\": 49, \"TopicID\": \"OVC\", \"QuestionID\": \"OVC4_1\", \"DataValueTypeID\": \"NMBR\", \"StratificationCategoryID1\": \"OVERALL\", \"StratificationID1\": \"OVR\", \"StratificationCategoryID2\": null, \"StratificationID2\": null, \"StratificationCategoryID3\": null, \"StratificationID3\": null, \"id\": 49}, {\"YearStart\": 2009, \"YearEnd\": 2009, \"LocationAbbr\": \"HI\", \"LocationDesc\": \"Hawaii\", \"DataSource\": \"NVSS, Mortality\", \"Topic\": \"Overarching Conditions\", \"Question\": \"Life expectancy at birth\", \"Response\": null, \"DataValueUnit\": \"Years\", \"DataValueType\": \"Number\", \"DataValue\": 81.3, \"DataValueAlt\": 81.3, \"DataValueFootnoteSymbol\": NaN, \"DatavalueFootnote\": NaN, \"LowConfidenceLimit\": null, \"HighConfidenceLimit\": null, \"StratificationCategory1\": \"Overall\", \"Stratification1\": \"Overall\", \"StratificationCategory2\": null, \"Stratification2\": null, \"StratificationCategory3\": null, \"Stratification3\": null, \"GeoLocation\": \"POINT (-157.85774940299973 21.304850435000446)\", \"ResponseID\": null, \"LocationID\": 15, \"TopicID\": \"OVC\", \"QuestionID\": \"OVC4_1\", \"DataValueTypeID\": \"NMBR\", \"StratificationCategoryID1\": \"OVERALL\", \"StratificationID1\": \"OVR\", \"StratificationCategoryID2\": null, \"StratificationID2\": null, \"StratificationCategoryID3\": null, \"StratificationID3\": null, \"id\": 15}, {\"YearStart\": 2019, \"YearEnd\": 2019, \"LocationAbbr\": \"LA\", \"LocationDesc\": \"Louisiana\", \"DataSource\": \"NVSS, Mortality\", \"Topic\": \"Overarching Conditions\", \"Question\": \"Life expectancy at birth\", \"Response\": null, \"DataValueUnit\": \"Years\", \"DataValueType\": \"Number\", \"DataValue\": 75.7, \"DataValueAlt\": 75.7, \"DataValueFootnoteSymbol\": NaN, \"DatavalueFootnote\": NaN, \"LowConfidenceLimit\": 75.6, \"HighConfidenceLimit\": 75.8, \"StratificationCategory1\": \"Overall\", \"Stratification1\": \"Overall\", \"StratificationCategory2\": null, \"Stratification2\": null, \"StratificationCategory3\": null, \"Stratification3\": null, \"GeoLocation\": \"POINT (-92.44568007099969 31.31266064400046)\", \"ResponseID\": null, \"LocationID\": 22, \"TopicID\": \"OVC\", \"QuestionID\": \"OVC4_1\", \"DataValueTypeID\": \"NMBR\", \"StratificationCategoryID1\": \"OVERALL\", \"StratificationID1\": \"OVR\", \"StratificationCategoryID2\": null, \"StratificationID2\": null, \"StratificationCategoryID3\": null, \"StratificationID3\": null, \"id\": 22}, {\"YearStart\": 2020, \"YearEnd\": 2020, \"LocationAbbr\": \"NJ\", \"LocationDesc\": \"New Jersey\", \"DataSource\": \"NVSS, Mortality\", \"Topic\": \"Overarching Conditions\", \"Question\": \"Life expectancy at birth\", \"Response\": null, \"DataValueUnit\": \"Years\", \"DataValueType\": \"Number\", \"DataValue\": 77.5, \"DataValueAlt\": 77.5, \"DataValueFootnoteSymbol\": NaN, \"DatavalueFootnote\": NaN, \"LowConfidenceLimit\": 77.4, \"HighConfidenceLimit\": 77.6, \"StratificationCategory1\": \"Overall\", \"Stratification1\": \"Overall\", \"StratificationCategory2\": null, \"Stratification2\": null, \"StratificationCategory3\": null, \"Stratification3\": null, \"GeoLocation\": \"POINT (-74.27369128799967 40.13057004800049)\", \"ResponseID\": null, \"LocationID\": 34, \"TopicID\": \"OVC\", \"QuestionID\": \"OVC4_1\", \"DataValueTypeID\": \"NMBR\", \"StratificationCategoryID1\": \"OVERALL\", \"StratificationID1\": \"OVR\", \"StratificationCategoryID2\": null, \"StratificationID2\": null, \"StratificationCategoryID3\": null, \"StratificationID3\": null, \"id\": 34}, {\"YearStart\": 2009, \"YearEnd\": 2009, \"LocationAbbr\": \"DE\", \"LocationDesc\": \"Delaware\", \"DataSource\": \"NVSS, Mortality\", \"Topic\": \"Overarching Conditions\", \"Question\": \"Life expectancy at birth\", \"Response\": null, \"DataValueUnit\": \"Years\", \"DataValueType\": \"Number\", \"DataValue\": 78.4, \"DataValueAlt\": 78.4, \"DataValueFootnoteSymbol\": NaN, \"DatavalueFootnote\": NaN, \"LowConfidenceLimit\": null, \"HighConfidenceLimit\": null, \"StratificationCategory1\": \"Overall\", \"Stratification1\": \"Overall\", \"StratificationCategory2\": null, \"Stratification2\": null, \"StratificationCategory3\": null, \"Stratification3\": null, \"GeoLocation\": \"POINT (-75.57774116799965 39.008830667000495)\", \"ResponseID\": null, \"LocationID\": 10, \"TopicID\": \"OVC\", \"QuestionID\": \"OVC4_1\", \"DataValueTypeID\": \"NMBR\", \"StratificationCategoryID1\": \"OVERALL\", \"StratificationID1\": \"OVR\", \"StratificationCategoryID2\": null, \"StratificationID2\": null, \"StratificationCategoryID3\": null, \"StratificationID3\": null, \"id\": 10}, {\"YearStart\": 2020, \"YearEnd\": 2020, \"LocationAbbr\": \"KY\", \"LocationDesc\": \"Kentucky\", \"DataSource\": \"NVSS, Mortality\", \"Topic\": \"Overarching Conditions\", \"Question\": \"Life expectancy at birth\", \"Response\": null, \"DataValueUnit\": \"Years\", \"DataValueType\": \"Number\", \"DataValue\": 73.5, \"DataValueAlt\": 73.5, \"DataValueFootnoteSymbol\": NaN, \"DatavalueFootnote\": NaN, \"LowConfidenceLimit\": 73.4, \"HighConfidenceLimit\": 73.6, \"StratificationCategory1\": \"Overall\", \"Stratification1\": \"Overall\", \"StratificationCategory2\": null, \"Stratification2\": null, \"StratificationCategory3\": null, \"Stratification3\": null, \"GeoLocation\": \"POINT (-84.77497104799966 37.645970271000465)\", \"ResponseID\": null, \"LocationID\": 21, \"TopicID\": \"OVC\", \"QuestionID\": \"OVC4_1\", \"DataValueTypeID\": \"NMBR\", \"StratificationCategoryID1\": \"OVERALL\", \"StratificationID1\": \"OVR\", \"StratificationCategoryID2\": null, \"StratificationID2\": null, \"StratificationCategoryID3\": null, \"StratificationID3\": null, \"id\": 21}, {\"YearStart\": 2018, \"YearEnd\": 2018, \"LocationAbbr\": \"NH\", \"LocationDesc\": \"New Hampshire\", \"DataSource\": \"NVSS, Mortality\", \"Topic\": \"Overarching Conditions\", \"Question\": \"Life expectancy at birth\", \"Response\": null, \"DataValueUnit\": \"Years\", \"DataValueType\": \"Number\", \"DataValue\": 79.1, \"DataValueAlt\": 79.1, \"DataValueFootnoteSymbol\": NaN, \"DatavalueFootnote\": NaN, \"LowConfidenceLimit\": 78.9, \"HighConfidenceLimit\": 79.3, \"StratificationCategory1\": \"Overall\", \"Stratification1\": \"Overall\", \"StratificationCategory2\": null, \"Stratification2\": null, \"StratificationCategory3\": null, \"Stratification3\": null, \"GeoLocation\": \"POINT (-71.50036091999965 43.65595011300047)\", \"ResponseID\": null, \"LocationID\": 33, \"TopicID\": \"OVC\", \"QuestionID\": \"OVC4_1\", \"DataValueTypeID\": \"NMBR\", \"StratificationCategoryID1\": \"OVERALL\", \"StratificationID1\": \"OVR\", \"StratificationCategoryID2\": null, \"StratificationID2\": null, \"StratificationCategoryID3\": null, \"StratificationID3\": null, \"id\": 33}, {\"YearStart\": 2009, \"YearEnd\": 2009, \"LocationAbbr\": \"OK\", \"LocationDesc\": \"Oklahoma\", \"DataSource\": \"NVSS, Mortality\", \"Topic\": \"Overarching Conditions\", \"Question\": \"Life expectancy at birth\", \"Response\": null, \"DataValueUnit\": \"Years\", \"DataValueType\": \"Number\", \"DataValue\": 75.9, \"DataValueAlt\": 75.9, \"DataValueFootnoteSymbol\": NaN, \"DatavalueFootnote\": NaN, \"LowConfidenceLimit\": null, \"HighConfidenceLimit\": null, \"StratificationCategory1\": \"Overall\", \"Stratification1\": \"Overall\", \"StratificationCategory2\": null, \"Stratification2\": null, \"StratificationCategory3\": null, \"Stratification3\": null, \"GeoLocation\": \"POINT (-97.52107021399968 35.47203135600046)\", \"ResponseID\": null, \"LocationID\": 40, \"TopicID\": \"OVC\", \"QuestionID\": \"OVC4_1\", \"DataValueTypeID\": \"NMBR\", \"StratificationCategoryID1\": \"OVERALL\", \"StratificationID1\": \"OVR\", \"StratificationCategoryID2\": null, \"StratificationID2\": null, \"StratificationCategoryID3\": null, \"StratificationID3\": null, \"id\": 40}, {\"YearStart\": 2018, \"YearEnd\": 2018, \"LocationAbbr\": \"WY\", \"LocationDesc\": \"Wyoming\", \"DataSource\": \"NVSS, Mortality\", \"Topic\": \"Overarching Conditions\", \"Question\": \"Life expectancy at birth\", \"Response\": null, \"DataValueUnit\": \"Years\", \"DataValueType\": \"Number\", \"DataValue\": 78.1, \"DataValueAlt\": 78.1, \"DataValueFootnoteSymbol\": NaN, \"DatavalueFootnote\": NaN, \"LowConfidenceLimit\": 77.7, \"HighConfidenceLimit\": 78.5, \"StratificationCategory1\": \"Overall\", \"Stratification1\": \"Overall\", \"StratificationCategory2\": null, \"Stratification2\": null, \"StratificationCategory3\": null, \"Stratification3\": null, \"GeoLocation\": \"POINT (-108.10983035299967 43.23554134300048)\", \"ResponseID\": null, \"LocationID\": 56, \"TopicID\": \"OVC\", \"QuestionID\": \"OVC4_1\", \"DataValueTypeID\": \"NMBR\", \"StratificationCategoryID1\": \"OVERALL\", \"StratificationID1\": \"OVR\", \"StratificationCategoryID2\": null, \"StratificationID2\": null, \"StratificationCategoryID3\": null, \"StratificationID3\": null, \"id\": 56}, {\"YearStart\": 2020, \"YearEnd\": 2020, \"LocationAbbr\": \"DC\", \"LocationDesc\": \"District of Columbia\", \"DataSource\": \"NVSS, Mortality\", \"Topic\": \"Overarching Conditions\", \"Question\": \"Life expectancy at birth\", \"Response\": null, \"DataValueUnit\": \"Years\", \"DataValueType\": \"Number\", \"DataValue\": 75.3, \"DataValueAlt\": 75.3, \"DataValueFootnoteSymbol\": NaN, \"DatavalueFootnote\": NaN, \"LowConfidenceLimit\": 74.9, \"HighConfidenceLimit\": 75.7, \"StratificationCategory1\": \"Overall\", \"Stratification1\": \"Overall\", \"StratificationCategory2\": null, \"Stratification2\": null, \"StratificationCategory3\": null, \"Stratification3\": null, \"GeoLocation\": \"POINT (-77.036871 38.907192)\", \"ResponseID\": null, \"LocationID\": 11, \"TopicID\": \"OVC\", \"QuestionID\": \"OVC4_1\", \"DataValueTypeID\": \"NMBR\", \"StratificationCategoryID1\": \"OVERALL\", \"StratificationID1\": \"OVR\", \"StratificationCategoryID2\": null, \"StratificationID2\": null, \"StratificationCategoryID3\": null, \"StratificationID3\": null, \"id\": 11}, {\"YearStart\": 2018, \"YearEnd\": 2018, \"LocationAbbr\": \"NY\", \"LocationDesc\": \"New York\", \"DataSource\": \"NVSS, Mortality\", \"Topic\": \"Overarching Conditions\", \"Question\": \"Life expectancy at birth\", \"Response\": null, \"DataValueUnit\": \"Years\", \"DataValueType\": \"Number\", \"DataValue\": 80.5, \"DataValueAlt\": 80.5, \"DataValueFootnoteSymbol\": NaN, \"DatavalueFootnote\": NaN, \"LowConfidenceLimit\": 80.4, \"HighConfidenceLimit\": 80.6, \"StratificationCategory1\": \"Overall\", \"Stratification1\": \"Overall\", \"StratificationCategory2\": null, \"Stratification2\": null, \"StratificationCategory3\": null, \"Stratification3\": null, \"GeoLocation\": \"POINT (-75.54397042699964 42.82700103200045)\", \"ResponseID\": null, \"LocationID\": 36, \"TopicID\": \"OVC\", \"QuestionID\": \"OVC4_1\", \"DataValueTypeID\": \"NMBR\", \"StratificationCategoryID1\": \"OVERALL\", \"StratificationID1\": \"OVR\", \"StratificationCategoryID2\": null, \"StratificationID2\": null, \"StratificationCategoryID3\": null, \"StratificationID3\": null, \"id\": 36}, {\"YearStart\": 2009, \"YearEnd\": 2009, \"LocationAbbr\": \"MT\", \"LocationDesc\": \"Montana\", \"DataSource\": \"NVSS, Mortality\", \"Topic\": \"Overarching Conditions\", \"Question\": \"Life expectancy at birth\", \"Response\": null, \"DataValueUnit\": \"Years\", \"DataValueType\": \"Number\", \"DataValue\": 78.5, \"DataValueAlt\": 78.5, \"DataValueFootnoteSymbol\": NaN, \"DatavalueFootnote\": NaN, \"LowConfidenceLimit\": null, \"HighConfidenceLimit\": null, \"StratificationCategory1\": \"Overall\", \"Stratification1\": \"Overall\", \"StratificationCategory2\": null, \"Stratification2\": null, \"StratificationCategory3\": null, \"Stratification3\": null, \"GeoLocation\": \"POINT (-109.42442064499971 47.06652897200047)\", \"ResponseID\": null, \"LocationID\": 30, \"TopicID\": \"OVC\", \"QuestionID\": \"OVC4_1\", \"DataValueTypeID\": \"NMBR\", \"StratificationCategoryID1\": \"OVERALL\", \"StratificationID1\": \"OVR\", \"StratificationCategoryID2\": null, \"StratificationID2\": null, \"StratificationCategoryID3\": null, \"StratificationID3\": null, \"id\": 30}, {\"YearStart\": 2009, \"YearEnd\": 2009, \"LocationAbbr\": \"AZ\", \"LocationDesc\": \"Arizona\", \"DataSource\": \"NVSS, Mortality\", \"Topic\": \"Overarching Conditions\", \"Question\": \"Life expectancy at birth\", \"Response\": null, \"DataValueUnit\": \"Years\", \"DataValueType\": \"Number\", \"DataValue\": 79.6, \"DataValueAlt\": 79.6, \"DataValueFootnoteSymbol\": NaN, \"DatavalueFootnote\": NaN, \"LowConfidenceLimit\": null, \"HighConfidenceLimit\": null, \"StratificationCategory1\": \"Overall\", \"Stratification1\": \"Overall\", \"StratificationCategory2\": null, \"Stratification2\": null, \"StratificationCategory3\": null, \"Stratification3\": null, \"GeoLocation\": \"POINT (-111.76381127699972 34.865970280000454)\", \"ResponseID\": null, \"LocationID\": 4, \"TopicID\": \"OVC\", \"QuestionID\": \"OVC4_1\", \"DataValueTypeID\": \"NMBR\", \"StratificationCategoryID1\": \"OVERALL\", \"StratificationID1\": \"OVR\", \"StratificationCategoryID2\": null, \"StratificationID2\": null, \"StratificationCategoryID3\": null, \"StratificationID3\": null, \"id\": 4}, {\"YearStart\": 2020, \"YearEnd\": 2020, \"LocationAbbr\": \"IA\", \"LocationDesc\": \"Iowa\", \"DataSource\": \"NVSS, Mortality\", \"Topic\": \"Overarching Conditions\", \"Question\": \"Life expectancy at birth\", \"Response\": null, \"DataValueUnit\": \"Years\", \"DataValueType\": \"Number\", \"DataValue\": 77.5, \"DataValueAlt\": 77.5, \"DataValueFootnoteSymbol\": NaN, \"DatavalueFootnote\": NaN, \"LowConfidenceLimit\": 77.3, \"HighConfidenceLimit\": 77.7, \"StratificationCategory1\": \"Overall\", \"Stratification1\": \"Overall\", \"StratificationCategory2\": null, \"Stratification2\": null, \"StratificationCategory3\": null, \"Stratification3\": null, \"GeoLocation\": \"POINT (-93.81649055599968 42.46940091300047)\", \"ResponseID\": null, \"LocationID\": 19, \"TopicID\": \"OVC\", \"QuestionID\": \"OVC4_1\", \"DataValueTypeID\": \"NMBR\", \"StratificationCategoryID1\": \"OVERALL\", \"StratificationID1\": \"OVR\", \"StratificationCategoryID2\": null, \"StratificationID2\": null, \"StratificationCategoryID3\": null, \"StratificationID3\": null, \"id\": 19}, {\"YearStart\": 2001, \"YearEnd\": 2001, \"LocationAbbr\": \"CT\", \"LocationDesc\": \"Connecticut\", \"DataSource\": \"NVSS, Mortality\", \"Topic\": \"Overarching Conditions\", \"Question\": \"Life expectancy at birth\", \"Response\": null, \"DataValueUnit\": \"Years\", \"DataValueType\": \"Number\", \"DataValue\": 78.9, \"DataValueAlt\": 78.9, \"DataValueFootnoteSymbol\": NaN, \"DatavalueFootnote\": NaN, \"LowConfidenceLimit\": null, \"HighConfidenceLimit\": null, \"StratificationCategory1\": \"Overall\", \"Stratification1\": \"Overall\", \"StratificationCategory2\": null, \"Stratification2\": null, \"StratificationCategory3\": null, \"Stratification3\": null, \"GeoLocation\": \"POINT (-72.64984095199964 41.56266102000046)\", \"ResponseID\": null, \"LocationID\": 9, \"TopicID\": \"OVC\", \"QuestionID\": \"OVC4_1\", \"DataValueTypeID\": \"NMBR\", \"StratificationCategoryID1\": \"OVERALL\", \"StratificationID1\": \"OVR\", \"StratificationCategoryID2\": null, \"StratificationID2\": null, \"StratificationCategoryID3\": null, \"StratificationID3\": null, \"id\": 9}, {\"YearStart\": 2020, \"YearEnd\": 2020, \"LocationAbbr\": \"AK\", \"LocationDesc\": \"Alaska\", \"DataSource\": \"NVSS, Mortality\", \"Topic\": \"Overarching Conditions\", \"Question\": \"Life expectancy at birth\", \"Response\": null, \"DataValueUnit\": \"Years\", \"DataValueType\": \"Number\", \"DataValue\": 76.6, \"DataValueAlt\": 76.6, \"DataValueFootnoteSymbol\": NaN, \"DatavalueFootnote\": NaN, \"LowConfidenceLimit\": 76.3, \"HighConfidenceLimit\": 76.9, \"StratificationCategory1\": \"Overall\", \"Stratification1\": \"Overall\", \"StratificationCategory2\": null, \"Stratification2\": null, \"StratificationCategory3\": null, \"Stratification3\": null, \"GeoLocation\": \"POINT (-147.72205903599973 64.84507995700051)\", \"ResponseID\": null, \"LocationID\": 2, \"TopicID\": \"OVC\", \"QuestionID\": \"OVC4_1\", \"DataValueTypeID\": \"NMBR\", \"StratificationCategoryID1\": \"OVERALL\", \"StratificationID1\": \"OVR\", \"StratificationCategoryID2\": null, \"StratificationID2\": null, \"StratificationCategoryID3\": null, \"StratificationID3\": null, \"id\": 2}, {\"YearStart\": 2001, \"YearEnd\": 2001, \"LocationAbbr\": \"TX\", \"LocationDesc\": \"Texas\", \"DataSource\": \"NVSS, Mortality\", \"Topic\": \"Overarching Conditions\", \"Question\": \"Life expectancy at birth\", \"Response\": null, \"DataValueUnit\": \"Years\", \"DataValueType\": \"Number\", \"DataValue\": 77.0, \"DataValueAlt\": 77.0, \"DataValueFootnoteSymbol\": NaN, \"DatavalueFootnote\": NaN, \"LowConfidenceLimit\": null, \"HighConfidenceLimit\": null, \"StratificationCategory1\": \"Overall\", \"Stratification1\": \"Overall\", \"StratificationCategory2\": null, \"Stratification2\": null, \"StratificationCategory3\": null, \"Stratification3\": null, \"GeoLocation\": \"POINT (-99.42677020599967 31.827240407000488)\", \"ResponseID\": null, \"LocationID\": 48, \"TopicID\": \"OVC\", \"QuestionID\": \"OVC4_1\", \"DataValueTypeID\": \"NMBR\", \"StratificationCategoryID1\": \"OVERALL\", \"StratificationID1\": \"OVR\", \"StratificationCategoryID2\": null, \"StratificationID2\": null, \"StratificationCategoryID3\": null, \"StratificationID3\": null, \"id\": 48}, {\"YearStart\": 2018, \"YearEnd\": 2018, \"LocationAbbr\": \"UT\", \"LocationDesc\": \"Utah\", \"DataSource\": \"NVSS, Mortality\", \"Topic\": \"Overarching Conditions\", \"Question\": \"Life expectancy at birth\", \"Response\": null, \"DataValueUnit\": \"Years\", \"DataValueType\": \"Number\", \"DataValue\": 79.6, \"DataValueAlt\": 79.6, \"DataValueFootnoteSymbol\": NaN, \"DatavalueFootnote\": NaN, \"LowConfidenceLimit\": 79.4, \"HighConfidenceLimit\": 79.8, \"StratificationCategory1\": \"Overall\", \"Stratification1\": \"Overall\", \"StratificationCategory2\": null, \"Stratification2\": null, \"StratificationCategory3\": null, \"Stratification3\": null, \"GeoLocation\": \"POINT (-111.58713063499971 39.360700171000474)\", \"ResponseID\": null, \"LocationID\": 49, \"TopicID\": \"OVC\", \"QuestionID\": \"OVC4_1\", \"DataValueTypeID\": \"NMBR\", \"StratificationCategoryID1\": \"OVERALL\", \"StratificationID1\": \"OVR\", \"StratificationCategoryID2\": null, \"StratificationID2\": null, \"StratificationCategoryID3\": null, \"StratificationID3\": null, \"id\": 49}, {\"YearStart\": 2018, \"YearEnd\": 2018, \"LocationAbbr\": \"MA\", \"LocationDesc\": \"Massachusetts\", \"DataSource\": \"NVSS, Mortality\", \"Topic\": \"Overarching Conditions\", \"Question\": \"Life expectancy at birth\", \"Response\": null, \"DataValueUnit\": \"Years\", \"DataValueType\": \"Number\", \"DataValue\": 80.1, \"DataValueAlt\": 80.1, \"DataValueFootnoteSymbol\": NaN, \"DatavalueFootnote\": NaN, \"LowConfidenceLimit\": 80.0, \"HighConfidenceLimit\": 80.2, \"StratificationCategory1\": \"Overall\", \"Stratification1\": \"Overall\", \"StratificationCategory2\": null, \"Stratification2\": null, \"StratificationCategory3\": null, \"Stratification3\": null, \"GeoLocation\": \"POINT (-72.08269067499964 42.27687047000046)\", \"ResponseID\": null, \"LocationID\": 25, \"TopicID\": \"OVC\", \"QuestionID\": \"OVC4_1\", \"DataValueTypeID\": \"NMBR\", \"StratificationCategoryID1\": \"OVERALL\", \"StratificationID1\": \"OVR\", \"StratificationCategoryID2\": null, \"StratificationID2\": null, \"StratificationCategoryID3\": null, \"StratificationID3\": null, \"id\": 25}, {\"YearStart\": 2001, \"YearEnd\": 2001, \"LocationAbbr\": \"NE\", \"LocationDesc\": \"Nebraska\", \"DataSource\": \"NVSS, Mortality\", \"Topic\": \"Overarching Conditions\", \"Question\": \"Life expectancy at birth\", \"Response\": null, \"DataValueUnit\": \"Years\", \"DataValueType\": \"Number\", \"DataValue\": 78.4, \"DataValueAlt\": 78.4, \"DataValueFootnoteSymbol\": NaN, \"DatavalueFootnote\": NaN, \"LowConfidenceLimit\": null, \"HighConfidenceLimit\": null, \"StratificationCategory1\": \"Overall\", \"Stratification1\": \"Overall\", \"StratificationCategory2\": null, \"Stratification2\": null, \"StratificationCategory3\": null, \"Stratification3\": null, \"GeoLocation\": \"POINT (-99.36572062299967 41.6410409880005)\", \"ResponseID\": null, \"LocationID\": 31, \"TopicID\": \"OVC\", \"QuestionID\": \"OVC4_1\", \"DataValueTypeID\": \"NMBR\", \"StratificationCategoryID1\": \"OVERALL\", \"StratificationID1\": \"OVR\", \"StratificationCategoryID2\": null, \"StratificationID2\": null, \"StratificationCategoryID3\": null, \"StratificationID3\": null, \"id\": 31}, {\"YearStart\": 2020, \"YearEnd\": 2020, \"LocationAbbr\": \"WI\", \"LocationDesc\": \"Wisconsin\", \"DataSource\": \"NVSS, Mortality\", \"Topic\": \"Overarching Conditions\", \"Question\": \"Life expectancy at birth\", \"Response\": null, \"DataValueUnit\": \"Years\", \"DataValueType\": \"Number\", \"DataValue\": 77.7, \"DataValueAlt\": 77.7, \"DataValueFootnoteSymbol\": NaN, \"DatavalueFootnote\": NaN, \"LowConfidenceLimit\": 77.6, \"HighConfidenceLimit\": 77.8, \"StratificationCategory1\": \"Overall\", \"Stratification1\": \"Overall\", \"StratificationCategory2\": null, \"Stratification2\": null, \"StratificationCategory3\": null, \"Stratification3\": null, \"GeoLocation\": \"POINT (-89.81637074199966 44.39319117400049)\", \"ResponseID\": null, \"LocationID\": 55, \"TopicID\": \"OVC\", \"QuestionID\": \"OVC4_1\", \"DataValueTypeID\": \"NMBR\", \"StratificationCategoryID1\": \"OVERALL\", \"StratificationID1\": \"OVR\", \"StratificationCategoryID2\": null, \"StratificationID2\": null, \"StratificationCategoryID3\": null, \"StratificationID3\": null, \"id\": 55}, {\"YearStart\": 2020, \"YearEnd\": 2020, \"LocationAbbr\": \"MI\", \"LocationDesc\": \"Michigan\", \"DataSource\": \"NVSS, Mortality\", \"Topic\": \"Overarching Conditions\", \"Question\": \"Life expectancy at birth\", \"Response\": null, \"DataValueUnit\": \"Years\", \"DataValueType\": \"Number\", \"DataValue\": 76.0, \"DataValueAlt\": 76.0, \"DataValueFootnoteSymbol\": NaN, \"DatavalueFootnote\": NaN, \"LowConfidenceLimit\": 75.9, \"HighConfidenceLimit\": 76.1, \"StratificationCategory1\": \"Overall\", \"Stratification1\": \"Overall\", \"StratificationCategory2\": null, \"Stratification2\": null, \"StratificationCategory3\": null, \"Stratification3\": null, \"GeoLocation\": \"POINT (-84.71439026999968 44.6613195430005)\", \"ResponseID\": null, \"LocationID\": 26, \"TopicID\": \"OVC\", \"QuestionID\": \"OVC4_1\", \"DataValueTypeID\": \"NMBR\", \"StratificationCategoryID1\": \"OVERALL\", \"StratificationID1\": \"OVR\", \"StratificationCategoryID2\": null, \"StratificationID2\": null, \"StratificationCategoryID3\": null, \"StratificationID3\": null, \"id\": 26}, {\"YearStart\": 2009, \"YearEnd\": 2009, \"LocationAbbr\": \"SC\", \"LocationDesc\": \"South Carolina\", \"DataSource\": \"NVSS, Mortality\", \"Topic\": \"Overarching Conditions\", \"Question\": \"Life expectancy at birth\", \"Response\": null, \"DataValueUnit\": \"Years\", \"DataValueType\": \"Number\", \"DataValue\": 77.0, \"DataValueAlt\": 77.0, \"DataValueFootnoteSymbol\": NaN, \"DatavalueFootnote\": NaN, \"LowConfidenceLimit\": null, \"HighConfidenceLimit\": null, \"StratificationCategory1\": \"Overall\", \"Stratification1\": \"Overall\", \"StratificationCategory2\": null, \"Stratification2\": null, \"StratificationCategory3\": null, \"Stratification3\": null, \"GeoLocation\": \"POINT (-81.04537120699968 33.998821303000454)\", \"ResponseID\": null, \"LocationID\": 45, \"TopicID\": \"OVC\", \"QuestionID\": \"OVC4_1\", \"DataValueTypeID\": \"NMBR\", \"StratificationCategoryID1\": \"OVERALL\", \"StratificationID1\": \"OVR\", \"StratificationCategoryID2\": null, \"StratificationID2\": null, \"StratificationCategoryID3\": null, \"StratificationID3\": null, \"id\": 45}, {\"YearStart\": 2018, \"YearEnd\": 2018, \"LocationAbbr\": \"ND\", \"LocationDesc\": \"North Dakota\", \"DataSource\": \"NVSS, Mortality\", \"Topic\": \"Overarching Conditions\", \"Question\": \"Life expectancy at birth\", \"Response\": null, \"DataValueUnit\": \"Years\", \"DataValueType\": \"Number\", \"DataValue\": 79.3, \"DataValueAlt\": 79.3, \"DataValueFootnoteSymbol\": NaN, \"DatavalueFootnote\": NaN, \"LowConfidenceLimit\": 79.0, \"HighConfidenceLimit\": 79.6, \"StratificationCategory1\": \"Overall\", \"Stratification1\": \"Overall\", \"StratificationCategory2\": null, \"Stratification2\": null, \"StratificationCategory3\": null, \"Stratification3\": null, \"GeoLocation\": \"POINT (-100.11842104899966 47.47531977900047)\", \"ResponseID\": null, \"LocationID\": 38, \"TopicID\": \"OVC\", \"QuestionID\": \"OVC4_1\", \"DataValueTypeID\": \"NMBR\", \"StratificationCategoryID1\": \"OVERALL\", \"StratificationID1\": \"OVR\", \"StratificationCategoryID2\": null, \"StratificationID2\": null, \"StratificationCategoryID3\": null, \"StratificationID3\": null, \"id\": 38}, {\"YearStart\": 2019, \"YearEnd\": 2019, \"LocationAbbr\": \"AZ\", \"LocationDesc\": \"Arizona\", \"DataSource\": \"NVSS, Mortality\", \"Topic\": \"Overarching Conditions\", \"Question\": \"Life expectancy at birth\", \"Response\": null, \"DataValueUnit\": \"Years\", \"DataValueType\": \"Number\", \"DataValue\": 78.8, \"DataValueAlt\": 78.8, \"DataValueFootnoteSymbol\": NaN, \"DatavalueFootnote\": NaN, \"LowConfidenceLimit\": 78.7, \"HighConfidenceLimit\": 78.9, \"StratificationCategory1\": \"Overall\", \"Stratification1\": \"Overall\", \"StratificationCategory2\": null, \"Stratification2\": null, \"StratificationCategory3\": null, \"Stratification3\": null, \"GeoLocation\": \"POINT (-111.76381127699972 34.865970280000454)\", \"ResponseID\": null, \"LocationID\": 4, \"TopicID\": \"OVC\", \"QuestionID\": \"OVC4_1\", \"DataValueTypeID\": \"NMBR\", \"StratificationCategoryID1\": \"OVERALL\", \"StratificationID1\": \"OVR\", \"StratificationCategoryID2\": null, \"StratificationID2\": null, \"StratificationCategoryID3\": null, \"StratificationID3\": null, \"id\": 4}, {\"YearStart\": 2001, \"YearEnd\": 2001, \"LocationAbbr\": \"ND\", \"LocationDesc\": \"North Dakota\", \"DataSource\": \"NVSS, Mortality\", \"Topic\": \"Overarching Conditions\", \"Question\": \"Life expectancy at birth\", \"Response\": null, \"DataValueUnit\": \"Years\", \"DataValueType\": \"Number\", \"DataValue\": 79.1, \"DataValueAlt\": 79.1, \"DataValueFootnoteSymbol\": NaN, \"DatavalueFootnote\": NaN, \"LowConfidenceLimit\": null, \"HighConfidenceLimit\": null, \"StratificationCategory1\": \"Overall\", \"Stratification1\": \"Overall\", \"StratificationCategory2\": null, \"Stratification2\": null, \"StratificationCategory3\": null, \"Stratification3\": null, \"GeoLocation\": \"POINT (-100.11842104899966 47.47531977900047)\", \"ResponseID\": null, \"LocationID\": 38, \"TopicID\": \"OVC\", \"QuestionID\": \"OVC4_1\", \"DataValueTypeID\": \"NMBR\", \"StratificationCategoryID1\": \"OVERALL\", \"StratificationID1\": \"OVR\", \"StratificationCategoryID2\": null, \"StratificationID2\": null, \"StratificationCategoryID3\": null, \"StratificationID3\": null, \"id\": 38}, {\"YearStart\": 2018, \"YearEnd\": 2018, \"LocationAbbr\": \"NJ\", \"LocationDesc\": \"New Jersey\", \"DataSource\": \"NVSS, Mortality\", \"Topic\": \"Overarching Conditions\", \"Question\": \"Life expectancy at birth\", \"Response\": null, \"DataValueUnit\": \"Years\", \"DataValueType\": \"Number\", \"DataValue\": 79.8, \"DataValueAlt\": 79.8, \"DataValueFootnoteSymbol\": NaN, \"DatavalueFootnote\": NaN, \"LowConfidenceLimit\": 79.7, \"HighConfidenceLimit\": 79.9, \"StratificationCategory1\": \"Overall\", \"Stratification1\": \"Overall\", \"StratificationCategory2\": null, \"Stratification2\": null, \"StratificationCategory3\": null, \"Stratification3\": null, \"GeoLocation\": \"POINT (-74.27369128799967 40.13057004800049)\", \"ResponseID\": null, \"LocationID\": 34, \"TopicID\": \"OVC\", \"QuestionID\": \"OVC4_1\", \"DataValueTypeID\": \"NMBR\", \"StratificationCategoryID1\": \"OVERALL\", \"StratificationID1\": \"OVR\", \"StratificationCategoryID2\": null, \"StratificationID2\": null, \"StratificationCategoryID3\": null, \"StratificationID3\": null, \"id\": 34}, {\"YearStart\": 2001, \"YearEnd\": 2001, \"LocationAbbr\": \"IA\", \"LocationDesc\": \"Iowa\", \"DataSource\": \"NVSS, Mortality\", \"Topic\": \"Overarching Conditions\", \"Question\": \"Life expectancy at birth\", \"Response\": null, \"DataValueUnit\": \"Years\", \"DataValueType\": \"Number\", \"DataValue\": 78.8, \"DataValueAlt\": 78.8, \"DataValueFootnoteSymbol\": NaN, \"DatavalueFootnote\": NaN, \"LowConfidenceLimit\": null, \"HighConfidenceLimit\": null, \"StratificationCategory1\": \"Overall\", \"Stratification1\": \"Overall\", \"StratificationCategory2\": null, \"Stratification2\": null, \"StratificationCategory3\": null, \"Stratification3\": null, \"GeoLocation\": \"POINT (-93.81649055599968 42.46940091300047)\", \"ResponseID\": null, \"LocationID\": 19, \"TopicID\": \"OVC\", \"QuestionID\": \"OVC4_1\", \"DataValueTypeID\": \"NMBR\", \"StratificationCategoryID1\": \"OVERALL\", \"StratificationID1\": \"OVR\", \"StratificationCategoryID2\": null, \"StratificationID2\": null, \"StratificationCategoryID3\": null, \"StratificationID3\": null, \"id\": 19}, {\"YearStart\": 2019, \"YearEnd\": 2019, \"LocationAbbr\": \"CA\", \"LocationDesc\": \"California\", \"DataSource\": \"NVSS, Mortality\", \"Topic\": \"Overarching Conditions\", \"Question\": \"Life expectancy at birth\", \"Response\": null, \"DataValueUnit\": \"Years\", \"DataValueType\": \"Number\", \"DataValue\": 80.9, \"DataValueAlt\": 80.9, \"DataValueFootnoteSymbol\": NaN, \"DatavalueFootnote\": NaN, \"LowConfidenceLimit\": 80.9, \"HighConfidenceLimit\": 80.9, \"StratificationCategory1\": \"Overall\", \"Stratification1\": \"Overall\", \"StratificationCategory2\": null, \"Stratification2\": null, \"StratificationCategory3\": null, \"Stratification3\": null, \"GeoLocation\": \"POINT (-120.99999953799971 37.63864012300047)\", \"ResponseID\": null, \"LocationID\": 6, \"TopicID\": \"OVC\", \"QuestionID\": \"OVC4_1\", \"DataValueTypeID\": \"NMBR\", \"StratificationCategoryID1\": \"OVERALL\", \"StratificationID1\": \"OVR\", \"StratificationCategoryID2\": null, \"StratificationID2\": null, \"StratificationCategoryID3\": null, \"StratificationID3\": null, \"id\": 6}, {\"YearStart\": 2019, \"YearEnd\": 2019, \"LocationAbbr\": \"SC\", \"LocationDesc\": \"South Carolina\", \"DataSource\": \"NVSS, Mortality\", \"Topic\": \"Overarching Conditions\", \"Question\": \"Life expectancy at birth\", \"Response\": null, \"DataValueUnit\": \"Years\", \"DataValueType\": \"Number\", \"DataValue\": 76.8, \"DataValueAlt\": 76.8, \"DataValueFootnoteSymbol\": NaN, \"DatavalueFootnote\": NaN, \"LowConfidenceLimit\": 76.7, \"HighConfidenceLimit\": 76.9, \"StratificationCategory1\": \"Overall\", \"Stratification1\": \"Overall\", \"StratificationCategory2\": null, \"Stratification2\": null, \"StratificationCategory3\": null, \"Stratification3\": null, \"GeoLocation\": \"POINT (-81.04537120699968 33.998821303000454)\", \"ResponseID\": null, \"LocationID\": 45, \"TopicID\": \"OVC\", \"QuestionID\": \"OVC4_1\", \"DataValueTypeID\": \"NMBR\", \"StratificationCategoryID1\": \"OVERALL\", \"StratificationID1\": \"OVR\", \"StratificationCategoryID2\": null, \"StratificationID2\": null, \"StratificationCategoryID3\": null, \"StratificationID3\": null, \"id\": 45}, {\"YearStart\": 2001, \"YearEnd\": 2001, \"LocationAbbr\": \"WI\", \"LocationDesc\": \"Wisconsin\", \"DataSource\": \"NVSS, Mortality\", \"Topic\": \"Overarching Conditions\", \"Question\": \"Life expectancy at birth\", \"Response\": null, \"DataValueUnit\": \"Years\", \"DataValueType\": \"Number\", \"DataValue\": 78.6, \"DataValueAlt\": 78.6, \"DataValueFootnoteSymbol\": NaN, \"DatavalueFootnote\": NaN, \"LowConfidenceLimit\": null, \"HighConfidenceLimit\": null, \"StratificationCategory1\": \"Overall\", \"Stratification1\": \"Overall\", \"StratificationCategory2\": null, \"Stratification2\": null, \"StratificationCategory3\": null, \"Stratification3\": null, \"GeoLocation\": \"POINT (-89.81637074199966 44.39319117400049)\", \"ResponseID\": null, \"LocationID\": 55, \"TopicID\": \"OVC\", \"QuestionID\": \"OVC4_1\", \"DataValueTypeID\": \"NMBR\", \"StratificationCategoryID1\": \"OVERALL\", \"StratificationID1\": \"OVR\", \"StratificationCategoryID2\": null, \"StratificationID2\": null, \"StratificationCategoryID3\": null, \"StratificationID3\": null, \"id\": 55}, {\"YearStart\": 2018, \"YearEnd\": 2018, \"LocationAbbr\": \"IL\", \"LocationDesc\": \"Illinois\", \"DataSource\": \"NVSS, Mortality\", \"Topic\": \"Overarching Conditions\", \"Question\": \"Life expectancy at birth\", \"Response\": null, \"DataValueUnit\": \"Years\", \"DataValueType\": \"Number\", \"DataValue\": 78.8, \"DataValueAlt\": 78.8, \"DataValueFootnoteSymbol\": NaN, \"DatavalueFootnote\": NaN, \"LowConfidenceLimit\": 78.7, \"HighConfidenceLimit\": 78.9, \"StratificationCategory1\": \"Overall\", \"Stratification1\": \"Overall\", \"StratificationCategory2\": null, \"Stratification2\": null, \"StratificationCategory3\": null, \"Stratification3\": null, \"GeoLocation\": \"POINT (-88.99771017799969 40.48501028300046)\", \"ResponseID\": null, \"LocationID\": 17, \"TopicID\": \"OVC\", \"QuestionID\": \"OVC4_1\", \"DataValueTypeID\": \"NMBR\", \"StratificationCategoryID1\": \"OVERALL\", \"StratificationID1\": \"OVR\", \"StratificationCategoryID2\": null, \"StratificationID2\": null, \"StratificationCategoryID3\": null, \"StratificationID3\": null, \"id\": 17}, {\"YearStart\": 2009, \"YearEnd\": 2009, \"LocationAbbr\": \"MS\", \"LocationDesc\": \"Mississippi\", \"DataSource\": \"NVSS, Mortality\", \"Topic\": \"Overarching Conditions\", \"Question\": \"Life expectancy at birth\", \"Response\": null, \"DataValueUnit\": \"Years\", \"DataValueType\": \"Number\", \"DataValue\": 75.0, \"DataValueAlt\": 75.0, \"DataValueFootnoteSymbol\": NaN, \"DatavalueFootnote\": NaN, \"LowConfidenceLimit\": null, \"HighConfidenceLimit\": null, \"StratificationCategory1\": \"Overall\", \"Stratification1\": \"Overall\", \"StratificationCategory2\": null, \"Stratification2\": null, \"StratificationCategory3\": null, \"Stratification3\": null, \"GeoLocation\": \"POINT (-89.53803082499968 32.745510099000455)\", \"ResponseID\": null, \"LocationID\": 28, \"TopicID\": \"OVC\", \"QuestionID\": \"OVC4_1\", \"DataValueTypeID\": \"NMBR\", \"StratificationCategoryID1\": \"OVERALL\", \"StratificationID1\": \"OVR\", \"StratificationCategoryID2\": null, \"StratificationID2\": null, \"StratificationCategoryID3\": null, \"StratificationID3\": null, \"id\": 28}, {\"YearStart\": 2009, \"YearEnd\": 2009, \"LocationAbbr\": \"RI\", \"LocationDesc\": \"Rhode Island\", \"DataSource\": \"NVSS, Mortality\", \"Topic\": \"Overarching Conditions\", \"Question\": \"Life expectancy at birth\", \"Response\": null, \"DataValueUnit\": \"Years\", \"DataValueType\": \"Number\", \"DataValue\": 79.9, \"DataValueAlt\": 79.9, \"DataValueFootnoteSymbol\": NaN, \"DatavalueFootnote\": NaN, \"LowConfidenceLimit\": null, \"HighConfidenceLimit\": null, \"StratificationCategory1\": \"Overall\", \"Stratification1\": \"Overall\", \"StratificationCategory2\": null, \"Stratification2\": null, \"StratificationCategory3\": null, \"Stratification3\": null, \"GeoLocation\": \"POINT (-71.52247031399963 41.70828019300046)\", \"ResponseID\": null, \"LocationID\": 44, \"TopicID\": \"OVC\", \"QuestionID\": \"OVC4_1\", \"DataValueTypeID\": \"NMBR\", \"StratificationCategoryID1\": \"OVERALL\", \"StratificationID1\": \"OVR\", \"StratificationCategoryID2\": null, \"StratificationID2\": null, \"StratificationCategoryID3\": null, \"StratificationID3\": null, \"id\": 44}, {\"YearStart\": 2019, \"YearEnd\": 2019, \"LocationAbbr\": \"FL\", \"LocationDesc\": \"Florida\", \"DataSource\": \"NVSS, Mortality\", \"Topic\": \"Overarching Conditions\", \"Question\": \"Life expectancy at birth\", \"Response\": null, \"DataValueUnit\": \"Years\", \"DataValueType\": \"Number\", \"DataValue\": 79.0, \"DataValueAlt\": 79.0, \"DataValueFootnoteSymbol\": NaN, \"DatavalueFootnote\": NaN, \"LowConfidenceLimit\": 78.9, \"HighConfidenceLimit\": 79.1, \"StratificationCategory1\": \"Overall\", \"Stratification1\": \"Overall\", \"StratificationCategory2\": null, \"Stratification2\": null, \"StratificationCategory3\": null, \"Stratification3\": null, \"GeoLocation\": \"POINT (-81.92896053899966 28.932040377000476)\", \"ResponseID\": null, \"LocationID\": 12, \"TopicID\": \"OVC\", \"QuestionID\": \"OVC4_1\", \"DataValueTypeID\": \"NMBR\", \"StratificationCategoryID1\": \"OVERALL\", \"StratificationID1\": \"OVR\", \"StratificationCategoryID2\": null, \"StratificationID2\": null, \"StratificationCategoryID3\": null, \"StratificationID3\": null, \"id\": 12}, {\"YearStart\": 2019, \"YearEnd\": 2019, \"LocationAbbr\": \"AR\", \"LocationDesc\": \"Arkansas\", \"DataSource\": \"NVSS, Mortality\", \"Topic\": \"Overarching Conditions\", \"Question\": \"Life expectancy at birth\", \"Response\": null, \"DataValueUnit\": \"Years\", \"DataValueType\": \"Number\", \"DataValue\": 75.7, \"DataValueAlt\": 75.7, \"DataValueFootnoteSymbol\": NaN, \"DatavalueFootnote\": NaN, \"LowConfidenceLimit\": 75.5, \"HighConfidenceLimit\": 75.9, \"StratificationCategory1\": \"Overall\", \"Stratification1\": \"Overall\", \"StratificationCategory2\": null, \"Stratification2\": null, \"StratificationCategory3\": null, \"Stratification3\": null, \"GeoLocation\": \"POINT (-92.27449074299966 34.74865012400045)\", \"ResponseID\": null, \"LocationID\": 5, \"TopicID\": \"OVC\", \"QuestionID\": \"OVC4_1\", \"DataValueTypeID\": \"NMBR\", \"StratificationCategoryID1\": \"OVERALL\", \"StratificationID1\": \"OVR\", \"StratificationCategoryID2\": null, \"StratificationID2\": null, \"StratificationCategoryID3\": null, \"StratificationID3\": null, \"id\": 5}, {\"YearStart\": 2009, \"YearEnd\": 2009, \"LocationAbbr\": \"VA\", \"LocationDesc\": \"Virginia\", \"DataSource\": \"NVSS, Mortality\", \"Topic\": \"Overarching Conditions\", \"Question\": \"Life expectancy at birth\", \"Response\": null, \"DataValueUnit\": \"Years\", \"DataValueType\": \"Number\", \"DataValue\": 79.0, \"DataValueAlt\": 79.0, \"DataValueFootnoteSymbol\": NaN, \"DatavalueFootnote\": NaN, \"LowConfidenceLimit\": null, \"HighConfidenceLimit\": null, \"StratificationCategory1\": \"Overall\", \"Stratification1\": \"Overall\", \"StratificationCategory2\": null, \"Stratification2\": null, \"StratificationCategory3\": null, \"Stratification3\": null, \"GeoLocation\": \"POINT (-78.45789046299967 37.54268067400045)\", \"ResponseID\": null, \"LocationID\": 51, \"TopicID\": \"OVC\", \"QuestionID\": \"OVC4_1\", \"DataValueTypeID\": \"NMBR\", \"StratificationCategoryID1\": \"OVERALL\", \"StratificationID1\": \"OVR\", \"StratificationCategoryID2\": null, \"StratificationID2\": null, \"StratificationCategoryID3\": null, \"StratificationID3\": null, \"id\": 51}, {\"YearStart\": 2020, \"YearEnd\": 2020, \"LocationAbbr\": \"CT\", \"LocationDesc\": \"Connecticut\", \"DataSource\": \"NVSS, Mortality\", \"Topic\": \"Overarching Conditions\", \"Question\": \"Life expectancy at birth\", \"Response\": null, \"DataValueUnit\": \"Years\", \"DataValueType\": \"Number\", \"DataValue\": 78.4, \"DataValueAlt\": 78.4, \"DataValueFootnoteSymbol\": NaN, \"DatavalueFootnote\": NaN, \"LowConfidenceLimit\": 78.3, \"HighConfidenceLimit\": 78.5, \"StratificationCategory1\": \"Overall\", \"Stratification1\": \"Overall\", \"StratificationCategory2\": null, \"Stratification2\": null, \"StratificationCategory3\": null, \"Stratification3\": null, \"GeoLocation\": \"POINT (-72.64984095199964 41.56266102000046)\", \"ResponseID\": null, \"LocationID\": 9, \"TopicID\": \"OVC\", \"QuestionID\": \"OVC4_1\", \"DataValueTypeID\": \"NMBR\", \"StratificationCategoryID1\": \"OVERALL\", \"StratificationID1\": \"OVR\", \"StratificationCategoryID2\": null, \"StratificationID2\": null, \"StratificationCategoryID3\": null, \"StratificationID3\": null, \"id\": 9}, {\"YearStart\": 2001, \"YearEnd\": 2001, \"LocationAbbr\": \"CO\", \"LocationDesc\": \"Colorado\", \"DataSource\": \"NVSS, Mortality\", \"Topic\": \"Overarching Conditions\", \"Question\": \"Life expectancy at birth\", \"Response\": null, \"DataValueUnit\": \"Years\", \"DataValueType\": \"Number\", \"DataValue\": 78.7, \"DataValueAlt\": 78.7, \"DataValueFootnoteSymbol\": NaN, \"DatavalueFootnote\": NaN, \"LowConfidenceLimit\": null, \"HighConfidenceLimit\": null, \"StratificationCategory1\": \"Overall\", \"Stratification1\": \"Overall\", \"StratificationCategory2\": null, \"Stratification2\": null, \"StratificationCategory3\": null, \"Stratification3\": null, \"GeoLocation\": \"POINT (-106.13361092099967 38.843840757000464)\", \"ResponseID\": null, \"LocationID\": 8, \"TopicID\": \"OVC\", \"QuestionID\": \"OVC4_1\", \"DataValueTypeID\": \"NMBR\", \"StratificationCategoryID1\": \"OVERALL\", \"StratificationID1\": \"OVR\", \"StratificationCategoryID2\": null, \"StratificationID2\": null, \"StratificationCategoryID3\": null, \"StratificationID3\": null, \"id\": 8}, {\"YearStart\": 2009, \"YearEnd\": 2009, \"LocationAbbr\": \"IN\", \"LocationDesc\": \"Indiana\", \"DataSource\": \"NVSS, Mortality\", \"Topic\": \"Overarching Conditions\", \"Question\": \"Life expectancy at birth\", \"Response\": null, \"DataValueUnit\": \"Years\", \"DataValueType\": \"Number\", \"DataValue\": 77.6, \"DataValueAlt\": 77.6, \"DataValueFootnoteSymbol\": NaN, \"DatavalueFootnote\": NaN, \"LowConfidenceLimit\": null, \"HighConfidenceLimit\": null, \"StratificationCategory1\": \"Overall\", \"Stratification1\": \"Overall\", \"StratificationCategory2\": null, \"Stratification2\": null, \"StratificationCategory3\": null, \"Stratification3\": null, \"GeoLocation\": \"POINT (-86.14996019399968 39.766910452000445)\", \"ResponseID\": null, \"LocationID\": 18, \"TopicID\": \"OVC\", \"QuestionID\": \"OVC4_1\", \"DataValueTypeID\": \"NMBR\", \"StratificationCategoryID1\": \"OVERALL\", \"StratificationID1\": \"OVR\", \"StratificationCategoryID2\": null, \"StratificationID2\": null, \"StratificationCategoryID3\": null, \"StratificationID3\": null, \"id\": 18}, {\"YearStart\": 2019, \"YearEnd\": 2019, \"LocationAbbr\": \"SD\", \"LocationDesc\": \"South Dakota\", \"DataSource\": \"NVSS, Mortality\", \"Topic\": \"Overarching Conditions\", \"Question\": \"Life expectancy at birth\", \"Response\": null, \"DataValueUnit\": \"Years\", \"DataValueType\": \"Number\", \"DataValue\": 78.4, \"DataValueAlt\": 78.4, \"DataValueFootnoteSymbol\": NaN, \"DatavalueFootnote\": NaN, \"LowConfidenceLimit\": 78.1, \"HighConfidenceLimit\": 78.7, \"StratificationCategory1\": \"Overall\", \"Stratification1\": \"Overall\", \"StratificationCategory2\": null, \"Stratification2\": null, \"StratificationCategory3\": null, \"Stratification3\": null, \"GeoLocation\": \"POINT (-100.3735306369997 44.353130053000484)\", \"ResponseID\": null, \"LocationID\": 46, \"TopicID\": \"OVC\", \"QuestionID\": \"OVC4_1\", \"DataValueTypeID\": \"NMBR\", \"StratificationCategoryID1\": \"OVERALL\", \"StratificationID1\": \"OVR\", \"StratificationCategoryID2\": null, \"StratificationID2\": null, \"StratificationCategoryID3\": null, \"StratificationID3\": null, \"id\": 46}, {\"YearStart\": 2020, \"YearEnd\": 2020, \"LocationAbbr\": \"IL\", \"LocationDesc\": \"Illinois\", \"DataSource\": \"NVSS, Mortality\", \"Topic\": \"Overarching Conditions\", \"Question\": \"Life expectancy at birth\", \"Response\": null, \"DataValueUnit\": \"Years\", \"DataValueType\": \"Number\", \"DataValue\": 76.8, \"DataValueAlt\": 76.8, \"DataValueFootnoteSymbol\": NaN, \"DatavalueFootnote\": NaN, \"LowConfidenceLimit\": 76.7, \"HighConfidenceLimit\": 76.9, \"StratificationCategory1\": \"Overall\", \"Stratification1\": \"Overall\", \"StratificationCategory2\": null, \"Stratification2\": null, \"StratificationCategory3\": null, \"Stratification3\": null, \"GeoLocation\": \"POINT (-88.99771017799969 40.48501028300046)\", \"ResponseID\": null, \"LocationID\": 17, \"TopicID\": \"OVC\", \"QuestionID\": \"OVC4_1\", \"DataValueTypeID\": \"NMBR\", \"StratificationCategoryID1\": \"OVERALL\", \"StratificationID1\": \"OVR\", \"StratificationCategoryID2\": null, \"StratificationID2\": null, \"StratificationCategoryID3\": null, \"StratificationID3\": null, \"id\": 17}, {\"YearStart\": 2020, \"YearEnd\": 2020, \"LocationAbbr\": \"SC\", \"LocationDesc\": \"South Carolina\", \"DataSource\": \"NVSS, Mortality\", \"Topic\": \"Overarching Conditions\", \"Question\": \"Life expectancy at birth\", \"Response\": null, \"DataValueUnit\": \"Years\", \"DataValueType\": \"Number\", \"DataValue\": 74.8, \"DataValueAlt\": 74.8, \"DataValueFootnoteSymbol\": NaN, \"DatavalueFootnote\": NaN, \"LowConfidenceLimit\": 74.7, \"HighConfidenceLimit\": 74.9, \"StratificationCategory1\": \"Overall\", \"Stratification1\": \"Overall\", \"StratificationCategory2\": null, \"Stratification2\": null, \"StratificationCategory3\": null, \"Stratification3\": null, \"GeoLocation\": \"POINT (-81.04537120699968 33.998821303000454)\", \"ResponseID\": null, \"LocationID\": 45, \"TopicID\": \"OVC\", \"QuestionID\": \"OVC4_1\", \"DataValueTypeID\": \"NMBR\", \"StratificationCategoryID1\": \"OVERALL\", \"StratificationID1\": \"OVR\", \"StratificationCategoryID2\": null, \"StratificationID2\": null, \"StratificationCategoryID3\": null, \"StratificationID3\": null, \"id\": 45}, {\"YearStart\": 2019, \"YearEnd\": 2019, \"LocationAbbr\": \"CT\", \"LocationDesc\": \"Connecticut\", \"DataSource\": \"NVSS, Mortality\", \"Topic\": \"Overarching Conditions\", \"Question\": \"Life expectancy at birth\", \"Response\": null, \"DataValueUnit\": \"Years\", \"DataValueType\": \"Number\", \"DataValue\": 80.3, \"DataValueAlt\": 80.3, \"DataValueFootnoteSymbol\": NaN, \"DatavalueFootnote\": NaN, \"LowConfidenceLimit\": 80.2, \"HighConfidenceLimit\": 80.4, \"StratificationCategory1\": \"Overall\", \"Stratification1\": \"Overall\", \"StratificationCategory2\": null, \"Stratification2\": null, \"StratificationCategory3\": null, \"Stratification3\": null, \"GeoLocation\": \"POINT (-72.64984095199964 41.56266102000046)\", \"ResponseID\": null, \"LocationID\": 9, \"TopicID\": \"OVC\", \"QuestionID\": \"OVC4_1\", \"DataValueTypeID\": \"NMBR\", \"StratificationCategoryID1\": \"OVERALL\", \"StratificationID1\": \"OVR\", \"StratificationCategoryID2\": null, \"StratificationID2\": null, \"StratificationCategoryID3\": null, \"StratificationID3\": null, \"id\": 9}, {\"YearStart\": 2019, \"YearEnd\": 2019, \"LocationAbbr\": \"NM\", \"LocationDesc\": \"New Mexico\", \"DataSource\": \"NVSS, Mortality\", \"Topic\": \"Overarching Conditions\", \"Question\": \"Life expectancy at birth\", \"Response\": null, \"DataValueUnit\": \"Years\", \"DataValueType\": \"Number\", \"DataValue\": 76.9, \"DataValueAlt\": 76.9, \"DataValueFootnoteSymbol\": NaN, \"DatavalueFootnote\": NaN, \"LowConfidenceLimit\": 76.7, \"HighConfidenceLimit\": 77.1, \"StratificationCategory1\": \"Overall\", \"Stratification1\": \"Overall\", \"StratificationCategory2\": null, \"Stratification2\": null, \"StratificationCategory3\": null, \"Stratification3\": null, \"GeoLocation\": \"POINT (-106.24058098499967 34.52088095200048)\", \"ResponseID\": null, \"LocationID\": 35, \"TopicID\": \"OVC\", \"QuestionID\": \"OVC4_1\", \"DataValueTypeID\": \"NMBR\", \"StratificationCategoryID1\": \"OVERALL\", \"StratificationID1\": \"OVR\", \"StratificationCategoryID2\": null, \"StratificationID2\": null, \"StratificationCategoryID3\": null, \"StratificationID3\": null, \"id\": 35}, {\"YearStart\": 2009, \"YearEnd\": 2009, \"LocationAbbr\": \"CO\", \"LocationDesc\": \"Colorado\", \"DataSource\": \"NVSS, Mortality\", \"Topic\": \"Overarching Conditions\", \"Question\": \"Life expectancy at birth\", \"Response\": null, \"DataValueUnit\": \"Years\", \"DataValueType\": \"Number\", \"DataValue\": 80.0, \"DataValueAlt\": 80.0, \"DataValueFootnoteSymbol\": NaN, \"DatavalueFootnote\": NaN, \"LowConfidenceLimit\": null, \"HighConfidenceLimit\": null, \"StratificationCategory1\": \"Overall\", \"Stratification1\": \"Overall\", \"StratificationCategory2\": null, \"Stratification2\": null, \"StratificationCategory3\": null, \"Stratification3\": null, \"GeoLocation\": \"POINT (-106.13361092099967 38.843840757000464)\", \"ResponseID\": null, \"LocationID\": 8, \"TopicID\": \"OVC\", \"QuestionID\": \"OVC4_1\", \"DataValueTypeID\": \"NMBR\", \"StratificationCategoryID1\": \"OVERALL\", \"StratificationID1\": \"OVR\", \"StratificationCategoryID2\": null, \"StratificationID2\": null, \"StratificationCategoryID3\": null, \"StratificationID3\": null, \"id\": 8}, {\"YearStart\": 2001, \"YearEnd\": 2001, \"LocationAbbr\": \"MN\", \"LocationDesc\": \"Minnesota\", \"DataSource\": \"NVSS, Mortality\", \"Topic\": \"Overarching Conditions\", \"Question\": \"Life expectancy at birth\", \"Response\": null, \"DataValueUnit\": \"Years\", \"DataValueType\": \"Number\", \"DataValue\": 79.3, \"DataValueAlt\": 79.3, \"DataValueFootnoteSymbol\": NaN, \"DatavalueFootnote\": NaN, \"LowConfidenceLimit\": null, \"HighConfidenceLimit\": null, \"StratificationCategory1\": \"Overall\", \"Stratification1\": \"Overall\", \"StratificationCategory2\": null, \"Stratification2\": null, \"StratificationCategory3\": null, \"Stratification3\": null, \"GeoLocation\": \"POINT (-94.79420050299967 46.35564873600049)\", \"ResponseID\": null, \"LocationID\": 27, \"TopicID\": \"OVC\", \"QuestionID\": \"OVC4_1\", \"DataValueTypeID\": \"NMBR\", \"StratificationCategoryID1\": \"OVERALL\", \"StratificationID1\": \"OVR\", \"StratificationCategoryID2\": null, \"StratificationID2\": null, \"StratificationCategoryID3\": null, \"StratificationID3\": null, \"id\": 27}, {\"YearStart\": 2020, \"YearEnd\": 2020, \"LocationAbbr\": \"VT\", \"LocationDesc\": \"Vermont\", \"DataSource\": \"NVSS, Mortality\", \"Topic\": \"Overarching Conditions\", \"Question\": \"Life expectancy at birth\", \"Response\": null, \"DataValueUnit\": \"Years\", \"DataValueType\": \"Number\", \"DataValue\": 78.8, \"DataValueAlt\": 78.8, \"DataValueFootnoteSymbol\": NaN, \"DatavalueFootnote\": NaN, \"LowConfidenceLimit\": 78.5, \"HighConfidenceLimit\": 79.1, \"StratificationCategory1\": \"Overall\", \"Stratification1\": \"Overall\", \"StratificationCategory2\": null, \"Stratification2\": null, \"StratificationCategory3\": null, \"Stratification3\": null, \"GeoLocation\": \"POINT (-72.51764079099962 43.62538123900049)\", \"ResponseID\": null, \"LocationID\": 50, \"TopicID\": \"OVC\", \"QuestionID\": \"OVC4_1\", \"DataValueTypeID\": \"NMBR\", \"StratificationCategoryID1\": \"OVERALL\", \"StratificationID1\": \"OVR\", \"StratificationCategoryID2\": null, \"StratificationID2\": null, \"StratificationCategoryID3\": null, \"StratificationID3\": null, \"id\": 50}, {\"YearStart\": 2018, \"YearEnd\": 2018, \"LocationAbbr\": \"CO\", \"LocationDesc\": \"Colorado\", \"DataSource\": \"NVSS, Mortality\", \"Topic\": \"Overarching Conditions\", \"Question\": \"Life expectancy at birth\", \"Response\": null, \"DataValueUnit\": \"Years\", \"DataValueType\": \"Number\", \"DataValue\": 80.0, \"DataValueAlt\": 80.0, \"DataValueFootnoteSymbol\": NaN, \"DatavalueFootnote\": NaN, \"LowConfidenceLimit\": 79.9, \"HighConfidenceLimit\": 80.1, \"StratificationCategory1\": \"Overall\", \"Stratification1\": \"Overall\", \"StratificationCategory2\": null, \"Stratification2\": null, \"StratificationCategory3\": null, \"Stratification3\": null, \"GeoLocation\": \"POINT (-106.13361092099967 38.843840757000464)\", \"ResponseID\": null, \"LocationID\": 8, \"TopicID\": \"OVC\", \"QuestionID\": \"OVC4_1\", \"DataValueTypeID\": \"NMBR\", \"StratificationCategoryID1\": \"OVERALL\", \"StratificationID1\": \"OVR\", \"StratificationCategoryID2\": null, \"StratificationID2\": null, \"StratificationCategoryID3\": null, \"StratificationID3\": null, \"id\": 8}, {\"YearStart\": 2009, \"YearEnd\": 2009, \"LocationAbbr\": \"AR\", \"LocationDesc\": \"Arkansas\", \"DataSource\": \"NVSS, Mortality\", \"Topic\": \"Overarching Conditions\", \"Question\": \"Life expectancy at birth\", \"Response\": null, \"DataValueUnit\": \"Years\", \"DataValueType\": \"Number\", \"DataValue\": 76.0, \"DataValueAlt\": 76.0, \"DataValueFootnoteSymbol\": NaN, \"DatavalueFootnote\": NaN, \"LowConfidenceLimit\": null, \"HighConfidenceLimit\": null, \"StratificationCategory1\": \"Overall\", \"Stratification1\": \"Overall\", \"StratificationCategory2\": null, \"Stratification2\": null, \"StratificationCategory3\": null, \"Stratification3\": null, \"GeoLocation\": \"POINT (-92.27449074299966 34.74865012400045)\", \"ResponseID\": null, \"LocationID\": 5, \"TopicID\": \"OVC\", \"QuestionID\": \"OVC4_1\", \"DataValueTypeID\": \"NMBR\", \"StratificationCategoryID1\": \"OVERALL\", \"StratificationID1\": \"OVR\", \"StratificationCategoryID2\": null, \"StratificationID2\": null, \"StratificationCategoryID3\": null, \"StratificationID3\": null, \"id\": 5}, {\"YearStart\": 2018, \"YearEnd\": 2018, \"LocationAbbr\": \"GA\", \"LocationDesc\": \"Georgia\", \"DataSource\": \"NVSS, Mortality\", \"Topic\": \"Overarching Conditions\", \"Question\": \"Life expectancy at birth\", \"Response\": null, \"DataValueUnit\": \"Years\", \"DataValueType\": \"Number\", \"DataValue\": 77.2, \"DataValueAlt\": 77.2, \"DataValueFootnoteSymbol\": NaN, \"DatavalueFootnote\": NaN, \"LowConfidenceLimit\": 77.1, \"HighConfidenceLimit\": 77.3, \"StratificationCategory1\": \"Overall\", \"Stratification1\": \"Overall\", \"StratificationCategory2\": null, \"Stratification2\": null, \"StratificationCategory3\": null, \"Stratification3\": null, \"GeoLocation\": \"POINT (-83.62758034599966 32.83968109300048)\", \"ResponseID\": null, \"LocationID\": 13, \"TopicID\": \"OVC\", \"QuestionID\": \"OVC4_1\", \"DataValueTypeID\": \"NMBR\", \"StratificationCategoryID1\": \"OVERALL\", \"StratificationID1\": \"OVR\", \"StratificationCategoryID2\": null, \"StratificationID2\": null, \"StratificationCategoryID3\": null, \"StratificationID3\": null, \"id\": 13}, {\"YearStart\": 2018, \"YearEnd\": 2018, \"LocationAbbr\": \"TN\", \"LocationDesc\": \"Tennessee\", \"DataSource\": \"NVSS, Mortality\", \"Topic\": \"Overarching Conditions\", \"Question\": \"Life expectancy at birth\", \"Response\": null, \"DataValueUnit\": \"Years\", \"DataValueType\": \"Number\", \"DataValue\": 75.5, \"DataValueAlt\": 75.5, \"DataValueFootnoteSymbol\": NaN, \"DatavalueFootnote\": NaN, \"LowConfidenceLimit\": 75.4, \"HighConfidenceLimit\": 75.6, \"StratificationCategory1\": \"Overall\", \"Stratification1\": \"Overall\", \"StratificationCategory2\": null, \"Stratification2\": null, \"StratificationCategory3\": null, \"Stratification3\": null, \"GeoLocation\": \"POINT (-85.77449091399967 35.68094058000048)\", \"ResponseID\": null, \"LocationID\": 47, \"TopicID\": \"OVC\", \"QuestionID\": \"OVC4_1\", \"DataValueTypeID\": \"NMBR\", \"StratificationCategoryID1\": \"OVERALL\", \"StratificationID1\": \"OVR\", \"StratificationCategoryID2\": null, \"StratificationID2\": null, \"StratificationCategoryID3\": null, \"StratificationID3\": null, \"id\": 47}, {\"YearStart\": 2009, \"YearEnd\": 2009, \"LocationAbbr\": \"MN\", \"LocationDesc\": \"Minnesota\", \"DataSource\": \"NVSS, Mortality\", \"Topic\": \"Overarching Conditions\", \"Question\": \"Life expectancy at birth\", \"Response\": null, \"DataValueUnit\": \"Years\", \"DataValueType\": \"Number\", \"DataValue\": 81.1, \"DataValueAlt\": 81.1, \"DataValueFootnoteSymbol\": NaN, \"DatavalueFootnote\": NaN, \"LowConfidenceLimit\": null, \"HighConfidenceLimit\": null, \"StratificationCategory1\": \"Overall\", \"Stratification1\": \"Overall\", \"StratificationCategory2\": null, \"Stratification2\": null, \"StratificationCategory3\": null, \"Stratification3\": null, \"GeoLocation\": \"POINT (-94.79420050299967 46.35564873600049)\", \"ResponseID\": null, \"LocationID\": 27, \"TopicID\": \"OVC\", \"QuestionID\": \"OVC4_1\", \"DataValueTypeID\": \"NMBR\", \"StratificationCategoryID1\": \"OVERALL\", \"StratificationID1\": \"OVR\", \"StratificationCategoryID2\": null, \"StratificationID2\": null, \"StratificationCategoryID3\": null, \"StratificationID3\": null, \"id\": 27}, {\"YearStart\": 2020, \"YearEnd\": 2020, \"LocationAbbr\": \"HI\", \"LocationDesc\": \"Hawaii\", \"DataSource\": \"NVSS, Mortality\", \"Topic\": \"Overarching Conditions\", \"Question\": \"Life expectancy at birth\", \"Response\": null, \"DataValueUnit\": \"Years\", \"DataValueType\": \"Number\", \"DataValue\": 80.7, \"DataValueAlt\": 80.7, \"DataValueFootnoteSymbol\": NaN, \"DatavalueFootnote\": NaN, \"LowConfidenceLimit\": 80.5, \"HighConfidenceLimit\": 80.9, \"StratificationCategory1\": \"Overall\", \"Stratification1\": \"Overall\", \"StratificationCategory2\": null, \"Stratification2\": null, \"StratificationCategory3\": null, \"Stratification3\": null, \"GeoLocation\": \"POINT (-157.85774940299973 21.304850435000446)\", \"ResponseID\": null, \"LocationID\": 15, \"TopicID\": \"OVC\", \"QuestionID\": \"OVC4_1\", \"DataValueTypeID\": \"NMBR\", \"StratificationCategoryID1\": \"OVERALL\", \"StratificationID1\": \"OVR\", \"StratificationCategoryID2\": null, \"StratificationID2\": null, \"StratificationCategoryID3\": null, \"StratificationID3\": null, \"id\": 15}, {\"YearStart\": 2019, \"YearEnd\": 2019, \"LocationAbbr\": \"MD\", \"LocationDesc\": \"Maryland\", \"DataSource\": \"NVSS, Mortality\", \"Topic\": \"Overarching Conditions\", \"Question\": \"Life expectancy at birth\", \"Response\": null, \"DataValueUnit\": \"Years\", \"DataValueType\": \"Number\", \"DataValue\": 78.5, \"DataValueAlt\": 78.5, \"DataValueFootnoteSymbol\": NaN, \"DatavalueFootnote\": NaN, \"LowConfidenceLimit\": 78.4, \"HighConfidenceLimit\": 78.6, \"StratificationCategory1\": \"Overall\", \"Stratification1\": \"Overall\", \"StratificationCategory2\": null, \"Stratification2\": null, \"StratificationCategory3\": null, \"Stratification3\": null, \"GeoLocation\": \"POINT (-76.60926011099963 39.29058096400047)\", \"ResponseID\": null, \"LocationID\": 24, \"TopicID\": \"OVC\", \"QuestionID\": \"OVC4_1\", \"DataValueTypeID\": \"NMBR\", \"StratificationCategoryID1\": \"OVERALL\", \"StratificationID1\": \"OVR\", \"StratificationCategoryID2\": null, \"StratificationID2\": null, \"StratificationCategoryID3\": null, \"StratificationID3\": null, \"id\": 24}, {\"YearStart\": 2001, \"YearEnd\": 2001, \"LocationAbbr\": \"OH\", \"LocationDesc\": \"Ohio\", \"DataSource\": \"NVSS, Mortality\", \"Topic\": \"Overarching Conditions\", \"Question\": \"Life expectancy at birth\", \"Response\": null, \"DataValueUnit\": \"Years\", \"DataValueType\": \"Number\", \"DataValue\": 76.5, \"DataValueAlt\": 76.5, \"DataValueFootnoteSymbol\": NaN, \"DatavalueFootnote\": NaN, \"LowConfidenceLimit\": null, \"HighConfidenceLimit\": null, \"StratificationCategory1\": \"Overall\", \"Stratification1\": \"Overall\", \"StratificationCategory2\": null, \"Stratification2\": null, \"StratificationCategory3\": null, \"Stratification3\": null, \"GeoLocation\": \"POINT (-82.40426005599966 40.06021014100048)\", \"ResponseID\": null, \"LocationID\": 39, \"TopicID\": \"OVC\", \"QuestionID\": \"OVC4_1\", \"DataValueTypeID\": \"NMBR\", \"StratificationCategoryID1\": \"OVERALL\", \"StratificationID1\": \"OVR\", \"StratificationCategoryID2\": null, \"StratificationID2\": null, \"StratificationCategoryID3\": null, \"StratificationID3\": null, \"id\": 39}, {\"YearStart\": 2009, \"YearEnd\": 2009, \"LocationAbbr\": \"ND\", \"LocationDesc\": \"North Dakota\", \"DataSource\": \"NVSS, Mortality\", \"Topic\": \"Overarching Conditions\", \"Question\": \"Life expectancy at birth\", \"Response\": null, \"DataValueUnit\": \"Years\", \"DataValueType\": \"Number\", \"DataValue\": 79.5, \"DataValueAlt\": 79.5, \"DataValueFootnoteSymbol\": NaN, \"DatavalueFootnote\": NaN, \"LowConfidenceLimit\": null, \"HighConfidenceLimit\": null, \"StratificationCategory1\": \"Overall\", \"Stratification1\": \"Overall\", \"StratificationCategory2\": null, \"Stratification2\": null, \"StratificationCategory3\": null, \"Stratification3\": null, \"GeoLocation\": \"POINT (-100.11842104899966 47.47531977900047)\", \"ResponseID\": null, \"LocationID\": 38, \"TopicID\": \"OVC\", \"QuestionID\": \"OVC4_1\", \"DataValueTypeID\": \"NMBR\", \"StratificationCategoryID1\": \"OVERALL\", \"StratificationID1\": \"OVR\", \"StratificationCategoryID2\": null, \"StratificationID2\": null, \"StratificationCategoryID3\": null, \"StratificationID3\": null, \"id\": 38}, {\"YearStart\": 2020, \"YearEnd\": 2020, \"LocationAbbr\": \"WY\", \"LocationDesc\": \"Wyoming\", \"DataSource\": \"NVSS, Mortality\", \"Topic\": \"Overarching Conditions\", \"Question\": \"Life expectancy at birth\", \"Response\": null, \"DataValueUnit\": \"Years\", \"DataValueType\": \"Number\", \"DataValue\": 76.3, \"DataValueAlt\": 76.3, \"DataValueFootnoteSymbol\": NaN, \"DatavalueFootnote\": NaN, \"LowConfidenceLimit\": 75.9, \"HighConfidenceLimit\": 76.7, \"StratificationCategory1\": \"Overall\", \"Stratification1\": \"Overall\", \"StratificationCategory2\": null, \"Stratification2\": null, \"StratificationCategory3\": null, \"Stratification3\": null, \"GeoLocation\": \"POINT (-108.10983035299967 43.23554134300048)\", \"ResponseID\": null, \"LocationID\": 56, \"TopicID\": \"OVC\", \"QuestionID\": \"OVC4_1\", \"DataValueTypeID\": \"NMBR\", \"StratificationCategoryID1\": \"OVERALL\", \"StratificationID1\": \"OVR\", \"StratificationCategoryID2\": null, \"StratificationID2\": null, \"StratificationCategoryID3\": null, \"StratificationID3\": null, \"id\": 56}, {\"YearStart\": 2018, \"YearEnd\": 2018, \"LocationAbbr\": \"MS\", \"LocationDesc\": \"Mississippi\", \"DataSource\": \"NVSS, Mortality\", \"Topic\": \"Overarching Conditions\", \"Question\": \"Life expectancy at birth\", \"Response\": null, \"DataValueUnit\": \"Years\", \"DataValueType\": \"Number\", \"DataValue\": 74.6, \"DataValueAlt\": 74.6, \"DataValueFootnoteSymbol\": NaN, \"DatavalueFootnote\": NaN, \"LowConfidenceLimit\": 74.4, \"HighConfidenceLimit\": 74.8, \"StratificationCategory1\": \"Overall\", \"Stratification1\": \"Overall\", \"StratificationCategory2\": null, \"Stratification2\": null, \"StratificationCategory3\": null, \"Stratification3\": null, \"GeoLocation\": \"POINT (-89.53803082499968 32.745510099000455)\", \"ResponseID\": null, \"LocationID\": 28, \"TopicID\": \"OVC\", \"QuestionID\": \"OVC4_1\", \"DataValueTypeID\": \"NMBR\", \"StratificationCategoryID1\": \"OVERALL\", \"StratificationID1\": \"OVR\", \"StratificationCategoryID2\": null, \"StratificationID2\": null, \"StratificationCategoryID3\": null, \"StratificationID3\": null, \"id\": 28}, {\"YearStart\": 2001, \"YearEnd\": 2001, \"LocationAbbr\": \"KY\", \"LocationDesc\": \"Kentucky\", \"DataSource\": \"NVSS, Mortality\", \"Topic\": \"Overarching Conditions\", \"Question\": \"Life expectancy at birth\", \"Response\": null, \"DataValueUnit\": \"Years\", \"DataValueType\": \"Number\", \"DataValue\": 75.2, \"DataValueAlt\": 75.2, \"DataValueFootnoteSymbol\": NaN, \"DatavalueFootnote\": NaN, \"LowConfidenceLimit\": null, \"HighConfidenceLimit\": null, \"StratificationCategory1\": \"Overall\", \"Stratification1\": \"Overall\", \"StratificationCategory2\": null, \"Stratification2\": null, \"StratificationCategory3\": null, \"Stratification3\": null, \"GeoLocation\": \"POINT (-84.77497104799966 37.645970271000465)\", \"ResponseID\": null, \"LocationID\": 21, \"TopicID\": \"OVC\", \"QuestionID\": \"OVC4_1\", \"DataValueTypeID\": \"NMBR\", \"StratificationCategoryID1\": \"OVERALL\", \"StratificationID1\": \"OVR\", \"StratificationCategoryID2\": null, \"StratificationID2\": null, \"StratificationCategoryID3\": null, \"StratificationID3\": null, \"id\": 21}, {\"YearStart\": 2001, \"YearEnd\": 2001, \"LocationAbbr\": \"AZ\", \"LocationDesc\": \"Arizona\", \"DataSource\": \"NVSS, Mortality\", \"Topic\": \"Overarching Conditions\", \"Question\": \"Life expectancy at birth\", \"Response\": null, \"DataValueUnit\": \"Years\", \"DataValueType\": \"Number\", \"DataValue\": 78.2, \"DataValueAlt\": 78.2, \"DataValueFootnoteSymbol\": NaN, \"DatavalueFootnote\": NaN, \"LowConfidenceLimit\": null, \"HighConfidenceLimit\": null, \"StratificationCategory1\": \"Overall\", \"Stratification1\": \"Overall\", \"StratificationCategory2\": null, \"Stratification2\": null, \"StratificationCategory3\": null, \"Stratification3\": null, \"GeoLocation\": \"POINT (-111.76381127699972 34.865970280000454)\", \"ResponseID\": null, \"LocationID\": 4, \"TopicID\": \"OVC\", \"QuestionID\": \"OVC4_1\", \"DataValueTypeID\": \"NMBR\", \"StratificationCategoryID1\": \"OVERALL\", \"StratificationID1\": \"OVR\", \"StratificationCategoryID2\": null, \"StratificationID2\": null, \"StratificationCategoryID3\": null, \"StratificationID3\": null, \"id\": 4}, {\"YearStart\": 2009, \"YearEnd\": 2009, \"LocationAbbr\": \"IL\", \"LocationDesc\": \"Illinois\", \"DataSource\": \"NVSS, Mortality\", \"Topic\": \"Overarching Conditions\", \"Question\": \"Life expectancy at birth\", \"Response\": null, \"DataValueUnit\": \"Years\", \"DataValueType\": \"Number\", \"DataValue\": 79.0, \"DataValueAlt\": 79.0, \"DataValueFootnoteSymbol\": NaN, \"DatavalueFootnote\": NaN, \"LowConfidenceLimit\": null, \"HighConfidenceLimit\": null, \"StratificationCategory1\": \"Overall\", \"Stratification1\": \"Overall\", \"StratificationCategory2\": null, \"Stratification2\": null, \"StratificationCategory3\": null, \"Stratification3\": null, \"GeoLocation\": \"POINT (-88.99771017799969 40.48501028300046)\", \"ResponseID\": null, \"LocationID\": 17, \"TopicID\": \"OVC\", \"QuestionID\": \"OVC4_1\", \"DataValueTypeID\": \"NMBR\", \"StratificationCategoryID1\": \"OVERALL\", \"StratificationID1\": \"OVR\", \"StratificationCategoryID2\": null, \"StratificationID2\": null, \"StratificationCategoryID3\": null, \"StratificationID3\": null, \"id\": 17}, {\"YearStart\": 2009, \"YearEnd\": 2009, \"LocationAbbr\": \"TN\", \"LocationDesc\": \"Tennessee\", \"DataSource\": \"NVSS, Mortality\", \"Topic\": \"Overarching Conditions\", \"Question\": \"Life expectancy at birth\", \"Response\": null, \"DataValueUnit\": \"Years\", \"DataValueType\": \"Number\", \"DataValue\": 76.3, \"DataValueAlt\": 76.3, \"DataValueFootnoteSymbol\": NaN, \"DatavalueFootnote\": NaN, \"LowConfidenceLimit\": null, \"HighConfidenceLimit\": null, \"StratificationCategory1\": \"Overall\", \"Stratification1\": \"Overall\", \"StratificationCategory2\": null, \"Stratification2\": null, \"StratificationCategory3\": null, \"Stratification3\": null, \"GeoLocation\": \"POINT (-85.77449091399967 35.68094058000048)\", \"ResponseID\": null, \"LocationID\": 47, \"TopicID\": \"OVC\", \"QuestionID\": \"OVC4_1\", \"DataValueTypeID\": \"NMBR\", \"StratificationCategoryID1\": \"OVERALL\", \"StratificationID1\": \"OVR\", \"StratificationCategoryID2\": null, \"StratificationID2\": null, \"StratificationCategoryID3\": null, \"StratificationID3\": null, \"id\": 47}, {\"YearStart\": 2009, \"YearEnd\": 2009, \"LocationAbbr\": \"OR\", \"LocationDesc\": \"Oregon\", \"DataSource\": \"NVSS, Mortality\", \"Topic\": \"Overarching Conditions\", \"Question\": \"Life expectancy at birth\", \"Response\": null, \"DataValueUnit\": \"Years\", \"DataValueType\": \"Number\", \"DataValue\": 79.5, \"DataValueAlt\": 79.5, \"DataValueFootnoteSymbol\": NaN, \"DatavalueFootnote\": NaN, \"LowConfidenceLimit\": null, \"HighConfidenceLimit\": null, \"StratificationCategory1\": \"Overall\", \"Stratification1\": \"Overall\", \"StratificationCategory2\": null, \"Stratification2\": null, \"StratificationCategory3\": null, \"Stratification3\": null, \"GeoLocation\": \"POINT (-120.15503132599969 44.56744942400047)\", \"ResponseID\": null, \"LocationID\": 41, \"TopicID\": \"OVC\", \"QuestionID\": \"OVC4_1\", \"DataValueTypeID\": \"NMBR\", \"StratificationCategoryID1\": \"OVERALL\", \"StratificationID1\": \"OVR\", \"StratificationCategoryID2\": null, \"StratificationID2\": null, \"StratificationCategoryID3\": null, \"StratificationID3\": null, \"id\": 41}, {\"YearStart\": 2009, \"YearEnd\": 2009, \"LocationAbbr\": \"NC\", \"LocationDesc\": \"North Carolina\", \"DataSource\": \"NVSS, Mortality\", \"Topic\": \"Overarching Conditions\", \"Question\": \"Life expectancy at birth\", \"Response\": null, \"DataValueUnit\": \"Years\", \"DataValueType\": \"Number\", \"DataValue\": 77.8, \"DataValueAlt\": 77.8, \"DataValueFootnoteSymbol\": NaN, \"DatavalueFootnote\": NaN, \"LowConfidenceLimit\": null, \"HighConfidenceLimit\": null, \"StratificationCategory1\": \"Overall\", \"Stratification1\": \"Overall\", \"StratificationCategory2\": null, \"Stratification2\": null, \"StratificationCategory3\": null, \"Stratification3\": null, \"GeoLocation\": \"POINT (-79.15925046299964 35.466220975000454)\", \"ResponseID\": null, \"LocationID\": 37, \"TopicID\": \"OVC\", \"QuestionID\": \"OVC4_1\", \"DataValueTypeID\": \"NMBR\", \"StratificationCategoryID1\": \"OVERALL\", \"StratificationID1\": \"OVR\", \"StratificationCategoryID2\": null, \"StratificationID2\": null, \"StratificationCategoryID3\": null, \"StratificationID3\": null, \"id\": 37}, {\"YearStart\": 2020, \"YearEnd\": 2020, \"LocationAbbr\": \"TX\", \"LocationDesc\": \"Texas\", \"DataSource\": \"NVSS, Mortality\", \"Topic\": \"Overarching Conditions\", \"Question\": \"Life expectancy at birth\", \"Response\": null, \"DataValueUnit\": \"Years\", \"DataValueType\": \"Number\", \"DataValue\": 76.5, \"DataValueAlt\": 76.5, \"DataValueFootnoteSymbol\": NaN, \"DatavalueFootnote\": NaN, \"LowConfidenceLimit\": 76.4, \"HighConfidenceLimit\": 76.6, \"StratificationCategory1\": \"Overall\", \"Stratification1\": \"Overall\", \"StratificationCategory2\": null, \"Stratification2\": null, \"StratificationCategory3\": null, \"Stratification3\": null, \"GeoLocation\": \"POINT (-99.42677020599967 31.827240407000488)\", \"ResponseID\": null, \"LocationID\": 48, \"TopicID\": \"OVC\", \"QuestionID\": \"OVC4_1\", \"DataValueTypeID\": \"NMBR\", \"StratificationCategoryID1\": \"OVERALL\", \"StratificationID1\": \"OVR\", \"StratificationCategoryID2\": null, \"StratificationID2\": null, \"StratificationCategoryID3\": null, \"StratificationID3\": null, \"id\": 48}, {\"YearStart\": 2019, \"YearEnd\": 2019, \"LocationAbbr\": \"AK\", \"LocationDesc\": \"Alaska\", \"DataSource\": \"NVSS, Mortality\", \"Topic\": \"Overarching Conditions\", \"Question\": \"Life expectancy at birth\", \"Response\": null, \"DataValueUnit\": \"Years\", \"DataValueType\": \"Number\", \"DataValue\": 77.7, \"DataValueAlt\": 77.7, \"DataValueFootnoteSymbol\": NaN, \"DatavalueFootnote\": NaN, \"LowConfidenceLimit\": 77.4, \"HighConfidenceLimit\": 78.0, \"StratificationCategory1\": \"Overall\", \"Stratification1\": \"Overall\", \"StratificationCategory2\": null, \"Stratification2\": null, \"StratificationCategory3\": null, \"Stratification3\": null, \"GeoLocation\": \"POINT (-147.72205903599973 64.84507995700051)\", \"ResponseID\": null, \"LocationID\": 2, \"TopicID\": \"OVC\", \"QuestionID\": \"OVC4_1\", \"DataValueTypeID\": \"NMBR\", \"StratificationCategoryID1\": \"OVERALL\", \"StratificationID1\": \"OVR\", \"StratificationCategoryID2\": null, \"StratificationID2\": null, \"StratificationCategoryID3\": null, \"StratificationID3\": null, \"id\": 2}, {\"YearStart\": 2020, \"YearEnd\": 2020, \"LocationAbbr\": \"MA\", \"LocationDesc\": \"Massachusetts\", \"DataSource\": \"NVSS, Mortality\", \"Topic\": \"Overarching Conditions\", \"Question\": \"Life expectancy at birth\", \"Response\": null, \"DataValueUnit\": \"Years\", \"DataValueType\": \"Number\", \"DataValue\": 79.0, \"DataValueAlt\": 79.0, \"DataValueFootnoteSymbol\": NaN, \"DatavalueFootnote\": NaN, \"LowConfidenceLimit\": 78.9, \"HighConfidenceLimit\": 79.1, \"StratificationCategory1\": \"Overall\", \"Stratification1\": \"Overall\", \"StratificationCategory2\": null, \"Stratification2\": null, \"StratificationCategory3\": null, \"Stratification3\": null, \"GeoLocation\": \"POINT (-72.08269067499964 42.27687047000046)\", \"ResponseID\": null, \"LocationID\": 25, \"TopicID\": \"OVC\", \"QuestionID\": \"OVC4_1\", \"DataValueTypeID\": \"NMBR\", \"StratificationCategoryID1\": \"OVERALL\", \"StratificationID1\": \"OVR\", \"StratificationCategoryID2\": null, \"StratificationID2\": null, \"StratificationCategoryID3\": null, \"StratificationID3\": null, \"id\": 25}, {\"YearStart\": 2009, \"YearEnd\": 2009, \"LocationAbbr\": \"TX\", \"LocationDesc\": \"Texas\", \"DataSource\": \"NVSS, Mortality\", \"Topic\": \"Overarching Conditions\", \"Question\": \"Life expectancy at birth\", \"Response\": null, \"DataValueUnit\": \"Years\", \"DataValueType\": \"Number\", \"DataValue\": 78.5, \"DataValueAlt\": 78.5, \"DataValueFootnoteSymbol\": NaN, \"DatavalueFootnote\": NaN, \"LowConfidenceLimit\": null, \"HighConfidenceLimit\": null, \"StratificationCategory1\": \"Overall\", \"Stratification1\": \"Overall\", \"StratificationCategory2\": null, \"Stratification2\": null, \"StratificationCategory3\": null, \"Stratification3\": null, \"GeoLocation\": \"POINT (-99.42677020599967 31.827240407000488)\", \"ResponseID\": null, \"LocationID\": 48, \"TopicID\": \"OVC\", \"QuestionID\": \"OVC4_1\", \"DataValueTypeID\": \"NMBR\", \"StratificationCategoryID1\": \"OVERALL\", \"StratificationID1\": \"OVR\", \"StratificationCategoryID2\": null, \"StratificationID2\": null, \"StratificationCategoryID3\": null, \"StratificationID3\": null, \"id\": 48}, {\"YearStart\": 2009, \"YearEnd\": 2009, \"LocationAbbr\": \"MI\", \"LocationDesc\": \"Michigan\", \"DataSource\": \"NVSS, Mortality\", \"Topic\": \"Overarching Conditions\", \"Question\": \"Life expectancy at birth\", \"Response\": null, \"DataValueUnit\": \"Years\", \"DataValueType\": \"Number\", \"DataValue\": 78.2, \"DataValueAlt\": 78.2, \"DataValueFootnoteSymbol\": NaN, \"DatavalueFootnote\": NaN, \"LowConfidenceLimit\": null, \"HighConfidenceLimit\": null, \"StratificationCategory1\": \"Overall\", \"Stratification1\": \"Overall\", \"StratificationCategory2\": null, \"Stratification2\": null, \"StratificationCategory3\": null, \"Stratification3\": null, \"GeoLocation\": \"POINT (-84.71439026999968 44.6613195430005)\", \"ResponseID\": null, \"LocationID\": 26, \"TopicID\": \"OVC\", \"QuestionID\": \"OVC4_1\", \"DataValueTypeID\": \"NMBR\", \"StratificationCategoryID1\": \"OVERALL\", \"StratificationID1\": \"OVR\", \"StratificationCategoryID2\": null, \"StratificationID2\": null, \"StratificationCategoryID3\": null, \"StratificationID3\": null, \"id\": 26}, {\"YearStart\": 2001, \"YearEnd\": 2001, \"LocationAbbr\": \"FL\", \"LocationDesc\": \"Florida\", \"DataSource\": \"NVSS, Mortality\", \"Topic\": \"Overarching Conditions\", \"Question\": \"Life expectancy at birth\", \"Response\": null, \"DataValueUnit\": \"Years\", \"DataValueType\": \"Number\", \"DataValue\": 78.1, \"DataValueAlt\": 78.1, \"DataValueFootnoteSymbol\": NaN, \"DatavalueFootnote\": NaN, \"LowConfidenceLimit\": null, \"HighConfidenceLimit\": null, \"StratificationCategory1\": \"Overall\", \"Stratification1\": \"Overall\", \"StratificationCategory2\": null, \"Stratification2\": null, \"StratificationCategory3\": null, \"Stratification3\": null, \"GeoLocation\": \"POINT (-81.92896053899966 28.932040377000476)\", \"ResponseID\": null, \"LocationID\": 12, \"TopicID\": \"OVC\", \"QuestionID\": \"OVC4_1\", \"DataValueTypeID\": \"NMBR\", \"StratificationCategoryID1\": \"OVERALL\", \"StratificationID1\": \"OVR\", \"StratificationCategoryID2\": null, \"StratificationID2\": null, \"StratificationCategoryID3\": null, \"StratificationID3\": null, \"id\": 12}, {\"YearStart\": 2018, \"YearEnd\": 2018, \"LocationAbbr\": \"MT\", \"LocationDesc\": \"Montana\", \"DataSource\": \"NVSS, Mortality\", \"Topic\": \"Overarching Conditions\", \"Question\": \"Life expectancy at birth\", \"Response\": null, \"DataValueUnit\": \"Years\", \"DataValueType\": \"Number\", \"DataValue\": 78.7, \"DataValueAlt\": 78.7, \"DataValueFootnoteSymbol\": NaN, \"DatavalueFootnote\": NaN, \"LowConfidenceLimit\": 78.4, \"HighConfidenceLimit\": 79.0, \"StratificationCategory1\": \"Overall\", \"Stratification1\": \"Overall\", \"StratificationCategory2\": null, \"Stratification2\": null, \"StratificationCategory3\": null, \"Stratification3\": null, \"GeoLocation\": \"POINT (-109.42442064499971 47.06652897200047)\", \"ResponseID\": null, \"LocationID\": 30, \"TopicID\": \"OVC\", \"QuestionID\": \"OVC4_1\", \"DataValueTypeID\": \"NMBR\", \"StratificationCategoryID1\": \"OVERALL\", \"StratificationID1\": \"OVR\", \"StratificationCategoryID2\": null, \"StratificationID2\": null, \"StratificationCategoryID3\": null, \"StratificationID3\": null, \"id\": 30}, {\"YearStart\": 2020, \"YearEnd\": 2020, \"LocationAbbr\": \"MD\", \"LocationDesc\": \"Maryland\", \"DataSource\": \"NVSS, Mortality\", \"Topic\": \"Overarching Conditions\", \"Question\": \"Life expectancy at birth\", \"Response\": null, \"DataValueUnit\": \"Years\", \"DataValueType\": \"Number\", \"DataValue\": 76.8, \"DataValueAlt\": 76.8, \"DataValueFootnoteSymbol\": NaN, \"DatavalueFootnote\": NaN, \"LowConfidenceLimit\": 76.7, \"HighConfidenceLimit\": 76.9, \"StratificationCategory1\": \"Overall\", \"Stratification1\": \"Overall\", \"StratificationCategory2\": null, \"Stratification2\": null, \"StratificationCategory3\": null, \"Stratification3\": null, \"GeoLocation\": \"POINT (-76.60926011099963 39.29058096400047)\", \"ResponseID\": null, \"LocationID\": 24, \"TopicID\": \"OVC\", \"QuestionID\": \"OVC4_1\", \"DataValueTypeID\": \"NMBR\", \"StratificationCategoryID1\": \"OVERALL\", \"StratificationID1\": \"OVR\", \"StratificationCategoryID2\": null, \"StratificationID2\": null, \"StratificationCategoryID3\": null, \"StratificationID3\": null, \"id\": 24}, {\"YearStart\": 2001, \"YearEnd\": 2001, \"LocationAbbr\": \"SC\", \"LocationDesc\": \"South Carolina\", \"DataSource\": \"NVSS, Mortality\", \"Topic\": \"Overarching Conditions\", \"Question\": \"Life expectancy at birth\", \"Response\": null, \"DataValueUnit\": \"Years\", \"DataValueType\": \"Number\", \"DataValue\": 75.0, \"DataValueAlt\": 75.0, \"DataValueFootnoteSymbol\": NaN, \"DatavalueFootnote\": NaN, \"LowConfidenceLimit\": null, \"HighConfidenceLimit\": null, \"StratificationCategory1\": \"Overall\", \"Stratification1\": \"Overall\", \"StratificationCategory2\": null, \"Stratification2\": null, \"StratificationCategory3\": null, \"Stratification3\": null, \"GeoLocation\": \"POINT (-81.04537120699968 33.998821303000454)\", \"ResponseID\": null, \"LocationID\": 45, \"TopicID\": \"OVC\", \"QuestionID\": \"OVC4_1\", \"DataValueTypeID\": \"NMBR\", \"StratificationCategoryID1\": \"OVERALL\", \"StratificationID1\": \"OVR\", \"StratificationCategoryID2\": null, \"StratificationID2\": null, \"StratificationCategoryID3\": null, \"StratificationID3\": null, \"id\": 45}, {\"YearStart\": 2018, \"YearEnd\": 2018, \"LocationAbbr\": \"OK\", \"LocationDesc\": \"Oklahoma\", \"DataSource\": \"NVSS, Mortality\", \"Topic\": \"Overarching Conditions\", \"Question\": \"Life expectancy at birth\", \"Response\": null, \"DataValueUnit\": \"Years\", \"DataValueType\": \"Number\", \"DataValue\": 75.6, \"DataValueAlt\": 75.6, \"DataValueFootnoteSymbol\": NaN, \"DatavalueFootnote\": NaN, \"LowConfidenceLimit\": 75.5, \"HighConfidenceLimit\": 75.7, \"StratificationCategory1\": \"Overall\", \"Stratification1\": \"Overall\", \"StratificationCategory2\": null, \"Stratification2\": null, \"StratificationCategory3\": null, \"Stratification3\": null, \"GeoLocation\": \"POINT (-97.52107021399968 35.47203135600046)\", \"ResponseID\": null, \"LocationID\": 40, \"TopicID\": \"OVC\", \"QuestionID\": \"OVC4_1\", \"DataValueTypeID\": \"NMBR\", \"StratificationCategoryID1\": \"OVERALL\", \"StratificationID1\": \"OVR\", \"StratificationCategoryID2\": null, \"StratificationID2\": null, \"StratificationCategoryID3\": null, \"StratificationID3\": null, \"id\": 40}, {\"YearStart\": 2009, \"YearEnd\": 2009, \"LocationAbbr\": \"NE\", \"LocationDesc\": \"Nebraska\", \"DataSource\": \"NVSS, Mortality\", \"Topic\": \"Overarching Conditions\", \"Question\": \"Life expectancy at birth\", \"Response\": null, \"DataValueUnit\": \"Years\", \"DataValueType\": \"Number\", \"DataValue\": 79.8, \"DataValueAlt\": 79.8, \"DataValueFootnoteSymbol\": NaN, \"DatavalueFootnote\": NaN, \"LowConfidenceLimit\": null, \"HighConfidenceLimit\": null, \"StratificationCategory1\": \"Overall\", \"Stratification1\": \"Overall\", \"StratificationCategory2\": null, \"Stratification2\": null, \"StratificationCategory3\": null, \"Stratification3\": null, \"GeoLocation\": \"POINT (-99.36572062299967 41.6410409880005)\", \"ResponseID\": null, \"LocationID\": 31, \"TopicID\": \"OVC\", \"QuestionID\": \"OVC4_1\", \"DataValueTypeID\": \"NMBR\", \"StratificationCategoryID1\": \"OVERALL\", \"StratificationID1\": \"OVR\", \"StratificationCategoryID2\": null, \"StratificationID2\": null, \"StratificationCategoryID3\": null, \"StratificationID3\": null, \"id\": 31}, {\"YearStart\": 2018, \"YearEnd\": 2018, \"LocationAbbr\": \"HI\", \"LocationDesc\": \"Hawaii\", \"DataSource\": \"NVSS, Mortality\", \"Topic\": \"Overarching Conditions\", \"Question\": \"Life expectancy at birth\", \"Response\": null, \"DataValueUnit\": \"Years\", \"DataValueType\": \"Number\", \"DataValue\": 81.0, \"DataValueAlt\": 81.0, \"DataValueFootnoteSymbol\": NaN, \"DatavalueFootnote\": NaN, \"LowConfidenceLimit\": 80.8, \"HighConfidenceLimit\": 81.2, \"StratificationCategory1\": \"Overall\", \"Stratification1\": \"Overall\", \"StratificationCategory2\": null, \"Stratification2\": null, \"StratificationCategory3\": null, \"Stratification3\": null, \"GeoLocation\": \"POINT (-157.85774940299973 21.304850435000446)\", \"ResponseID\": null, \"LocationID\": 15, \"TopicID\": \"OVC\", \"QuestionID\": \"OVC4_1\", \"DataValueTypeID\": \"NMBR\", \"StratificationCategoryID1\": \"OVERALL\", \"StratificationID1\": \"OVR\", \"StratificationCategoryID2\": null, \"StratificationID2\": null, \"StratificationCategoryID3\": null, \"StratificationID3\": null, \"id\": 15}, {\"YearStart\": 2020, \"YearEnd\": 2020, \"LocationAbbr\": \"AR\", \"LocationDesc\": \"Arkansas\", \"DataSource\": \"NVSS, Mortality\", \"Topic\": \"Overarching Conditions\", \"Question\": \"Life expectancy at birth\", \"Response\": null, \"DataValueUnit\": \"Years\", \"DataValueType\": \"Number\", \"DataValue\": 73.8, \"DataValueAlt\": 73.8, \"DataValueFootnoteSymbol\": NaN, \"DatavalueFootnote\": NaN, \"LowConfidenceLimit\": 73.6, \"HighConfidenceLimit\": 74.0, \"StratificationCategory1\": \"Overall\", \"Stratification1\": \"Overall\", \"StratificationCategory2\": null, \"Stratification2\": null, \"StratificationCategory3\": null, \"Stratification3\": null, \"GeoLocation\": \"POINT (-92.27449074299966 34.74865012400045)\", \"ResponseID\": null, \"LocationID\": 5, \"TopicID\": \"OVC\", \"QuestionID\": \"OVC4_1\", \"DataValueTypeID\": \"NMBR\", \"StratificationCategoryID1\": \"OVERALL\", \"StratificationID1\": \"OVR\", \"StratificationCategoryID2\": null, \"StratificationID2\": null, \"StratificationCategoryID3\": null, \"StratificationID3\": null, \"id\": 5}, {\"YearStart\": 2019, \"YearEnd\": 2019, \"LocationAbbr\": \"ND\", \"LocationDesc\": \"North Dakota\", \"DataSource\": \"NVSS, Mortality\", \"Topic\": \"Overarching Conditions\", \"Question\": \"Life expectancy at birth\", \"Response\": null, \"DataValueUnit\": \"Years\", \"DataValueType\": \"Number\", \"DataValue\": 78.8, \"DataValueAlt\": 78.8, \"DataValueFootnoteSymbol\": NaN, \"DatavalueFootnote\": NaN, \"LowConfidenceLimit\": 78.5, \"HighConfidenceLimit\": 79.1, \"StratificationCategory1\": \"Overall\", \"Stratification1\": \"Overall\", \"StratificationCategory2\": null, \"Stratification2\": null, \"StratificationCategory3\": null, \"Stratification3\": null, \"GeoLocation\": \"POINT (-100.11842104899966 47.47531977900047)\", \"ResponseID\": null, \"LocationID\": 38, \"TopicID\": \"OVC\", \"QuestionID\": \"OVC4_1\", \"DataValueTypeID\": \"NMBR\", \"StratificationCategoryID1\": \"OVERALL\", \"StratificationID1\": \"OVR\", \"StratificationCategoryID2\": null, \"StratificationID2\": null, \"StratificationCategoryID3\": null, \"StratificationID3\": null, \"id\": 38}, {\"YearStart\": 2019, \"YearEnd\": 2019, \"LocationAbbr\": \"IL\", \"LocationDesc\": \"Illinois\", \"DataSource\": \"NVSS, Mortality\", \"Topic\": \"Overarching Conditions\", \"Question\": \"Life expectancy at birth\", \"Response\": null, \"DataValueUnit\": \"Years\", \"DataValueType\": \"Number\", \"DataValue\": 79.0, \"DataValueAlt\": 79.0, \"DataValueFootnoteSymbol\": NaN, \"DatavalueFootnote\": NaN, \"LowConfidenceLimit\": 78.9, \"HighConfidenceLimit\": 79.1, \"StratificationCategory1\": \"Overall\", \"Stratification1\": \"Overall\", \"StratificationCategory2\": null, \"Stratification2\": null, \"StratificationCategory3\": null, \"Stratification3\": null, \"GeoLocation\": \"POINT (-88.99771017799969 40.48501028300046)\", \"ResponseID\": null, \"LocationID\": 17, \"TopicID\": \"OVC\", \"QuestionID\": \"OVC4_1\", \"DataValueTypeID\": \"NMBR\", \"StratificationCategoryID1\": \"OVERALL\", \"StratificationID1\": \"OVR\", \"StratificationCategoryID2\": null, \"StratificationID2\": null, \"StratificationCategoryID3\": null, \"StratificationID3\": null, \"id\": 17}, {\"YearStart\": 2020, \"YearEnd\": 2020, \"LocationAbbr\": \"AZ\", \"LocationDesc\": \"Arizona\", \"DataSource\": \"NVSS, Mortality\", \"Topic\": \"Overarching Conditions\", \"Question\": \"Life expectancy at birth\", \"Response\": null, \"DataValueUnit\": \"Years\", \"DataValueType\": \"Number\", \"DataValue\": 76.3, \"DataValueAlt\": 76.3, \"DataValueFootnoteSymbol\": NaN, \"DatavalueFootnote\": NaN, \"LowConfidenceLimit\": 76.2, \"HighConfidenceLimit\": 76.4, \"StratificationCategory1\": \"Overall\", \"Stratification1\": \"Overall\", \"StratificationCategory2\": null, \"Stratification2\": null, \"StratificationCategory3\": null, \"Stratification3\": null, \"GeoLocation\": \"POINT (-111.76381127699972 34.865970280000454)\", \"ResponseID\": null, \"LocationID\": 4, \"TopicID\": \"OVC\", \"QuestionID\": \"OVC4_1\", \"DataValueTypeID\": \"NMBR\", \"StratificationCategoryID1\": \"OVERALL\", \"StratificationID1\": \"OVR\", \"StratificationCategoryID2\": null, \"StratificationID2\": null, \"StratificationCategoryID3\": null, \"StratificationID3\": null, \"id\": 4}, {\"YearStart\": 2020, \"YearEnd\": 2020, \"LocationAbbr\": \"RI\", \"LocationDesc\": \"Rhode Island\", \"DataSource\": \"NVSS, Mortality\", \"Topic\": \"Overarching Conditions\", \"Question\": \"Life expectancy at birth\", \"Response\": null, \"DataValueUnit\": \"Years\", \"DataValueType\": \"Number\", \"DataValue\": 78.2, \"DataValueAlt\": 78.2, \"DataValueFootnoteSymbol\": NaN, \"DatavalueFootnote\": NaN, \"LowConfidenceLimit\": 77.9, \"HighConfidenceLimit\": 78.5, \"StratificationCategory1\": \"Overall\", \"Stratification1\": \"Overall\", \"StratificationCategory2\": null, \"Stratification2\": null, \"StratificationCategory3\": null, \"Stratification3\": null, \"GeoLocation\": \"POINT (-71.52247031399963 41.70828019300046)\", \"ResponseID\": null, \"LocationID\": 44, \"TopicID\": \"OVC\", \"QuestionID\": \"OVC4_1\", \"DataValueTypeID\": \"NMBR\", \"StratificationCategoryID1\": \"OVERALL\", \"StratificationID1\": \"OVR\", \"StratificationCategoryID2\": null, \"StratificationID2\": null, \"StratificationCategoryID3\": null, \"StratificationID3\": null, \"id\": 44}, {\"YearStart\": 2018, \"YearEnd\": 2018, \"LocationAbbr\": \"NV\", \"LocationDesc\": \"Nevada\", \"DataSource\": \"NVSS, Mortality\", \"Topic\": \"Overarching Conditions\", \"Question\": \"Life expectancy at birth\", \"Response\": null, \"DataValueUnit\": \"Years\", \"DataValueType\": \"Number\", \"DataValue\": 77.9, \"DataValueAlt\": 77.9, \"DataValueFootnoteSymbol\": NaN, \"DatavalueFootnote\": NaN, \"LowConfidenceLimit\": 77.7, \"HighConfidenceLimit\": 78.1, \"StratificationCategory1\": \"Overall\", \"Stratification1\": \"Overall\", \"StratificationCategory2\": null, \"Stratification2\": null, \"StratificationCategory3\": null, \"Stratification3\": null, \"GeoLocation\": \"POINT (-117.07184056399967 39.493240390000494)\", \"ResponseID\": null, \"LocationID\": 32, \"TopicID\": \"OVC\", \"QuestionID\": \"OVC4_1\", \"DataValueTypeID\": \"NMBR\", \"StratificationCategoryID1\": \"OVERALL\", \"StratificationID1\": \"OVR\", \"StratificationCategoryID2\": null, \"StratificationID2\": null, \"StratificationCategoryID3\": null, \"StratificationID3\": null, \"id\": 32}, {\"YearStart\": 2001, \"YearEnd\": 2001, \"LocationAbbr\": \"NJ\", \"LocationDesc\": \"New Jersey\", \"DataSource\": \"NVSS, Mortality\", \"Topic\": \"Overarching Conditions\", \"Question\": \"Life expectancy at birth\", \"Response\": null, \"DataValueUnit\": \"Years\", \"DataValueType\": \"Number\", \"DataValue\": 77.6, \"DataValueAlt\": 77.6, \"DataValueFootnoteSymbol\": NaN, \"DatavalueFootnote\": NaN, \"LowConfidenceLimit\": null, \"HighConfidenceLimit\": null, \"StratificationCategory1\": \"Overall\", \"Stratification1\": \"Overall\", \"StratificationCategory2\": null, \"Stratification2\": null, \"StratificationCategory3\": null, \"Stratification3\": null, \"GeoLocation\": \"POINT (-74.27369128799967 40.13057004800049)\", \"ResponseID\": null, \"LocationID\": 34, \"TopicID\": \"OVC\", \"QuestionID\": \"OVC4_1\", \"DataValueTypeID\": \"NMBR\", \"StratificationCategoryID1\": \"OVERALL\", \"StratificationID1\": \"OVR\", \"StratificationCategoryID2\": null, \"StratificationID2\": null, \"StratificationCategoryID3\": null, \"StratificationID3\": null, \"id\": 34}, {\"YearStart\": 2009, \"YearEnd\": 2009, \"LocationAbbr\": \"ID\", \"LocationDesc\": \"Idaho\", \"DataSource\": \"NVSS, Mortality\", \"Topic\": \"Overarching Conditions\", \"Question\": \"Life expectancy at birth\", \"Response\": null, \"DataValueUnit\": \"Years\", \"DataValueType\": \"Number\", \"DataValue\": 79.5, \"DataValueAlt\": 79.5, \"DataValueFootnoteSymbol\": NaN, \"DatavalueFootnote\": NaN, \"LowConfidenceLimit\": null, \"HighConfidenceLimit\": null, \"StratificationCategory1\": \"Overall\", \"Stratification1\": \"Overall\", \"StratificationCategory2\": null, \"Stratification2\": null, \"StratificationCategory3\": null, \"Stratification3\": null, \"GeoLocation\": \"POINT (-114.3637300419997 43.682630005000476)\", \"ResponseID\": null, \"LocationID\": 16, \"TopicID\": \"OVC\", \"QuestionID\": \"OVC4_1\", \"DataValueTypeID\": \"NMBR\", \"StratificationCategoryID1\": \"OVERALL\", \"StratificationID1\": \"OVR\", \"StratificationCategoryID2\": null, \"StratificationID2\": null, \"StratificationCategoryID3\": null, \"StratificationID3\": null, \"id\": 16}, {\"YearStart\": 2020, \"YearEnd\": 2020, \"LocationAbbr\": \"MT\", \"LocationDesc\": \"Montana\", \"DataSource\": \"NVSS, Mortality\", \"Topic\": \"Overarching Conditions\", \"Question\": \"Life expectancy at birth\", \"Response\": null, \"DataValueUnit\": \"Years\", \"DataValueType\": \"Number\", \"DataValue\": 76.8, \"DataValueAlt\": 76.8, \"DataValueFootnoteSymbol\": NaN, \"DatavalueFootnote\": NaN, \"LowConfidenceLimit\": 76.5, \"HighConfidenceLimit\": 77.1, \"StratificationCategory1\": \"Overall\", \"Stratification1\": \"Overall\", \"StratificationCategory2\": null, \"Stratification2\": null, \"StratificationCategory3\": null, \"Stratification3\": null, \"GeoLocation\": \"POINT (-109.42442064499971 47.06652897200047)\", \"ResponseID\": null, \"LocationID\": 30, \"TopicID\": \"OVC\", \"QuestionID\": \"OVC4_1\", \"DataValueTypeID\": \"NMBR\", \"StratificationCategoryID1\": \"OVERALL\", \"StratificationID1\": \"OVR\", \"StratificationCategoryID2\": null, \"StratificationID2\": null, \"StratificationCategoryID3\": null, \"StratificationID3\": null, \"id\": 30}, {\"YearStart\": 2009, \"YearEnd\": 2009, \"LocationAbbr\": \"UT\", \"LocationDesc\": \"Utah\", \"DataSource\": \"NVSS, Mortality\", \"Topic\": \"Overarching Conditions\", \"Question\": \"Life expectancy at birth\", \"Response\": null, \"DataValueUnit\": \"Years\", \"DataValueType\": \"Number\", \"DataValue\": 80.2, \"DataValueAlt\": 80.2, \"DataValueFootnoteSymbol\": NaN, \"DatavalueFootnote\": NaN, \"LowConfidenceLimit\": null, \"HighConfidenceLimit\": null, \"StratificationCategory1\": \"Overall\", \"Stratification1\": \"Overall\", \"StratificationCategory2\": null, \"Stratification2\": null, \"StratificationCategory3\": null, \"Stratification3\": null, \"GeoLocation\": \"POINT (-111.58713063499971 39.360700171000474)\", \"ResponseID\": null, \"LocationID\": 49, \"TopicID\": \"OVC\", \"QuestionID\": \"OVC4_1\", \"DataValueTypeID\": \"NMBR\", \"StratificationCategoryID1\": \"OVERALL\", \"StratificationID1\": \"OVR\", \"StratificationCategoryID2\": null, \"StratificationID2\": null, \"StratificationCategoryID3\": null, \"StratificationID3\": null, \"id\": 49}, {\"YearStart\": 2009, \"YearEnd\": 2009, \"LocationAbbr\": \"KY\", \"LocationDesc\": \"Kentucky\", \"DataSource\": \"NVSS, Mortality\", \"Topic\": \"Overarching Conditions\", \"Question\": \"Life expectancy at birth\", \"Response\": null, \"DataValueUnit\": \"Years\", \"DataValueType\": \"Number\", \"DataValue\": 76.0, \"DataValueAlt\": 76.0, \"DataValueFootnoteSymbol\": NaN, \"DatavalueFootnote\": NaN, \"LowConfidenceLimit\": null, \"HighConfidenceLimit\": null, \"StratificationCategory1\": \"Overall\", \"Stratification1\": \"Overall\", \"StratificationCategory2\": null, \"Stratification2\": null, \"StratificationCategory3\": null, \"Stratification3\": null, \"GeoLocation\": \"POINT (-84.77497104799966 37.645970271000465)\", \"ResponseID\": null, \"LocationID\": 21, \"TopicID\": \"OVC\", \"QuestionID\": \"OVC4_1\", \"DataValueTypeID\": \"NMBR\", \"StratificationCategoryID1\": \"OVERALL\", \"StratificationID1\": \"OVR\", \"StratificationCategoryID2\": null, \"StratificationID2\": null, \"StratificationCategoryID3\": null, \"StratificationID3\": null, \"id\": 21}, {\"YearStart\": 2018, \"YearEnd\": 2018, \"LocationAbbr\": \"AR\", \"LocationDesc\": \"Arkansas\", \"DataSource\": \"NVSS, Mortality\", \"Topic\": \"Overarching Conditions\", \"Question\": \"Life expectancy at birth\", \"Response\": null, \"DataValueUnit\": \"Years\", \"DataValueType\": \"Number\", \"DataValue\": 75.6, \"DataValueAlt\": 75.6, \"DataValueFootnoteSymbol\": NaN, \"DatavalueFootnote\": NaN, \"LowConfidenceLimit\": 75.4, \"HighConfidenceLimit\": 75.8, \"StratificationCategory1\": \"Overall\", \"Stratification1\": \"Overall\", \"StratificationCategory2\": null, \"Stratification2\": null, \"StratificationCategory3\": null, \"Stratification3\": null, \"GeoLocation\": \"POINT (-92.27449074299966 34.74865012400045)\", \"ResponseID\": null, \"LocationID\": 5, \"TopicID\": \"OVC\", \"QuestionID\": \"OVC4_1\", \"DataValueTypeID\": \"NMBR\", \"StratificationCategoryID1\": \"OVERALL\", \"StratificationID1\": \"OVR\", \"StratificationCategoryID2\": null, \"StratificationID2\": null, \"StratificationCategoryID3\": null, \"StratificationID3\": null, \"id\": 5}, {\"YearStart\": 2009, \"YearEnd\": 2009, \"LocationAbbr\": \"CT\", \"LocationDesc\": \"Connecticut\", \"DataSource\": \"NVSS, Mortality\", \"Topic\": \"Overarching Conditions\", \"Question\": \"Life expectancy at birth\", \"Response\": null, \"DataValueUnit\": \"Years\", \"DataValueType\": \"Number\", \"DataValue\": 80.8, \"DataValueAlt\": 80.8, \"DataValueFootnoteSymbol\": NaN, \"DatavalueFootnote\": NaN, \"LowConfidenceLimit\": null, \"HighConfidenceLimit\": null, \"StratificationCategory1\": \"Overall\", \"Stratification1\": \"Overall\", \"StratificationCategory2\": null, \"Stratification2\": null, \"StratificationCategory3\": null, \"Stratification3\": null, \"GeoLocation\": \"POINT (-72.64984095199964 41.56266102000046)\", \"ResponseID\": null, \"LocationID\": 9, \"TopicID\": \"OVC\", \"QuestionID\": \"OVC4_1\", \"DataValueTypeID\": \"NMBR\", \"StratificationCategoryID1\": \"OVERALL\", \"StratificationID1\": \"OVR\", \"StratificationCategoryID2\": null, \"StratificationID2\": null, \"StratificationCategoryID3\": null, \"StratificationID3\": null, \"id\": 9}, {\"YearStart\": 2020, \"YearEnd\": 2020, \"LocationAbbr\": \"CO\", \"LocationDesc\": \"Colorado\", \"DataSource\": \"NVSS, Mortality\", \"Topic\": \"Overarching Conditions\", \"Question\": \"Life expectancy at birth\", \"Response\": null, \"DataValueUnit\": \"Years\", \"DataValueType\": \"Number\", \"DataValue\": 78.3, \"DataValueAlt\": 78.3, \"DataValueFootnoteSymbol\": NaN, \"DatavalueFootnote\": NaN, \"LowConfidenceLimit\": 78.2, \"HighConfidenceLimit\": 78.4, \"StratificationCategory1\": \"Overall\", \"Stratification1\": \"Overall\", \"StratificationCategory2\": null, \"Stratification2\": null, \"StratificationCategory3\": null, \"Stratification3\": null, \"GeoLocation\": \"POINT (-106.13361092099967 38.843840757000464)\", \"ResponseID\": null, \"LocationID\": 8, \"TopicID\": \"OVC\", \"QuestionID\": \"OVC4_1\", \"DataValueTypeID\": \"NMBR\", \"StratificationCategoryID1\": \"OVERALL\", \"StratificationID1\": \"OVR\", \"StratificationCategoryID2\": null, \"StratificationID2\": null, \"StratificationCategoryID3\": null, \"StratificationID3\": null, \"id\": 8}, {\"YearStart\": 2019, \"YearEnd\": 2019, \"LocationAbbr\": \"ME\", \"LocationDesc\": \"Maine\", \"DataSource\": \"NVSS, Mortality\", \"Topic\": \"Overarching Conditions\", \"Question\": \"Life expectancy at birth\", \"Response\": null, \"DataValueUnit\": \"Years\", \"DataValueType\": \"Number\", \"DataValue\": 78.3, \"DataValueAlt\": 78.3, \"DataValueFootnoteSymbol\": NaN, \"DatavalueFootnote\": NaN, \"LowConfidenceLimit\": 78.1, \"HighConfidenceLimit\": 78.5, \"StratificationCategory1\": \"Overall\", \"Stratification1\": \"Overall\", \"StratificationCategory2\": null, \"Stratification2\": null, \"StratificationCategory3\": null, \"Stratification3\": null, \"GeoLocation\": \"POINT (-68.98503133599962 45.254228894000505)\", \"ResponseID\": null, \"LocationID\": 23, \"TopicID\": \"OVC\", \"QuestionID\": \"OVC4_1\", \"DataValueTypeID\": \"NMBR\", \"StratificationCategoryID1\": \"OVERALL\", \"StratificationID1\": \"OVR\", \"StratificationCategoryID2\": null, \"StratificationID2\": null, \"StratificationCategoryID3\": null, \"StratificationID3\": null, \"id\": 23}, {\"YearStart\": 2001, \"YearEnd\": 2001, \"LocationAbbr\": \"DE\", \"LocationDesc\": \"Delaware\", \"DataSource\": \"NVSS, Mortality\", \"Topic\": \"Overarching Conditions\", \"Question\": \"Life expectancy at birth\", \"Response\": null, \"DataValueUnit\": \"Years\", \"DataValueType\": \"Number\", \"DataValue\": 77.0, \"DataValueAlt\": 77.0, \"DataValueFootnoteSymbol\": NaN, \"DatavalueFootnote\": NaN, \"LowConfidenceLimit\": null, \"HighConfidenceLimit\": null, \"StratificationCategory1\": \"Overall\", \"Stratification1\": \"Overall\", \"StratificationCategory2\": null, \"Stratification2\": null, \"StratificationCategory3\": null, \"Stratification3\": null, \"GeoLocation\": \"POINT (-75.57774116799965 39.008830667000495)\", \"ResponseID\": null, \"LocationID\": 10, \"TopicID\": \"OVC\", \"QuestionID\": \"OVC4_1\", \"DataValueTypeID\": \"NMBR\", \"StratificationCategoryID1\": \"OVERALL\", \"StratificationID1\": \"OVR\", \"StratificationCategoryID2\": null, \"StratificationID2\": null, \"StratificationCategoryID3\": null, \"StratificationID3\": null, \"id\": 10}, {\"YearStart\": 2019, \"YearEnd\": 2019, \"LocationAbbr\": \"OH\", \"LocationDesc\": \"Ohio\", \"DataSource\": \"NVSS, Mortality\", \"Topic\": \"Overarching Conditions\", \"Question\": \"Life expectancy at birth\", \"Response\": null, \"DataValueUnit\": \"Years\", \"DataValueType\": \"Number\", \"DataValue\": 76.9, \"DataValueAlt\": 76.9, \"DataValueFootnoteSymbol\": NaN, \"DatavalueFootnote\": NaN, \"LowConfidenceLimit\": 76.8, \"HighConfidenceLimit\": 77.0, \"StratificationCategory1\": \"Overall\", \"Stratification1\": \"Overall\", \"StratificationCategory2\": null, \"Stratification2\": null, \"StratificationCategory3\": null, \"Stratification3\": null, \"GeoLocation\": \"POINT (-82.40426005599966 40.06021014100048)\", \"ResponseID\": null, \"LocationID\": 39, \"TopicID\": \"OVC\", \"QuestionID\": \"OVC4_1\", \"DataValueTypeID\": \"NMBR\", \"StratificationCategoryID1\": \"OVERALL\", \"StratificationID1\": \"OVR\", \"StratificationCategoryID2\": null, \"StratificationID2\": null, \"StratificationCategoryID3\": null, \"StratificationID3\": null, \"id\": 39}, {\"YearStart\": 2009, \"YearEnd\": 2009, \"LocationAbbr\": \"WV\", \"LocationDesc\": \"West Virginia\", \"DataSource\": \"NVSS, Mortality\", \"Topic\": \"Overarching Conditions\", \"Question\": \"Life expectancy at birth\", \"Response\": null, \"DataValueUnit\": \"Years\", \"DataValueType\": \"Number\", \"DataValue\": 75.4, \"DataValueAlt\": 75.4, \"DataValueFootnoteSymbol\": NaN, \"DatavalueFootnote\": NaN, \"LowConfidenceLimit\": null, \"HighConfidenceLimit\": null, \"StratificationCategory1\": \"Overall\", \"Stratification1\": \"Overall\", \"StratificationCategory2\": null, \"Stratification2\": null, \"StratificationCategory3\": null, \"Stratification3\": null, \"GeoLocation\": \"POINT (-80.71264013499967 38.66551020200046)\", \"ResponseID\": null, \"LocationID\": 54, \"TopicID\": \"OVC\", \"QuestionID\": \"OVC4_1\", \"DataValueTypeID\": \"NMBR\", \"StratificationCategoryID1\": \"OVERALL\", \"StratificationID1\": \"OVR\", \"StratificationCategoryID2\": null, \"StratificationID2\": null, \"StratificationCategoryID3\": null, \"StratificationID3\": null, \"id\": 54}, {\"YearStart\": 2018, \"YearEnd\": 2018, \"LocationAbbr\": \"RI\", \"LocationDesc\": \"Rhode Island\", \"DataSource\": \"NVSS, Mortality\", \"Topic\": \"Overarching Conditions\", \"Question\": \"Life expectancy at birth\", \"Response\": null, \"DataValueUnit\": \"Years\", \"DataValueType\": \"Number\", \"DataValue\": 79.8, \"DataValueAlt\": 79.8, \"DataValueFootnoteSymbol\": NaN, \"DatavalueFootnote\": NaN, \"LowConfidenceLimit\": 79.5, \"HighConfidenceLimit\": 80.1, \"StratificationCategory1\": \"Overall\", \"Stratification1\": \"Overall\", \"StratificationCategory2\": null, \"Stratification2\": null, \"StratificationCategory3\": null, \"Stratification3\": null, \"GeoLocation\": \"POINT (-71.52247031399963 41.70828019300046)\", \"ResponseID\": null, \"LocationID\": 44, \"TopicID\": \"OVC\", \"QuestionID\": \"OVC4_1\", \"DataValueTypeID\": \"NMBR\", \"StratificationCategoryID1\": \"OVERALL\", \"StratificationID1\": \"OVR\", \"StratificationCategoryID2\": null, \"StratificationID2\": null, \"StratificationCategoryID3\": null, \"StratificationID3\": null, \"id\": 44}, {\"YearStart\": 2009, \"YearEnd\": 2009, \"LocationAbbr\": \"WY\", \"LocationDesc\": \"Wyoming\", \"DataSource\": \"NVSS, Mortality\", \"Topic\": \"Overarching Conditions\", \"Question\": \"Life expectancy at birth\", \"Response\": null, \"DataValueUnit\": \"Years\", \"DataValueType\": \"Number\", \"DataValue\": 78.3, \"DataValueAlt\": 78.3, \"DataValueFootnoteSymbol\": NaN, \"DatavalueFootnote\": NaN, \"LowConfidenceLimit\": null, \"HighConfidenceLimit\": null, \"StratificationCategory1\": \"Overall\", \"Stratification1\": \"Overall\", \"StratificationCategory2\": null, \"Stratification2\": null, \"StratificationCategory3\": null, \"Stratification3\": null, \"GeoLocation\": \"POINT (-108.10983035299967 43.23554134300048)\", \"ResponseID\": null, \"LocationID\": 56, \"TopicID\": \"OVC\", \"QuestionID\": \"OVC4_1\", \"DataValueTypeID\": \"NMBR\", \"StratificationCategoryID1\": \"OVERALL\", \"StratificationID1\": \"OVR\", \"StratificationCategoryID2\": null, \"StratificationID2\": null, \"StratificationCategoryID3\": null, \"StratificationID3\": null, \"id\": 56}, {\"YearStart\": 2018, \"YearEnd\": 2018, \"LocationAbbr\": \"VT\", \"LocationDesc\": \"Vermont\", \"DataSource\": \"NVSS, Mortality\", \"Topic\": \"Overarching Conditions\", \"Question\": \"Life expectancy at birth\", \"Response\": null, \"DataValueUnit\": \"Years\", \"DataValueType\": \"Number\", \"DataValue\": 79.3, \"DataValueAlt\": 79.3, \"DataValueFootnoteSymbol\": NaN, \"DatavalueFootnote\": NaN, \"LowConfidenceLimit\": 78.9, \"HighConfidenceLimit\": 79.7, \"StratificationCategory1\": \"Overall\", \"Stratification1\": \"Overall\", \"StratificationCategory2\": null, \"Stratification2\": null, \"StratificationCategory3\": null, \"Stratification3\": null, \"GeoLocation\": \"POINT (-72.51764079099962 43.62538123900049)\", \"ResponseID\": null, \"LocationID\": 50, \"TopicID\": \"OVC\", \"QuestionID\": \"OVC4_1\", \"DataValueTypeID\": \"NMBR\", \"StratificationCategoryID1\": \"OVERALL\", \"StratificationID1\": \"OVR\", \"StratificationCategoryID2\": null, \"StratificationID2\": null, \"StratificationCategoryID3\": null, \"StratificationID3\": null, \"id\": 50}, {\"YearStart\": 2001, \"YearEnd\": 2001, \"LocationAbbr\": \"MT\", \"LocationDesc\": \"Montana\", \"DataSource\": \"NVSS, Mortality\", \"Topic\": \"Overarching Conditions\", \"Question\": \"Life expectancy at birth\", \"Response\": null, \"DataValueUnit\": \"Years\", \"DataValueType\": \"Number\", \"DataValue\": 77.7, \"DataValueAlt\": 77.7, \"DataValueFootnoteSymbol\": NaN, \"DatavalueFootnote\": NaN, \"LowConfidenceLimit\": null, \"HighConfidenceLimit\": null, \"StratificationCategory1\": \"Overall\", \"Stratification1\": \"Overall\", \"StratificationCategory2\": null, \"Stratification2\": null, \"StratificationCategory3\": null, \"Stratification3\": null, \"GeoLocation\": \"POINT (-109.42442064499971 47.06652897200047)\", \"ResponseID\": null, \"LocationID\": 30, \"TopicID\": \"OVC\", \"QuestionID\": \"OVC4_1\", \"DataValueTypeID\": \"NMBR\", \"StratificationCategoryID1\": \"OVERALL\", \"StratificationID1\": \"OVR\", \"StratificationCategoryID2\": null, \"StratificationID2\": null, \"StratificationCategoryID3\": null, \"StratificationID3\": null, \"id\": 30}, {\"YearStart\": 2001, \"YearEnd\": 2001, \"LocationAbbr\": \"MO\", \"LocationDesc\": \"Missouri\", \"DataSource\": \"NVSS, Mortality\", \"Topic\": \"Overarching Conditions\", \"Question\": \"Life expectancy at birth\", \"Response\": null, \"DataValueUnit\": \"Years\", \"DataValueType\": \"Number\", \"DataValue\": 76.5, \"DataValueAlt\": 76.5, \"DataValueFootnoteSymbol\": NaN, \"DatavalueFootnote\": NaN, \"LowConfidenceLimit\": null, \"HighConfidenceLimit\": null, \"StratificationCategory1\": \"Overall\", \"Stratification1\": \"Overall\", \"StratificationCategory2\": null, \"Stratification2\": null, \"StratificationCategory3\": null, \"Stratification3\": null, \"GeoLocation\": \"POINT (-92.56630005299968 38.635790776000476)\", \"ResponseID\": null, \"LocationID\": 29, \"TopicID\": \"OVC\", \"QuestionID\": \"OVC4_1\", \"DataValueTypeID\": \"NMBR\", \"StratificationCategoryID1\": \"OVERALL\", \"StratificationID1\": \"OVR\", \"StratificationCategoryID2\": null, \"StratificationID2\": null, \"StratificationCategoryID3\": null, \"StratificationID3\": null, \"id\": 29}, {\"YearStart\": 2020, \"YearEnd\": 2020, \"LocationAbbr\": \"WA\", \"LocationDesc\": \"Washington\", \"DataSource\": \"NVSS, Mortality\", \"Topic\": \"Overarching Conditions\", \"Question\": \"Life expectancy at birth\", \"Response\": null, \"DataValueUnit\": \"Years\", \"DataValueType\": \"Number\", \"DataValue\": 79.2, \"DataValueAlt\": 79.2, \"DataValueFootnoteSymbol\": NaN, \"DatavalueFootnote\": NaN, \"LowConfidenceLimit\": 79.1, \"HighConfidenceLimit\": 79.3, \"StratificationCategory1\": \"Overall\", \"Stratification1\": \"Overall\", \"StratificationCategory2\": null, \"Stratification2\": null, \"StratificationCategory3\": null, \"Stratification3\": null, \"GeoLocation\": \"POINT (-120.47001078999972 47.52227862900048)\", \"ResponseID\": null, \"LocationID\": 53, \"TopicID\": \"OVC\", \"QuestionID\": \"OVC4_1\", \"DataValueTypeID\": \"NMBR\", \"StratificationCategoryID1\": \"OVERALL\", \"StratificationID1\": \"OVR\", \"StratificationCategoryID2\": null, \"StratificationID2\": null, \"StratificationCategoryID3\": null, \"StratificationID3\": null, \"id\": 53}, {\"YearStart\": 2020, \"YearEnd\": 2020, \"LocationAbbr\": \"TN\", \"LocationDesc\": \"Tennessee\", \"DataSource\": \"NVSS, Mortality\", \"Topic\": \"Overarching Conditions\", \"Question\": \"Life expectancy at birth\", \"Response\": null, \"DataValueUnit\": \"Years\", \"DataValueType\": \"Number\", \"DataValue\": 73.8, \"DataValueAlt\": 73.8, \"DataValueFootnoteSymbol\": NaN, \"DatavalueFootnote\": NaN, \"LowConfidenceLimit\": 73.7, \"HighConfidenceLimit\": 73.9, \"StratificationCategory1\": \"Overall\", \"Stratification1\": \"Overall\", \"StratificationCategory2\": null, \"Stratification2\": null, \"StratificationCategory3\": null, \"Stratification3\": null, \"GeoLocation\": \"POINT (-85.77449091399967 35.68094058000048)\", \"ResponseID\": null, \"LocationID\": 47, \"TopicID\": \"OVC\", \"QuestionID\": \"OVC4_1\", \"DataValueTypeID\": \"NMBR\", \"StratificationCategoryID1\": \"OVERALL\", \"StratificationID1\": \"OVR\", \"StratificationCategoryID2\": null, \"StratificationID2\": null, \"StratificationCategoryID3\": null, \"StratificationID3\": null, \"id\": 47}, {\"YearStart\": 2020, \"YearEnd\": 2020, \"LocationAbbr\": \"GA\", \"LocationDesc\": \"Georgia\", \"DataSource\": \"NVSS, Mortality\", \"Topic\": \"Overarching Conditions\", \"Question\": \"Life expectancy at birth\", \"Response\": null, \"DataValueUnit\": \"Years\", \"DataValueType\": \"Number\", \"DataValue\": 75.6, \"DataValueAlt\": 75.6, \"DataValueFootnoteSymbol\": NaN, \"DatavalueFootnote\": NaN, \"LowConfidenceLimit\": 75.5, \"HighConfidenceLimit\": 75.7, \"StratificationCategory1\": \"Overall\", \"Stratification1\": \"Overall\", \"StratificationCategory2\": null, \"Stratification2\": null, \"StratificationCategory3\": null, \"Stratification3\": null, \"GeoLocation\": \"POINT (-83.62758034599966 32.83968109300048)\", \"ResponseID\": null, \"LocationID\": 13, \"TopicID\": \"OVC\", \"QuestionID\": \"OVC4_1\", \"DataValueTypeID\": \"NMBR\", \"StratificationCategoryID1\": \"OVERALL\", \"StratificationID1\": \"OVR\", \"StratificationCategoryID2\": null, \"StratificationID2\": null, \"StratificationCategoryID3\": null, \"StratificationID3\": null, \"id\": 13}, {\"YearStart\": 2001, \"YearEnd\": 2001, \"LocationAbbr\": \"AK\", \"LocationDesc\": \"Alaska\", \"DataSource\": \"NVSS, Mortality\", \"Topic\": \"Overarching Conditions\", \"Question\": \"Life expectancy at birth\", \"Response\": null, \"DataValueUnit\": \"Years\", \"DataValueType\": \"Number\", \"DataValue\": 76.6, \"DataValueAlt\": 76.6, \"DataValueFootnoteSymbol\": NaN, \"DatavalueFootnote\": NaN, \"LowConfidenceLimit\": null, \"HighConfidenceLimit\": null, \"StratificationCategory1\": \"Overall\", \"Stratification1\": \"Overall\", \"StratificationCategory2\": null, \"Stratification2\": null, \"StratificationCategory3\": null, \"Stratification3\": null, \"GeoLocation\": \"POINT (-147.72205903599973 64.84507995700051)\", \"ResponseID\": null, \"LocationID\": 2, \"TopicID\": \"OVC\", \"QuestionID\": \"OVC4_1\", \"DataValueTypeID\": \"NMBR\", \"StratificationCategoryID1\": \"OVERALL\", \"StratificationID1\": \"OVR\", \"StratificationCategoryID2\": null, \"StratificationID2\": null, \"StratificationCategoryID3\": null, \"StratificationID3\": null, \"id\": 2}, {\"YearStart\": 2019, \"YearEnd\": 2019, \"LocationAbbr\": \"MN\", \"LocationDesc\": \"Minnesota\", \"DataSource\": \"NVSS, Mortality\", \"Topic\": \"Overarching Conditions\", \"Question\": \"Life expectancy at birth\", \"Response\": null, \"DataValueUnit\": \"Years\", \"DataValueType\": \"Number\", \"DataValue\": 80.4, \"DataValueAlt\": 80.4, \"DataValueFootnoteSymbol\": NaN, \"DatavalueFootnote\": NaN, \"LowConfidenceLimit\": 80.3, \"HighConfidenceLimit\": 80.5, \"StratificationCategory1\": \"Overall\", \"Stratification1\": \"Overall\", \"StratificationCategory2\": null, \"Stratification2\": null, \"StratificationCategory3\": null, \"Stratification3\": null, \"GeoLocation\": \"POINT (-94.79420050299967 46.35564873600049)\", \"ResponseID\": null, \"LocationID\": 27, \"TopicID\": \"OVC\", \"QuestionID\": \"OVC4_1\", \"DataValueTypeID\": \"NMBR\", \"StratificationCategoryID1\": \"OVERALL\", \"StratificationID1\": \"OVR\", \"StratificationCategoryID2\": null, \"StratificationID2\": null, \"StratificationCategoryID3\": null, \"StratificationID3\": null, \"id\": 27}, {\"YearStart\": 2009, \"YearEnd\": 2009, \"LocationAbbr\": \"MD\", \"LocationDesc\": \"Maryland\", \"DataSource\": \"NVSS, Mortality\", \"Topic\": \"Overarching Conditions\", \"Question\": \"Life expectancy at birth\", \"Response\": null, \"DataValueUnit\": \"Years\", \"DataValueType\": \"Number\", \"DataValue\": 78.8, \"DataValueAlt\": 78.8, \"DataValueFootnoteSymbol\": NaN, \"DatavalueFootnote\": NaN, \"LowConfidenceLimit\": null, \"HighConfidenceLimit\": null, \"StratificationCategory1\": \"Overall\", \"Stratification1\": \"Overall\", \"StratificationCategory2\": null, \"Stratification2\": null, \"StratificationCategory3\": null, \"Stratification3\": null, \"GeoLocation\": \"POINT (-76.60926011099963 39.29058096400047)\", \"ResponseID\": null, \"LocationID\": 24, \"TopicID\": \"OVC\", \"QuestionID\": \"OVC4_1\", \"DataValueTypeID\": \"NMBR\", \"StratificationCategoryID1\": \"OVERALL\", \"StratificationID1\": \"OVR\", \"StratificationCategoryID2\": null, \"StratificationID2\": null, \"StratificationCategoryID3\": null, \"StratificationID3\": null, \"id\": 24}]}}, {\"mode\": \"vega-lite\"});\n",
       "</script>"
      ],
      "text/plain": [
       "alt.LayerChart(...)"
      ]
     },
     "execution_count": 5,
     "metadata": {},
     "output_type": "execute_result"
    }
   ],
   "source": [
    "variable = \"Life expectancy at birth\"\n",
    "datatype = \"Number\"\n",
    "stratification = \"Overall\"\n",
    "dataframe = cdi.head()\n",
    "hdcd.plot_geomap(variable,\n",
    "                datatype,\n",
    "                stratification,\n",
    "                dataframe,\n",
    "                width=720,\n",
    "                height=720,\n",
    "                )"
   ]
  },
  {
   "cell_type": "code",
   "execution_count": 16,
   "id": "982b4f60-c903-4731-8c51-1373b6fd0c2e",
   "metadata": {},
   "outputs": [
    {
     "data": {
      "text/plain": [
       "['Race/Ethnicity', 'Gender', 'Gender', 'Race/Ethnicity', 'Gender']"
      ]
     },
     "execution_count": 16,
     "metadata": {},
     "output_type": "execute_result"
    }
   ],
   "source": [
    "dataframe[\"StratificationCategory1\"].tolist()"
   ]
  },
  {
   "cell_type": "code",
   "execution_count": 17,
   "id": "2d35a893-772b-4487-a1a4-aaaa931cd266",
   "metadata": {},
   "outputs": [
    {
     "ename": "TypeError",
     "evalue": "All value in the DataValue column can not be coerced into numeric or contains NAs, try to clean it before analyzing.",
     "output_type": "error",
     "traceback": [
      "\u001b[0;31m---------------------------------------------------------------------------\u001b[0m",
      "\u001b[0;31mTypeError\u001b[0m                                 Traceback (most recent call last)",
      "Cell \u001b[0;32mIn[17], line 11\u001b[0m\n\u001b[1;32m      5\u001b[0m dataframe \u001b[38;5;241m=\u001b[39m cdi\u001b[38;5;241m.\u001b[39mhead()\n\u001b[1;32m      6\u001b[0m dataframe[\u001b[38;5;124m\"\u001b[39m\u001b[38;5;124mDataValue\u001b[39m\u001b[38;5;124m\"\u001b[39m] \u001b[38;5;241m=\u001b[39m [\u001b[38;5;124m\"\u001b[39m\u001b[38;5;124ma\u001b[39m\u001b[38;5;124m\"\u001b[39m,\n\u001b[1;32m      7\u001b[0m                           \u001b[38;5;124m\"\u001b[39m\u001b[38;5;124md\u001b[39m\u001b[38;5;124m\"\u001b[39m,\n\u001b[1;32m      8\u001b[0m                           \u001b[38;5;124m\"\u001b[39m\u001b[38;5;124ma\u001b[39m\u001b[38;5;124m\"\u001b[39m,\n\u001b[1;32m      9\u001b[0m                           \u001b[38;5;124m\"\u001b[39m\u001b[38;5;124mdd\u001b[39m\u001b[38;5;124m\"\u001b[39m,\n\u001b[1;32m     10\u001b[0m                           \u001b[38;5;124m\"\u001b[39m\u001b[38;5;124msec\u001b[39m\u001b[38;5;124m\"\u001b[39m]\n\u001b[0;32m---> 11\u001b[0m \u001b[43mhdcd\u001b[49m\u001b[38;5;241;43m.\u001b[39;49m\u001b[43mplot_geomap\u001b[49m\u001b[43m(\u001b[49m\u001b[43mvariable\u001b[49m\u001b[43m,\u001b[49m\n\u001b[1;32m     12\u001b[0m \u001b[43m                \u001b[49m\u001b[43mdatatype\u001b[49m\u001b[43m,\u001b[49m\n\u001b[1;32m     13\u001b[0m \u001b[43m                \u001b[49m\u001b[43mstratification\u001b[49m\u001b[43m,\u001b[49m\n\u001b[1;32m     14\u001b[0m \u001b[43m                \u001b[49m\u001b[43mdataframe\u001b[49m\u001b[43m,\u001b[49m\n\u001b[1;32m     15\u001b[0m \u001b[43m                \u001b[49m\u001b[43mwidth\u001b[49m\u001b[38;5;241;43m=\u001b[39;49m\u001b[38;5;241;43m720\u001b[39;49m\u001b[43m,\u001b[49m\n\u001b[1;32m     16\u001b[0m \u001b[43m                \u001b[49m\u001b[43mheight\u001b[49m\u001b[38;5;241;43m=\u001b[39;49m\u001b[38;5;241;43m720\u001b[39;49m\u001b[43m,\u001b[49m\n\u001b[1;32m     17\u001b[0m \u001b[43m                \u001b[49m\u001b[43m)\u001b[49m\n",
      "File \u001b[0;32m~/Data/course/cse583/hw0/Project_Test/hdcd/plot.py:185\u001b[0m, in \u001b[0;36mplot_geomap\u001b[0;34m(variable, datatype, stratification, dataframe, color_scheme, width, height)\u001b[0m\n\u001b[1;32m    182\u001b[0m     \u001b[38;5;66;03m# datatype\u001b[39;00m\n\u001b[1;32m    183\u001b[0m     \u001b[38;5;28;01mif\u001b[39;00m \u001b[38;5;28mall\u001b[39m( \u001b[38;5;129;01mnot\u001b[39;00m \u001b[38;5;28mstr\u001b[39m(x)\u001b[38;5;241m.\u001b[39mreplace(\u001b[38;5;124m\"\u001b[39m\u001b[38;5;124m.\u001b[39m\u001b[38;5;124m\"\u001b[39m,\u001b[38;5;124m\"\u001b[39m\u001b[38;5;124m\"\u001b[39m)\u001b[38;5;241m.\u001b[39misdigit() \\\n\u001b[1;32m    184\u001b[0m         \u001b[38;5;28;01mfor\u001b[39;00m x \u001b[38;5;129;01min\u001b[39;00m dataframeplot[\u001b[38;5;124m\"\u001b[39m\u001b[38;5;124mDataValue\u001b[39m\u001b[38;5;124m\"\u001b[39m]\u001b[38;5;241m.\u001b[39mtolist()):\n\u001b[0;32m--> 185\u001b[0m         \u001b[38;5;28;01mraise\u001b[39;00m \u001b[38;5;167;01mTypeError\u001b[39;00m(\u001b[38;5;124m\"\u001b[39m\u001b[38;5;124mAll value in the DataValue column can not be coerced \u001b[39m\u001b[38;5;130;01m\\\u001b[39;00m\n\u001b[1;32m    186\u001b[0m \u001b[38;5;124minto numeric or contains NAs, try to clean it before analyzing.\u001b[39m\u001b[38;5;124m\"\u001b[39m)\n\u001b[1;32m    188\u001b[0m     dataframeplot \u001b[38;5;241m=\u001b[39m dataframeplot[dataframeplot[\u001b[38;5;124m\"\u001b[39m\u001b[38;5;124mDataValueType\u001b[39m\u001b[38;5;124m\"\u001b[39m] \u001b[38;5;241m==\u001b[39m datatype]\n\u001b[1;32m    189\u001b[0m     dataframeplot[\u001b[38;5;124m\"\u001b[39m\u001b[38;5;124mDataValue\u001b[39m\u001b[38;5;124m\"\u001b[39m] \u001b[38;5;241m=\u001b[39m dataframeplot[\u001b[38;5;124m\"\u001b[39m\u001b[38;5;124mDataValue\u001b[39m\u001b[38;5;124m\"\u001b[39m]\u001b[38;5;241m.\u001b[39mastype(\u001b[38;5;28mfloat\u001b[39m)\n",
      "\u001b[0;31mTypeError\u001b[0m: All value in the DataValue column can not be coerced into numeric or contains NAs, try to clean it before analyzing."
     ]
    }
   ],
   "source": [
    "variable = \"Mortality from heart failure\"\n",
    "datatype = \"Crude Prevalence\"\n",
    "stratification = \"Gender\"\n",
    "\n",
    "dataframe = cdi.head()\n",
    "dataframe[\"DataValue\"] = [\"a\",\n",
    "                          \"d\",\n",
    "                          \"a\",\n",
    "                          \"dd\",\n",
    "                          \"sec\"]\n",
    "hdcd.plot_geomap(variable,\n",
    "                datatype,\n",
    "                stratification,\n",
    "                dataframe,\n",
    "                width=720,\n",
    "                height=720,\n",
    "                )"
   ]
  },
  {
   "cell_type": "code",
   "execution_count": 25,
   "id": "32e7683d-c90f-4a55-ace8-d9ccb6d7cf6a",
   "metadata": {
    "scrolled": true
   },
   "outputs": [
    {
     "data": {
      "text/plain": [
       "array(['Number'], dtype=object)"
      ]
     },
     "execution_count": 25,
     "metadata": {},
     "output_type": "execute_result"
    }
   ],
   "source": [
    "variable = \"Life expectancy at birth\"\n",
    "cdi[cdi[\"Question\"] == variable][\"DataValueType\"].unique()"
   ]
  },
  {
   "cell_type": "code",
   "execution_count": 24,
   "id": "e55c2776-49a8-455e-9f82-aa5e85f3ce40",
   "metadata": {},
   "outputs": [
    {
     "name": "stdout",
     "output_type": "stream",
     "text": [
      "variable units including ['Number']\n",
      "numbers of geo-location (states) have data available: 52/52\n",
      "numbers of unique years have data available: 5, from 2001 to 2020\n"
     ]
    }
   ],
   "source": [
    "variable = \"Life expectancy at birth\"\n",
    "hdcd.variable_summary(variable,cdi)"
   ]
  },
  {
   "cell_type": "code",
   "execution_count": 244,
   "id": "063f8e01",
   "metadata": {
    "scrolled": true
   },
   "outputs": [
    {
     "data": {
      "text/plain": [
       "Topic\n",
       "Cancer                                             176339\n",
       "Cardiovascular Disease                             157750\n",
       "Diabetes                                           156808\n",
       "Chronic Obstructive Pulmonary Disease              152874\n",
       "Asthma                                              80342\n",
       "Arthritis                                           78300\n",
       "Nutrition, Physical Activity, and Weight Status     75418\n",
       "Overarching Conditions                              73260\n",
       "Alcohol                                             66091\n",
       "Tobacco                                             59396\n",
       "Older Adults                                        26316\n",
       "Chronic Kidney Disease                              24731\n",
       "Oral Health                                         22273\n",
       "Mental Health                                       13200\n",
       "Immunization                                         9570\n",
       "Reproductive Health                                  9086\n",
       "Disability                                           3922\n",
       "Name: count, dtype: int64"
      ]
     },
     "execution_count": 244,
     "metadata": {},
     "output_type": "execute_result"
    }
   ],
   "source": [
    "cdi[\"Topic\"].value_counts()"
   ]
  },
  {
   "cell_type": "code",
   "execution_count": 120,
   "id": "5a455f61",
   "metadata": {
    "scrolled": true
   },
   "outputs": [
    {
     "data": {
      "text/plain": [
       "['YearStart',\n",
       " 'YearEnd',\n",
       " 'LocationAbbr',\n",
       " 'LocationDesc',\n",
       " 'DataSource',\n",
       " 'Topic',\n",
       " 'Question',\n",
       " 'Response',\n",
       " 'DataValueUnit',\n",
       " 'DataValueType',\n",
       " 'DataValue',\n",
       " 'DataValueAlt',\n",
       " 'DataValueFootnoteSymbol',\n",
       " 'DatavalueFootnote',\n",
       " 'LowConfidenceLimit',\n",
       " 'HighConfidenceLimit',\n",
       " 'StratificationCategory1',\n",
       " 'Stratification1',\n",
       " 'StratificationCategory2',\n",
       " 'Stratification2',\n",
       " 'StratificationCategory3',\n",
       " 'Stratification3',\n",
       " 'GeoLocation',\n",
       " 'ResponseID',\n",
       " 'LocationID',\n",
       " 'TopicID',\n",
       " 'QuestionID',\n",
       " 'DataValueTypeID',\n",
       " 'StratificationCategoryID1',\n",
       " 'StratificationID1',\n",
       " 'StratificationCategoryID2',\n",
       " 'StratificationID2',\n",
       " 'StratificationCategoryID3',\n",
       " 'StratificationID3']"
      ]
     },
     "execution_count": 120,
     "metadata": {},
     "output_type": "execute_result"
    }
   ],
   "source": [
    "cdi.columns.tolist()"
   ]
  },
  {
   "cell_type": "code",
   "execution_count": 122,
   "id": "1f663311",
   "metadata": {},
   "outputs": [
    {
     "data": {
      "text/plain": [
       "array(['Cardiovascular Disease', 'Alcohol', 'Arthritis', 'Asthma',\n",
       "       'Cancer', 'Chronic Kidney Disease',\n",
       "       'Chronic Obstructive Pulmonary Disease', 'Mental Health',\n",
       "       'Tobacco', 'Overarching Conditions', 'Oral Health',\n",
       "       'Reproductive Health', 'Diabetes', 'Immunization',\n",
       "       'Nutrition, Physical Activity, and Weight Status', 'Disability',\n",
       "       'Older Adults'], dtype=object)"
      ]
     },
     "execution_count": 122,
     "metadata": {},
     "output_type": "execute_result"
    }
   ],
   "source": [
    "cdi[\"Topic\"].unique()"
   ]
  },
  {
   "cell_type": "code",
   "execution_count": 153,
   "id": "594e4909",
   "metadata": {},
   "outputs": [],
   "source": [
    "state_list = cdi[\"LocationDesc\"].unique().tolist()\n",
    "state_list.remove(\"United States\")"
   ]
  },
  {
   "cell_type": "markdown",
   "id": "df9dbb5c",
   "metadata": {},
   "source": [
    "# General function\n",
    "- print summary statistics\n",
    "- what variables are needed:\n",
    "    - Years\n",
    "        - by numbers of counts, max and min.\n",
    "    - Topics\n",
    "        - by counts\n",
    "        - Questions, sorted by counts\n",
    "    - Stratifications\n",
    "        - categoriecal, sorted by counts"
   ]
  },
  {
   "cell_type": "code",
   "execution_count": 268,
   "id": "496db27f",
   "metadata": {},
   "outputs": [
    {
     "data": {
      "text/html": [
       "<div>\n",
       "<style scoped>\n",
       "    .dataframe tbody tr th:only-of-type {\n",
       "        vertical-align: middle;\n",
       "    }\n",
       "\n",
       "    .dataframe tbody tr th {\n",
       "        vertical-align: top;\n",
       "    }\n",
       "\n",
       "    .dataframe thead th {\n",
       "        text-align: right;\n",
       "    }\n",
       "</style>\n",
       "<table border=\"1\" class=\"dataframe\">\n",
       "  <thead>\n",
       "    <tr style=\"text-align: right;\">\n",
       "      <th></th>\n",
       "      <th>YearStart</th>\n",
       "      <th>YearEnd</th>\n",
       "      <th>Response</th>\n",
       "      <th>DataValueAlt</th>\n",
       "      <th>LowConfidenceLimit</th>\n",
       "      <th>HighConfidenceLimit</th>\n",
       "      <th>StratificationCategory2</th>\n",
       "      <th>Stratification2</th>\n",
       "      <th>StratificationCategory3</th>\n",
       "      <th>Stratification3</th>\n",
       "      <th>ResponseID</th>\n",
       "      <th>LocationID</th>\n",
       "      <th>StratificationCategoryID2</th>\n",
       "      <th>StratificationID2</th>\n",
       "      <th>StratificationCategoryID3</th>\n",
       "      <th>StratificationID3</th>\n",
       "    </tr>\n",
       "  </thead>\n",
       "  <tbody>\n",
       "    <tr>\n",
       "      <th>count</th>\n",
       "      <td>1.185676e+06</td>\n",
       "      <td>1.185676e+06</td>\n",
       "      <td>0.0</td>\n",
       "      <td>8.045780e+05</td>\n",
       "      <td>682380.000000</td>\n",
       "      <td>682380.000000</td>\n",
       "      <td>0.0</td>\n",
       "      <td>0.0</td>\n",
       "      <td>0.0</td>\n",
       "      <td>0.0</td>\n",
       "      <td>0.0</td>\n",
       "      <td>1.185676e+06</td>\n",
       "      <td>0.0</td>\n",
       "      <td>0.0</td>\n",
       "      <td>0.0</td>\n",
       "      <td>0.0</td>\n",
       "    </tr>\n",
       "    <tr>\n",
       "      <th>mean</th>\n",
       "      <td>2.015103e+03</td>\n",
       "      <td>2.015643e+03</td>\n",
       "      <td>NaN</td>\n",
       "      <td>1.005325e+03</td>\n",
       "      <td>50.264623</td>\n",
       "      <td>61.873881</td>\n",
       "      <td>NaN</td>\n",
       "      <td>NaN</td>\n",
       "      <td>NaN</td>\n",
       "      <td>NaN</td>\n",
       "      <td>NaN</td>\n",
       "      <td>3.078907e+01</td>\n",
       "      <td>NaN</td>\n",
       "      <td>NaN</td>\n",
       "      <td>NaN</td>\n",
       "      <td>NaN</td>\n",
       "    </tr>\n",
       "    <tr>\n",
       "      <th>std</th>\n",
       "      <td>3.320259e+00</td>\n",
       "      <td>3.001197e+00</td>\n",
       "      <td>NaN</td>\n",
       "      <td>1.880433e+04</td>\n",
       "      <td>89.004848</td>\n",
       "      <td>100.104303</td>\n",
       "      <td>NaN</td>\n",
       "      <td>NaN</td>\n",
       "      <td>NaN</td>\n",
       "      <td>NaN</td>\n",
       "      <td>NaN</td>\n",
       "      <td>1.750972e+01</td>\n",
       "      <td>NaN</td>\n",
       "      <td>NaN</td>\n",
       "      <td>NaN</td>\n",
       "      <td>NaN</td>\n",
       "    </tr>\n",
       "    <tr>\n",
       "      <th>min</th>\n",
       "      <td>2.001000e+03</td>\n",
       "      <td>2.001000e+03</td>\n",
       "      <td>NaN</td>\n",
       "      <td>0.000000e+00</td>\n",
       "      <td>0.000000</td>\n",
       "      <td>0.000000</td>\n",
       "      <td>NaN</td>\n",
       "      <td>NaN</td>\n",
       "      <td>NaN</td>\n",
       "      <td>NaN</td>\n",
       "      <td>NaN</td>\n",
       "      <td>1.000000e+00</td>\n",
       "      <td>NaN</td>\n",
       "      <td>NaN</td>\n",
       "      <td>NaN</td>\n",
       "      <td>NaN</td>\n",
       "    </tr>\n",
       "    <tr>\n",
       "      <th>25%</th>\n",
       "      <td>2.013000e+03</td>\n",
       "      <td>2.013000e+03</td>\n",
       "      <td>NaN</td>\n",
       "      <td>1.610000e+01</td>\n",
       "      <td>11.000000</td>\n",
       "      <td>16.300000</td>\n",
       "      <td>NaN</td>\n",
       "      <td>NaN</td>\n",
       "      <td>NaN</td>\n",
       "      <td>NaN</td>\n",
       "      <td>NaN</td>\n",
       "      <td>1.700000e+01</td>\n",
       "      <td>NaN</td>\n",
       "      <td>NaN</td>\n",
       "      <td>NaN</td>\n",
       "      <td>NaN</td>\n",
       "    </tr>\n",
       "    <tr>\n",
       "      <th>50%</th>\n",
       "      <td>2.015000e+03</td>\n",
       "      <td>2.016000e+03</td>\n",
       "      <td>NaN</td>\n",
       "      <td>4.000000e+01</td>\n",
       "      <td>28.500000</td>\n",
       "      <td>41.000000</td>\n",
       "      <td>NaN</td>\n",
       "      <td>NaN</td>\n",
       "      <td>NaN</td>\n",
       "      <td>NaN</td>\n",
       "      <td>NaN</td>\n",
       "      <td>3.000000e+01</td>\n",
       "      <td>NaN</td>\n",
       "      <td>NaN</td>\n",
       "      <td>NaN</td>\n",
       "      <td>NaN</td>\n",
       "    </tr>\n",
       "    <tr>\n",
       "      <th>75%</th>\n",
       "      <td>2.018000e+03</td>\n",
       "      <td>2.018000e+03</td>\n",
       "      <td>NaN</td>\n",
       "      <td>7.600000e+01</td>\n",
       "      <td>56.300000</td>\n",
       "      <td>71.100000</td>\n",
       "      <td>NaN</td>\n",
       "      <td>NaN</td>\n",
       "      <td>NaN</td>\n",
       "      <td>NaN</td>\n",
       "      <td>NaN</td>\n",
       "      <td>4.500000e+01</td>\n",
       "      <td>NaN</td>\n",
       "      <td>NaN</td>\n",
       "      <td>NaN</td>\n",
       "      <td>NaN</td>\n",
       "    </tr>\n",
       "    <tr>\n",
       "      <th>max</th>\n",
       "      <td>2.021000e+03</td>\n",
       "      <td>2.021000e+03</td>\n",
       "      <td>NaN</td>\n",
       "      <td>2.925456e+06</td>\n",
       "      <td>2541.600000</td>\n",
       "      <td>3530.500000</td>\n",
       "      <td>NaN</td>\n",
       "      <td>NaN</td>\n",
       "      <td>NaN</td>\n",
       "      <td>NaN</td>\n",
       "      <td>NaN</td>\n",
       "      <td>7.800000e+01</td>\n",
       "      <td>NaN</td>\n",
       "      <td>NaN</td>\n",
       "      <td>NaN</td>\n",
       "      <td>NaN</td>\n",
       "    </tr>\n",
       "  </tbody>\n",
       "</table>\n",
       "</div>"
      ],
      "text/plain": [
       "          YearStart       YearEnd  Response  DataValueAlt  LowConfidenceLimit  \\\n",
       "count  1.185676e+06  1.185676e+06       0.0  8.045780e+05       682380.000000   \n",
       "mean   2.015103e+03  2.015643e+03       NaN  1.005325e+03           50.264623   \n",
       "std    3.320259e+00  3.001197e+00       NaN  1.880433e+04           89.004848   \n",
       "min    2.001000e+03  2.001000e+03       NaN  0.000000e+00            0.000000   \n",
       "25%    2.013000e+03  2.013000e+03       NaN  1.610000e+01           11.000000   \n",
       "50%    2.015000e+03  2.016000e+03       NaN  4.000000e+01           28.500000   \n",
       "75%    2.018000e+03  2.018000e+03       NaN  7.600000e+01           56.300000   \n",
       "max    2.021000e+03  2.021000e+03       NaN  2.925456e+06         2541.600000   \n",
       "\n",
       "       HighConfidenceLimit  StratificationCategory2  Stratification2  \\\n",
       "count        682380.000000                      0.0              0.0   \n",
       "mean             61.873881                      NaN              NaN   \n",
       "std             100.104303                      NaN              NaN   \n",
       "min               0.000000                      NaN              NaN   \n",
       "25%              16.300000                      NaN              NaN   \n",
       "50%              41.000000                      NaN              NaN   \n",
       "75%              71.100000                      NaN              NaN   \n",
       "max            3530.500000                      NaN              NaN   \n",
       "\n",
       "       StratificationCategory3  Stratification3  ResponseID    LocationID  \\\n",
       "count                      0.0              0.0         0.0  1.185676e+06   \n",
       "mean                       NaN              NaN         NaN  3.078907e+01   \n",
       "std                        NaN              NaN         NaN  1.750972e+01   \n",
       "min                        NaN              NaN         NaN  1.000000e+00   \n",
       "25%                        NaN              NaN         NaN  1.700000e+01   \n",
       "50%                        NaN              NaN         NaN  3.000000e+01   \n",
       "75%                        NaN              NaN         NaN  4.500000e+01   \n",
       "max                        NaN              NaN         NaN  7.800000e+01   \n",
       "\n",
       "       StratificationCategoryID2  StratificationID2  \\\n",
       "count                        0.0                0.0   \n",
       "mean                         NaN                NaN   \n",
       "std                          NaN                NaN   \n",
       "min                          NaN                NaN   \n",
       "25%                          NaN                NaN   \n",
       "50%                          NaN                NaN   \n",
       "75%                          NaN                NaN   \n",
       "max                          NaN                NaN   \n",
       "\n",
       "       StratificationCategoryID3  StratificationID3  \n",
       "count                        0.0                0.0  \n",
       "mean                         NaN                NaN  \n",
       "std                          NaN                NaN  \n",
       "min                          NaN                NaN  \n",
       "25%                          NaN                NaN  \n",
       "50%                          NaN                NaN  \n",
       "75%                          NaN                NaN  \n",
       "max                          NaN                NaN  "
      ]
     },
     "execution_count": 268,
     "metadata": {},
     "output_type": "execute_result"
    }
   ],
   "source": [
    "cdi.describe()"
   ]
  },
  {
   "cell_type": "markdown",
   "id": "a5e51261",
   "metadata": {},
   "source": [
    "# Use case 1\n",
    "- visualization a health outcome of interest and identification of patterns\n",
    "    - Use data longitudinally or by State\n",
    "    - need to give a list of health outcome as selection\n",
    "    - give a list of related behavior/factor as comparison"
   ]
  },
  {
   "cell_type": "code",
   "execution_count": 171,
   "id": "b67cd67c",
   "metadata": {
    "scrolled": true
   },
   "outputs": [
    {
     "data": {
      "text/plain": [
       "array(['RACE', 'GENDER', 'OVERALL'], dtype=object)"
      ]
     },
     "execution_count": 171,
     "metadata": {},
     "output_type": "execute_result"
    }
   ],
   "source": [
    "cdi[\"StratificationCategoryID1\"].unique()"
   ]
  },
  {
   "cell_type": "code",
   "execution_count": 187,
   "id": "bada5fba",
   "metadata": {
    "scrolled": true
   },
   "outputs": [
    {
     "name": "stdout",
     "output_type": "stream",
     "text": [
      "['Number']\n"
     ]
    }
   ],
   "source": [
    "data_analysis = cdi[(cdi[\"Question\"] == \"Life expectancy at birth\") & (cdi[\"StratificationCategoryID1\"] == \"OVERALL\")]\n",
    "print(data_analysis[\"DataValueType\"].unique())\n",
    "\n",
    "#print(data_analysis[\"GeoLocation\"].unique())\n",
    "#state_list\n",
    "\n",
    "v1 = data_analysis.groupby([\"LocationAbbr\",\"YearStart\"])[\"DataValue\"].mean()\n",
    "v1 = pd.DataFrame({\"life_expect\":v1}).reset_index().groupby(\"LocationAbbr\")[\"life_expect\"].mean()"
   ]
  },
  {
   "cell_type": "code",
   "execution_count": 192,
   "id": "66cb89f4",
   "metadata": {
    "scrolled": true
   },
   "outputs": [
    {
     "name": "stdout",
     "output_type": "stream",
     "text": [
      "['Age-adjusted Mean' 'Mean']\n"
     ]
    },
    {
     "name": "stderr",
     "output_type": "stream",
     "text": [
      "/var/folders/yq/x6shc62d4rlg1jm8c0xh38h40000gn/T/ipykernel_88546/565626749.py:7: SettingWithCopyWarning: \n",
      "A value is trying to be set on a copy of a slice from a DataFrame.\n",
      "Try using .loc[row_indexer,col_indexer] = value instead\n",
      "\n",
      "See the caveats in the documentation: https://pandas.pydata.org/pandas-docs/stable/user_guide/indexing.html#returning-a-view-versus-a-copy\n",
      "  data_analysis[\"DataValue\"] = data_analysis[\"DataValue\"].astype(float)\n"
     ]
    }
   ],
   "source": [
    "data_analysis = cdi[(cdi[\"Question\"] == \"Recent mentally unhealthy days among adults aged >= 18 years\") & (cdi[\"StratificationCategoryID1\"] == \"OVERALL\")]\n",
    "print(data_analysis[\"DataValueType\"].unique())\n",
    "\n",
    "#print(data_analysis[\"GeoLocation\"].unique())\n",
    "#state_list\n",
    "\n",
    "data_analysis[\"DataValue\"] = data_analysis[\"DataValue\"].astype(float)\n",
    "v2 = data_analysis.groupby([\"LocationAbbr\",\"YearStart\"])[\"DataValue\"].mean()\n",
    "v2 = pd.DataFrame({\"mental\":v2}).reset_index().groupby(\"LocationAbbr\")[\"mental\"].mean()"
   ]
  },
  {
   "cell_type": "code",
   "execution_count": 198,
   "id": "199c98e8",
   "metadata": {},
   "outputs": [],
   "source": [
    "common_index = list(set(v2.index).intersection(v1.index))"
   ]
  },
  {
   "cell_type": "code",
   "execution_count": 199,
   "id": "dc87d9c1",
   "metadata": {
    "scrolled": true
   },
   "outputs": [
    {
     "name": "stderr",
     "output_type": "stream",
     "text": [
      "/var/folders/yq/x6shc62d4rlg1jm8c0xh38h40000gn/T/ipykernel_88546/4253935893.py:1: DeprecationWarning: Please use `spearmanr` from the `scipy.stats` namespace, the `scipy.stats.stats` namespace is deprecated.\n",
      "  sp.stats.spearmanr(v1.loc[common_index],\n"
     ]
    },
    {
     "data": {
      "text/plain": [
       "SignificanceResult(statistic=-0.6032447467385694, pvalue=2.209418120666681e-06)"
      ]
     },
     "execution_count": 199,
     "metadata": {},
     "output_type": "execute_result"
    }
   ],
   "source": [
    "sp.stats.spearmanr(v1.loc[common_index],\n",
    "                   v2.loc[common_index])"
   ]
  },
  {
   "cell_type": "code",
   "execution_count": 231,
   "id": "73eb80eb",
   "metadata": {
    "scrolled": true
   },
   "outputs": [
    {
     "name": "stdout",
     "output_type": "stream",
     "text": [
      "['Age-adjusted Prevalence' 'Crude Prevalence']\n"
     ]
    },
    {
     "name": "stderr",
     "output_type": "stream",
     "text": [
      "/var/folders/yq/x6shc62d4rlg1jm8c0xh38h40000gn/T/ipykernel_88546/3675262117.py:8: SettingWithCopyWarning: \n",
      "A value is trying to be set on a copy of a slice from a DataFrame.\n",
      "Try using .loc[row_indexer,col_indexer] = value instead\n",
      "\n",
      "See the caveats in the documentation: https://pandas.pydata.org/pandas-docs/stable/user_guide/indexing.html#returning-a-view-versus-a-copy\n",
      "  data_analysis[\"DataValue\"] = data_analysis[\"DataValue\"].astype(float)\n"
     ]
    }
   ],
   "source": [
    "q = 'No tooth loss among adults aged 18-64 years'\n",
    "data_analysis = cdi[(cdi[\"Question\"] == q) & (cdi[\"StratificationCategoryID1\"] == \"OVERALL\")]\n",
    "print(data_analysis[\"DataValueType\"].unique())\n",
    "\n",
    "#print(data_analysis[\"GeoLocation\"].unique())\n",
    "#state_list\n",
    "\n",
    "data_analysis[\"DataValue\"] = data_analysis[\"DataValue\"].astype(float)\n",
    "v2 = data_analysis.groupby([\"LocationAbbr\",\"YearStart\"])[\"DataValue\"].mean()\n",
    "v2 = pd.DataFrame({\"vege\":v2}).reset_index().groupby(\"LocationAbbr\")[\"vege\"].mean()"
   ]
  },
  {
   "cell_type": "code",
   "execution_count": 260,
   "id": "124994c7",
   "metadata": {
    "scrolled": true
   },
   "outputs": [],
   "source": [
    "common_index = list(set(v2.index).intersection(v1.index))\n",
    "dfplot = pd.DataFrame({v1.name:v1.loc[common_index],\n",
    "              v2.name:v2.loc[common_index]}).reset_index()"
   ]
  },
  {
   "cell_type": "code",
   "execution_count": 266,
   "id": "8cdbef22",
   "metadata": {},
   "outputs": [
    {
     "data": {
      "text/html": [
       "\n",
       "<style>\n",
       "  #altair-viz-3144791cb3944b0694d5d8976f072d05.vega-embed {\n",
       "    width: 100%;\n",
       "    display: flex;\n",
       "  }\n",
       "\n",
       "  #altair-viz-3144791cb3944b0694d5d8976f072d05.vega-embed details,\n",
       "  #altair-viz-3144791cb3944b0694d5d8976f072d05.vega-embed details summary {\n",
       "    position: relative;\n",
       "  }\n",
       "</style>\n",
       "<div id=\"altair-viz-3144791cb3944b0694d5d8976f072d05\"></div>\n",
       "<script type=\"text/javascript\">\n",
       "  var VEGA_DEBUG = (typeof VEGA_DEBUG == \"undefined\") ? {} : VEGA_DEBUG;\n",
       "  (function(spec, embedOpt){\n",
       "    let outputDiv = document.currentScript.previousElementSibling;\n",
       "    if (outputDiv.id !== \"altair-viz-3144791cb3944b0694d5d8976f072d05\") {\n",
       "      outputDiv = document.getElementById(\"altair-viz-3144791cb3944b0694d5d8976f072d05\");\n",
       "    }\n",
       "    const paths = {\n",
       "      \"vega\": \"https://cdn.jsdelivr.net/npm/vega@5?noext\",\n",
       "      \"vega-lib\": \"https://cdn.jsdelivr.net/npm/vega-lib?noext\",\n",
       "      \"vega-lite\": \"https://cdn.jsdelivr.net/npm/vega-lite@5.15.1?noext\",\n",
       "      \"vega-embed\": \"https://cdn.jsdelivr.net/npm/vega-embed@6?noext\",\n",
       "    };\n",
       "\n",
       "    function maybeLoadScript(lib, version) {\n",
       "      var key = `${lib.replace(\"-\", \"\")}_version`;\n",
       "      return (VEGA_DEBUG[key] == version) ?\n",
       "        Promise.resolve(paths[lib]) :\n",
       "        new Promise(function(resolve, reject) {\n",
       "          var s = document.createElement('script');\n",
       "          document.getElementsByTagName(\"head\")[0].appendChild(s);\n",
       "          s.async = true;\n",
       "          s.onload = () => {\n",
       "            VEGA_DEBUG[key] = version;\n",
       "            return resolve(paths[lib]);\n",
       "          };\n",
       "          s.onerror = () => reject(`Error loading script: ${paths[lib]}`);\n",
       "          s.src = paths[lib];\n",
       "        });\n",
       "    }\n",
       "\n",
       "    function showError(err) {\n",
       "      outputDiv.innerHTML = `<div class=\"error\" style=\"color:red;\">${err}</div>`;\n",
       "      throw err;\n",
       "    }\n",
       "\n",
       "    function displayChart(vegaEmbed) {\n",
       "      vegaEmbed(outputDiv, spec, embedOpt)\n",
       "        .catch(err => showError(`Javascript Error: ${err.message}<br>This usually means there's a typo in your chart specification. See the javascript console for the full traceback.`));\n",
       "    }\n",
       "\n",
       "    if(typeof define === \"function\" && define.amd) {\n",
       "      requirejs.config({paths});\n",
       "      require([\"vega-embed\"], displayChart, err => showError(`Error loading script: ${err.message}`));\n",
       "    } else {\n",
       "      maybeLoadScript(\"vega\", \"5\")\n",
       "        .then(() => maybeLoadScript(\"vega-lite\", \"5.15.1\"))\n",
       "        .then(() => maybeLoadScript(\"vega-embed\", \"6\"))\n",
       "        .catch(showError)\n",
       "        .then(() => displayChart(vegaEmbed));\n",
       "    }\n",
       "  })({\"config\": {\"view\": {\"continuousWidth\": 300, \"continuousHeight\": 300}}, \"data\": {\"name\": \"data-bfd6949e049f518efddf0d4da59c4c32\"}, \"mark\": {\"type\": \"circle\"}, \"encoding\": {\"tooltip\": [{\"field\": \"LocationAbbr\", \"type\": \"nominal\"}, {\"field\": \"life_expect\", \"type\": \"quantitative\"}], \"x\": {\"field\": \"vege\", \"scale\": {\"zero\": false}, \"type\": \"quantitative\"}, \"y\": {\"field\": \"life_expect\", \"scale\": {\"zero\": false}, \"type\": \"quantitative\"}}, \"params\": [{\"name\": \"param_7\", \"select\": {\"type\": \"interval\", \"encodings\": [\"x\", \"y\"]}, \"bind\": \"scales\"}], \"$schema\": \"https://vega.github.io/schema/vega-lite/v5.15.1.json\", \"datasets\": {\"data-bfd6949e049f518efddf0d4da59c4c32\": [{\"LocationAbbr\": \"FL\", \"life_expect\": 78.58, \"vege\": 59.980000000000004}, {\"LocationAbbr\": \"OR\", \"life_expect\": 79.14, \"vege\": 66.74}, {\"LocationAbbr\": \"PA\", \"life_expect\": 77.74, \"vege\": 62.24000000000001}, {\"LocationAbbr\": \"WA\", \"life_expect\": 79.53999999999999, \"vege\": 69.13}, {\"LocationAbbr\": \"VT\", \"life_expect\": 79.32000000000001, \"vege\": 67.35999999999999}, {\"LocationAbbr\": \"NC\", \"life_expect\": 77.08, \"vege\": 60.67}, {\"LocationAbbr\": \"WI\", \"life_expect\": 78.97999999999999, \"vege\": 69.89}, {\"LocationAbbr\": \"MD\", \"life_expect\": 77.8, \"vege\": 65.22}, {\"LocationAbbr\": \"OK\", \"life_expect\": 75.38, \"vege\": 59.8}, {\"LocationAbbr\": \"TX\", \"life_expect\": 77.8, \"vege\": 64.71000000000001}, {\"LocationAbbr\": \"MA\", \"life_expect\": 79.76, \"vege\": 65.89}, {\"LocationAbbr\": \"AL\", \"life_expect\": 74.74, \"vege\": 55.9}, {\"LocationAbbr\": \"KS\", \"life_expect\": 77.82000000000001, \"vege\": 66.63}, {\"LocationAbbr\": \"WY\", \"life_expect\": 77.4, \"vege\": 64.9}, {\"LocationAbbr\": \"MS\", \"life_expect\": 73.96, \"vege\": 51.089999999999996}, {\"LocationAbbr\": \"KY\", \"life_expect\": 75.1, \"vege\": 57.529999999999994}, {\"LocationAbbr\": \"DE\", \"life_expect\": 77.6, \"vege\": 63.989999999999995}, {\"LocationAbbr\": \"NH\", \"life_expect\": 79.32000000000001, \"vege\": 66.16}, {\"LocationAbbr\": \"MN\", \"life_expect\": 80.08, \"vege\": 71.88}, {\"LocationAbbr\": \"SD\", \"life_expect\": 78.36, \"vege\": 65.97}, {\"LocationAbbr\": \"ME\", \"life_expect\": 78.28, \"vege\": 60.64}, {\"LocationAbbr\": \"UT\", \"life_expect\": 79.4, \"vege\": 70.69}, {\"LocationAbbr\": \"MI\", \"life_expect\": 77.36, \"vege\": 64.69}, {\"LocationAbbr\": \"NJ\", \"life_expect\": 79.05999999999999, \"vege\": 63.79}, {\"LocationAbbr\": \"AR\", \"life_expect\": 75.3, \"vege\": 55.31999999999999}, {\"LocationAbbr\": \"DC\", \"life_expect\": 76.12, \"vege\": 70.12}, {\"LocationAbbr\": \"VA\", \"life_expect\": 78.34, \"vege\": 66.48}, {\"LocationAbbr\": \"HI\", \"life_expect\": 80.82, \"vege\": 65.09}, {\"LocationAbbr\": \"US\", \"life_expect\": 78.14, \"vege\": 64.78}, {\"LocationAbbr\": \"SC\", \"life_expect\": 76.02000000000001, \"vege\": 59.660000000000004}, {\"LocationAbbr\": \"MO\", \"life_expect\": 76.52000000000001, \"vege\": 61.089999999999996}, {\"LocationAbbr\": \"NE\", \"life_expect\": 78.84, \"vege\": 69.36}, {\"LocationAbbr\": \"CT\", \"life_expect\": 79.75999999999999, \"vege\": 67.91}, {\"LocationAbbr\": \"ND\", \"life_expect\": 78.72, \"vege\": 67.42}, {\"LocationAbbr\": \"GA\", \"life_expect\": 76.54, \"vege\": 61.8}, {\"LocationAbbr\": \"NY\", \"life_expect\": 79.52, \"vege\": 61.14000000000001}, {\"LocationAbbr\": \"IN\", \"life_expect\": 76.58, \"vege\": 60.81}, {\"LocationAbbr\": \"IL\", \"life_expect\": 78.14, \"vege\": 66.11}, {\"LocationAbbr\": \"CA\", \"life_expect\": 80.05999999999999, \"vege\": 65.81}, {\"LocationAbbr\": \"AZ\", \"life_expect\": 78.32000000000001, \"vege\": 64.25}, {\"LocationAbbr\": \"WV\", \"life_expect\": 74.48, \"vege\": 50.019999999999996}, {\"LocationAbbr\": \"CO\", \"life_expect\": 79.4, \"vege\": 69.67}, {\"LocationAbbr\": \"AK\", \"life_expect\": 77.43999999999998, \"vege\": 64.83}, {\"LocationAbbr\": \"RI\", \"life_expect\": 79.22, \"vege\": 65.98}, {\"LocationAbbr\": \"ID\", \"life_expect\": 78.94000000000001, \"vege\": 66.58}, {\"LocationAbbr\": \"OH\", \"life_expect\": 76.66, \"vege\": 62.96}, {\"LocationAbbr\": \"TN\", \"life_expect\": 75.3, \"vege\": 58.83}, {\"LocationAbbr\": \"IA\", \"life_expect\": 78.84, \"vege\": 68.84}, {\"LocationAbbr\": \"NM\", \"life_expect\": 76.85999999999999, \"vege\": 62.620000000000005}, {\"LocationAbbr\": \"LA\", \"life_expect\": 74.88, \"vege\": 56.760000000000005}, {\"LocationAbbr\": \"NV\", \"life_expect\": 77.28, \"vege\": 61.02}, {\"LocationAbbr\": \"MT\", \"life_expect\": 78.02, \"vege\": 65.4}]}}, {\"mode\": \"vega-lite\"});\n",
       "</script>"
      ],
      "text/plain": [
       "alt.Chart(...)"
      ]
     },
     "execution_count": 266,
     "metadata": {},
     "output_type": "execute_result"
    }
   ],
   "source": [
    "alt.Chart(dfplot).mark_circle().encode(\n",
    "    alt.X(\"vege:Q\",scale=alt.Scale(zero=False)),\n",
    "    alt.Y(\"life_expect:Q\",scale=alt.Scale(zero=False)),\n",
    "    #color='Origin',\n",
    "    tooltip=['LocationAbbr','life_expect']\n",
    ").interactive()"
   ]
  },
  {
   "cell_type": "code",
   "execution_count": 230,
   "id": "22d6fc94",
   "metadata": {
    "scrolled": true
   },
   "outputs": [
    {
     "data": {
      "text/plain": [
       "array(['Six or more teeth lost among adults aged >= 65 years',\n",
       "       'Visits to dentist or dental clinic among adults aged >= 18 years',\n",
       "       'All teeth lost among adults aged >= 65 years',\n",
       "       'No tooth loss among adults aged 18-64 years',\n",
       "       'Preventive dental care before pregnancy',\n",
       "       'Oral health services at Federally Qualified Health Centers',\n",
       "       'Population served by community water systems that receive fluoridated drinking water',\n",
       "       'Dental visits among children and adolescents aged 1-17 years',\n",
       "       'Preventive dental visits among children and adolescents aged 1-17 years'],\n",
       "      dtype=object)"
      ]
     },
     "execution_count": 230,
     "metadata": {},
     "output_type": "execute_result"
    }
   ],
   "source": [
    "cdi[cdi[\"Topic\"] == \"Oral Health\"][\"Question\"].unique()"
   ]
  },
  {
   "cell_type": "code",
   "execution_count": 73,
   "id": "047c1957-6d29-49b4-83f0-6a3cdfee9bd6",
   "metadata": {},
   "outputs": [
    {
     "data": {
      "text/plain": [
       "array(['OK', 'OR', 'NV', 'TN', 'VA', 'PA', 'RI', 'UT', 'NY', 'ID', 'TX',\n",
       "       'WI', 'WV', 'WY', 'SC', 'MT', 'NE', 'SD', 'OH', 'VT', 'AK', 'AL',\n",
       "       'AR', 'CO', 'CT', 'DC', 'DE', 'GA', 'HI', 'IA', 'IL', 'KS', 'KY',\n",
       "       'MA', 'MD', 'MO', 'MS', 'NC', 'ND', 'NJ', 'NM', 'US', 'CA', 'ME',\n",
       "       'FL', 'IN', 'NH', 'AZ', 'MI', 'MN', 'LA', 'WA', 'PR', 'GU', 'VI'],\n",
       "      dtype=object)"
      ]
     },
     "execution_count": 73,
     "metadata": {},
     "output_type": "execute_result"
    }
   ],
   "source": [
    "cdi_dummy[\"LocationAbbr\"].unique()"
   ]
  },
  {
   "cell_type": "markdown",
   "id": "68631a85-7ffd-4446-81dd-2526ab6cc53c",
   "metadata": {},
   "source": [
    "# 500 city data"
   ]
  },
  {
   "cell_type": "code",
   "execution_count": 29,
   "id": "d3867a8c-5cc2-4703-9453-e1ecb4b75383",
   "metadata": {},
   "outputs": [],
   "source": [
    "city_data = pd.read_csv(\"/Users/suxian/Data/course/cse583/hw0/Project_Test/data/filtered_places_2020_renmCols.csv\")"
   ]
  },
  {
   "cell_type": "code",
   "execution_count": 31,
   "id": "2a5bbd76-67a2-45be-a4cb-006c787e065f",
   "metadata": {},
   "outputs": [],
   "source": [
    "city_data.rename(columns = {\"Measure\":\"Question\",\n",
    "                            \"Short_Question_Text\":\"Topic\"},inplace=True)"
   ]
  },
  {
   "cell_type": "code",
   "execution_count": 40,
   "id": "a64e2f06-9a3c-4ab9-a466-71fb170c45f5",
   "metadata": {},
   "outputs": [],
   "source": [
    "city_data[\"StratificationCategory1\"] = [\"NO\"] * len(city_data)"
   ]
  },
  {
   "cell_type": "code",
   "execution_count": 45,
   "id": "e094b7dd-e770-48d0-9312-aedf40cf44ae",
   "metadata": {},
   "outputs": [
    {
     "data": {
      "text/plain": [
       "Question\n",
       "Obesity among adults aged >=18 years    6640\n",
       "Name: count, dtype: int64"
      ]
     },
     "execution_count": 45,
     "metadata": {},
     "output_type": "execute_result"
    }
   ],
   "source": [
    "city_data[city_data[\"Topic\"] == \"Obesity\"][\"Question\"].value_counts()"
   ]
  },
  {
   "cell_type": "code",
   "execution_count": 41,
   "id": "68b60963-2e33-4e66-8aa4-7ecb416b5ff2",
   "metadata": {},
   "outputs": [
    {
     "name": "stdout",
     "output_type": "stream",
     "text": [
      "The dataframe contains 22 of columns and 185776 of rows \n",
      "\n",
      "The dataframe contains 28 topics and 28 questions \n",
      "\n",
      "The list of topics including ['Health Insurance', 'Arthritis', 'Binge Drinking', 'High Blood Pressure', 'Taking BP Medication', 'Cancer (except skin)', 'Current Asthma', 'Cervical Cancer Screening', 'Coronary Heart Disease', 'Annual Checkup', 'Cholesterol Screening', 'Colorectal Cancer Screening', 'COPD', 'Core preventive services for older men', 'Core preventive services for older women', 'Current Smoking', 'Dental Visit', 'Diabetes', 'High Cholesterol', 'Chronic Kidney Disease', 'Physical Inactivity', 'Mammography', 'Mental Health', 'Obesity', 'Physical Health', 'Sleep <7 hours', 'Stroke', 'Teeth Loss'] \n",
      "\n",
      "The stratifications of the variables including ['NO'] \n",
      "\n",
      "The set of functions and tools are designed to analyze the chronic disease index (dataframe) data from the CDC. For more information, print out the [Question] variables from the dataset and explore them under the [Topic] variable\n"
     ]
    }
   ],
   "source": [
    "hdcd.data_summary(city_data)"
   ]
  },
  {
   "cell_type": "code",
   "execution_count": 42,
   "id": "58b234c4-c4e1-4ffb-baf6-d0f72ffbddcb",
   "metadata": {},
   "outputs": [
    {
     "name": "stdout",
     "output_type": "stream",
     "text": [
      "variable units including ['Crude prevalence' 'Age-adjusted prevalence']\n",
      "numbers of geo-location (states) have data available: 51/51\n",
      "numbers of unique years have data available: 1, from 2018 to 2018\n"
     ]
    }
   ],
   "source": [
    "hdcd.variable_summary(\"Current lack of health insurance among adults aged 18-64 years\",city_data)"
   ]
  },
  {
   "cell_type": "code",
   "execution_count": 52,
   "id": "30e642ce-a76b-4dfb-9ba0-ae904cb65274",
   "metadata": {},
   "outputs": [
    {
     "data": {
      "text/html": [
       "\n",
       "<style>\n",
       "  #altair-viz-a891cc68439642a6aa16144b70f59ced.vega-embed {\n",
       "    width: 100%;\n",
       "    display: flex;\n",
       "  }\n",
       "\n",
       "  #altair-viz-a891cc68439642a6aa16144b70f59ced.vega-embed details,\n",
       "  #altair-viz-a891cc68439642a6aa16144b70f59ced.vega-embed details summary {\n",
       "    position: relative;\n",
       "  }\n",
       "</style>\n",
       "<div id=\"altair-viz-a891cc68439642a6aa16144b70f59ced\"></div>\n",
       "<script type=\"text/javascript\">\n",
       "  var VEGA_DEBUG = (typeof VEGA_DEBUG == \"undefined\") ? {} : VEGA_DEBUG;\n",
       "  (function(spec, embedOpt){\n",
       "    let outputDiv = document.currentScript.previousElementSibling;\n",
       "    if (outputDiv.id !== \"altair-viz-a891cc68439642a6aa16144b70f59ced\") {\n",
       "      outputDiv = document.getElementById(\"altair-viz-a891cc68439642a6aa16144b70f59ced\");\n",
       "    }\n",
       "    const paths = {\n",
       "      \"vega\": \"https://cdn.jsdelivr.net/npm/vega@5?noext\",\n",
       "      \"vega-lib\": \"https://cdn.jsdelivr.net/npm/vega-lib?noext\",\n",
       "      \"vega-lite\": \"https://cdn.jsdelivr.net/npm/vega-lite@5.16.3?noext\",\n",
       "      \"vega-embed\": \"https://cdn.jsdelivr.net/npm/vega-embed@6?noext\",\n",
       "    };\n",
       "\n",
       "    function maybeLoadScript(lib, version) {\n",
       "      var key = `${lib.replace(\"-\", \"\")}_version`;\n",
       "      return (VEGA_DEBUG[key] == version) ?\n",
       "        Promise.resolve(paths[lib]) :\n",
       "        new Promise(function(resolve, reject) {\n",
       "          var s = document.createElement('script');\n",
       "          document.getElementsByTagName(\"head\")[0].appendChild(s);\n",
       "          s.async = true;\n",
       "          s.onload = () => {\n",
       "            VEGA_DEBUG[key] = version;\n",
       "            return resolve(paths[lib]);\n",
       "          };\n",
       "          s.onerror = () => reject(`Error loading script: ${paths[lib]}`);\n",
       "          s.src = paths[lib];\n",
       "        });\n",
       "    }\n",
       "\n",
       "    function showError(err) {\n",
       "      outputDiv.innerHTML = `<div class=\"error\" style=\"color:red;\">${err}</div>`;\n",
       "      throw err;\n",
       "    }\n",
       "\n",
       "    function displayChart(vegaEmbed) {\n",
       "      vegaEmbed(outputDiv, spec, embedOpt)\n",
       "        .catch(err => showError(`Javascript Error: ${err.message}<br>This usually means there's a typo in your chart specification. See the javascript console for the full traceback.`));\n",
       "    }\n",
       "\n",
       "    if(typeof define === \"function\" && define.amd) {\n",
       "      requirejs.config({paths});\n",
       "      require([\"vega-embed\"], displayChart, err => showError(`Error loading script: ${err.message}`));\n",
       "    } else {\n",
       "      maybeLoadScript(\"vega\", \"5\")\n",
       "        .then(() => maybeLoadScript(\"vega-lite\", \"5.16.3\"))\n",
       "        .then(() => maybeLoadScript(\"vega-embed\", \"6\"))\n",
       "        .catch(showError)\n",
       "        .then(() => displayChart(vegaEmbed));\n",
       "    }\n",
       "  })({\"config\": {\"view\": {\"continuousWidth\": 300, \"continuousHeight\": 300}}, \"hconcat\": [{\"mark\": {\"type\": \"circle\"}, \"encoding\": {\"tooltip\": [{\"field\": \"LocationAbbr\", \"type\": \"nominal\"}, {\"field\": \"Sleeping less than 7 hours among adults aged >=18 years - Age-adjusted prevalence\", \"type\": \"quantitative\"}, {\"field\": \"Obesity among adults aged >=18 years - Age-adjusted prevalence\", \"type\": \"quantitative\"}], \"x\": {\"field\": \"Sleeping less than 7 hours among adults aged >=18 years - Age-adjusted prevalence\", \"scale\": {\"zero\": false}, \"type\": \"quantitative\"}, \"y\": {\"field\": \"Obesity among adults aged >=18 years - Age-adjusted prevalence\", \"scale\": {\"zero\": false}, \"type\": \"quantitative\"}}, \"name\": \"view_2\"}, {\"mark\": {\"type\": \"circle\"}, \"encoding\": {\"tooltip\": [{\"field\": \"LocationAbbr\", \"type\": \"nominal\"}, {\"field\": \"Sleeping less than 7 hours among adults aged >=18 years - Age-adjusted prevalence\", \"type\": \"quantitative\"}, {\"field\": \"Obesity among adults aged >=18 years - Crude prevalence\", \"type\": \"quantitative\"}], \"x\": {\"field\": \"Sleeping less than 7 hours among adults aged >=18 years - Age-adjusted prevalence\", \"scale\": {\"zero\": false}, \"type\": \"quantitative\"}, \"y\": {\"field\": \"Obesity among adults aged >=18 years - Crude prevalence\", \"scale\": {\"zero\": false}, \"type\": \"quantitative\"}}, \"name\": \"view_3\"}, {\"mark\": {\"type\": \"circle\"}, \"encoding\": {\"tooltip\": [{\"field\": \"LocationAbbr\", \"type\": \"nominal\"}, {\"field\": \"Sleeping less than 7 hours among adults aged >=18 years - Crude prevalence\", \"type\": \"quantitative\"}, {\"field\": \"Obesity among adults aged >=18 years - Age-adjusted prevalence\", \"type\": \"quantitative\"}], \"x\": {\"field\": \"Sleeping less than 7 hours among adults aged >=18 years - Crude prevalence\", \"scale\": {\"zero\": false}, \"type\": \"quantitative\"}, \"y\": {\"field\": \"Obesity among adults aged >=18 years - Age-adjusted prevalence\", \"scale\": {\"zero\": false}, \"type\": \"quantitative\"}}, \"name\": \"view_4\"}, {\"mark\": {\"type\": \"circle\"}, \"encoding\": {\"tooltip\": [{\"field\": \"LocationAbbr\", \"type\": \"nominal\"}, {\"field\": \"Sleeping less than 7 hours among adults aged >=18 years - Crude prevalence\", \"type\": \"quantitative\"}, {\"field\": \"Obesity among adults aged >=18 years - Crude prevalence\", \"type\": \"quantitative\"}], \"x\": {\"field\": \"Sleeping less than 7 hours among adults aged >=18 years - Crude prevalence\", \"scale\": {\"zero\": false}, \"type\": \"quantitative\"}, \"y\": {\"field\": \"Obesity among adults aged >=18 years - Crude prevalence\", \"scale\": {\"zero\": false}, \"type\": \"quantitative\"}}, \"name\": \"view_5\"}], \"data\": {\"name\": \"data-4f0a7326567c58488e25e7155de2319b\"}, \"params\": [{\"name\": \"param_2\", \"select\": {\"type\": \"interval\", \"encodings\": [\"x\", \"y\"]}, \"bind\": \"scales\", \"views\": [\"view_2\", \"view_3\", \"view_4\", \"view_5\"]}], \"$schema\": \"https://vega.github.io/schema/vega-lite/v5.16.3.json\", \"datasets\": {\"data-4f0a7326567c58488e25e7155de2319b\": [{\"LocationAbbr\": \"AK\", \"Sleeping less than 7 hours among adults aged >=18 years - Age-adjusted prevalence\": 35.0, \"Sleeping less than 7 hours among adults aged >=18 years - Crude prevalence\": 35.61666666666667, \"Obesity among adults aged >=18 years - Age-adjusted prevalence\": 33.016666666666666, \"Obesity among adults aged >=18 years - Crude prevalence\": 34.11666666666667}, {\"LocationAbbr\": \"AL\", \"Sleeping less than 7 hours among adults aged >=18 years - Age-adjusted prevalence\": 40.01833333333333, \"Sleeping less than 7 hours among adults aged >=18 years - Crude prevalence\": 39.32166666666667, \"Obesity among adults aged >=18 years - Age-adjusted prevalence\": 38.33833333333334, \"Obesity among adults aged >=18 years - Crude prevalence\": 38.25333333333333}, {\"LocationAbbr\": \"AR\", \"Sleeping less than 7 hours among adults aged >=18 years - Age-adjusted prevalence\": 36.64626865671642, \"Sleeping less than 7 hours among adults aged >=18 years - Crude prevalence\": 36.02985074626866, \"Obesity among adults aged >=18 years - Age-adjusted prevalence\": 36.86716417910448, \"Obesity among adults aged >=18 years - Crude prevalence\": 36.78208955223881}, {\"LocationAbbr\": \"AZ\", \"Sleeping less than 7 hours among adults aged >=18 years - Age-adjusted prevalence\": 35.853658536585364, \"Sleeping less than 7 hours among adults aged >=18 years - Crude prevalence\": 35.426829268292686, \"Obesity among adults aged >=18 years - Age-adjusted prevalence\": 31.492682926829268, \"Obesity among adults aged >=18 years - Crude prevalence\": 31.582926829268295}, {\"LocationAbbr\": \"CA\", \"Sleeping less than 7 hours among adults aged >=18 years - Age-adjusted prevalence\": 34.30634920634921, \"Sleeping less than 7 hours among adults aged >=18 years - Crude prevalence\": 34.32222222222222, \"Obesity among adults aged >=18 years - Age-adjusted prevalence\": 26.620238095238097, \"Obesity among adults aged >=18 years - Crude prevalence\": 26.558333333333334}, {\"LocationAbbr\": \"CO\", \"Sleeping less than 7 hours among adults aged >=18 years - Age-adjusted prevalence\": 30.441176470588236, \"Sleeping less than 7 hours among adults aged >=18 years - Crude prevalence\": 30.541176470588233, \"Obesity among adults aged >=18 years - Age-adjusted prevalence\": 24.274509803921568, \"Obesity among adults aged >=18 years - Crude prevalence\": 24.50980392156863}, {\"LocationAbbr\": \"CT\", \"Sleeping less than 7 hours among adults aged >=18 years - Age-adjusted prevalence\": 35.208333333333336, \"Sleeping less than 7 hours among adults aged >=18 years - Crude prevalence\": 34.9375, \"Obesity among adults aged >=18 years - Age-adjusted prevalence\": 28.099999999999998, \"Obesity among adults aged >=18 years - Crude prevalence\": 28.104166666666668}, {\"LocationAbbr\": \"DC\", \"Sleeping less than 7 hours among adults aged >=18 years - Age-adjusted prevalence\": 37.0, \"Sleeping less than 7 hours among adults aged >=18 years - Crude prevalence\": 36.8, \"Obesity among adults aged >=18 years - Age-adjusted prevalence\": 26.3, \"Obesity among adults aged >=18 years - Crude prevalence\": 25.1}, {\"LocationAbbr\": \"DE\", \"Sleeping less than 7 hours among adults aged >=18 years - Age-adjusted prevalence\": 37.30714285714286, \"Sleeping less than 7 hours among adults aged >=18 years - Crude prevalence\": 36.778571428571425, \"Obesity among adults aged >=18 years - Age-adjusted prevalence\": 36.978571428571435, \"Obesity among adults aged >=18 years - Crude prevalence\": 36.378571428571426}, {\"LocationAbbr\": \"FL\", \"Sleeping less than 7 hours among adults aged >=18 years - Age-adjusted prevalence\": 39.752678571428575, \"Sleeping less than 7 hours among adults aged >=18 years - Crude prevalence\": 38.975, \"Obesity among adults aged >=18 years - Age-adjusted prevalence\": 31.982142857142858, \"Obesity among adults aged >=18 years - Crude prevalence\": 31.773214285714285}, {\"LocationAbbr\": \"GA\", \"Sleeping less than 7 hours among adults aged >=18 years - Age-adjusted prevalence\": 40.28831168831169, \"Sleeping less than 7 hours among adults aged >=18 years - Crude prevalence\": 40.03506493506493, \"Obesity among adults aged >=18 years - Age-adjusted prevalence\": 34.17402597402597, \"Obesity among adults aged >=18 years - Crude prevalence\": 34.015584415584414}, {\"LocationAbbr\": \"HI\", \"Sleeping less than 7 hours among adults aged >=18 years - Age-adjusted prevalence\": 42.8, \"Sleeping less than 7 hours among adults aged >=18 years - Crude prevalence\": 42.9, \"Obesity among adults aged >=18 years - Age-adjusted prevalence\": 28.0, \"Obesity among adults aged >=18 years - Crude prevalence\": 28.2}, {\"LocationAbbr\": \"IA\", \"Sleeping less than 7 hours among adults aged >=18 years - Age-adjusted prevalence\": 32.02589285714286, \"Sleeping less than 7 hours among adults aged >=18 years - Crude prevalence\": 31.46875, \"Obesity among adults aged >=18 years - Age-adjusted prevalence\": 35.575, \"Obesity among adults aged >=18 years - Crude prevalence\": 35.745535714285715}, {\"LocationAbbr\": \"ID\", \"Sleeping less than 7 hours among adults aged >=18 years - Age-adjusted prevalence\": 34.56206896551724, \"Sleeping less than 7 hours among adults aged >=18 years - Crude prevalence\": 34.234482758620686, \"Obesity among adults aged >=18 years - Age-adjusted prevalence\": 30.717241379310344, \"Obesity among adults aged >=18 years - Crude prevalence\": 30.76206896551724}, {\"LocationAbbr\": \"IL\", \"Sleeping less than 7 hours among adults aged >=18 years - Age-adjusted prevalence\": 34.355376344086025, \"Sleeping less than 7 hours among adults aged >=18 years - Crude prevalence\": 34.00967741935484, \"Obesity among adults aged >=18 years - Age-adjusted prevalence\": 32.38870967741936, \"Obesity among adults aged >=18 years - Crude prevalence\": 32.51559139784946}, {\"LocationAbbr\": \"IN\", \"Sleeping less than 7 hours among adults aged >=18 years - Age-adjusted prevalence\": 37.11346153846154, \"Sleeping less than 7 hours among adults aged >=18 years - Crude prevalence\": 36.73076923076923, \"Obesity among adults aged >=18 years - Age-adjusted prevalence\": 35.142307692307696, \"Obesity among adults aged >=18 years - Crude prevalence\": 35.15096153846154}, {\"LocationAbbr\": \"KS\", \"Sleeping less than 7 hours among adults aged >=18 years - Age-adjusted prevalence\": 33.99010989010989, \"Sleeping less than 7 hours among adults aged >=18 years - Crude prevalence\": 33.20879120879121, \"Obesity among adults aged >=18 years - Age-adjusted prevalence\": 36.75714285714286, \"Obesity among adults aged >=18 years - Crude prevalence\": 36.55384615384615}, {\"LocationAbbr\": \"KY\", \"Sleeping less than 7 hours among adults aged >=18 years - Age-adjusted prevalence\": 41.13636363636363, \"Sleeping less than 7 hours among adults aged >=18 years - Crude prevalence\": 40.406060606060606, \"Obesity among adults aged >=18 years - Age-adjusted prevalence\": 36.765151515151516, \"Obesity among adults aged >=18 years - Crude prevalence\": 36.553030303030305}, {\"LocationAbbr\": \"LA\", \"Sleeping less than 7 hours among adults aged >=18 years - Age-adjusted prevalence\": 40.66341463414634, \"Sleeping less than 7 hours among adults aged >=18 years - Crude prevalence\": 40.15365853658537, \"Obesity among adults aged >=18 years - Age-adjusted prevalence\": 39.74390243902439, \"Obesity among adults aged >=18 years - Crude prevalence\": 39.52926829268293}, {\"LocationAbbr\": \"MA\", \"Sleeping less than 7 hours among adults aged >=18 years - Age-adjusted prevalence\": 35.87872340425532, \"Sleeping less than 7 hours among adults aged >=18 years - Crude prevalence\": 35.659574468085104, \"Obesity among adults aged >=18 years - Age-adjusted prevalence\": 27.585106382978722, \"Obesity among adults aged >=18 years - Crude prevalence\": 27.417021276595744}, {\"LocationAbbr\": \"MD\", \"Sleeping less than 7 hours among adults aged >=18 years - Age-adjusted prevalence\": 37.38863636363636, \"Sleeping less than 7 hours among adults aged >=18 years - Crude prevalence\": 37.24318181818182, \"Obesity among adults aged >=18 years - Age-adjusted prevalence\": 33.36818181818182, \"Obesity among adults aged >=18 years - Crude prevalence\": 33.85909090909091}, {\"LocationAbbr\": \"ME\", \"Sleeping less than 7 hours among adults aged >=18 years - Age-adjusted prevalence\": 35.35, \"Sleeping less than 7 hours among adults aged >=18 years - Crude prevalence\": 34.36875, \"Obesity among adults aged >=18 years - Age-adjusted prevalence\": 31.66875, \"Obesity among adults aged >=18 years - Crude prevalence\": 31.39375}, {\"LocationAbbr\": \"MI\", \"Sleeping less than 7 hours among adults aged >=18 years - Age-adjusted prevalence\": 39.14257425742574, \"Sleeping less than 7 hours among adults aged >=18 years - Crude prevalence\": 38.65544554455445, \"Obesity among adults aged >=18 years - Age-adjusted prevalence\": 34.23762376237624, \"Obesity among adults aged >=18 years - Crude prevalence\": 34.00792079207921}, {\"LocationAbbr\": \"MN\", \"Sleeping less than 7 hours among adults aged >=18 years - Age-adjusted prevalence\": 29.65377358490566, \"Sleeping less than 7 hours among adults aged >=18 years - Crude prevalence\": 29.31415094339623, \"Obesity among adults aged >=18 years - Age-adjusted prevalence\": 31.537735849056602, \"Obesity among adults aged >=18 years - Crude prevalence\": 31.664150943396226}, {\"LocationAbbr\": \"MO\", \"Sleeping less than 7 hours among adults aged >=18 years - Age-adjusted prevalence\": 35.02991452991453, \"Sleeping less than 7 hours among adults aged >=18 years - Crude prevalence\": 34.35128205128205, \"Obesity among adults aged >=18 years - Age-adjusted prevalence\": 34.63333333333333, \"Obesity among adults aged >=18 years - Crude prevalence\": 34.56410256410256}, {\"LocationAbbr\": \"MS\", \"Sleeping less than 7 hours among adults aged >=18 years - Age-adjusted prevalence\": 39.254347826086956, \"Sleeping less than 7 hours among adults aged >=18 years - Crude prevalence\": 38.7195652173913, \"Obesity among adults aged >=18 years - Age-adjusted prevalence\": 40.79347826086956, \"Obesity among adults aged >=18 years - Crude prevalence\": 40.32173913043478}, {\"LocationAbbr\": \"MT\", \"Sleeping less than 7 hours among adults aged >=18 years - Age-adjusted prevalence\": 32.323076923076925, \"Sleeping less than 7 hours among adults aged >=18 years - Crude prevalence\": 31.592307692307692, \"Obesity among adults aged >=18 years - Age-adjusted prevalence\": 29.549999999999997, \"Obesity among adults aged >=18 years - Crude prevalence\": 30.03846153846154}, {\"LocationAbbr\": \"NC\", \"Sleeping less than 7 hours among adults aged >=18 years - Age-adjusted prevalence\": 37.45921052631579, \"Sleeping less than 7 hours among adults aged >=18 years - Crude prevalence\": 36.794736842105266, \"Obesity among adults aged >=18 years - Age-adjusted prevalence\": 35.078947368421055, \"Obesity among adults aged >=18 years - Crude prevalence\": 34.95263157894737}, {\"LocationAbbr\": \"ND\", \"Sleeping less than 7 hours among adults aged >=18 years - Age-adjusted prevalence\": 32.2695652173913, \"Sleeping less than 7 hours among adults aged >=18 years - Crude prevalence\": 31.23913043478261, \"Obesity among adults aged >=18 years - Age-adjusted prevalence\": 35.43478260869565, \"Obesity among adults aged >=18 years - Crude prevalence\": 35.36521739130435}, {\"LocationAbbr\": \"NE\", \"Sleeping less than 7 hours among adults aged >=18 years - Age-adjusted prevalence\": 31.084415584415584, \"Sleeping less than 7 hours among adults aged >=18 years - Crude prevalence\": 30.275324675324672, \"Obesity among adults aged >=18 years - Age-adjusted prevalence\": 36.58571428571428, \"Obesity among adults aged >=18 years - Crude prevalence\": 36.96103896103896}, {\"LocationAbbr\": \"NH\", \"Sleeping less than 7 hours among adults aged >=18 years - Age-adjusted prevalence\": 34.391666666666666, \"Sleeping less than 7 hours among adults aged >=18 years - Crude prevalence\": 33.87083333333333, \"Obesity among adults aged >=18 years - Age-adjusted prevalence\": 29.870833333333334, \"Obesity among adults aged >=18 years - Crude prevalence\": 29.3625}, {\"LocationAbbr\": \"NJ\", \"Sleeping less than 7 hours among adults aged >=18 years - Age-adjusted prevalence\": 38.608771929824556, \"Sleeping less than 7 hours among adults aged >=18 years - Crude prevalence\": 38.3719298245614, \"Obesity among adults aged >=18 years - Age-adjusted prevalence\": 30.024561403508773, \"Obesity among adults aged >=18 years - Crude prevalence\": 30.022807017543858}, {\"LocationAbbr\": \"NM\", \"Sleeping less than 7 hours among adults aged >=18 years - Age-adjusted prevalence\": 33.169696969696965, \"Sleeping less than 7 hours among adults aged >=18 years - Crude prevalence\": 32.53939393939394, \"Obesity among adults aged >=18 years - Age-adjusted prevalence\": 33.42727272727272, \"Obesity among adults aged >=18 years - Crude prevalence\": 33.76969696969697}, {\"LocationAbbr\": \"NV\", \"Sleeping less than 7 hours among adults aged >=18 years - Age-adjusted prevalence\": 37.5, \"Sleeping less than 7 hours among adults aged >=18 years - Crude prevalence\": 36.89, \"Obesity among adults aged >=18 years - Age-adjusted prevalence\": 30.910000000000004, \"Obesity among adults aged >=18 years - Crude prevalence\": 31.23}, {\"LocationAbbr\": \"NY\", \"Sleeping less than 7 hours among adults aged >=18 years - Age-adjusted prevalence\": 38.173469387755105, \"Sleeping less than 7 hours among adults aged >=18 years - Crude prevalence\": 37.47653061224489, \"Obesity among adults aged >=18 years - Age-adjusted prevalence\": 31.96938775510204, \"Obesity among adults aged >=18 years - Crude prevalence\": 31.678571428571427}, {\"LocationAbbr\": \"OH\", \"Sleeping less than 7 hours among adults aged >=18 years - Age-adjusted prevalence\": 40.30135135135136, \"Sleeping less than 7 hours among adults aged >=18 years - Crude prevalence\": 39.681756756756755, \"Obesity among adults aged >=18 years - Age-adjusted prevalence\": 36.0722972972973, \"Obesity among adults aged >=18 years - Crude prevalence\": 36.012837837837836}, {\"LocationAbbr\": \"OK\", \"Sleeping less than 7 hours among adults aged >=18 years - Age-adjusted prevalence\": 38.31428571428572, \"Sleeping less than 7 hours among adults aged >=18 years - Crude prevalence\": 37.9, \"Obesity among adults aged >=18 years - Age-adjusted prevalence\": 36.54920634920635, \"Obesity among adults aged >=18 years - Crude prevalence\": 36.819047619047616}, {\"LocationAbbr\": \"OR\", \"Sleeping less than 7 hours among adults aged >=18 years - Age-adjusted prevalence\": 34.15882352941176, \"Sleeping less than 7 hours among adults aged >=18 years - Crude prevalence\": 33.68627450980392, \"Obesity among adults aged >=18 years - Age-adjusted prevalence\": 31.94313725490196, \"Obesity among adults aged >=18 years - Crude prevalence\": 32.37450980392157}, {\"LocationAbbr\": \"PA\", \"Sleeping less than 7 hours among adults aged >=18 years - Age-adjusted prevalence\": 39.71550387596899, \"Sleeping less than 7 hours among adults aged >=18 years - Crude prevalence\": 38.89147286821706, \"Obesity among adults aged >=18 years - Age-adjusted prevalence\": 33.9937984496124, \"Obesity among adults aged >=18 years - Crude prevalence\": 33.73875968992248}, {\"LocationAbbr\": \"RI\", \"Sleeping less than 7 hours among adults aged >=18 years - Age-adjusted prevalence\": 38.475, \"Sleeping less than 7 hours among adults aged >=18 years - Crude prevalence\": 37.9, \"Obesity among adults aged >=18 years - Age-adjusted prevalence\": 28.6125, \"Obesity among adults aged >=18 years - Crude prevalence\": 28.3}, {\"LocationAbbr\": \"SC\", \"Sleeping less than 7 hours among adults aged >=18 years - Age-adjusted prevalence\": 39.084, \"Sleeping less than 7 hours among adults aged >=18 years - Crude prevalence\": 38.268, \"Obesity among adults aged >=18 years - Age-adjusted prevalence\": 37.512, \"Obesity among adults aged >=18 years - Crude prevalence\": 37.082}, {\"LocationAbbr\": \"SD\", \"Sleeping less than 7 hours among adults aged >=18 years - Age-adjusted prevalence\": 29.942857142857143, \"Sleeping less than 7 hours among adults aged >=18 years - Crude prevalence\": 29.365714285714283, \"Obesity among adults aged >=18 years - Age-adjusted prevalence\": 32.77428571428571, \"Obesity among adults aged >=18 years - Crude prevalence\": 32.91428571428571}, {\"LocationAbbr\": \"TN\", \"Sleeping less than 7 hours among adults aged >=18 years - Age-adjusted prevalence\": 41.78064516129032, \"Sleeping less than 7 hours among adults aged >=18 years - Crude prevalence\": 41.262903225806454, \"Obesity among adults aged >=18 years - Age-adjusted prevalence\": 36.05806451612903, \"Obesity among adults aged >=18 years - Crude prevalence\": 35.93709677419355}, {\"LocationAbbr\": \"TX\", \"Sleeping less than 7 hours among adults aged >=18 years - Age-adjusted prevalence\": 36.50416666666667, \"Sleeping less than 7 hours among adults aged >=18 years - Crude prevalence\": 36.41979166666667, \"Obesity among adults aged >=18 years - Age-adjusted prevalence\": 36.54739583333333, \"Obesity among adults aged >=18 years - Crude prevalence\": 36.508854166666666}, {\"LocationAbbr\": \"UT\", \"Sleeping less than 7 hours among adults aged >=18 years - Age-adjusted prevalence\": 32.410714285714285, \"Sleeping less than 7 hours among adults aged >=18 years - Crude prevalence\": 32.482142857142854, \"Obesity among adults aged >=18 years - Age-adjusted prevalence\": 29.344642857142855, \"Obesity among adults aged >=18 years - Crude prevalence\": 29.235714285714288}, {\"LocationAbbr\": \"VA\", \"Sleeping less than 7 hours among adults aged >=18 years - Age-adjusted prevalence\": 38.791666666666664, \"Sleeping less than 7 hours among adults aged >=18 years - Crude prevalence\": 38.47166666666667, \"Obesity among adults aged >=18 years - Age-adjusted prevalence\": 33.43666666666667, \"Obesity among adults aged >=18 years - Crude prevalence\": 33.25666666666667}, {\"LocationAbbr\": \"VT\", \"Sleeping less than 7 hours among adults aged >=18 years - Age-adjusted prevalence\": 31.63913043478261, \"Sleeping less than 7 hours among adults aged >=18 years - Crude prevalence\": 30.86521739130435, \"Obesity among adults aged >=18 years - Age-adjusted prevalence\": 26.85217391304348, \"Obesity among adults aged >=18 years - Crude prevalence\": 27.02173913043478}, {\"LocationAbbr\": \"WA\", \"Sleeping less than 7 hours among adults aged >=18 years - Age-adjusted prevalence\": 33.14657534246575, \"Sleeping less than 7 hours among adults aged >=18 years - Crude prevalence\": 32.90821917808219, \"Obesity among adults aged >=18 years - Age-adjusted prevalence\": 31.10958904109589, \"Obesity among adults aged >=18 years - Crude prevalence\": 31.176712328767124}, {\"LocationAbbr\": \"WI\", \"Sleeping less than 7 hours among adults aged >=18 years - Age-adjusted prevalence\": 32.6367088607595, \"Sleeping less than 7 hours among adults aged >=18 years - Crude prevalence\": 32.165822784810125, \"Obesity among adults aged >=18 years - Age-adjusted prevalence\": 33.835443037974684, \"Obesity among adults aged >=18 years - Crude prevalence\": 33.834177215189875}, {\"LocationAbbr\": \"WV\", \"Sleeping less than 7 hours among adults aged >=18 years - Age-adjusted prevalence\": 43.15428571428572, \"Sleeping less than 7 hours among adults aged >=18 years - Crude prevalence\": 42.268571428571434, \"Obesity among adults aged >=18 years - Age-adjusted prevalence\": 39.35142857142857, \"Obesity among adults aged >=18 years - Crude prevalence\": 39.54}, {\"LocationAbbr\": \"WY\", \"Sleeping less than 7 hours among adults aged >=18 years - Age-adjusted prevalence\": 32.46, \"Sleeping less than 7 hours among adults aged >=18 years - Crude prevalence\": 32.65, \"Obesity among adults aged >=18 years - Age-adjusted prevalence\": 28.05, \"Obesity among adults aged >=18 years - Crude prevalence\": 28.939999999999998}]}}, {\"mode\": \"vega-lite\"});\n",
       "</script>"
      ],
      "text/plain": [
       "alt.HConcatChart(...)"
      ]
     },
     "execution_count": 52,
     "metadata": {},
     "output_type": "execute_result"
    }
   ],
   "source": [
    "sod = \"Sleeping less than 7 hours among adults aged >=18 years\"\n",
    "health_outcome = \"Obesity among adults aged >=18 years\"\n",
    "location = \"NC\"\n",
    "stratification = \"NO\"\n",
    "dataframe = city_data.copy()\n",
    "hdcd.plot_corr(sod,\n",
    "            health_outcome,\n",
    "            location,\n",
    "            stratification,\n",
    "            dataframe,\n",
    "            print_corr=False,)"
   ]
  },
  {
   "cell_type": "code",
   "execution_count": 65,
   "id": "60ecb3f1-e586-4542-9c68-4f5724256748",
   "metadata": {},
   "outputs": [],
   "source": [
    "# need to transfer this to a data_clean function that people can use to clean cities data\n",
    "dataframe = city_data[city_data[\"Question\"] == \"Sleeping less than 7 hours among adults aged >=18 years\"]\n",
    "dataframe = dataframe.groupby(\"LocationDesc\")[[\"DataValue\"]].mean().reset_index()\n",
    "Year = 2018\n",
    "dataframe[\"YearStart\"] = [Year] * len(dataframe)\n",
    "dataframe[\"DataValueType\"] = [\"Crude Prevalence\"] * len(dataframe)\n",
    "dataframe[\"Question\"] = [\"Sleeping less than 7 hours among adults aged >=18 years\"] * len(dataframe)\n",
    "dataframe[\"StratificationCategory1\"] = [\"NO\"] * len(dataframe)"
   ]
  },
  {
   "cell_type": "code",
   "execution_count": 67,
   "id": "b7538ce2-9cfc-4573-9966-94dc6da549a1",
   "metadata": {},
   "outputs": [
    {
     "data": {
      "text/html": [
       "\n",
       "<style>\n",
       "  #altair-viz-30f1c816790b4d7dad64c7444a425277.vega-embed {\n",
       "    width: 100%;\n",
       "    display: flex;\n",
       "  }\n",
       "\n",
       "  #altair-viz-30f1c816790b4d7dad64c7444a425277.vega-embed details,\n",
       "  #altair-viz-30f1c816790b4d7dad64c7444a425277.vega-embed details summary {\n",
       "    position: relative;\n",
       "  }\n",
       "</style>\n",
       "<div id=\"altair-viz-30f1c816790b4d7dad64c7444a425277\"></div>\n",
       "<script type=\"text/javascript\">\n",
       "  var VEGA_DEBUG = (typeof VEGA_DEBUG == \"undefined\") ? {} : VEGA_DEBUG;\n",
       "  (function(spec, embedOpt){\n",
       "    let outputDiv = document.currentScript.previousElementSibling;\n",
       "    if (outputDiv.id !== \"altair-viz-30f1c816790b4d7dad64c7444a425277\") {\n",
       "      outputDiv = document.getElementById(\"altair-viz-30f1c816790b4d7dad64c7444a425277\");\n",
       "    }\n",
       "    const paths = {\n",
       "      \"vega\": \"https://cdn.jsdelivr.net/npm/vega@5?noext\",\n",
       "      \"vega-lib\": \"https://cdn.jsdelivr.net/npm/vega-lib?noext\",\n",
       "      \"vega-lite\": \"https://cdn.jsdelivr.net/npm/vega-lite@5.16.3?noext\",\n",
       "      \"vega-embed\": \"https://cdn.jsdelivr.net/npm/vega-embed@6?noext\",\n",
       "    };\n",
       "\n",
       "    function maybeLoadScript(lib, version) {\n",
       "      var key = `${lib.replace(\"-\", \"\")}_version`;\n",
       "      return (VEGA_DEBUG[key] == version) ?\n",
       "        Promise.resolve(paths[lib]) :\n",
       "        new Promise(function(resolve, reject) {\n",
       "          var s = document.createElement('script');\n",
       "          document.getElementsByTagName(\"head\")[0].appendChild(s);\n",
       "          s.async = true;\n",
       "          s.onload = () => {\n",
       "            VEGA_DEBUG[key] = version;\n",
       "            return resolve(paths[lib]);\n",
       "          };\n",
       "          s.onerror = () => reject(`Error loading script: ${paths[lib]}`);\n",
       "          s.src = paths[lib];\n",
       "        });\n",
       "    }\n",
       "\n",
       "    function showError(err) {\n",
       "      outputDiv.innerHTML = `<div class=\"error\" style=\"color:red;\">${err}</div>`;\n",
       "      throw err;\n",
       "    }\n",
       "\n",
       "    function displayChart(vegaEmbed) {\n",
       "      vegaEmbed(outputDiv, spec, embedOpt)\n",
       "        .catch(err => showError(`Javascript Error: ${err.message}<br>This usually means there's a typo in your chart specification. See the javascript console for the full traceback.`));\n",
       "    }\n",
       "\n",
       "    if(typeof define === \"function\" && define.amd) {\n",
       "      requirejs.config({paths});\n",
       "      require([\"vega-embed\"], displayChart, err => showError(`Error loading script: ${err.message}`));\n",
       "    } else {\n",
       "      maybeLoadScript(\"vega\", \"5\")\n",
       "        .then(() => maybeLoadScript(\"vega-lite\", \"5.16.3\"))\n",
       "        .then(() => maybeLoadScript(\"vega-embed\", \"6\"))\n",
       "        .catch(showError)\n",
       "        .then(() => displayChart(vegaEmbed));\n",
       "    }\n",
       "  })({\"config\": {\"view\": {\"continuousWidth\": 300, \"continuousHeight\": 300}}, \"layer\": [{\"data\": {\"url\": \"https://cdn.jsdelivr.net/npm/vega-datasets@v1.29.0/data/us-10m.json\", \"format\": {\"feature\": \"states\", \"type\": \"topojson\"}}, \"mark\": {\"type\": \"geoshape\", \"fill\": \"lightgray\", \"stroke\": \"white\"}, \"projection\": {\"type\": \"albersUsa\"}}, {\"data\": {\"name\": \"data-53eae797342755f260fc5804e72d86e3\"}, \"mark\": {\"type\": \"geoshape\"}, \"encoding\": {\"color\": {\"field\": \"DataValue\", \"scale\": {\"domainMax\": 42.849999999999994, \"domainMin\": 29.483962264150946, \"scheme\": \"bluepurple\"}, \"type\": \"quantitative\"}, \"tooltip\": [{\"field\": \"LocationDesc\", \"type\": \"nominal\"}, {\"field\": \"YearStart\", \"type\": \"quantitative\"}, {\"field\": \"DataValue\", \"type\": \"quantitative\"}]}, \"name\": \"view_7\", \"projection\": {\"type\": \"albersUsa\"}, \"transform\": [{\"lookup\": \"id\", \"from\": {\"data\": {\"url\": \"https://cdn.jsdelivr.net/npm/vega-datasets@v1.29.0/data/us-10m.json\", \"format\": {\"feature\": \"states\", \"type\": \"topojson\"}}, \"key\": \"id\", \"fields\": [\"id\", \"type\", \"properties\", \"geometry\"]}}, {\"filter\": {\"param\": \"param_4\"}}]}], \"height\": 720, \"params\": [{\"name\": \"param_4\", \"select\": {\"type\": \"point\", \"fields\": [\"YearStart\"]}, \"bind\": {\"input\": \"range\", \"max\": 2018.0, \"min\": 2018.0, \"name\": \"YearStart\", \"step\": 1}, \"views\": [\"view_7\"]}], \"width\": 720, \"$schema\": \"https://vega.github.io/schema/vega-lite/v5.16.3.json\", \"datasets\": {\"data-53eae797342755f260fc5804e72d86e3\": [{\"LocationDesc\": \"Alabama\", \"DataValue\": 39.669999999999995, \"YearStart\": 2018, \"DataValueType\": \"Crude Prevalence\", \"Question\": \"Sleeping less than 7 hours among adults aged >=18 years\", \"StratificationCategory1\": \"NO\", \"id\": 1}, {\"LocationDesc\": \"Alaska\", \"DataValue\": 35.30833333333333, \"YearStart\": 2018, \"DataValueType\": \"Crude Prevalence\", \"Question\": \"Sleeping less than 7 hours among adults aged >=18 years\", \"StratificationCategory1\": \"NO\", \"id\": 2}, {\"LocationDesc\": \"Arizona\", \"DataValue\": 35.640243902439025, \"YearStart\": 2018, \"DataValueType\": \"Crude Prevalence\", \"Question\": \"Sleeping less than 7 hours among adults aged >=18 years\", \"StratificationCategory1\": \"NO\", \"id\": 4}, {\"LocationDesc\": \"Arkansas\", \"DataValue\": 36.33805970149254, \"YearStart\": 2018, \"DataValueType\": \"Crude Prevalence\", \"Question\": \"Sleeping less than 7 hours among adults aged >=18 years\", \"StratificationCategory1\": \"NO\", \"id\": 5}, {\"LocationDesc\": \"California\", \"DataValue\": 34.31428571428572, \"YearStart\": 2018, \"DataValueType\": \"Crude Prevalence\", \"Question\": \"Sleeping less than 7 hours among adults aged >=18 years\", \"StratificationCategory1\": \"NO\", \"id\": 6}, {\"LocationDesc\": \"Colorado\", \"DataValue\": 30.491176470588233, \"YearStart\": 2018, \"DataValueType\": \"Crude Prevalence\", \"Question\": \"Sleeping less than 7 hours among adults aged >=18 years\", \"StratificationCategory1\": \"NO\", \"id\": 8}, {\"LocationDesc\": \"Connecticut\", \"DataValue\": 35.072916666666664, \"YearStart\": 2018, \"DataValueType\": \"Crude Prevalence\", \"Question\": \"Sleeping less than 7 hours among adults aged >=18 years\", \"StratificationCategory1\": \"NO\", \"id\": 9}, {\"LocationDesc\": \"Delaware\", \"DataValue\": 37.042857142857144, \"YearStart\": 2018, \"DataValueType\": \"Crude Prevalence\", \"Question\": \"Sleeping less than 7 hours among adults aged >=18 years\", \"StratificationCategory1\": \"NO\", \"id\": 10}, {\"LocationDesc\": \"District of Columbia\", \"DataValue\": 36.9, \"YearStart\": 2018, \"DataValueType\": \"Crude Prevalence\", \"Question\": \"Sleeping less than 7 hours among adults aged >=18 years\", \"StratificationCategory1\": \"NO\", \"id\": 11}, {\"LocationDesc\": \"Florida\", \"DataValue\": 39.363839285714285, \"YearStart\": 2018, \"DataValueType\": \"Crude Prevalence\", \"Question\": \"Sleeping less than 7 hours among adults aged >=18 years\", \"StratificationCategory1\": \"NO\", \"id\": 12}, {\"LocationDesc\": \"Georgia\", \"DataValue\": 40.16168831168831, \"YearStart\": 2018, \"DataValueType\": \"Crude Prevalence\", \"Question\": \"Sleeping less than 7 hours among adults aged >=18 years\", \"StratificationCategory1\": \"NO\", \"id\": 13}, {\"LocationDesc\": \"Hawaii\", \"DataValue\": 42.849999999999994, \"YearStart\": 2018, \"DataValueType\": \"Crude Prevalence\", \"Question\": \"Sleeping less than 7 hours among adults aged >=18 years\", \"StratificationCategory1\": \"NO\", \"id\": 15}, {\"LocationDesc\": \"Idaho\", \"DataValue\": 34.39827586206897, \"YearStart\": 2018, \"DataValueType\": \"Crude Prevalence\", \"Question\": \"Sleeping less than 7 hours among adults aged >=18 years\", \"StratificationCategory1\": \"NO\", \"id\": 16}, {\"LocationDesc\": \"Illinois\", \"DataValue\": 34.18252688172043, \"YearStart\": 2018, \"DataValueType\": \"Crude Prevalence\", \"Question\": \"Sleeping less than 7 hours among adults aged >=18 years\", \"StratificationCategory1\": \"NO\", \"id\": 17}, {\"LocationDesc\": \"Indiana\", \"DataValue\": 36.92211538461539, \"YearStart\": 2018, \"DataValueType\": \"Crude Prevalence\", \"Question\": \"Sleeping less than 7 hours among adults aged >=18 years\", \"StratificationCategory1\": \"NO\", \"id\": 18}, {\"LocationDesc\": \"Iowa\", \"DataValue\": 31.74732142857143, \"YearStart\": 2018, \"DataValueType\": \"Crude Prevalence\", \"Question\": \"Sleeping less than 7 hours among adults aged >=18 years\", \"StratificationCategory1\": \"NO\", \"id\": 19}, {\"LocationDesc\": \"Kansas\", \"DataValue\": 33.59945054945055, \"YearStart\": 2018, \"DataValueType\": \"Crude Prevalence\", \"Question\": \"Sleeping less than 7 hours among adults aged >=18 years\", \"StratificationCategory1\": \"NO\", \"id\": 20}, {\"LocationDesc\": \"Kentucky\", \"DataValue\": 40.77121212121212, \"YearStart\": 2018, \"DataValueType\": \"Crude Prevalence\", \"Question\": \"Sleeping less than 7 hours among adults aged >=18 years\", \"StratificationCategory1\": \"NO\", \"id\": 21}, {\"LocationDesc\": \"Louisiana\", \"DataValue\": 40.40853658536585, \"YearStart\": 2018, \"DataValueType\": \"Crude Prevalence\", \"Question\": \"Sleeping less than 7 hours among adults aged >=18 years\", \"StratificationCategory1\": \"NO\", \"id\": 22}, {\"LocationDesc\": \"Maine\", \"DataValue\": 34.859375, \"YearStart\": 2018, \"DataValueType\": \"Crude Prevalence\", \"Question\": \"Sleeping less than 7 hours among adults aged >=18 years\", \"StratificationCategory1\": \"NO\", \"id\": 23}, {\"LocationDesc\": \"Maryland\", \"DataValue\": 37.315909090909095, \"YearStart\": 2018, \"DataValueType\": \"Crude Prevalence\", \"Question\": \"Sleeping less than 7 hours among adults aged >=18 years\", \"StratificationCategory1\": \"NO\", \"id\": 24}, {\"LocationDesc\": \"Massachusetts\", \"DataValue\": 35.76914893617022, \"YearStart\": 2018, \"DataValueType\": \"Crude Prevalence\", \"Question\": \"Sleeping less than 7 hours among adults aged >=18 years\", \"StratificationCategory1\": \"NO\", \"id\": 25}, {\"LocationDesc\": \"Michigan\", \"DataValue\": 38.8990099009901, \"YearStart\": 2018, \"DataValueType\": \"Crude Prevalence\", \"Question\": \"Sleeping less than 7 hours among adults aged >=18 years\", \"StratificationCategory1\": \"NO\", \"id\": 26}, {\"LocationDesc\": \"Minnesota\", \"DataValue\": 29.483962264150946, \"YearStart\": 2018, \"DataValueType\": \"Crude Prevalence\", \"Question\": \"Sleeping less than 7 hours among adults aged >=18 years\", \"StratificationCategory1\": \"NO\", \"id\": 27}, {\"LocationDesc\": \"Mississippi\", \"DataValue\": 38.986956521739124, \"YearStart\": 2018, \"DataValueType\": \"Crude Prevalence\", \"Question\": \"Sleeping less than 7 hours among adults aged >=18 years\", \"StratificationCategory1\": \"NO\", \"id\": 28}, {\"LocationDesc\": \"Missouri\", \"DataValue\": 34.690598290598295, \"YearStart\": 2018, \"DataValueType\": \"Crude Prevalence\", \"Question\": \"Sleeping less than 7 hours among adults aged >=18 years\", \"StratificationCategory1\": \"NO\", \"id\": 29}, {\"LocationDesc\": \"Montana\", \"DataValue\": 31.957692307692305, \"YearStart\": 2018, \"DataValueType\": \"Crude Prevalence\", \"Question\": \"Sleeping less than 7 hours among adults aged >=18 years\", \"StratificationCategory1\": \"NO\", \"id\": 30}, {\"LocationDesc\": \"Nebraska\", \"DataValue\": 30.679870129870128, \"YearStart\": 2018, \"DataValueType\": \"Crude Prevalence\", \"Question\": \"Sleeping less than 7 hours among adults aged >=18 years\", \"StratificationCategory1\": \"NO\", \"id\": 31}, {\"LocationDesc\": \"Nevada\", \"DataValue\": 37.195, \"YearStart\": 2018, \"DataValueType\": \"Crude Prevalence\", \"Question\": \"Sleeping less than 7 hours among adults aged >=18 years\", \"StratificationCategory1\": \"NO\", \"id\": 32}, {\"LocationDesc\": \"New Hampshire\", \"DataValue\": 34.13125, \"YearStart\": 2018, \"DataValueType\": \"Crude Prevalence\", \"Question\": \"Sleeping less than 7 hours among adults aged >=18 years\", \"StratificationCategory1\": \"NO\", \"id\": 33}, {\"LocationDesc\": \"New Jersey\", \"DataValue\": 38.49035087719298, \"YearStart\": 2018, \"DataValueType\": \"Crude Prevalence\", \"Question\": \"Sleeping less than 7 hours among adults aged >=18 years\", \"StratificationCategory1\": \"NO\", \"id\": 34}, {\"LocationDesc\": \"New Mexico\", \"DataValue\": 32.85454545454546, \"YearStart\": 2018, \"DataValueType\": \"Crude Prevalence\", \"Question\": \"Sleeping less than 7 hours among adults aged >=18 years\", \"StratificationCategory1\": \"NO\", \"id\": 35}, {\"LocationDesc\": \"New York\", \"DataValue\": 37.824999999999996, \"YearStart\": 2018, \"DataValueType\": \"Crude Prevalence\", \"Question\": \"Sleeping less than 7 hours among adults aged >=18 years\", \"StratificationCategory1\": \"NO\", \"id\": 36}, {\"LocationDesc\": \"North Carolina\", \"DataValue\": 37.126973684210526, \"YearStart\": 2018, \"DataValueType\": \"Crude Prevalence\", \"Question\": \"Sleeping less than 7 hours among adults aged >=18 years\", \"StratificationCategory1\": \"NO\", \"id\": 37}, {\"LocationDesc\": \"North Dakota\", \"DataValue\": 31.754347826086956, \"YearStart\": 2018, \"DataValueType\": \"Crude Prevalence\", \"Question\": \"Sleeping less than 7 hours among adults aged >=18 years\", \"StratificationCategory1\": \"NO\", \"id\": 38}, {\"LocationDesc\": \"Ohio\", \"DataValue\": 39.991554054054056, \"YearStart\": 2018, \"DataValueType\": \"Crude Prevalence\", \"Question\": \"Sleeping less than 7 hours among adults aged >=18 years\", \"StratificationCategory1\": \"NO\", \"id\": 39}, {\"LocationDesc\": \"Oklahoma\", \"DataValue\": 38.107142857142854, \"YearStart\": 2018, \"DataValueType\": \"Crude Prevalence\", \"Question\": \"Sleeping less than 7 hours among adults aged >=18 years\", \"StratificationCategory1\": \"NO\", \"id\": 40}, {\"LocationDesc\": \"Oregon\", \"DataValue\": 33.92254901960784, \"YearStart\": 2018, \"DataValueType\": \"Crude Prevalence\", \"Question\": \"Sleeping less than 7 hours among adults aged >=18 years\", \"StratificationCategory1\": \"NO\", \"id\": 41}, {\"LocationDesc\": \"Pennsylvania\", \"DataValue\": 39.30348837209302, \"YearStart\": 2018, \"DataValueType\": \"Crude Prevalence\", \"Question\": \"Sleeping less than 7 hours among adults aged >=18 years\", \"StratificationCategory1\": \"NO\", \"id\": 42}, {\"LocationDesc\": \"Rhode Island\", \"DataValue\": 38.1875, \"YearStart\": 2018, \"DataValueType\": \"Crude Prevalence\", \"Question\": \"Sleeping less than 7 hours among adults aged >=18 years\", \"StratificationCategory1\": \"NO\", \"id\": 44}, {\"LocationDesc\": \"South Carolina\", \"DataValue\": 38.676, \"YearStart\": 2018, \"DataValueType\": \"Crude Prevalence\", \"Question\": \"Sleeping less than 7 hours among adults aged >=18 years\", \"StratificationCategory1\": \"NO\", \"id\": 45}, {\"LocationDesc\": \"South Dakota\", \"DataValue\": 29.654285714285717, \"YearStart\": 2018, \"DataValueType\": \"Crude Prevalence\", \"Question\": \"Sleeping less than 7 hours among adults aged >=18 years\", \"StratificationCategory1\": \"NO\", \"id\": 46}, {\"LocationDesc\": \"Tennessee\", \"DataValue\": 41.52177419354839, \"YearStart\": 2018, \"DataValueType\": \"Crude Prevalence\", \"Question\": \"Sleeping less than 7 hours among adults aged >=18 years\", \"StratificationCategory1\": \"NO\", \"id\": 47}, {\"LocationDesc\": \"Texas\", \"DataValue\": 36.461979166666666, \"YearStart\": 2018, \"DataValueType\": \"Crude Prevalence\", \"Question\": \"Sleeping less than 7 hours among adults aged >=18 years\", \"StratificationCategory1\": \"NO\", \"id\": 48}, {\"LocationDesc\": \"Utah\", \"DataValue\": 32.44642857142857, \"YearStart\": 2018, \"DataValueType\": \"Crude Prevalence\", \"Question\": \"Sleeping less than 7 hours among adults aged >=18 years\", \"StratificationCategory1\": \"NO\", \"id\": 49}, {\"LocationDesc\": \"Vermont\", \"DataValue\": 31.252173913043475, \"YearStart\": 2018, \"DataValueType\": \"Crude Prevalence\", \"Question\": \"Sleeping less than 7 hours among adults aged >=18 years\", \"StratificationCategory1\": \"NO\", \"id\": 50}, {\"LocationDesc\": \"Virginia\", \"DataValue\": 38.63166666666667, \"YearStart\": 2018, \"DataValueType\": \"Crude Prevalence\", \"Question\": \"Sleeping less than 7 hours among adults aged >=18 years\", \"StratificationCategory1\": \"NO\", \"id\": 51}, {\"LocationDesc\": \"Washington\", \"DataValue\": 33.02739726027397, \"YearStart\": 2018, \"DataValueType\": \"Crude Prevalence\", \"Question\": \"Sleeping less than 7 hours among adults aged >=18 years\", \"StratificationCategory1\": \"NO\", \"id\": 53}, {\"LocationDesc\": \"West Virginia\", \"DataValue\": 42.71142857142858, \"YearStart\": 2018, \"DataValueType\": \"Crude Prevalence\", \"Question\": \"Sleeping less than 7 hours among adults aged >=18 years\", \"StratificationCategory1\": \"NO\", \"id\": 54}, {\"LocationDesc\": \"Wisconsin\", \"DataValue\": 32.40126582278481, \"YearStart\": 2018, \"DataValueType\": \"Crude Prevalence\", \"Question\": \"Sleeping less than 7 hours among adults aged >=18 years\", \"StratificationCategory1\": \"NO\", \"id\": 55}, {\"LocationDesc\": \"Wyoming\", \"DataValue\": 32.555, \"YearStart\": 2018, \"DataValueType\": \"Crude Prevalence\", \"Question\": \"Sleeping less than 7 hours among adults aged >=18 years\", \"StratificationCategory1\": \"NO\", \"id\": 56}]}}, {\"mode\": \"vega-lite\"});\n",
       "</script>"
      ],
      "text/plain": [
       "alt.LayerChart(...)"
      ]
     },
     "execution_count": 67,
     "metadata": {},
     "output_type": "execute_result"
    }
   ],
   "source": [
    "variable = \"Sleeping less than 7 hours among adults aged >=18 years\"\n",
    "datatype = \"Crude Prevalence\"\n",
    "stratification = \"NO\"\n",
    "\n",
    "hdcd.plot_geomap(variable,\n",
    "    datatype,\n",
    "    stratification,\n",
    "    dataframe,\n",
    "    color_scheme='bluepurple',\n",
    "    width=720,\n",
    "    height=720)"
   ]
  },
  {
   "cell_type": "code",
   "execution_count": null,
   "id": "36b0f817-e5b3-4ca7-97b4-2ff0857c03d4",
   "metadata": {},
   "outputs": [],
   "source": [
    "hdcd.plot_geomap()"
   ]
  },
  {
   "cell_type": "markdown",
   "id": "9c965d41",
   "metadata": {
    "jp-MarkdownHeadingCollapsed": true
   },
   "source": [
    "# Visualization tool code"
   ]
  },
  {
   "cell_type": "code",
   "execution_count": 237,
   "id": "43ab60d6",
   "metadata": {},
   "outputs": [
    {
     "data": {
      "text/plain": [
       "array(['Number', 'Crude Prevalence', 'Age-adjusted Rate', 'Crude Rate',\n",
       "       'Average Annual Number', 'Average Annual Crude Rate',\n",
       "       'Average Annual Age-adjusted Rate',\n",
       "       'Adjusted by age, sex, race and ethnicity',\n",
       "       'Age-adjusted Prevalence', 'Mean', 'Age-adjusted Mean', 'Median',\n",
       "       'Percent',\n",
       "       'Local control of the regulation of alcohol outlet density',\n",
       "       'US Dollars',\n",
       "       'Commercial host (dram shop) liability status for alcohol service',\n",
       "       'Per capita alcohol consumption', 'Prevalence', 'Yes/No'],\n",
       "      dtype=object)"
      ]
     },
     "execution_count": 237,
     "metadata": {},
     "output_type": "execute_result"
    }
   ],
   "source": [
    "cdi[\"DataValueType\"].unique()"
   ]
  },
  {
   "cell_type": "code",
   "execution_count": 234,
   "id": "9e2b697a",
   "metadata": {
    "scrolled": true
   },
   "outputs": [
    {
     "data": {
      "text/html": [
       "<div>\n",
       "<style scoped>\n",
       "    .dataframe tbody tr th:only-of-type {\n",
       "        vertical-align: middle;\n",
       "    }\n",
       "\n",
       "    .dataframe tbody tr th {\n",
       "        vertical-align: top;\n",
       "    }\n",
       "\n",
       "    .dataframe thead th {\n",
       "        text-align: right;\n",
       "    }\n",
       "</style>\n",
       "<table border=\"1\" class=\"dataframe\">\n",
       "  <thead>\n",
       "    <tr style=\"text-align: right;\">\n",
       "      <th></th>\n",
       "      <th>StratificationCategoryID1</th>\n",
       "      <th>StratificationID1</th>\n",
       "      <th>StratificationCategoryID2</th>\n",
       "      <th>StratificationID2</th>\n",
       "      <th>StratificationCategoryID3</th>\n",
       "      <th>StratificationID3</th>\n",
       "    </tr>\n",
       "  </thead>\n",
       "  <tbody>\n",
       "    <tr>\n",
       "      <th>0</th>\n",
       "      <td>RACE</td>\n",
       "      <td>AIAN</td>\n",
       "      <td>NaN</td>\n",
       "      <td>NaN</td>\n",
       "      <td>NaN</td>\n",
       "      <td>NaN</td>\n",
       "    </tr>\n",
       "    <tr>\n",
       "      <th>1</th>\n",
       "      <td>GENDER</td>\n",
       "      <td>GENF</td>\n",
       "      <td>NaN</td>\n",
       "      <td>NaN</td>\n",
       "      <td>NaN</td>\n",
       "      <td>NaN</td>\n",
       "    </tr>\n",
       "    <tr>\n",
       "      <th>2</th>\n",
       "      <td>GENDER</td>\n",
       "      <td>GENM</td>\n",
       "      <td>NaN</td>\n",
       "      <td>NaN</td>\n",
       "      <td>NaN</td>\n",
       "      <td>NaN</td>\n",
       "    </tr>\n",
       "    <tr>\n",
       "      <th>3</th>\n",
       "      <td>RACE</td>\n",
       "      <td>ASN</td>\n",
       "      <td>NaN</td>\n",
       "      <td>NaN</td>\n",
       "      <td>NaN</td>\n",
       "      <td>NaN</td>\n",
       "    </tr>\n",
       "    <tr>\n",
       "      <th>5</th>\n",
       "      <td>RACE</td>\n",
       "      <td>WHT</td>\n",
       "      <td>NaN</td>\n",
       "      <td>NaN</td>\n",
       "      <td>NaN</td>\n",
       "      <td>NaN</td>\n",
       "    </tr>\n",
       "    <tr>\n",
       "      <th>6</th>\n",
       "      <td>OVERALL</td>\n",
       "      <td>OVR</td>\n",
       "      <td>NaN</td>\n",
       "      <td>NaN</td>\n",
       "      <td>NaN</td>\n",
       "      <td>NaN</td>\n",
       "    </tr>\n",
       "    <tr>\n",
       "      <th>10</th>\n",
       "      <td>RACE</td>\n",
       "      <td>HIS</td>\n",
       "      <td>NaN</td>\n",
       "      <td>NaN</td>\n",
       "      <td>NaN</td>\n",
       "      <td>NaN</td>\n",
       "    </tr>\n",
       "    <tr>\n",
       "      <th>20</th>\n",
       "      <td>RACE</td>\n",
       "      <td>BLK</td>\n",
       "      <td>NaN</td>\n",
       "      <td>NaN</td>\n",
       "      <td>NaN</td>\n",
       "      <td>NaN</td>\n",
       "    </tr>\n",
       "    <tr>\n",
       "      <th>96</th>\n",
       "      <td>RACE</td>\n",
       "      <td>API</td>\n",
       "      <td>NaN</td>\n",
       "      <td>NaN</td>\n",
       "      <td>NaN</td>\n",
       "      <td>NaN</td>\n",
       "    </tr>\n",
       "    <tr>\n",
       "      <th>274</th>\n",
       "      <td>RACE</td>\n",
       "      <td>APIO</td>\n",
       "      <td>NaN</td>\n",
       "      <td>NaN</td>\n",
       "      <td>NaN</td>\n",
       "      <td>NaN</td>\n",
       "    </tr>\n",
       "    <tr>\n",
       "      <th>397</th>\n",
       "      <td>RACE</td>\n",
       "      <td>AIAO</td>\n",
       "      <td>NaN</td>\n",
       "      <td>NaN</td>\n",
       "      <td>NaN</td>\n",
       "      <td>NaN</td>\n",
       "    </tr>\n",
       "    <tr>\n",
       "      <th>1293</th>\n",
       "      <td>RACE</td>\n",
       "      <td>MRC</td>\n",
       "      <td>NaN</td>\n",
       "      <td>NaN</td>\n",
       "      <td>NaN</td>\n",
       "      <td>NaN</td>\n",
       "    </tr>\n",
       "    <tr>\n",
       "      <th>1362</th>\n",
       "      <td>RACE</td>\n",
       "      <td>OTH</td>\n",
       "      <td>NaN</td>\n",
       "      <td>NaN</td>\n",
       "      <td>NaN</td>\n",
       "      <td>NaN</td>\n",
       "    </tr>\n",
       "  </tbody>\n",
       "</table>\n",
       "</div>"
      ],
      "text/plain": [
       "     StratificationCategoryID1 StratificationID1  StratificationCategoryID2  \\\n",
       "0                         RACE              AIAN                        NaN   \n",
       "1                       GENDER              GENF                        NaN   \n",
       "2                       GENDER              GENM                        NaN   \n",
       "3                         RACE               ASN                        NaN   \n",
       "5                         RACE               WHT                        NaN   \n",
       "6                      OVERALL               OVR                        NaN   \n",
       "10                        RACE               HIS                        NaN   \n",
       "20                        RACE               BLK                        NaN   \n",
       "96                        RACE               API                        NaN   \n",
       "274                       RACE              APIO                        NaN   \n",
       "397                       RACE              AIAO                        NaN   \n",
       "1293                      RACE               MRC                        NaN   \n",
       "1362                      RACE               OTH                        NaN   \n",
       "\n",
       "      StratificationID2  StratificationCategoryID3  StratificationID3  \n",
       "0                   NaN                        NaN                NaN  \n",
       "1                   NaN                        NaN                NaN  \n",
       "2                   NaN                        NaN                NaN  \n",
       "3                   NaN                        NaN                NaN  \n",
       "5                   NaN                        NaN                NaN  \n",
       "6                   NaN                        NaN                NaN  \n",
       "10                  NaN                        NaN                NaN  \n",
       "20                  NaN                        NaN                NaN  \n",
       "96                  NaN                        NaN                NaN  \n",
       "274                 NaN                        NaN                NaN  \n",
       "397                 NaN                        NaN                NaN  \n",
       "1293                NaN                        NaN                NaN  \n",
       "1362                NaN                        NaN                NaN  "
      ]
     },
     "execution_count": 234,
     "metadata": {},
     "output_type": "execute_result"
    }
   ],
   "source": [
    "cdi[['StratificationCategoryID1',\n",
    " 'StratificationID1',\n",
    " 'StratificationCategoryID2',\n",
    " 'StratificationID2',\n",
    " 'StratificationCategoryID3',\n",
    " 'StratificationID3']].drop_duplicates()"
   ]
  },
  {
   "cell_type": "markdown",
   "id": "bd62c600",
   "metadata": {},
   "source": [
    "# Use case 2\n",
    "\n",
    "- Investigating a local/ an area of interest about health condition change and personal behavior factor chnage (longitudinal)\n",
    "    - need to give a list of health outcome as selection\n",
    "    - give a list of related behavior/factor as comparison"
   ]
  },
  {
   "cell_type": "code",
   "execution_count": 362,
   "id": "7af946b5",
   "metadata": {},
   "outputs": [],
   "source": [
    "def plot_longitudinal_change(variable = \"Mortality from coronary heart disease\", \n",
    "                             location = \"New York\",\n",
    "                             stratification = \"Overall\"):\n",
    "    \n",
    "    dfplot = cdi[(cdi[\"LocationDesc\"] == location) & (cdi[\"Question\"] == variable)]\n",
    "    tmp = dfplot[dfplot[\"StratificationCategory1\"] == stratification]\n",
    "\n",
    "    domain = list(tmp[\"Stratification1\"].unique())\n",
    "    colors = alt.Scale(\n",
    "      domain= domain,\n",
    "      #range=['#aec7e8', '#c7c7c7', '#1f77b4', '#9467bd', '#e7ba52'][:len(domain)]\n",
    "    )\n",
    "\n",
    "    line = alt.Chart().mark_line().encode(\n",
    "        alt.X(\"YearStart:O\",),\n",
    "        alt.Y(\"DataValue:Q\",scale=alt.Scale(zero=False)),\n",
    "        alt.Color('Stratification1:N', scale=colors),\n",
    "        tooltip=[\"YearStart\",\"DataValue\",'Stratification1']\n",
    "    )\n",
    "\n",
    "    points = alt.Chart().mark_point().encode(\n",
    "        alt.X(\"YearStart:O\",),\n",
    "        alt.Y(\"DataValue:Q\",scale=alt.Scale(zero=False)),\n",
    "        alt.Color('Stratification1:N', scale=colors),\n",
    "        tooltip=[\"YearStart\",\"DataValue\",'Stratification1'])\n",
    "    # ).resolve_scale(\n",
    "    #     x='independent',\n",
    "    #     y='independent'\n",
    "    # )#.interactive()\n",
    "\n",
    "    cis = alt.Chart().mark_line().encode(\n",
    "        alt.X(\"YearStart:O\",),\n",
    "        alt.Y(\"LowConfidenceLimit:Q\",scale=alt.Scale(zero=False)),\n",
    "        alt.Y2(\"HighConfidenceLimit:Q\"),\n",
    "        alt.Color('Stratification1:N', scale=colors),\n",
    "        tooltip=[\"YearStart\",\"DataValue\",'Stratification1'])\n",
    "    # ).resolve_scale(\n",
    "    #     x='independent',\n",
    "    #     y='independent'\n",
    "    # )#.interactive()\n",
    "\n",
    "    return alt.layer(points, cis, line).facet(\n",
    "      data=tmp,\n",
    "      column='DataValueType:N'\n",
    "    ).resolve_scale(\n",
    "        x='independent',\n",
    "        y='independent')"
   ]
  },
  {
   "cell_type": "code",
   "execution_count": 368,
   "id": "b83ae3f7",
   "metadata": {
    "scrolled": true
   },
   "outputs": [
    {
     "data": {
      "text/plain": [
       "Question\n",
       "Invasive cancer of the oral cavity or pharynx, incidence                                9984\n",
       "Invasive cancer of the cervix, incidence                                                9984\n",
       "Invasive melanoma, incidence                                                            9984\n",
       "Cancer of the lung and bronchus, mortality                                              9984\n",
       "Cancer of the lung and bronchus, incidence                                              9984\n",
       "Cancer of the colon and rectum (colorectal), mortality                                  9984\n",
       "Cancer of the colon and rectum (colorectal), incidence                                  9984\n",
       "Cancer of the oral cavity and pharynx, mortality                                        9984\n",
       "Cancer of the female cervix, mortality                                                  9984\n",
       "Cancer of the female breast, mortality                                                  9984\n",
       "Melanoma, mortality                                                                     9984\n",
       "Invasive cancer of the female breast, incidence                                         9984\n",
       "Invasive cancer (all sites combined), mortality                                         9984\n",
       "Invasive cancer (all sites combined), incidence                                         9984\n",
       "Cancer of the prostate, mortality                                                       9984\n",
       "Invasive cancer of the prostate, incidence                                              9984\n",
       "Fecal occult blood test, sigmoidoscopy, or colonoscopy among adults aged 50-75 years    5220\n",
       "Mammography use among women aged 50-74 years                                            4550\n",
       "Papanicolaou smear use among adult women aged 21-65 years                               4550\n",
       "Recent Papanicolaou smear use among women aged 21-44 years                              2275\n",
       "Name: count, dtype: int64"
      ]
     },
     "execution_count": 368,
     "metadata": {},
     "output_type": "execute_result"
    }
   ],
   "source": [
    "cdi[cdi[\"Topic\"] == \"Cancer\"][\"Question\"].value_counts()"
   ]
  },
  {
   "cell_type": "code",
   "execution_count": 372,
   "id": "1619b629",
   "metadata": {
    "scrolled": true
   },
   "outputs": [
    {
     "data": {
      "text/plain": [
       "LocationDesc\n",
       "Wisconsin               22556\n",
       "New York                22556\n",
       "New Jersey              22550\n",
       "Nebraska                22518\n",
       "Iowa                    22510\n",
       "Vermont                 22490\n",
       "Washington              22457\n",
       "New Mexico              22457\n",
       "Michigan                22422\n",
       "Hawaii                  22420\n",
       "Colorado                22417\n",
       "West Virginia           22407\n",
       "Arkansas                22384\n",
       "Kentucky                22375\n",
       "Utah                    22352\n",
       "Oregon                  22352\n",
       "Massachusetts           22349\n",
       "North Carolina          22346\n",
       "Maryland                22346\n",
       "Florida                 22311\n",
       "Rhode Island            22273\n",
       "Arizona                 22271\n",
       "South Dakota            22264\n",
       "Nevada                  22241\n",
       "South Carolina          22235\n",
       "Missouri                22163\n",
       "Illinois                22157\n",
       "Alaska                  22157\n",
       "Pennsylvania            22157\n",
       "Delaware                22151\n",
       "Maine                   22142\n",
       "Wyoming                 22140\n",
       "New Hampshire           22104\n",
       "Mississippi             22100\n",
       "Oklahoma                22093\n",
       "Connecticut             22082\n",
       "Virginia                22058\n",
       "Alabama                 22058\n",
       "Louisiana               22053\n",
       "Tennessee               22052\n",
       "California              22037\n",
       "Minnesota               22023\n",
       "Kansas                  21988\n",
       "Georgia                 21980\n",
       "Montana                 21973\n",
       "North Dakota            21970\n",
       "Ohio                    21953\n",
       "District of Columbia    21936\n",
       "Texas                   21918\n",
       "Indiana                 21872\n",
       "Idaho                   21842\n",
       "Puerto Rico             14406\n",
       "Virgin Islands          14077\n",
       "Guam                    14009\n",
       "United States           10166\n",
       "Name: count, dtype: int64"
      ]
     },
     "execution_count": 372,
     "metadata": {},
     "output_type": "execute_result"
    }
   ],
   "source": [
    "cdi[\"LocationDesc\"].value_counts()"
   ]
  },
  {
   "cell_type": "code",
   "execution_count": 380,
   "id": "86d95ca3",
   "metadata": {},
   "outputs": [
    {
     "data": {
      "text/html": [
       "\n",
       "<style>\n",
       "  #altair-viz-70ba92656be7431284377a9747a8bf38.vega-embed {\n",
       "    width: 100%;\n",
       "    display: flex;\n",
       "  }\n",
       "\n",
       "  #altair-viz-70ba92656be7431284377a9747a8bf38.vega-embed details,\n",
       "  #altair-viz-70ba92656be7431284377a9747a8bf38.vega-embed details summary {\n",
       "    position: relative;\n",
       "  }\n",
       "</style>\n",
       "<div id=\"altair-viz-70ba92656be7431284377a9747a8bf38\"></div>\n",
       "<script type=\"text/javascript\">\n",
       "  var VEGA_DEBUG = (typeof VEGA_DEBUG == \"undefined\") ? {} : VEGA_DEBUG;\n",
       "  (function(spec, embedOpt){\n",
       "    let outputDiv = document.currentScript.previousElementSibling;\n",
       "    if (outputDiv.id !== \"altair-viz-70ba92656be7431284377a9747a8bf38\") {\n",
       "      outputDiv = document.getElementById(\"altair-viz-70ba92656be7431284377a9747a8bf38\");\n",
       "    }\n",
       "    const paths = {\n",
       "      \"vega\": \"https://cdn.jsdelivr.net/npm/vega@5?noext\",\n",
       "      \"vega-lib\": \"https://cdn.jsdelivr.net/npm/vega-lib?noext\",\n",
       "      \"vega-lite\": \"https://cdn.jsdelivr.net/npm/vega-lite@5.15.1?noext\",\n",
       "      \"vega-embed\": \"https://cdn.jsdelivr.net/npm/vega-embed@6?noext\",\n",
       "    };\n",
       "\n",
       "    function maybeLoadScript(lib, version) {\n",
       "      var key = `${lib.replace(\"-\", \"\")}_version`;\n",
       "      return (VEGA_DEBUG[key] == version) ?\n",
       "        Promise.resolve(paths[lib]) :\n",
       "        new Promise(function(resolve, reject) {\n",
       "          var s = document.createElement('script');\n",
       "          document.getElementsByTagName(\"head\")[0].appendChild(s);\n",
       "          s.async = true;\n",
       "          s.onload = () => {\n",
       "            VEGA_DEBUG[key] = version;\n",
       "            return resolve(paths[lib]);\n",
       "          };\n",
       "          s.onerror = () => reject(`Error loading script: ${paths[lib]}`);\n",
       "          s.src = paths[lib];\n",
       "        });\n",
       "    }\n",
       "\n",
       "    function showError(err) {\n",
       "      outputDiv.innerHTML = `<div class=\"error\" style=\"color:red;\">${err}</div>`;\n",
       "      throw err;\n",
       "    }\n",
       "\n",
       "    function displayChart(vegaEmbed) {\n",
       "      vegaEmbed(outputDiv, spec, embedOpt)\n",
       "        .catch(err => showError(`Javascript Error: ${err.message}<br>This usually means there's a typo in your chart specification. See the javascript console for the full traceback.`));\n",
       "    }\n",
       "\n",
       "    if(typeof define === \"function\" && define.amd) {\n",
       "      requirejs.config({paths});\n",
       "      require([\"vega-embed\"], displayChart, err => showError(`Error loading script: ${err.message}`));\n",
       "    } else {\n",
       "      maybeLoadScript(\"vega\", \"5\")\n",
       "        .then(() => maybeLoadScript(\"vega-lite\", \"5.15.1\"))\n",
       "        .then(() => maybeLoadScript(\"vega-embed\", \"6\"))\n",
       "        .catch(showError)\n",
       "        .then(() => displayChart(vegaEmbed));\n",
       "    }\n",
       "  })({\"config\": {\"view\": {\"continuousWidth\": 300, \"continuousHeight\": 300}}, \"data\": {\"name\": \"data-e462298baefb4fabb4760d68731a9dce\"}, \"facet\": {\"column\": {\"field\": \"DataValueType\", \"type\": \"nominal\"}}, \"spec\": {\"layer\": [{\"mark\": {\"type\": \"point\"}, \"encoding\": {\"color\": {\"field\": \"Stratification1\", \"scale\": {\"domain\": [\"Female\", \"Male\"]}, \"type\": \"nominal\"}, \"tooltip\": [{\"field\": \"YearStart\", \"type\": \"quantitative\"}, {\"field\": \"DataValue\", \"type\": \"nominal\"}, {\"field\": \"Stratification1\", \"type\": \"nominal\"}], \"x\": {\"field\": \"YearStart\", \"type\": \"ordinal\"}, \"y\": {\"field\": \"DataValue\", \"scale\": {\"zero\": false}, \"type\": \"quantitative\"}}}, {\"mark\": {\"type\": \"line\"}, \"encoding\": {\"color\": {\"field\": \"Stratification1\", \"scale\": {\"domain\": [\"Female\", \"Male\"]}, \"type\": \"nominal\"}, \"tooltip\": [{\"field\": \"YearStart\", \"type\": \"quantitative\"}, {\"field\": \"DataValue\", \"type\": \"nominal\"}, {\"field\": \"Stratification1\", \"type\": \"nominal\"}], \"x\": {\"field\": \"YearStart\", \"type\": \"ordinal\"}, \"y\": {\"field\": \"LowConfidenceLimit\", \"scale\": {\"zero\": false}, \"type\": \"quantitative\"}, \"y2\": {\"field\": \"HighConfidenceLimit\"}}}, {\"mark\": {\"type\": \"line\"}, \"encoding\": {\"color\": {\"field\": \"Stratification1\", \"scale\": {\"domain\": [\"Female\", \"Male\"]}, \"type\": \"nominal\"}, \"tooltip\": [{\"field\": \"YearStart\", \"type\": \"quantitative\"}, {\"field\": \"DataValue\", \"type\": \"nominal\"}, {\"field\": \"Stratification1\", \"type\": \"nominal\"}], \"x\": {\"field\": \"YearStart\", \"type\": \"ordinal\"}, \"y\": {\"field\": \"DataValue\", \"scale\": {\"zero\": false}, \"type\": \"quantitative\"}}}]}, \"resolve\": {\"scale\": {\"x\": \"independent\", \"y\": \"independent\"}}, \"$schema\": \"https://vega.github.io/schema/vega-lite/v5.15.1.json\", \"datasets\": {\"data-e462298baefb4fabb4760d68731a9dce\": [{\"YearStart\": 2008, \"YearEnd\": 2012, \"LocationAbbr\": \"US\", \"LocationDesc\": \"United States\", \"DataSource\": \"Statewide central cancer registries\", \"Topic\": \"Cancer\", \"Question\": \"Cancer of the colon and rectum (colorectal), incidence\", \"Response\": null, \"DataValueUnit\": null, \"DataValueType\": \"Average Annual Number\", \"DataValue\": \"68576\", \"DataValueAlt\": 68576.0, \"DataValueFootnoteSymbol\": NaN, \"DatavalueFootnote\": NaN, \"LowConfidenceLimit\": null, \"HighConfidenceLimit\": null, \"StratificationCategory1\": \"Gender\", \"Stratification1\": \"Female\", \"StratificationCategory2\": null, \"Stratification2\": null, \"StratificationCategory3\": null, \"Stratification3\": null, \"GeoLocation\": NaN, \"ResponseID\": null, \"LocationID\": 59, \"TopicID\": \"CAN\", \"QuestionID\": \"CAN7_1\", \"DataValueTypeID\": \"AVGANNNMBR\", \"StratificationCategoryID1\": \"GENDER\", \"StratificationID1\": \"GENF\", \"StratificationCategoryID2\": null, \"StratificationID2\": null, \"StratificationCategoryID3\": null, \"StratificationID3\": null}, {\"YearStart\": 2010, \"YearEnd\": 2014, \"LocationAbbr\": \"US\", \"LocationDesc\": \"United States\", \"DataSource\": \"Statewide central cancer registries\", \"Topic\": \"Cancer\", \"Question\": \"Cancer of the colon and rectum (colorectal), incidence\", \"Response\": null, \"DataValueUnit\": null, \"DataValueType\": \"Average Annual Number\", \"DataValue\": 67249.0, \"DataValueAlt\": 67249.0, \"DataValueFootnoteSymbol\": NaN, \"DatavalueFootnote\": NaN, \"LowConfidenceLimit\": null, \"HighConfidenceLimit\": null, \"StratificationCategory1\": \"Gender\", \"Stratification1\": \"Female\", \"StratificationCategory2\": null, \"Stratification2\": null, \"StratificationCategory3\": null, \"Stratification3\": null, \"GeoLocation\": NaN, \"ResponseID\": null, \"LocationID\": 59, \"TopicID\": \"CAN\", \"QuestionID\": \"CAN7_1\", \"DataValueTypeID\": \"AVGANNNMBR\", \"StratificationCategoryID1\": \"GENDER\", \"StratificationID1\": \"GENF\", \"StratificationCategoryID2\": null, \"StratificationID2\": null, \"StratificationCategoryID3\": null, \"StratificationID3\": null}, {\"YearStart\": 2009, \"YearEnd\": 2013, \"LocationAbbr\": \"US\", \"LocationDesc\": \"United States\", \"DataSource\": \"Statewide central cancer registries\", \"Topic\": \"Cancer\", \"Question\": \"Cancer of the colon and rectum (colorectal), incidence\", \"Response\": null, \"DataValueUnit\": \"per 100,000\", \"DataValueType\": \"Average Annual Crude Rate\", \"DataValue\": 42.7, \"DataValueAlt\": 42.7, \"DataValueFootnoteSymbol\": NaN, \"DatavalueFootnote\": NaN, \"LowConfidenceLimit\": 42.6, \"HighConfidenceLimit\": 42.8, \"StratificationCategory1\": \"Gender\", \"Stratification1\": \"Female\", \"StratificationCategory2\": null, \"Stratification2\": null, \"StratificationCategory3\": null, \"Stratification3\": null, \"GeoLocation\": NaN, \"ResponseID\": null, \"LocationID\": 59, \"TopicID\": \"CAN\", \"QuestionID\": \"CAN7_1\", \"DataValueTypeID\": \"AVGANNCRDRATE\", \"StratificationCategoryID1\": \"GENDER\", \"StratificationID1\": \"GENF\", \"StratificationCategoryID2\": null, \"StratificationID2\": null, \"StratificationCategoryID3\": null, \"StratificationID3\": null}, {\"YearStart\": 2009, \"YearEnd\": 2013, \"LocationAbbr\": \"US\", \"LocationDesc\": \"United States\", \"DataSource\": \"Statewide central cancer registries\", \"Topic\": \"Cancer\", \"Question\": \"Cancer of the colon and rectum (colorectal), incidence\", \"Response\": null, \"DataValueUnit\": \"per 100,000\", \"DataValueType\": \"Average Annual Age-adjusted Rate\", \"DataValue\": 35.9, \"DataValueAlt\": 35.9, \"DataValueFootnoteSymbol\": NaN, \"DatavalueFootnote\": NaN, \"LowConfidenceLimit\": 35.8, \"HighConfidenceLimit\": 36.0, \"StratificationCategory1\": \"Gender\", \"Stratification1\": \"Female\", \"StratificationCategory2\": null, \"Stratification2\": null, \"StratificationCategory3\": null, \"Stratification3\": null, \"GeoLocation\": NaN, \"ResponseID\": null, \"LocationID\": 59, \"TopicID\": \"CAN\", \"QuestionID\": \"CAN7_1\", \"DataValueTypeID\": \"AVGANNAGEADJRATE\", \"StratificationCategoryID1\": \"GENDER\", \"StratificationID1\": \"GENF\", \"StratificationCategoryID2\": null, \"StratificationID2\": null, \"StratificationCategoryID3\": null, \"StratificationID3\": null}, {\"YearStart\": 2011, \"YearEnd\": 2015, \"LocationAbbr\": \"US\", \"LocationDesc\": \"United States\", \"DataSource\": \"Statewide central cancer registries\", \"Topic\": \"Cancer\", \"Question\": \"Cancer of the colon and rectum (colorectal), incidence\", \"Response\": null, \"DataValueUnit\": \"per 100,000\", \"DataValueType\": \"Average Annual Crude Rate\", \"DataValue\": 47.6, \"DataValueAlt\": 47.6, \"DataValueFootnoteSymbol\": NaN, \"DatavalueFootnote\": NaN, \"LowConfidenceLimit\": 47.4, \"HighConfidenceLimit\": 47.7, \"StratificationCategory1\": \"Gender\", \"Stratification1\": \"Male\", \"StratificationCategory2\": null, \"Stratification2\": null, \"StratificationCategory3\": null, \"Stratification3\": null, \"GeoLocation\": NaN, \"ResponseID\": null, \"LocationID\": 59, \"TopicID\": \"CAN\", \"QuestionID\": \"CAN7_1\", \"DataValueTypeID\": \"AVGANNCRDRATE\", \"StratificationCategoryID1\": \"GENDER\", \"StratificationID1\": \"GENM\", \"StratificationCategoryID2\": null, \"StratificationID2\": null, \"StratificationCategoryID3\": null, \"StratificationID3\": null}, {\"YearStart\": 2013, \"YearEnd\": 2017, \"LocationAbbr\": \"US\", \"LocationDesc\": \"United States\", \"DataSource\": \"Statewide central cancer registries\", \"Topic\": \"Cancer\", \"Question\": \"Cancer of the colon and rectum (colorectal), incidence\", \"Response\": null, \"DataValueUnit\": \"per 100,000\", \"DataValueType\": \"Average Annual Age-adjusted Rate\", \"DataValue\": 44.3, \"DataValueAlt\": 44.3, \"DataValueFootnoteSymbol\": NaN, \"DatavalueFootnote\": NaN, \"LowConfidenceLimit\": 44.2, \"HighConfidenceLimit\": 44.5, \"StratificationCategory1\": \"Gender\", \"Stratification1\": \"Male\", \"StratificationCategory2\": null, \"Stratification2\": null, \"StratificationCategory3\": null, \"Stratification3\": null, \"GeoLocation\": NaN, \"ResponseID\": null, \"LocationID\": 59, \"TopicID\": \"CAN\", \"QuestionID\": \"CAN7_1\", \"DataValueTypeID\": \"AVGANNAGEADJRATE\", \"StratificationCategoryID1\": \"GENDER\", \"StratificationID1\": \"GENM\", \"StratificationCategoryID2\": null, \"StratificationID2\": null, \"StratificationCategoryID3\": null, \"StratificationID3\": null}, {\"YearStart\": 2011, \"YearEnd\": 2015, \"LocationAbbr\": \"US\", \"LocationDesc\": \"United States\", \"DataSource\": \"Statewide central cancer registries\", \"Topic\": \"Cancer\", \"Question\": \"Cancer of the colon and rectum (colorectal), incidence\", \"Response\": null, \"DataValueUnit\": \"per 100,000\", \"DataValueType\": \"Average Annual Crude Rate\", \"DataValue\": 41.9, \"DataValueAlt\": 41.9, \"DataValueFootnoteSymbol\": NaN, \"DatavalueFootnote\": NaN, \"LowConfidenceLimit\": 41.8, \"HighConfidenceLimit\": 42.1, \"StratificationCategory1\": \"Gender\", \"Stratification1\": \"Female\", \"StratificationCategory2\": null, \"Stratification2\": null, \"StratificationCategory3\": null, \"Stratification3\": null, \"GeoLocation\": NaN, \"ResponseID\": null, \"LocationID\": 59, \"TopicID\": \"CAN\", \"QuestionID\": \"CAN7_1\", \"DataValueTypeID\": \"AVGANNCRDRATE\", \"StratificationCategoryID1\": \"GENDER\", \"StratificationID1\": \"GENF\", \"StratificationCategoryID2\": null, \"StratificationID2\": null, \"StratificationCategoryID3\": null, \"StratificationID3\": null}, {\"YearStart\": 2013, \"YearEnd\": 2017, \"LocationAbbr\": \"US\", \"LocationDesc\": \"United States\", \"DataSource\": \"Statewide central cancer registries\", \"Topic\": \"Cancer\", \"Question\": \"Cancer of the colon and rectum (colorectal), incidence\", \"Response\": null, \"DataValueUnit\": \"per 100,000\", \"DataValueType\": \"Average Annual Age-adjusted Rate\", \"DataValue\": 33.9, \"DataValueAlt\": 33.9, \"DataValueFootnoteSymbol\": NaN, \"DatavalueFootnote\": NaN, \"LowConfidenceLimit\": 33.8, \"HighConfidenceLimit\": 34.0, \"StratificationCategory1\": \"Gender\", \"Stratification1\": \"Female\", \"StratificationCategory2\": null, \"Stratification2\": null, \"StratificationCategory3\": null, \"Stratification3\": null, \"GeoLocation\": NaN, \"ResponseID\": null, \"LocationID\": 59, \"TopicID\": \"CAN\", \"QuestionID\": \"CAN7_1\", \"DataValueTypeID\": \"AVGANNAGEADJRATE\", \"StratificationCategoryID1\": \"GENDER\", \"StratificationID1\": \"GENF\", \"StratificationCategoryID2\": null, \"StratificationID2\": null, \"StratificationCategoryID3\": null, \"StratificationID3\": null}, {\"YearStart\": 2012, \"YearEnd\": 2016, \"LocationAbbr\": \"US\", \"LocationDesc\": \"United States\", \"DataSource\": \"Statewide central cancer registries\", \"Topic\": \"Cancer\", \"Question\": \"Cancer of the colon and rectum (colorectal), incidence\", \"Response\": null, \"DataValueUnit\": null, \"DataValueType\": \"Average Annual Number\", \"DataValue\": 67697.0, \"DataValueAlt\": 67697.0, \"DataValueFootnoteSymbol\": NaN, \"DatavalueFootnote\": NaN, \"LowConfidenceLimit\": null, \"HighConfidenceLimit\": null, \"StratificationCategory1\": \"Gender\", \"Stratification1\": \"Female\", \"StratificationCategory2\": null, \"Stratification2\": null, \"StratificationCategory3\": null, \"Stratification3\": null, \"GeoLocation\": NaN, \"ResponseID\": null, \"LocationID\": 59, \"TopicID\": \"CAN\", \"QuestionID\": \"CAN7_1\", \"DataValueTypeID\": \"AVGANNNMBR\", \"StratificationCategoryID1\": \"GENDER\", \"StratificationID1\": \"GENF\", \"StratificationCategoryID2\": null, \"StratificationID2\": null, \"StratificationCategoryID3\": null, \"StratificationID3\": null}, {\"YearStart\": 2014, \"YearEnd\": 2018, \"LocationAbbr\": \"US\", \"LocationDesc\": \"United States\", \"DataSource\": \"Statewide central cancer registries\", \"Topic\": \"Cancer\", \"Question\": \"Cancer of the colon and rectum (colorectal), incidence\", \"Response\": null, \"DataValueUnit\": null, \"DataValueType\": \"Average Annual Number\", \"DataValue\": 75811.0, \"DataValueAlt\": 75811.0, \"DataValueFootnoteSymbol\": NaN, \"DatavalueFootnote\": NaN, \"LowConfidenceLimit\": null, \"HighConfidenceLimit\": null, \"StratificationCategory1\": \"Gender\", \"Stratification1\": \"Male\", \"StratificationCategory2\": null, \"Stratification2\": null, \"StratificationCategory3\": null, \"Stratification3\": null, \"GeoLocation\": NaN, \"ResponseID\": null, \"LocationID\": 59, \"TopicID\": \"CAN\", \"QuestionID\": \"CAN7_1\", \"DataValueTypeID\": \"AVGANNNMBR\", \"StratificationCategoryID1\": \"GENDER\", \"StratificationID1\": \"GENM\", \"StratificationCategoryID2\": null, \"StratificationID2\": null, \"StratificationCategoryID3\": null, \"StratificationID3\": null}, {\"YearStart\": 2009, \"YearEnd\": 2013, \"LocationAbbr\": \"US\", \"LocationDesc\": \"United States\", \"DataSource\": \"Statewide central cancer registries\", \"Topic\": \"Cancer\", \"Question\": \"Cancer of the colon and rectum (colorectal), incidence\", \"Response\": null, \"DataValueUnit\": \"per 100,000\", \"DataValueType\": \"Average Annual Age-adjusted Rate\", \"DataValue\": 47.4, \"DataValueAlt\": 47.4, \"DataValueFootnoteSymbol\": NaN, \"DatavalueFootnote\": NaN, \"LowConfidenceLimit\": 47.3, \"HighConfidenceLimit\": 47.6, \"StratificationCategory1\": \"Gender\", \"Stratification1\": \"Male\", \"StratificationCategory2\": null, \"Stratification2\": null, \"StratificationCategory3\": null, \"Stratification3\": null, \"GeoLocation\": NaN, \"ResponseID\": null, \"LocationID\": 59, \"TopicID\": \"CAN\", \"QuestionID\": \"CAN7_1\", \"DataValueTypeID\": \"AVGANNAGEADJRATE\", \"StratificationCategoryID1\": \"GENDER\", \"StratificationID1\": \"GENM\", \"StratificationCategoryID2\": null, \"StratificationID2\": null, \"StratificationCategoryID3\": null, \"StratificationID3\": null}, {\"YearStart\": 2015, \"YearEnd\": 2019, \"LocationAbbr\": \"US\", \"LocationDesc\": \"United States\", \"DataSource\": \"Statewide central cancer registries\", \"Topic\": \"Cancer\", \"Question\": \"Cancer of the colon and rectum (colorectal), incidence\", \"Response\": null, \"DataValueUnit\": null, \"DataValueType\": \"Average Annual Number\", \"DataValue\": 67986.0, \"DataValueAlt\": 67986.0, \"DataValueFootnoteSymbol\": NaN, \"DatavalueFootnote\": NaN, \"LowConfidenceLimit\": null, \"HighConfidenceLimit\": null, \"StratificationCategory1\": \"Gender\", \"Stratification1\": \"Female\", \"StratificationCategory2\": null, \"Stratification2\": null, \"StratificationCategory3\": null, \"Stratification3\": null, \"GeoLocation\": NaN, \"ResponseID\": null, \"LocationID\": 59, \"TopicID\": \"CAN\", \"QuestionID\": \"CAN7_1\", \"DataValueTypeID\": \"AVGANNNMBR\", \"StratificationCategoryID1\": \"GENDER\", \"StratificationID1\": \"GENF\", \"StratificationCategoryID2\": null, \"StratificationID2\": null, \"StratificationCategoryID3\": null, \"StratificationID3\": null}, {\"YearStart\": 2010, \"YearEnd\": 2014, \"LocationAbbr\": \"US\", \"LocationDesc\": \"United States\", \"DataSource\": \"Statewide central cancer registries\", \"Topic\": \"Cancer\", \"Question\": \"Cancer of the colon and rectum (colorectal), incidence\", \"Response\": null, \"DataValueUnit\": null, \"DataValueType\": \"Average Annual Number\", \"DataValue\": 73279.0, \"DataValueAlt\": 73279.0, \"DataValueFootnoteSymbol\": NaN, \"DatavalueFootnote\": NaN, \"LowConfidenceLimit\": null, \"HighConfidenceLimit\": null, \"StratificationCategory1\": \"Gender\", \"Stratification1\": \"Male\", \"StratificationCategory2\": null, \"Stratification2\": null, \"StratificationCategory3\": null, \"Stratification3\": null, \"GeoLocation\": NaN, \"ResponseID\": null, \"LocationID\": 59, \"TopicID\": \"CAN\", \"QuestionID\": \"CAN7_1\", \"DataValueTypeID\": \"AVGANNNMBR\", \"StratificationCategoryID1\": \"GENDER\", \"StratificationID1\": \"GENM\", \"StratificationCategoryID2\": null, \"StratificationID2\": null, \"StratificationCategoryID3\": null, \"StratificationID3\": null}, {\"YearStart\": 2011, \"YearEnd\": 2015, \"LocationAbbr\": \"US\", \"LocationDesc\": \"United States\", \"DataSource\": \"Statewide central cancer registries\", \"Topic\": \"Cancer\", \"Question\": \"Cancer of the colon and rectum (colorectal), incidence\", \"Response\": null, \"DataValueUnit\": null, \"DataValueType\": \"Average Annual Number\", \"DataValue\": 67312.0, \"DataValueAlt\": 67312.0, \"DataValueFootnoteSymbol\": NaN, \"DatavalueFootnote\": NaN, \"LowConfidenceLimit\": null, \"HighConfidenceLimit\": null, \"StratificationCategory1\": \"Gender\", \"Stratification1\": \"Female\", \"StratificationCategory2\": null, \"Stratification2\": null, \"StratificationCategory3\": null, \"Stratification3\": null, \"GeoLocation\": NaN, \"ResponseID\": null, \"LocationID\": 59, \"TopicID\": \"CAN\", \"QuestionID\": \"CAN7_1\", \"DataValueTypeID\": \"AVGANNNMBR\", \"StratificationCategoryID1\": \"GENDER\", \"StratificationID1\": \"GENF\", \"StratificationCategoryID2\": null, \"StratificationID2\": null, \"StratificationCategoryID3\": null, \"StratificationID3\": null}, {\"YearStart\": 2015, \"YearEnd\": 2019, \"LocationAbbr\": \"US\", \"LocationDesc\": \"United States\", \"DataSource\": \"Statewide central cancer registries\", \"Topic\": \"Cancer\", \"Question\": \"Cancer of the colon and rectum (colorectal), incidence\", \"Response\": null, \"DataValueUnit\": \"per 100,000\", \"DataValueType\": \"Average Annual Age-adjusted Rate\", \"DataValue\": 43.0, \"DataValueAlt\": 43.0, \"DataValueFootnoteSymbol\": NaN, \"DatavalueFootnote\": NaN, \"LowConfidenceLimit\": 42.9, \"HighConfidenceLimit\": 43.2, \"StratificationCategory1\": \"Gender\", \"Stratification1\": \"Male\", \"StratificationCategory2\": null, \"Stratification2\": null, \"StratificationCategory3\": null, \"Stratification3\": null, \"GeoLocation\": NaN, \"ResponseID\": null, \"LocationID\": 59, \"TopicID\": \"CAN\", \"QuestionID\": \"CAN7_1\", \"DataValueTypeID\": \"AVGANNAGEADJRATE\", \"StratificationCategoryID1\": \"GENDER\", \"StratificationID1\": \"GENM\", \"StratificationCategoryID2\": null, \"StratificationID2\": null, \"StratificationCategoryID3\": null, \"StratificationID3\": null}, {\"YearStart\": 2009, \"YearEnd\": 2013, \"LocationAbbr\": \"US\", \"LocationDesc\": \"United States\", \"DataSource\": \"Statewide central cancer registries\", \"Topic\": \"Cancer\", \"Question\": \"Cancer of the colon and rectum (colorectal), incidence\", \"Response\": null, \"DataValueUnit\": null, \"DataValueType\": \"Average Annual Number\", \"DataValue\": 67602.0, \"DataValueAlt\": 67602.0, \"DataValueFootnoteSymbol\": NaN, \"DatavalueFootnote\": NaN, \"LowConfidenceLimit\": null, \"HighConfidenceLimit\": null, \"StratificationCategory1\": \"Gender\", \"Stratification1\": \"Female\", \"StratificationCategory2\": null, \"Stratification2\": null, \"StratificationCategory3\": null, \"Stratification3\": null, \"GeoLocation\": NaN, \"ResponseID\": null, \"LocationID\": 59, \"TopicID\": \"CAN\", \"QuestionID\": \"CAN7_1\", \"DataValueTypeID\": \"AVGANNNMBR\", \"StratificationCategoryID1\": \"GENDER\", \"StratificationID1\": \"GENF\", \"StratificationCategoryID2\": null, \"StratificationID2\": null, \"StratificationCategoryID3\": null, \"StratificationID3\": null}, {\"YearStart\": 2011, \"YearEnd\": 2015, \"LocationAbbr\": \"US\", \"LocationDesc\": \"United States\", \"DataSource\": \"Statewide central cancer registries\", \"Topic\": \"Cancer\", \"Question\": \"Cancer of the colon and rectum (colorectal), incidence\", \"Response\": null, \"DataValueUnit\": \"per 100,000\", \"DataValueType\": \"Average Annual Age-adjusted Rate\", \"DataValue\": 45.7, \"DataValueAlt\": 45.7, \"DataValueFootnoteSymbol\": NaN, \"DatavalueFootnote\": NaN, \"LowConfidenceLimit\": 45.5, \"HighConfidenceLimit\": 45.8, \"StratificationCategory1\": \"Gender\", \"Stratification1\": \"Male\", \"StratificationCategory2\": null, \"Stratification2\": null, \"StratificationCategory3\": null, \"Stratification3\": null, \"GeoLocation\": NaN, \"ResponseID\": null, \"LocationID\": 59, \"TopicID\": \"CAN\", \"QuestionID\": \"CAN7_1\", \"DataValueTypeID\": \"AVGANNAGEADJRATE\", \"StratificationCategoryID1\": \"GENDER\", \"StratificationID1\": \"GENM\", \"StratificationCategoryID2\": null, \"StratificationID2\": null, \"StratificationCategoryID3\": null, \"StratificationID3\": null}, {\"YearStart\": 2013, \"YearEnd\": 2017, \"LocationAbbr\": \"US\", \"LocationDesc\": \"United States\", \"DataSource\": \"Statewide central cancer registries\", \"Topic\": \"Cancer\", \"Question\": \"Cancer of the colon and rectum (colorectal), incidence\", \"Response\": null, \"DataValueUnit\": \"per 100,000\", \"DataValueType\": \"Average Annual Crude Rate\", \"DataValue\": 41.8, \"DataValueAlt\": 41.8, \"DataValueFootnoteSymbol\": NaN, \"DatavalueFootnote\": NaN, \"LowConfidenceLimit\": 41.6, \"HighConfidenceLimit\": 41.9, \"StratificationCategory1\": \"Gender\", \"Stratification1\": \"Female\", \"StratificationCategory2\": null, \"Stratification2\": null, \"StratificationCategory3\": null, \"Stratification3\": null, \"GeoLocation\": NaN, \"ResponseID\": null, \"LocationID\": 59, \"TopicID\": \"CAN\", \"QuestionID\": \"CAN7_1\", \"DataValueTypeID\": \"AVGANNCRDRATE\", \"StratificationCategoryID1\": \"GENDER\", \"StratificationID1\": \"GENF\", \"StratificationCategoryID2\": null, \"StratificationID2\": null, \"StratificationCategoryID3\": null, \"StratificationID3\": null}, {\"YearStart\": 2008, \"YearEnd\": 2012, \"LocationAbbr\": \"US\", \"LocationDesc\": \"United States\", \"DataSource\": \"Statewide central cancer registries\", \"Topic\": \"Cancer\", \"Question\": \"Cancer of the colon and rectum (colorectal), incidence\", \"Response\": null, \"DataValueUnit\": \"per 100,000\", \"DataValueType\": \"Average Annual Age-adjusted Rate\", \"DataValue\": 49.0, \"DataValueAlt\": 49.0, \"DataValueFootnoteSymbol\": NaN, \"DatavalueFootnote\": NaN, \"LowConfidenceLimit\": 48.9, \"HighConfidenceLimit\": 49.2, \"StratificationCategory1\": \"Gender\", \"Stratification1\": \"Male\", \"StratificationCategory2\": null, \"Stratification2\": null, \"StratificationCategory3\": null, \"Stratification3\": null, \"GeoLocation\": NaN, \"ResponseID\": null, \"LocationID\": 59, \"TopicID\": \"CAN\", \"QuestionID\": \"CAN7_1\", \"DataValueTypeID\": \"AVGANNAGEADJRATE\", \"StratificationCategoryID1\": \"GENDER\", \"StratificationID1\": \"GENM\", \"StratificationCategoryID2\": null, \"StratificationID2\": null, \"StratificationCategoryID3\": null, \"StratificationID3\": null}, {\"YearStart\": 2012, \"YearEnd\": 2016, \"LocationAbbr\": \"US\", \"LocationDesc\": \"United States\", \"DataSource\": \"Statewide central cancer registries\", \"Topic\": \"Cancer\", \"Question\": \"Cancer of the colon and rectum (colorectal), incidence\", \"Response\": null, \"DataValueUnit\": \"per 100,000\", \"DataValueType\": \"Average Annual Age-adjusted Rate\", \"DataValue\": 44.9, \"DataValueAlt\": 44.9, \"DataValueFootnoteSymbol\": NaN, \"DatavalueFootnote\": NaN, \"LowConfidenceLimit\": 44.8, \"HighConfidenceLimit\": 45.1, \"StratificationCategory1\": \"Gender\", \"Stratification1\": \"Male\", \"StratificationCategory2\": null, \"Stratification2\": null, \"StratificationCategory3\": null, \"Stratification3\": null, \"GeoLocation\": NaN, \"ResponseID\": null, \"LocationID\": 59, \"TopicID\": \"CAN\", \"QuestionID\": \"CAN7_1\", \"DataValueTypeID\": \"AVGANNAGEADJRATE\", \"StratificationCategoryID1\": \"GENDER\", \"StratificationID1\": \"GENM\", \"StratificationCategoryID2\": null, \"StratificationID2\": null, \"StratificationCategoryID3\": null, \"StratificationID3\": null}, {\"YearStart\": 2012, \"YearEnd\": 2016, \"LocationAbbr\": \"US\", \"LocationDesc\": \"United States\", \"DataSource\": \"Statewide central cancer registries\", \"Topic\": \"Cancer\", \"Question\": \"Cancer of the colon and rectum (colorectal), incidence\", \"Response\": null, \"DataValueUnit\": \"per 100,000\", \"DataValueType\": \"Average Annual Crude Rate\", \"DataValue\": 41.9, \"DataValueAlt\": 41.9, \"DataValueFootnoteSymbol\": NaN, \"DatavalueFootnote\": NaN, \"LowConfidenceLimit\": 41.7, \"HighConfidenceLimit\": 42.0, \"StratificationCategory1\": \"Gender\", \"Stratification1\": \"Female\", \"StratificationCategory2\": null, \"Stratification2\": null, \"StratificationCategory3\": null, \"Stratification3\": null, \"GeoLocation\": NaN, \"ResponseID\": null, \"LocationID\": 59, \"TopicID\": \"CAN\", \"QuestionID\": \"CAN7_1\", \"DataValueTypeID\": \"AVGANNCRDRATE\", \"StratificationCategoryID1\": \"GENDER\", \"StratificationID1\": \"GENF\", \"StratificationCategoryID2\": null, \"StratificationID2\": null, \"StratificationCategoryID3\": null, \"StratificationID3\": null}, {\"YearStart\": 2015, \"YearEnd\": 2019, \"LocationAbbr\": \"US\", \"LocationDesc\": \"United States\", \"DataSource\": \"Statewide central cancer registries\", \"Topic\": \"Cancer\", \"Question\": \"Cancer of the colon and rectum (colorectal), incidence\", \"Response\": null, \"DataValueUnit\": \"per 100,000\", \"DataValueType\": \"Average Annual Crude Rate\", \"DataValue\": 47.6, \"DataValueAlt\": 47.6, \"DataValueFootnoteSymbol\": NaN, \"DatavalueFootnote\": NaN, \"LowConfidenceLimit\": 47.5, \"HighConfidenceLimit\": 47.8, \"StratificationCategory1\": \"Gender\", \"Stratification1\": \"Male\", \"StratificationCategory2\": null, \"Stratification2\": null, \"StratificationCategory3\": null, \"Stratification3\": null, \"GeoLocation\": NaN, \"ResponseID\": null, \"LocationID\": 59, \"TopicID\": \"CAN\", \"QuestionID\": \"CAN7_1\", \"DataValueTypeID\": \"AVGANNCRDRATE\", \"StratificationCategoryID1\": \"GENDER\", \"StratificationID1\": \"GENM\", \"StratificationCategoryID2\": null, \"StratificationID2\": null, \"StratificationCategoryID3\": null, \"StratificationID3\": null}, {\"YearStart\": 2008, \"YearEnd\": 2012, \"LocationAbbr\": \"US\", \"LocationDesc\": \"United States\", \"DataSource\": \"Statewide central cancer registries\", \"Topic\": \"Cancer\", \"Question\": \"Cancer of the colon and rectum (colorectal), incidence\", \"Response\": null, \"DataValueUnit\": \"per 100,000\", \"DataValueType\": \"Average Annual Crude Rate\", \"DataValue\": 43.6, \"DataValueAlt\": 43.6, \"DataValueFootnoteSymbol\": NaN, \"DatavalueFootnote\": NaN, \"LowConfidenceLimit\": 43.5, \"HighConfidenceLimit\": 43.8, \"StratificationCategory1\": \"Gender\", \"Stratification1\": \"Female\", \"StratificationCategory2\": null, \"Stratification2\": null, \"StratificationCategory3\": null, \"Stratification3\": null, \"GeoLocation\": NaN, \"ResponseID\": null, \"LocationID\": 59, \"TopicID\": \"CAN\", \"QuestionID\": \"CAN7_1\", \"DataValueTypeID\": \"AVGANNCRDRATE\", \"StratificationCategoryID1\": \"GENDER\", \"StratificationID1\": \"GENF\", \"StratificationCategoryID2\": null, \"StratificationID2\": null, \"StratificationCategoryID3\": null, \"StratificationID3\": null}, {\"YearStart\": 2015, \"YearEnd\": 2019, \"LocationAbbr\": \"US\", \"LocationDesc\": \"United States\", \"DataSource\": \"Statewide central cancer registries\", \"Topic\": \"Cancer\", \"Question\": \"Cancer of the colon and rectum (colorectal), incidence\", \"Response\": null, \"DataValueUnit\": \"per 100,000\", \"DataValueType\": \"Average Annual Crude Rate\", \"DataValue\": 41.4, \"DataValueAlt\": 41.4, \"DataValueFootnoteSymbol\": NaN, \"DatavalueFootnote\": NaN, \"LowConfidenceLimit\": 41.3, \"HighConfidenceLimit\": 41.5, \"StratificationCategory1\": \"Gender\", \"Stratification1\": \"Female\", \"StratificationCategory2\": null, \"Stratification2\": null, \"StratificationCategory3\": null, \"Stratification3\": null, \"GeoLocation\": NaN, \"ResponseID\": null, \"LocationID\": 59, \"TopicID\": \"CAN\", \"QuestionID\": \"CAN7_1\", \"DataValueTypeID\": \"AVGANNCRDRATE\", \"StratificationCategoryID1\": \"GENDER\", \"StratificationID1\": \"GENF\", \"StratificationCategoryID2\": null, \"StratificationID2\": null, \"StratificationCategoryID3\": null, \"StratificationID3\": null}, {\"YearStart\": 2014, \"YearEnd\": 2018, \"LocationAbbr\": \"US\", \"LocationDesc\": \"United States\", \"DataSource\": \"Statewide central cancer registries\", \"Topic\": \"Cancer\", \"Question\": \"Cancer of the colon and rectum (colorectal), incidence\", \"Response\": null, \"DataValueUnit\": null, \"DataValueType\": \"Average Annual Number\", \"DataValue\": 68192.0, \"DataValueAlt\": 68192.0, \"DataValueFootnoteSymbol\": NaN, \"DatavalueFootnote\": NaN, \"LowConfidenceLimit\": null, \"HighConfidenceLimit\": null, \"StratificationCategory1\": \"Gender\", \"Stratification1\": \"Female\", \"StratificationCategory2\": null, \"Stratification2\": null, \"StratificationCategory3\": null, \"Stratification3\": null, \"GeoLocation\": NaN, \"ResponseID\": null, \"LocationID\": 59, \"TopicID\": \"CAN\", \"QuestionID\": \"CAN7_1\", \"DataValueTypeID\": \"AVGANNNMBR\", \"StratificationCategoryID1\": \"GENDER\", \"StratificationID1\": \"GENF\", \"StratificationCategoryID2\": null, \"StratificationID2\": null, \"StratificationCategoryID3\": null, \"StratificationID3\": null}, {\"YearStart\": 2013, \"YearEnd\": 2017, \"LocationAbbr\": \"US\", \"LocationDesc\": \"United States\", \"DataSource\": \"Statewide central cancer registries\", \"Topic\": \"Cancer\", \"Question\": \"Cancer of the colon and rectum (colorectal), incidence\", \"Response\": null, \"DataValueUnit\": null, \"DataValueType\": \"Average Annual Number\", \"DataValue\": 75330.0, \"DataValueAlt\": 75330.0, \"DataValueFootnoteSymbol\": NaN, \"DatavalueFootnote\": NaN, \"LowConfidenceLimit\": null, \"HighConfidenceLimit\": null, \"StratificationCategory1\": \"Gender\", \"Stratification1\": \"Male\", \"StratificationCategory2\": null, \"Stratification2\": null, \"StratificationCategory3\": null, \"Stratification3\": null, \"GeoLocation\": NaN, \"ResponseID\": null, \"LocationID\": 59, \"TopicID\": \"CAN\", \"QuestionID\": \"CAN7_1\", \"DataValueTypeID\": \"AVGANNNMBR\", \"StratificationCategoryID1\": \"GENDER\", \"StratificationID1\": \"GENM\", \"StratificationCategoryID2\": null, \"StratificationID2\": null, \"StratificationCategoryID3\": null, \"StratificationID3\": null}, {\"YearStart\": 2015, \"YearEnd\": 2019, \"LocationAbbr\": \"US\", \"LocationDesc\": \"United States\", \"DataSource\": \"Statewide central cancer registries\", \"Topic\": \"Cancer\", \"Question\": \"Cancer of the colon and rectum (colorectal), incidence\", \"Response\": null, \"DataValueUnit\": \"per 100,000\", \"DataValueType\": \"Average Annual Age-adjusted Rate\", \"DataValue\": 33.0, \"DataValueAlt\": 33.0, \"DataValueFootnoteSymbol\": NaN, \"DatavalueFootnote\": NaN, \"LowConfidenceLimit\": 32.9, \"HighConfidenceLimit\": 33.1, \"StratificationCategory1\": \"Gender\", \"Stratification1\": \"Female\", \"StratificationCategory2\": null, \"Stratification2\": null, \"StratificationCategory3\": null, \"Stratification3\": null, \"GeoLocation\": NaN, \"ResponseID\": null, \"LocationID\": 59, \"TopicID\": \"CAN\", \"QuestionID\": \"CAN7_1\", \"DataValueTypeID\": \"AVGANNAGEADJRATE\", \"StratificationCategoryID1\": \"GENDER\", \"StratificationID1\": \"GENF\", \"StratificationCategoryID2\": null, \"StratificationID2\": null, \"StratificationCategoryID3\": null, \"StratificationID3\": null}, {\"YearStart\": 2008, \"YearEnd\": 2012, \"LocationAbbr\": \"US\", \"LocationDesc\": \"United States\", \"DataSource\": \"Statewide central cancer registries\", \"Topic\": \"Cancer\", \"Question\": \"Cancer of the colon and rectum (colorectal), incidence\", \"Response\": null, \"DataValueUnit\": \"per 100,000\", \"DataValueType\": \"Average Annual Crude Rate\", \"DataValue\": 48.4, \"DataValueAlt\": 48.4, \"DataValueFootnoteSymbol\": NaN, \"DatavalueFootnote\": NaN, \"LowConfidenceLimit\": 48.3, \"HighConfidenceLimit\": 48.6, \"StratificationCategory1\": \"Gender\", \"Stratification1\": \"Male\", \"StratificationCategory2\": null, \"Stratification2\": null, \"StratificationCategory3\": null, \"Stratification3\": null, \"GeoLocation\": NaN, \"ResponseID\": null, \"LocationID\": 59, \"TopicID\": \"CAN\", \"QuestionID\": \"CAN7_1\", \"DataValueTypeID\": \"AVGANNCRDRATE\", \"StratificationCategoryID1\": \"GENDER\", \"StratificationID1\": \"GENM\", \"StratificationCategoryID2\": null, \"StratificationID2\": null, \"StratificationCategoryID3\": null, \"StratificationID3\": null}, {\"YearStart\": 2008, \"YearEnd\": 2012, \"LocationAbbr\": \"US\", \"LocationDesc\": \"United States\", \"DataSource\": \"Statewide central cancer registries\", \"Topic\": \"Cancer\", \"Question\": \"Cancer of the colon and rectum (colorectal), incidence\", \"Response\": null, \"DataValueUnit\": \"per 100,000\", \"DataValueType\": \"Average Annual Age-adjusted Rate\", \"DataValue\": 37.0, \"DataValueAlt\": 37.0, \"DataValueFootnoteSymbol\": NaN, \"DatavalueFootnote\": NaN, \"LowConfidenceLimit\": 36.9, \"HighConfidenceLimit\": 37.1, \"StratificationCategory1\": \"Gender\", \"Stratification1\": \"Female\", \"StratificationCategory2\": null, \"Stratification2\": null, \"StratificationCategory3\": null, \"Stratification3\": null, \"GeoLocation\": NaN, \"ResponseID\": null, \"LocationID\": 59, \"TopicID\": \"CAN\", \"QuestionID\": \"CAN7_1\", \"DataValueTypeID\": \"AVGANNAGEADJRATE\", \"StratificationCategoryID1\": \"GENDER\", \"StratificationID1\": \"GENF\", \"StratificationCategoryID2\": null, \"StratificationID2\": null, \"StratificationCategoryID3\": null, \"StratificationID3\": null}, {\"YearStart\": 2013, \"YearEnd\": 2017, \"LocationAbbr\": \"US\", \"LocationDesc\": \"United States\", \"DataSource\": \"Statewide central cancer registries\", \"Topic\": \"Cancer\", \"Question\": \"Cancer of the colon and rectum (colorectal), incidence\", \"Response\": null, \"DataValueUnit\": null, \"DataValueType\": \"Average Annual Number\", \"DataValue\": 68027.0, \"DataValueAlt\": 68027.0, \"DataValueFootnoteSymbol\": NaN, \"DatavalueFootnote\": NaN, \"LowConfidenceLimit\": null, \"HighConfidenceLimit\": null, \"StratificationCategory1\": \"Gender\", \"Stratification1\": \"Female\", \"StratificationCategory2\": null, \"Stratification2\": null, \"StratificationCategory3\": null, \"Stratification3\": null, \"GeoLocation\": NaN, \"ResponseID\": null, \"LocationID\": 59, \"TopicID\": \"CAN\", \"QuestionID\": \"CAN7_1\", \"DataValueTypeID\": \"AVGANNNMBR\", \"StratificationCategoryID1\": \"GENDER\", \"StratificationID1\": \"GENF\", \"StratificationCategoryID2\": null, \"StratificationID2\": null, \"StratificationCategoryID3\": null, \"StratificationID3\": null}, {\"YearStart\": 2012, \"YearEnd\": 2016, \"LocationAbbr\": \"US\", \"LocationDesc\": \"United States\", \"DataSource\": \"Statewide central cancer registries\", \"Topic\": \"Cancer\", \"Question\": \"Cancer of the colon and rectum (colorectal), incidence\", \"Response\": null, \"DataValueUnit\": \"per 100,000\", \"DataValueType\": \"Average Annual Age-adjusted Rate\", \"DataValue\": 34.3, \"DataValueAlt\": 34.3, \"DataValueFootnoteSymbol\": NaN, \"DatavalueFootnote\": NaN, \"LowConfidenceLimit\": 34.2, \"HighConfidenceLimit\": 34.4, \"StratificationCategory1\": \"Gender\", \"Stratification1\": \"Female\", \"StratificationCategory2\": null, \"Stratification2\": null, \"StratificationCategory3\": null, \"Stratification3\": null, \"GeoLocation\": NaN, \"ResponseID\": null, \"LocationID\": 59, \"TopicID\": \"CAN\", \"QuestionID\": \"CAN7_1\", \"DataValueTypeID\": \"AVGANNAGEADJRATE\", \"StratificationCategoryID1\": \"GENDER\", \"StratificationID1\": \"GENF\", \"StratificationCategoryID2\": null, \"StratificationID2\": null, \"StratificationCategoryID3\": null, \"StratificationID3\": null}, {\"YearStart\": 2009, \"YearEnd\": 2013, \"LocationAbbr\": \"US\", \"LocationDesc\": \"United States\", \"DataSource\": \"Statewide central cancer registries\", \"Topic\": \"Cancer\", \"Question\": \"Cancer of the colon and rectum (colorectal), incidence\", \"Response\": null, \"DataValueUnit\": null, \"DataValueType\": \"Average Annual Number\", \"DataValue\": 73079.0, \"DataValueAlt\": 73079.0, \"DataValueFootnoteSymbol\": NaN, \"DatavalueFootnote\": NaN, \"LowConfidenceLimit\": null, \"HighConfidenceLimit\": null, \"StratificationCategory1\": \"Gender\", \"Stratification1\": \"Male\", \"StratificationCategory2\": null, \"Stratification2\": null, \"StratificationCategory3\": null, \"Stratification3\": null, \"GeoLocation\": NaN, \"ResponseID\": null, \"LocationID\": 59, \"TopicID\": \"CAN\", \"QuestionID\": \"CAN7_1\", \"DataValueTypeID\": \"AVGANNNMBR\", \"StratificationCategoryID1\": \"GENDER\", \"StratificationID1\": \"GENM\", \"StratificationCategoryID2\": null, \"StratificationID2\": null, \"StratificationCategoryID3\": null, \"StratificationID3\": null}, {\"YearStart\": 2015, \"YearEnd\": 2019, \"LocationAbbr\": \"US\", \"LocationDesc\": \"United States\", \"DataSource\": \"Statewide central cancer registries\", \"Topic\": \"Cancer\", \"Question\": \"Cancer of the colon and rectum (colorectal), incidence\", \"Response\": null, \"DataValueUnit\": null, \"DataValueType\": \"Average Annual Number\", \"DataValue\": 75887.0, \"DataValueAlt\": 75887.0, \"DataValueFootnoteSymbol\": NaN, \"DatavalueFootnote\": NaN, \"LowConfidenceLimit\": null, \"HighConfidenceLimit\": null, \"StratificationCategory1\": \"Gender\", \"Stratification1\": \"Male\", \"StratificationCategory2\": null, \"Stratification2\": null, \"StratificationCategory3\": null, \"Stratification3\": null, \"GeoLocation\": NaN, \"ResponseID\": null, \"LocationID\": 59, \"TopicID\": \"CAN\", \"QuestionID\": \"CAN7_1\", \"DataValueTypeID\": \"AVGANNNMBR\", \"StratificationCategoryID1\": \"GENDER\", \"StratificationID1\": \"GENM\", \"StratificationCategoryID2\": null, \"StratificationID2\": null, \"StratificationCategoryID3\": null, \"StratificationID3\": null}, {\"YearStart\": 2010, \"YearEnd\": 2014, \"LocationAbbr\": \"US\", \"LocationDesc\": \"United States\", \"DataSource\": \"Statewide central cancer registries\", \"Topic\": \"Cancer\", \"Question\": \"Cancer of the colon and rectum (colorectal), incidence\", \"Response\": null, \"DataValueUnit\": \"per 100,000\", \"DataValueType\": \"Average Annual Crude Rate\", \"DataValue\": 42.2, \"DataValueAlt\": 42.2, \"DataValueFootnoteSymbol\": NaN, \"DatavalueFootnote\": NaN, \"LowConfidenceLimit\": 42.0, \"HighConfidenceLimit\": 42.3, \"StratificationCategory1\": \"Gender\", \"Stratification1\": \"Female\", \"StratificationCategory2\": null, \"Stratification2\": null, \"StratificationCategory3\": null, \"Stratification3\": null, \"GeoLocation\": NaN, \"ResponseID\": null, \"LocationID\": 59, \"TopicID\": \"CAN\", \"QuestionID\": \"CAN7_1\", \"DataValueTypeID\": \"AVGANNCRDRATE\", \"StratificationCategoryID1\": \"GENDER\", \"StratificationID1\": \"GENF\", \"StratificationCategoryID2\": null, \"StratificationID2\": null, \"StratificationCategoryID3\": null, \"StratificationID3\": null}, {\"YearStart\": 2010, \"YearEnd\": 2014, \"LocationAbbr\": \"US\", \"LocationDesc\": \"United States\", \"DataSource\": \"Statewide central cancer registries\", \"Topic\": \"Cancer\", \"Question\": \"Cancer of the colon and rectum (colorectal), incidence\", \"Response\": null, \"DataValueUnit\": \"per 100,000\", \"DataValueType\": \"Average Annual Age-adjusted Rate\", \"DataValue\": 46.3, \"DataValueAlt\": 46.3, \"DataValueFootnoteSymbol\": NaN, \"DatavalueFootnote\": NaN, \"LowConfidenceLimit\": 46.2, \"HighConfidenceLimit\": 46.5, \"StratificationCategory1\": \"Gender\", \"Stratification1\": \"Male\", \"StratificationCategory2\": null, \"Stratification2\": null, \"StratificationCategory3\": null, \"Stratification3\": null, \"GeoLocation\": NaN, \"ResponseID\": null, \"LocationID\": 59, \"TopicID\": \"CAN\", \"QuestionID\": \"CAN7_1\", \"DataValueTypeID\": \"AVGANNAGEADJRATE\", \"StratificationCategoryID1\": \"GENDER\", \"StratificationID1\": \"GENM\", \"StratificationCategoryID2\": null, \"StratificationID2\": null, \"StratificationCategoryID3\": null, \"StratificationID3\": null}, {\"YearStart\": 2014, \"YearEnd\": 2018, \"LocationAbbr\": \"US\", \"LocationDesc\": \"United States\", \"DataSource\": \"Statewide central cancer registries\", \"Topic\": \"Cancer\", \"Question\": \"Cancer of the colon and rectum (colorectal), incidence\", \"Response\": null, \"DataValueUnit\": \"per 100,000\", \"DataValueType\": \"Average Annual Crude Rate\", \"DataValue\": 41.7, \"DataValueAlt\": 41.7, \"DataValueFootnoteSymbol\": NaN, \"DatavalueFootnote\": NaN, \"LowConfidenceLimit\": 41.5, \"HighConfidenceLimit\": 41.8, \"StratificationCategory1\": \"Gender\", \"Stratification1\": \"Female\", \"StratificationCategory2\": null, \"Stratification2\": null, \"StratificationCategory3\": null, \"Stratification3\": null, \"GeoLocation\": NaN, \"ResponseID\": null, \"LocationID\": 59, \"TopicID\": \"CAN\", \"QuestionID\": \"CAN7_1\", \"DataValueTypeID\": \"AVGANNCRDRATE\", \"StratificationCategoryID1\": \"GENDER\", \"StratificationID1\": \"GENF\", \"StratificationCategoryID2\": null, \"StratificationID2\": null, \"StratificationCategoryID3\": null, \"StratificationID3\": null}, {\"YearStart\": 2014, \"YearEnd\": 2018, \"LocationAbbr\": \"US\", \"LocationDesc\": \"United States\", \"DataSource\": \"Statewide central cancer registries\", \"Topic\": \"Cancer\", \"Question\": \"Cancer of the colon and rectum (colorectal), incidence\", \"Response\": null, \"DataValueUnit\": \"per 100,000\", \"DataValueType\": \"Average Annual Age-adjusted Rate\", \"DataValue\": 43.7, \"DataValueAlt\": 43.7, \"DataValueFootnoteSymbol\": NaN, \"DatavalueFootnote\": NaN, \"LowConfidenceLimit\": 43.6, \"HighConfidenceLimit\": 43.9, \"StratificationCategory1\": \"Gender\", \"Stratification1\": \"Male\", \"StratificationCategory2\": null, \"Stratification2\": null, \"StratificationCategory3\": null, \"Stratification3\": null, \"GeoLocation\": NaN, \"ResponseID\": null, \"LocationID\": 59, \"TopicID\": \"CAN\", \"QuestionID\": \"CAN7_1\", \"DataValueTypeID\": \"AVGANNAGEADJRATE\", \"StratificationCategoryID1\": \"GENDER\", \"StratificationID1\": \"GENM\", \"StratificationCategoryID2\": null, \"StratificationID2\": null, \"StratificationCategoryID3\": null, \"StratificationID3\": null}, {\"YearStart\": 2012, \"YearEnd\": 2016, \"LocationAbbr\": \"US\", \"LocationDesc\": \"United States\", \"DataSource\": \"Statewide central cancer registries\", \"Topic\": \"Cancer\", \"Question\": \"Cancer of the colon and rectum (colorectal), incidence\", \"Response\": null, \"DataValueUnit\": \"per 100,000\", \"DataValueType\": \"Average Annual Crude Rate\", \"DataValue\": 47.6, \"DataValueAlt\": 47.6, \"DataValueFootnoteSymbol\": NaN, \"DatavalueFootnote\": NaN, \"LowConfidenceLimit\": 47.5, \"HighConfidenceLimit\": 47.8, \"StratificationCategory1\": \"Gender\", \"Stratification1\": \"Male\", \"StratificationCategory2\": null, \"Stratification2\": null, \"StratificationCategory3\": null, \"Stratification3\": null, \"GeoLocation\": NaN, \"ResponseID\": null, \"LocationID\": 59, \"TopicID\": \"CAN\", \"QuestionID\": \"CAN7_1\", \"DataValueTypeID\": \"AVGANNCRDRATE\", \"StratificationCategoryID1\": \"GENDER\", \"StratificationID1\": \"GENM\", \"StratificationCategoryID2\": null, \"StratificationID2\": null, \"StratificationCategoryID3\": null, \"StratificationID3\": null}, {\"YearStart\": 2008, \"YearEnd\": 2012, \"LocationAbbr\": \"US\", \"LocationDesc\": \"United States\", \"DataSource\": \"Statewide central cancer registries\", \"Topic\": \"Cancer\", \"Question\": \"Cancer of the colon and rectum (colorectal), incidence\", \"Response\": null, \"DataValueUnit\": null, \"DataValueType\": \"Average Annual Number\", \"DataValue\": 73605.0, \"DataValueAlt\": 73605.0, \"DataValueFootnoteSymbol\": NaN, \"DatavalueFootnote\": NaN, \"LowConfidenceLimit\": null, \"HighConfidenceLimit\": null, \"StratificationCategory1\": \"Gender\", \"Stratification1\": \"Male\", \"StratificationCategory2\": null, \"Stratification2\": null, \"StratificationCategory3\": null, \"Stratification3\": null, \"GeoLocation\": NaN, \"ResponseID\": null, \"LocationID\": 59, \"TopicID\": \"CAN\", \"QuestionID\": \"CAN7_1\", \"DataValueTypeID\": \"AVGANNNMBR\", \"StratificationCategoryID1\": \"GENDER\", \"StratificationID1\": \"GENM\", \"StratificationCategoryID2\": null, \"StratificationID2\": null, \"StratificationCategoryID3\": null, \"StratificationID3\": null}, {\"YearStart\": 2014, \"YearEnd\": 2018, \"LocationAbbr\": \"US\", \"LocationDesc\": \"United States\", \"DataSource\": \"Statewide central cancer registries\", \"Topic\": \"Cancer\", \"Question\": \"Cancer of the colon and rectum (colorectal), incidence\", \"Response\": null, \"DataValueUnit\": \"per 100,000\", \"DataValueType\": \"Average Annual Age-adjusted Rate\", \"DataValue\": 33.6, \"DataValueAlt\": 33.6, \"DataValueFootnoteSymbol\": NaN, \"DatavalueFootnote\": NaN, \"LowConfidenceLimit\": 33.4, \"HighConfidenceLimit\": 33.7, \"StratificationCategory1\": \"Gender\", \"Stratification1\": \"Female\", \"StratificationCategory2\": null, \"Stratification2\": null, \"StratificationCategory3\": null, \"Stratification3\": null, \"GeoLocation\": NaN, \"ResponseID\": null, \"LocationID\": 59, \"TopicID\": \"CAN\", \"QuestionID\": \"CAN7_1\", \"DataValueTypeID\": \"AVGANNAGEADJRATE\", \"StratificationCategoryID1\": \"GENDER\", \"StratificationID1\": \"GENF\", \"StratificationCategoryID2\": null, \"StratificationID2\": null, \"StratificationCategoryID3\": null, \"StratificationID3\": null}, {\"YearStart\": 2010, \"YearEnd\": 2014, \"LocationAbbr\": \"US\", \"LocationDesc\": \"United States\", \"DataSource\": \"Statewide central cancer registries\", \"Topic\": \"Cancer\", \"Question\": \"Cancer of the colon and rectum (colorectal), incidence\", \"Response\": null, \"DataValueUnit\": \"per 100,000\", \"DataValueType\": \"Average Annual Age-adjusted Rate\", \"DataValue\": 35.1, \"DataValueAlt\": 35.1, \"DataValueFootnoteSymbol\": NaN, \"DatavalueFootnote\": NaN, \"LowConfidenceLimit\": 35.0, \"HighConfidenceLimit\": 35.2, \"StratificationCategory1\": \"Gender\", \"Stratification1\": \"Female\", \"StratificationCategory2\": null, \"Stratification2\": null, \"StratificationCategory3\": null, \"Stratification3\": null, \"GeoLocation\": NaN, \"ResponseID\": null, \"LocationID\": 59, \"TopicID\": \"CAN\", \"QuestionID\": \"CAN7_1\", \"DataValueTypeID\": \"AVGANNAGEADJRATE\", \"StratificationCategoryID1\": \"GENDER\", \"StratificationID1\": \"GENF\", \"StratificationCategoryID2\": null, \"StratificationID2\": null, \"StratificationCategoryID3\": null, \"StratificationID3\": null}, {\"YearStart\": 2013, \"YearEnd\": 2017, \"LocationAbbr\": \"US\", \"LocationDesc\": \"United States\", \"DataSource\": \"Statewide central cancer registries\", \"Topic\": \"Cancer\", \"Question\": \"Cancer of the colon and rectum (colorectal), incidence\", \"Response\": null, \"DataValueUnit\": \"per 100,000\", \"DataValueType\": \"Average Annual Crude Rate\", \"DataValue\": 47.7, \"DataValueAlt\": 47.7, \"DataValueFootnoteSymbol\": NaN, \"DatavalueFootnote\": NaN, \"LowConfidenceLimit\": 47.6, \"HighConfidenceLimit\": 47.9, \"StratificationCategory1\": \"Gender\", \"Stratification1\": \"Male\", \"StratificationCategory2\": null, \"Stratification2\": null, \"StratificationCategory3\": null, \"Stratification3\": null, \"GeoLocation\": NaN, \"ResponseID\": null, \"LocationID\": 59, \"TopicID\": \"CAN\", \"QuestionID\": \"CAN7_1\", \"DataValueTypeID\": \"AVGANNCRDRATE\", \"StratificationCategoryID1\": \"GENDER\", \"StratificationID1\": \"GENM\", \"StratificationCategoryID2\": null, \"StratificationID2\": null, \"StratificationCategoryID3\": null, \"StratificationID3\": null}, {\"YearStart\": 2011, \"YearEnd\": 2015, \"LocationAbbr\": \"US\", \"LocationDesc\": \"United States\", \"DataSource\": \"Statewide central cancer registries\", \"Topic\": \"Cancer\", \"Question\": \"Cancer of the colon and rectum (colorectal), incidence\", \"Response\": null, \"DataValueUnit\": null, \"DataValueType\": \"Average Annual Number\", \"DataValue\": 74012.0, \"DataValueAlt\": 74012.0, \"DataValueFootnoteSymbol\": NaN, \"DatavalueFootnote\": NaN, \"LowConfidenceLimit\": null, \"HighConfidenceLimit\": null, \"StratificationCategory1\": \"Gender\", \"Stratification1\": \"Male\", \"StratificationCategory2\": null, \"Stratification2\": null, \"StratificationCategory3\": null, \"Stratification3\": null, \"GeoLocation\": NaN, \"ResponseID\": null, \"LocationID\": 59, \"TopicID\": \"CAN\", \"QuestionID\": \"CAN7_1\", \"DataValueTypeID\": \"AVGANNNMBR\", \"StratificationCategoryID1\": \"GENDER\", \"StratificationID1\": \"GENM\", \"StratificationCategoryID2\": null, \"StratificationID2\": null, \"StratificationCategoryID3\": null, \"StratificationID3\": null}, {\"YearStart\": 2009, \"YearEnd\": 2013, \"LocationAbbr\": \"US\", \"LocationDesc\": \"United States\", \"DataSource\": \"Statewide central cancer registries\", \"Topic\": \"Cancer\", \"Question\": \"Cancer of the colon and rectum (colorectal), incidence\", \"Response\": null, \"DataValueUnit\": \"per 100,000\", \"DataValueType\": \"Average Annual Crude Rate\", \"DataValue\": 47.7, \"DataValueAlt\": 47.7, \"DataValueFootnoteSymbol\": NaN, \"DatavalueFootnote\": NaN, \"LowConfidenceLimit\": 47.5, \"HighConfidenceLimit\": 47.9, \"StratificationCategory1\": \"Gender\", \"Stratification1\": \"Male\", \"StratificationCategory2\": null, \"Stratification2\": null, \"StratificationCategory3\": null, \"Stratification3\": null, \"GeoLocation\": NaN, \"ResponseID\": null, \"LocationID\": 59, \"TopicID\": \"CAN\", \"QuestionID\": \"CAN7_1\", \"DataValueTypeID\": \"AVGANNCRDRATE\", \"StratificationCategoryID1\": \"GENDER\", \"StratificationID1\": \"GENM\", \"StratificationCategoryID2\": null, \"StratificationID2\": null, \"StratificationCategoryID3\": null, \"StratificationID3\": null}, {\"YearStart\": 2010, \"YearEnd\": 2014, \"LocationAbbr\": \"US\", \"LocationDesc\": \"United States\", \"DataSource\": \"Statewide central cancer registries\", \"Topic\": \"Cancer\", \"Question\": \"Cancer of the colon and rectum (colorectal), incidence\", \"Response\": null, \"DataValueUnit\": \"per 100,000\", \"DataValueType\": \"Average Annual Crude Rate\", \"DataValue\": 47.5, \"DataValueAlt\": 47.5, \"DataValueFootnoteSymbol\": NaN, \"DatavalueFootnote\": NaN, \"LowConfidenceLimit\": 47.3, \"HighConfidenceLimit\": 47.6, \"StratificationCategory1\": \"Gender\", \"Stratification1\": \"Male\", \"StratificationCategory2\": null, \"Stratification2\": null, \"StratificationCategory3\": null, \"Stratification3\": null, \"GeoLocation\": NaN, \"ResponseID\": null, \"LocationID\": 59, \"TopicID\": \"CAN\", \"QuestionID\": \"CAN7_1\", \"DataValueTypeID\": \"AVGANNCRDRATE\", \"StratificationCategoryID1\": \"GENDER\", \"StratificationID1\": \"GENM\", \"StratificationCategoryID2\": null, \"StratificationID2\": null, \"StratificationCategoryID3\": null, \"StratificationID3\": null}, {\"YearStart\": 2014, \"YearEnd\": 2018, \"LocationAbbr\": \"US\", \"LocationDesc\": \"United States\", \"DataSource\": \"Statewide central cancer registries\", \"Topic\": \"Cancer\", \"Question\": \"Cancer of the colon and rectum (colorectal), incidence\", \"Response\": null, \"DataValueUnit\": \"per 100,000\", \"DataValueType\": \"Average Annual Crude Rate\", \"DataValue\": 47.8, \"DataValueAlt\": 47.8, \"DataValueFootnoteSymbol\": NaN, \"DatavalueFootnote\": NaN, \"LowConfidenceLimit\": 47.6, \"HighConfidenceLimit\": 47.9, \"StratificationCategory1\": \"Gender\", \"Stratification1\": \"Male\", \"StratificationCategory2\": null, \"Stratification2\": null, \"StratificationCategory3\": null, \"Stratification3\": null, \"GeoLocation\": NaN, \"ResponseID\": null, \"LocationID\": 59, \"TopicID\": \"CAN\", \"QuestionID\": \"CAN7_1\", \"DataValueTypeID\": \"AVGANNCRDRATE\", \"StratificationCategoryID1\": \"GENDER\", \"StratificationID1\": \"GENM\", \"StratificationCategoryID2\": null, \"StratificationID2\": null, \"StratificationCategoryID3\": null, \"StratificationID3\": null}, {\"YearStart\": 2011, \"YearEnd\": 2015, \"LocationAbbr\": \"US\", \"LocationDesc\": \"United States\", \"DataSource\": \"Statewide central cancer registries\", \"Topic\": \"Cancer\", \"Question\": \"Cancer of the colon and rectum (colorectal), incidence\", \"Response\": null, \"DataValueUnit\": \"per 100,000\", \"DataValueType\": \"Average Annual Age-adjusted Rate\", \"DataValue\": 34.6, \"DataValueAlt\": 34.6, \"DataValueFootnoteSymbol\": NaN, \"DatavalueFootnote\": NaN, \"LowConfidenceLimit\": 34.5, \"HighConfidenceLimit\": 34.7, \"StratificationCategory1\": \"Gender\", \"Stratification1\": \"Female\", \"StratificationCategory2\": null, \"Stratification2\": null, \"StratificationCategory3\": null, \"Stratification3\": null, \"GeoLocation\": NaN, \"ResponseID\": null, \"LocationID\": 59, \"TopicID\": \"CAN\", \"QuestionID\": \"CAN7_1\", \"DataValueTypeID\": \"AVGANNAGEADJRATE\", \"StratificationCategoryID1\": \"GENDER\", \"StratificationID1\": \"GENF\", \"StratificationCategoryID2\": null, \"StratificationID2\": null, \"StratificationCategoryID3\": null, \"StratificationID3\": null}, {\"YearStart\": 2012, \"YearEnd\": 2016, \"LocationAbbr\": \"US\", \"LocationDesc\": \"United States\", \"DataSource\": \"Statewide central cancer registries\", \"Topic\": \"Cancer\", \"Question\": \"Cancer of the colon and rectum (colorectal), incidence\", \"Response\": null, \"DataValueUnit\": null, \"DataValueType\": \"Average Annual Number\", \"DataValue\": 74624.0, \"DataValueAlt\": 74624.0, \"DataValueFootnoteSymbol\": NaN, \"DatavalueFootnote\": NaN, \"LowConfidenceLimit\": null, \"HighConfidenceLimit\": null, \"StratificationCategory1\": \"Gender\", \"Stratification1\": \"Male\", \"StratificationCategory2\": null, \"Stratification2\": null, \"StratificationCategory3\": null, \"Stratification3\": null, \"GeoLocation\": NaN, \"ResponseID\": null, \"LocationID\": 59, \"TopicID\": \"CAN\", \"QuestionID\": \"CAN7_1\", \"DataValueTypeID\": \"AVGANNNMBR\", \"StratificationCategoryID1\": \"GENDER\", \"StratificationID1\": \"GENM\", \"StratificationCategoryID2\": null, \"StratificationID2\": null, \"StratificationCategoryID3\": null, \"StratificationID3\": null}]}}, {\"mode\": \"vega-lite\"});\n",
       "</script>"
      ],
      "text/plain": [
       "alt.FacetChart(...)"
      ]
     },
     "execution_count": 380,
     "metadata": {},
     "output_type": "execute_result"
    }
   ],
   "source": [
    "plot_longitudinal_change(variable = \"Cancer of the colon and rectum (colorectal), incidence\",\n",
    "                         location = \"United States\",\n",
    "                         stratification = \"Gender\")"
   ]
  },
  {
   "cell_type": "code",
   "execution_count": 359,
   "id": "d3145b08",
   "metadata": {
    "scrolled": true
   },
   "outputs": [
    {
     "data": {
      "text/html": [
       "\n",
       "<style>\n",
       "  #altair-viz-cbe2dc7a2428493f9405ac4988ffdb12.vega-embed {\n",
       "    width: 100%;\n",
       "    display: flex;\n",
       "  }\n",
       "\n",
       "  #altair-viz-cbe2dc7a2428493f9405ac4988ffdb12.vega-embed details,\n",
       "  #altair-viz-cbe2dc7a2428493f9405ac4988ffdb12.vega-embed details summary {\n",
       "    position: relative;\n",
       "  }\n",
       "</style>\n",
       "<div id=\"altair-viz-cbe2dc7a2428493f9405ac4988ffdb12\"></div>\n",
       "<script type=\"text/javascript\">\n",
       "  var VEGA_DEBUG = (typeof VEGA_DEBUG == \"undefined\") ? {} : VEGA_DEBUG;\n",
       "  (function(spec, embedOpt){\n",
       "    let outputDiv = document.currentScript.previousElementSibling;\n",
       "    if (outputDiv.id !== \"altair-viz-cbe2dc7a2428493f9405ac4988ffdb12\") {\n",
       "      outputDiv = document.getElementById(\"altair-viz-cbe2dc7a2428493f9405ac4988ffdb12\");\n",
       "    }\n",
       "    const paths = {\n",
       "      \"vega\": \"https://cdn.jsdelivr.net/npm/vega@5?noext\",\n",
       "      \"vega-lib\": \"https://cdn.jsdelivr.net/npm/vega-lib?noext\",\n",
       "      \"vega-lite\": \"https://cdn.jsdelivr.net/npm/vega-lite@5.15.1?noext\",\n",
       "      \"vega-embed\": \"https://cdn.jsdelivr.net/npm/vega-embed@6?noext\",\n",
       "    };\n",
       "\n",
       "    function maybeLoadScript(lib, version) {\n",
       "      var key = `${lib.replace(\"-\", \"\")}_version`;\n",
       "      return (VEGA_DEBUG[key] == version) ?\n",
       "        Promise.resolve(paths[lib]) :\n",
       "        new Promise(function(resolve, reject) {\n",
       "          var s = document.createElement('script');\n",
       "          document.getElementsByTagName(\"head\")[0].appendChild(s);\n",
       "          s.async = true;\n",
       "          s.onload = () => {\n",
       "            VEGA_DEBUG[key] = version;\n",
       "            return resolve(paths[lib]);\n",
       "          };\n",
       "          s.onerror = () => reject(`Error loading script: ${paths[lib]}`);\n",
       "          s.src = paths[lib];\n",
       "        });\n",
       "    }\n",
       "\n",
       "    function showError(err) {\n",
       "      outputDiv.innerHTML = `<div class=\"error\" style=\"color:red;\">${err}</div>`;\n",
       "      throw err;\n",
       "    }\n",
       "\n",
       "    function displayChart(vegaEmbed) {\n",
       "      vegaEmbed(outputDiv, spec, embedOpt)\n",
       "        .catch(err => showError(`Javascript Error: ${err.message}<br>This usually means there's a typo in your chart specification. See the javascript console for the full traceback.`));\n",
       "    }\n",
       "\n",
       "    if(typeof define === \"function\" && define.amd) {\n",
       "      requirejs.config({paths});\n",
       "      require([\"vega-embed\"], displayChart, err => showError(`Error loading script: ${err.message}`));\n",
       "    } else {\n",
       "      maybeLoadScript(\"vega\", \"5\")\n",
       "        .then(() => maybeLoadScript(\"vega-lite\", \"5.15.1\"))\n",
       "        .then(() => maybeLoadScript(\"vega-embed\", \"6\"))\n",
       "        .catch(showError)\n",
       "        .then(() => displayChart(vegaEmbed));\n",
       "    }\n",
       "  })({\"config\": {\"view\": {\"continuousWidth\": 300, \"continuousHeight\": 300}}, \"data\": {\"name\": \"data-226d68699c3bfcb9d7305230ca2b1cdb\"}, \"facet\": {\"column\": {\"field\": \"DataValueType\", \"type\": \"nominal\"}}, \"spec\": {\"layer\": [{\"mark\": {\"type\": \"point\"}, \"encoding\": {\"color\": {\"field\": \"Stratification1\", \"scale\": {\"domain\": [\"Female\", \"Male\"]}, \"type\": \"nominal\"}, \"tooltip\": [{\"field\": \"YearStart\", \"type\": \"quantitative\"}, {\"field\": \"DataValue\", \"type\": \"quantitative\"}, {\"field\": \"Stratification1\", \"type\": \"nominal\"}], \"x\": {\"field\": \"YearStart\", \"type\": \"ordinal\"}, \"y\": {\"field\": \"DataValue\", \"scale\": {\"zero\": false}, \"type\": \"quantitative\"}}}, {\"mark\": {\"type\": \"line\"}, \"encoding\": {\"color\": {\"field\": \"Stratification1\", \"scale\": {\"domain\": [\"Female\", \"Male\"]}, \"type\": \"nominal\"}, \"tooltip\": [{\"field\": \"YearStart\", \"type\": \"quantitative\"}, {\"field\": \"DataValue\", \"type\": \"quantitative\"}, {\"field\": \"Stratification1\", \"type\": \"nominal\"}], \"x\": {\"field\": \"YearStart\", \"type\": \"ordinal\"}, \"y\": {\"field\": \"LowConfidenceLimit\", \"scale\": {\"zero\": false}, \"type\": \"quantitative\"}, \"y2\": {\"field\": \"HighConfidenceLimit\"}}}, {\"mark\": {\"type\": \"line\"}, \"encoding\": {\"color\": {\"field\": \"Stratification1\", \"scale\": {\"domain\": [\"Female\", \"Male\"]}, \"type\": \"nominal\"}, \"tooltip\": [{\"field\": \"YearStart\", \"type\": \"quantitative\"}, {\"field\": \"DataValue\", \"type\": \"quantitative\"}, {\"field\": \"Stratification1\", \"type\": \"nominal\"}], \"x\": {\"field\": \"YearStart\", \"type\": \"ordinal\"}, \"y\": {\"field\": \"DataValue\", \"scale\": {\"zero\": false}, \"type\": \"quantitative\"}}}]}, \"resolve\": {\"scale\": {\"x\": \"independent\", \"y\": \"independent\"}}, \"$schema\": \"https://vega.github.io/schema/vega-lite/v5.15.1.json\", \"datasets\": {\"data-226d68699c3bfcb9d7305230ca2b1cdb\": [{\"YearStart\": 2013, \"YearEnd\": 2013, \"LocationAbbr\": \"NY\", \"LocationDesc\": \"New York\", \"DataSource\": \"NVSS\", \"Topic\": \"Cardiovascular Disease\", \"Question\": \"Mortality from coronary heart disease\", \"Response\": null, \"DataValueUnit\": null, \"DataValueType\": \"Number\", \"DataValue\": 15547.0, \"DataValueAlt\": 15547.0, \"DataValueFootnoteSymbol\": NaN, \"DatavalueFootnote\": NaN, \"LowConfidenceLimit\": null, \"HighConfidenceLimit\": null, \"StratificationCategory1\": \"Gender\", \"Stratification1\": \"Female\", \"StratificationCategory2\": null, \"Stratification2\": null, \"StratificationCategory3\": null, \"Stratification3\": null, \"GeoLocation\": \"POINT (-75.54397042699964 42.82700103200045)\", \"ResponseID\": null, \"LocationID\": 36, \"TopicID\": \"CVD\", \"QuestionID\": \"CVD1_3\", \"DataValueTypeID\": \"NMBR\", \"StratificationCategoryID1\": \"GENDER\", \"StratificationID1\": \"GENF\", \"StratificationCategoryID2\": null, \"StratificationID2\": null, \"StratificationCategoryID3\": null, \"StratificationID3\": null}, {\"YearStart\": 2012, \"YearEnd\": 2012, \"LocationAbbr\": \"NY\", \"LocationDesc\": \"New York\", \"DataSource\": \"NVSS\", \"Topic\": \"Cardiovascular Disease\", \"Question\": \"Mortality from coronary heart disease\", \"Response\": null, \"DataValueUnit\": \"cases per 100,000\", \"DataValueType\": \"Age-adjusted Rate\", \"DataValue\": 169.5, \"DataValueAlt\": 169.5, \"DataValueFootnoteSymbol\": NaN, \"DatavalueFootnote\": NaN, \"LowConfidenceLimit\": 166.8, \"HighConfidenceLimit\": 172.2, \"StratificationCategory1\": \"Gender\", \"Stratification1\": \"Male\", \"StratificationCategory2\": null, \"Stratification2\": null, \"StratificationCategory3\": null, \"Stratification3\": null, \"GeoLocation\": \"POINT (-75.54397042699964 42.82700103200045)\", \"ResponseID\": null, \"LocationID\": 36, \"TopicID\": \"CVD\", \"QuestionID\": \"CVD1_3\", \"DataValueTypeID\": \"AGEADJRATE\", \"StratificationCategoryID1\": \"GENDER\", \"StratificationID1\": \"GENM\", \"StratificationCategoryID2\": null, \"StratificationID2\": null, \"StratificationCategoryID3\": null, \"StratificationID3\": null}, {\"YearStart\": 2018, \"YearEnd\": 2018, \"LocationAbbr\": \"NY\", \"LocationDesc\": \"New York\", \"DataSource\": \"NVSS\", \"Topic\": \"Cardiovascular Disease\", \"Question\": \"Mortality from coronary heart disease\", \"Response\": null, \"DataValueUnit\": \"cases per 100,000\", \"DataValueType\": \"Age-adjusted Rate\", \"DataValue\": 90.2, \"DataValueAlt\": 90.2, \"DataValueFootnoteSymbol\": NaN, \"DatavalueFootnote\": NaN, \"LowConfidenceLimit\": 88.7, \"HighConfidenceLimit\": 91.7, \"StratificationCategory1\": \"Gender\", \"Stratification1\": \"Female\", \"StratificationCategory2\": null, \"Stratification2\": null, \"StratificationCategory3\": null, \"Stratification3\": null, \"GeoLocation\": \"POINT (-75.54397042699964 42.82700103200045)\", \"ResponseID\": null, \"LocationID\": 36, \"TopicID\": \"CVD\", \"QuestionID\": \"CVD1_3\", \"DataValueTypeID\": \"AGEADJRATE\", \"StratificationCategoryID1\": \"GENDER\", \"StratificationID1\": \"GENF\", \"StratificationCategoryID2\": null, \"StratificationID2\": null, \"StratificationCategoryID3\": null, \"StratificationID3\": null}, {\"YearStart\": 2011, \"YearEnd\": 2011, \"LocationAbbr\": \"NY\", \"LocationDesc\": \"New York\", \"DataSource\": \"NVSS\", \"Topic\": \"Cardiovascular Disease\", \"Question\": \"Mortality from coronary heart disease\", \"Response\": null, \"DataValueUnit\": null, \"DataValueType\": \"Number\", \"DataValue\": 16769.0, \"DataValueAlt\": 16769.0, \"DataValueFootnoteSymbol\": NaN, \"DatavalueFootnote\": NaN, \"LowConfidenceLimit\": null, \"HighConfidenceLimit\": null, \"StratificationCategory1\": \"Gender\", \"Stratification1\": \"Female\", \"StratificationCategory2\": null, \"Stratification2\": null, \"StratificationCategory3\": null, \"Stratification3\": null, \"GeoLocation\": \"POINT (-75.54397042699964 42.82700103200045)\", \"ResponseID\": null, \"LocationID\": 36, \"TopicID\": \"CVD\", \"QuestionID\": \"CVD1_3\", \"DataValueTypeID\": \"NMBR\", \"StratificationCategoryID1\": \"GENDER\", \"StratificationID1\": \"GENF\", \"StratificationCategoryID2\": null, \"StratificationID2\": null, \"StratificationCategoryID3\": null, \"StratificationID3\": null}, {\"YearStart\": 2019, \"YearEnd\": 2019, \"LocationAbbr\": \"NY\", \"LocationDesc\": \"New York\", \"DataSource\": \"NVSS\", \"Topic\": \"Cardiovascular Disease\", \"Question\": \"Mortality from coronary heart disease\", \"Response\": null, \"DataValueUnit\": \"Number\", \"DataValueType\": \"Number\", \"DataValue\": 14041.0, \"DataValueAlt\": 14041.0, \"DataValueFootnoteSymbol\": NaN, \"DatavalueFootnote\": NaN, \"LowConfidenceLimit\": null, \"HighConfidenceLimit\": null, \"StratificationCategory1\": \"Gender\", \"Stratification1\": \"Female\", \"StratificationCategory2\": null, \"Stratification2\": null, \"StratificationCategory3\": null, \"Stratification3\": null, \"GeoLocation\": \"POINT (-75.54397042699964 42.82700103200045)\", \"ResponseID\": null, \"LocationID\": 36, \"TopicID\": \"CVD\", \"QuestionID\": \"CVD1_3\", \"DataValueTypeID\": \"NMBR\", \"StratificationCategoryID1\": \"GENDER\", \"StratificationID1\": \"GENF\", \"StratificationCategoryID2\": null, \"StratificationID2\": null, \"StratificationCategoryID3\": null, \"StratificationID3\": null}, {\"YearStart\": 2013, \"YearEnd\": 2013, \"LocationAbbr\": \"NY\", \"LocationDesc\": \"New York\", \"DataSource\": \"NVSS\", \"Topic\": \"Cardiovascular Disease\", \"Question\": \"Mortality from coronary heart disease\", \"Response\": null, \"DataValueUnit\": null, \"DataValueType\": \"Number\", \"DataValue\": 15637.0, \"DataValueAlt\": 15637.0, \"DataValueFootnoteSymbol\": NaN, \"DatavalueFootnote\": NaN, \"LowConfidenceLimit\": null, \"HighConfidenceLimit\": null, \"StratificationCategory1\": \"Gender\", \"Stratification1\": \"Male\", \"StratificationCategory2\": null, \"Stratification2\": null, \"StratificationCategory3\": null, \"Stratification3\": null, \"GeoLocation\": \"POINT (-75.54397042699964 42.82700103200045)\", \"ResponseID\": null, \"LocationID\": 36, \"TopicID\": \"CVD\", \"QuestionID\": \"CVD1_3\", \"DataValueTypeID\": \"NMBR\", \"StratificationCategoryID1\": \"GENDER\", \"StratificationID1\": \"GENM\", \"StratificationCategoryID2\": null, \"StratificationID2\": null, \"StratificationCategoryID3\": null, \"StratificationID3\": null}, {\"YearStart\": 2013, \"YearEnd\": 2013, \"LocationAbbr\": \"NY\", \"LocationDesc\": \"New York\", \"DataSource\": \"NVSS\", \"Topic\": \"Cardiovascular Disease\", \"Question\": \"Mortality from coronary heart disease\", \"Response\": null, \"DataValueUnit\": \"cases per 100,000\", \"DataValueType\": \"Crude Rate\", \"DataValue\": 153.7, \"DataValueAlt\": 153.7, \"DataValueFootnoteSymbol\": NaN, \"DatavalueFootnote\": NaN, \"LowConfidenceLimit\": 151.3, \"HighConfidenceLimit\": 156.1, \"StratificationCategory1\": \"Gender\", \"Stratification1\": \"Female\", \"StratificationCategory2\": null, \"Stratification2\": null, \"StratificationCategory3\": null, \"Stratification3\": null, \"GeoLocation\": \"POINT (-75.54397042699964 42.82700103200045)\", \"ResponseID\": null, \"LocationID\": 36, \"TopicID\": \"CVD\", \"QuestionID\": \"CVD1_3\", \"DataValueTypeID\": \"CRDRATE\", \"StratificationCategoryID1\": \"GENDER\", \"StratificationID1\": \"GENF\", \"StratificationCategoryID2\": null, \"StratificationID2\": null, \"StratificationCategoryID3\": null, \"StratificationID3\": null}, {\"YearStart\": 2017, \"YearEnd\": 2017, \"LocationAbbr\": \"NY\", \"LocationDesc\": \"New York\", \"DataSource\": \"NVSS\", \"Topic\": \"Cardiovascular Disease\", \"Question\": \"Mortality from coronary heart disease\", \"Response\": null, \"DataValueUnit\": \"cases per 100,000\", \"DataValueType\": \"Age-adjusted Rate\", \"DataValue\": 90.0, \"DataValueAlt\": 90.0, \"DataValueFootnoteSymbol\": NaN, \"DatavalueFootnote\": NaN, \"LowConfidenceLimit\": 88.5, \"HighConfidenceLimit\": 91.5, \"StratificationCategory1\": \"Gender\", \"Stratification1\": \"Female\", \"StratificationCategory2\": null, \"Stratification2\": null, \"StratificationCategory3\": null, \"Stratification3\": null, \"GeoLocation\": \"POINT (-75.54397042699964 42.82700103200045)\", \"ResponseID\": null, \"LocationID\": 36, \"TopicID\": \"CVD\", \"QuestionID\": \"CVD1_3\", \"DataValueTypeID\": \"AGEADJRATE\", \"StratificationCategoryID1\": \"GENDER\", \"StratificationID1\": \"GENF\", \"StratificationCategoryID2\": null, \"StratificationID2\": null, \"StratificationCategoryID3\": null, \"StratificationID3\": null}, {\"YearStart\": 2018, \"YearEnd\": 2018, \"LocationAbbr\": \"NY\", \"LocationDesc\": \"New York\", \"DataSource\": \"NVSS\", \"Topic\": \"Cardiovascular Disease\", \"Question\": \"Mortality from coronary heart disease\", \"Response\": null, \"DataValueUnit\": null, \"DataValueType\": \"Number\", \"DataValue\": 15905.0, \"DataValueAlt\": 15905.0, \"DataValueFootnoteSymbol\": NaN, \"DatavalueFootnote\": NaN, \"LowConfidenceLimit\": null, \"HighConfidenceLimit\": null, \"StratificationCategory1\": \"Gender\", \"Stratification1\": \"Male\", \"StratificationCategory2\": null, \"Stratification2\": null, \"StratificationCategory3\": null, \"Stratification3\": null, \"GeoLocation\": \"POINT (-75.54397042699964 42.82700103200045)\", \"ResponseID\": null, \"LocationID\": 36, \"TopicID\": \"CVD\", \"QuestionID\": \"CVD1_3\", \"DataValueTypeID\": \"NMBR\", \"StratificationCategoryID1\": \"GENDER\", \"StratificationID1\": \"GENM\", \"StratificationCategoryID2\": null, \"StratificationID2\": null, \"StratificationCategoryID3\": null, \"StratificationID3\": null}, {\"YearStart\": 2016, \"YearEnd\": 2016, \"LocationAbbr\": \"NY\", \"LocationDesc\": \"New York\", \"DataSource\": \"NVSS\", \"Topic\": \"Cardiovascular Disease\", \"Question\": \"Mortality from coronary heart disease\", \"Response\": null, \"DataValueUnit\": \"cases per 100,000\", \"DataValueType\": \"Crude Rate\", \"DataValue\": 143.0, \"DataValueAlt\": 143.0, \"DataValueFootnoteSymbol\": NaN, \"DatavalueFootnote\": NaN, \"LowConfidenceLimit\": 140.7, \"HighConfidenceLimit\": 145.3, \"StratificationCategory1\": \"Gender\", \"Stratification1\": \"Female\", \"StratificationCategory2\": null, \"Stratification2\": null, \"StratificationCategory3\": null, \"Stratification3\": null, \"GeoLocation\": \"POINT (-75.54397042699964 42.82700103200045)\", \"ResponseID\": null, \"LocationID\": 36, \"TopicID\": \"CVD\", \"QuestionID\": \"CVD1_3\", \"DataValueTypeID\": \"CRDRATE\", \"StratificationCategoryID1\": \"GENDER\", \"StratificationID1\": \"GENF\", \"StratificationCategoryID2\": null, \"StratificationID2\": null, \"StratificationCategoryID3\": null, \"StratificationID3\": null}, {\"YearStart\": 2012, \"YearEnd\": 2012, \"LocationAbbr\": \"NY\", \"LocationDesc\": \"New York\", \"DataSource\": \"NVSS\", \"Topic\": \"Cardiovascular Disease\", \"Question\": \"Mortality from coronary heart disease\", \"Response\": null, \"DataValueUnit\": \"cases per 100,000\", \"DataValueType\": \"Age-adjusted Rate\", \"DataValue\": 107.0, \"DataValueAlt\": 107.0, \"DataValueFootnoteSymbol\": NaN, \"DatavalueFootnote\": NaN, \"LowConfidenceLimit\": 105.3, \"HighConfidenceLimit\": 108.7, \"StratificationCategory1\": \"Gender\", \"Stratification1\": \"Female\", \"StratificationCategory2\": null, \"Stratification2\": null, \"StratificationCategory3\": null, \"Stratification3\": null, \"GeoLocation\": \"POINT (-75.54397042699964 42.82700103200045)\", \"ResponseID\": null, \"LocationID\": 36, \"TopicID\": \"CVD\", \"QuestionID\": \"CVD1_3\", \"DataValueTypeID\": \"AGEADJRATE\", \"StratificationCategoryID1\": \"GENDER\", \"StratificationID1\": \"GENF\", \"StratificationCategoryID2\": null, \"StratificationID2\": null, \"StratificationCategoryID3\": null, \"StratificationID3\": null}, {\"YearStart\": 2015, \"YearEnd\": 2015, \"LocationAbbr\": \"NY\", \"LocationDesc\": \"New York\", \"DataSource\": \"NVSS\", \"Topic\": \"Cardiovascular Disease\", \"Question\": \"Mortality from coronary heart disease\", \"Response\": null, \"DataValueUnit\": null, \"DataValueType\": \"Number\", \"DataValue\": 15022.0, \"DataValueAlt\": 15022.0, \"DataValueFootnoteSymbol\": NaN, \"DatavalueFootnote\": NaN, \"LowConfidenceLimit\": null, \"HighConfidenceLimit\": null, \"StratificationCategory1\": \"Gender\", \"Stratification1\": \"Female\", \"StratificationCategory2\": null, \"Stratification2\": null, \"StratificationCategory3\": null, \"Stratification3\": null, \"GeoLocation\": \"POINT (-75.54397042699964 42.82700103200045)\", \"ResponseID\": null, \"LocationID\": 36, \"TopicID\": \"CVD\", \"QuestionID\": \"CVD1_3\", \"DataValueTypeID\": \"NMBR\", \"StratificationCategoryID1\": \"GENDER\", \"StratificationID1\": \"GENF\", \"StratificationCategoryID2\": null, \"StratificationID2\": null, \"StratificationCategoryID3\": null, \"StratificationID3\": null}, {\"YearStart\": 2020, \"YearEnd\": 2020, \"LocationAbbr\": \"NY\", \"LocationDesc\": \"New York\", \"DataSource\": \"NVSS\", \"Topic\": \"Cardiovascular Disease\", \"Question\": \"Mortality from coronary heart disease\", \"Response\": null, \"DataValueUnit\": \"Number\", \"DataValueType\": \"Number\", \"DataValue\": 15651.0, \"DataValueAlt\": 15651.0, \"DataValueFootnoteSymbol\": NaN, \"DatavalueFootnote\": NaN, \"LowConfidenceLimit\": null, \"HighConfidenceLimit\": null, \"StratificationCategory1\": \"Gender\", \"Stratification1\": \"Female\", \"StratificationCategory2\": null, \"Stratification2\": null, \"StratificationCategory3\": null, \"Stratification3\": null, \"GeoLocation\": \"POINT (-75.54397042699964 42.82700103200045)\", \"ResponseID\": null, \"LocationID\": 36, \"TopicID\": \"CVD\", \"QuestionID\": \"CVD1_3\", \"DataValueTypeID\": \"NMBR\", \"StratificationCategoryID1\": \"GENDER\", \"StratificationID1\": \"GENF\", \"StratificationCategoryID2\": null, \"StratificationID2\": null, \"StratificationCategoryID3\": null, \"StratificationID3\": null}, {\"YearStart\": 2011, \"YearEnd\": 2011, \"LocationAbbr\": \"NY\", \"LocationDesc\": \"New York\", \"DataSource\": \"NVSS\", \"Topic\": \"Cardiovascular Disease\", \"Question\": \"Mortality from coronary heart disease\", \"Response\": null, \"DataValueUnit\": \"cases per 100,000\", \"DataValueType\": \"Crude Rate\", \"DataValue\": 166.1, \"DataValueAlt\": 166.1, \"DataValueFootnoteSymbol\": NaN, \"DatavalueFootnote\": NaN, \"LowConfidenceLimit\": 163.5, \"HighConfidenceLimit\": 168.7, \"StratificationCategory1\": \"Gender\", \"Stratification1\": \"Male\", \"StratificationCategory2\": null, \"Stratification2\": null, \"StratificationCategory3\": null, \"Stratification3\": null, \"GeoLocation\": \"POINT (-75.54397042699964 42.82700103200045)\", \"ResponseID\": null, \"LocationID\": 36, \"TopicID\": \"CVD\", \"QuestionID\": \"CVD1_3\", \"DataValueTypeID\": \"CRDRATE\", \"StratificationCategoryID1\": \"GENDER\", \"StratificationID1\": \"GENM\", \"StratificationCategoryID2\": null, \"StratificationID2\": null, \"StratificationCategoryID3\": null, \"StratificationID3\": null}, {\"YearStart\": 2010, \"YearEnd\": 2010, \"LocationAbbr\": \"NY\", \"LocationDesc\": \"New York\", \"DataSource\": \"NVSS\", \"Topic\": \"Cardiovascular Disease\", \"Question\": \"Mortality from coronary heart disease\", \"Response\": null, \"DataValueUnit\": \"cases per 100,000\", \"DataValueType\": \"Age-adjusted Rate\", \"DataValue\": 119.3, \"DataValueAlt\": 119.3, \"DataValueFootnoteSymbol\": NaN, \"DatavalueFootnote\": NaN, \"LowConfidenceLimit\": 117.5, \"HighConfidenceLimit\": 121.2, \"StratificationCategory1\": \"Gender\", \"Stratification1\": \"Female\", \"StratificationCategory2\": null, \"Stratification2\": null, \"StratificationCategory3\": null, \"Stratification3\": null, \"GeoLocation\": \"POINT (-75.54397042699964 42.82700103200045)\", \"ResponseID\": null, \"LocationID\": 36, \"TopicID\": \"CVD\", \"QuestionID\": \"CVD1_3\", \"DataValueTypeID\": \"AGEADJRATE\", \"StratificationCategoryID1\": \"GENDER\", \"StratificationID1\": \"GENF\", \"StratificationCategoryID2\": null, \"StratificationID2\": null, \"StratificationCategoryID3\": null, \"StratificationID3\": null}, {\"YearStart\": 2015, \"YearEnd\": 2015, \"LocationAbbr\": \"NY\", \"LocationDesc\": \"New York\", \"DataSource\": \"NVSS\", \"Topic\": \"Cardiovascular Disease\", \"Question\": \"Mortality from coronary heart disease\", \"Response\": null, \"DataValueUnit\": \"cases per 100,000\", \"DataValueType\": \"Crude Rate\", \"DataValue\": 161.1, \"DataValueAlt\": 161.1, \"DataValueFootnoteSymbol\": NaN, \"DatavalueFootnote\": NaN, \"LowConfidenceLimit\": 158.5, \"HighConfidenceLimit\": 163.6, \"StratificationCategory1\": \"Gender\", \"Stratification1\": \"Male\", \"StratificationCategory2\": null, \"Stratification2\": null, \"StratificationCategory3\": null, \"Stratification3\": null, \"GeoLocation\": \"POINT (-75.54397042699964 42.82700103200045)\", \"ResponseID\": null, \"LocationID\": 36, \"TopicID\": \"CVD\", \"QuestionID\": \"CVD1_3\", \"DataValueTypeID\": \"CRDRATE\", \"StratificationCategoryID1\": \"GENDER\", \"StratificationID1\": \"GENM\", \"StratificationCategoryID2\": null, \"StratificationID2\": null, \"StratificationCategoryID3\": null, \"StratificationID3\": null}, {\"YearStart\": 2014, \"YearEnd\": 2014, \"LocationAbbr\": \"NY\", \"LocationDesc\": \"New York\", \"DataSource\": \"NVSS\", \"Topic\": \"Cardiovascular Disease\", \"Question\": \"Mortality from coronary heart disease\", \"Response\": null, \"DataValueUnit\": null, \"DataValueType\": \"Number\", \"DataValue\": 15156.0, \"DataValueAlt\": 15156.0, \"DataValueFootnoteSymbol\": NaN, \"DatavalueFootnote\": NaN, \"LowConfidenceLimit\": null, \"HighConfidenceLimit\": null, \"StratificationCategory1\": \"Gender\", \"Stratification1\": \"Male\", \"StratificationCategory2\": null, \"Stratification2\": null, \"StratificationCategory3\": null, \"Stratification3\": null, \"GeoLocation\": \"POINT (-75.54397042699964 42.82700103200045)\", \"ResponseID\": null, \"LocationID\": 36, \"TopicID\": \"CVD\", \"QuestionID\": \"CVD1_3\", \"DataValueTypeID\": \"NMBR\", \"StratificationCategoryID1\": \"GENDER\", \"StratificationID1\": \"GENM\", \"StratificationCategoryID2\": null, \"StratificationID2\": null, \"StratificationCategoryID3\": null, \"StratificationID3\": null}, {\"YearStart\": 2017, \"YearEnd\": 2017, \"LocationAbbr\": \"NY\", \"LocationDesc\": \"New York\", \"DataSource\": \"NVSS\", \"Topic\": \"Cardiovascular Disease\", \"Question\": \"Mortality from coronary heart disease\", \"Response\": null, \"DataValueUnit\": null, \"DataValueType\": \"Number\", \"DataValue\": 15601.0, \"DataValueAlt\": 15601.0, \"DataValueFootnoteSymbol\": NaN, \"DatavalueFootnote\": NaN, \"LowConfidenceLimit\": null, \"HighConfidenceLimit\": null, \"StratificationCategory1\": \"Gender\", \"Stratification1\": \"Male\", \"StratificationCategory2\": null, \"Stratification2\": null, \"StratificationCategory3\": null, \"Stratification3\": null, \"GeoLocation\": \"POINT (-75.54397042699964 42.82700103200045)\", \"ResponseID\": null, \"LocationID\": 36, \"TopicID\": \"CVD\", \"QuestionID\": \"CVD1_3\", \"DataValueTypeID\": \"NMBR\", \"StratificationCategoryID1\": \"GENDER\", \"StratificationID1\": \"GENM\", \"StratificationCategoryID2\": null, \"StratificationID2\": null, \"StratificationCategoryID3\": null, \"StratificationID3\": null}, {\"YearStart\": 2010, \"YearEnd\": 2010, \"LocationAbbr\": \"NY\", \"LocationDesc\": \"New York\", \"DataSource\": \"NVSS\", \"Topic\": \"Cardiovascular Disease\", \"Question\": \"Mortality from coronary heart disease\", \"Response\": null, \"DataValueUnit\": \"cases per 100,000\", \"DataValueType\": \"Crude Rate\", \"DataValue\": 171.5, \"DataValueAlt\": 171.5, \"DataValueFootnoteSymbol\": NaN, \"DatavalueFootnote\": NaN, \"LowConfidenceLimit\": 169.0, \"HighConfidenceLimit\": 174.1, \"StratificationCategory1\": \"Gender\", \"Stratification1\": \"Female\", \"StratificationCategory2\": null, \"Stratification2\": null, \"StratificationCategory3\": null, \"Stratification3\": null, \"GeoLocation\": \"POINT (-75.54397042699964 42.82700103200045)\", \"ResponseID\": null, \"LocationID\": 36, \"TopicID\": \"CVD\", \"QuestionID\": \"CVD1_3\", \"DataValueTypeID\": \"CRDRATE\", \"StratificationCategoryID1\": \"GENDER\", \"StratificationID1\": \"GENF\", \"StratificationCategoryID2\": null, \"StratificationID2\": null, \"StratificationCategoryID3\": null, \"StratificationID3\": null}, {\"YearStart\": 2016, \"YearEnd\": 2016, \"LocationAbbr\": \"NY\", \"LocationDesc\": \"New York\", \"DataSource\": \"NVSS\", \"Topic\": \"Cardiovascular Disease\", \"Question\": \"Mortality from coronary heart disease\", \"Response\": null, \"DataValueUnit\": \"cases per 100,000\", \"DataValueType\": \"Age-adjusted Rate\", \"DataValue\": 94.2, \"DataValueAlt\": 94.2, \"DataValueFootnoteSymbol\": NaN, \"DatavalueFootnote\": NaN, \"LowConfidenceLimit\": 92.6, \"HighConfidenceLimit\": 95.7, \"StratificationCategory1\": \"Gender\", \"Stratification1\": \"Female\", \"StratificationCategory2\": null, \"Stratification2\": null, \"StratificationCategory3\": null, \"Stratification3\": null, \"GeoLocation\": \"POINT (-75.54397042699964 42.82700103200045)\", \"ResponseID\": null, \"LocationID\": 36, \"TopicID\": \"CVD\", \"QuestionID\": \"CVD1_3\", \"DataValueTypeID\": \"AGEADJRATE\", \"StratificationCategoryID1\": \"GENDER\", \"StratificationID1\": \"GENF\", \"StratificationCategoryID2\": null, \"StratificationID2\": null, \"StratificationCategoryID3\": null, \"StratificationID3\": null}, {\"YearStart\": 2012, \"YearEnd\": 2012, \"LocationAbbr\": \"NY\", \"LocationDesc\": \"New York\", \"DataSource\": \"NVSS\", \"Topic\": \"Cardiovascular Disease\", \"Question\": \"Mortality from coronary heart disease\", \"Response\": null, \"DataValueUnit\": \"cases per 100,000\", \"DataValueType\": \"Crude Rate\", \"DataValue\": 158.4, \"DataValueAlt\": 158.4, \"DataValueFootnoteSymbol\": NaN, \"DatavalueFootnote\": NaN, \"LowConfidenceLimit\": 155.9, \"HighConfidenceLimit\": 160.8, \"StratificationCategory1\": \"Gender\", \"Stratification1\": \"Female\", \"StratificationCategory2\": null, \"Stratification2\": null, \"StratificationCategory3\": null, \"Stratification3\": null, \"GeoLocation\": \"POINT (-75.54397042699964 42.82700103200045)\", \"ResponseID\": null, \"LocationID\": 36, \"TopicID\": \"CVD\", \"QuestionID\": \"CVD1_3\", \"DataValueTypeID\": \"CRDRATE\", \"StratificationCategoryID1\": \"GENDER\", \"StratificationID1\": \"GENF\", \"StratificationCategoryID2\": null, \"StratificationID2\": null, \"StratificationCategoryID3\": null, \"StratificationID3\": null}, {\"YearStart\": 2020, \"YearEnd\": 2020, \"LocationAbbr\": \"NY\", \"LocationDesc\": \"New York\", \"DataSource\": \"NVSS\", \"Topic\": \"Cardiovascular Disease\", \"Question\": \"Mortality from coronary heart disease\", \"Response\": null, \"DataValueUnit\": \"cases per 100,000\", \"DataValueType\": \"Crude Rate\", \"DataValue\": 157.4, \"DataValueAlt\": 157.4, \"DataValueFootnoteSymbol\": NaN, \"DatavalueFootnote\": NaN, \"LowConfidenceLimit\": 154.9, \"HighConfidenceLimit\": 159.8, \"StratificationCategory1\": \"Gender\", \"Stratification1\": \"Female\", \"StratificationCategory2\": null, \"Stratification2\": null, \"StratificationCategory3\": null, \"Stratification3\": null, \"GeoLocation\": \"POINT (-75.54397042699964 42.82700103200045)\", \"ResponseID\": null, \"LocationID\": 36, \"TopicID\": \"CVD\", \"QuestionID\": \"CVD1_3\", \"DataValueTypeID\": \"CRDRATE\", \"StratificationCategoryID1\": \"GENDER\", \"StratificationID1\": \"GENF\", \"StratificationCategoryID2\": null, \"StratificationID2\": null, \"StratificationCategoryID3\": null, \"StratificationID3\": null}, {\"YearStart\": 2019, \"YearEnd\": 2019, \"LocationAbbr\": \"NY\", \"LocationDesc\": \"New York\", \"DataSource\": \"NVSS\", \"Topic\": \"Cardiovascular Disease\", \"Question\": \"Mortality from coronary heart disease\", \"Response\": null, \"DataValueUnit\": \"cases per 100,000\", \"DataValueType\": \"Age-adjusted Rate\", \"DataValue\": 86.3, \"DataValueAlt\": 86.3, \"DataValueFootnoteSymbol\": NaN, \"DatavalueFootnote\": NaN, \"LowConfidenceLimit\": 84.9, \"HighConfidenceLimit\": 87.8, \"StratificationCategory1\": \"Gender\", \"Stratification1\": \"Female\", \"StratificationCategory2\": null, \"Stratification2\": null, \"StratificationCategory3\": null, \"Stratification3\": null, \"GeoLocation\": \"POINT (-75.54397042699964 42.82700103200045)\", \"ResponseID\": null, \"LocationID\": 36, \"TopicID\": \"CVD\", \"QuestionID\": \"CVD1_3\", \"DataValueTypeID\": \"AGEADJRATE\", \"StratificationCategoryID1\": \"GENDER\", \"StratificationID1\": \"GENF\", \"StratificationCategoryID2\": null, \"StratificationID2\": null, \"StratificationCategoryID3\": null, \"StratificationID3\": null}, {\"YearStart\": 2017, \"YearEnd\": 2017, \"LocationAbbr\": \"NY\", \"LocationDesc\": \"New York\", \"DataSource\": \"NVSS\", \"Topic\": \"Cardiovascular Disease\", \"Question\": \"Mortality from coronary heart disease\", \"Response\": null, \"DataValueUnit\": \"cases per 100,000\", \"DataValueType\": \"Crude Rate\", \"DataValue\": 141.3, \"DataValueAlt\": 141.3, \"DataValueFootnoteSymbol\": NaN, \"DatavalueFootnote\": NaN, \"LowConfidenceLimit\": 139.0, \"HighConfidenceLimit\": 143.6, \"StratificationCategory1\": \"Gender\", \"Stratification1\": \"Female\", \"StratificationCategory2\": null, \"Stratification2\": null, \"StratificationCategory3\": null, \"Stratification3\": null, \"GeoLocation\": \"POINT (-75.54397042699964 42.82700103200045)\", \"ResponseID\": null, \"LocationID\": 36, \"TopicID\": \"CVD\", \"QuestionID\": \"CVD1_3\", \"DataValueTypeID\": \"CRDRATE\", \"StratificationCategoryID1\": \"GENDER\", \"StratificationID1\": \"GENF\", \"StratificationCategoryID2\": null, \"StratificationID2\": null, \"StratificationCategoryID3\": null, \"StratificationID3\": null}, {\"YearStart\": 2013, \"YearEnd\": 2013, \"LocationAbbr\": \"NY\", \"LocationDesc\": \"New York\", \"DataSource\": \"NVSS\", \"Topic\": \"Cardiovascular Disease\", \"Question\": \"Mortality from coronary heart disease\", \"Response\": null, \"DataValueUnit\": \"cases per 100,000\", \"DataValueType\": \"Age-adjusted Rate\", \"DataValue\": 103.3, \"DataValueAlt\": 103.3, \"DataValueFootnoteSymbol\": NaN, \"DatavalueFootnote\": NaN, \"LowConfidenceLimit\": 101.6, \"HighConfidenceLimit\": 104.9, \"StratificationCategory1\": \"Gender\", \"Stratification1\": \"Female\", \"StratificationCategory2\": null, \"Stratification2\": null, \"StratificationCategory3\": null, \"Stratification3\": null, \"GeoLocation\": \"POINT (-75.54397042699964 42.82700103200045)\", \"ResponseID\": null, \"LocationID\": 36, \"TopicID\": \"CVD\", \"QuestionID\": \"CVD1_3\", \"DataValueTypeID\": \"AGEADJRATE\", \"StratificationCategoryID1\": \"GENDER\", \"StratificationID1\": \"GENF\", \"StratificationCategoryID2\": null, \"StratificationID2\": null, \"StratificationCategoryID3\": null, \"StratificationID3\": null}, {\"YearStart\": 2011, \"YearEnd\": 2011, \"LocationAbbr\": \"NY\", \"LocationDesc\": \"New York\", \"DataSource\": \"NVSS\", \"Topic\": \"Cardiovascular Disease\", \"Question\": \"Mortality from coronary heart disease\", \"Response\": null, \"DataValueUnit\": \"cases per 100,000\", \"DataValueType\": \"Crude Rate\", \"DataValue\": 167.1, \"DataValueAlt\": 167.1, \"DataValueFootnoteSymbol\": NaN, \"DatavalueFootnote\": NaN, \"LowConfidenceLimit\": 164.6, \"HighConfidenceLimit\": 169.7, \"StratificationCategory1\": \"Gender\", \"Stratification1\": \"Female\", \"StratificationCategory2\": null, \"Stratification2\": null, \"StratificationCategory3\": null, \"Stratification3\": null, \"GeoLocation\": \"POINT (-75.54397042699964 42.82700103200045)\", \"ResponseID\": null, \"LocationID\": 36, \"TopicID\": \"CVD\", \"QuestionID\": \"CVD1_3\", \"DataValueTypeID\": \"CRDRATE\", \"StratificationCategoryID1\": \"GENDER\", \"StratificationID1\": \"GENF\", \"StratificationCategoryID2\": null, \"StratificationID2\": null, \"StratificationCategoryID3\": null, \"StratificationID3\": null}, {\"YearStart\": 2010, \"YearEnd\": 2010, \"LocationAbbr\": \"NY\", \"LocationDesc\": \"New York\", \"DataSource\": \"NVSS\", \"Topic\": \"Cardiovascular Disease\", \"Question\": \"Mortality from coronary heart disease\", \"Response\": null, \"DataValueUnit\": null, \"DataValueType\": \"Number\", \"DataValue\": 16125.0, \"DataValueAlt\": 16125.0, \"DataValueFootnoteSymbol\": NaN, \"DatavalueFootnote\": NaN, \"LowConfidenceLimit\": null, \"HighConfidenceLimit\": null, \"StratificationCategory1\": \"Gender\", \"Stratification1\": \"Male\", \"StratificationCategory2\": null, \"Stratification2\": null, \"StratificationCategory3\": null, \"Stratification3\": null, \"GeoLocation\": \"POINT (-75.54397042699964 42.82700103200045)\", \"ResponseID\": null, \"LocationID\": 36, \"TopicID\": \"CVD\", \"QuestionID\": \"CVD1_3\", \"DataValueTypeID\": \"NMBR\", \"StratificationCategoryID1\": \"GENDER\", \"StratificationID1\": \"GENM\", \"StratificationCategoryID2\": null, \"StratificationID2\": null, \"StratificationCategoryID3\": null, \"StratificationID3\": null}, {\"YearStart\": 2019, \"YearEnd\": 2019, \"LocationAbbr\": \"NY\", \"LocationDesc\": \"New York\", \"DataSource\": \"NVSS\", \"Topic\": \"Cardiovascular Disease\", \"Question\": \"Mortality from coronary heart disease\", \"Response\": null, \"DataValueUnit\": \"Number\", \"DataValueType\": \"Number\", \"DataValue\": 15830.0, \"DataValueAlt\": 15830.0, \"DataValueFootnoteSymbol\": NaN, \"DatavalueFootnote\": NaN, \"LowConfidenceLimit\": null, \"HighConfidenceLimit\": null, \"StratificationCategory1\": \"Gender\", \"Stratification1\": \"Male\", \"StratificationCategory2\": null, \"Stratification2\": null, \"StratificationCategory3\": null, \"Stratification3\": null, \"GeoLocation\": \"POINT (-75.54397042699964 42.82700103200045)\", \"ResponseID\": null, \"LocationID\": 36, \"TopicID\": \"CVD\", \"QuestionID\": \"CVD1_3\", \"DataValueTypeID\": \"NMBR\", \"StratificationCategoryID1\": \"GENDER\", \"StratificationID1\": \"GENM\", \"StratificationCategoryID2\": null, \"StratificationID2\": null, \"StratificationCategoryID3\": null, \"StratificationID3\": null}, {\"YearStart\": 2014, \"YearEnd\": 2014, \"LocationAbbr\": \"NY\", \"LocationDesc\": \"New York\", \"DataSource\": \"NVSS\", \"Topic\": \"Cardiovascular Disease\", \"Question\": \"Mortality from coronary heart disease\", \"Response\": null, \"DataValueUnit\": \"cases per 100,000\", \"DataValueType\": \"Age-adjusted Rate\", \"DataValue\": 98.9, \"DataValueAlt\": 98.9, \"DataValueFootnoteSymbol\": NaN, \"DatavalueFootnote\": NaN, \"LowConfidenceLimit\": 97.3, \"HighConfidenceLimit\": 100.6, \"StratificationCategory1\": \"Gender\", \"Stratification1\": \"Female\", \"StratificationCategory2\": null, \"Stratification2\": null, \"StratificationCategory3\": null, \"Stratification3\": null, \"GeoLocation\": \"POINT (-75.54397042699964 42.82700103200045)\", \"ResponseID\": null, \"LocationID\": 36, \"TopicID\": \"CVD\", \"QuestionID\": \"CVD1_3\", \"DataValueTypeID\": \"AGEADJRATE\", \"StratificationCategoryID1\": \"GENDER\", \"StratificationID1\": \"GENF\", \"StratificationCategoryID2\": null, \"StratificationID2\": null, \"StratificationCategoryID3\": null, \"StratificationID3\": null}, {\"YearStart\": 2015, \"YearEnd\": 2015, \"LocationAbbr\": \"NY\", \"LocationDesc\": \"New York\", \"DataSource\": \"NVSS\", \"Topic\": \"Cardiovascular Disease\", \"Question\": \"Mortality from coronary heart disease\", \"Response\": null, \"DataValueUnit\": \"cases per 100,000\", \"DataValueType\": \"Crude Rate\", \"DataValue\": 147.5, \"DataValueAlt\": 147.5, \"DataValueFootnoteSymbol\": NaN, \"DatavalueFootnote\": NaN, \"LowConfidenceLimit\": 145.1, \"HighConfidenceLimit\": 149.9, \"StratificationCategory1\": \"Gender\", \"Stratification1\": \"Female\", \"StratificationCategory2\": null, \"Stratification2\": null, \"StratificationCategory3\": null, \"Stratification3\": null, \"GeoLocation\": \"POINT (-75.54397042699964 42.82700103200045)\", \"ResponseID\": null, \"LocationID\": 36, \"TopicID\": \"CVD\", \"QuestionID\": \"CVD1_3\", \"DataValueTypeID\": \"CRDRATE\", \"StratificationCategoryID1\": \"GENDER\", \"StratificationID1\": \"GENF\", \"StratificationCategoryID2\": null, \"StratificationID2\": null, \"StratificationCategoryID3\": null, \"StratificationID3\": null}, {\"YearStart\": 2015, \"YearEnd\": 2015, \"LocationAbbr\": \"NY\", \"LocationDesc\": \"New York\", \"DataSource\": \"NVSS\", \"Topic\": \"Cardiovascular Disease\", \"Question\": \"Mortality from coronary heart disease\", \"Response\": null, \"DataValueUnit\": null, \"DataValueType\": \"Number\", \"DataValue\": 15480.0, \"DataValueAlt\": 15480.0, \"DataValueFootnoteSymbol\": NaN, \"DatavalueFootnote\": NaN, \"LowConfidenceLimit\": null, \"HighConfidenceLimit\": null, \"StratificationCategory1\": \"Gender\", \"Stratification1\": \"Male\", \"StratificationCategory2\": null, \"Stratification2\": null, \"StratificationCategory3\": null, \"Stratification3\": null, \"GeoLocation\": \"POINT (-75.54397042699964 42.82700103200045)\", \"ResponseID\": null, \"LocationID\": 36, \"TopicID\": \"CVD\", \"QuestionID\": \"CVD1_3\", \"DataValueTypeID\": \"NMBR\", \"StratificationCategoryID1\": \"GENDER\", \"StratificationID1\": \"GENM\", \"StratificationCategoryID2\": null, \"StratificationID2\": null, \"StratificationCategoryID3\": null, \"StratificationID3\": null}, {\"YearStart\": 2016, \"YearEnd\": 2016, \"LocationAbbr\": \"NY\", \"LocationDesc\": \"New York\", \"DataSource\": \"NVSS\", \"Topic\": \"Cardiovascular Disease\", \"Question\": \"Mortality from coronary heart disease\", \"Response\": null, \"DataValueUnit\": \"cases per 100,000\", \"DataValueType\": \"Age-adjusted Rate\", \"DataValue\": 154.2, \"DataValueAlt\": 154.2, \"DataValueFootnoteSymbol\": NaN, \"DatavalueFootnote\": NaN, \"LowConfidenceLimit\": 151.8, \"HighConfidenceLimit\": 156.7, \"StratificationCategory1\": \"Gender\", \"Stratification1\": \"Male\", \"StratificationCategory2\": null, \"Stratification2\": null, \"StratificationCategory3\": null, \"Stratification3\": null, \"GeoLocation\": \"POINT (-75.54397042699964 42.82700103200045)\", \"ResponseID\": null, \"LocationID\": 36, \"TopicID\": \"CVD\", \"QuestionID\": \"CVD1_3\", \"DataValueTypeID\": \"AGEADJRATE\", \"StratificationCategoryID1\": \"GENDER\", \"StratificationID1\": \"GENM\", \"StratificationCategoryID2\": null, \"StratificationID2\": null, \"StratificationCategoryID3\": null, \"StratificationID3\": null}, {\"YearStart\": 2012, \"YearEnd\": 2012, \"LocationAbbr\": \"NY\", \"LocationDesc\": \"New York\", \"DataSource\": \"NVSS\", \"Topic\": \"Cardiovascular Disease\", \"Question\": \"Mortality from coronary heart disease\", \"Response\": null, \"DataValueUnit\": null, \"DataValueType\": \"Number\", \"DataValue\": 15967.0, \"DataValueAlt\": 15967.0, \"DataValueFootnoteSymbol\": NaN, \"DatavalueFootnote\": NaN, \"LowConfidenceLimit\": null, \"HighConfidenceLimit\": null, \"StratificationCategory1\": \"Gender\", \"Stratification1\": \"Female\", \"StratificationCategory2\": null, \"Stratification2\": null, \"StratificationCategory3\": null, \"Stratification3\": null, \"GeoLocation\": \"POINT (-75.54397042699964 42.82700103200045)\", \"ResponseID\": null, \"LocationID\": 36, \"TopicID\": \"CVD\", \"QuestionID\": \"CVD1_3\", \"DataValueTypeID\": \"NMBR\", \"StratificationCategoryID1\": \"GENDER\", \"StratificationID1\": \"GENF\", \"StratificationCategoryID2\": null, \"StratificationID2\": null, \"StratificationCategoryID3\": null, \"StratificationID3\": null}, {\"YearStart\": 2011, \"YearEnd\": 2011, \"LocationAbbr\": \"NY\", \"LocationDesc\": \"New York\", \"DataSource\": \"NVSS\", \"Topic\": \"Cardiovascular Disease\", \"Question\": \"Mortality from coronary heart disease\", \"Response\": null, \"DataValueUnit\": null, \"DataValueType\": \"Number\", \"DataValue\": 15668.0, \"DataValueAlt\": 15668.0, \"DataValueFootnoteSymbol\": NaN, \"DatavalueFootnote\": NaN, \"LowConfidenceLimit\": null, \"HighConfidenceLimit\": null, \"StratificationCategory1\": \"Gender\", \"Stratification1\": \"Male\", \"StratificationCategory2\": null, \"Stratification2\": null, \"StratificationCategory3\": null, \"Stratification3\": null, \"GeoLocation\": \"POINT (-75.54397042699964 42.82700103200045)\", \"ResponseID\": null, \"LocationID\": 36, \"TopicID\": \"CVD\", \"QuestionID\": \"CVD1_3\", \"DataValueTypeID\": \"NMBR\", \"StratificationCategoryID1\": \"GENDER\", \"StratificationID1\": \"GENM\", \"StratificationCategoryID2\": null, \"StratificationID2\": null, \"StratificationCategoryID3\": null, \"StratificationID3\": null}, {\"YearStart\": 2017, \"YearEnd\": 2017, \"LocationAbbr\": \"NY\", \"LocationDesc\": \"New York\", \"DataSource\": \"NVSS\", \"Topic\": \"Cardiovascular Disease\", \"Question\": \"Mortality from coronary heart disease\", \"Response\": null, \"DataValueUnit\": null, \"DataValueType\": \"Number\", \"DataValue\": 14428.0, \"DataValueAlt\": 14428.0, \"DataValueFootnoteSymbol\": NaN, \"DatavalueFootnote\": NaN, \"LowConfidenceLimit\": null, \"HighConfidenceLimit\": null, \"StratificationCategory1\": \"Gender\", \"Stratification1\": \"Female\", \"StratificationCategory2\": null, \"Stratification2\": null, \"StratificationCategory3\": null, \"Stratification3\": null, \"GeoLocation\": \"POINT (-75.54397042699964 42.82700103200045)\", \"ResponseID\": null, \"LocationID\": 36, \"TopicID\": \"CVD\", \"QuestionID\": \"CVD1_3\", \"DataValueTypeID\": \"NMBR\", \"StratificationCategoryID1\": \"GENDER\", \"StratificationID1\": \"GENF\", \"StratificationCategoryID2\": null, \"StratificationID2\": null, \"StratificationCategoryID3\": null, \"StratificationID3\": null}, {\"YearStart\": 2017, \"YearEnd\": 2017, \"LocationAbbr\": \"NY\", \"LocationDesc\": \"New York\", \"DataSource\": \"NVSS\", \"Topic\": \"Cardiovascular Disease\", \"Question\": \"Mortality from coronary heart disease\", \"Response\": null, \"DataValueUnit\": \"cases per 100,000\", \"DataValueType\": \"Crude Rate\", \"DataValue\": 161.9, \"DataValueAlt\": 161.9, \"DataValueFootnoteSymbol\": NaN, \"DatavalueFootnote\": NaN, \"LowConfidenceLimit\": 159.3, \"HighConfidenceLimit\": 164.4, \"StratificationCategory1\": \"Gender\", \"Stratification1\": \"Male\", \"StratificationCategory2\": null, \"Stratification2\": null, \"StratificationCategory3\": null, \"Stratification3\": null, \"GeoLocation\": \"POINT (-75.54397042699964 42.82700103200045)\", \"ResponseID\": null, \"LocationID\": 36, \"TopicID\": \"CVD\", \"QuestionID\": \"CVD1_3\", \"DataValueTypeID\": \"CRDRATE\", \"StratificationCategoryID1\": \"GENDER\", \"StratificationID1\": \"GENM\", \"StratificationCategoryID2\": null, \"StratificationID2\": null, \"StratificationCategoryID3\": null, \"StratificationID3\": null}, {\"YearStart\": 2010, \"YearEnd\": 2010, \"LocationAbbr\": \"NY\", \"LocationDesc\": \"New York\", \"DataSource\": \"NVSS\", \"Topic\": \"Cardiovascular Disease\", \"Question\": \"Mortality from coronary heart disease\", \"Response\": null, \"DataValueUnit\": null, \"DataValueType\": \"Number\", \"DataValue\": 17156.0, \"DataValueAlt\": 17156.0, \"DataValueFootnoteSymbol\": NaN, \"DatavalueFootnote\": NaN, \"LowConfidenceLimit\": null, \"HighConfidenceLimit\": null, \"StratificationCategory1\": \"Gender\", \"Stratification1\": \"Female\", \"StratificationCategory2\": null, \"Stratification2\": null, \"StratificationCategory3\": null, \"Stratification3\": null, \"GeoLocation\": \"POINT (-75.54397042699964 42.82700103200045)\", \"ResponseID\": null, \"LocationID\": 36, \"TopicID\": \"CVD\", \"QuestionID\": \"CVD1_3\", \"DataValueTypeID\": \"NMBR\", \"StratificationCategoryID1\": \"GENDER\", \"StratificationID1\": \"GENF\", \"StratificationCategoryID2\": null, \"StratificationID2\": null, \"StratificationCategoryID3\": null, \"StratificationID3\": null}, {\"YearStart\": 2015, \"YearEnd\": 2015, \"LocationAbbr\": \"NY\", \"LocationDesc\": \"New York\", \"DataSource\": \"NVSS\", \"Topic\": \"Cardiovascular Disease\", \"Question\": \"Mortality from coronary heart disease\", \"Response\": null, \"DataValueUnit\": \"cases per 100,000\", \"DataValueType\": \"Age-adjusted Rate\", \"DataValue\": 98.1, \"DataValueAlt\": 98.1, \"DataValueFootnoteSymbol\": NaN, \"DatavalueFootnote\": NaN, \"LowConfidenceLimit\": 96.5, \"HighConfidenceLimit\": 99.7, \"StratificationCategory1\": \"Gender\", \"Stratification1\": \"Female\", \"StratificationCategory2\": null, \"Stratification2\": null, \"StratificationCategory3\": null, \"Stratification3\": null, \"GeoLocation\": \"POINT (-75.54397042699964 42.82700103200045)\", \"ResponseID\": null, \"LocationID\": 36, \"TopicID\": \"CVD\", \"QuestionID\": \"CVD1_3\", \"DataValueTypeID\": \"AGEADJRATE\", \"StratificationCategoryID1\": \"GENDER\", \"StratificationID1\": \"GENF\", \"StratificationCategoryID2\": null, \"StratificationID2\": null, \"StratificationCategoryID3\": null, \"StratificationID3\": null}, {\"YearStart\": 2012, \"YearEnd\": 2012, \"LocationAbbr\": \"NY\", \"LocationDesc\": \"New York\", \"DataSource\": \"NVSS\", \"Topic\": \"Cardiovascular Disease\", \"Question\": \"Mortality from coronary heart disease\", \"Response\": null, \"DataValueUnit\": null, \"DataValueType\": \"Number\", \"DataValue\": 15470.0, \"DataValueAlt\": 15470.0, \"DataValueFootnoteSymbol\": NaN, \"DatavalueFootnote\": NaN, \"LowConfidenceLimit\": null, \"HighConfidenceLimit\": null, \"StratificationCategory1\": \"Gender\", \"Stratification1\": \"Male\", \"StratificationCategory2\": null, \"Stratification2\": null, \"StratificationCategory3\": null, \"Stratification3\": null, \"GeoLocation\": \"POINT (-75.54397042699964 42.82700103200045)\", \"ResponseID\": null, \"LocationID\": 36, \"TopicID\": \"CVD\", \"QuestionID\": \"CVD1_3\", \"DataValueTypeID\": \"NMBR\", \"StratificationCategoryID1\": \"GENDER\", \"StratificationID1\": \"GENM\", \"StratificationCategoryID2\": null, \"StratificationID2\": null, \"StratificationCategoryID3\": null, \"StratificationID3\": null}, {\"YearStart\": 2014, \"YearEnd\": 2014, \"LocationAbbr\": \"NY\", \"LocationDesc\": \"New York\", \"DataSource\": \"NVSS\", \"Topic\": \"Cardiovascular Disease\", \"Question\": \"Mortality from coronary heart disease\", \"Response\": null, \"DataValueUnit\": \"cases per 100,000\", \"DataValueType\": \"Crude Rate\", \"DataValue\": 158.2, \"DataValueAlt\": 158.2, \"DataValueFootnoteSymbol\": NaN, \"DatavalueFootnote\": NaN, \"LowConfidenceLimit\": 155.7, \"HighConfidenceLimit\": 160.7, \"StratificationCategory1\": \"Gender\", \"Stratification1\": \"Male\", \"StratificationCategory2\": null, \"Stratification2\": null, \"StratificationCategory3\": null, \"Stratification3\": null, \"GeoLocation\": \"POINT (-75.54397042699964 42.82700103200045)\", \"ResponseID\": null, \"LocationID\": 36, \"TopicID\": \"CVD\", \"QuestionID\": \"CVD1_3\", \"DataValueTypeID\": \"CRDRATE\", \"StratificationCategoryID1\": \"GENDER\", \"StratificationID1\": \"GENM\", \"StratificationCategoryID2\": null, \"StratificationID2\": null, \"StratificationCategoryID3\": null, \"StratificationID3\": null}, {\"YearStart\": 2019, \"YearEnd\": 2019, \"LocationAbbr\": \"NY\", \"LocationDesc\": \"New York\", \"DataSource\": \"NVSS\", \"Topic\": \"Cardiovascular Disease\", \"Question\": \"Mortality from coronary heart disease\", \"Response\": null, \"DataValueUnit\": \"cases per 100,000\", \"DataValueType\": \"Age-adjusted Rate\", \"DataValue\": 148.2, \"DataValueAlt\": 148.2, \"DataValueFootnoteSymbol\": NaN, \"DatavalueFootnote\": NaN, \"LowConfidenceLimit\": 145.8, \"HighConfidenceLimit\": 150.5, \"StratificationCategory1\": \"Gender\", \"Stratification1\": \"Male\", \"StratificationCategory2\": null, \"Stratification2\": null, \"StratificationCategory3\": null, \"Stratification3\": null, \"GeoLocation\": \"POINT (-75.54397042699964 42.82700103200045)\", \"ResponseID\": null, \"LocationID\": 36, \"TopicID\": \"CVD\", \"QuestionID\": \"CVD1_3\", \"DataValueTypeID\": \"AGEADJRATE\", \"StratificationCategoryID1\": \"GENDER\", \"StratificationID1\": \"GENM\", \"StratificationCategoryID2\": null, \"StratificationID2\": null, \"StratificationCategoryID3\": null, \"StratificationID3\": null}, {\"YearStart\": 2011, \"YearEnd\": 2011, \"LocationAbbr\": \"NY\", \"LocationDesc\": \"New York\", \"DataSource\": \"NVSS\", \"Topic\": \"Cardiovascular Disease\", \"Question\": \"Mortality from coronary heart disease\", \"Response\": null, \"DataValueUnit\": \"cases per 100,000\", \"DataValueType\": \"Age-adjusted Rate\", \"DataValue\": 114.6, \"DataValueAlt\": 114.6, \"DataValueFootnoteSymbol\": NaN, \"DatavalueFootnote\": NaN, \"LowConfidenceLimit\": 112.9, \"HighConfidenceLimit\": 116.4, \"StratificationCategory1\": \"Gender\", \"Stratification1\": \"Female\", \"StratificationCategory2\": null, \"Stratification2\": null, \"StratificationCategory3\": null, \"Stratification3\": null, \"GeoLocation\": \"POINT (-75.54397042699964 42.82700103200045)\", \"ResponseID\": null, \"LocationID\": 36, \"TopicID\": \"CVD\", \"QuestionID\": \"CVD1_3\", \"DataValueTypeID\": \"AGEADJRATE\", \"StratificationCategoryID1\": \"GENDER\", \"StratificationID1\": \"GENF\", \"StratificationCategoryID2\": null, \"StratificationID2\": null, \"StratificationCategoryID3\": null, \"StratificationID3\": null}, {\"YearStart\": 2014, \"YearEnd\": 2014, \"LocationAbbr\": \"NY\", \"LocationDesc\": \"New York\", \"DataSource\": \"NVSS\", \"Topic\": \"Cardiovascular Disease\", \"Question\": \"Mortality from coronary heart disease\", \"Response\": null, \"DataValueUnit\": \"cases per 100,000\", \"DataValueType\": \"Crude Rate\", \"DataValue\": 148.1, \"DataValueAlt\": 148.1, \"DataValueFootnoteSymbol\": NaN, \"DatavalueFootnote\": NaN, \"LowConfidenceLimit\": 145.8, \"HighConfidenceLimit\": 150.5, \"StratificationCategory1\": \"Gender\", \"Stratification1\": \"Female\", \"StratificationCategory2\": null, \"Stratification2\": null, \"StratificationCategory3\": null, \"Stratification3\": null, \"GeoLocation\": \"POINT (-75.54397042699964 42.82700103200045)\", \"ResponseID\": null, \"LocationID\": 36, \"TopicID\": \"CVD\", \"QuestionID\": \"CVD1_3\", \"DataValueTypeID\": \"CRDRATE\", \"StratificationCategoryID1\": \"GENDER\", \"StratificationID1\": \"GENF\", \"StratificationCategoryID2\": null, \"StratificationID2\": null, \"StratificationCategoryID3\": null, \"StratificationID3\": null}, {\"YearStart\": 2020, \"YearEnd\": 2020, \"LocationAbbr\": \"NY\", \"LocationDesc\": \"New York\", \"DataSource\": \"NVSS\", \"Topic\": \"Cardiovascular Disease\", \"Question\": \"Mortality from coronary heart disease\", \"Response\": null, \"DataValueUnit\": \"cases per 100,000\", \"DataValueType\": \"Crude Rate\", \"DataValue\": 188.0, \"DataValueAlt\": 188.0, \"DataValueFootnoteSymbol\": NaN, \"DatavalueFootnote\": NaN, \"LowConfidenceLimit\": 185.2, \"HighConfidenceLimit\": 190.7, \"StratificationCategory1\": \"Gender\", \"Stratification1\": \"Male\", \"StratificationCategory2\": null, \"Stratification2\": null, \"StratificationCategory3\": null, \"Stratification3\": null, \"GeoLocation\": \"POINT (-75.54397042699964 42.82700103200045)\", \"ResponseID\": null, \"LocationID\": 36, \"TopicID\": \"CVD\", \"QuestionID\": \"CVD1_3\", \"DataValueTypeID\": \"CRDRATE\", \"StratificationCategoryID1\": \"GENDER\", \"StratificationID1\": \"GENM\", \"StratificationCategoryID2\": null, \"StratificationID2\": null, \"StratificationCategoryID3\": null, \"StratificationID3\": null}, {\"YearStart\": 2016, \"YearEnd\": 2016, \"LocationAbbr\": \"NY\", \"LocationDesc\": \"New York\", \"DataSource\": \"NVSS\", \"Topic\": \"Cardiovascular Disease\", \"Question\": \"Mortality from coronary heart disease\", \"Response\": null, \"DataValueUnit\": \"cases per 100,000\", \"DataValueType\": \"Crude Rate\", \"DataValue\": 159.6, \"DataValueAlt\": 159.6, \"DataValueFootnoteSymbol\": NaN, \"DatavalueFootnote\": NaN, \"LowConfidenceLimit\": 157.1, \"HighConfidenceLimit\": 162.1, \"StratificationCategory1\": \"Gender\", \"Stratification1\": \"Male\", \"StratificationCategory2\": null, \"Stratification2\": null, \"StratificationCategory3\": null, \"Stratification3\": null, \"GeoLocation\": \"POINT (-75.54397042699964 42.82700103200045)\", \"ResponseID\": null, \"LocationID\": 36, \"TopicID\": \"CVD\", \"QuestionID\": \"CVD1_3\", \"DataValueTypeID\": \"CRDRATE\", \"StratificationCategoryID1\": \"GENDER\", \"StratificationID1\": \"GENM\", \"StratificationCategoryID2\": null, \"StratificationID2\": null, \"StratificationCategoryID3\": null, \"StratificationID3\": null}, {\"YearStart\": 2010, \"YearEnd\": 2010, \"LocationAbbr\": \"NY\", \"LocationDesc\": \"New York\", \"DataSource\": \"NVSS\", \"Topic\": \"Cardiovascular Disease\", \"Question\": \"Mortality from coronary heart disease\", \"Response\": null, \"DataValueUnit\": \"cases per 100,000\", \"DataValueType\": \"Crude Rate\", \"DataValue\": 172.0, \"DataValueAlt\": 172.0, \"DataValueFootnoteSymbol\": NaN, \"DatavalueFootnote\": NaN, \"LowConfidenceLimit\": 169.3, \"HighConfidenceLimit\": 174.6, \"StratificationCategory1\": \"Gender\", \"Stratification1\": \"Male\", \"StratificationCategory2\": null, \"Stratification2\": null, \"StratificationCategory3\": null, \"Stratification3\": null, \"GeoLocation\": \"POINT (-75.54397042699964 42.82700103200045)\", \"ResponseID\": null, \"LocationID\": 36, \"TopicID\": \"CVD\", \"QuestionID\": \"CVD1_3\", \"DataValueTypeID\": \"CRDRATE\", \"StratificationCategoryID1\": \"GENDER\", \"StratificationID1\": \"GENM\", \"StratificationCategoryID2\": null, \"StratificationID2\": null, \"StratificationCategoryID3\": null, \"StratificationID3\": null}, {\"YearStart\": 2013, \"YearEnd\": 2013, \"LocationAbbr\": \"NY\", \"LocationDesc\": \"New York\", \"DataSource\": \"NVSS\", \"Topic\": \"Cardiovascular Disease\", \"Question\": \"Mortality from coronary heart disease\", \"Response\": null, \"DataValueUnit\": \"cases per 100,000\", \"DataValueType\": \"Age-adjusted Rate\", \"DataValue\": 167.1, \"DataValueAlt\": 167.1, \"DataValueFootnoteSymbol\": NaN, \"DatavalueFootnote\": NaN, \"LowConfidenceLimit\": 164.4, \"HighConfidenceLimit\": 169.7, \"StratificationCategory1\": \"Gender\", \"Stratification1\": \"Male\", \"StratificationCategory2\": null, \"Stratification2\": null, \"StratificationCategory3\": null, \"Stratification3\": null, \"GeoLocation\": \"POINT (-75.54397042699964 42.82700103200045)\", \"ResponseID\": null, \"LocationID\": 36, \"TopicID\": \"CVD\", \"QuestionID\": \"CVD1_3\", \"DataValueTypeID\": \"AGEADJRATE\", \"StratificationCategoryID1\": \"GENDER\", \"StratificationID1\": \"GENM\", \"StratificationCategoryID2\": null, \"StratificationID2\": null, \"StratificationCategoryID3\": null, \"StratificationID3\": null}, {\"YearStart\": 2018, \"YearEnd\": 2018, \"LocationAbbr\": \"NY\", \"LocationDesc\": \"New York\", \"DataSource\": \"NVSS\", \"Topic\": \"Cardiovascular Disease\", \"Question\": \"Mortality from coronary heart disease\", \"Response\": null, \"DataValueUnit\": null, \"DataValueType\": \"Number\", \"DataValue\": 14502.0, \"DataValueAlt\": 14502.0, \"DataValueFootnoteSymbol\": NaN, \"DatavalueFootnote\": NaN, \"LowConfidenceLimit\": null, \"HighConfidenceLimit\": null, \"StratificationCategory1\": \"Gender\", \"Stratification1\": \"Female\", \"StratificationCategory2\": null, \"Stratification2\": null, \"StratificationCategory3\": null, \"Stratification3\": null, \"GeoLocation\": \"POINT (-75.54397042699964 42.82700103200045)\", \"ResponseID\": null, \"LocationID\": 36, \"TopicID\": \"CVD\", \"QuestionID\": \"CVD1_3\", \"DataValueTypeID\": \"NMBR\", \"StratificationCategoryID1\": \"GENDER\", \"StratificationID1\": \"GENF\", \"StratificationCategoryID2\": null, \"StratificationID2\": null, \"StratificationCategoryID3\": null, \"StratificationID3\": null}, {\"YearStart\": 2019, \"YearEnd\": 2019, \"LocationAbbr\": \"NY\", \"LocationDesc\": \"New York\", \"DataSource\": \"NVSS\", \"Topic\": \"Cardiovascular Disease\", \"Question\": \"Mortality from coronary heart disease\", \"Response\": null, \"DataValueUnit\": \"cases per 100,000\", \"DataValueType\": \"Crude Rate\", \"DataValue\": 167.6, \"DataValueAlt\": 167.6, \"DataValueFootnoteSymbol\": NaN, \"DatavalueFootnote\": NaN, \"LowConfidenceLimit\": 164.9, \"HighConfidenceLimit\": 170.2, \"StratificationCategory1\": \"Gender\", \"Stratification1\": \"Male\", \"StratificationCategory2\": null, \"Stratification2\": null, \"StratificationCategory3\": null, \"Stratification3\": null, \"GeoLocation\": \"POINT (-75.54397042699964 42.82700103200045)\", \"ResponseID\": null, \"LocationID\": 36, \"TopicID\": \"CVD\", \"QuestionID\": \"CVD1_3\", \"DataValueTypeID\": \"CRDRATE\", \"StratificationCategoryID1\": \"GENDER\", \"StratificationID1\": \"GENM\", \"StratificationCategoryID2\": null, \"StratificationID2\": null, \"StratificationCategoryID3\": null, \"StratificationID3\": null}, {\"YearStart\": 2018, \"YearEnd\": 2018, \"LocationAbbr\": \"NY\", \"LocationDesc\": \"New York\", \"DataSource\": \"NVSS\", \"Topic\": \"Cardiovascular Disease\", \"Question\": \"Mortality from coronary heart disease\", \"Response\": null, \"DataValueUnit\": \"cases per 100,000\", \"DataValueType\": \"Age-adjusted Rate\", \"DataValue\": 152.3, \"DataValueAlt\": 152.3, \"DataValueFootnoteSymbol\": NaN, \"DatavalueFootnote\": NaN, \"LowConfidenceLimit\": 149.9, \"HighConfidenceLimit\": 154.7, \"StratificationCategory1\": \"Gender\", \"Stratification1\": \"Male\", \"StratificationCategory2\": null, \"Stratification2\": null, \"StratificationCategory3\": null, \"Stratification3\": null, \"GeoLocation\": \"POINT (-75.54397042699964 42.82700103200045)\", \"ResponseID\": null, \"LocationID\": 36, \"TopicID\": \"CVD\", \"QuestionID\": \"CVD1_3\", \"DataValueTypeID\": \"AGEADJRATE\", \"StratificationCategoryID1\": \"GENDER\", \"StratificationID1\": \"GENM\", \"StratificationCategoryID2\": null, \"StratificationID2\": null, \"StratificationCategoryID3\": null, \"StratificationID3\": null}, {\"YearStart\": 2020, \"YearEnd\": 2020, \"LocationAbbr\": \"NY\", \"LocationDesc\": \"New York\", \"DataSource\": \"NVSS\", \"Topic\": \"Cardiovascular Disease\", \"Question\": \"Mortality from coronary heart disease\", \"Response\": null, \"DataValueUnit\": \"cases per 100,000\", \"DataValueType\": \"Age-adjusted Rate\", \"DataValue\": 163.4, \"DataValueAlt\": 163.4, \"DataValueFootnoteSymbol\": NaN, \"DatavalueFootnote\": NaN, \"LowConfidenceLimit\": 161.0, \"HighConfidenceLimit\": 165.9, \"StratificationCategory1\": \"Gender\", \"Stratification1\": \"Male\", \"StratificationCategory2\": null, \"Stratification2\": null, \"StratificationCategory3\": null, \"Stratification3\": null, \"GeoLocation\": \"POINT (-75.54397042699964 42.82700103200045)\", \"ResponseID\": null, \"LocationID\": 36, \"TopicID\": \"CVD\", \"QuestionID\": \"CVD1_3\", \"DataValueTypeID\": \"AGEADJRATE\", \"StratificationCategoryID1\": \"GENDER\", \"StratificationID1\": \"GENM\", \"StratificationCategoryID2\": null, \"StratificationID2\": null, \"StratificationCategoryID3\": null, \"StratificationID3\": null}, {\"YearStart\": 2014, \"YearEnd\": 2014, \"LocationAbbr\": \"NY\", \"LocationDesc\": \"New York\", \"DataSource\": \"NVSS\", \"Topic\": \"Cardiovascular Disease\", \"Question\": \"Mortality from coronary heart disease\", \"Response\": null, \"DataValueUnit\": \"cases per 100,000\", \"DataValueType\": \"Age-adjusted Rate\", \"DataValue\": 158.7, \"DataValueAlt\": 158.7, \"DataValueFootnoteSymbol\": NaN, \"DatavalueFootnote\": NaN, \"LowConfidenceLimit\": 156.1, \"HighConfidenceLimit\": 161.2, \"StratificationCategory1\": \"Gender\", \"Stratification1\": \"Male\", \"StratificationCategory2\": null, \"Stratification2\": null, \"StratificationCategory3\": null, \"Stratification3\": null, \"GeoLocation\": \"POINT (-75.54397042699964 42.82700103200045)\", \"ResponseID\": null, \"LocationID\": 36, \"TopicID\": \"CVD\", \"QuestionID\": \"CVD1_3\", \"DataValueTypeID\": \"AGEADJRATE\", \"StratificationCategoryID1\": \"GENDER\", \"StratificationID1\": \"GENM\", \"StratificationCategoryID2\": null, \"StratificationID2\": null, \"StratificationCategoryID3\": null, \"StratificationID3\": null}, {\"YearStart\": 2012, \"YearEnd\": 2012, \"LocationAbbr\": \"NY\", \"LocationDesc\": \"New York\", \"DataSource\": \"NVSS\", \"Topic\": \"Cardiovascular Disease\", \"Question\": \"Mortality from coronary heart disease\", \"Response\": null, \"DataValueUnit\": \"cases per 100,000\", \"DataValueType\": \"Crude Rate\", \"DataValue\": 163.0, \"DataValueAlt\": 163.0, \"DataValueFootnoteSymbol\": NaN, \"DatavalueFootnote\": NaN, \"LowConfidenceLimit\": 160.5, \"HighConfidenceLimit\": 165.6, \"StratificationCategory1\": \"Gender\", \"Stratification1\": \"Male\", \"StratificationCategory2\": null, \"Stratification2\": null, \"StratificationCategory3\": null, \"Stratification3\": null, \"GeoLocation\": \"POINT (-75.54397042699964 42.82700103200045)\", \"ResponseID\": null, \"LocationID\": 36, \"TopicID\": \"CVD\", \"QuestionID\": \"CVD1_3\", \"DataValueTypeID\": \"CRDRATE\", \"StratificationCategoryID1\": \"GENDER\", \"StratificationID1\": \"GENM\", \"StratificationCategoryID2\": null, \"StratificationID2\": null, \"StratificationCategoryID3\": null, \"StratificationID3\": null}, {\"YearStart\": 2017, \"YearEnd\": 2017, \"LocationAbbr\": \"NY\", \"LocationDesc\": \"New York\", \"DataSource\": \"NVSS\", \"Topic\": \"Cardiovascular Disease\", \"Question\": \"Mortality from coronary heart disease\", \"Response\": null, \"DataValueUnit\": \"cases per 100,000\", \"DataValueType\": \"Age-adjusted Rate\", \"DataValue\": 151.2, \"DataValueAlt\": 151.2, \"DataValueFootnoteSymbol\": NaN, \"DatavalueFootnote\": NaN, \"LowConfidenceLimit\": 148.8, \"HighConfidenceLimit\": 153.6, \"StratificationCategory1\": \"Gender\", \"Stratification1\": \"Male\", \"StratificationCategory2\": null, \"Stratification2\": null, \"StratificationCategory3\": null, \"Stratification3\": null, \"GeoLocation\": \"POINT (-75.54397042699964 42.82700103200045)\", \"ResponseID\": null, \"LocationID\": 36, \"TopicID\": \"CVD\", \"QuestionID\": \"CVD1_3\", \"DataValueTypeID\": \"AGEADJRATE\", \"StratificationCategoryID1\": \"GENDER\", \"StratificationID1\": \"GENM\", \"StratificationCategoryID2\": null, \"StratificationID2\": null, \"StratificationCategoryID3\": null, \"StratificationID3\": null}, {\"YearStart\": 2014, \"YearEnd\": 2014, \"LocationAbbr\": \"NY\", \"LocationDesc\": \"New York\", \"DataSource\": \"NVSS\", \"Topic\": \"Cardiovascular Disease\", \"Question\": \"Mortality from coronary heart disease\", \"Response\": null, \"DataValueUnit\": null, \"DataValueType\": \"Number\", \"DataValue\": 15057.0, \"DataValueAlt\": 15057.0, \"DataValueFootnoteSymbol\": NaN, \"DatavalueFootnote\": NaN, \"LowConfidenceLimit\": null, \"HighConfidenceLimit\": null, \"StratificationCategory1\": \"Gender\", \"Stratification1\": \"Female\", \"StratificationCategory2\": null, \"Stratification2\": null, \"StratificationCategory3\": null, \"Stratification3\": null, \"GeoLocation\": \"POINT (-75.54397042699964 42.82700103200045)\", \"ResponseID\": null, \"LocationID\": 36, \"TopicID\": \"CVD\", \"QuestionID\": \"CVD1_3\", \"DataValueTypeID\": \"NMBR\", \"StratificationCategoryID1\": \"GENDER\", \"StratificationID1\": \"GENF\", \"StratificationCategoryID2\": null, \"StratificationID2\": null, \"StratificationCategoryID3\": null, \"StratificationID3\": null}, {\"YearStart\": 2018, \"YearEnd\": 2018, \"LocationAbbr\": \"NY\", \"LocationDesc\": \"New York\", \"DataSource\": \"NVSS\", \"Topic\": \"Cardiovascular Disease\", \"Question\": \"Mortality from coronary heart disease\", \"Response\": null, \"DataValueUnit\": \"cases per 100,000\", \"DataValueType\": \"Crude Rate\", \"DataValue\": 167.6, \"DataValueAlt\": 167.6, \"DataValueFootnoteSymbol\": NaN, \"DatavalueFootnote\": NaN, \"LowConfidenceLimit\": 165.0, \"HighConfidenceLimit\": 170.2, \"StratificationCategory1\": \"Gender\", \"Stratification1\": \"Male\", \"StratificationCategory2\": null, \"Stratification2\": null, \"StratificationCategory3\": null, \"Stratification3\": null, \"GeoLocation\": \"POINT (-75.54397042699964 42.82700103200045)\", \"ResponseID\": null, \"LocationID\": 36, \"TopicID\": \"CVD\", \"QuestionID\": \"CVD1_3\", \"DataValueTypeID\": \"CRDRATE\", \"StratificationCategoryID1\": \"GENDER\", \"StratificationID1\": \"GENM\", \"StratificationCategoryID2\": null, \"StratificationID2\": null, \"StratificationCategoryID3\": null, \"StratificationID3\": null}, {\"YearStart\": 2016, \"YearEnd\": 2016, \"LocationAbbr\": \"NY\", \"LocationDesc\": \"New York\", \"DataSource\": \"NVSS\", \"Topic\": \"Cardiovascular Disease\", \"Question\": \"Mortality from coronary heart disease\", \"Response\": null, \"DataValueUnit\": null, \"DataValueType\": \"Number\", \"DataValue\": 14526.0, \"DataValueAlt\": 14526.0, \"DataValueFootnoteSymbol\": NaN, \"DatavalueFootnote\": NaN, \"LowConfidenceLimit\": null, \"HighConfidenceLimit\": null, \"StratificationCategory1\": \"Gender\", \"Stratification1\": \"Female\", \"StratificationCategory2\": null, \"Stratification2\": null, \"StratificationCategory3\": null, \"Stratification3\": null, \"GeoLocation\": \"POINT (-75.54397042699964 42.82700103200045)\", \"ResponseID\": null, \"LocationID\": 36, \"TopicID\": \"CVD\", \"QuestionID\": \"CVD1_3\", \"DataValueTypeID\": \"NMBR\", \"StratificationCategoryID1\": \"GENDER\", \"StratificationID1\": \"GENF\", \"StratificationCategoryID2\": null, \"StratificationID2\": null, \"StratificationCategoryID3\": null, \"StratificationID3\": null}, {\"YearStart\": 2011, \"YearEnd\": 2011, \"LocationAbbr\": \"NY\", \"LocationDesc\": \"New York\", \"DataSource\": \"NVSS\", \"Topic\": \"Cardiovascular Disease\", \"Question\": \"Mortality from coronary heart disease\", \"Response\": null, \"DataValueUnit\": \"cases per 100,000\", \"DataValueType\": \"Age-adjusted Rate\", \"DataValue\": 176.5, \"DataValueAlt\": 176.5, \"DataValueFootnoteSymbol\": NaN, \"DatavalueFootnote\": NaN, \"LowConfidenceLimit\": 173.7, \"HighConfidenceLimit\": 179.3, \"StratificationCategory1\": \"Gender\", \"Stratification1\": \"Male\", \"StratificationCategory2\": null, \"Stratification2\": null, \"StratificationCategory3\": null, \"Stratification3\": null, \"GeoLocation\": \"POINT (-75.54397042699964 42.82700103200045)\", \"ResponseID\": null, \"LocationID\": 36, \"TopicID\": \"CVD\", \"QuestionID\": \"CVD1_3\", \"DataValueTypeID\": \"AGEADJRATE\", \"StratificationCategoryID1\": \"GENDER\", \"StratificationID1\": \"GENM\", \"StratificationCategoryID2\": null, \"StratificationID2\": null, \"StratificationCategoryID3\": null, \"StratificationID3\": null}, {\"YearStart\": 2015, \"YearEnd\": 2015, \"LocationAbbr\": \"NY\", \"LocationDesc\": \"New York\", \"DataSource\": \"NVSS\", \"Topic\": \"Cardiovascular Disease\", \"Question\": \"Mortality from coronary heart disease\", \"Response\": null, \"DataValueUnit\": \"cases per 100,000\", \"DataValueType\": \"Age-adjusted Rate\", \"DataValue\": 159.1, \"DataValueAlt\": 159.1, \"DataValueFootnoteSymbol\": NaN, \"DatavalueFootnote\": NaN, \"LowConfidenceLimit\": 156.6, \"HighConfidenceLimit\": 161.6, \"StratificationCategory1\": \"Gender\", \"Stratification1\": \"Male\", \"StratificationCategory2\": null, \"Stratification2\": null, \"StratificationCategory3\": null, \"Stratification3\": null, \"GeoLocation\": \"POINT (-75.54397042699964 42.82700103200045)\", \"ResponseID\": null, \"LocationID\": 36, \"TopicID\": \"CVD\", \"QuestionID\": \"CVD1_3\", \"DataValueTypeID\": \"AGEADJRATE\", \"StratificationCategoryID1\": \"GENDER\", \"StratificationID1\": \"GENM\", \"StratificationCategoryID2\": null, \"StratificationID2\": null, \"StratificationCategoryID3\": null, \"StratificationID3\": null}, {\"YearStart\": 2016, \"YearEnd\": 2016, \"LocationAbbr\": \"NY\", \"LocationDesc\": \"New York\", \"DataSource\": \"NVSS\", \"Topic\": \"Cardiovascular Disease\", \"Question\": \"Mortality from coronary heart disease\", \"Response\": null, \"DataValueUnit\": null, \"DataValueType\": \"Number\", \"DataValue\": 15302.0, \"DataValueAlt\": 15302.0, \"DataValueFootnoteSymbol\": NaN, \"DatavalueFootnote\": NaN, \"LowConfidenceLimit\": null, \"HighConfidenceLimit\": null, \"StratificationCategory1\": \"Gender\", \"Stratification1\": \"Male\", \"StratificationCategory2\": null, \"Stratification2\": null, \"StratificationCategory3\": null, \"Stratification3\": null, \"GeoLocation\": \"POINT (-75.54397042699964 42.82700103200045)\", \"ResponseID\": null, \"LocationID\": 36, \"TopicID\": \"CVD\", \"QuestionID\": \"CVD1_3\", \"DataValueTypeID\": \"NMBR\", \"StratificationCategoryID1\": \"GENDER\", \"StratificationID1\": \"GENM\", \"StratificationCategoryID2\": null, \"StratificationID2\": null, \"StratificationCategoryID3\": null, \"StratificationID3\": null}, {\"YearStart\": 2013, \"YearEnd\": 2013, \"LocationAbbr\": \"NY\", \"LocationDesc\": \"New York\", \"DataSource\": \"NVSS\", \"Topic\": \"Cardiovascular Disease\", \"Question\": \"Mortality from coronary heart disease\", \"Response\": null, \"DataValueUnit\": \"cases per 100,000\", \"DataValueType\": \"Crude Rate\", \"DataValue\": 164.0, \"DataValueAlt\": 164.0, \"DataValueFootnoteSymbol\": NaN, \"DatavalueFootnote\": NaN, \"LowConfidenceLimit\": 161.4, \"HighConfidenceLimit\": 166.5, \"StratificationCategory1\": \"Gender\", \"Stratification1\": \"Male\", \"StratificationCategory2\": null, \"Stratification2\": null, \"StratificationCategory3\": null, \"Stratification3\": null, \"GeoLocation\": \"POINT (-75.54397042699964 42.82700103200045)\", \"ResponseID\": null, \"LocationID\": 36, \"TopicID\": \"CVD\", \"QuestionID\": \"CVD1_3\", \"DataValueTypeID\": \"CRDRATE\", \"StratificationCategoryID1\": \"GENDER\", \"StratificationID1\": \"GENM\", \"StratificationCategoryID2\": null, \"StratificationID2\": null, \"StratificationCategoryID3\": null, \"StratificationID3\": null}, {\"YearStart\": 2019, \"YearEnd\": 2019, \"LocationAbbr\": \"NY\", \"LocationDesc\": \"New York\", \"DataSource\": \"NVSS\", \"Topic\": \"Cardiovascular Disease\", \"Question\": \"Mortality from coronary heart disease\", \"Response\": null, \"DataValueUnit\": \"cases per 100,000\", \"DataValueType\": \"Crude Rate\", \"DataValue\": 140.3, \"DataValueAlt\": 140.3, \"DataValueFootnoteSymbol\": NaN, \"DatavalueFootnote\": NaN, \"LowConfidenceLimit\": 138.0, \"HighConfidenceLimit\": 142.7, \"StratificationCategory1\": \"Gender\", \"Stratification1\": \"Female\", \"StratificationCategory2\": null, \"Stratification2\": null, \"StratificationCategory3\": null, \"Stratification3\": null, \"GeoLocation\": \"POINT (-75.54397042699964 42.82700103200045)\", \"ResponseID\": null, \"LocationID\": 36, \"TopicID\": \"CVD\", \"QuestionID\": \"CVD1_3\", \"DataValueTypeID\": \"CRDRATE\", \"StratificationCategoryID1\": \"GENDER\", \"StratificationID1\": \"GENF\", \"StratificationCategoryID2\": null, \"StratificationID2\": null, \"StratificationCategoryID3\": null, \"StratificationID3\": null}, {\"YearStart\": 2010, \"YearEnd\": 2010, \"LocationAbbr\": \"NY\", \"LocationDesc\": \"New York\", \"DataSource\": \"NVSS\", \"Topic\": \"Cardiovascular Disease\", \"Question\": \"Mortality from coronary heart disease\", \"Response\": null, \"DataValueUnit\": \"cases per 100,000\", \"DataValueType\": \"Age-adjusted Rate\", \"DataValue\": 186.7, \"DataValueAlt\": 186.7, \"DataValueFootnoteSymbol\": NaN, \"DatavalueFootnote\": NaN, \"LowConfidenceLimit\": 183.8, \"HighConfidenceLimit\": 189.6, \"StratificationCategory1\": \"Gender\", \"Stratification1\": \"Male\", \"StratificationCategory2\": null, \"Stratification2\": null, \"StratificationCategory3\": null, \"Stratification3\": null, \"GeoLocation\": \"POINT (-75.54397042699964 42.82700103200045)\", \"ResponseID\": null, \"LocationID\": 36, \"TopicID\": \"CVD\", \"QuestionID\": \"CVD1_3\", \"DataValueTypeID\": \"AGEADJRATE\", \"StratificationCategoryID1\": \"GENDER\", \"StratificationID1\": \"GENM\", \"StratificationCategoryID2\": null, \"StratificationID2\": null, \"StratificationCategoryID3\": null, \"StratificationID3\": null}, {\"YearStart\": 2020, \"YearEnd\": 2020, \"LocationAbbr\": \"NY\", \"LocationDesc\": \"New York\", \"DataSource\": \"NVSS\", \"Topic\": \"Cardiovascular Disease\", \"Question\": \"Mortality from coronary heart disease\", \"Response\": null, \"DataValueUnit\": \"Number\", \"DataValueType\": \"Number\", \"DataValue\": 17650.0, \"DataValueAlt\": 17650.0, \"DataValueFootnoteSymbol\": NaN, \"DatavalueFootnote\": NaN, \"LowConfidenceLimit\": null, \"HighConfidenceLimit\": null, \"StratificationCategory1\": \"Gender\", \"Stratification1\": \"Male\", \"StratificationCategory2\": null, \"Stratification2\": null, \"StratificationCategory3\": null, \"Stratification3\": null, \"GeoLocation\": \"POINT (-75.54397042699964 42.82700103200045)\", \"ResponseID\": null, \"LocationID\": 36, \"TopicID\": \"CVD\", \"QuestionID\": \"CVD1_3\", \"DataValueTypeID\": \"NMBR\", \"StratificationCategoryID1\": \"GENDER\", \"StratificationID1\": \"GENM\", \"StratificationCategoryID2\": null, \"StratificationID2\": null, \"StratificationCategoryID3\": null, \"StratificationID3\": null}, {\"YearStart\": 2018, \"YearEnd\": 2018, \"LocationAbbr\": \"NY\", \"LocationDesc\": \"New York\", \"DataSource\": \"NVSS\", \"Topic\": \"Cardiovascular Disease\", \"Question\": \"Mortality from coronary heart disease\", \"Response\": null, \"DataValueUnit\": \"cases per 100,000\", \"DataValueType\": \"Crude Rate\", \"DataValue\": 144.2, \"DataValueAlt\": 144.2, \"DataValueFootnoteSymbol\": NaN, \"DatavalueFootnote\": NaN, \"LowConfidenceLimit\": 141.9, \"HighConfidenceLimit\": 146.6, \"StratificationCategory1\": \"Gender\", \"Stratification1\": \"Female\", \"StratificationCategory2\": null, \"Stratification2\": null, \"StratificationCategory3\": null, \"Stratification3\": null, \"GeoLocation\": \"POINT (-75.54397042699964 42.82700103200045)\", \"ResponseID\": null, \"LocationID\": 36, \"TopicID\": \"CVD\", \"QuestionID\": \"CVD1_3\", \"DataValueTypeID\": \"CRDRATE\", \"StratificationCategoryID1\": \"GENDER\", \"StratificationID1\": \"GENF\", \"StratificationCategoryID2\": null, \"StratificationID2\": null, \"StratificationCategoryID3\": null, \"StratificationID3\": null}, {\"YearStart\": 2020, \"YearEnd\": 2020, \"LocationAbbr\": \"NY\", \"LocationDesc\": \"New York\", \"DataSource\": \"NVSS\", \"Topic\": \"Cardiovascular Disease\", \"Question\": \"Mortality from coronary heart disease\", \"Response\": null, \"DataValueUnit\": \"cases per 100,000\", \"DataValueType\": \"Age-adjusted Rate\", \"DataValue\": 96.0, \"DataValueAlt\": 96.0, \"DataValueFootnoteSymbol\": NaN, \"DatavalueFootnote\": NaN, \"LowConfidenceLimit\": 94.5, \"HighConfidenceLimit\": 97.6, \"StratificationCategory1\": \"Gender\", \"Stratification1\": \"Female\", \"StratificationCategory2\": null, \"Stratification2\": null, \"StratificationCategory3\": null, \"Stratification3\": null, \"GeoLocation\": \"POINT (-75.54397042699964 42.82700103200045)\", \"ResponseID\": null, \"LocationID\": 36, \"TopicID\": \"CVD\", \"QuestionID\": \"CVD1_3\", \"DataValueTypeID\": \"AGEADJRATE\", \"StratificationCategoryID1\": \"GENDER\", \"StratificationID1\": \"GENF\", \"StratificationCategoryID2\": null, \"StratificationID2\": null, \"StratificationCategoryID3\": null, \"StratificationID3\": null}]}}, {\"mode\": \"vega-lite\"});\n",
       "</script>"
      ],
      "text/plain": [
       "alt.FacetChart(...)"
      ]
     },
     "execution_count": 359,
     "metadata": {},
     "output_type": "execute_result"
    }
   ],
   "source": [
    "stratification = \"Gender\"\n",
    "\n",
    "tmp = dfplot[dfplot[\"StratificationCategory1\"] == stratification]\n",
    "\n",
    "domain = list(tmp[\"Stratification1\"].unique())\n",
    "colors = alt.Scale(\n",
    "  domain= domain,\n",
    "  #range=['#aec7e8', '#c7c7c7', '#1f77b4', '#9467bd', '#e7ba52'][:len(domain)]\n",
    ")\n",
    "\n",
    "line =  alt.Chart().mark_line().encode(\n",
    "    alt.X(\"YearStart:O\",),\n",
    "    alt.Y(\"DataValue:Q\",scale=alt.Scale(zero=False)),\n",
    "    alt.Color('Stratification1:N', scale=colors),\n",
    "    tooltip=[\"YearStart\",\"DataValue\",'Stratification1']\n",
    ")\n",
    "\n",
    "points = alt.Chart().mark_point().encode(\n",
    "    alt.X(\"YearStart:O\",),\n",
    "    alt.Y(\"DataValue:Q\",scale=alt.Scale(zero=False)),\n",
    "    alt.Color('Stratification1:N', scale=colors),\n",
    "    tooltip=[\"YearStart\",\"DataValue\",'Stratification1'])\n",
    "# ).resolve_scale(\n",
    "#     x='independent',\n",
    "#     y='independent'\n",
    "# )#.interactive()\n",
    "\n",
    "cis = alt.Chart().mark_line().encode(\n",
    "    alt.X(\"YearStart:O\",),\n",
    "    alt.Y(\"LowConfidenceLimit:Q\",scale=alt.Scale(zero=False)),\n",
    "    alt.Y2(\"HighConfidenceLimit:Q\"),\n",
    "    alt.Color('Stratification1:N', scale=colors),\n",
    "    tooltip=[\"YearStart\",\"DataValue\",'Stratification1'])\n",
    "# ).resolve_scale(\n",
    "#     x='independent',\n",
    "#     y='independent'\n",
    "# )#.interactive()\n",
    "\n",
    "alt.layer(points, cis, line).facet(\n",
    "  data=tmp,\n",
    "  column='DataValueType:N'\n",
    ").resolve_scale(\n",
    "    x='independent',\n",
    "    y='independent')"
   ]
  }
 ],
 "metadata": {
  "kernelspec": {
   "display_name": "Python 3 (ipykernel)",
   "language": "python",
   "name": "python3"
  },
  "language_info": {
   "codemirror_mode": {
    "name": "ipython",
    "version": 3
   },
   "file_extension": ".py",
   "mimetype": "text/x-python",
   "name": "python",
   "nbconvert_exporter": "python",
   "pygments_lexer": "ipython3",
   "version": "3.12.0"
  }
 },
 "nbformat": 4,
 "nbformat_minor": 5
}
