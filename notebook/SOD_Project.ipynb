{
 "cells": [
  {
   "cell_type": "code",
   "execution_count": 200,
   "id": "0a824897",
   "metadata": {},
   "outputs": [],
   "source": [
    "import pandas as pd\n",
    "import numpy as np\n",
    "import scipy.stats as sp\n",
    "import matplotlib.pyplot as plt\n",
    "import seaborn as sns"
   ]
  },
  {
   "cell_type": "code",
   "execution_count": 239,
   "id": "a35468b3",
   "metadata": {},
   "outputs": [],
   "source": [
    "import altair as alt"
   ]
  },
  {
   "cell_type": "markdown",
   "id": "28e4d82d",
   "metadata": {},
   "source": [
    "# load data"
   ]
  },
  {
   "cell_type": "code",
   "execution_count": 2,
   "id": "2809070f",
   "metadata": {},
   "outputs": [],
   "source": [
    "data = pd.read_csv(\"/Users/suxian/Data/Class/CSE583/Data/PLACES__Local_Data_for_Better_Health__Census_Tract_Data_2023_release_20231024.csv\")"
   ]
  },
  {
   "cell_type": "code",
   "execution_count": 211,
   "id": "df446ad0",
   "metadata": {
    "scrolled": true
   },
   "outputs": [
    {
     "data": {
      "text/html": [
       "<div>\n",
       "<style scoped>\n",
       "    .dataframe tbody tr th:only-of-type {\n",
       "        vertical-align: middle;\n",
       "    }\n",
       "\n",
       "    .dataframe tbody tr th {\n",
       "        vertical-align: top;\n",
       "    }\n",
       "\n",
       "    .dataframe thead th {\n",
       "        text-align: right;\n",
       "    }\n",
       "</style>\n",
       "<table border=\"1\" class=\"dataframe\">\n",
       "  <thead>\n",
       "    <tr style=\"text-align: right;\">\n",
       "      <th></th>\n",
       "      <th>Year</th>\n",
       "      <th>StateAbbr</th>\n",
       "      <th>StateDesc</th>\n",
       "      <th>CountyName</th>\n",
       "      <th>CountyFIPS</th>\n",
       "      <th>LocationName</th>\n",
       "      <th>DataSource</th>\n",
       "      <th>Category</th>\n",
       "      <th>Measure</th>\n",
       "      <th>Data_Value_Unit</th>\n",
       "      <th>...</th>\n",
       "      <th>Data_Value_Footnote</th>\n",
       "      <th>Low_Confidence_Limit</th>\n",
       "      <th>High_Confidence_Limit</th>\n",
       "      <th>TotalPopulation</th>\n",
       "      <th>Geolocation</th>\n",
       "      <th>LocationID</th>\n",
       "      <th>CategoryID</th>\n",
       "      <th>MeasureId</th>\n",
       "      <th>DataValueTypeID</th>\n",
       "      <th>Short_Question_Text</th>\n",
       "    </tr>\n",
       "  </thead>\n",
       "  <tbody>\n",
       "    <tr>\n",
       "      <th>0</th>\n",
       "      <td>2021</td>\n",
       "      <td>AL</td>\n",
       "      <td>Alabama</td>\n",
       "      <td>Baldwin</td>\n",
       "      <td>1003</td>\n",
       "      <td>1003011300</td>\n",
       "      <td>BRFSS</td>\n",
       "      <td>Health Outcomes</td>\n",
       "      <td>Obesity among adults aged &gt;=18 years</td>\n",
       "      <td>%</td>\n",
       "      <td>...</td>\n",
       "      <td>NaN</td>\n",
       "      <td>29.8</td>\n",
       "      <td>40.9</td>\n",
       "      <td>4487</td>\n",
       "      <td>POINT (-87.87730464 30.43411562)</td>\n",
       "      <td>1003011300</td>\n",
       "      <td>HLTHOUT</td>\n",
       "      <td>OBESITY</td>\n",
       "      <td>CrdPrv</td>\n",
       "      <td>Obesity</td>\n",
       "    </tr>\n",
       "    <tr>\n",
       "      <th>1</th>\n",
       "      <td>2021</td>\n",
       "      <td>AL</td>\n",
       "      <td>Alabama</td>\n",
       "      <td>Chambers</td>\n",
       "      <td>1017</td>\n",
       "      <td>1017954000</td>\n",
       "      <td>BRFSS</td>\n",
       "      <td>Health Outcomes</td>\n",
       "      <td>Obesity among adults aged &gt;=18 years</td>\n",
       "      <td>%</td>\n",
       "      <td>...</td>\n",
       "      <td>NaN</td>\n",
       "      <td>38.0</td>\n",
       "      <td>54.3</td>\n",
       "      <td>6669</td>\n",
       "      <td>POINT (-85.46010298 32.86128629)</td>\n",
       "      <td>1017954000</td>\n",
       "      <td>HLTHOUT</td>\n",
       "      <td>OBESITY</td>\n",
       "      <td>CrdPrv</td>\n",
       "      <td>Obesity</td>\n",
       "    </tr>\n",
       "    <tr>\n",
       "      <th>2</th>\n",
       "      <td>2021</td>\n",
       "      <td>AL</td>\n",
       "      <td>Alabama</td>\n",
       "      <td>Cleburne</td>\n",
       "      <td>1029</td>\n",
       "      <td>1029959600</td>\n",
       "      <td>BRFSS</td>\n",
       "      <td>Health Outcomes</td>\n",
       "      <td>Obesity among adults aged &gt;=18 years</td>\n",
       "      <td>%</td>\n",
       "      <td>...</td>\n",
       "      <td>NaN</td>\n",
       "      <td>31.0</td>\n",
       "      <td>47.8</td>\n",
       "      <td>4202</td>\n",
       "      <td>POINT (-85.56228862 33.69258271)</td>\n",
       "      <td>1029959600</td>\n",
       "      <td>HLTHOUT</td>\n",
       "      <td>OBESITY</td>\n",
       "      <td>CrdPrv</td>\n",
       "      <td>Obesity</td>\n",
       "    </tr>\n",
       "    <tr>\n",
       "      <th>3</th>\n",
       "      <td>2021</td>\n",
       "      <td>AL</td>\n",
       "      <td>Alabama</td>\n",
       "      <td>Covington</td>\n",
       "      <td>1039</td>\n",
       "      <td>1039962000</td>\n",
       "      <td>BRFSS</td>\n",
       "      <td>Health Outcomes</td>\n",
       "      <td>Stroke among adults aged &gt;=18 years</td>\n",
       "      <td>%</td>\n",
       "      <td>...</td>\n",
       "      <td>NaN</td>\n",
       "      <td>3.8</td>\n",
       "      <td>4.6</td>\n",
       "      <td>3917</td>\n",
       "      <td>POINT (-86.4651625 31.34674334)</td>\n",
       "      <td>1039962000</td>\n",
       "      <td>HLTHOUT</td>\n",
       "      <td>STROKE</td>\n",
       "      <td>CrdPrv</td>\n",
       "      <td>Stroke</td>\n",
       "    </tr>\n",
       "    <tr>\n",
       "      <th>4</th>\n",
       "      <td>2021</td>\n",
       "      <td>AL</td>\n",
       "      <td>Alabama</td>\n",
       "      <td>Fayette</td>\n",
       "      <td>1057</td>\n",
       "      <td>1057020400</td>\n",
       "      <td>BRFSS</td>\n",
       "      <td>Health Outcomes</td>\n",
       "      <td>Obesity among adults aged &gt;=18 years</td>\n",
       "      <td>%</td>\n",
       "      <td>...</td>\n",
       "      <td>NaN</td>\n",
       "      <td>28.4</td>\n",
       "      <td>44.1</td>\n",
       "      <td>3550</td>\n",
       "      <td>POINT (-87.60702531 33.64745531)</td>\n",
       "      <td>1057020400</td>\n",
       "      <td>HLTHOUT</td>\n",
       "      <td>OBESITY</td>\n",
       "      <td>CrdPrv</td>\n",
       "      <td>Obesity</td>\n",
       "    </tr>\n",
       "    <tr>\n",
       "      <th>...</th>\n",
       "      <td>...</td>\n",
       "      <td>...</td>\n",
       "      <td>...</td>\n",
       "      <td>...</td>\n",
       "      <td>...</td>\n",
       "      <td>...</td>\n",
       "      <td>...</td>\n",
       "      <td>...</td>\n",
       "      <td>...</td>\n",
       "      <td>...</td>\n",
       "      <td>...</td>\n",
       "      <td>...</td>\n",
       "      <td>...</td>\n",
       "      <td>...</td>\n",
       "      <td>...</td>\n",
       "      <td>...</td>\n",
       "      <td>...</td>\n",
       "      <td>...</td>\n",
       "      <td>...</td>\n",
       "      <td>...</td>\n",
       "      <td>...</td>\n",
       "    </tr>\n",
       "    <tr>\n",
       "      <th>2555108</th>\n",
       "      <td>2021</td>\n",
       "      <td>WI</td>\n",
       "      <td>Wisconsin</td>\n",
       "      <td>Waukesha</td>\n",
       "      <td>55133</td>\n",
       "      <td>55133203101</td>\n",
       "      <td>BRFSS</td>\n",
       "      <td>Health Outcomes</td>\n",
       "      <td>Depression among adults aged &gt;=18 years</td>\n",
       "      <td>%</td>\n",
       "      <td>...</td>\n",
       "      <td>NaN</td>\n",
       "      <td>17.0</td>\n",
       "      <td>23.5</td>\n",
       "      <td>6536</td>\n",
       "      <td>POINT (-88.27895206 43.04127835)</td>\n",
       "      <td>55133203101</td>\n",
       "      <td>HLTHOUT</td>\n",
       "      <td>DEPRESSION</td>\n",
       "      <td>CrdPrv</td>\n",
       "      <td>Depression</td>\n",
       "    </tr>\n",
       "    <tr>\n",
       "      <th>2555109</th>\n",
       "      <td>2021</td>\n",
       "      <td>WY</td>\n",
       "      <td>Wyoming</td>\n",
       "      <td>Laramie</td>\n",
       "      <td>56021</td>\n",
       "      <td>56021001901</td>\n",
       "      <td>BRFSS</td>\n",
       "      <td>Health Outcomes</td>\n",
       "      <td>Depression among adults aged &gt;=18 years</td>\n",
       "      <td>%</td>\n",
       "      <td>...</td>\n",
       "      <td>NaN</td>\n",
       "      <td>17.2</td>\n",
       "      <td>23.1</td>\n",
       "      <td>4891</td>\n",
       "      <td>POINT (-104.6678895 41.43479963)</td>\n",
       "      <td>56021001901</td>\n",
       "      <td>HLTHOUT</td>\n",
       "      <td>DEPRESSION</td>\n",
       "      <td>CrdPrv</td>\n",
       "      <td>Depression</td>\n",
       "    </tr>\n",
       "    <tr>\n",
       "      <th>2555110</th>\n",
       "      <td>2021</td>\n",
       "      <td>WY</td>\n",
       "      <td>Wyoming</td>\n",
       "      <td>Laramie</td>\n",
       "      <td>56021</td>\n",
       "      <td>56021001501</td>\n",
       "      <td>BRFSS</td>\n",
       "      <td>Health Outcomes</td>\n",
       "      <td>Chronic obstructive pulmonary disease among ad...</td>\n",
       "      <td>%</td>\n",
       "      <td>...</td>\n",
       "      <td>NaN</td>\n",
       "      <td>5.3</td>\n",
       "      <td>7.0</td>\n",
       "      <td>4765</td>\n",
       "      <td>POINT (-104.748713 41.18131941)</td>\n",
       "      <td>56021001501</td>\n",
       "      <td>HLTHOUT</td>\n",
       "      <td>COPD</td>\n",
       "      <td>CrdPrv</td>\n",
       "      <td>COPD</td>\n",
       "    </tr>\n",
       "    <tr>\n",
       "      <th>2555111</th>\n",
       "      <td>2021</td>\n",
       "      <td>WI</td>\n",
       "      <td>Wisconsin</td>\n",
       "      <td>Waushara</td>\n",
       "      <td>55137</td>\n",
       "      <td>55137960400</td>\n",
       "      <td>BRFSS</td>\n",
       "      <td>Prevention</td>\n",
       "      <td>Taking medicine for high blood pressure contro...</td>\n",
       "      <td>%</td>\n",
       "      <td>...</td>\n",
       "      <td>NaN</td>\n",
       "      <td>76.9</td>\n",
       "      <td>83.7</td>\n",
       "      <td>3456</td>\n",
       "      <td>POINT (-89.48341388 44.06856363)</td>\n",
       "      <td>55137960400</td>\n",
       "      <td>PREVENT</td>\n",
       "      <td>BPMED</td>\n",
       "      <td>CrdPrv</td>\n",
       "      <td>Taking BP Medication</td>\n",
       "    </tr>\n",
       "    <tr>\n",
       "      <th>2555112</th>\n",
       "      <td>2020</td>\n",
       "      <td>WY</td>\n",
       "      <td>Wyoming</td>\n",
       "      <td>Converse</td>\n",
       "      <td>56009</td>\n",
       "      <td>56009956600</td>\n",
       "      <td>BRFSS</td>\n",
       "      <td>Prevention</td>\n",
       "      <td>Cervical cancer screening among adult women ag...</td>\n",
       "      <td>%</td>\n",
       "      <td>...</td>\n",
       "      <td>NaN</td>\n",
       "      <td>80.1</td>\n",
       "      <td>83.7</td>\n",
       "      <td>3194</td>\n",
       "      <td>POINT (-105.5084759 42.97555477)</td>\n",
       "      <td>56009956600</td>\n",
       "      <td>PREVENT</td>\n",
       "      <td>CERVICAL</td>\n",
       "      <td>CrdPrv</td>\n",
       "      <td>Cervical Cancer Screening</td>\n",
       "    </tr>\n",
       "  </tbody>\n",
       "</table>\n",
       "<p>2555113 rows × 23 columns</p>\n",
       "</div>"
      ],
      "text/plain": [
       "         Year StateAbbr  StateDesc CountyName  CountyFIPS  LocationName  \\\n",
       "0        2021        AL    Alabama    Baldwin        1003    1003011300   \n",
       "1        2021        AL    Alabama   Chambers        1017    1017954000   \n",
       "2        2021        AL    Alabama   Cleburne        1029    1029959600   \n",
       "3        2021        AL    Alabama  Covington        1039    1039962000   \n",
       "4        2021        AL    Alabama    Fayette        1057    1057020400   \n",
       "...       ...       ...        ...        ...         ...           ...   \n",
       "2555108  2021        WI  Wisconsin   Waukesha       55133   55133203101   \n",
       "2555109  2021        WY    Wyoming    Laramie       56021   56021001901   \n",
       "2555110  2021        WY    Wyoming    Laramie       56021   56021001501   \n",
       "2555111  2021        WI  Wisconsin   Waushara       55137   55137960400   \n",
       "2555112  2020        WY    Wyoming   Converse       56009   56009956600   \n",
       "\n",
       "        DataSource         Category  \\\n",
       "0            BRFSS  Health Outcomes   \n",
       "1            BRFSS  Health Outcomes   \n",
       "2            BRFSS  Health Outcomes   \n",
       "3            BRFSS  Health Outcomes   \n",
       "4            BRFSS  Health Outcomes   \n",
       "...            ...              ...   \n",
       "2555108      BRFSS  Health Outcomes   \n",
       "2555109      BRFSS  Health Outcomes   \n",
       "2555110      BRFSS  Health Outcomes   \n",
       "2555111      BRFSS       Prevention   \n",
       "2555112      BRFSS       Prevention   \n",
       "\n",
       "                                                   Measure Data_Value_Unit  \\\n",
       "0                     Obesity among adults aged >=18 years               %   \n",
       "1                     Obesity among adults aged >=18 years               %   \n",
       "2                     Obesity among adults aged >=18 years               %   \n",
       "3                      Stroke among adults aged >=18 years               %   \n",
       "4                     Obesity among adults aged >=18 years               %   \n",
       "...                                                    ...             ...   \n",
       "2555108            Depression among adults aged >=18 years               %   \n",
       "2555109            Depression among adults aged >=18 years               %   \n",
       "2555110  Chronic obstructive pulmonary disease among ad...               %   \n",
       "2555111  Taking medicine for high blood pressure contro...               %   \n",
       "2555112  Cervical cancer screening among adult women ag...               %   \n",
       "\n",
       "         ... Data_Value_Footnote  Low_Confidence_Limit  High_Confidence_Limit  \\\n",
       "0        ...                 NaN                  29.8                   40.9   \n",
       "1        ...                 NaN                  38.0                   54.3   \n",
       "2        ...                 NaN                  31.0                   47.8   \n",
       "3        ...                 NaN                   3.8                    4.6   \n",
       "4        ...                 NaN                  28.4                   44.1   \n",
       "...      ...                 ...                   ...                    ...   \n",
       "2555108  ...                 NaN                  17.0                   23.5   \n",
       "2555109  ...                 NaN                  17.2                   23.1   \n",
       "2555110  ...                 NaN                   5.3                    7.0   \n",
       "2555111  ...                 NaN                  76.9                   83.7   \n",
       "2555112  ...                 NaN                  80.1                   83.7   \n",
       "\n",
       "         TotalPopulation                       Geolocation   LocationID  \\\n",
       "0                   4487  POINT (-87.87730464 30.43411562)   1003011300   \n",
       "1                   6669  POINT (-85.46010298 32.86128629)   1017954000   \n",
       "2                   4202  POINT (-85.56228862 33.69258271)   1029959600   \n",
       "3                   3917   POINT (-86.4651625 31.34674334)   1039962000   \n",
       "4                   3550  POINT (-87.60702531 33.64745531)   1057020400   \n",
       "...                  ...                               ...          ...   \n",
       "2555108             6536  POINT (-88.27895206 43.04127835)  55133203101   \n",
       "2555109             4891  POINT (-104.6678895 41.43479963)  56021001901   \n",
       "2555110             4765   POINT (-104.748713 41.18131941)  56021001501   \n",
       "2555111             3456  POINT (-89.48341388 44.06856363)  55137960400   \n",
       "2555112             3194  POINT (-105.5084759 42.97555477)  56009956600   \n",
       "\n",
       "         CategoryID   MeasureId  DataValueTypeID        Short_Question_Text  \n",
       "0           HLTHOUT     OBESITY           CrdPrv                    Obesity  \n",
       "1           HLTHOUT     OBESITY           CrdPrv                    Obesity  \n",
       "2           HLTHOUT     OBESITY           CrdPrv                    Obesity  \n",
       "3           HLTHOUT      STROKE           CrdPrv                     Stroke  \n",
       "4           HLTHOUT     OBESITY           CrdPrv                    Obesity  \n",
       "...             ...         ...              ...                        ...  \n",
       "2555108     HLTHOUT  DEPRESSION           CrdPrv                 Depression  \n",
       "2555109     HLTHOUT  DEPRESSION           CrdPrv                 Depression  \n",
       "2555110     HLTHOUT        COPD           CrdPrv                       COPD  \n",
       "2555111     PREVENT       BPMED           CrdPrv       Taking BP Medication  \n",
       "2555112     PREVENT    CERVICAL           CrdPrv  Cervical Cancer Screening  \n",
       "\n",
       "[2555113 rows x 23 columns]"
      ]
     },
     "execution_count": 211,
     "metadata": {},
     "output_type": "execute_result"
    }
   ],
   "source": [
    "data"
   ]
  },
  {
   "cell_type": "code",
   "execution_count": 6,
   "id": "c430fdf9",
   "metadata": {
    "scrolled": true
   },
   "outputs": [
    {
     "data": {
      "text/plain": [
       "array(['Obesity among adults aged >=18 years',\n",
       "       'Stroke among adults aged >=18 years',\n",
       "       'Arthritis among adults aged >=18 years',\n",
       "       'Mammography use among women aged 50-74 years',\n",
       "       'Depression among adults aged >=18 years',\n",
       "       'Vision disability among adults aged >=18 years',\n",
       "       'Chronic obstructive pulmonary disease among adults aged >=18 years',\n",
       "       'Visits to dentist or dental clinic among adults aged >=18 years',\n",
       "       'High cholesterol among adults aged >=18 years who have been screened in the past 5 years',\n",
       "       'Current smoking among adults aged >=18 years',\n",
       "       'Mobility disability among adults aged >=18 years',\n",
       "       'Taking medicine for high blood pressure control among adults aged >=18 years with high blood pressure',\n",
       "       'Self-care disability among adults aged >=18 years',\n",
       "       'Cholesterol screening among adults aged >=18 years',\n",
       "       'Any disability among adults aged >=18 years',\n",
       "       'Fecal occult blood test, sigmoidoscopy, or colonoscopy among adults aged 50-75 years',\n",
       "       'All teeth lost among adults aged >=65 years',\n",
       "       'No leisure-time physical activity among adults aged >=18 years',\n",
       "       'Older adult women aged >=65 years who are up to date on a core set of clinical preventive services: Flu shot past year, PPV shot ever, Colorectal cancer screening, and Mammogram past 2 years',\n",
       "       'Sleeping less than 7 hours among adults aged >=18 years',\n",
       "       'Independent living disability among adults aged >=18 years',\n",
       "       'Current lack of health insurance among adults aged 18-64 years',\n",
       "       'Cancer (excluding skin cancer) among adults aged >=18 years',\n",
       "       'Chronic kidney disease among adults aged >=18 years',\n",
       "       'High blood pressure among adults aged >=18 years',\n",
       "       'Mental health not good for >=14 days among adults aged >=18 years',\n",
       "       'Cervical cancer screening among adult women aged 21-65 years',\n",
       "       'Binge drinking among adults aged >=18 years',\n",
       "       'Fair or poor self-rated health status among adults aged >=18 years',\n",
       "       'Current asthma among adults aged >=18 years',\n",
       "       'Visits to doctor for routine checkup within the past year among adults aged >=18 years',\n",
       "       'Cognitive disability among adults ages >=18 years',\n",
       "       'Hearing disability among adults aged >=18 years',\n",
       "       'Diagnosed diabetes among adults aged >=18 years',\n",
       "       'Older adult men aged >=65 years who are up to date on a core set of clinical preventive services: Flu shot past year, PPV shot ever, Colorectal cancer screening',\n",
       "       'Physical health not good for >=14 days among adults aged >=18 years',\n",
       "       'Coronary heart disease among adults aged >=18 years'],\n",
       "      dtype=object)"
      ]
     },
     "execution_count": 6,
     "metadata": {},
     "output_type": "execute_result"
    }
   ],
   "source": [
    "data[\"Measure\"].unique()"
   ]
  },
  {
   "cell_type": "code",
   "execution_count": 10,
   "id": "5bd7a580",
   "metadata": {
    "scrolled": true
   },
   "outputs": [
    {
     "data": {
      "text/plain": [
       "array(['OBESITY', 'STROKE', 'ARTHRITIS', 'MAMMOUSE', 'DEPRESSION',\n",
       "       'VISION', 'COPD', 'DENTAL', 'HIGHCHOL', 'CSMOKING', 'MOBILITY',\n",
       "       'BPMED', 'SELFCARE', 'CHOLSCREEN', 'DISABILITY', 'COLON_SCREEN',\n",
       "       'TEETHLOST', 'LPA', 'COREW', 'SLEEP', 'INDEPLIVE', 'ACCESS2',\n",
       "       'CANCER', 'KIDNEY', 'BPHIGH', 'MHLTH', 'CERVICAL', 'BINGE',\n",
       "       'GHLTH', 'CASTHMA', 'CHECKUP', 'COGNITION', 'HEARING', 'DIABETES',\n",
       "       'COREM', 'PHLTH', 'CHD'], dtype=object)"
      ]
     },
     "execution_count": 10,
     "metadata": {},
     "output_type": "execute_result"
    }
   ],
   "source": [
    "data[\"MeasureId\"].unique()"
   ]
  },
  {
   "cell_type": "code",
   "execution_count": 17,
   "id": "5c57f4eb",
   "metadata": {
    "scrolled": false
   },
   "outputs": [
    {
     "data": {
      "text/plain": [
       "array(['Health Outcomes', 'Prevention', 'Disability',\n",
       "       'Health Risk Behaviors', 'Health Status'], dtype=object)"
      ]
     },
     "execution_count": 17,
     "metadata": {},
     "output_type": "execute_result"
    }
   ],
   "source": [
    "data[\"Category\"].unique()"
   ]
  },
  {
   "cell_type": "markdown",
   "id": "77220dcb",
   "metadata": {},
   "source": [
    "# Category of data"
   ]
  },
  {
   "cell_type": "code",
   "execution_count": null,
   "id": "40e8483d",
   "metadata": {},
   "outputs": [],
   "source": [
    "Data_Value_Unit',\n",
    " 'Data_Value_Type',\n",
    " 'Data_Value',\n",
    " 'Data_Value_Footnote_Symbol',\n",
    " 'Data_Value_Footnote',"
   ]
  },
  {
   "cell_type": "code",
   "execution_count": 36,
   "id": "b8739066",
   "metadata": {
    "scrolled": true
   },
   "outputs": [
    {
     "data": {
      "text/plain": [
       "array(['Crude prevalence'], dtype=object)"
      ]
     },
     "execution_count": 36,
     "metadata": {},
     "output_type": "execute_result"
    }
   ],
   "source": [
    "data[data[\"Category\"] == \"Health Status\"][\"Data_Value_Type\"].unique()"
   ]
  },
  {
   "cell_type": "code",
   "execution_count": 32,
   "id": "fe7fadcb",
   "metadata": {},
   "outputs": [
    {
     "data": {
      "text/plain": [
       "array(['Crude prevalence'], dtype=object)"
      ]
     },
     "execution_count": 32,
     "metadata": {},
     "output_type": "execute_result"
    }
   ],
   "source": [
    "data[\"Data_Value_Type\"].unique()"
   ]
  },
  {
   "cell_type": "markdown",
   "id": "53c59c34",
   "metadata": {},
   "source": [
    "# Focusing on one Chronic condition"
   ]
  },
  {
   "cell_type": "code",
   "execution_count": 18,
   "id": "2d356e6b",
   "metadata": {
    "scrolled": true
   },
   "outputs": [],
   "source": [
    "stroke_data = data[data[\"MeasureId\"] == \"STROKE\"]"
   ]
  },
  {
   "cell_type": "code",
   "execution_count": 22,
   "id": "ecb1622d",
   "metadata": {
    "scrolled": false
   },
   "outputs": [
    {
     "data": {
      "text/plain": [
       "['Year',\n",
       " 'StateAbbr',\n",
       " 'StateDesc',\n",
       " 'CountyName',\n",
       " 'CountyFIPS',\n",
       " 'LocationName',\n",
       " 'DataSource',\n",
       " 'Category',\n",
       " 'Measure',\n",
       " 'Data_Value_Unit',\n",
       " 'Data_Value_Type',\n",
       " 'Data_Value',\n",
       " 'Data_Value_Footnote_Symbol',\n",
       " 'Data_Value_Footnote',\n",
       " 'Low_Confidence_Limit',\n",
       " 'High_Confidence_Limit',\n",
       " 'TotalPopulation',\n",
       " 'Geolocation',\n",
       " 'LocationID',\n",
       " 'CategoryID',\n",
       " 'MeasureId',\n",
       " 'DataValueTypeID',\n",
       " 'Short_Question_Text']"
      ]
     },
     "execution_count": 22,
     "metadata": {},
     "output_type": "execute_result"
    }
   ],
   "source": [
    "stroke_data.columns.tolist()"
   ]
  },
  {
   "cell_type": "code",
   "execution_count": 42,
   "id": "ca13c524",
   "metadata": {},
   "outputs": [
    {
     "data": {
      "text/plain": [
       "array(['Obesity', 'Stroke', 'Arthritis', 'Mammography', 'Depression',\n",
       "       'Vision Disability', 'COPD', 'Dental Visit', 'High Cholesterol',\n",
       "       'Current Smoking', 'Mobility Disability', 'Taking BP Medication',\n",
       "       'Self-care Disability', 'Cholesterol Screening', 'Any Disability',\n",
       "       'Colorectal Cancer Screening', 'All Teeth Lost',\n",
       "       'Physical Inactivity', 'Core preventive services for older women',\n",
       "       'Sleep <7 hours', 'Independent Living Disability',\n",
       "       'Health Insurance', 'Cancer (except skin)',\n",
       "       'Chronic Kidney Disease', 'High Blood Pressure', 'Mental Health',\n",
       "       'Cervical Cancer Screening', 'Binge Drinking', 'General Health',\n",
       "       'Current Asthma', 'Annual Checkup', 'Cognitive Disability',\n",
       "       'Hearing Disability', 'Diabetes',\n",
       "       'Core preventive services for older men', 'Physical Health',\n",
       "       'Coronary Heart Disease'], dtype=object)"
      ]
     },
     "execution_count": 42,
     "metadata": {},
     "output_type": "execute_result"
    }
   ],
   "source": [
    "data[\"Short_Question_Text\"].unique()"
   ]
  },
  {
   "cell_type": "markdown",
   "id": "e7b6ec37",
   "metadata": {},
   "source": [
    "# Simple correlation analysis test"
   ]
  },
  {
   "cell_type": "code",
   "execution_count": 73,
   "id": "9810adee",
   "metadata": {},
   "outputs": [],
   "source": [
    "v1 = data[(data[\"Short_Question_Text\"] == \"COPD\") & (data[\"Year\"] == 2021)].groupby(\"StateDesc\")[\"Data_Value\"].mean()"
   ]
  },
  {
   "cell_type": "code",
   "execution_count": 74,
   "id": "32592be6",
   "metadata": {
    "scrolled": true
   },
   "outputs": [],
   "source": [
    "v2 = data[(data[\"Short_Question_Text\"] == \"Sleep <7 hours\") & (data[\"Year\"] == 2020)].groupby(\"StateDesc\")[\"Data_Value\"].mean()"
   ]
  },
  {
   "cell_type": "code",
   "execution_count": 75,
   "id": "d3f76023",
   "metadata": {
    "scrolled": true
   },
   "outputs": [
    {
     "name": "stderr",
     "output_type": "stream",
     "text": [
      "/var/folders/yq/x6shc62d4rlg1jm8c0xh38h40000gn/T/ipykernel_88546/1154150130.py:2: DeprecationWarning: Please use `spearmanr` from the `scipy.stats` namespace, the `scipy.stats.stats` namespace is deprecated.\n",
      "  sp.stats.spearmanr(v1.loc[common_index],\n"
     ]
    },
    {
     "data": {
      "text/plain": [
       "SignificanceResult(statistic=0.4916686674669868, pvalue=0.00028776186616503974)"
      ]
     },
     "execution_count": 75,
     "metadata": {},
     "output_type": "execute_result"
    }
   ],
   "source": [
    "common_index = list(set(v1.index).intersection(v2.index))\n",
    "sp.stats.spearmanr(v1.loc[common_index],\n",
    "                   v2.loc[common_index])"
   ]
  },
  {
   "cell_type": "markdown",
   "id": "26b9ab3b",
   "metadata": {},
   "source": [
    "# BRFSS survey"
   ]
  },
  {
   "cell_type": "code",
   "execution_count": 113,
   "id": "1634bf8f",
   "metadata": {
    "scrolled": true
   },
   "outputs": [],
   "source": [
    "import numpy as np\n",
    "data_brfss = pd.read_csv(\"/Users/suxian/Data/Class/CSE583/Data/Behavioral_Risk_Factor_Surveillance_System__BRFSS__Historical_Questions_20231024.csv\")"
   ]
  },
  {
   "cell_type": "markdown",
   "id": "7e2ab252",
   "metadata": {},
   "source": [
    "# CDI"
   ]
  },
  {
   "cell_type": "code",
   "execution_count": 118,
   "id": "01986f2a",
   "metadata": {},
   "outputs": [
    {
     "name": "stderr",
     "output_type": "stream",
     "text": [
      "/var/folders/yq/x6shc62d4rlg1jm8c0xh38h40000gn/T/ipykernel_88546/1911008947.py:1: DtypeWarning: Columns (10) have mixed types. Specify dtype option on import or set low_memory=False.\n",
      "  cdi = pd.read_csv(\"/Users/suxian/Data/Class/CSE583/Data/U.S._Chronic_Disease_Indicators__CDI__20231024.csv\")\n"
     ]
    }
   ],
   "source": [
    "cdi = pd.read_csv(\"/Users/suxian/Data/Class/CSE583/Data/U.S._Chronic_Disease_Indicators__CDI__20231024.csv\")"
   ]
  },
  {
   "cell_type": "code",
   "execution_count": 246,
   "id": "377a905b",
   "metadata": {},
   "outputs": [
    {
     "data": {
      "text/plain": [
       "Index(['YearStart', 'YearEnd', 'LocationAbbr', 'LocationDesc', 'DataSource',\n",
       "       'Topic', 'Question', 'Response', 'DataValueUnit', 'DataValueType',\n",
       "       'DataValue', 'DataValueAlt', 'DataValueFootnoteSymbol',\n",
       "       'DatavalueFootnote', 'LowConfidenceLimit', 'HighConfidenceLimit',\n",
       "       'StratificationCategory1', 'Stratification1', 'StratificationCategory2',\n",
       "       'Stratification2', 'StratificationCategory3', 'Stratification3',\n",
       "       'GeoLocation', 'ResponseID', 'LocationID', 'TopicID', 'QuestionID',\n",
       "       'DataValueTypeID', 'StratificationCategoryID1', 'StratificationID1',\n",
       "       'StratificationCategoryID2', 'StratificationID2',\n",
       "       'StratificationCategoryID3', 'StratificationID3'],\n",
       "      dtype='object')"
      ]
     },
     "execution_count": 246,
     "metadata": {},
     "output_type": "execute_result"
    }
   ],
   "source": [
    "cdi.columns"
   ]
  },
  {
   "cell_type": "code",
   "execution_count": 244,
   "id": "063f8e01",
   "metadata": {
    "scrolled": false
   },
   "outputs": [
    {
     "data": {
      "text/plain": [
       "Topic\n",
       "Cancer                                             176339\n",
       "Cardiovascular Disease                             157750\n",
       "Diabetes                                           156808\n",
       "Chronic Obstructive Pulmonary Disease              152874\n",
       "Asthma                                              80342\n",
       "Arthritis                                           78300\n",
       "Nutrition, Physical Activity, and Weight Status     75418\n",
       "Overarching Conditions                              73260\n",
       "Alcohol                                             66091\n",
       "Tobacco                                             59396\n",
       "Older Adults                                        26316\n",
       "Chronic Kidney Disease                              24731\n",
       "Oral Health                                         22273\n",
       "Mental Health                                       13200\n",
       "Immunization                                         9570\n",
       "Reproductive Health                                  9086\n",
       "Disability                                           3922\n",
       "Name: count, dtype: int64"
      ]
     },
     "execution_count": 244,
     "metadata": {},
     "output_type": "execute_result"
    }
   ],
   "source": [
    "cdi[\"Topic\"].value_counts()"
   ]
  },
  {
   "cell_type": "code",
   "execution_count": 120,
   "id": "5a455f61",
   "metadata": {
    "scrolled": true
   },
   "outputs": [
    {
     "data": {
      "text/plain": [
       "['YearStart',\n",
       " 'YearEnd',\n",
       " 'LocationAbbr',\n",
       " 'LocationDesc',\n",
       " 'DataSource',\n",
       " 'Topic',\n",
       " 'Question',\n",
       " 'Response',\n",
       " 'DataValueUnit',\n",
       " 'DataValueType',\n",
       " 'DataValue',\n",
       " 'DataValueAlt',\n",
       " 'DataValueFootnoteSymbol',\n",
       " 'DatavalueFootnote',\n",
       " 'LowConfidenceLimit',\n",
       " 'HighConfidenceLimit',\n",
       " 'StratificationCategory1',\n",
       " 'Stratification1',\n",
       " 'StratificationCategory2',\n",
       " 'Stratification2',\n",
       " 'StratificationCategory3',\n",
       " 'Stratification3',\n",
       " 'GeoLocation',\n",
       " 'ResponseID',\n",
       " 'LocationID',\n",
       " 'TopicID',\n",
       " 'QuestionID',\n",
       " 'DataValueTypeID',\n",
       " 'StratificationCategoryID1',\n",
       " 'StratificationID1',\n",
       " 'StratificationCategoryID2',\n",
       " 'StratificationID2',\n",
       " 'StratificationCategoryID3',\n",
       " 'StratificationID3']"
      ]
     },
     "execution_count": 120,
     "metadata": {},
     "output_type": "execute_result"
    }
   ],
   "source": [
    "cdi.columns.tolist()"
   ]
  },
  {
   "cell_type": "code",
   "execution_count": 122,
   "id": "1f663311",
   "metadata": {},
   "outputs": [
    {
     "data": {
      "text/plain": [
       "array(['Cardiovascular Disease', 'Alcohol', 'Arthritis', 'Asthma',\n",
       "       'Cancer', 'Chronic Kidney Disease',\n",
       "       'Chronic Obstructive Pulmonary Disease', 'Mental Health',\n",
       "       'Tobacco', 'Overarching Conditions', 'Oral Health',\n",
       "       'Reproductive Health', 'Diabetes', 'Immunization',\n",
       "       'Nutrition, Physical Activity, and Weight Status', 'Disability',\n",
       "       'Older Adults'], dtype=object)"
      ]
     },
     "execution_count": 122,
     "metadata": {},
     "output_type": "execute_result"
    }
   ],
   "source": [
    "cdi[\"Topic\"].unique()"
   ]
  },
  {
   "cell_type": "code",
   "execution_count": 131,
   "id": "f472f3f9",
   "metadata": {
    "scrolled": true
   },
   "outputs": [
    {
     "data": {
      "text/html": [
       "<div>\n",
       "<style scoped>\n",
       "    .dataframe tbody tr th:only-of-type {\n",
       "        vertical-align: middle;\n",
       "    }\n",
       "\n",
       "    .dataframe tbody tr th {\n",
       "        vertical-align: top;\n",
       "    }\n",
       "\n",
       "    .dataframe thead th {\n",
       "        text-align: right;\n",
       "    }\n",
       "</style>\n",
       "<table border=\"1\" class=\"dataframe\">\n",
       "  <thead>\n",
       "    <tr style=\"text-align: right;\">\n",
       "      <th></th>\n",
       "      <th>DataValueType</th>\n",
       "      <th>DataValue</th>\n",
       "    </tr>\n",
       "  </thead>\n",
       "  <tbody>\n",
       "    <tr>\n",
       "      <th>2792</th>\n",
       "      <td>Number</td>\n",
       "      <td>18.4</td>\n",
       "    </tr>\n",
       "    <tr>\n",
       "      <th>479540</th>\n",
       "      <td>Number</td>\n",
       "      <td>18.5</td>\n",
       "    </tr>\n",
       "    <tr>\n",
       "      <th>479904</th>\n",
       "      <td>Number</td>\n",
       "      <td>19.3</td>\n",
       "    </tr>\n",
       "    <tr>\n",
       "      <th>480246</th>\n",
       "      <td>Number</td>\n",
       "      <td>19.4</td>\n",
       "    </tr>\n",
       "    <tr>\n",
       "      <th>483668</th>\n",
       "      <td>Number</td>\n",
       "      <td>16.4</td>\n",
       "    </tr>\n",
       "    <tr>\n",
       "      <th>...</th>\n",
       "      <td>...</td>\n",
       "      <td>...</td>\n",
       "    </tr>\n",
       "    <tr>\n",
       "      <th>505232</th>\n",
       "      <td>Number</td>\n",
       "      <td>20.0</td>\n",
       "    </tr>\n",
       "    <tr>\n",
       "      <th>505267</th>\n",
       "      <td>Number</td>\n",
       "      <td>18.9</td>\n",
       "    </tr>\n",
       "    <tr>\n",
       "      <th>505270</th>\n",
       "      <td>Number</td>\n",
       "      <td>16.9</td>\n",
       "    </tr>\n",
       "    <tr>\n",
       "      <th>505330</th>\n",
       "      <td>Number</td>\n",
       "      <td>20.9</td>\n",
       "    </tr>\n",
       "    <tr>\n",
       "      <th>505340</th>\n",
       "      <td>Number</td>\n",
       "      <td>17.6</td>\n",
       "    </tr>\n",
       "  </tbody>\n",
       "</table>\n",
       "<p>364 rows × 2 columns</p>\n",
       "</div>"
      ],
      "text/plain": [
       "       DataValueType DataValue\n",
       "2792          Number      18.4\n",
       "479540        Number      18.5\n",
       "479904        Number      19.3\n",
       "480246        Number      19.4\n",
       "483668        Number      16.4\n",
       "...              ...       ...\n",
       "505232        Number      20.0\n",
       "505267        Number      18.9\n",
       "505270        Number      16.9\n",
       "505330        Number      20.9\n",
       "505340        Number      17.6\n",
       "\n",
       "[364 rows x 2 columns]"
      ]
     },
     "execution_count": 131,
     "metadata": {},
     "output_type": "execute_result"
    }
   ],
   "source": [
    "cdi[cdi[\"Question\"] == 'Life expectancy at birth'][[\"DataValueType\",\n",
    " 'DataValue',]]"
   ]
  },
  {
   "cell_type": "code",
   "execution_count": 140,
   "id": "90b5531d",
   "metadata": {
    "scrolled": true
   },
   "outputs": [],
   "source": [
    "data_analysis = cdi[(cdi[\"Question\"] == \"Recent mentally unhealthy days among adults aged >= 18 years\") & (cdi[\"LocationDesc\"] == \"United States\")]\n",
    "data_analysis[(data_analysis[\"DataValueType\"] == \"Mean\") & (data_analysis[\"StratificationCategoryID1\"] == \"OVERALL\")].sort_values(by = \"YearStart\")[\"DataValue\"]"
   ]
  },
  {
   "cell_type": "code",
   "execution_count": 145,
   "id": "33e9e003",
   "metadata": {
    "scrolled": true
   },
   "outputs": [
    {
     "data": {
      "text/plain": [
       "1089216    3.8\n",
       "1076837    3.8\n",
       "1078023    3.7\n",
       "1081543    3.6\n",
       "1087150    3.7\n",
       "1078231    3.7\n",
       "1087332    3.9\n",
       "1086191    4.0\n",
       "1076520    4.4\n",
       "1084377    4.2\n",
       "1079221    4.7\n",
       "Name: DataValue, dtype: object"
      ]
     },
     "execution_count": 145,
     "metadata": {},
     "output_type": "execute_result"
    }
   ],
   "source": [
    "data_analysis[(data_analysis[\"DataValueType\"] == \"Mean\") & (data_analysis[\"StratificationCategoryID1\"] == \"OVERALL\")].sort_values(by = \"YearStart\")[\"DataValue\"]"
   ]
  },
  {
   "cell_type": "code",
   "execution_count": 149,
   "id": "f7894b01",
   "metadata": {
    "scrolled": true
   },
   "outputs": [
    {
     "data": {
      "text/plain": [
       "490830    Number\n",
       "493599    Number\n",
       "494581    Number\n",
       "494817    Number\n",
       "495831    Number\n",
       "497074    Number\n",
       "497773    Number\n",
       "497966    Number\n",
       "500367    Number\n",
       "502148    Number\n",
       "502606    Number\n",
       "503891    Number\n",
       "504942    Number\n",
       "Name: DataValueType, dtype: object"
      ]
     },
     "execution_count": 149,
     "metadata": {},
     "output_type": "execute_result"
    }
   ],
   "source": [
    "data_analysis[\"DataValueType\"]"
   ]
  },
  {
   "cell_type": "code",
   "execution_count": 150,
   "id": "cf4b80ae",
   "metadata": {
    "scrolled": true
   },
   "outputs": [
    {
     "data": {
      "text/plain": [
       "500367    77.3\n",
       "495831    78.9\n",
       "497966    78.7\n",
       "494817    78.8\n",
       "497074    77.0\n",
       "Name: DataValue, dtype: object"
      ]
     },
     "execution_count": 150,
     "metadata": {},
     "output_type": "execute_result"
    }
   ],
   "source": [
    "data_analysis = cdi[(cdi[\"Question\"] == \"Life expectancy at birth\") & (cdi[\"LocationDesc\"] == \"United States\")]\n",
    "data_analysis[(data_analysis[\"DataValueType\"] == \"Number\") & (data_analysis[\"StratificationCategoryID1\"] == \"OVERALL\")].sort_values(by = \"YearStart\")[\"DataValue\"]"
   ]
  },
  {
   "cell_type": "code",
   "execution_count": 153,
   "id": "594e4909",
   "metadata": {},
   "outputs": [],
   "source": [
    "state_list = cdi[\"LocationDesc\"].unique().tolist()\n",
    "state_list.remove(\"United States\")"
   ]
  },
  {
   "cell_type": "code",
   "execution_count": 166,
   "id": "99a9c062",
   "metadata": {},
   "outputs": [
    {
     "data": {
      "text/plain": [
       "Index(['YearStart', 'YearEnd', 'LocationAbbr', 'LocationDesc', 'DataSource',\n",
       "       'Topic', 'Question', 'Response', 'DataValueUnit', 'DataValueType',\n",
       "       'DataValue', 'DataValueAlt', 'DataValueFootnoteSymbol',\n",
       "       'DatavalueFootnote', 'LowConfidenceLimit', 'HighConfidenceLimit',\n",
       "       'StratificationCategory1', 'Stratification1', 'StratificationCategory2',\n",
       "       'Stratification2', 'StratificationCategory3', 'Stratification3',\n",
       "       'GeoLocation', 'ResponseID', 'LocationID', 'TopicID', 'QuestionID',\n",
       "       'DataValueTypeID', 'StratificationCategoryID1', 'StratificationID1',\n",
       "       'StratificationCategoryID2', 'StratificationID2',\n",
       "       'StratificationCategoryID3', 'StratificationID3'],\n",
       "      dtype='object')"
      ]
     },
     "execution_count": 166,
     "metadata": {},
     "output_type": "execute_result"
    }
   ],
   "source": [
    "data_analysis.columns"
   ]
  },
  {
   "cell_type": "markdown",
   "id": "df9dbb5c",
   "metadata": {},
   "source": [
    "# General function\n",
    "- print summary statistics\n",
    "- what variables are needed:\n",
    "    - Years\n",
    "        - by numbers of counts, max and min.\n",
    "    - Topics\n",
    "        - by counts\n",
    "        - Questions, sorted by counts\n",
    "    - Stratifications\n",
    "        - categoriecal, sorted by counts"
   ]
  },
  {
   "cell_type": "code",
   "execution_count": 268,
   "id": "496db27f",
   "metadata": {},
   "outputs": [
    {
     "data": {
      "text/html": [
       "<div>\n",
       "<style scoped>\n",
       "    .dataframe tbody tr th:only-of-type {\n",
       "        vertical-align: middle;\n",
       "    }\n",
       "\n",
       "    .dataframe tbody tr th {\n",
       "        vertical-align: top;\n",
       "    }\n",
       "\n",
       "    .dataframe thead th {\n",
       "        text-align: right;\n",
       "    }\n",
       "</style>\n",
       "<table border=\"1\" class=\"dataframe\">\n",
       "  <thead>\n",
       "    <tr style=\"text-align: right;\">\n",
       "      <th></th>\n",
       "      <th>YearStart</th>\n",
       "      <th>YearEnd</th>\n",
       "      <th>Response</th>\n",
       "      <th>DataValueAlt</th>\n",
       "      <th>LowConfidenceLimit</th>\n",
       "      <th>HighConfidenceLimit</th>\n",
       "      <th>StratificationCategory2</th>\n",
       "      <th>Stratification2</th>\n",
       "      <th>StratificationCategory3</th>\n",
       "      <th>Stratification3</th>\n",
       "      <th>ResponseID</th>\n",
       "      <th>LocationID</th>\n",
       "      <th>StratificationCategoryID2</th>\n",
       "      <th>StratificationID2</th>\n",
       "      <th>StratificationCategoryID3</th>\n",
       "      <th>StratificationID3</th>\n",
       "    </tr>\n",
       "  </thead>\n",
       "  <tbody>\n",
       "    <tr>\n",
       "      <th>count</th>\n",
       "      <td>1.185676e+06</td>\n",
       "      <td>1.185676e+06</td>\n",
       "      <td>0.0</td>\n",
       "      <td>8.045780e+05</td>\n",
       "      <td>682380.000000</td>\n",
       "      <td>682380.000000</td>\n",
       "      <td>0.0</td>\n",
       "      <td>0.0</td>\n",
       "      <td>0.0</td>\n",
       "      <td>0.0</td>\n",
       "      <td>0.0</td>\n",
       "      <td>1.185676e+06</td>\n",
       "      <td>0.0</td>\n",
       "      <td>0.0</td>\n",
       "      <td>0.0</td>\n",
       "      <td>0.0</td>\n",
       "    </tr>\n",
       "    <tr>\n",
       "      <th>mean</th>\n",
       "      <td>2.015103e+03</td>\n",
       "      <td>2.015643e+03</td>\n",
       "      <td>NaN</td>\n",
       "      <td>1.005325e+03</td>\n",
       "      <td>50.264623</td>\n",
       "      <td>61.873881</td>\n",
       "      <td>NaN</td>\n",
       "      <td>NaN</td>\n",
       "      <td>NaN</td>\n",
       "      <td>NaN</td>\n",
       "      <td>NaN</td>\n",
       "      <td>3.078907e+01</td>\n",
       "      <td>NaN</td>\n",
       "      <td>NaN</td>\n",
       "      <td>NaN</td>\n",
       "      <td>NaN</td>\n",
       "    </tr>\n",
       "    <tr>\n",
       "      <th>std</th>\n",
       "      <td>3.320259e+00</td>\n",
       "      <td>3.001197e+00</td>\n",
       "      <td>NaN</td>\n",
       "      <td>1.880433e+04</td>\n",
       "      <td>89.004848</td>\n",
       "      <td>100.104303</td>\n",
       "      <td>NaN</td>\n",
       "      <td>NaN</td>\n",
       "      <td>NaN</td>\n",
       "      <td>NaN</td>\n",
       "      <td>NaN</td>\n",
       "      <td>1.750972e+01</td>\n",
       "      <td>NaN</td>\n",
       "      <td>NaN</td>\n",
       "      <td>NaN</td>\n",
       "      <td>NaN</td>\n",
       "    </tr>\n",
       "    <tr>\n",
       "      <th>min</th>\n",
       "      <td>2.001000e+03</td>\n",
       "      <td>2.001000e+03</td>\n",
       "      <td>NaN</td>\n",
       "      <td>0.000000e+00</td>\n",
       "      <td>0.000000</td>\n",
       "      <td>0.000000</td>\n",
       "      <td>NaN</td>\n",
       "      <td>NaN</td>\n",
       "      <td>NaN</td>\n",
       "      <td>NaN</td>\n",
       "      <td>NaN</td>\n",
       "      <td>1.000000e+00</td>\n",
       "      <td>NaN</td>\n",
       "      <td>NaN</td>\n",
       "      <td>NaN</td>\n",
       "      <td>NaN</td>\n",
       "    </tr>\n",
       "    <tr>\n",
       "      <th>25%</th>\n",
       "      <td>2.013000e+03</td>\n",
       "      <td>2.013000e+03</td>\n",
       "      <td>NaN</td>\n",
       "      <td>1.610000e+01</td>\n",
       "      <td>11.000000</td>\n",
       "      <td>16.300000</td>\n",
       "      <td>NaN</td>\n",
       "      <td>NaN</td>\n",
       "      <td>NaN</td>\n",
       "      <td>NaN</td>\n",
       "      <td>NaN</td>\n",
       "      <td>1.700000e+01</td>\n",
       "      <td>NaN</td>\n",
       "      <td>NaN</td>\n",
       "      <td>NaN</td>\n",
       "      <td>NaN</td>\n",
       "    </tr>\n",
       "    <tr>\n",
       "      <th>50%</th>\n",
       "      <td>2.015000e+03</td>\n",
       "      <td>2.016000e+03</td>\n",
       "      <td>NaN</td>\n",
       "      <td>4.000000e+01</td>\n",
       "      <td>28.500000</td>\n",
       "      <td>41.000000</td>\n",
       "      <td>NaN</td>\n",
       "      <td>NaN</td>\n",
       "      <td>NaN</td>\n",
       "      <td>NaN</td>\n",
       "      <td>NaN</td>\n",
       "      <td>3.000000e+01</td>\n",
       "      <td>NaN</td>\n",
       "      <td>NaN</td>\n",
       "      <td>NaN</td>\n",
       "      <td>NaN</td>\n",
       "    </tr>\n",
       "    <tr>\n",
       "      <th>75%</th>\n",
       "      <td>2.018000e+03</td>\n",
       "      <td>2.018000e+03</td>\n",
       "      <td>NaN</td>\n",
       "      <td>7.600000e+01</td>\n",
       "      <td>56.300000</td>\n",
       "      <td>71.100000</td>\n",
       "      <td>NaN</td>\n",
       "      <td>NaN</td>\n",
       "      <td>NaN</td>\n",
       "      <td>NaN</td>\n",
       "      <td>NaN</td>\n",
       "      <td>4.500000e+01</td>\n",
       "      <td>NaN</td>\n",
       "      <td>NaN</td>\n",
       "      <td>NaN</td>\n",
       "      <td>NaN</td>\n",
       "    </tr>\n",
       "    <tr>\n",
       "      <th>max</th>\n",
       "      <td>2.021000e+03</td>\n",
       "      <td>2.021000e+03</td>\n",
       "      <td>NaN</td>\n",
       "      <td>2.925456e+06</td>\n",
       "      <td>2541.600000</td>\n",
       "      <td>3530.500000</td>\n",
       "      <td>NaN</td>\n",
       "      <td>NaN</td>\n",
       "      <td>NaN</td>\n",
       "      <td>NaN</td>\n",
       "      <td>NaN</td>\n",
       "      <td>7.800000e+01</td>\n",
       "      <td>NaN</td>\n",
       "      <td>NaN</td>\n",
       "      <td>NaN</td>\n",
       "      <td>NaN</td>\n",
       "    </tr>\n",
       "  </tbody>\n",
       "</table>\n",
       "</div>"
      ],
      "text/plain": [
       "          YearStart       YearEnd  Response  DataValueAlt  LowConfidenceLimit  \\\n",
       "count  1.185676e+06  1.185676e+06       0.0  8.045780e+05       682380.000000   \n",
       "mean   2.015103e+03  2.015643e+03       NaN  1.005325e+03           50.264623   \n",
       "std    3.320259e+00  3.001197e+00       NaN  1.880433e+04           89.004848   \n",
       "min    2.001000e+03  2.001000e+03       NaN  0.000000e+00            0.000000   \n",
       "25%    2.013000e+03  2.013000e+03       NaN  1.610000e+01           11.000000   \n",
       "50%    2.015000e+03  2.016000e+03       NaN  4.000000e+01           28.500000   \n",
       "75%    2.018000e+03  2.018000e+03       NaN  7.600000e+01           56.300000   \n",
       "max    2.021000e+03  2.021000e+03       NaN  2.925456e+06         2541.600000   \n",
       "\n",
       "       HighConfidenceLimit  StratificationCategory2  Stratification2  \\\n",
       "count        682380.000000                      0.0              0.0   \n",
       "mean             61.873881                      NaN              NaN   \n",
       "std             100.104303                      NaN              NaN   \n",
       "min               0.000000                      NaN              NaN   \n",
       "25%              16.300000                      NaN              NaN   \n",
       "50%              41.000000                      NaN              NaN   \n",
       "75%              71.100000                      NaN              NaN   \n",
       "max            3530.500000                      NaN              NaN   \n",
       "\n",
       "       StratificationCategory3  Stratification3  ResponseID    LocationID  \\\n",
       "count                      0.0              0.0         0.0  1.185676e+06   \n",
       "mean                       NaN              NaN         NaN  3.078907e+01   \n",
       "std                        NaN              NaN         NaN  1.750972e+01   \n",
       "min                        NaN              NaN         NaN  1.000000e+00   \n",
       "25%                        NaN              NaN         NaN  1.700000e+01   \n",
       "50%                        NaN              NaN         NaN  3.000000e+01   \n",
       "75%                        NaN              NaN         NaN  4.500000e+01   \n",
       "max                        NaN              NaN         NaN  7.800000e+01   \n",
       "\n",
       "       StratificationCategoryID2  StratificationID2  \\\n",
       "count                        0.0                0.0   \n",
       "mean                         NaN                NaN   \n",
       "std                          NaN                NaN   \n",
       "min                          NaN                NaN   \n",
       "25%                          NaN                NaN   \n",
       "50%                          NaN                NaN   \n",
       "75%                          NaN                NaN   \n",
       "max                          NaN                NaN   \n",
       "\n",
       "       StratificationCategoryID3  StratificationID3  \n",
       "count                        0.0                0.0  \n",
       "mean                         NaN                NaN  \n",
       "std                          NaN                NaN  \n",
       "min                          NaN                NaN  \n",
       "25%                          NaN                NaN  \n",
       "50%                          NaN                NaN  \n",
       "75%                          NaN                NaN  \n",
       "max                          NaN                NaN  "
      ]
     },
     "execution_count": 268,
     "metadata": {},
     "output_type": "execute_result"
    }
   ],
   "source": [
    "cdi.describe()"
   ]
  },
  {
   "cell_type": "markdown",
   "id": "a5e51261",
   "metadata": {},
   "source": [
    "# Use case 1\n",
    "- visualization a health outcome of interest and identification of patterns\n",
    "    - Use data longitudinally or by State\n",
    "    - need to give a list of health outcome as selection\n",
    "    - give a list of related behavior/factor as comparison"
   ]
  },
  {
   "cell_type": "code",
   "execution_count": 171,
   "id": "b67cd67c",
   "metadata": {
    "scrolled": true
   },
   "outputs": [
    {
     "data": {
      "text/plain": [
       "array(['RACE', 'GENDER', 'OVERALL'], dtype=object)"
      ]
     },
     "execution_count": 171,
     "metadata": {},
     "output_type": "execute_result"
    }
   ],
   "source": [
    "cdi[\"StratificationCategoryID1\"].unique()"
   ]
  },
  {
   "cell_type": "code",
   "execution_count": 187,
   "id": "bada5fba",
   "metadata": {
    "scrolled": true
   },
   "outputs": [
    {
     "name": "stdout",
     "output_type": "stream",
     "text": [
      "['Number']\n"
     ]
    }
   ],
   "source": [
    "data_analysis = cdi[(cdi[\"Question\"] == \"Life expectancy at birth\") & (cdi[\"StratificationCategoryID1\"] == \"OVERALL\")]\n",
    "print(data_analysis[\"DataValueType\"].unique())\n",
    "\n",
    "#print(data_analysis[\"GeoLocation\"].unique())\n",
    "#state_list\n",
    "\n",
    "v1 = data_analysis.groupby([\"LocationAbbr\",\"YearStart\"])[\"DataValue\"].mean()\n",
    "v1 = pd.DataFrame({\"life_expect\":v1}).reset_index().groupby(\"LocationAbbr\")[\"life_expect\"].mean()"
   ]
  },
  {
   "cell_type": "code",
   "execution_count": 192,
   "id": "66cb89f4",
   "metadata": {
    "scrolled": true
   },
   "outputs": [
    {
     "name": "stdout",
     "output_type": "stream",
     "text": [
      "['Age-adjusted Mean' 'Mean']\n"
     ]
    },
    {
     "name": "stderr",
     "output_type": "stream",
     "text": [
      "/var/folders/yq/x6shc62d4rlg1jm8c0xh38h40000gn/T/ipykernel_88546/565626749.py:7: SettingWithCopyWarning: \n",
      "A value is trying to be set on a copy of a slice from a DataFrame.\n",
      "Try using .loc[row_indexer,col_indexer] = value instead\n",
      "\n",
      "See the caveats in the documentation: https://pandas.pydata.org/pandas-docs/stable/user_guide/indexing.html#returning-a-view-versus-a-copy\n",
      "  data_analysis[\"DataValue\"] = data_analysis[\"DataValue\"].astype(float)\n"
     ]
    }
   ],
   "source": [
    "data_analysis = cdi[(cdi[\"Question\"] == \"Recent mentally unhealthy days among adults aged >= 18 years\") & (cdi[\"StratificationCategoryID1\"] == \"OVERALL\")]\n",
    "print(data_analysis[\"DataValueType\"].unique())\n",
    "\n",
    "#print(data_analysis[\"GeoLocation\"].unique())\n",
    "#state_list\n",
    "\n",
    "data_analysis[\"DataValue\"] = data_analysis[\"DataValue\"].astype(float)\n",
    "v2 = data_analysis.groupby([\"LocationAbbr\",\"YearStart\"])[\"DataValue\"].mean()\n",
    "v2 = pd.DataFrame({\"mental\":v2}).reset_index().groupby(\"LocationAbbr\")[\"mental\"].mean()"
   ]
  },
  {
   "cell_type": "code",
   "execution_count": 198,
   "id": "199c98e8",
   "metadata": {},
   "outputs": [],
   "source": [
    "common_index = list(set(v2.index).intersection(v1.index))"
   ]
  },
  {
   "cell_type": "code",
   "execution_count": 199,
   "id": "dc87d9c1",
   "metadata": {
    "scrolled": true
   },
   "outputs": [
    {
     "name": "stderr",
     "output_type": "stream",
     "text": [
      "/var/folders/yq/x6shc62d4rlg1jm8c0xh38h40000gn/T/ipykernel_88546/4253935893.py:1: DeprecationWarning: Please use `spearmanr` from the `scipy.stats` namespace, the `scipy.stats.stats` namespace is deprecated.\n",
      "  sp.stats.spearmanr(v1.loc[common_index],\n"
     ]
    },
    {
     "data": {
      "text/plain": [
       "SignificanceResult(statistic=-0.6032447467385694, pvalue=2.209418120666681e-06)"
      ]
     },
     "execution_count": 199,
     "metadata": {},
     "output_type": "execute_result"
    }
   ],
   "source": [
    "sp.stats.spearmanr(v1.loc[common_index],\n",
    "                   v2.loc[common_index])"
   ]
  },
  {
   "cell_type": "code",
   "execution_count": 231,
   "id": "73eb80eb",
   "metadata": {
    "scrolled": true
   },
   "outputs": [
    {
     "name": "stdout",
     "output_type": "stream",
     "text": [
      "['Age-adjusted Prevalence' 'Crude Prevalence']\n"
     ]
    },
    {
     "name": "stderr",
     "output_type": "stream",
     "text": [
      "/var/folders/yq/x6shc62d4rlg1jm8c0xh38h40000gn/T/ipykernel_88546/3675262117.py:8: SettingWithCopyWarning: \n",
      "A value is trying to be set on a copy of a slice from a DataFrame.\n",
      "Try using .loc[row_indexer,col_indexer] = value instead\n",
      "\n",
      "See the caveats in the documentation: https://pandas.pydata.org/pandas-docs/stable/user_guide/indexing.html#returning-a-view-versus-a-copy\n",
      "  data_analysis[\"DataValue\"] = data_analysis[\"DataValue\"].astype(float)\n"
     ]
    }
   ],
   "source": [
    "q = 'No tooth loss among adults aged 18-64 years'\n",
    "data_analysis = cdi[(cdi[\"Question\"] == q) & (cdi[\"StratificationCategoryID1\"] == \"OVERALL\")]\n",
    "print(data_analysis[\"DataValueType\"].unique())\n",
    "\n",
    "#print(data_analysis[\"GeoLocation\"].unique())\n",
    "#state_list\n",
    "\n",
    "data_analysis[\"DataValue\"] = data_analysis[\"DataValue\"].astype(float)\n",
    "v2 = data_analysis.groupby([\"LocationAbbr\",\"YearStart\"])[\"DataValue\"].mean()\n",
    "v2 = pd.DataFrame({\"vege\":v2}).reset_index().groupby(\"LocationAbbr\")[\"vege\"].mean()"
   ]
  },
  {
   "cell_type": "code",
   "execution_count": 260,
   "id": "124994c7",
   "metadata": {
    "scrolled": true
   },
   "outputs": [],
   "source": [
    "common_index = list(set(v2.index).intersection(v1.index))\n",
    "dfplot = pd.DataFrame({v1.name:v1.loc[common_index],\n",
    "              v2.name:v2.loc[common_index]}).reset_index()"
   ]
  },
  {
   "cell_type": "code",
   "execution_count": 266,
   "id": "8cdbef22",
   "metadata": {},
   "outputs": [
    {
     "data": {
      "text/html": [
       "\n",
       "<style>\n",
       "  #altair-viz-3144791cb3944b0694d5d8976f072d05.vega-embed {\n",
       "    width: 100%;\n",
       "    display: flex;\n",
       "  }\n",
       "\n",
       "  #altair-viz-3144791cb3944b0694d5d8976f072d05.vega-embed details,\n",
       "  #altair-viz-3144791cb3944b0694d5d8976f072d05.vega-embed details summary {\n",
       "    position: relative;\n",
       "  }\n",
       "</style>\n",
       "<div id=\"altair-viz-3144791cb3944b0694d5d8976f072d05\"></div>\n",
       "<script type=\"text/javascript\">\n",
       "  var VEGA_DEBUG = (typeof VEGA_DEBUG == \"undefined\") ? {} : VEGA_DEBUG;\n",
       "  (function(spec, embedOpt){\n",
       "    let outputDiv = document.currentScript.previousElementSibling;\n",
       "    if (outputDiv.id !== \"altair-viz-3144791cb3944b0694d5d8976f072d05\") {\n",
       "      outputDiv = document.getElementById(\"altair-viz-3144791cb3944b0694d5d8976f072d05\");\n",
       "    }\n",
       "    const paths = {\n",
       "      \"vega\": \"https://cdn.jsdelivr.net/npm/vega@5?noext\",\n",
       "      \"vega-lib\": \"https://cdn.jsdelivr.net/npm/vega-lib?noext\",\n",
       "      \"vega-lite\": \"https://cdn.jsdelivr.net/npm/vega-lite@5.15.1?noext\",\n",
       "      \"vega-embed\": \"https://cdn.jsdelivr.net/npm/vega-embed@6?noext\",\n",
       "    };\n",
       "\n",
       "    function maybeLoadScript(lib, version) {\n",
       "      var key = `${lib.replace(\"-\", \"\")}_version`;\n",
       "      return (VEGA_DEBUG[key] == version) ?\n",
       "        Promise.resolve(paths[lib]) :\n",
       "        new Promise(function(resolve, reject) {\n",
       "          var s = document.createElement('script');\n",
       "          document.getElementsByTagName(\"head\")[0].appendChild(s);\n",
       "          s.async = true;\n",
       "          s.onload = () => {\n",
       "            VEGA_DEBUG[key] = version;\n",
       "            return resolve(paths[lib]);\n",
       "          };\n",
       "          s.onerror = () => reject(`Error loading script: ${paths[lib]}`);\n",
       "          s.src = paths[lib];\n",
       "        });\n",
       "    }\n",
       "\n",
       "    function showError(err) {\n",
       "      outputDiv.innerHTML = `<div class=\"error\" style=\"color:red;\">${err}</div>`;\n",
       "      throw err;\n",
       "    }\n",
       "\n",
       "    function displayChart(vegaEmbed) {\n",
       "      vegaEmbed(outputDiv, spec, embedOpt)\n",
       "        .catch(err => showError(`Javascript Error: ${err.message}<br>This usually means there's a typo in your chart specification. See the javascript console for the full traceback.`));\n",
       "    }\n",
       "\n",
       "    if(typeof define === \"function\" && define.amd) {\n",
       "      requirejs.config({paths});\n",
       "      require([\"vega-embed\"], displayChart, err => showError(`Error loading script: ${err.message}`));\n",
       "    } else {\n",
       "      maybeLoadScript(\"vega\", \"5\")\n",
       "        .then(() => maybeLoadScript(\"vega-lite\", \"5.15.1\"))\n",
       "        .then(() => maybeLoadScript(\"vega-embed\", \"6\"))\n",
       "        .catch(showError)\n",
       "        .then(() => displayChart(vegaEmbed));\n",
       "    }\n",
       "  })({\"config\": {\"view\": {\"continuousWidth\": 300, \"continuousHeight\": 300}}, \"data\": {\"name\": \"data-bfd6949e049f518efddf0d4da59c4c32\"}, \"mark\": {\"type\": \"circle\"}, \"encoding\": {\"tooltip\": [{\"field\": \"LocationAbbr\", \"type\": \"nominal\"}, {\"field\": \"life_expect\", \"type\": \"quantitative\"}], \"x\": {\"field\": \"vege\", \"scale\": {\"zero\": false}, \"type\": \"quantitative\"}, \"y\": {\"field\": \"life_expect\", \"scale\": {\"zero\": false}, \"type\": \"quantitative\"}}, \"params\": [{\"name\": \"param_7\", \"select\": {\"type\": \"interval\", \"encodings\": [\"x\", \"y\"]}, \"bind\": \"scales\"}], \"$schema\": \"https://vega.github.io/schema/vega-lite/v5.15.1.json\", \"datasets\": {\"data-bfd6949e049f518efddf0d4da59c4c32\": [{\"LocationAbbr\": \"FL\", \"life_expect\": 78.58, \"vege\": 59.980000000000004}, {\"LocationAbbr\": \"OR\", \"life_expect\": 79.14, \"vege\": 66.74}, {\"LocationAbbr\": \"PA\", \"life_expect\": 77.74, \"vege\": 62.24000000000001}, {\"LocationAbbr\": \"WA\", \"life_expect\": 79.53999999999999, \"vege\": 69.13}, {\"LocationAbbr\": \"VT\", \"life_expect\": 79.32000000000001, \"vege\": 67.35999999999999}, {\"LocationAbbr\": \"NC\", \"life_expect\": 77.08, \"vege\": 60.67}, {\"LocationAbbr\": \"WI\", \"life_expect\": 78.97999999999999, \"vege\": 69.89}, {\"LocationAbbr\": \"MD\", \"life_expect\": 77.8, \"vege\": 65.22}, {\"LocationAbbr\": \"OK\", \"life_expect\": 75.38, \"vege\": 59.8}, {\"LocationAbbr\": \"TX\", \"life_expect\": 77.8, \"vege\": 64.71000000000001}, {\"LocationAbbr\": \"MA\", \"life_expect\": 79.76, \"vege\": 65.89}, {\"LocationAbbr\": \"AL\", \"life_expect\": 74.74, \"vege\": 55.9}, {\"LocationAbbr\": \"KS\", \"life_expect\": 77.82000000000001, \"vege\": 66.63}, {\"LocationAbbr\": \"WY\", \"life_expect\": 77.4, \"vege\": 64.9}, {\"LocationAbbr\": \"MS\", \"life_expect\": 73.96, \"vege\": 51.089999999999996}, {\"LocationAbbr\": \"KY\", \"life_expect\": 75.1, \"vege\": 57.529999999999994}, {\"LocationAbbr\": \"DE\", \"life_expect\": 77.6, \"vege\": 63.989999999999995}, {\"LocationAbbr\": \"NH\", \"life_expect\": 79.32000000000001, \"vege\": 66.16}, {\"LocationAbbr\": \"MN\", \"life_expect\": 80.08, \"vege\": 71.88}, {\"LocationAbbr\": \"SD\", \"life_expect\": 78.36, \"vege\": 65.97}, {\"LocationAbbr\": \"ME\", \"life_expect\": 78.28, \"vege\": 60.64}, {\"LocationAbbr\": \"UT\", \"life_expect\": 79.4, \"vege\": 70.69}, {\"LocationAbbr\": \"MI\", \"life_expect\": 77.36, \"vege\": 64.69}, {\"LocationAbbr\": \"NJ\", \"life_expect\": 79.05999999999999, \"vege\": 63.79}, {\"LocationAbbr\": \"AR\", \"life_expect\": 75.3, \"vege\": 55.31999999999999}, {\"LocationAbbr\": \"DC\", \"life_expect\": 76.12, \"vege\": 70.12}, {\"LocationAbbr\": \"VA\", \"life_expect\": 78.34, \"vege\": 66.48}, {\"LocationAbbr\": \"HI\", \"life_expect\": 80.82, \"vege\": 65.09}, {\"LocationAbbr\": \"US\", \"life_expect\": 78.14, \"vege\": 64.78}, {\"LocationAbbr\": \"SC\", \"life_expect\": 76.02000000000001, \"vege\": 59.660000000000004}, {\"LocationAbbr\": \"MO\", \"life_expect\": 76.52000000000001, \"vege\": 61.089999999999996}, {\"LocationAbbr\": \"NE\", \"life_expect\": 78.84, \"vege\": 69.36}, {\"LocationAbbr\": \"CT\", \"life_expect\": 79.75999999999999, \"vege\": 67.91}, {\"LocationAbbr\": \"ND\", \"life_expect\": 78.72, \"vege\": 67.42}, {\"LocationAbbr\": \"GA\", \"life_expect\": 76.54, \"vege\": 61.8}, {\"LocationAbbr\": \"NY\", \"life_expect\": 79.52, \"vege\": 61.14000000000001}, {\"LocationAbbr\": \"IN\", \"life_expect\": 76.58, \"vege\": 60.81}, {\"LocationAbbr\": \"IL\", \"life_expect\": 78.14, \"vege\": 66.11}, {\"LocationAbbr\": \"CA\", \"life_expect\": 80.05999999999999, \"vege\": 65.81}, {\"LocationAbbr\": \"AZ\", \"life_expect\": 78.32000000000001, \"vege\": 64.25}, {\"LocationAbbr\": \"WV\", \"life_expect\": 74.48, \"vege\": 50.019999999999996}, {\"LocationAbbr\": \"CO\", \"life_expect\": 79.4, \"vege\": 69.67}, {\"LocationAbbr\": \"AK\", \"life_expect\": 77.43999999999998, \"vege\": 64.83}, {\"LocationAbbr\": \"RI\", \"life_expect\": 79.22, \"vege\": 65.98}, {\"LocationAbbr\": \"ID\", \"life_expect\": 78.94000000000001, \"vege\": 66.58}, {\"LocationAbbr\": \"OH\", \"life_expect\": 76.66, \"vege\": 62.96}, {\"LocationAbbr\": \"TN\", \"life_expect\": 75.3, \"vege\": 58.83}, {\"LocationAbbr\": \"IA\", \"life_expect\": 78.84, \"vege\": 68.84}, {\"LocationAbbr\": \"NM\", \"life_expect\": 76.85999999999999, \"vege\": 62.620000000000005}, {\"LocationAbbr\": \"LA\", \"life_expect\": 74.88, \"vege\": 56.760000000000005}, {\"LocationAbbr\": \"NV\", \"life_expect\": 77.28, \"vege\": 61.02}, {\"LocationAbbr\": \"MT\", \"life_expect\": 78.02, \"vege\": 65.4}]}}, {\"mode\": \"vega-lite\"});\n",
       "</script>"
      ],
      "text/plain": [
       "alt.Chart(...)"
      ]
     },
     "execution_count": 266,
     "metadata": {},
     "output_type": "execute_result"
    }
   ],
   "source": [
    "alt.Chart(dfplot).mark_circle().encode(\n",
    "    alt.X(\"vege:Q\",scale=alt.Scale(zero=False)),\n",
    "    alt.Y(\"life_expect:Q\",scale=alt.Scale(zero=False)),\n",
    "    #color='Origin',\n",
    "    tooltip=['LocationAbbr','life_expect']\n",
    ").interactive()"
   ]
  },
  {
   "cell_type": "code",
   "execution_count": 230,
   "id": "22d6fc94",
   "metadata": {
    "scrolled": true
   },
   "outputs": [
    {
     "data": {
      "text/plain": [
       "array(['Six or more teeth lost among adults aged >= 65 years',\n",
       "       'Visits to dentist or dental clinic among adults aged >= 18 years',\n",
       "       'All teeth lost among adults aged >= 65 years',\n",
       "       'No tooth loss among adults aged 18-64 years',\n",
       "       'Preventive dental care before pregnancy',\n",
       "       'Oral health services at Federally Qualified Health Centers',\n",
       "       'Population served by community water systems that receive fluoridated drinking water',\n",
       "       'Dental visits among children and adolescents aged 1-17 years',\n",
       "       'Preventive dental visits among children and adolescents aged 1-17 years'],\n",
       "      dtype=object)"
      ]
     },
     "execution_count": 230,
     "metadata": {},
     "output_type": "execute_result"
    }
   ],
   "source": [
    "cdi[cdi[\"Topic\"] == \"Oral Health\"][\"Question\"].unique()"
   ]
  },
  {
   "cell_type": "markdown",
   "id": "9c965d41",
   "metadata": {},
   "source": [
    "# Visualization tool code"
   ]
  },
  {
   "cell_type": "code",
   "execution_count": 237,
   "id": "43ab60d6",
   "metadata": {
    "scrolled": false
   },
   "outputs": [
    {
     "data": {
      "text/plain": [
       "array(['Number', 'Crude Prevalence', 'Age-adjusted Rate', 'Crude Rate',\n",
       "       'Average Annual Number', 'Average Annual Crude Rate',\n",
       "       'Average Annual Age-adjusted Rate',\n",
       "       'Adjusted by age, sex, race and ethnicity',\n",
       "       'Age-adjusted Prevalence', 'Mean', 'Age-adjusted Mean', 'Median',\n",
       "       'Percent',\n",
       "       'Local control of the regulation of alcohol outlet density',\n",
       "       'US Dollars',\n",
       "       'Commercial host (dram shop) liability status for alcohol service',\n",
       "       'Per capita alcohol consumption', 'Prevalence', 'Yes/No'],\n",
       "      dtype=object)"
      ]
     },
     "execution_count": 237,
     "metadata": {},
     "output_type": "execute_result"
    }
   ],
   "source": [
    "cdi[\"DataValueType\"].unique()"
   ]
  },
  {
   "cell_type": "code",
   "execution_count": 234,
   "id": "9e2b697a",
   "metadata": {
    "scrolled": true
   },
   "outputs": [
    {
     "data": {
      "text/html": [
       "<div>\n",
       "<style scoped>\n",
       "    .dataframe tbody tr th:only-of-type {\n",
       "        vertical-align: middle;\n",
       "    }\n",
       "\n",
       "    .dataframe tbody tr th {\n",
       "        vertical-align: top;\n",
       "    }\n",
       "\n",
       "    .dataframe thead th {\n",
       "        text-align: right;\n",
       "    }\n",
       "</style>\n",
       "<table border=\"1\" class=\"dataframe\">\n",
       "  <thead>\n",
       "    <tr style=\"text-align: right;\">\n",
       "      <th></th>\n",
       "      <th>StratificationCategoryID1</th>\n",
       "      <th>StratificationID1</th>\n",
       "      <th>StratificationCategoryID2</th>\n",
       "      <th>StratificationID2</th>\n",
       "      <th>StratificationCategoryID3</th>\n",
       "      <th>StratificationID3</th>\n",
       "    </tr>\n",
       "  </thead>\n",
       "  <tbody>\n",
       "    <tr>\n",
       "      <th>0</th>\n",
       "      <td>RACE</td>\n",
       "      <td>AIAN</td>\n",
       "      <td>NaN</td>\n",
       "      <td>NaN</td>\n",
       "      <td>NaN</td>\n",
       "      <td>NaN</td>\n",
       "    </tr>\n",
       "    <tr>\n",
       "      <th>1</th>\n",
       "      <td>GENDER</td>\n",
       "      <td>GENF</td>\n",
       "      <td>NaN</td>\n",
       "      <td>NaN</td>\n",
       "      <td>NaN</td>\n",
       "      <td>NaN</td>\n",
       "    </tr>\n",
       "    <tr>\n",
       "      <th>2</th>\n",
       "      <td>GENDER</td>\n",
       "      <td>GENM</td>\n",
       "      <td>NaN</td>\n",
       "      <td>NaN</td>\n",
       "      <td>NaN</td>\n",
       "      <td>NaN</td>\n",
       "    </tr>\n",
       "    <tr>\n",
       "      <th>3</th>\n",
       "      <td>RACE</td>\n",
       "      <td>ASN</td>\n",
       "      <td>NaN</td>\n",
       "      <td>NaN</td>\n",
       "      <td>NaN</td>\n",
       "      <td>NaN</td>\n",
       "    </tr>\n",
       "    <tr>\n",
       "      <th>5</th>\n",
       "      <td>RACE</td>\n",
       "      <td>WHT</td>\n",
       "      <td>NaN</td>\n",
       "      <td>NaN</td>\n",
       "      <td>NaN</td>\n",
       "      <td>NaN</td>\n",
       "    </tr>\n",
       "    <tr>\n",
       "      <th>6</th>\n",
       "      <td>OVERALL</td>\n",
       "      <td>OVR</td>\n",
       "      <td>NaN</td>\n",
       "      <td>NaN</td>\n",
       "      <td>NaN</td>\n",
       "      <td>NaN</td>\n",
       "    </tr>\n",
       "    <tr>\n",
       "      <th>10</th>\n",
       "      <td>RACE</td>\n",
       "      <td>HIS</td>\n",
       "      <td>NaN</td>\n",
       "      <td>NaN</td>\n",
       "      <td>NaN</td>\n",
       "      <td>NaN</td>\n",
       "    </tr>\n",
       "    <tr>\n",
       "      <th>20</th>\n",
       "      <td>RACE</td>\n",
       "      <td>BLK</td>\n",
       "      <td>NaN</td>\n",
       "      <td>NaN</td>\n",
       "      <td>NaN</td>\n",
       "      <td>NaN</td>\n",
       "    </tr>\n",
       "    <tr>\n",
       "      <th>96</th>\n",
       "      <td>RACE</td>\n",
       "      <td>API</td>\n",
       "      <td>NaN</td>\n",
       "      <td>NaN</td>\n",
       "      <td>NaN</td>\n",
       "      <td>NaN</td>\n",
       "    </tr>\n",
       "    <tr>\n",
       "      <th>274</th>\n",
       "      <td>RACE</td>\n",
       "      <td>APIO</td>\n",
       "      <td>NaN</td>\n",
       "      <td>NaN</td>\n",
       "      <td>NaN</td>\n",
       "      <td>NaN</td>\n",
       "    </tr>\n",
       "    <tr>\n",
       "      <th>397</th>\n",
       "      <td>RACE</td>\n",
       "      <td>AIAO</td>\n",
       "      <td>NaN</td>\n",
       "      <td>NaN</td>\n",
       "      <td>NaN</td>\n",
       "      <td>NaN</td>\n",
       "    </tr>\n",
       "    <tr>\n",
       "      <th>1293</th>\n",
       "      <td>RACE</td>\n",
       "      <td>MRC</td>\n",
       "      <td>NaN</td>\n",
       "      <td>NaN</td>\n",
       "      <td>NaN</td>\n",
       "      <td>NaN</td>\n",
       "    </tr>\n",
       "    <tr>\n",
       "      <th>1362</th>\n",
       "      <td>RACE</td>\n",
       "      <td>OTH</td>\n",
       "      <td>NaN</td>\n",
       "      <td>NaN</td>\n",
       "      <td>NaN</td>\n",
       "      <td>NaN</td>\n",
       "    </tr>\n",
       "  </tbody>\n",
       "</table>\n",
       "</div>"
      ],
      "text/plain": [
       "     StratificationCategoryID1 StratificationID1  StratificationCategoryID2  \\\n",
       "0                         RACE              AIAN                        NaN   \n",
       "1                       GENDER              GENF                        NaN   \n",
       "2                       GENDER              GENM                        NaN   \n",
       "3                         RACE               ASN                        NaN   \n",
       "5                         RACE               WHT                        NaN   \n",
       "6                      OVERALL               OVR                        NaN   \n",
       "10                        RACE               HIS                        NaN   \n",
       "20                        RACE               BLK                        NaN   \n",
       "96                        RACE               API                        NaN   \n",
       "274                       RACE              APIO                        NaN   \n",
       "397                       RACE              AIAO                        NaN   \n",
       "1293                      RACE               MRC                        NaN   \n",
       "1362                      RACE               OTH                        NaN   \n",
       "\n",
       "      StratificationID2  StratificationCategoryID3  StratificationID3  \n",
       "0                   NaN                        NaN                NaN  \n",
       "1                   NaN                        NaN                NaN  \n",
       "2                   NaN                        NaN                NaN  \n",
       "3                   NaN                        NaN                NaN  \n",
       "5                   NaN                        NaN                NaN  \n",
       "6                   NaN                        NaN                NaN  \n",
       "10                  NaN                        NaN                NaN  \n",
       "20                  NaN                        NaN                NaN  \n",
       "96                  NaN                        NaN                NaN  \n",
       "274                 NaN                        NaN                NaN  \n",
       "397                 NaN                        NaN                NaN  \n",
       "1293                NaN                        NaN                NaN  \n",
       "1362                NaN                        NaN                NaN  "
      ]
     },
     "execution_count": 234,
     "metadata": {},
     "output_type": "execute_result"
    }
   ],
   "source": [
    "cdi[['StratificationCategoryID1',\n",
    " 'StratificationID1',\n",
    " 'StratificationCategoryID2',\n",
    " 'StratificationID2',\n",
    " 'StratificationCategoryID3',\n",
    " 'StratificationID3']].drop_duplicates()"
   ]
  },
  {
   "cell_type": "markdown",
   "id": "bd62c600",
   "metadata": {},
   "source": [
    "# Use case 2\n",
    "\n",
    "- Investigating a local/ an area of interest about health condition change and personal behavior factor chnage (longitudinal)\n",
    "    - need to give a list of health outcome as selection\n",
    "    - give a list of related behavior/factor as comparison"
   ]
  },
  {
   "cell_type": "code",
   "execution_count": 362,
   "id": "7af946b5",
   "metadata": {},
   "outputs": [],
   "source": [
    "def plot_longitudinal_change(variable = \"Mortality from coronary heart disease\", \n",
    "                             location = \"New York\",\n",
    "                             stratification = \"Overall\"):\n",
    "    \n",
    "    dfplot = cdi[(cdi[\"LocationDesc\"] == location) & (cdi[\"Question\"] == variable)]\n",
    "    tmp = dfplot[dfplot[\"StratificationCategory1\"] == stratification]\n",
    "\n",
    "    domain = list(tmp[\"Stratification1\"].unique())\n",
    "    colors = alt.Scale(\n",
    "      domain= domain,\n",
    "      #range=['#aec7e8', '#c7c7c7', '#1f77b4', '#9467bd', '#e7ba52'][:len(domain)]\n",
    "    )\n",
    "\n",
    "    line = alt.Chart().mark_line().encode(\n",
    "        alt.X(\"YearStart:O\",),\n",
    "        alt.Y(\"DataValue:Q\",scale=alt.Scale(zero=False)),\n",
    "        alt.Color('Stratification1:N', scale=colors),\n",
    "        tooltip=[\"YearStart\",\"DataValue\",'Stratification1']\n",
    "    )\n",
    "\n",
    "    points = alt.Chart().mark_point().encode(\n",
    "        alt.X(\"YearStart:O\",),\n",
    "        alt.Y(\"DataValue:Q\",scale=alt.Scale(zero=False)),\n",
    "        alt.Color('Stratification1:N', scale=colors),\n",
    "        tooltip=[\"YearStart\",\"DataValue\",'Stratification1'])\n",
    "    # ).resolve_scale(\n",
    "    #     x='independent',\n",
    "    #     y='independent'\n",
    "    # )#.interactive()\n",
    "\n",
    "    cis = alt.Chart().mark_line().encode(\n",
    "        alt.X(\"YearStart:O\",),\n",
    "        alt.Y(\"LowConfidenceLimit:Q\",scale=alt.Scale(zero=False)),\n",
    "        alt.Y2(\"HighConfidenceLimit:Q\"),\n",
    "        alt.Color('Stratification1:N', scale=colors),\n",
    "        tooltip=[\"YearStart\",\"DataValue\",'Stratification1'])\n",
    "    # ).resolve_scale(\n",
    "    #     x='independent',\n",
    "    #     y='independent'\n",
    "    # )#.interactive()\n",
    "\n",
    "    return alt.layer(points, cis, line).facet(\n",
    "      data=tmp,\n",
    "      column='DataValueType:N'\n",
    "    ).resolve_scale(\n",
    "        x='independent',\n",
    "        y='independent')"
   ]
  },
  {
   "cell_type": "code",
   "execution_count": 368,
   "id": "b83ae3f7",
   "metadata": {
    "scrolled": true
   },
   "outputs": [
    {
     "data": {
      "text/plain": [
       "Question\n",
       "Invasive cancer of the oral cavity or pharynx, incidence                                9984\n",
       "Invasive cancer of the cervix, incidence                                                9984\n",
       "Invasive melanoma, incidence                                                            9984\n",
       "Cancer of the lung and bronchus, mortality                                              9984\n",
       "Cancer of the lung and bronchus, incidence                                              9984\n",
       "Cancer of the colon and rectum (colorectal), mortality                                  9984\n",
       "Cancer of the colon and rectum (colorectal), incidence                                  9984\n",
       "Cancer of the oral cavity and pharynx, mortality                                        9984\n",
       "Cancer of the female cervix, mortality                                                  9984\n",
       "Cancer of the female breast, mortality                                                  9984\n",
       "Melanoma, mortality                                                                     9984\n",
       "Invasive cancer of the female breast, incidence                                         9984\n",
       "Invasive cancer (all sites combined), mortality                                         9984\n",
       "Invasive cancer (all sites combined), incidence                                         9984\n",
       "Cancer of the prostate, mortality                                                       9984\n",
       "Invasive cancer of the prostate, incidence                                              9984\n",
       "Fecal occult blood test, sigmoidoscopy, or colonoscopy among adults aged 50-75 years    5220\n",
       "Mammography use among women aged 50-74 years                                            4550\n",
       "Papanicolaou smear use among adult women aged 21-65 years                               4550\n",
       "Recent Papanicolaou smear use among women aged 21-44 years                              2275\n",
       "Name: count, dtype: int64"
      ]
     },
     "execution_count": 368,
     "metadata": {},
     "output_type": "execute_result"
    }
   ],
   "source": [
    "cdi[cdi[\"Topic\"] == \"Cancer\"][\"Question\"].value_counts()"
   ]
  },
  {
   "cell_type": "code",
   "execution_count": 372,
   "id": "1619b629",
   "metadata": {
    "scrolled": true
   },
   "outputs": [
    {
     "data": {
      "text/plain": [
       "LocationDesc\n",
       "Wisconsin               22556\n",
       "New York                22556\n",
       "New Jersey              22550\n",
       "Nebraska                22518\n",
       "Iowa                    22510\n",
       "Vermont                 22490\n",
       "Washington              22457\n",
       "New Mexico              22457\n",
       "Michigan                22422\n",
       "Hawaii                  22420\n",
       "Colorado                22417\n",
       "West Virginia           22407\n",
       "Arkansas                22384\n",
       "Kentucky                22375\n",
       "Utah                    22352\n",
       "Oregon                  22352\n",
       "Massachusetts           22349\n",
       "North Carolina          22346\n",
       "Maryland                22346\n",
       "Florida                 22311\n",
       "Rhode Island            22273\n",
       "Arizona                 22271\n",
       "South Dakota            22264\n",
       "Nevada                  22241\n",
       "South Carolina          22235\n",
       "Missouri                22163\n",
       "Illinois                22157\n",
       "Alaska                  22157\n",
       "Pennsylvania            22157\n",
       "Delaware                22151\n",
       "Maine                   22142\n",
       "Wyoming                 22140\n",
       "New Hampshire           22104\n",
       "Mississippi             22100\n",
       "Oklahoma                22093\n",
       "Connecticut             22082\n",
       "Virginia                22058\n",
       "Alabama                 22058\n",
       "Louisiana               22053\n",
       "Tennessee               22052\n",
       "California              22037\n",
       "Minnesota               22023\n",
       "Kansas                  21988\n",
       "Georgia                 21980\n",
       "Montana                 21973\n",
       "North Dakota            21970\n",
       "Ohio                    21953\n",
       "District of Columbia    21936\n",
       "Texas                   21918\n",
       "Indiana                 21872\n",
       "Idaho                   21842\n",
       "Puerto Rico             14406\n",
       "Virgin Islands          14077\n",
       "Guam                    14009\n",
       "United States           10166\n",
       "Name: count, dtype: int64"
      ]
     },
     "execution_count": 372,
     "metadata": {},
     "output_type": "execute_result"
    }
   ],
   "source": [
    "cdi[\"LocationDesc\"].value_counts()"
   ]
  },
  {
   "cell_type": "code",
   "execution_count": 380,
   "id": "86d95ca3",
   "metadata": {},
   "outputs": [
    {
     "data": {
      "text/html": [
       "\n",
       "<style>\n",
       "  #altair-viz-70ba92656be7431284377a9747a8bf38.vega-embed {\n",
       "    width: 100%;\n",
       "    display: flex;\n",
       "  }\n",
       "\n",
       "  #altair-viz-70ba92656be7431284377a9747a8bf38.vega-embed details,\n",
       "  #altair-viz-70ba92656be7431284377a9747a8bf38.vega-embed details summary {\n",
       "    position: relative;\n",
       "  }\n",
       "</style>\n",
       "<div id=\"altair-viz-70ba92656be7431284377a9747a8bf38\"></div>\n",
       "<script type=\"text/javascript\">\n",
       "  var VEGA_DEBUG = (typeof VEGA_DEBUG == \"undefined\") ? {} : VEGA_DEBUG;\n",
       "  (function(spec, embedOpt){\n",
       "    let outputDiv = document.currentScript.previousElementSibling;\n",
       "    if (outputDiv.id !== \"altair-viz-70ba92656be7431284377a9747a8bf38\") {\n",
       "      outputDiv = document.getElementById(\"altair-viz-70ba92656be7431284377a9747a8bf38\");\n",
       "    }\n",
       "    const paths = {\n",
       "      \"vega\": \"https://cdn.jsdelivr.net/npm/vega@5?noext\",\n",
       "      \"vega-lib\": \"https://cdn.jsdelivr.net/npm/vega-lib?noext\",\n",
       "      \"vega-lite\": \"https://cdn.jsdelivr.net/npm/vega-lite@5.15.1?noext\",\n",
       "      \"vega-embed\": \"https://cdn.jsdelivr.net/npm/vega-embed@6?noext\",\n",
       "    };\n",
       "\n",
       "    function maybeLoadScript(lib, version) {\n",
       "      var key = `${lib.replace(\"-\", \"\")}_version`;\n",
       "      return (VEGA_DEBUG[key] == version) ?\n",
       "        Promise.resolve(paths[lib]) :\n",
       "        new Promise(function(resolve, reject) {\n",
       "          var s = document.createElement('script');\n",
       "          document.getElementsByTagName(\"head\")[0].appendChild(s);\n",
       "          s.async = true;\n",
       "          s.onload = () => {\n",
       "            VEGA_DEBUG[key] = version;\n",
       "            return resolve(paths[lib]);\n",
       "          };\n",
       "          s.onerror = () => reject(`Error loading script: ${paths[lib]}`);\n",
       "          s.src = paths[lib];\n",
       "        });\n",
       "    }\n",
       "\n",
       "    function showError(err) {\n",
       "      outputDiv.innerHTML = `<div class=\"error\" style=\"color:red;\">${err}</div>`;\n",
       "      throw err;\n",
       "    }\n",
       "\n",
       "    function displayChart(vegaEmbed) {\n",
       "      vegaEmbed(outputDiv, spec, embedOpt)\n",
       "        .catch(err => showError(`Javascript Error: ${err.message}<br>This usually means there's a typo in your chart specification. See the javascript console for the full traceback.`));\n",
       "    }\n",
       "\n",
       "    if(typeof define === \"function\" && define.amd) {\n",
       "      requirejs.config({paths});\n",
       "      require([\"vega-embed\"], displayChart, err => showError(`Error loading script: ${err.message}`));\n",
       "    } else {\n",
       "      maybeLoadScript(\"vega\", \"5\")\n",
       "        .then(() => maybeLoadScript(\"vega-lite\", \"5.15.1\"))\n",
       "        .then(() => maybeLoadScript(\"vega-embed\", \"6\"))\n",
       "        .catch(showError)\n",
       "        .then(() => displayChart(vegaEmbed));\n",
       "    }\n",
       "  })({\"config\": {\"view\": {\"continuousWidth\": 300, \"continuousHeight\": 300}}, \"data\": {\"name\": \"data-e462298baefb4fabb4760d68731a9dce\"}, \"facet\": {\"column\": {\"field\": \"DataValueType\", \"type\": \"nominal\"}}, \"spec\": {\"layer\": [{\"mark\": {\"type\": \"point\"}, \"encoding\": {\"color\": {\"field\": \"Stratification1\", \"scale\": {\"domain\": [\"Female\", \"Male\"]}, \"type\": \"nominal\"}, \"tooltip\": [{\"field\": \"YearStart\", \"type\": \"quantitative\"}, {\"field\": \"DataValue\", \"type\": \"nominal\"}, {\"field\": \"Stratification1\", \"type\": \"nominal\"}], \"x\": {\"field\": \"YearStart\", \"type\": \"ordinal\"}, \"y\": {\"field\": \"DataValue\", \"scale\": {\"zero\": false}, \"type\": \"quantitative\"}}}, {\"mark\": {\"type\": \"line\"}, \"encoding\": {\"color\": {\"field\": \"Stratification1\", \"scale\": {\"domain\": [\"Female\", \"Male\"]}, \"type\": \"nominal\"}, \"tooltip\": [{\"field\": \"YearStart\", \"type\": \"quantitative\"}, {\"field\": \"DataValue\", \"type\": \"nominal\"}, {\"field\": \"Stratification1\", \"type\": \"nominal\"}], \"x\": {\"field\": \"YearStart\", \"type\": \"ordinal\"}, \"y\": {\"field\": \"LowConfidenceLimit\", \"scale\": {\"zero\": false}, \"type\": \"quantitative\"}, \"y2\": {\"field\": \"HighConfidenceLimit\"}}}, {\"mark\": {\"type\": \"line\"}, \"encoding\": {\"color\": {\"field\": \"Stratification1\", \"scale\": {\"domain\": [\"Female\", \"Male\"]}, \"type\": \"nominal\"}, \"tooltip\": [{\"field\": \"YearStart\", \"type\": \"quantitative\"}, {\"field\": \"DataValue\", \"type\": \"nominal\"}, {\"field\": \"Stratification1\", \"type\": \"nominal\"}], \"x\": {\"field\": \"YearStart\", \"type\": \"ordinal\"}, \"y\": {\"field\": \"DataValue\", \"scale\": {\"zero\": false}, \"type\": \"quantitative\"}}}]}, \"resolve\": {\"scale\": {\"x\": \"independent\", \"y\": \"independent\"}}, \"$schema\": \"https://vega.github.io/schema/vega-lite/v5.15.1.json\", \"datasets\": {\"data-e462298baefb4fabb4760d68731a9dce\": [{\"YearStart\": 2008, \"YearEnd\": 2012, \"LocationAbbr\": \"US\", \"LocationDesc\": \"United States\", \"DataSource\": \"Statewide central cancer registries\", \"Topic\": \"Cancer\", \"Question\": \"Cancer of the colon and rectum (colorectal), incidence\", \"Response\": null, \"DataValueUnit\": null, \"DataValueType\": \"Average Annual Number\", \"DataValue\": \"68576\", \"DataValueAlt\": 68576.0, \"DataValueFootnoteSymbol\": NaN, \"DatavalueFootnote\": NaN, \"LowConfidenceLimit\": null, \"HighConfidenceLimit\": null, \"StratificationCategory1\": \"Gender\", \"Stratification1\": \"Female\", \"StratificationCategory2\": null, \"Stratification2\": null, \"StratificationCategory3\": null, \"Stratification3\": null, \"GeoLocation\": NaN, \"ResponseID\": null, \"LocationID\": 59, \"TopicID\": \"CAN\", \"QuestionID\": \"CAN7_1\", \"DataValueTypeID\": \"AVGANNNMBR\", \"StratificationCategoryID1\": \"GENDER\", \"StratificationID1\": \"GENF\", \"StratificationCategoryID2\": null, \"StratificationID2\": null, \"StratificationCategoryID3\": null, \"StratificationID3\": null}, {\"YearStart\": 2010, \"YearEnd\": 2014, \"LocationAbbr\": \"US\", \"LocationDesc\": \"United States\", \"DataSource\": \"Statewide central cancer registries\", \"Topic\": \"Cancer\", \"Question\": \"Cancer of the colon and rectum (colorectal), incidence\", \"Response\": null, \"DataValueUnit\": null, \"DataValueType\": \"Average Annual Number\", \"DataValue\": 67249.0, \"DataValueAlt\": 67249.0, \"DataValueFootnoteSymbol\": NaN, \"DatavalueFootnote\": NaN, \"LowConfidenceLimit\": null, \"HighConfidenceLimit\": null, \"StratificationCategory1\": \"Gender\", \"Stratification1\": \"Female\", \"StratificationCategory2\": null, \"Stratification2\": null, \"StratificationCategory3\": null, \"Stratification3\": null, \"GeoLocation\": NaN, \"ResponseID\": null, \"LocationID\": 59, \"TopicID\": \"CAN\", \"QuestionID\": \"CAN7_1\", \"DataValueTypeID\": \"AVGANNNMBR\", \"StratificationCategoryID1\": \"GENDER\", \"StratificationID1\": \"GENF\", \"StratificationCategoryID2\": null, \"StratificationID2\": null, \"StratificationCategoryID3\": null, \"StratificationID3\": null}, {\"YearStart\": 2009, \"YearEnd\": 2013, \"LocationAbbr\": \"US\", \"LocationDesc\": \"United States\", \"DataSource\": \"Statewide central cancer registries\", \"Topic\": \"Cancer\", \"Question\": \"Cancer of the colon and rectum (colorectal), incidence\", \"Response\": null, \"DataValueUnit\": \"per 100,000\", \"DataValueType\": \"Average Annual Crude Rate\", \"DataValue\": 42.7, \"DataValueAlt\": 42.7, \"DataValueFootnoteSymbol\": NaN, \"DatavalueFootnote\": NaN, \"LowConfidenceLimit\": 42.6, \"HighConfidenceLimit\": 42.8, \"StratificationCategory1\": \"Gender\", \"Stratification1\": \"Female\", \"StratificationCategory2\": null, \"Stratification2\": null, \"StratificationCategory3\": null, \"Stratification3\": null, \"GeoLocation\": NaN, \"ResponseID\": null, \"LocationID\": 59, \"TopicID\": \"CAN\", \"QuestionID\": \"CAN7_1\", \"DataValueTypeID\": \"AVGANNCRDRATE\", \"StratificationCategoryID1\": \"GENDER\", \"StratificationID1\": \"GENF\", \"StratificationCategoryID2\": null, \"StratificationID2\": null, \"StratificationCategoryID3\": null, \"StratificationID3\": null}, {\"YearStart\": 2009, \"YearEnd\": 2013, \"LocationAbbr\": \"US\", \"LocationDesc\": \"United States\", \"DataSource\": \"Statewide central cancer registries\", \"Topic\": \"Cancer\", \"Question\": \"Cancer of the colon and rectum (colorectal), incidence\", \"Response\": null, \"DataValueUnit\": \"per 100,000\", \"DataValueType\": \"Average Annual Age-adjusted Rate\", \"DataValue\": 35.9, \"DataValueAlt\": 35.9, \"DataValueFootnoteSymbol\": NaN, \"DatavalueFootnote\": NaN, \"LowConfidenceLimit\": 35.8, \"HighConfidenceLimit\": 36.0, \"StratificationCategory1\": \"Gender\", \"Stratification1\": \"Female\", \"StratificationCategory2\": null, \"Stratification2\": null, \"StratificationCategory3\": null, \"Stratification3\": null, \"GeoLocation\": NaN, \"ResponseID\": null, \"LocationID\": 59, \"TopicID\": \"CAN\", \"QuestionID\": \"CAN7_1\", \"DataValueTypeID\": \"AVGANNAGEADJRATE\", \"StratificationCategoryID1\": \"GENDER\", \"StratificationID1\": \"GENF\", \"StratificationCategoryID2\": null, \"StratificationID2\": null, \"StratificationCategoryID3\": null, \"StratificationID3\": null}, {\"YearStart\": 2011, \"YearEnd\": 2015, \"LocationAbbr\": \"US\", \"LocationDesc\": \"United States\", \"DataSource\": \"Statewide central cancer registries\", \"Topic\": \"Cancer\", \"Question\": \"Cancer of the colon and rectum (colorectal), incidence\", \"Response\": null, \"DataValueUnit\": \"per 100,000\", \"DataValueType\": \"Average Annual Crude Rate\", \"DataValue\": 47.6, \"DataValueAlt\": 47.6, \"DataValueFootnoteSymbol\": NaN, \"DatavalueFootnote\": NaN, \"LowConfidenceLimit\": 47.4, \"HighConfidenceLimit\": 47.7, \"StratificationCategory1\": \"Gender\", \"Stratification1\": \"Male\", \"StratificationCategory2\": null, \"Stratification2\": null, \"StratificationCategory3\": null, \"Stratification3\": null, \"GeoLocation\": NaN, \"ResponseID\": null, \"LocationID\": 59, \"TopicID\": \"CAN\", \"QuestionID\": \"CAN7_1\", \"DataValueTypeID\": \"AVGANNCRDRATE\", \"StratificationCategoryID1\": \"GENDER\", \"StratificationID1\": \"GENM\", \"StratificationCategoryID2\": null, \"StratificationID2\": null, \"StratificationCategoryID3\": null, \"StratificationID3\": null}, {\"YearStart\": 2013, \"YearEnd\": 2017, \"LocationAbbr\": \"US\", \"LocationDesc\": \"United States\", \"DataSource\": \"Statewide central cancer registries\", \"Topic\": \"Cancer\", \"Question\": \"Cancer of the colon and rectum (colorectal), incidence\", \"Response\": null, \"DataValueUnit\": \"per 100,000\", \"DataValueType\": \"Average Annual Age-adjusted Rate\", \"DataValue\": 44.3, \"DataValueAlt\": 44.3, \"DataValueFootnoteSymbol\": NaN, \"DatavalueFootnote\": NaN, \"LowConfidenceLimit\": 44.2, \"HighConfidenceLimit\": 44.5, \"StratificationCategory1\": \"Gender\", \"Stratification1\": \"Male\", \"StratificationCategory2\": null, \"Stratification2\": null, \"StratificationCategory3\": null, \"Stratification3\": null, \"GeoLocation\": NaN, \"ResponseID\": null, \"LocationID\": 59, \"TopicID\": \"CAN\", \"QuestionID\": \"CAN7_1\", \"DataValueTypeID\": \"AVGANNAGEADJRATE\", \"StratificationCategoryID1\": \"GENDER\", \"StratificationID1\": \"GENM\", \"StratificationCategoryID2\": null, \"StratificationID2\": null, \"StratificationCategoryID3\": null, \"StratificationID3\": null}, {\"YearStart\": 2011, \"YearEnd\": 2015, \"LocationAbbr\": \"US\", \"LocationDesc\": \"United States\", \"DataSource\": \"Statewide central cancer registries\", \"Topic\": \"Cancer\", \"Question\": \"Cancer of the colon and rectum (colorectal), incidence\", \"Response\": null, \"DataValueUnit\": \"per 100,000\", \"DataValueType\": \"Average Annual Crude Rate\", \"DataValue\": 41.9, \"DataValueAlt\": 41.9, \"DataValueFootnoteSymbol\": NaN, \"DatavalueFootnote\": NaN, \"LowConfidenceLimit\": 41.8, \"HighConfidenceLimit\": 42.1, \"StratificationCategory1\": \"Gender\", \"Stratification1\": \"Female\", \"StratificationCategory2\": null, \"Stratification2\": null, \"StratificationCategory3\": null, \"Stratification3\": null, \"GeoLocation\": NaN, \"ResponseID\": null, \"LocationID\": 59, \"TopicID\": \"CAN\", \"QuestionID\": \"CAN7_1\", \"DataValueTypeID\": \"AVGANNCRDRATE\", \"StratificationCategoryID1\": \"GENDER\", \"StratificationID1\": \"GENF\", \"StratificationCategoryID2\": null, \"StratificationID2\": null, \"StratificationCategoryID3\": null, \"StratificationID3\": null}, {\"YearStart\": 2013, \"YearEnd\": 2017, \"LocationAbbr\": \"US\", \"LocationDesc\": \"United States\", \"DataSource\": \"Statewide central cancer registries\", \"Topic\": \"Cancer\", \"Question\": \"Cancer of the colon and rectum (colorectal), incidence\", \"Response\": null, \"DataValueUnit\": \"per 100,000\", \"DataValueType\": \"Average Annual Age-adjusted Rate\", \"DataValue\": 33.9, \"DataValueAlt\": 33.9, \"DataValueFootnoteSymbol\": NaN, \"DatavalueFootnote\": NaN, \"LowConfidenceLimit\": 33.8, \"HighConfidenceLimit\": 34.0, \"StratificationCategory1\": \"Gender\", \"Stratification1\": \"Female\", \"StratificationCategory2\": null, \"Stratification2\": null, \"StratificationCategory3\": null, \"Stratification3\": null, \"GeoLocation\": NaN, \"ResponseID\": null, \"LocationID\": 59, \"TopicID\": \"CAN\", \"QuestionID\": \"CAN7_1\", \"DataValueTypeID\": \"AVGANNAGEADJRATE\", \"StratificationCategoryID1\": \"GENDER\", \"StratificationID1\": \"GENF\", \"StratificationCategoryID2\": null, \"StratificationID2\": null, \"StratificationCategoryID3\": null, \"StratificationID3\": null}, {\"YearStart\": 2012, \"YearEnd\": 2016, \"LocationAbbr\": \"US\", \"LocationDesc\": \"United States\", \"DataSource\": \"Statewide central cancer registries\", \"Topic\": \"Cancer\", \"Question\": \"Cancer of the colon and rectum (colorectal), incidence\", \"Response\": null, \"DataValueUnit\": null, \"DataValueType\": \"Average Annual Number\", \"DataValue\": 67697.0, \"DataValueAlt\": 67697.0, \"DataValueFootnoteSymbol\": NaN, \"DatavalueFootnote\": NaN, \"LowConfidenceLimit\": null, \"HighConfidenceLimit\": null, \"StratificationCategory1\": \"Gender\", \"Stratification1\": \"Female\", \"StratificationCategory2\": null, \"Stratification2\": null, \"StratificationCategory3\": null, \"Stratification3\": null, \"GeoLocation\": NaN, \"ResponseID\": null, \"LocationID\": 59, \"TopicID\": \"CAN\", \"QuestionID\": \"CAN7_1\", \"DataValueTypeID\": \"AVGANNNMBR\", \"StratificationCategoryID1\": \"GENDER\", \"StratificationID1\": \"GENF\", \"StratificationCategoryID2\": null, \"StratificationID2\": null, \"StratificationCategoryID3\": null, \"StratificationID3\": null}, {\"YearStart\": 2014, \"YearEnd\": 2018, \"LocationAbbr\": \"US\", \"LocationDesc\": \"United States\", \"DataSource\": \"Statewide central cancer registries\", \"Topic\": \"Cancer\", \"Question\": \"Cancer of the colon and rectum (colorectal), incidence\", \"Response\": null, \"DataValueUnit\": null, \"DataValueType\": \"Average Annual Number\", \"DataValue\": 75811.0, \"DataValueAlt\": 75811.0, \"DataValueFootnoteSymbol\": NaN, \"DatavalueFootnote\": NaN, \"LowConfidenceLimit\": null, \"HighConfidenceLimit\": null, \"StratificationCategory1\": \"Gender\", \"Stratification1\": \"Male\", \"StratificationCategory2\": null, \"Stratification2\": null, \"StratificationCategory3\": null, \"Stratification3\": null, \"GeoLocation\": NaN, \"ResponseID\": null, \"LocationID\": 59, \"TopicID\": \"CAN\", \"QuestionID\": \"CAN7_1\", \"DataValueTypeID\": \"AVGANNNMBR\", \"StratificationCategoryID1\": \"GENDER\", \"StratificationID1\": \"GENM\", \"StratificationCategoryID2\": null, \"StratificationID2\": null, \"StratificationCategoryID3\": null, \"StratificationID3\": null}, {\"YearStart\": 2009, \"YearEnd\": 2013, \"LocationAbbr\": \"US\", \"LocationDesc\": \"United States\", \"DataSource\": \"Statewide central cancer registries\", \"Topic\": \"Cancer\", \"Question\": \"Cancer of the colon and rectum (colorectal), incidence\", \"Response\": null, \"DataValueUnit\": \"per 100,000\", \"DataValueType\": \"Average Annual Age-adjusted Rate\", \"DataValue\": 47.4, \"DataValueAlt\": 47.4, \"DataValueFootnoteSymbol\": NaN, \"DatavalueFootnote\": NaN, \"LowConfidenceLimit\": 47.3, \"HighConfidenceLimit\": 47.6, \"StratificationCategory1\": \"Gender\", \"Stratification1\": \"Male\", \"StratificationCategory2\": null, \"Stratification2\": null, \"StratificationCategory3\": null, \"Stratification3\": null, \"GeoLocation\": NaN, \"ResponseID\": null, \"LocationID\": 59, \"TopicID\": \"CAN\", \"QuestionID\": \"CAN7_1\", \"DataValueTypeID\": \"AVGANNAGEADJRATE\", \"StratificationCategoryID1\": \"GENDER\", \"StratificationID1\": \"GENM\", \"StratificationCategoryID2\": null, \"StratificationID2\": null, \"StratificationCategoryID3\": null, \"StratificationID3\": null}, {\"YearStart\": 2015, \"YearEnd\": 2019, \"LocationAbbr\": \"US\", \"LocationDesc\": \"United States\", \"DataSource\": \"Statewide central cancer registries\", \"Topic\": \"Cancer\", \"Question\": \"Cancer of the colon and rectum (colorectal), incidence\", \"Response\": null, \"DataValueUnit\": null, \"DataValueType\": \"Average Annual Number\", \"DataValue\": 67986.0, \"DataValueAlt\": 67986.0, \"DataValueFootnoteSymbol\": NaN, \"DatavalueFootnote\": NaN, \"LowConfidenceLimit\": null, \"HighConfidenceLimit\": null, \"StratificationCategory1\": \"Gender\", \"Stratification1\": \"Female\", \"StratificationCategory2\": null, \"Stratification2\": null, \"StratificationCategory3\": null, \"Stratification3\": null, \"GeoLocation\": NaN, \"ResponseID\": null, \"LocationID\": 59, \"TopicID\": \"CAN\", \"QuestionID\": \"CAN7_1\", \"DataValueTypeID\": \"AVGANNNMBR\", \"StratificationCategoryID1\": \"GENDER\", \"StratificationID1\": \"GENF\", \"StratificationCategoryID2\": null, \"StratificationID2\": null, \"StratificationCategoryID3\": null, \"StratificationID3\": null}, {\"YearStart\": 2010, \"YearEnd\": 2014, \"LocationAbbr\": \"US\", \"LocationDesc\": \"United States\", \"DataSource\": \"Statewide central cancer registries\", \"Topic\": \"Cancer\", \"Question\": \"Cancer of the colon and rectum (colorectal), incidence\", \"Response\": null, \"DataValueUnit\": null, \"DataValueType\": \"Average Annual Number\", \"DataValue\": 73279.0, \"DataValueAlt\": 73279.0, \"DataValueFootnoteSymbol\": NaN, \"DatavalueFootnote\": NaN, \"LowConfidenceLimit\": null, \"HighConfidenceLimit\": null, \"StratificationCategory1\": \"Gender\", \"Stratification1\": \"Male\", \"StratificationCategory2\": null, \"Stratification2\": null, \"StratificationCategory3\": null, \"Stratification3\": null, \"GeoLocation\": NaN, \"ResponseID\": null, \"LocationID\": 59, \"TopicID\": \"CAN\", \"QuestionID\": \"CAN7_1\", \"DataValueTypeID\": \"AVGANNNMBR\", \"StratificationCategoryID1\": \"GENDER\", \"StratificationID1\": \"GENM\", \"StratificationCategoryID2\": null, \"StratificationID2\": null, \"StratificationCategoryID3\": null, \"StratificationID3\": null}, {\"YearStart\": 2011, \"YearEnd\": 2015, \"LocationAbbr\": \"US\", \"LocationDesc\": \"United States\", \"DataSource\": \"Statewide central cancer registries\", \"Topic\": \"Cancer\", \"Question\": \"Cancer of the colon and rectum (colorectal), incidence\", \"Response\": null, \"DataValueUnit\": null, \"DataValueType\": \"Average Annual Number\", \"DataValue\": 67312.0, \"DataValueAlt\": 67312.0, \"DataValueFootnoteSymbol\": NaN, \"DatavalueFootnote\": NaN, \"LowConfidenceLimit\": null, \"HighConfidenceLimit\": null, \"StratificationCategory1\": \"Gender\", \"Stratification1\": \"Female\", \"StratificationCategory2\": null, \"Stratification2\": null, \"StratificationCategory3\": null, \"Stratification3\": null, \"GeoLocation\": NaN, \"ResponseID\": null, \"LocationID\": 59, \"TopicID\": \"CAN\", \"QuestionID\": \"CAN7_1\", \"DataValueTypeID\": \"AVGANNNMBR\", \"StratificationCategoryID1\": \"GENDER\", \"StratificationID1\": \"GENF\", \"StratificationCategoryID2\": null, \"StratificationID2\": null, \"StratificationCategoryID3\": null, \"StratificationID3\": null}, {\"YearStart\": 2015, \"YearEnd\": 2019, \"LocationAbbr\": \"US\", \"LocationDesc\": \"United States\", \"DataSource\": \"Statewide central cancer registries\", \"Topic\": \"Cancer\", \"Question\": \"Cancer of the colon and rectum (colorectal), incidence\", \"Response\": null, \"DataValueUnit\": \"per 100,000\", \"DataValueType\": \"Average Annual Age-adjusted Rate\", \"DataValue\": 43.0, \"DataValueAlt\": 43.0, \"DataValueFootnoteSymbol\": NaN, \"DatavalueFootnote\": NaN, \"LowConfidenceLimit\": 42.9, \"HighConfidenceLimit\": 43.2, \"StratificationCategory1\": \"Gender\", \"Stratification1\": \"Male\", \"StratificationCategory2\": null, \"Stratification2\": null, \"StratificationCategory3\": null, \"Stratification3\": null, \"GeoLocation\": NaN, \"ResponseID\": null, \"LocationID\": 59, \"TopicID\": \"CAN\", \"QuestionID\": \"CAN7_1\", \"DataValueTypeID\": \"AVGANNAGEADJRATE\", \"StratificationCategoryID1\": \"GENDER\", \"StratificationID1\": \"GENM\", \"StratificationCategoryID2\": null, \"StratificationID2\": null, \"StratificationCategoryID3\": null, \"StratificationID3\": null}, {\"YearStart\": 2009, \"YearEnd\": 2013, \"LocationAbbr\": \"US\", \"LocationDesc\": \"United States\", \"DataSource\": \"Statewide central cancer registries\", \"Topic\": \"Cancer\", \"Question\": \"Cancer of the colon and rectum (colorectal), incidence\", \"Response\": null, \"DataValueUnit\": null, \"DataValueType\": \"Average Annual Number\", \"DataValue\": 67602.0, \"DataValueAlt\": 67602.0, \"DataValueFootnoteSymbol\": NaN, \"DatavalueFootnote\": NaN, \"LowConfidenceLimit\": null, \"HighConfidenceLimit\": null, \"StratificationCategory1\": \"Gender\", \"Stratification1\": \"Female\", \"StratificationCategory2\": null, \"Stratification2\": null, \"StratificationCategory3\": null, \"Stratification3\": null, \"GeoLocation\": NaN, \"ResponseID\": null, \"LocationID\": 59, \"TopicID\": \"CAN\", \"QuestionID\": \"CAN7_1\", \"DataValueTypeID\": \"AVGANNNMBR\", \"StratificationCategoryID1\": \"GENDER\", \"StratificationID1\": \"GENF\", \"StratificationCategoryID2\": null, \"StratificationID2\": null, \"StratificationCategoryID3\": null, \"StratificationID3\": null}, {\"YearStart\": 2011, \"YearEnd\": 2015, \"LocationAbbr\": \"US\", \"LocationDesc\": \"United States\", \"DataSource\": \"Statewide central cancer registries\", \"Topic\": \"Cancer\", \"Question\": \"Cancer of the colon and rectum (colorectal), incidence\", \"Response\": null, \"DataValueUnit\": \"per 100,000\", \"DataValueType\": \"Average Annual Age-adjusted Rate\", \"DataValue\": 45.7, \"DataValueAlt\": 45.7, \"DataValueFootnoteSymbol\": NaN, \"DatavalueFootnote\": NaN, \"LowConfidenceLimit\": 45.5, \"HighConfidenceLimit\": 45.8, \"StratificationCategory1\": \"Gender\", \"Stratification1\": \"Male\", \"StratificationCategory2\": null, \"Stratification2\": null, \"StratificationCategory3\": null, \"Stratification3\": null, \"GeoLocation\": NaN, \"ResponseID\": null, \"LocationID\": 59, \"TopicID\": \"CAN\", \"QuestionID\": \"CAN7_1\", \"DataValueTypeID\": \"AVGANNAGEADJRATE\", \"StratificationCategoryID1\": \"GENDER\", \"StratificationID1\": \"GENM\", \"StratificationCategoryID2\": null, \"StratificationID2\": null, \"StratificationCategoryID3\": null, \"StratificationID3\": null}, {\"YearStart\": 2013, \"YearEnd\": 2017, \"LocationAbbr\": \"US\", \"LocationDesc\": \"United States\", \"DataSource\": \"Statewide central cancer registries\", \"Topic\": \"Cancer\", \"Question\": \"Cancer of the colon and rectum (colorectal), incidence\", \"Response\": null, \"DataValueUnit\": \"per 100,000\", \"DataValueType\": \"Average Annual Crude Rate\", \"DataValue\": 41.8, \"DataValueAlt\": 41.8, \"DataValueFootnoteSymbol\": NaN, \"DatavalueFootnote\": NaN, \"LowConfidenceLimit\": 41.6, \"HighConfidenceLimit\": 41.9, \"StratificationCategory1\": \"Gender\", \"Stratification1\": \"Female\", \"StratificationCategory2\": null, \"Stratification2\": null, \"StratificationCategory3\": null, \"Stratification3\": null, \"GeoLocation\": NaN, \"ResponseID\": null, \"LocationID\": 59, \"TopicID\": \"CAN\", \"QuestionID\": \"CAN7_1\", \"DataValueTypeID\": \"AVGANNCRDRATE\", \"StratificationCategoryID1\": \"GENDER\", \"StratificationID1\": \"GENF\", \"StratificationCategoryID2\": null, \"StratificationID2\": null, \"StratificationCategoryID3\": null, \"StratificationID3\": null}, {\"YearStart\": 2008, \"YearEnd\": 2012, \"LocationAbbr\": \"US\", \"LocationDesc\": \"United States\", \"DataSource\": \"Statewide central cancer registries\", \"Topic\": \"Cancer\", \"Question\": \"Cancer of the colon and rectum (colorectal), incidence\", \"Response\": null, \"DataValueUnit\": \"per 100,000\", \"DataValueType\": \"Average Annual Age-adjusted Rate\", \"DataValue\": 49.0, \"DataValueAlt\": 49.0, \"DataValueFootnoteSymbol\": NaN, \"DatavalueFootnote\": NaN, \"LowConfidenceLimit\": 48.9, \"HighConfidenceLimit\": 49.2, \"StratificationCategory1\": \"Gender\", \"Stratification1\": \"Male\", \"StratificationCategory2\": null, \"Stratification2\": null, \"StratificationCategory3\": null, \"Stratification3\": null, \"GeoLocation\": NaN, \"ResponseID\": null, \"LocationID\": 59, \"TopicID\": \"CAN\", \"QuestionID\": \"CAN7_1\", \"DataValueTypeID\": \"AVGANNAGEADJRATE\", \"StratificationCategoryID1\": \"GENDER\", \"StratificationID1\": \"GENM\", \"StratificationCategoryID2\": null, \"StratificationID2\": null, \"StratificationCategoryID3\": null, \"StratificationID3\": null}, {\"YearStart\": 2012, \"YearEnd\": 2016, \"LocationAbbr\": \"US\", \"LocationDesc\": \"United States\", \"DataSource\": \"Statewide central cancer registries\", \"Topic\": \"Cancer\", \"Question\": \"Cancer of the colon and rectum (colorectal), incidence\", \"Response\": null, \"DataValueUnit\": \"per 100,000\", \"DataValueType\": \"Average Annual Age-adjusted Rate\", \"DataValue\": 44.9, \"DataValueAlt\": 44.9, \"DataValueFootnoteSymbol\": NaN, \"DatavalueFootnote\": NaN, \"LowConfidenceLimit\": 44.8, \"HighConfidenceLimit\": 45.1, \"StratificationCategory1\": \"Gender\", \"Stratification1\": \"Male\", \"StratificationCategory2\": null, \"Stratification2\": null, \"StratificationCategory3\": null, \"Stratification3\": null, \"GeoLocation\": NaN, \"ResponseID\": null, \"LocationID\": 59, \"TopicID\": \"CAN\", \"QuestionID\": \"CAN7_1\", \"DataValueTypeID\": \"AVGANNAGEADJRATE\", \"StratificationCategoryID1\": \"GENDER\", \"StratificationID1\": \"GENM\", \"StratificationCategoryID2\": null, \"StratificationID2\": null, \"StratificationCategoryID3\": null, \"StratificationID3\": null}, {\"YearStart\": 2012, \"YearEnd\": 2016, \"LocationAbbr\": \"US\", \"LocationDesc\": \"United States\", \"DataSource\": \"Statewide central cancer registries\", \"Topic\": \"Cancer\", \"Question\": \"Cancer of the colon and rectum (colorectal), incidence\", \"Response\": null, \"DataValueUnit\": \"per 100,000\", \"DataValueType\": \"Average Annual Crude Rate\", \"DataValue\": 41.9, \"DataValueAlt\": 41.9, \"DataValueFootnoteSymbol\": NaN, \"DatavalueFootnote\": NaN, \"LowConfidenceLimit\": 41.7, \"HighConfidenceLimit\": 42.0, \"StratificationCategory1\": \"Gender\", \"Stratification1\": \"Female\", \"StratificationCategory2\": null, \"Stratification2\": null, \"StratificationCategory3\": null, \"Stratification3\": null, \"GeoLocation\": NaN, \"ResponseID\": null, \"LocationID\": 59, \"TopicID\": \"CAN\", \"QuestionID\": \"CAN7_1\", \"DataValueTypeID\": \"AVGANNCRDRATE\", \"StratificationCategoryID1\": \"GENDER\", \"StratificationID1\": \"GENF\", \"StratificationCategoryID2\": null, \"StratificationID2\": null, \"StratificationCategoryID3\": null, \"StratificationID3\": null}, {\"YearStart\": 2015, \"YearEnd\": 2019, \"LocationAbbr\": \"US\", \"LocationDesc\": \"United States\", \"DataSource\": \"Statewide central cancer registries\", \"Topic\": \"Cancer\", \"Question\": \"Cancer of the colon and rectum (colorectal), incidence\", \"Response\": null, \"DataValueUnit\": \"per 100,000\", \"DataValueType\": \"Average Annual Crude Rate\", \"DataValue\": 47.6, \"DataValueAlt\": 47.6, \"DataValueFootnoteSymbol\": NaN, \"DatavalueFootnote\": NaN, \"LowConfidenceLimit\": 47.5, \"HighConfidenceLimit\": 47.8, \"StratificationCategory1\": \"Gender\", \"Stratification1\": \"Male\", \"StratificationCategory2\": null, \"Stratification2\": null, \"StratificationCategory3\": null, \"Stratification3\": null, \"GeoLocation\": NaN, \"ResponseID\": null, \"LocationID\": 59, \"TopicID\": \"CAN\", \"QuestionID\": \"CAN7_1\", \"DataValueTypeID\": \"AVGANNCRDRATE\", \"StratificationCategoryID1\": \"GENDER\", \"StratificationID1\": \"GENM\", \"StratificationCategoryID2\": null, \"StratificationID2\": null, \"StratificationCategoryID3\": null, \"StratificationID3\": null}, {\"YearStart\": 2008, \"YearEnd\": 2012, \"LocationAbbr\": \"US\", \"LocationDesc\": \"United States\", \"DataSource\": \"Statewide central cancer registries\", \"Topic\": \"Cancer\", \"Question\": \"Cancer of the colon and rectum (colorectal), incidence\", \"Response\": null, \"DataValueUnit\": \"per 100,000\", \"DataValueType\": \"Average Annual Crude Rate\", \"DataValue\": 43.6, \"DataValueAlt\": 43.6, \"DataValueFootnoteSymbol\": NaN, \"DatavalueFootnote\": NaN, \"LowConfidenceLimit\": 43.5, \"HighConfidenceLimit\": 43.8, \"StratificationCategory1\": \"Gender\", \"Stratification1\": \"Female\", \"StratificationCategory2\": null, \"Stratification2\": null, \"StratificationCategory3\": null, \"Stratification3\": null, \"GeoLocation\": NaN, \"ResponseID\": null, \"LocationID\": 59, \"TopicID\": \"CAN\", \"QuestionID\": \"CAN7_1\", \"DataValueTypeID\": \"AVGANNCRDRATE\", \"StratificationCategoryID1\": \"GENDER\", \"StratificationID1\": \"GENF\", \"StratificationCategoryID2\": null, \"StratificationID2\": null, \"StratificationCategoryID3\": null, \"StratificationID3\": null}, {\"YearStart\": 2015, \"YearEnd\": 2019, \"LocationAbbr\": \"US\", \"LocationDesc\": \"United States\", \"DataSource\": \"Statewide central cancer registries\", \"Topic\": \"Cancer\", \"Question\": \"Cancer of the colon and rectum (colorectal), incidence\", \"Response\": null, \"DataValueUnit\": \"per 100,000\", \"DataValueType\": \"Average Annual Crude Rate\", \"DataValue\": 41.4, \"DataValueAlt\": 41.4, \"DataValueFootnoteSymbol\": NaN, \"DatavalueFootnote\": NaN, \"LowConfidenceLimit\": 41.3, \"HighConfidenceLimit\": 41.5, \"StratificationCategory1\": \"Gender\", \"Stratification1\": \"Female\", \"StratificationCategory2\": null, \"Stratification2\": null, \"StratificationCategory3\": null, \"Stratification3\": null, \"GeoLocation\": NaN, \"ResponseID\": null, \"LocationID\": 59, \"TopicID\": \"CAN\", \"QuestionID\": \"CAN7_1\", \"DataValueTypeID\": \"AVGANNCRDRATE\", \"StratificationCategoryID1\": \"GENDER\", \"StratificationID1\": \"GENF\", \"StratificationCategoryID2\": null, \"StratificationID2\": null, \"StratificationCategoryID3\": null, \"StratificationID3\": null}, {\"YearStart\": 2014, \"YearEnd\": 2018, \"LocationAbbr\": \"US\", \"LocationDesc\": \"United States\", \"DataSource\": \"Statewide central cancer registries\", \"Topic\": \"Cancer\", \"Question\": \"Cancer of the colon and rectum (colorectal), incidence\", \"Response\": null, \"DataValueUnit\": null, \"DataValueType\": \"Average Annual Number\", \"DataValue\": 68192.0, \"DataValueAlt\": 68192.0, \"DataValueFootnoteSymbol\": NaN, \"DatavalueFootnote\": NaN, \"LowConfidenceLimit\": null, \"HighConfidenceLimit\": null, \"StratificationCategory1\": \"Gender\", \"Stratification1\": \"Female\", \"StratificationCategory2\": null, \"Stratification2\": null, \"StratificationCategory3\": null, \"Stratification3\": null, \"GeoLocation\": NaN, \"ResponseID\": null, \"LocationID\": 59, \"TopicID\": \"CAN\", \"QuestionID\": \"CAN7_1\", \"DataValueTypeID\": \"AVGANNNMBR\", \"StratificationCategoryID1\": \"GENDER\", \"StratificationID1\": \"GENF\", \"StratificationCategoryID2\": null, \"StratificationID2\": null, \"StratificationCategoryID3\": null, \"StratificationID3\": null}, {\"YearStart\": 2013, \"YearEnd\": 2017, \"LocationAbbr\": \"US\", \"LocationDesc\": \"United States\", \"DataSource\": \"Statewide central cancer registries\", \"Topic\": \"Cancer\", \"Question\": \"Cancer of the colon and rectum (colorectal), incidence\", \"Response\": null, \"DataValueUnit\": null, \"DataValueType\": \"Average Annual Number\", \"DataValue\": 75330.0, \"DataValueAlt\": 75330.0, \"DataValueFootnoteSymbol\": NaN, \"DatavalueFootnote\": NaN, \"LowConfidenceLimit\": null, \"HighConfidenceLimit\": null, \"StratificationCategory1\": \"Gender\", \"Stratification1\": \"Male\", \"StratificationCategory2\": null, \"Stratification2\": null, \"StratificationCategory3\": null, \"Stratification3\": null, \"GeoLocation\": NaN, \"ResponseID\": null, \"LocationID\": 59, \"TopicID\": \"CAN\", \"QuestionID\": \"CAN7_1\", \"DataValueTypeID\": \"AVGANNNMBR\", \"StratificationCategoryID1\": \"GENDER\", \"StratificationID1\": \"GENM\", \"StratificationCategoryID2\": null, \"StratificationID2\": null, \"StratificationCategoryID3\": null, \"StratificationID3\": null}, {\"YearStart\": 2015, \"YearEnd\": 2019, \"LocationAbbr\": \"US\", \"LocationDesc\": \"United States\", \"DataSource\": \"Statewide central cancer registries\", \"Topic\": \"Cancer\", \"Question\": \"Cancer of the colon and rectum (colorectal), incidence\", \"Response\": null, \"DataValueUnit\": \"per 100,000\", \"DataValueType\": \"Average Annual Age-adjusted Rate\", \"DataValue\": 33.0, \"DataValueAlt\": 33.0, \"DataValueFootnoteSymbol\": NaN, \"DatavalueFootnote\": NaN, \"LowConfidenceLimit\": 32.9, \"HighConfidenceLimit\": 33.1, \"StratificationCategory1\": \"Gender\", \"Stratification1\": \"Female\", \"StratificationCategory2\": null, \"Stratification2\": null, \"StratificationCategory3\": null, \"Stratification3\": null, \"GeoLocation\": NaN, \"ResponseID\": null, \"LocationID\": 59, \"TopicID\": \"CAN\", \"QuestionID\": \"CAN7_1\", \"DataValueTypeID\": \"AVGANNAGEADJRATE\", \"StratificationCategoryID1\": \"GENDER\", \"StratificationID1\": \"GENF\", \"StratificationCategoryID2\": null, \"StratificationID2\": null, \"StratificationCategoryID3\": null, \"StratificationID3\": null}, {\"YearStart\": 2008, \"YearEnd\": 2012, \"LocationAbbr\": \"US\", \"LocationDesc\": \"United States\", \"DataSource\": \"Statewide central cancer registries\", \"Topic\": \"Cancer\", \"Question\": \"Cancer of the colon and rectum (colorectal), incidence\", \"Response\": null, \"DataValueUnit\": \"per 100,000\", \"DataValueType\": \"Average Annual Crude Rate\", \"DataValue\": 48.4, \"DataValueAlt\": 48.4, \"DataValueFootnoteSymbol\": NaN, \"DatavalueFootnote\": NaN, \"LowConfidenceLimit\": 48.3, \"HighConfidenceLimit\": 48.6, \"StratificationCategory1\": \"Gender\", \"Stratification1\": \"Male\", \"StratificationCategory2\": null, \"Stratification2\": null, \"StratificationCategory3\": null, \"Stratification3\": null, \"GeoLocation\": NaN, \"ResponseID\": null, \"LocationID\": 59, \"TopicID\": \"CAN\", \"QuestionID\": \"CAN7_1\", \"DataValueTypeID\": \"AVGANNCRDRATE\", \"StratificationCategoryID1\": \"GENDER\", \"StratificationID1\": \"GENM\", \"StratificationCategoryID2\": null, \"StratificationID2\": null, \"StratificationCategoryID3\": null, \"StratificationID3\": null}, {\"YearStart\": 2008, \"YearEnd\": 2012, \"LocationAbbr\": \"US\", \"LocationDesc\": \"United States\", \"DataSource\": \"Statewide central cancer registries\", \"Topic\": \"Cancer\", \"Question\": \"Cancer of the colon and rectum (colorectal), incidence\", \"Response\": null, \"DataValueUnit\": \"per 100,000\", \"DataValueType\": \"Average Annual Age-adjusted Rate\", \"DataValue\": 37.0, \"DataValueAlt\": 37.0, \"DataValueFootnoteSymbol\": NaN, \"DatavalueFootnote\": NaN, \"LowConfidenceLimit\": 36.9, \"HighConfidenceLimit\": 37.1, \"StratificationCategory1\": \"Gender\", \"Stratification1\": \"Female\", \"StratificationCategory2\": null, \"Stratification2\": null, \"StratificationCategory3\": null, \"Stratification3\": null, \"GeoLocation\": NaN, \"ResponseID\": null, \"LocationID\": 59, \"TopicID\": \"CAN\", \"QuestionID\": \"CAN7_1\", \"DataValueTypeID\": \"AVGANNAGEADJRATE\", \"StratificationCategoryID1\": \"GENDER\", \"StratificationID1\": \"GENF\", \"StratificationCategoryID2\": null, \"StratificationID2\": null, \"StratificationCategoryID3\": null, \"StratificationID3\": null}, {\"YearStart\": 2013, \"YearEnd\": 2017, \"LocationAbbr\": \"US\", \"LocationDesc\": \"United States\", \"DataSource\": \"Statewide central cancer registries\", \"Topic\": \"Cancer\", \"Question\": \"Cancer of the colon and rectum (colorectal), incidence\", \"Response\": null, \"DataValueUnit\": null, \"DataValueType\": \"Average Annual Number\", \"DataValue\": 68027.0, \"DataValueAlt\": 68027.0, \"DataValueFootnoteSymbol\": NaN, \"DatavalueFootnote\": NaN, \"LowConfidenceLimit\": null, \"HighConfidenceLimit\": null, \"StratificationCategory1\": \"Gender\", \"Stratification1\": \"Female\", \"StratificationCategory2\": null, \"Stratification2\": null, \"StratificationCategory3\": null, \"Stratification3\": null, \"GeoLocation\": NaN, \"ResponseID\": null, \"LocationID\": 59, \"TopicID\": \"CAN\", \"QuestionID\": \"CAN7_1\", \"DataValueTypeID\": \"AVGANNNMBR\", \"StratificationCategoryID1\": \"GENDER\", \"StratificationID1\": \"GENF\", \"StratificationCategoryID2\": null, \"StratificationID2\": null, \"StratificationCategoryID3\": null, \"StratificationID3\": null}, {\"YearStart\": 2012, \"YearEnd\": 2016, \"LocationAbbr\": \"US\", \"LocationDesc\": \"United States\", \"DataSource\": \"Statewide central cancer registries\", \"Topic\": \"Cancer\", \"Question\": \"Cancer of the colon and rectum (colorectal), incidence\", \"Response\": null, \"DataValueUnit\": \"per 100,000\", \"DataValueType\": \"Average Annual Age-adjusted Rate\", \"DataValue\": 34.3, \"DataValueAlt\": 34.3, \"DataValueFootnoteSymbol\": NaN, \"DatavalueFootnote\": NaN, \"LowConfidenceLimit\": 34.2, \"HighConfidenceLimit\": 34.4, \"StratificationCategory1\": \"Gender\", \"Stratification1\": \"Female\", \"StratificationCategory2\": null, \"Stratification2\": null, \"StratificationCategory3\": null, \"Stratification3\": null, \"GeoLocation\": NaN, \"ResponseID\": null, \"LocationID\": 59, \"TopicID\": \"CAN\", \"QuestionID\": \"CAN7_1\", \"DataValueTypeID\": \"AVGANNAGEADJRATE\", \"StratificationCategoryID1\": \"GENDER\", \"StratificationID1\": \"GENF\", \"StratificationCategoryID2\": null, \"StratificationID2\": null, \"StratificationCategoryID3\": null, \"StratificationID3\": null}, {\"YearStart\": 2009, \"YearEnd\": 2013, \"LocationAbbr\": \"US\", \"LocationDesc\": \"United States\", \"DataSource\": \"Statewide central cancer registries\", \"Topic\": \"Cancer\", \"Question\": \"Cancer of the colon and rectum (colorectal), incidence\", \"Response\": null, \"DataValueUnit\": null, \"DataValueType\": \"Average Annual Number\", \"DataValue\": 73079.0, \"DataValueAlt\": 73079.0, \"DataValueFootnoteSymbol\": NaN, \"DatavalueFootnote\": NaN, \"LowConfidenceLimit\": null, \"HighConfidenceLimit\": null, \"StratificationCategory1\": \"Gender\", \"Stratification1\": \"Male\", \"StratificationCategory2\": null, \"Stratification2\": null, \"StratificationCategory3\": null, \"Stratification3\": null, \"GeoLocation\": NaN, \"ResponseID\": null, \"LocationID\": 59, \"TopicID\": \"CAN\", \"QuestionID\": \"CAN7_1\", \"DataValueTypeID\": \"AVGANNNMBR\", \"StratificationCategoryID1\": \"GENDER\", \"StratificationID1\": \"GENM\", \"StratificationCategoryID2\": null, \"StratificationID2\": null, \"StratificationCategoryID3\": null, \"StratificationID3\": null}, {\"YearStart\": 2015, \"YearEnd\": 2019, \"LocationAbbr\": \"US\", \"LocationDesc\": \"United States\", \"DataSource\": \"Statewide central cancer registries\", \"Topic\": \"Cancer\", \"Question\": \"Cancer of the colon and rectum (colorectal), incidence\", \"Response\": null, \"DataValueUnit\": null, \"DataValueType\": \"Average Annual Number\", \"DataValue\": 75887.0, \"DataValueAlt\": 75887.0, \"DataValueFootnoteSymbol\": NaN, \"DatavalueFootnote\": NaN, \"LowConfidenceLimit\": null, \"HighConfidenceLimit\": null, \"StratificationCategory1\": \"Gender\", \"Stratification1\": \"Male\", \"StratificationCategory2\": null, \"Stratification2\": null, \"StratificationCategory3\": null, \"Stratification3\": null, \"GeoLocation\": NaN, \"ResponseID\": null, \"LocationID\": 59, \"TopicID\": \"CAN\", \"QuestionID\": \"CAN7_1\", \"DataValueTypeID\": \"AVGANNNMBR\", \"StratificationCategoryID1\": \"GENDER\", \"StratificationID1\": \"GENM\", \"StratificationCategoryID2\": null, \"StratificationID2\": null, \"StratificationCategoryID3\": null, \"StratificationID3\": null}, {\"YearStart\": 2010, \"YearEnd\": 2014, \"LocationAbbr\": \"US\", \"LocationDesc\": \"United States\", \"DataSource\": \"Statewide central cancer registries\", \"Topic\": \"Cancer\", \"Question\": \"Cancer of the colon and rectum (colorectal), incidence\", \"Response\": null, \"DataValueUnit\": \"per 100,000\", \"DataValueType\": \"Average Annual Crude Rate\", \"DataValue\": 42.2, \"DataValueAlt\": 42.2, \"DataValueFootnoteSymbol\": NaN, \"DatavalueFootnote\": NaN, \"LowConfidenceLimit\": 42.0, \"HighConfidenceLimit\": 42.3, \"StratificationCategory1\": \"Gender\", \"Stratification1\": \"Female\", \"StratificationCategory2\": null, \"Stratification2\": null, \"StratificationCategory3\": null, \"Stratification3\": null, \"GeoLocation\": NaN, \"ResponseID\": null, \"LocationID\": 59, \"TopicID\": \"CAN\", \"QuestionID\": \"CAN7_1\", \"DataValueTypeID\": \"AVGANNCRDRATE\", \"StratificationCategoryID1\": \"GENDER\", \"StratificationID1\": \"GENF\", \"StratificationCategoryID2\": null, \"StratificationID2\": null, \"StratificationCategoryID3\": null, \"StratificationID3\": null}, {\"YearStart\": 2010, \"YearEnd\": 2014, \"LocationAbbr\": \"US\", \"LocationDesc\": \"United States\", \"DataSource\": \"Statewide central cancer registries\", \"Topic\": \"Cancer\", \"Question\": \"Cancer of the colon and rectum (colorectal), incidence\", \"Response\": null, \"DataValueUnit\": \"per 100,000\", \"DataValueType\": \"Average Annual Age-adjusted Rate\", \"DataValue\": 46.3, \"DataValueAlt\": 46.3, \"DataValueFootnoteSymbol\": NaN, \"DatavalueFootnote\": NaN, \"LowConfidenceLimit\": 46.2, \"HighConfidenceLimit\": 46.5, \"StratificationCategory1\": \"Gender\", \"Stratification1\": \"Male\", \"StratificationCategory2\": null, \"Stratification2\": null, \"StratificationCategory3\": null, \"Stratification3\": null, \"GeoLocation\": NaN, \"ResponseID\": null, \"LocationID\": 59, \"TopicID\": \"CAN\", \"QuestionID\": \"CAN7_1\", \"DataValueTypeID\": \"AVGANNAGEADJRATE\", \"StratificationCategoryID1\": \"GENDER\", \"StratificationID1\": \"GENM\", \"StratificationCategoryID2\": null, \"StratificationID2\": null, \"StratificationCategoryID3\": null, \"StratificationID3\": null}, {\"YearStart\": 2014, \"YearEnd\": 2018, \"LocationAbbr\": \"US\", \"LocationDesc\": \"United States\", \"DataSource\": \"Statewide central cancer registries\", \"Topic\": \"Cancer\", \"Question\": \"Cancer of the colon and rectum (colorectal), incidence\", \"Response\": null, \"DataValueUnit\": \"per 100,000\", \"DataValueType\": \"Average Annual Crude Rate\", \"DataValue\": 41.7, \"DataValueAlt\": 41.7, \"DataValueFootnoteSymbol\": NaN, \"DatavalueFootnote\": NaN, \"LowConfidenceLimit\": 41.5, \"HighConfidenceLimit\": 41.8, \"StratificationCategory1\": \"Gender\", \"Stratification1\": \"Female\", \"StratificationCategory2\": null, \"Stratification2\": null, \"StratificationCategory3\": null, \"Stratification3\": null, \"GeoLocation\": NaN, \"ResponseID\": null, \"LocationID\": 59, \"TopicID\": \"CAN\", \"QuestionID\": \"CAN7_1\", \"DataValueTypeID\": \"AVGANNCRDRATE\", \"StratificationCategoryID1\": \"GENDER\", \"StratificationID1\": \"GENF\", \"StratificationCategoryID2\": null, \"StratificationID2\": null, \"StratificationCategoryID3\": null, \"StratificationID3\": null}, {\"YearStart\": 2014, \"YearEnd\": 2018, \"LocationAbbr\": \"US\", \"LocationDesc\": \"United States\", \"DataSource\": \"Statewide central cancer registries\", \"Topic\": \"Cancer\", \"Question\": \"Cancer of the colon and rectum (colorectal), incidence\", \"Response\": null, \"DataValueUnit\": \"per 100,000\", \"DataValueType\": \"Average Annual Age-adjusted Rate\", \"DataValue\": 43.7, \"DataValueAlt\": 43.7, \"DataValueFootnoteSymbol\": NaN, \"DatavalueFootnote\": NaN, \"LowConfidenceLimit\": 43.6, \"HighConfidenceLimit\": 43.9, \"StratificationCategory1\": \"Gender\", \"Stratification1\": \"Male\", \"StratificationCategory2\": null, \"Stratification2\": null, \"StratificationCategory3\": null, \"Stratification3\": null, \"GeoLocation\": NaN, \"ResponseID\": null, \"LocationID\": 59, \"TopicID\": \"CAN\", \"QuestionID\": \"CAN7_1\", \"DataValueTypeID\": \"AVGANNAGEADJRATE\", \"StratificationCategoryID1\": \"GENDER\", \"StratificationID1\": \"GENM\", \"StratificationCategoryID2\": null, \"StratificationID2\": null, \"StratificationCategoryID3\": null, \"StratificationID3\": null}, {\"YearStart\": 2012, \"YearEnd\": 2016, \"LocationAbbr\": \"US\", \"LocationDesc\": \"United States\", \"DataSource\": \"Statewide central cancer registries\", \"Topic\": \"Cancer\", \"Question\": \"Cancer of the colon and rectum (colorectal), incidence\", \"Response\": null, \"DataValueUnit\": \"per 100,000\", \"DataValueType\": \"Average Annual Crude Rate\", \"DataValue\": 47.6, \"DataValueAlt\": 47.6, \"DataValueFootnoteSymbol\": NaN, \"DatavalueFootnote\": NaN, \"LowConfidenceLimit\": 47.5, \"HighConfidenceLimit\": 47.8, \"StratificationCategory1\": \"Gender\", \"Stratification1\": \"Male\", \"StratificationCategory2\": null, \"Stratification2\": null, \"StratificationCategory3\": null, \"Stratification3\": null, \"GeoLocation\": NaN, \"ResponseID\": null, \"LocationID\": 59, \"TopicID\": \"CAN\", \"QuestionID\": \"CAN7_1\", \"DataValueTypeID\": \"AVGANNCRDRATE\", \"StratificationCategoryID1\": \"GENDER\", \"StratificationID1\": \"GENM\", \"StratificationCategoryID2\": null, \"StratificationID2\": null, \"StratificationCategoryID3\": null, \"StratificationID3\": null}, {\"YearStart\": 2008, \"YearEnd\": 2012, \"LocationAbbr\": \"US\", \"LocationDesc\": \"United States\", \"DataSource\": \"Statewide central cancer registries\", \"Topic\": \"Cancer\", \"Question\": \"Cancer of the colon and rectum (colorectal), incidence\", \"Response\": null, \"DataValueUnit\": null, \"DataValueType\": \"Average Annual Number\", \"DataValue\": 73605.0, \"DataValueAlt\": 73605.0, \"DataValueFootnoteSymbol\": NaN, \"DatavalueFootnote\": NaN, \"LowConfidenceLimit\": null, \"HighConfidenceLimit\": null, \"StratificationCategory1\": \"Gender\", \"Stratification1\": \"Male\", \"StratificationCategory2\": null, \"Stratification2\": null, \"StratificationCategory3\": null, \"Stratification3\": null, \"GeoLocation\": NaN, \"ResponseID\": null, \"LocationID\": 59, \"TopicID\": \"CAN\", \"QuestionID\": \"CAN7_1\", \"DataValueTypeID\": \"AVGANNNMBR\", \"StratificationCategoryID1\": \"GENDER\", \"StratificationID1\": \"GENM\", \"StratificationCategoryID2\": null, \"StratificationID2\": null, \"StratificationCategoryID3\": null, \"StratificationID3\": null}, {\"YearStart\": 2014, \"YearEnd\": 2018, \"LocationAbbr\": \"US\", \"LocationDesc\": \"United States\", \"DataSource\": \"Statewide central cancer registries\", \"Topic\": \"Cancer\", \"Question\": \"Cancer of the colon and rectum (colorectal), incidence\", \"Response\": null, \"DataValueUnit\": \"per 100,000\", \"DataValueType\": \"Average Annual Age-adjusted Rate\", \"DataValue\": 33.6, \"DataValueAlt\": 33.6, \"DataValueFootnoteSymbol\": NaN, \"DatavalueFootnote\": NaN, \"LowConfidenceLimit\": 33.4, \"HighConfidenceLimit\": 33.7, \"StratificationCategory1\": \"Gender\", \"Stratification1\": \"Female\", \"StratificationCategory2\": null, \"Stratification2\": null, \"StratificationCategory3\": null, \"Stratification3\": null, \"GeoLocation\": NaN, \"ResponseID\": null, \"LocationID\": 59, \"TopicID\": \"CAN\", \"QuestionID\": \"CAN7_1\", \"DataValueTypeID\": \"AVGANNAGEADJRATE\", \"StratificationCategoryID1\": \"GENDER\", \"StratificationID1\": \"GENF\", \"StratificationCategoryID2\": null, \"StratificationID2\": null, \"StratificationCategoryID3\": null, \"StratificationID3\": null}, {\"YearStart\": 2010, \"YearEnd\": 2014, \"LocationAbbr\": \"US\", \"LocationDesc\": \"United States\", \"DataSource\": \"Statewide central cancer registries\", \"Topic\": \"Cancer\", \"Question\": \"Cancer of the colon and rectum (colorectal), incidence\", \"Response\": null, \"DataValueUnit\": \"per 100,000\", \"DataValueType\": \"Average Annual Age-adjusted Rate\", \"DataValue\": 35.1, \"DataValueAlt\": 35.1, \"DataValueFootnoteSymbol\": NaN, \"DatavalueFootnote\": NaN, \"LowConfidenceLimit\": 35.0, \"HighConfidenceLimit\": 35.2, \"StratificationCategory1\": \"Gender\", \"Stratification1\": \"Female\", \"StratificationCategory2\": null, \"Stratification2\": null, \"StratificationCategory3\": null, \"Stratification3\": null, \"GeoLocation\": NaN, \"ResponseID\": null, \"LocationID\": 59, \"TopicID\": \"CAN\", \"QuestionID\": \"CAN7_1\", \"DataValueTypeID\": \"AVGANNAGEADJRATE\", \"StratificationCategoryID1\": \"GENDER\", \"StratificationID1\": \"GENF\", \"StratificationCategoryID2\": null, \"StratificationID2\": null, \"StratificationCategoryID3\": null, \"StratificationID3\": null}, {\"YearStart\": 2013, \"YearEnd\": 2017, \"LocationAbbr\": \"US\", \"LocationDesc\": \"United States\", \"DataSource\": \"Statewide central cancer registries\", \"Topic\": \"Cancer\", \"Question\": \"Cancer of the colon and rectum (colorectal), incidence\", \"Response\": null, \"DataValueUnit\": \"per 100,000\", \"DataValueType\": \"Average Annual Crude Rate\", \"DataValue\": 47.7, \"DataValueAlt\": 47.7, \"DataValueFootnoteSymbol\": NaN, \"DatavalueFootnote\": NaN, \"LowConfidenceLimit\": 47.6, \"HighConfidenceLimit\": 47.9, \"StratificationCategory1\": \"Gender\", \"Stratification1\": \"Male\", \"StratificationCategory2\": null, \"Stratification2\": null, \"StratificationCategory3\": null, \"Stratification3\": null, \"GeoLocation\": NaN, \"ResponseID\": null, \"LocationID\": 59, \"TopicID\": \"CAN\", \"QuestionID\": \"CAN7_1\", \"DataValueTypeID\": \"AVGANNCRDRATE\", \"StratificationCategoryID1\": \"GENDER\", \"StratificationID1\": \"GENM\", \"StratificationCategoryID2\": null, \"StratificationID2\": null, \"StratificationCategoryID3\": null, \"StratificationID3\": null}, {\"YearStart\": 2011, \"YearEnd\": 2015, \"LocationAbbr\": \"US\", \"LocationDesc\": \"United States\", \"DataSource\": \"Statewide central cancer registries\", \"Topic\": \"Cancer\", \"Question\": \"Cancer of the colon and rectum (colorectal), incidence\", \"Response\": null, \"DataValueUnit\": null, \"DataValueType\": \"Average Annual Number\", \"DataValue\": 74012.0, \"DataValueAlt\": 74012.0, \"DataValueFootnoteSymbol\": NaN, \"DatavalueFootnote\": NaN, \"LowConfidenceLimit\": null, \"HighConfidenceLimit\": null, \"StratificationCategory1\": \"Gender\", \"Stratification1\": \"Male\", \"StratificationCategory2\": null, \"Stratification2\": null, \"StratificationCategory3\": null, \"Stratification3\": null, \"GeoLocation\": NaN, \"ResponseID\": null, \"LocationID\": 59, \"TopicID\": \"CAN\", \"QuestionID\": \"CAN7_1\", \"DataValueTypeID\": \"AVGANNNMBR\", \"StratificationCategoryID1\": \"GENDER\", \"StratificationID1\": \"GENM\", \"StratificationCategoryID2\": null, \"StratificationID2\": null, \"StratificationCategoryID3\": null, \"StratificationID3\": null}, {\"YearStart\": 2009, \"YearEnd\": 2013, \"LocationAbbr\": \"US\", \"LocationDesc\": \"United States\", \"DataSource\": \"Statewide central cancer registries\", \"Topic\": \"Cancer\", \"Question\": \"Cancer of the colon and rectum (colorectal), incidence\", \"Response\": null, \"DataValueUnit\": \"per 100,000\", \"DataValueType\": \"Average Annual Crude Rate\", \"DataValue\": 47.7, \"DataValueAlt\": 47.7, \"DataValueFootnoteSymbol\": NaN, \"DatavalueFootnote\": NaN, \"LowConfidenceLimit\": 47.5, \"HighConfidenceLimit\": 47.9, \"StratificationCategory1\": \"Gender\", \"Stratification1\": \"Male\", \"StratificationCategory2\": null, \"Stratification2\": null, \"StratificationCategory3\": null, \"Stratification3\": null, \"GeoLocation\": NaN, \"ResponseID\": null, \"LocationID\": 59, \"TopicID\": \"CAN\", \"QuestionID\": \"CAN7_1\", \"DataValueTypeID\": \"AVGANNCRDRATE\", \"StratificationCategoryID1\": \"GENDER\", \"StratificationID1\": \"GENM\", \"StratificationCategoryID2\": null, \"StratificationID2\": null, \"StratificationCategoryID3\": null, \"StratificationID3\": null}, {\"YearStart\": 2010, \"YearEnd\": 2014, \"LocationAbbr\": \"US\", \"LocationDesc\": \"United States\", \"DataSource\": \"Statewide central cancer registries\", \"Topic\": \"Cancer\", \"Question\": \"Cancer of the colon and rectum (colorectal), incidence\", \"Response\": null, \"DataValueUnit\": \"per 100,000\", \"DataValueType\": \"Average Annual Crude Rate\", \"DataValue\": 47.5, \"DataValueAlt\": 47.5, \"DataValueFootnoteSymbol\": NaN, \"DatavalueFootnote\": NaN, \"LowConfidenceLimit\": 47.3, \"HighConfidenceLimit\": 47.6, \"StratificationCategory1\": \"Gender\", \"Stratification1\": \"Male\", \"StratificationCategory2\": null, \"Stratification2\": null, \"StratificationCategory3\": null, \"Stratification3\": null, \"GeoLocation\": NaN, \"ResponseID\": null, \"LocationID\": 59, \"TopicID\": \"CAN\", \"QuestionID\": \"CAN7_1\", \"DataValueTypeID\": \"AVGANNCRDRATE\", \"StratificationCategoryID1\": \"GENDER\", \"StratificationID1\": \"GENM\", \"StratificationCategoryID2\": null, \"StratificationID2\": null, \"StratificationCategoryID3\": null, \"StratificationID3\": null}, {\"YearStart\": 2014, \"YearEnd\": 2018, \"LocationAbbr\": \"US\", \"LocationDesc\": \"United States\", \"DataSource\": \"Statewide central cancer registries\", \"Topic\": \"Cancer\", \"Question\": \"Cancer of the colon and rectum (colorectal), incidence\", \"Response\": null, \"DataValueUnit\": \"per 100,000\", \"DataValueType\": \"Average Annual Crude Rate\", \"DataValue\": 47.8, \"DataValueAlt\": 47.8, \"DataValueFootnoteSymbol\": NaN, \"DatavalueFootnote\": NaN, \"LowConfidenceLimit\": 47.6, \"HighConfidenceLimit\": 47.9, \"StratificationCategory1\": \"Gender\", \"Stratification1\": \"Male\", \"StratificationCategory2\": null, \"Stratification2\": null, \"StratificationCategory3\": null, \"Stratification3\": null, \"GeoLocation\": NaN, \"ResponseID\": null, \"LocationID\": 59, \"TopicID\": \"CAN\", \"QuestionID\": \"CAN7_1\", \"DataValueTypeID\": \"AVGANNCRDRATE\", \"StratificationCategoryID1\": \"GENDER\", \"StratificationID1\": \"GENM\", \"StratificationCategoryID2\": null, \"StratificationID2\": null, \"StratificationCategoryID3\": null, \"StratificationID3\": null}, {\"YearStart\": 2011, \"YearEnd\": 2015, \"LocationAbbr\": \"US\", \"LocationDesc\": \"United States\", \"DataSource\": \"Statewide central cancer registries\", \"Topic\": \"Cancer\", \"Question\": \"Cancer of the colon and rectum (colorectal), incidence\", \"Response\": null, \"DataValueUnit\": \"per 100,000\", \"DataValueType\": \"Average Annual Age-adjusted Rate\", \"DataValue\": 34.6, \"DataValueAlt\": 34.6, \"DataValueFootnoteSymbol\": NaN, \"DatavalueFootnote\": NaN, \"LowConfidenceLimit\": 34.5, \"HighConfidenceLimit\": 34.7, \"StratificationCategory1\": \"Gender\", \"Stratification1\": \"Female\", \"StratificationCategory2\": null, \"Stratification2\": null, \"StratificationCategory3\": null, \"Stratification3\": null, \"GeoLocation\": NaN, \"ResponseID\": null, \"LocationID\": 59, \"TopicID\": \"CAN\", \"QuestionID\": \"CAN7_1\", \"DataValueTypeID\": \"AVGANNAGEADJRATE\", \"StratificationCategoryID1\": \"GENDER\", \"StratificationID1\": \"GENF\", \"StratificationCategoryID2\": null, \"StratificationID2\": null, \"StratificationCategoryID3\": null, \"StratificationID3\": null}, {\"YearStart\": 2012, \"YearEnd\": 2016, \"LocationAbbr\": \"US\", \"LocationDesc\": \"United States\", \"DataSource\": \"Statewide central cancer registries\", \"Topic\": \"Cancer\", \"Question\": \"Cancer of the colon and rectum (colorectal), incidence\", \"Response\": null, \"DataValueUnit\": null, \"DataValueType\": \"Average Annual Number\", \"DataValue\": 74624.0, \"DataValueAlt\": 74624.0, \"DataValueFootnoteSymbol\": NaN, \"DatavalueFootnote\": NaN, \"LowConfidenceLimit\": null, \"HighConfidenceLimit\": null, \"StratificationCategory1\": \"Gender\", \"Stratification1\": \"Male\", \"StratificationCategory2\": null, \"Stratification2\": null, \"StratificationCategory3\": null, \"Stratification3\": null, \"GeoLocation\": NaN, \"ResponseID\": null, \"LocationID\": 59, \"TopicID\": \"CAN\", \"QuestionID\": \"CAN7_1\", \"DataValueTypeID\": \"AVGANNNMBR\", \"StratificationCategoryID1\": \"GENDER\", \"StratificationID1\": \"GENM\", \"StratificationCategoryID2\": null, \"StratificationID2\": null, \"StratificationCategoryID3\": null, \"StratificationID3\": null}]}}, {\"mode\": \"vega-lite\"});\n",
       "</script>"
      ],
      "text/plain": [
       "alt.FacetChart(...)"
      ]
     },
     "execution_count": 380,
     "metadata": {},
     "output_type": "execute_result"
    }
   ],
   "source": [
    "plot_longitudinal_change(variable = \"Cancer of the colon and rectum (colorectal), incidence\",\n",
    "                         location = \"United States\",\n",
    "                         stratification = \"Gender\")"
   ]
  },
  {
   "cell_type": "code",
   "execution_count": 359,
   "id": "d3145b08",
   "metadata": {
    "scrolled": true
   },
   "outputs": [
    {
     "data": {
      "text/html": [
       "\n",
       "<style>\n",
       "  #altair-viz-cbe2dc7a2428493f9405ac4988ffdb12.vega-embed {\n",
       "    width: 100%;\n",
       "    display: flex;\n",
       "  }\n",
       "\n",
       "  #altair-viz-cbe2dc7a2428493f9405ac4988ffdb12.vega-embed details,\n",
       "  #altair-viz-cbe2dc7a2428493f9405ac4988ffdb12.vega-embed details summary {\n",
       "    position: relative;\n",
       "  }\n",
       "</style>\n",
       "<div id=\"altair-viz-cbe2dc7a2428493f9405ac4988ffdb12\"></div>\n",
       "<script type=\"text/javascript\">\n",
       "  var VEGA_DEBUG = (typeof VEGA_DEBUG == \"undefined\") ? {} : VEGA_DEBUG;\n",
       "  (function(spec, embedOpt){\n",
       "    let outputDiv = document.currentScript.previousElementSibling;\n",
       "    if (outputDiv.id !== \"altair-viz-cbe2dc7a2428493f9405ac4988ffdb12\") {\n",
       "      outputDiv = document.getElementById(\"altair-viz-cbe2dc7a2428493f9405ac4988ffdb12\");\n",
       "    }\n",
       "    const paths = {\n",
       "      \"vega\": \"https://cdn.jsdelivr.net/npm/vega@5?noext\",\n",
       "      \"vega-lib\": \"https://cdn.jsdelivr.net/npm/vega-lib?noext\",\n",
       "      \"vega-lite\": \"https://cdn.jsdelivr.net/npm/vega-lite@5.15.1?noext\",\n",
       "      \"vega-embed\": \"https://cdn.jsdelivr.net/npm/vega-embed@6?noext\",\n",
       "    };\n",
       "\n",
       "    function maybeLoadScript(lib, version) {\n",
       "      var key = `${lib.replace(\"-\", \"\")}_version`;\n",
       "      return (VEGA_DEBUG[key] == version) ?\n",
       "        Promise.resolve(paths[lib]) :\n",
       "        new Promise(function(resolve, reject) {\n",
       "          var s = document.createElement('script');\n",
       "          document.getElementsByTagName(\"head\")[0].appendChild(s);\n",
       "          s.async = true;\n",
       "          s.onload = () => {\n",
       "            VEGA_DEBUG[key] = version;\n",
       "            return resolve(paths[lib]);\n",
       "          };\n",
       "          s.onerror = () => reject(`Error loading script: ${paths[lib]}`);\n",
       "          s.src = paths[lib];\n",
       "        });\n",
       "    }\n",
       "\n",
       "    function showError(err) {\n",
       "      outputDiv.innerHTML = `<div class=\"error\" style=\"color:red;\">${err}</div>`;\n",
       "      throw err;\n",
       "    }\n",
       "\n",
       "    function displayChart(vegaEmbed) {\n",
       "      vegaEmbed(outputDiv, spec, embedOpt)\n",
       "        .catch(err => showError(`Javascript Error: ${err.message}<br>This usually means there's a typo in your chart specification. See the javascript console for the full traceback.`));\n",
       "    }\n",
       "\n",
       "    if(typeof define === \"function\" && define.amd) {\n",
       "      requirejs.config({paths});\n",
       "      require([\"vega-embed\"], displayChart, err => showError(`Error loading script: ${err.message}`));\n",
       "    } else {\n",
       "      maybeLoadScript(\"vega\", \"5\")\n",
       "        .then(() => maybeLoadScript(\"vega-lite\", \"5.15.1\"))\n",
       "        .then(() => maybeLoadScript(\"vega-embed\", \"6\"))\n",
       "        .catch(showError)\n",
       "        .then(() => displayChart(vegaEmbed));\n",
       "    }\n",
       "  })({\"config\": {\"view\": {\"continuousWidth\": 300, \"continuousHeight\": 300}}, \"data\": {\"name\": \"data-226d68699c3bfcb9d7305230ca2b1cdb\"}, \"facet\": {\"column\": {\"field\": \"DataValueType\", \"type\": \"nominal\"}}, \"spec\": {\"layer\": [{\"mark\": {\"type\": \"point\"}, \"encoding\": {\"color\": {\"field\": \"Stratification1\", \"scale\": {\"domain\": [\"Female\", \"Male\"]}, \"type\": \"nominal\"}, \"tooltip\": [{\"field\": \"YearStart\", \"type\": \"quantitative\"}, {\"field\": \"DataValue\", \"type\": \"quantitative\"}, {\"field\": \"Stratification1\", \"type\": \"nominal\"}], \"x\": {\"field\": \"YearStart\", \"type\": \"ordinal\"}, \"y\": {\"field\": \"DataValue\", \"scale\": {\"zero\": false}, \"type\": \"quantitative\"}}}, {\"mark\": {\"type\": \"line\"}, \"encoding\": {\"color\": {\"field\": \"Stratification1\", \"scale\": {\"domain\": [\"Female\", \"Male\"]}, \"type\": \"nominal\"}, \"tooltip\": [{\"field\": \"YearStart\", \"type\": \"quantitative\"}, {\"field\": \"DataValue\", \"type\": \"quantitative\"}, {\"field\": \"Stratification1\", \"type\": \"nominal\"}], \"x\": {\"field\": \"YearStart\", \"type\": \"ordinal\"}, \"y\": {\"field\": \"LowConfidenceLimit\", \"scale\": {\"zero\": false}, \"type\": \"quantitative\"}, \"y2\": {\"field\": \"HighConfidenceLimit\"}}}, {\"mark\": {\"type\": \"line\"}, \"encoding\": {\"color\": {\"field\": \"Stratification1\", \"scale\": {\"domain\": [\"Female\", \"Male\"]}, \"type\": \"nominal\"}, \"tooltip\": [{\"field\": \"YearStart\", \"type\": \"quantitative\"}, {\"field\": \"DataValue\", \"type\": \"quantitative\"}, {\"field\": \"Stratification1\", \"type\": \"nominal\"}], \"x\": {\"field\": \"YearStart\", \"type\": \"ordinal\"}, \"y\": {\"field\": \"DataValue\", \"scale\": {\"zero\": false}, \"type\": \"quantitative\"}}}]}, \"resolve\": {\"scale\": {\"x\": \"independent\", \"y\": \"independent\"}}, \"$schema\": \"https://vega.github.io/schema/vega-lite/v5.15.1.json\", \"datasets\": {\"data-226d68699c3bfcb9d7305230ca2b1cdb\": [{\"YearStart\": 2013, \"YearEnd\": 2013, \"LocationAbbr\": \"NY\", \"LocationDesc\": \"New York\", \"DataSource\": \"NVSS\", \"Topic\": \"Cardiovascular Disease\", \"Question\": \"Mortality from coronary heart disease\", \"Response\": null, \"DataValueUnit\": null, \"DataValueType\": \"Number\", \"DataValue\": 15547.0, \"DataValueAlt\": 15547.0, \"DataValueFootnoteSymbol\": NaN, \"DatavalueFootnote\": NaN, \"LowConfidenceLimit\": null, \"HighConfidenceLimit\": null, \"StratificationCategory1\": \"Gender\", \"Stratification1\": \"Female\", \"StratificationCategory2\": null, \"Stratification2\": null, \"StratificationCategory3\": null, \"Stratification3\": null, \"GeoLocation\": \"POINT (-75.54397042699964 42.82700103200045)\", \"ResponseID\": null, \"LocationID\": 36, \"TopicID\": \"CVD\", \"QuestionID\": \"CVD1_3\", \"DataValueTypeID\": \"NMBR\", \"StratificationCategoryID1\": \"GENDER\", \"StratificationID1\": \"GENF\", \"StratificationCategoryID2\": null, \"StratificationID2\": null, \"StratificationCategoryID3\": null, \"StratificationID3\": null}, {\"YearStart\": 2012, \"YearEnd\": 2012, \"LocationAbbr\": \"NY\", \"LocationDesc\": \"New York\", \"DataSource\": \"NVSS\", \"Topic\": \"Cardiovascular Disease\", \"Question\": \"Mortality from coronary heart disease\", \"Response\": null, \"DataValueUnit\": \"cases per 100,000\", \"DataValueType\": \"Age-adjusted Rate\", \"DataValue\": 169.5, \"DataValueAlt\": 169.5, \"DataValueFootnoteSymbol\": NaN, \"DatavalueFootnote\": NaN, \"LowConfidenceLimit\": 166.8, \"HighConfidenceLimit\": 172.2, \"StratificationCategory1\": \"Gender\", \"Stratification1\": \"Male\", \"StratificationCategory2\": null, \"Stratification2\": null, \"StratificationCategory3\": null, \"Stratification3\": null, \"GeoLocation\": \"POINT (-75.54397042699964 42.82700103200045)\", \"ResponseID\": null, \"LocationID\": 36, \"TopicID\": \"CVD\", \"QuestionID\": \"CVD1_3\", \"DataValueTypeID\": \"AGEADJRATE\", \"StratificationCategoryID1\": \"GENDER\", \"StratificationID1\": \"GENM\", \"StratificationCategoryID2\": null, \"StratificationID2\": null, \"StratificationCategoryID3\": null, \"StratificationID3\": null}, {\"YearStart\": 2018, \"YearEnd\": 2018, \"LocationAbbr\": \"NY\", \"LocationDesc\": \"New York\", \"DataSource\": \"NVSS\", \"Topic\": \"Cardiovascular Disease\", \"Question\": \"Mortality from coronary heart disease\", \"Response\": null, \"DataValueUnit\": \"cases per 100,000\", \"DataValueType\": \"Age-adjusted Rate\", \"DataValue\": 90.2, \"DataValueAlt\": 90.2, \"DataValueFootnoteSymbol\": NaN, \"DatavalueFootnote\": NaN, \"LowConfidenceLimit\": 88.7, \"HighConfidenceLimit\": 91.7, \"StratificationCategory1\": \"Gender\", \"Stratification1\": \"Female\", \"StratificationCategory2\": null, \"Stratification2\": null, \"StratificationCategory3\": null, \"Stratification3\": null, \"GeoLocation\": \"POINT (-75.54397042699964 42.82700103200045)\", \"ResponseID\": null, \"LocationID\": 36, \"TopicID\": \"CVD\", \"QuestionID\": \"CVD1_3\", \"DataValueTypeID\": \"AGEADJRATE\", \"StratificationCategoryID1\": \"GENDER\", \"StratificationID1\": \"GENF\", \"StratificationCategoryID2\": null, \"StratificationID2\": null, \"StratificationCategoryID3\": null, \"StratificationID3\": null}, {\"YearStart\": 2011, \"YearEnd\": 2011, \"LocationAbbr\": \"NY\", \"LocationDesc\": \"New York\", \"DataSource\": \"NVSS\", \"Topic\": \"Cardiovascular Disease\", \"Question\": \"Mortality from coronary heart disease\", \"Response\": null, \"DataValueUnit\": null, \"DataValueType\": \"Number\", \"DataValue\": 16769.0, \"DataValueAlt\": 16769.0, \"DataValueFootnoteSymbol\": NaN, \"DatavalueFootnote\": NaN, \"LowConfidenceLimit\": null, \"HighConfidenceLimit\": null, \"StratificationCategory1\": \"Gender\", \"Stratification1\": \"Female\", \"StratificationCategory2\": null, \"Stratification2\": null, \"StratificationCategory3\": null, \"Stratification3\": null, \"GeoLocation\": \"POINT (-75.54397042699964 42.82700103200045)\", \"ResponseID\": null, \"LocationID\": 36, \"TopicID\": \"CVD\", \"QuestionID\": \"CVD1_3\", \"DataValueTypeID\": \"NMBR\", \"StratificationCategoryID1\": \"GENDER\", \"StratificationID1\": \"GENF\", \"StratificationCategoryID2\": null, \"StratificationID2\": null, \"StratificationCategoryID3\": null, \"StratificationID3\": null}, {\"YearStart\": 2019, \"YearEnd\": 2019, \"LocationAbbr\": \"NY\", \"LocationDesc\": \"New York\", \"DataSource\": \"NVSS\", \"Topic\": \"Cardiovascular Disease\", \"Question\": \"Mortality from coronary heart disease\", \"Response\": null, \"DataValueUnit\": \"Number\", \"DataValueType\": \"Number\", \"DataValue\": 14041.0, \"DataValueAlt\": 14041.0, \"DataValueFootnoteSymbol\": NaN, \"DatavalueFootnote\": NaN, \"LowConfidenceLimit\": null, \"HighConfidenceLimit\": null, \"StratificationCategory1\": \"Gender\", \"Stratification1\": \"Female\", \"StratificationCategory2\": null, \"Stratification2\": null, \"StratificationCategory3\": null, \"Stratification3\": null, \"GeoLocation\": \"POINT (-75.54397042699964 42.82700103200045)\", \"ResponseID\": null, \"LocationID\": 36, \"TopicID\": \"CVD\", \"QuestionID\": \"CVD1_3\", \"DataValueTypeID\": \"NMBR\", \"StratificationCategoryID1\": \"GENDER\", \"StratificationID1\": \"GENF\", \"StratificationCategoryID2\": null, \"StratificationID2\": null, \"StratificationCategoryID3\": null, \"StratificationID3\": null}, {\"YearStart\": 2013, \"YearEnd\": 2013, \"LocationAbbr\": \"NY\", \"LocationDesc\": \"New York\", \"DataSource\": \"NVSS\", \"Topic\": \"Cardiovascular Disease\", \"Question\": \"Mortality from coronary heart disease\", \"Response\": null, \"DataValueUnit\": null, \"DataValueType\": \"Number\", \"DataValue\": 15637.0, \"DataValueAlt\": 15637.0, \"DataValueFootnoteSymbol\": NaN, \"DatavalueFootnote\": NaN, \"LowConfidenceLimit\": null, \"HighConfidenceLimit\": null, \"StratificationCategory1\": \"Gender\", \"Stratification1\": \"Male\", \"StratificationCategory2\": null, \"Stratification2\": null, \"StratificationCategory3\": null, \"Stratification3\": null, \"GeoLocation\": \"POINT (-75.54397042699964 42.82700103200045)\", \"ResponseID\": null, \"LocationID\": 36, \"TopicID\": \"CVD\", \"QuestionID\": \"CVD1_3\", \"DataValueTypeID\": \"NMBR\", \"StratificationCategoryID1\": \"GENDER\", \"StratificationID1\": \"GENM\", \"StratificationCategoryID2\": null, \"StratificationID2\": null, \"StratificationCategoryID3\": null, \"StratificationID3\": null}, {\"YearStart\": 2013, \"YearEnd\": 2013, \"LocationAbbr\": \"NY\", \"LocationDesc\": \"New York\", \"DataSource\": \"NVSS\", \"Topic\": \"Cardiovascular Disease\", \"Question\": \"Mortality from coronary heart disease\", \"Response\": null, \"DataValueUnit\": \"cases per 100,000\", \"DataValueType\": \"Crude Rate\", \"DataValue\": 153.7, \"DataValueAlt\": 153.7, \"DataValueFootnoteSymbol\": NaN, \"DatavalueFootnote\": NaN, \"LowConfidenceLimit\": 151.3, \"HighConfidenceLimit\": 156.1, \"StratificationCategory1\": \"Gender\", \"Stratification1\": \"Female\", \"StratificationCategory2\": null, \"Stratification2\": null, \"StratificationCategory3\": null, \"Stratification3\": null, \"GeoLocation\": \"POINT (-75.54397042699964 42.82700103200045)\", \"ResponseID\": null, \"LocationID\": 36, \"TopicID\": \"CVD\", \"QuestionID\": \"CVD1_3\", \"DataValueTypeID\": \"CRDRATE\", \"StratificationCategoryID1\": \"GENDER\", \"StratificationID1\": \"GENF\", \"StratificationCategoryID2\": null, \"StratificationID2\": null, \"StratificationCategoryID3\": null, \"StratificationID3\": null}, {\"YearStart\": 2017, \"YearEnd\": 2017, \"LocationAbbr\": \"NY\", \"LocationDesc\": \"New York\", \"DataSource\": \"NVSS\", \"Topic\": \"Cardiovascular Disease\", \"Question\": \"Mortality from coronary heart disease\", \"Response\": null, \"DataValueUnit\": \"cases per 100,000\", \"DataValueType\": \"Age-adjusted Rate\", \"DataValue\": 90.0, \"DataValueAlt\": 90.0, \"DataValueFootnoteSymbol\": NaN, \"DatavalueFootnote\": NaN, \"LowConfidenceLimit\": 88.5, \"HighConfidenceLimit\": 91.5, \"StratificationCategory1\": \"Gender\", \"Stratification1\": \"Female\", \"StratificationCategory2\": null, \"Stratification2\": null, \"StratificationCategory3\": null, \"Stratification3\": null, \"GeoLocation\": \"POINT (-75.54397042699964 42.82700103200045)\", \"ResponseID\": null, \"LocationID\": 36, \"TopicID\": \"CVD\", \"QuestionID\": \"CVD1_3\", \"DataValueTypeID\": \"AGEADJRATE\", \"StratificationCategoryID1\": \"GENDER\", \"StratificationID1\": \"GENF\", \"StratificationCategoryID2\": null, \"StratificationID2\": null, \"StratificationCategoryID3\": null, \"StratificationID3\": null}, {\"YearStart\": 2018, \"YearEnd\": 2018, \"LocationAbbr\": \"NY\", \"LocationDesc\": \"New York\", \"DataSource\": \"NVSS\", \"Topic\": \"Cardiovascular Disease\", \"Question\": \"Mortality from coronary heart disease\", \"Response\": null, \"DataValueUnit\": null, \"DataValueType\": \"Number\", \"DataValue\": 15905.0, \"DataValueAlt\": 15905.0, \"DataValueFootnoteSymbol\": NaN, \"DatavalueFootnote\": NaN, \"LowConfidenceLimit\": null, \"HighConfidenceLimit\": null, \"StratificationCategory1\": \"Gender\", \"Stratification1\": \"Male\", \"StratificationCategory2\": null, \"Stratification2\": null, \"StratificationCategory3\": null, \"Stratification3\": null, \"GeoLocation\": \"POINT (-75.54397042699964 42.82700103200045)\", \"ResponseID\": null, \"LocationID\": 36, \"TopicID\": \"CVD\", \"QuestionID\": \"CVD1_3\", \"DataValueTypeID\": \"NMBR\", \"StratificationCategoryID1\": \"GENDER\", \"StratificationID1\": \"GENM\", \"StratificationCategoryID2\": null, \"StratificationID2\": null, \"StratificationCategoryID3\": null, \"StratificationID3\": null}, {\"YearStart\": 2016, \"YearEnd\": 2016, \"LocationAbbr\": \"NY\", \"LocationDesc\": \"New York\", \"DataSource\": \"NVSS\", \"Topic\": \"Cardiovascular Disease\", \"Question\": \"Mortality from coronary heart disease\", \"Response\": null, \"DataValueUnit\": \"cases per 100,000\", \"DataValueType\": \"Crude Rate\", \"DataValue\": 143.0, \"DataValueAlt\": 143.0, \"DataValueFootnoteSymbol\": NaN, \"DatavalueFootnote\": NaN, \"LowConfidenceLimit\": 140.7, \"HighConfidenceLimit\": 145.3, \"StratificationCategory1\": \"Gender\", \"Stratification1\": \"Female\", \"StratificationCategory2\": null, \"Stratification2\": null, \"StratificationCategory3\": null, \"Stratification3\": null, \"GeoLocation\": \"POINT (-75.54397042699964 42.82700103200045)\", \"ResponseID\": null, \"LocationID\": 36, \"TopicID\": \"CVD\", \"QuestionID\": \"CVD1_3\", \"DataValueTypeID\": \"CRDRATE\", \"StratificationCategoryID1\": \"GENDER\", \"StratificationID1\": \"GENF\", \"StratificationCategoryID2\": null, \"StratificationID2\": null, \"StratificationCategoryID3\": null, \"StratificationID3\": null}, {\"YearStart\": 2012, \"YearEnd\": 2012, \"LocationAbbr\": \"NY\", \"LocationDesc\": \"New York\", \"DataSource\": \"NVSS\", \"Topic\": \"Cardiovascular Disease\", \"Question\": \"Mortality from coronary heart disease\", \"Response\": null, \"DataValueUnit\": \"cases per 100,000\", \"DataValueType\": \"Age-adjusted Rate\", \"DataValue\": 107.0, \"DataValueAlt\": 107.0, \"DataValueFootnoteSymbol\": NaN, \"DatavalueFootnote\": NaN, \"LowConfidenceLimit\": 105.3, \"HighConfidenceLimit\": 108.7, \"StratificationCategory1\": \"Gender\", \"Stratification1\": \"Female\", \"StratificationCategory2\": null, \"Stratification2\": null, \"StratificationCategory3\": null, \"Stratification3\": null, \"GeoLocation\": \"POINT (-75.54397042699964 42.82700103200045)\", \"ResponseID\": null, \"LocationID\": 36, \"TopicID\": \"CVD\", \"QuestionID\": \"CVD1_3\", \"DataValueTypeID\": \"AGEADJRATE\", \"StratificationCategoryID1\": \"GENDER\", \"StratificationID1\": \"GENF\", \"StratificationCategoryID2\": null, \"StratificationID2\": null, \"StratificationCategoryID3\": null, \"StratificationID3\": null}, {\"YearStart\": 2015, \"YearEnd\": 2015, \"LocationAbbr\": \"NY\", \"LocationDesc\": \"New York\", \"DataSource\": \"NVSS\", \"Topic\": \"Cardiovascular Disease\", \"Question\": \"Mortality from coronary heart disease\", \"Response\": null, \"DataValueUnit\": null, \"DataValueType\": \"Number\", \"DataValue\": 15022.0, \"DataValueAlt\": 15022.0, \"DataValueFootnoteSymbol\": NaN, \"DatavalueFootnote\": NaN, \"LowConfidenceLimit\": null, \"HighConfidenceLimit\": null, \"StratificationCategory1\": \"Gender\", \"Stratification1\": \"Female\", \"StratificationCategory2\": null, \"Stratification2\": null, \"StratificationCategory3\": null, \"Stratification3\": null, \"GeoLocation\": \"POINT (-75.54397042699964 42.82700103200045)\", \"ResponseID\": null, \"LocationID\": 36, \"TopicID\": \"CVD\", \"QuestionID\": \"CVD1_3\", \"DataValueTypeID\": \"NMBR\", \"StratificationCategoryID1\": \"GENDER\", \"StratificationID1\": \"GENF\", \"StratificationCategoryID2\": null, \"StratificationID2\": null, \"StratificationCategoryID3\": null, \"StratificationID3\": null}, {\"YearStart\": 2020, \"YearEnd\": 2020, \"LocationAbbr\": \"NY\", \"LocationDesc\": \"New York\", \"DataSource\": \"NVSS\", \"Topic\": \"Cardiovascular Disease\", \"Question\": \"Mortality from coronary heart disease\", \"Response\": null, \"DataValueUnit\": \"Number\", \"DataValueType\": \"Number\", \"DataValue\": 15651.0, \"DataValueAlt\": 15651.0, \"DataValueFootnoteSymbol\": NaN, \"DatavalueFootnote\": NaN, \"LowConfidenceLimit\": null, \"HighConfidenceLimit\": null, \"StratificationCategory1\": \"Gender\", \"Stratification1\": \"Female\", \"StratificationCategory2\": null, \"Stratification2\": null, \"StratificationCategory3\": null, \"Stratification3\": null, \"GeoLocation\": \"POINT (-75.54397042699964 42.82700103200045)\", \"ResponseID\": null, \"LocationID\": 36, \"TopicID\": \"CVD\", \"QuestionID\": \"CVD1_3\", \"DataValueTypeID\": \"NMBR\", \"StratificationCategoryID1\": \"GENDER\", \"StratificationID1\": \"GENF\", \"StratificationCategoryID2\": null, \"StratificationID2\": null, \"StratificationCategoryID3\": null, \"StratificationID3\": null}, {\"YearStart\": 2011, \"YearEnd\": 2011, \"LocationAbbr\": \"NY\", \"LocationDesc\": \"New York\", \"DataSource\": \"NVSS\", \"Topic\": \"Cardiovascular Disease\", \"Question\": \"Mortality from coronary heart disease\", \"Response\": null, \"DataValueUnit\": \"cases per 100,000\", \"DataValueType\": \"Crude Rate\", \"DataValue\": 166.1, \"DataValueAlt\": 166.1, \"DataValueFootnoteSymbol\": NaN, \"DatavalueFootnote\": NaN, \"LowConfidenceLimit\": 163.5, \"HighConfidenceLimit\": 168.7, \"StratificationCategory1\": \"Gender\", \"Stratification1\": \"Male\", \"StratificationCategory2\": null, \"Stratification2\": null, \"StratificationCategory3\": null, \"Stratification3\": null, \"GeoLocation\": \"POINT (-75.54397042699964 42.82700103200045)\", \"ResponseID\": null, \"LocationID\": 36, \"TopicID\": \"CVD\", \"QuestionID\": \"CVD1_3\", \"DataValueTypeID\": \"CRDRATE\", \"StratificationCategoryID1\": \"GENDER\", \"StratificationID1\": \"GENM\", \"StratificationCategoryID2\": null, \"StratificationID2\": null, \"StratificationCategoryID3\": null, \"StratificationID3\": null}, {\"YearStart\": 2010, \"YearEnd\": 2010, \"LocationAbbr\": \"NY\", \"LocationDesc\": \"New York\", \"DataSource\": \"NVSS\", \"Topic\": \"Cardiovascular Disease\", \"Question\": \"Mortality from coronary heart disease\", \"Response\": null, \"DataValueUnit\": \"cases per 100,000\", \"DataValueType\": \"Age-adjusted Rate\", \"DataValue\": 119.3, \"DataValueAlt\": 119.3, \"DataValueFootnoteSymbol\": NaN, \"DatavalueFootnote\": NaN, \"LowConfidenceLimit\": 117.5, \"HighConfidenceLimit\": 121.2, \"StratificationCategory1\": \"Gender\", \"Stratification1\": \"Female\", \"StratificationCategory2\": null, \"Stratification2\": null, \"StratificationCategory3\": null, \"Stratification3\": null, \"GeoLocation\": \"POINT (-75.54397042699964 42.82700103200045)\", \"ResponseID\": null, \"LocationID\": 36, \"TopicID\": \"CVD\", \"QuestionID\": \"CVD1_3\", \"DataValueTypeID\": \"AGEADJRATE\", \"StratificationCategoryID1\": \"GENDER\", \"StratificationID1\": \"GENF\", \"StratificationCategoryID2\": null, \"StratificationID2\": null, \"StratificationCategoryID3\": null, \"StratificationID3\": null}, {\"YearStart\": 2015, \"YearEnd\": 2015, \"LocationAbbr\": \"NY\", \"LocationDesc\": \"New York\", \"DataSource\": \"NVSS\", \"Topic\": \"Cardiovascular Disease\", \"Question\": \"Mortality from coronary heart disease\", \"Response\": null, \"DataValueUnit\": \"cases per 100,000\", \"DataValueType\": \"Crude Rate\", \"DataValue\": 161.1, \"DataValueAlt\": 161.1, \"DataValueFootnoteSymbol\": NaN, \"DatavalueFootnote\": NaN, \"LowConfidenceLimit\": 158.5, \"HighConfidenceLimit\": 163.6, \"StratificationCategory1\": \"Gender\", \"Stratification1\": \"Male\", \"StratificationCategory2\": null, \"Stratification2\": null, \"StratificationCategory3\": null, \"Stratification3\": null, \"GeoLocation\": \"POINT (-75.54397042699964 42.82700103200045)\", \"ResponseID\": null, \"LocationID\": 36, \"TopicID\": \"CVD\", \"QuestionID\": \"CVD1_3\", \"DataValueTypeID\": \"CRDRATE\", \"StratificationCategoryID1\": \"GENDER\", \"StratificationID1\": \"GENM\", \"StratificationCategoryID2\": null, \"StratificationID2\": null, \"StratificationCategoryID3\": null, \"StratificationID3\": null}, {\"YearStart\": 2014, \"YearEnd\": 2014, \"LocationAbbr\": \"NY\", \"LocationDesc\": \"New York\", \"DataSource\": \"NVSS\", \"Topic\": \"Cardiovascular Disease\", \"Question\": \"Mortality from coronary heart disease\", \"Response\": null, \"DataValueUnit\": null, \"DataValueType\": \"Number\", \"DataValue\": 15156.0, \"DataValueAlt\": 15156.0, \"DataValueFootnoteSymbol\": NaN, \"DatavalueFootnote\": NaN, \"LowConfidenceLimit\": null, \"HighConfidenceLimit\": null, \"StratificationCategory1\": \"Gender\", \"Stratification1\": \"Male\", \"StratificationCategory2\": null, \"Stratification2\": null, \"StratificationCategory3\": null, \"Stratification3\": null, \"GeoLocation\": \"POINT (-75.54397042699964 42.82700103200045)\", \"ResponseID\": null, \"LocationID\": 36, \"TopicID\": \"CVD\", \"QuestionID\": \"CVD1_3\", \"DataValueTypeID\": \"NMBR\", \"StratificationCategoryID1\": \"GENDER\", \"StratificationID1\": \"GENM\", \"StratificationCategoryID2\": null, \"StratificationID2\": null, \"StratificationCategoryID3\": null, \"StratificationID3\": null}, {\"YearStart\": 2017, \"YearEnd\": 2017, \"LocationAbbr\": \"NY\", \"LocationDesc\": \"New York\", \"DataSource\": \"NVSS\", \"Topic\": \"Cardiovascular Disease\", \"Question\": \"Mortality from coronary heart disease\", \"Response\": null, \"DataValueUnit\": null, \"DataValueType\": \"Number\", \"DataValue\": 15601.0, \"DataValueAlt\": 15601.0, \"DataValueFootnoteSymbol\": NaN, \"DatavalueFootnote\": NaN, \"LowConfidenceLimit\": null, \"HighConfidenceLimit\": null, \"StratificationCategory1\": \"Gender\", \"Stratification1\": \"Male\", \"StratificationCategory2\": null, \"Stratification2\": null, \"StratificationCategory3\": null, \"Stratification3\": null, \"GeoLocation\": \"POINT (-75.54397042699964 42.82700103200045)\", \"ResponseID\": null, \"LocationID\": 36, \"TopicID\": \"CVD\", \"QuestionID\": \"CVD1_3\", \"DataValueTypeID\": \"NMBR\", \"StratificationCategoryID1\": \"GENDER\", \"StratificationID1\": \"GENM\", \"StratificationCategoryID2\": null, \"StratificationID2\": null, \"StratificationCategoryID3\": null, \"StratificationID3\": null}, {\"YearStart\": 2010, \"YearEnd\": 2010, \"LocationAbbr\": \"NY\", \"LocationDesc\": \"New York\", \"DataSource\": \"NVSS\", \"Topic\": \"Cardiovascular Disease\", \"Question\": \"Mortality from coronary heart disease\", \"Response\": null, \"DataValueUnit\": \"cases per 100,000\", \"DataValueType\": \"Crude Rate\", \"DataValue\": 171.5, \"DataValueAlt\": 171.5, \"DataValueFootnoteSymbol\": NaN, \"DatavalueFootnote\": NaN, \"LowConfidenceLimit\": 169.0, \"HighConfidenceLimit\": 174.1, \"StratificationCategory1\": \"Gender\", \"Stratification1\": \"Female\", \"StratificationCategory2\": null, \"Stratification2\": null, \"StratificationCategory3\": null, \"Stratification3\": null, \"GeoLocation\": \"POINT (-75.54397042699964 42.82700103200045)\", \"ResponseID\": null, \"LocationID\": 36, \"TopicID\": \"CVD\", \"QuestionID\": \"CVD1_3\", \"DataValueTypeID\": \"CRDRATE\", \"StratificationCategoryID1\": \"GENDER\", \"StratificationID1\": \"GENF\", \"StratificationCategoryID2\": null, \"StratificationID2\": null, \"StratificationCategoryID3\": null, \"StratificationID3\": null}, {\"YearStart\": 2016, \"YearEnd\": 2016, \"LocationAbbr\": \"NY\", \"LocationDesc\": \"New York\", \"DataSource\": \"NVSS\", \"Topic\": \"Cardiovascular Disease\", \"Question\": \"Mortality from coronary heart disease\", \"Response\": null, \"DataValueUnit\": \"cases per 100,000\", \"DataValueType\": \"Age-adjusted Rate\", \"DataValue\": 94.2, \"DataValueAlt\": 94.2, \"DataValueFootnoteSymbol\": NaN, \"DatavalueFootnote\": NaN, \"LowConfidenceLimit\": 92.6, \"HighConfidenceLimit\": 95.7, \"StratificationCategory1\": \"Gender\", \"Stratification1\": \"Female\", \"StratificationCategory2\": null, \"Stratification2\": null, \"StratificationCategory3\": null, \"Stratification3\": null, \"GeoLocation\": \"POINT (-75.54397042699964 42.82700103200045)\", \"ResponseID\": null, \"LocationID\": 36, \"TopicID\": \"CVD\", \"QuestionID\": \"CVD1_3\", \"DataValueTypeID\": \"AGEADJRATE\", \"StratificationCategoryID1\": \"GENDER\", \"StratificationID1\": \"GENF\", \"StratificationCategoryID2\": null, \"StratificationID2\": null, \"StratificationCategoryID3\": null, \"StratificationID3\": null}, {\"YearStart\": 2012, \"YearEnd\": 2012, \"LocationAbbr\": \"NY\", \"LocationDesc\": \"New York\", \"DataSource\": \"NVSS\", \"Topic\": \"Cardiovascular Disease\", \"Question\": \"Mortality from coronary heart disease\", \"Response\": null, \"DataValueUnit\": \"cases per 100,000\", \"DataValueType\": \"Crude Rate\", \"DataValue\": 158.4, \"DataValueAlt\": 158.4, \"DataValueFootnoteSymbol\": NaN, \"DatavalueFootnote\": NaN, \"LowConfidenceLimit\": 155.9, \"HighConfidenceLimit\": 160.8, \"StratificationCategory1\": \"Gender\", \"Stratification1\": \"Female\", \"StratificationCategory2\": null, \"Stratification2\": null, \"StratificationCategory3\": null, \"Stratification3\": null, \"GeoLocation\": \"POINT (-75.54397042699964 42.82700103200045)\", \"ResponseID\": null, \"LocationID\": 36, \"TopicID\": \"CVD\", \"QuestionID\": \"CVD1_3\", \"DataValueTypeID\": \"CRDRATE\", \"StratificationCategoryID1\": \"GENDER\", \"StratificationID1\": \"GENF\", \"StratificationCategoryID2\": null, \"StratificationID2\": null, \"StratificationCategoryID3\": null, \"StratificationID3\": null}, {\"YearStart\": 2020, \"YearEnd\": 2020, \"LocationAbbr\": \"NY\", \"LocationDesc\": \"New York\", \"DataSource\": \"NVSS\", \"Topic\": \"Cardiovascular Disease\", \"Question\": \"Mortality from coronary heart disease\", \"Response\": null, \"DataValueUnit\": \"cases per 100,000\", \"DataValueType\": \"Crude Rate\", \"DataValue\": 157.4, \"DataValueAlt\": 157.4, \"DataValueFootnoteSymbol\": NaN, \"DatavalueFootnote\": NaN, \"LowConfidenceLimit\": 154.9, \"HighConfidenceLimit\": 159.8, \"StratificationCategory1\": \"Gender\", \"Stratification1\": \"Female\", \"StratificationCategory2\": null, \"Stratification2\": null, \"StratificationCategory3\": null, \"Stratification3\": null, \"GeoLocation\": \"POINT (-75.54397042699964 42.82700103200045)\", \"ResponseID\": null, \"LocationID\": 36, \"TopicID\": \"CVD\", \"QuestionID\": \"CVD1_3\", \"DataValueTypeID\": \"CRDRATE\", \"StratificationCategoryID1\": \"GENDER\", \"StratificationID1\": \"GENF\", \"StratificationCategoryID2\": null, \"StratificationID2\": null, \"StratificationCategoryID3\": null, \"StratificationID3\": null}, {\"YearStart\": 2019, \"YearEnd\": 2019, \"LocationAbbr\": \"NY\", \"LocationDesc\": \"New York\", \"DataSource\": \"NVSS\", \"Topic\": \"Cardiovascular Disease\", \"Question\": \"Mortality from coronary heart disease\", \"Response\": null, \"DataValueUnit\": \"cases per 100,000\", \"DataValueType\": \"Age-adjusted Rate\", \"DataValue\": 86.3, \"DataValueAlt\": 86.3, \"DataValueFootnoteSymbol\": NaN, \"DatavalueFootnote\": NaN, \"LowConfidenceLimit\": 84.9, \"HighConfidenceLimit\": 87.8, \"StratificationCategory1\": \"Gender\", \"Stratification1\": \"Female\", \"StratificationCategory2\": null, \"Stratification2\": null, \"StratificationCategory3\": null, \"Stratification3\": null, \"GeoLocation\": \"POINT (-75.54397042699964 42.82700103200045)\", \"ResponseID\": null, \"LocationID\": 36, \"TopicID\": \"CVD\", \"QuestionID\": \"CVD1_3\", \"DataValueTypeID\": \"AGEADJRATE\", \"StratificationCategoryID1\": \"GENDER\", \"StratificationID1\": \"GENF\", \"StratificationCategoryID2\": null, \"StratificationID2\": null, \"StratificationCategoryID3\": null, \"StratificationID3\": null}, {\"YearStart\": 2017, \"YearEnd\": 2017, \"LocationAbbr\": \"NY\", \"LocationDesc\": \"New York\", \"DataSource\": \"NVSS\", \"Topic\": \"Cardiovascular Disease\", \"Question\": \"Mortality from coronary heart disease\", \"Response\": null, \"DataValueUnit\": \"cases per 100,000\", \"DataValueType\": \"Crude Rate\", \"DataValue\": 141.3, \"DataValueAlt\": 141.3, \"DataValueFootnoteSymbol\": NaN, \"DatavalueFootnote\": NaN, \"LowConfidenceLimit\": 139.0, \"HighConfidenceLimit\": 143.6, \"StratificationCategory1\": \"Gender\", \"Stratification1\": \"Female\", \"StratificationCategory2\": null, \"Stratification2\": null, \"StratificationCategory3\": null, \"Stratification3\": null, \"GeoLocation\": \"POINT (-75.54397042699964 42.82700103200045)\", \"ResponseID\": null, \"LocationID\": 36, \"TopicID\": \"CVD\", \"QuestionID\": \"CVD1_3\", \"DataValueTypeID\": \"CRDRATE\", \"StratificationCategoryID1\": \"GENDER\", \"StratificationID1\": \"GENF\", \"StratificationCategoryID2\": null, \"StratificationID2\": null, \"StratificationCategoryID3\": null, \"StratificationID3\": null}, {\"YearStart\": 2013, \"YearEnd\": 2013, \"LocationAbbr\": \"NY\", \"LocationDesc\": \"New York\", \"DataSource\": \"NVSS\", \"Topic\": \"Cardiovascular Disease\", \"Question\": \"Mortality from coronary heart disease\", \"Response\": null, \"DataValueUnit\": \"cases per 100,000\", \"DataValueType\": \"Age-adjusted Rate\", \"DataValue\": 103.3, \"DataValueAlt\": 103.3, \"DataValueFootnoteSymbol\": NaN, \"DatavalueFootnote\": NaN, \"LowConfidenceLimit\": 101.6, \"HighConfidenceLimit\": 104.9, \"StratificationCategory1\": \"Gender\", \"Stratification1\": \"Female\", \"StratificationCategory2\": null, \"Stratification2\": null, \"StratificationCategory3\": null, \"Stratification3\": null, \"GeoLocation\": \"POINT (-75.54397042699964 42.82700103200045)\", \"ResponseID\": null, \"LocationID\": 36, \"TopicID\": \"CVD\", \"QuestionID\": \"CVD1_3\", \"DataValueTypeID\": \"AGEADJRATE\", \"StratificationCategoryID1\": \"GENDER\", \"StratificationID1\": \"GENF\", \"StratificationCategoryID2\": null, \"StratificationID2\": null, \"StratificationCategoryID3\": null, \"StratificationID3\": null}, {\"YearStart\": 2011, \"YearEnd\": 2011, \"LocationAbbr\": \"NY\", \"LocationDesc\": \"New York\", \"DataSource\": \"NVSS\", \"Topic\": \"Cardiovascular Disease\", \"Question\": \"Mortality from coronary heart disease\", \"Response\": null, \"DataValueUnit\": \"cases per 100,000\", \"DataValueType\": \"Crude Rate\", \"DataValue\": 167.1, \"DataValueAlt\": 167.1, \"DataValueFootnoteSymbol\": NaN, \"DatavalueFootnote\": NaN, \"LowConfidenceLimit\": 164.6, \"HighConfidenceLimit\": 169.7, \"StratificationCategory1\": \"Gender\", \"Stratification1\": \"Female\", \"StratificationCategory2\": null, \"Stratification2\": null, \"StratificationCategory3\": null, \"Stratification3\": null, \"GeoLocation\": \"POINT (-75.54397042699964 42.82700103200045)\", \"ResponseID\": null, \"LocationID\": 36, \"TopicID\": \"CVD\", \"QuestionID\": \"CVD1_3\", \"DataValueTypeID\": \"CRDRATE\", \"StratificationCategoryID1\": \"GENDER\", \"StratificationID1\": \"GENF\", \"StratificationCategoryID2\": null, \"StratificationID2\": null, \"StratificationCategoryID3\": null, \"StratificationID3\": null}, {\"YearStart\": 2010, \"YearEnd\": 2010, \"LocationAbbr\": \"NY\", \"LocationDesc\": \"New York\", \"DataSource\": \"NVSS\", \"Topic\": \"Cardiovascular Disease\", \"Question\": \"Mortality from coronary heart disease\", \"Response\": null, \"DataValueUnit\": null, \"DataValueType\": \"Number\", \"DataValue\": 16125.0, \"DataValueAlt\": 16125.0, \"DataValueFootnoteSymbol\": NaN, \"DatavalueFootnote\": NaN, \"LowConfidenceLimit\": null, \"HighConfidenceLimit\": null, \"StratificationCategory1\": \"Gender\", \"Stratification1\": \"Male\", \"StratificationCategory2\": null, \"Stratification2\": null, \"StratificationCategory3\": null, \"Stratification3\": null, \"GeoLocation\": \"POINT (-75.54397042699964 42.82700103200045)\", \"ResponseID\": null, \"LocationID\": 36, \"TopicID\": \"CVD\", \"QuestionID\": \"CVD1_3\", \"DataValueTypeID\": \"NMBR\", \"StratificationCategoryID1\": \"GENDER\", \"StratificationID1\": \"GENM\", \"StratificationCategoryID2\": null, \"StratificationID2\": null, \"StratificationCategoryID3\": null, \"StratificationID3\": null}, {\"YearStart\": 2019, \"YearEnd\": 2019, \"LocationAbbr\": \"NY\", \"LocationDesc\": \"New York\", \"DataSource\": \"NVSS\", \"Topic\": \"Cardiovascular Disease\", \"Question\": \"Mortality from coronary heart disease\", \"Response\": null, \"DataValueUnit\": \"Number\", \"DataValueType\": \"Number\", \"DataValue\": 15830.0, \"DataValueAlt\": 15830.0, \"DataValueFootnoteSymbol\": NaN, \"DatavalueFootnote\": NaN, \"LowConfidenceLimit\": null, \"HighConfidenceLimit\": null, \"StratificationCategory1\": \"Gender\", \"Stratification1\": \"Male\", \"StratificationCategory2\": null, \"Stratification2\": null, \"StratificationCategory3\": null, \"Stratification3\": null, \"GeoLocation\": \"POINT (-75.54397042699964 42.82700103200045)\", \"ResponseID\": null, \"LocationID\": 36, \"TopicID\": \"CVD\", \"QuestionID\": \"CVD1_3\", \"DataValueTypeID\": \"NMBR\", \"StratificationCategoryID1\": \"GENDER\", \"StratificationID1\": \"GENM\", \"StratificationCategoryID2\": null, \"StratificationID2\": null, \"StratificationCategoryID3\": null, \"StratificationID3\": null}, {\"YearStart\": 2014, \"YearEnd\": 2014, \"LocationAbbr\": \"NY\", \"LocationDesc\": \"New York\", \"DataSource\": \"NVSS\", \"Topic\": \"Cardiovascular Disease\", \"Question\": \"Mortality from coronary heart disease\", \"Response\": null, \"DataValueUnit\": \"cases per 100,000\", \"DataValueType\": \"Age-adjusted Rate\", \"DataValue\": 98.9, \"DataValueAlt\": 98.9, \"DataValueFootnoteSymbol\": NaN, \"DatavalueFootnote\": NaN, \"LowConfidenceLimit\": 97.3, \"HighConfidenceLimit\": 100.6, \"StratificationCategory1\": \"Gender\", \"Stratification1\": \"Female\", \"StratificationCategory2\": null, \"Stratification2\": null, \"StratificationCategory3\": null, \"Stratification3\": null, \"GeoLocation\": \"POINT (-75.54397042699964 42.82700103200045)\", \"ResponseID\": null, \"LocationID\": 36, \"TopicID\": \"CVD\", \"QuestionID\": \"CVD1_3\", \"DataValueTypeID\": \"AGEADJRATE\", \"StratificationCategoryID1\": \"GENDER\", \"StratificationID1\": \"GENF\", \"StratificationCategoryID2\": null, \"StratificationID2\": null, \"StratificationCategoryID3\": null, \"StratificationID3\": null}, {\"YearStart\": 2015, \"YearEnd\": 2015, \"LocationAbbr\": \"NY\", \"LocationDesc\": \"New York\", \"DataSource\": \"NVSS\", \"Topic\": \"Cardiovascular Disease\", \"Question\": \"Mortality from coronary heart disease\", \"Response\": null, \"DataValueUnit\": \"cases per 100,000\", \"DataValueType\": \"Crude Rate\", \"DataValue\": 147.5, \"DataValueAlt\": 147.5, \"DataValueFootnoteSymbol\": NaN, \"DatavalueFootnote\": NaN, \"LowConfidenceLimit\": 145.1, \"HighConfidenceLimit\": 149.9, \"StratificationCategory1\": \"Gender\", \"Stratification1\": \"Female\", \"StratificationCategory2\": null, \"Stratification2\": null, \"StratificationCategory3\": null, \"Stratification3\": null, \"GeoLocation\": \"POINT (-75.54397042699964 42.82700103200045)\", \"ResponseID\": null, \"LocationID\": 36, \"TopicID\": \"CVD\", \"QuestionID\": \"CVD1_3\", \"DataValueTypeID\": \"CRDRATE\", \"StratificationCategoryID1\": \"GENDER\", \"StratificationID1\": \"GENF\", \"StratificationCategoryID2\": null, \"StratificationID2\": null, \"StratificationCategoryID3\": null, \"StratificationID3\": null}, {\"YearStart\": 2015, \"YearEnd\": 2015, \"LocationAbbr\": \"NY\", \"LocationDesc\": \"New York\", \"DataSource\": \"NVSS\", \"Topic\": \"Cardiovascular Disease\", \"Question\": \"Mortality from coronary heart disease\", \"Response\": null, \"DataValueUnit\": null, \"DataValueType\": \"Number\", \"DataValue\": 15480.0, \"DataValueAlt\": 15480.0, \"DataValueFootnoteSymbol\": NaN, \"DatavalueFootnote\": NaN, \"LowConfidenceLimit\": null, \"HighConfidenceLimit\": null, \"StratificationCategory1\": \"Gender\", \"Stratification1\": \"Male\", \"StratificationCategory2\": null, \"Stratification2\": null, \"StratificationCategory3\": null, \"Stratification3\": null, \"GeoLocation\": \"POINT (-75.54397042699964 42.82700103200045)\", \"ResponseID\": null, \"LocationID\": 36, \"TopicID\": \"CVD\", \"QuestionID\": \"CVD1_3\", \"DataValueTypeID\": \"NMBR\", \"StratificationCategoryID1\": \"GENDER\", \"StratificationID1\": \"GENM\", \"StratificationCategoryID2\": null, \"StratificationID2\": null, \"StratificationCategoryID3\": null, \"StratificationID3\": null}, {\"YearStart\": 2016, \"YearEnd\": 2016, \"LocationAbbr\": \"NY\", \"LocationDesc\": \"New York\", \"DataSource\": \"NVSS\", \"Topic\": \"Cardiovascular Disease\", \"Question\": \"Mortality from coronary heart disease\", \"Response\": null, \"DataValueUnit\": \"cases per 100,000\", \"DataValueType\": \"Age-adjusted Rate\", \"DataValue\": 154.2, \"DataValueAlt\": 154.2, \"DataValueFootnoteSymbol\": NaN, \"DatavalueFootnote\": NaN, \"LowConfidenceLimit\": 151.8, \"HighConfidenceLimit\": 156.7, \"StratificationCategory1\": \"Gender\", \"Stratification1\": \"Male\", \"StratificationCategory2\": null, \"Stratification2\": null, \"StratificationCategory3\": null, \"Stratification3\": null, \"GeoLocation\": \"POINT (-75.54397042699964 42.82700103200045)\", \"ResponseID\": null, \"LocationID\": 36, \"TopicID\": \"CVD\", \"QuestionID\": \"CVD1_3\", \"DataValueTypeID\": \"AGEADJRATE\", \"StratificationCategoryID1\": \"GENDER\", \"StratificationID1\": \"GENM\", \"StratificationCategoryID2\": null, \"StratificationID2\": null, \"StratificationCategoryID3\": null, \"StratificationID3\": null}, {\"YearStart\": 2012, \"YearEnd\": 2012, \"LocationAbbr\": \"NY\", \"LocationDesc\": \"New York\", \"DataSource\": \"NVSS\", \"Topic\": \"Cardiovascular Disease\", \"Question\": \"Mortality from coronary heart disease\", \"Response\": null, \"DataValueUnit\": null, \"DataValueType\": \"Number\", \"DataValue\": 15967.0, \"DataValueAlt\": 15967.0, \"DataValueFootnoteSymbol\": NaN, \"DatavalueFootnote\": NaN, \"LowConfidenceLimit\": null, \"HighConfidenceLimit\": null, \"StratificationCategory1\": \"Gender\", \"Stratification1\": \"Female\", \"StratificationCategory2\": null, \"Stratification2\": null, \"StratificationCategory3\": null, \"Stratification3\": null, \"GeoLocation\": \"POINT (-75.54397042699964 42.82700103200045)\", \"ResponseID\": null, \"LocationID\": 36, \"TopicID\": \"CVD\", \"QuestionID\": \"CVD1_3\", \"DataValueTypeID\": \"NMBR\", \"StratificationCategoryID1\": \"GENDER\", \"StratificationID1\": \"GENF\", \"StratificationCategoryID2\": null, \"StratificationID2\": null, \"StratificationCategoryID3\": null, \"StratificationID3\": null}, {\"YearStart\": 2011, \"YearEnd\": 2011, \"LocationAbbr\": \"NY\", \"LocationDesc\": \"New York\", \"DataSource\": \"NVSS\", \"Topic\": \"Cardiovascular Disease\", \"Question\": \"Mortality from coronary heart disease\", \"Response\": null, \"DataValueUnit\": null, \"DataValueType\": \"Number\", \"DataValue\": 15668.0, \"DataValueAlt\": 15668.0, \"DataValueFootnoteSymbol\": NaN, \"DatavalueFootnote\": NaN, \"LowConfidenceLimit\": null, \"HighConfidenceLimit\": null, \"StratificationCategory1\": \"Gender\", \"Stratification1\": \"Male\", \"StratificationCategory2\": null, \"Stratification2\": null, \"StratificationCategory3\": null, \"Stratification3\": null, \"GeoLocation\": \"POINT (-75.54397042699964 42.82700103200045)\", \"ResponseID\": null, \"LocationID\": 36, \"TopicID\": \"CVD\", \"QuestionID\": \"CVD1_3\", \"DataValueTypeID\": \"NMBR\", \"StratificationCategoryID1\": \"GENDER\", \"StratificationID1\": \"GENM\", \"StratificationCategoryID2\": null, \"StratificationID2\": null, \"StratificationCategoryID3\": null, \"StratificationID3\": null}, {\"YearStart\": 2017, \"YearEnd\": 2017, \"LocationAbbr\": \"NY\", \"LocationDesc\": \"New York\", \"DataSource\": \"NVSS\", \"Topic\": \"Cardiovascular Disease\", \"Question\": \"Mortality from coronary heart disease\", \"Response\": null, \"DataValueUnit\": null, \"DataValueType\": \"Number\", \"DataValue\": 14428.0, \"DataValueAlt\": 14428.0, \"DataValueFootnoteSymbol\": NaN, \"DatavalueFootnote\": NaN, \"LowConfidenceLimit\": null, \"HighConfidenceLimit\": null, \"StratificationCategory1\": \"Gender\", \"Stratification1\": \"Female\", \"StratificationCategory2\": null, \"Stratification2\": null, \"StratificationCategory3\": null, \"Stratification3\": null, \"GeoLocation\": \"POINT (-75.54397042699964 42.82700103200045)\", \"ResponseID\": null, \"LocationID\": 36, \"TopicID\": \"CVD\", \"QuestionID\": \"CVD1_3\", \"DataValueTypeID\": \"NMBR\", \"StratificationCategoryID1\": \"GENDER\", \"StratificationID1\": \"GENF\", \"StratificationCategoryID2\": null, \"StratificationID2\": null, \"StratificationCategoryID3\": null, \"StratificationID3\": null}, {\"YearStart\": 2017, \"YearEnd\": 2017, \"LocationAbbr\": \"NY\", \"LocationDesc\": \"New York\", \"DataSource\": \"NVSS\", \"Topic\": \"Cardiovascular Disease\", \"Question\": \"Mortality from coronary heart disease\", \"Response\": null, \"DataValueUnit\": \"cases per 100,000\", \"DataValueType\": \"Crude Rate\", \"DataValue\": 161.9, \"DataValueAlt\": 161.9, \"DataValueFootnoteSymbol\": NaN, \"DatavalueFootnote\": NaN, \"LowConfidenceLimit\": 159.3, \"HighConfidenceLimit\": 164.4, \"StratificationCategory1\": \"Gender\", \"Stratification1\": \"Male\", \"StratificationCategory2\": null, \"Stratification2\": null, \"StratificationCategory3\": null, \"Stratification3\": null, \"GeoLocation\": \"POINT (-75.54397042699964 42.82700103200045)\", \"ResponseID\": null, \"LocationID\": 36, \"TopicID\": \"CVD\", \"QuestionID\": \"CVD1_3\", \"DataValueTypeID\": \"CRDRATE\", \"StratificationCategoryID1\": \"GENDER\", \"StratificationID1\": \"GENM\", \"StratificationCategoryID2\": null, \"StratificationID2\": null, \"StratificationCategoryID3\": null, \"StratificationID3\": null}, {\"YearStart\": 2010, \"YearEnd\": 2010, \"LocationAbbr\": \"NY\", \"LocationDesc\": \"New York\", \"DataSource\": \"NVSS\", \"Topic\": \"Cardiovascular Disease\", \"Question\": \"Mortality from coronary heart disease\", \"Response\": null, \"DataValueUnit\": null, \"DataValueType\": \"Number\", \"DataValue\": 17156.0, \"DataValueAlt\": 17156.0, \"DataValueFootnoteSymbol\": NaN, \"DatavalueFootnote\": NaN, \"LowConfidenceLimit\": null, \"HighConfidenceLimit\": null, \"StratificationCategory1\": \"Gender\", \"Stratification1\": \"Female\", \"StratificationCategory2\": null, \"Stratification2\": null, \"StratificationCategory3\": null, \"Stratification3\": null, \"GeoLocation\": \"POINT (-75.54397042699964 42.82700103200045)\", \"ResponseID\": null, \"LocationID\": 36, \"TopicID\": \"CVD\", \"QuestionID\": \"CVD1_3\", \"DataValueTypeID\": \"NMBR\", \"StratificationCategoryID1\": \"GENDER\", \"StratificationID1\": \"GENF\", \"StratificationCategoryID2\": null, \"StratificationID2\": null, \"StratificationCategoryID3\": null, \"StratificationID3\": null}, {\"YearStart\": 2015, \"YearEnd\": 2015, \"LocationAbbr\": \"NY\", \"LocationDesc\": \"New York\", \"DataSource\": \"NVSS\", \"Topic\": \"Cardiovascular Disease\", \"Question\": \"Mortality from coronary heart disease\", \"Response\": null, \"DataValueUnit\": \"cases per 100,000\", \"DataValueType\": \"Age-adjusted Rate\", \"DataValue\": 98.1, \"DataValueAlt\": 98.1, \"DataValueFootnoteSymbol\": NaN, \"DatavalueFootnote\": NaN, \"LowConfidenceLimit\": 96.5, \"HighConfidenceLimit\": 99.7, \"StratificationCategory1\": \"Gender\", \"Stratification1\": \"Female\", \"StratificationCategory2\": null, \"Stratification2\": null, \"StratificationCategory3\": null, \"Stratification3\": null, \"GeoLocation\": \"POINT (-75.54397042699964 42.82700103200045)\", \"ResponseID\": null, \"LocationID\": 36, \"TopicID\": \"CVD\", \"QuestionID\": \"CVD1_3\", \"DataValueTypeID\": \"AGEADJRATE\", \"StratificationCategoryID1\": \"GENDER\", \"StratificationID1\": \"GENF\", \"StratificationCategoryID2\": null, \"StratificationID2\": null, \"StratificationCategoryID3\": null, \"StratificationID3\": null}, {\"YearStart\": 2012, \"YearEnd\": 2012, \"LocationAbbr\": \"NY\", \"LocationDesc\": \"New York\", \"DataSource\": \"NVSS\", \"Topic\": \"Cardiovascular Disease\", \"Question\": \"Mortality from coronary heart disease\", \"Response\": null, \"DataValueUnit\": null, \"DataValueType\": \"Number\", \"DataValue\": 15470.0, \"DataValueAlt\": 15470.0, \"DataValueFootnoteSymbol\": NaN, \"DatavalueFootnote\": NaN, \"LowConfidenceLimit\": null, \"HighConfidenceLimit\": null, \"StratificationCategory1\": \"Gender\", \"Stratification1\": \"Male\", \"StratificationCategory2\": null, \"Stratification2\": null, \"StratificationCategory3\": null, \"Stratification3\": null, \"GeoLocation\": \"POINT (-75.54397042699964 42.82700103200045)\", \"ResponseID\": null, \"LocationID\": 36, \"TopicID\": \"CVD\", \"QuestionID\": \"CVD1_3\", \"DataValueTypeID\": \"NMBR\", \"StratificationCategoryID1\": \"GENDER\", \"StratificationID1\": \"GENM\", \"StratificationCategoryID2\": null, \"StratificationID2\": null, \"StratificationCategoryID3\": null, \"StratificationID3\": null}, {\"YearStart\": 2014, \"YearEnd\": 2014, \"LocationAbbr\": \"NY\", \"LocationDesc\": \"New York\", \"DataSource\": \"NVSS\", \"Topic\": \"Cardiovascular Disease\", \"Question\": \"Mortality from coronary heart disease\", \"Response\": null, \"DataValueUnit\": \"cases per 100,000\", \"DataValueType\": \"Crude Rate\", \"DataValue\": 158.2, \"DataValueAlt\": 158.2, \"DataValueFootnoteSymbol\": NaN, \"DatavalueFootnote\": NaN, \"LowConfidenceLimit\": 155.7, \"HighConfidenceLimit\": 160.7, \"StratificationCategory1\": \"Gender\", \"Stratification1\": \"Male\", \"StratificationCategory2\": null, \"Stratification2\": null, \"StratificationCategory3\": null, \"Stratification3\": null, \"GeoLocation\": \"POINT (-75.54397042699964 42.82700103200045)\", \"ResponseID\": null, \"LocationID\": 36, \"TopicID\": \"CVD\", \"QuestionID\": \"CVD1_3\", \"DataValueTypeID\": \"CRDRATE\", \"StratificationCategoryID1\": \"GENDER\", \"StratificationID1\": \"GENM\", \"StratificationCategoryID2\": null, \"StratificationID2\": null, \"StratificationCategoryID3\": null, \"StratificationID3\": null}, {\"YearStart\": 2019, \"YearEnd\": 2019, \"LocationAbbr\": \"NY\", \"LocationDesc\": \"New York\", \"DataSource\": \"NVSS\", \"Topic\": \"Cardiovascular Disease\", \"Question\": \"Mortality from coronary heart disease\", \"Response\": null, \"DataValueUnit\": \"cases per 100,000\", \"DataValueType\": \"Age-adjusted Rate\", \"DataValue\": 148.2, \"DataValueAlt\": 148.2, \"DataValueFootnoteSymbol\": NaN, \"DatavalueFootnote\": NaN, \"LowConfidenceLimit\": 145.8, \"HighConfidenceLimit\": 150.5, \"StratificationCategory1\": \"Gender\", \"Stratification1\": \"Male\", \"StratificationCategory2\": null, \"Stratification2\": null, \"StratificationCategory3\": null, \"Stratification3\": null, \"GeoLocation\": \"POINT (-75.54397042699964 42.82700103200045)\", \"ResponseID\": null, \"LocationID\": 36, \"TopicID\": \"CVD\", \"QuestionID\": \"CVD1_3\", \"DataValueTypeID\": \"AGEADJRATE\", \"StratificationCategoryID1\": \"GENDER\", \"StratificationID1\": \"GENM\", \"StratificationCategoryID2\": null, \"StratificationID2\": null, \"StratificationCategoryID3\": null, \"StratificationID3\": null}, {\"YearStart\": 2011, \"YearEnd\": 2011, \"LocationAbbr\": \"NY\", \"LocationDesc\": \"New York\", \"DataSource\": \"NVSS\", \"Topic\": \"Cardiovascular Disease\", \"Question\": \"Mortality from coronary heart disease\", \"Response\": null, \"DataValueUnit\": \"cases per 100,000\", \"DataValueType\": \"Age-adjusted Rate\", \"DataValue\": 114.6, \"DataValueAlt\": 114.6, \"DataValueFootnoteSymbol\": NaN, \"DatavalueFootnote\": NaN, \"LowConfidenceLimit\": 112.9, \"HighConfidenceLimit\": 116.4, \"StratificationCategory1\": \"Gender\", \"Stratification1\": \"Female\", \"StratificationCategory2\": null, \"Stratification2\": null, \"StratificationCategory3\": null, \"Stratification3\": null, \"GeoLocation\": \"POINT (-75.54397042699964 42.82700103200045)\", \"ResponseID\": null, \"LocationID\": 36, \"TopicID\": \"CVD\", \"QuestionID\": \"CVD1_3\", \"DataValueTypeID\": \"AGEADJRATE\", \"StratificationCategoryID1\": \"GENDER\", \"StratificationID1\": \"GENF\", \"StratificationCategoryID2\": null, \"StratificationID2\": null, \"StratificationCategoryID3\": null, \"StratificationID3\": null}, {\"YearStart\": 2014, \"YearEnd\": 2014, \"LocationAbbr\": \"NY\", \"LocationDesc\": \"New York\", \"DataSource\": \"NVSS\", \"Topic\": \"Cardiovascular Disease\", \"Question\": \"Mortality from coronary heart disease\", \"Response\": null, \"DataValueUnit\": \"cases per 100,000\", \"DataValueType\": \"Crude Rate\", \"DataValue\": 148.1, \"DataValueAlt\": 148.1, \"DataValueFootnoteSymbol\": NaN, \"DatavalueFootnote\": NaN, \"LowConfidenceLimit\": 145.8, \"HighConfidenceLimit\": 150.5, \"StratificationCategory1\": \"Gender\", \"Stratification1\": \"Female\", \"StratificationCategory2\": null, \"Stratification2\": null, \"StratificationCategory3\": null, \"Stratification3\": null, \"GeoLocation\": \"POINT (-75.54397042699964 42.82700103200045)\", \"ResponseID\": null, \"LocationID\": 36, \"TopicID\": \"CVD\", \"QuestionID\": \"CVD1_3\", \"DataValueTypeID\": \"CRDRATE\", \"StratificationCategoryID1\": \"GENDER\", \"StratificationID1\": \"GENF\", \"StratificationCategoryID2\": null, \"StratificationID2\": null, \"StratificationCategoryID3\": null, \"StratificationID3\": null}, {\"YearStart\": 2020, \"YearEnd\": 2020, \"LocationAbbr\": \"NY\", \"LocationDesc\": \"New York\", \"DataSource\": \"NVSS\", \"Topic\": \"Cardiovascular Disease\", \"Question\": \"Mortality from coronary heart disease\", \"Response\": null, \"DataValueUnit\": \"cases per 100,000\", \"DataValueType\": \"Crude Rate\", \"DataValue\": 188.0, \"DataValueAlt\": 188.0, \"DataValueFootnoteSymbol\": NaN, \"DatavalueFootnote\": NaN, \"LowConfidenceLimit\": 185.2, \"HighConfidenceLimit\": 190.7, \"StratificationCategory1\": \"Gender\", \"Stratification1\": \"Male\", \"StratificationCategory2\": null, \"Stratification2\": null, \"StratificationCategory3\": null, \"Stratification3\": null, \"GeoLocation\": \"POINT (-75.54397042699964 42.82700103200045)\", \"ResponseID\": null, \"LocationID\": 36, \"TopicID\": \"CVD\", \"QuestionID\": \"CVD1_3\", \"DataValueTypeID\": \"CRDRATE\", \"StratificationCategoryID1\": \"GENDER\", \"StratificationID1\": \"GENM\", \"StratificationCategoryID2\": null, \"StratificationID2\": null, \"StratificationCategoryID3\": null, \"StratificationID3\": null}, {\"YearStart\": 2016, \"YearEnd\": 2016, \"LocationAbbr\": \"NY\", \"LocationDesc\": \"New York\", \"DataSource\": \"NVSS\", \"Topic\": \"Cardiovascular Disease\", \"Question\": \"Mortality from coronary heart disease\", \"Response\": null, \"DataValueUnit\": \"cases per 100,000\", \"DataValueType\": \"Crude Rate\", \"DataValue\": 159.6, \"DataValueAlt\": 159.6, \"DataValueFootnoteSymbol\": NaN, \"DatavalueFootnote\": NaN, \"LowConfidenceLimit\": 157.1, \"HighConfidenceLimit\": 162.1, \"StratificationCategory1\": \"Gender\", \"Stratification1\": \"Male\", \"StratificationCategory2\": null, \"Stratification2\": null, \"StratificationCategory3\": null, \"Stratification3\": null, \"GeoLocation\": \"POINT (-75.54397042699964 42.82700103200045)\", \"ResponseID\": null, \"LocationID\": 36, \"TopicID\": \"CVD\", \"QuestionID\": \"CVD1_3\", \"DataValueTypeID\": \"CRDRATE\", \"StratificationCategoryID1\": \"GENDER\", \"StratificationID1\": \"GENM\", \"StratificationCategoryID2\": null, \"StratificationID2\": null, \"StratificationCategoryID3\": null, \"StratificationID3\": null}, {\"YearStart\": 2010, \"YearEnd\": 2010, \"LocationAbbr\": \"NY\", \"LocationDesc\": \"New York\", \"DataSource\": \"NVSS\", \"Topic\": \"Cardiovascular Disease\", \"Question\": \"Mortality from coronary heart disease\", \"Response\": null, \"DataValueUnit\": \"cases per 100,000\", \"DataValueType\": \"Crude Rate\", \"DataValue\": 172.0, \"DataValueAlt\": 172.0, \"DataValueFootnoteSymbol\": NaN, \"DatavalueFootnote\": NaN, \"LowConfidenceLimit\": 169.3, \"HighConfidenceLimit\": 174.6, \"StratificationCategory1\": \"Gender\", \"Stratification1\": \"Male\", \"StratificationCategory2\": null, \"Stratification2\": null, \"StratificationCategory3\": null, \"Stratification3\": null, \"GeoLocation\": \"POINT (-75.54397042699964 42.82700103200045)\", \"ResponseID\": null, \"LocationID\": 36, \"TopicID\": \"CVD\", \"QuestionID\": \"CVD1_3\", \"DataValueTypeID\": \"CRDRATE\", \"StratificationCategoryID1\": \"GENDER\", \"StratificationID1\": \"GENM\", \"StratificationCategoryID2\": null, \"StratificationID2\": null, \"StratificationCategoryID3\": null, \"StratificationID3\": null}, {\"YearStart\": 2013, \"YearEnd\": 2013, \"LocationAbbr\": \"NY\", \"LocationDesc\": \"New York\", \"DataSource\": \"NVSS\", \"Topic\": \"Cardiovascular Disease\", \"Question\": \"Mortality from coronary heart disease\", \"Response\": null, \"DataValueUnit\": \"cases per 100,000\", \"DataValueType\": \"Age-adjusted Rate\", \"DataValue\": 167.1, \"DataValueAlt\": 167.1, \"DataValueFootnoteSymbol\": NaN, \"DatavalueFootnote\": NaN, \"LowConfidenceLimit\": 164.4, \"HighConfidenceLimit\": 169.7, \"StratificationCategory1\": \"Gender\", \"Stratification1\": \"Male\", \"StratificationCategory2\": null, \"Stratification2\": null, \"StratificationCategory3\": null, \"Stratification3\": null, \"GeoLocation\": \"POINT (-75.54397042699964 42.82700103200045)\", \"ResponseID\": null, \"LocationID\": 36, \"TopicID\": \"CVD\", \"QuestionID\": \"CVD1_3\", \"DataValueTypeID\": \"AGEADJRATE\", \"StratificationCategoryID1\": \"GENDER\", \"StratificationID1\": \"GENM\", \"StratificationCategoryID2\": null, \"StratificationID2\": null, \"StratificationCategoryID3\": null, \"StratificationID3\": null}, {\"YearStart\": 2018, \"YearEnd\": 2018, \"LocationAbbr\": \"NY\", \"LocationDesc\": \"New York\", \"DataSource\": \"NVSS\", \"Topic\": \"Cardiovascular Disease\", \"Question\": \"Mortality from coronary heart disease\", \"Response\": null, \"DataValueUnit\": null, \"DataValueType\": \"Number\", \"DataValue\": 14502.0, \"DataValueAlt\": 14502.0, \"DataValueFootnoteSymbol\": NaN, \"DatavalueFootnote\": NaN, \"LowConfidenceLimit\": null, \"HighConfidenceLimit\": null, \"StratificationCategory1\": \"Gender\", \"Stratification1\": \"Female\", \"StratificationCategory2\": null, \"Stratification2\": null, \"StratificationCategory3\": null, \"Stratification3\": null, \"GeoLocation\": \"POINT (-75.54397042699964 42.82700103200045)\", \"ResponseID\": null, \"LocationID\": 36, \"TopicID\": \"CVD\", \"QuestionID\": \"CVD1_3\", \"DataValueTypeID\": \"NMBR\", \"StratificationCategoryID1\": \"GENDER\", \"StratificationID1\": \"GENF\", \"StratificationCategoryID2\": null, \"StratificationID2\": null, \"StratificationCategoryID3\": null, \"StratificationID3\": null}, {\"YearStart\": 2019, \"YearEnd\": 2019, \"LocationAbbr\": \"NY\", \"LocationDesc\": \"New York\", \"DataSource\": \"NVSS\", \"Topic\": \"Cardiovascular Disease\", \"Question\": \"Mortality from coronary heart disease\", \"Response\": null, \"DataValueUnit\": \"cases per 100,000\", \"DataValueType\": \"Crude Rate\", \"DataValue\": 167.6, \"DataValueAlt\": 167.6, \"DataValueFootnoteSymbol\": NaN, \"DatavalueFootnote\": NaN, \"LowConfidenceLimit\": 164.9, \"HighConfidenceLimit\": 170.2, \"StratificationCategory1\": \"Gender\", \"Stratification1\": \"Male\", \"StratificationCategory2\": null, \"Stratification2\": null, \"StratificationCategory3\": null, \"Stratification3\": null, \"GeoLocation\": \"POINT (-75.54397042699964 42.82700103200045)\", \"ResponseID\": null, \"LocationID\": 36, \"TopicID\": \"CVD\", \"QuestionID\": \"CVD1_3\", \"DataValueTypeID\": \"CRDRATE\", \"StratificationCategoryID1\": \"GENDER\", \"StratificationID1\": \"GENM\", \"StratificationCategoryID2\": null, \"StratificationID2\": null, \"StratificationCategoryID3\": null, \"StratificationID3\": null}, {\"YearStart\": 2018, \"YearEnd\": 2018, \"LocationAbbr\": \"NY\", \"LocationDesc\": \"New York\", \"DataSource\": \"NVSS\", \"Topic\": \"Cardiovascular Disease\", \"Question\": \"Mortality from coronary heart disease\", \"Response\": null, \"DataValueUnit\": \"cases per 100,000\", \"DataValueType\": \"Age-adjusted Rate\", \"DataValue\": 152.3, \"DataValueAlt\": 152.3, \"DataValueFootnoteSymbol\": NaN, \"DatavalueFootnote\": NaN, \"LowConfidenceLimit\": 149.9, \"HighConfidenceLimit\": 154.7, \"StratificationCategory1\": \"Gender\", \"Stratification1\": \"Male\", \"StratificationCategory2\": null, \"Stratification2\": null, \"StratificationCategory3\": null, \"Stratification3\": null, \"GeoLocation\": \"POINT (-75.54397042699964 42.82700103200045)\", \"ResponseID\": null, \"LocationID\": 36, \"TopicID\": \"CVD\", \"QuestionID\": \"CVD1_3\", \"DataValueTypeID\": \"AGEADJRATE\", \"StratificationCategoryID1\": \"GENDER\", \"StratificationID1\": \"GENM\", \"StratificationCategoryID2\": null, \"StratificationID2\": null, \"StratificationCategoryID3\": null, \"StratificationID3\": null}, {\"YearStart\": 2020, \"YearEnd\": 2020, \"LocationAbbr\": \"NY\", \"LocationDesc\": \"New York\", \"DataSource\": \"NVSS\", \"Topic\": \"Cardiovascular Disease\", \"Question\": \"Mortality from coronary heart disease\", \"Response\": null, \"DataValueUnit\": \"cases per 100,000\", \"DataValueType\": \"Age-adjusted Rate\", \"DataValue\": 163.4, \"DataValueAlt\": 163.4, \"DataValueFootnoteSymbol\": NaN, \"DatavalueFootnote\": NaN, \"LowConfidenceLimit\": 161.0, \"HighConfidenceLimit\": 165.9, \"StratificationCategory1\": \"Gender\", \"Stratification1\": \"Male\", \"StratificationCategory2\": null, \"Stratification2\": null, \"StratificationCategory3\": null, \"Stratification3\": null, \"GeoLocation\": \"POINT (-75.54397042699964 42.82700103200045)\", \"ResponseID\": null, \"LocationID\": 36, \"TopicID\": \"CVD\", \"QuestionID\": \"CVD1_3\", \"DataValueTypeID\": \"AGEADJRATE\", \"StratificationCategoryID1\": \"GENDER\", \"StratificationID1\": \"GENM\", \"StratificationCategoryID2\": null, \"StratificationID2\": null, \"StratificationCategoryID3\": null, \"StratificationID3\": null}, {\"YearStart\": 2014, \"YearEnd\": 2014, \"LocationAbbr\": \"NY\", \"LocationDesc\": \"New York\", \"DataSource\": \"NVSS\", \"Topic\": \"Cardiovascular Disease\", \"Question\": \"Mortality from coronary heart disease\", \"Response\": null, \"DataValueUnit\": \"cases per 100,000\", \"DataValueType\": \"Age-adjusted Rate\", \"DataValue\": 158.7, \"DataValueAlt\": 158.7, \"DataValueFootnoteSymbol\": NaN, \"DatavalueFootnote\": NaN, \"LowConfidenceLimit\": 156.1, \"HighConfidenceLimit\": 161.2, \"StratificationCategory1\": \"Gender\", \"Stratification1\": \"Male\", \"StratificationCategory2\": null, \"Stratification2\": null, \"StratificationCategory3\": null, \"Stratification3\": null, \"GeoLocation\": \"POINT (-75.54397042699964 42.82700103200045)\", \"ResponseID\": null, \"LocationID\": 36, \"TopicID\": \"CVD\", \"QuestionID\": \"CVD1_3\", \"DataValueTypeID\": \"AGEADJRATE\", \"StratificationCategoryID1\": \"GENDER\", \"StratificationID1\": \"GENM\", \"StratificationCategoryID2\": null, \"StratificationID2\": null, \"StratificationCategoryID3\": null, \"StratificationID3\": null}, {\"YearStart\": 2012, \"YearEnd\": 2012, \"LocationAbbr\": \"NY\", \"LocationDesc\": \"New York\", \"DataSource\": \"NVSS\", \"Topic\": \"Cardiovascular Disease\", \"Question\": \"Mortality from coronary heart disease\", \"Response\": null, \"DataValueUnit\": \"cases per 100,000\", \"DataValueType\": \"Crude Rate\", \"DataValue\": 163.0, \"DataValueAlt\": 163.0, \"DataValueFootnoteSymbol\": NaN, \"DatavalueFootnote\": NaN, \"LowConfidenceLimit\": 160.5, \"HighConfidenceLimit\": 165.6, \"StratificationCategory1\": \"Gender\", \"Stratification1\": \"Male\", \"StratificationCategory2\": null, \"Stratification2\": null, \"StratificationCategory3\": null, \"Stratification3\": null, \"GeoLocation\": \"POINT (-75.54397042699964 42.82700103200045)\", \"ResponseID\": null, \"LocationID\": 36, \"TopicID\": \"CVD\", \"QuestionID\": \"CVD1_3\", \"DataValueTypeID\": \"CRDRATE\", \"StratificationCategoryID1\": \"GENDER\", \"StratificationID1\": \"GENM\", \"StratificationCategoryID2\": null, \"StratificationID2\": null, \"StratificationCategoryID3\": null, \"StratificationID3\": null}, {\"YearStart\": 2017, \"YearEnd\": 2017, \"LocationAbbr\": \"NY\", \"LocationDesc\": \"New York\", \"DataSource\": \"NVSS\", \"Topic\": \"Cardiovascular Disease\", \"Question\": \"Mortality from coronary heart disease\", \"Response\": null, \"DataValueUnit\": \"cases per 100,000\", \"DataValueType\": \"Age-adjusted Rate\", \"DataValue\": 151.2, \"DataValueAlt\": 151.2, \"DataValueFootnoteSymbol\": NaN, \"DatavalueFootnote\": NaN, \"LowConfidenceLimit\": 148.8, \"HighConfidenceLimit\": 153.6, \"StratificationCategory1\": \"Gender\", \"Stratification1\": \"Male\", \"StratificationCategory2\": null, \"Stratification2\": null, \"StratificationCategory3\": null, \"Stratification3\": null, \"GeoLocation\": \"POINT (-75.54397042699964 42.82700103200045)\", \"ResponseID\": null, \"LocationID\": 36, \"TopicID\": \"CVD\", \"QuestionID\": \"CVD1_3\", \"DataValueTypeID\": \"AGEADJRATE\", \"StratificationCategoryID1\": \"GENDER\", \"StratificationID1\": \"GENM\", \"StratificationCategoryID2\": null, \"StratificationID2\": null, \"StratificationCategoryID3\": null, \"StratificationID3\": null}, {\"YearStart\": 2014, \"YearEnd\": 2014, \"LocationAbbr\": \"NY\", \"LocationDesc\": \"New York\", \"DataSource\": \"NVSS\", \"Topic\": \"Cardiovascular Disease\", \"Question\": \"Mortality from coronary heart disease\", \"Response\": null, \"DataValueUnit\": null, \"DataValueType\": \"Number\", \"DataValue\": 15057.0, \"DataValueAlt\": 15057.0, \"DataValueFootnoteSymbol\": NaN, \"DatavalueFootnote\": NaN, \"LowConfidenceLimit\": null, \"HighConfidenceLimit\": null, \"StratificationCategory1\": \"Gender\", \"Stratification1\": \"Female\", \"StratificationCategory2\": null, \"Stratification2\": null, \"StratificationCategory3\": null, \"Stratification3\": null, \"GeoLocation\": \"POINT (-75.54397042699964 42.82700103200045)\", \"ResponseID\": null, \"LocationID\": 36, \"TopicID\": \"CVD\", \"QuestionID\": \"CVD1_3\", \"DataValueTypeID\": \"NMBR\", \"StratificationCategoryID1\": \"GENDER\", \"StratificationID1\": \"GENF\", \"StratificationCategoryID2\": null, \"StratificationID2\": null, \"StratificationCategoryID3\": null, \"StratificationID3\": null}, {\"YearStart\": 2018, \"YearEnd\": 2018, \"LocationAbbr\": \"NY\", \"LocationDesc\": \"New York\", \"DataSource\": \"NVSS\", \"Topic\": \"Cardiovascular Disease\", \"Question\": \"Mortality from coronary heart disease\", \"Response\": null, \"DataValueUnit\": \"cases per 100,000\", \"DataValueType\": \"Crude Rate\", \"DataValue\": 167.6, \"DataValueAlt\": 167.6, \"DataValueFootnoteSymbol\": NaN, \"DatavalueFootnote\": NaN, \"LowConfidenceLimit\": 165.0, \"HighConfidenceLimit\": 170.2, \"StratificationCategory1\": \"Gender\", \"Stratification1\": \"Male\", \"StratificationCategory2\": null, \"Stratification2\": null, \"StratificationCategory3\": null, \"Stratification3\": null, \"GeoLocation\": \"POINT (-75.54397042699964 42.82700103200045)\", \"ResponseID\": null, \"LocationID\": 36, \"TopicID\": \"CVD\", \"QuestionID\": \"CVD1_3\", \"DataValueTypeID\": \"CRDRATE\", \"StratificationCategoryID1\": \"GENDER\", \"StratificationID1\": \"GENM\", \"StratificationCategoryID2\": null, \"StratificationID2\": null, \"StratificationCategoryID3\": null, \"StratificationID3\": null}, {\"YearStart\": 2016, \"YearEnd\": 2016, \"LocationAbbr\": \"NY\", \"LocationDesc\": \"New York\", \"DataSource\": \"NVSS\", \"Topic\": \"Cardiovascular Disease\", \"Question\": \"Mortality from coronary heart disease\", \"Response\": null, \"DataValueUnit\": null, \"DataValueType\": \"Number\", \"DataValue\": 14526.0, \"DataValueAlt\": 14526.0, \"DataValueFootnoteSymbol\": NaN, \"DatavalueFootnote\": NaN, \"LowConfidenceLimit\": null, \"HighConfidenceLimit\": null, \"StratificationCategory1\": \"Gender\", \"Stratification1\": \"Female\", \"StratificationCategory2\": null, \"Stratification2\": null, \"StratificationCategory3\": null, \"Stratification3\": null, \"GeoLocation\": \"POINT (-75.54397042699964 42.82700103200045)\", \"ResponseID\": null, \"LocationID\": 36, \"TopicID\": \"CVD\", \"QuestionID\": \"CVD1_3\", \"DataValueTypeID\": \"NMBR\", \"StratificationCategoryID1\": \"GENDER\", \"StratificationID1\": \"GENF\", \"StratificationCategoryID2\": null, \"StratificationID2\": null, \"StratificationCategoryID3\": null, \"StratificationID3\": null}, {\"YearStart\": 2011, \"YearEnd\": 2011, \"LocationAbbr\": \"NY\", \"LocationDesc\": \"New York\", \"DataSource\": \"NVSS\", \"Topic\": \"Cardiovascular Disease\", \"Question\": \"Mortality from coronary heart disease\", \"Response\": null, \"DataValueUnit\": \"cases per 100,000\", \"DataValueType\": \"Age-adjusted Rate\", \"DataValue\": 176.5, \"DataValueAlt\": 176.5, \"DataValueFootnoteSymbol\": NaN, \"DatavalueFootnote\": NaN, \"LowConfidenceLimit\": 173.7, \"HighConfidenceLimit\": 179.3, \"StratificationCategory1\": \"Gender\", \"Stratification1\": \"Male\", \"StratificationCategory2\": null, \"Stratification2\": null, \"StratificationCategory3\": null, \"Stratification3\": null, \"GeoLocation\": \"POINT (-75.54397042699964 42.82700103200045)\", \"ResponseID\": null, \"LocationID\": 36, \"TopicID\": \"CVD\", \"QuestionID\": \"CVD1_3\", \"DataValueTypeID\": \"AGEADJRATE\", \"StratificationCategoryID1\": \"GENDER\", \"StratificationID1\": \"GENM\", \"StratificationCategoryID2\": null, \"StratificationID2\": null, \"StratificationCategoryID3\": null, \"StratificationID3\": null}, {\"YearStart\": 2015, \"YearEnd\": 2015, \"LocationAbbr\": \"NY\", \"LocationDesc\": \"New York\", \"DataSource\": \"NVSS\", \"Topic\": \"Cardiovascular Disease\", \"Question\": \"Mortality from coronary heart disease\", \"Response\": null, \"DataValueUnit\": \"cases per 100,000\", \"DataValueType\": \"Age-adjusted Rate\", \"DataValue\": 159.1, \"DataValueAlt\": 159.1, \"DataValueFootnoteSymbol\": NaN, \"DatavalueFootnote\": NaN, \"LowConfidenceLimit\": 156.6, \"HighConfidenceLimit\": 161.6, \"StratificationCategory1\": \"Gender\", \"Stratification1\": \"Male\", \"StratificationCategory2\": null, \"Stratification2\": null, \"StratificationCategory3\": null, \"Stratification3\": null, \"GeoLocation\": \"POINT (-75.54397042699964 42.82700103200045)\", \"ResponseID\": null, \"LocationID\": 36, \"TopicID\": \"CVD\", \"QuestionID\": \"CVD1_3\", \"DataValueTypeID\": \"AGEADJRATE\", \"StratificationCategoryID1\": \"GENDER\", \"StratificationID1\": \"GENM\", \"StratificationCategoryID2\": null, \"StratificationID2\": null, \"StratificationCategoryID3\": null, \"StratificationID3\": null}, {\"YearStart\": 2016, \"YearEnd\": 2016, \"LocationAbbr\": \"NY\", \"LocationDesc\": \"New York\", \"DataSource\": \"NVSS\", \"Topic\": \"Cardiovascular Disease\", \"Question\": \"Mortality from coronary heart disease\", \"Response\": null, \"DataValueUnit\": null, \"DataValueType\": \"Number\", \"DataValue\": 15302.0, \"DataValueAlt\": 15302.0, \"DataValueFootnoteSymbol\": NaN, \"DatavalueFootnote\": NaN, \"LowConfidenceLimit\": null, \"HighConfidenceLimit\": null, \"StratificationCategory1\": \"Gender\", \"Stratification1\": \"Male\", \"StratificationCategory2\": null, \"Stratification2\": null, \"StratificationCategory3\": null, \"Stratification3\": null, \"GeoLocation\": \"POINT (-75.54397042699964 42.82700103200045)\", \"ResponseID\": null, \"LocationID\": 36, \"TopicID\": \"CVD\", \"QuestionID\": \"CVD1_3\", \"DataValueTypeID\": \"NMBR\", \"StratificationCategoryID1\": \"GENDER\", \"StratificationID1\": \"GENM\", \"StratificationCategoryID2\": null, \"StratificationID2\": null, \"StratificationCategoryID3\": null, \"StratificationID3\": null}, {\"YearStart\": 2013, \"YearEnd\": 2013, \"LocationAbbr\": \"NY\", \"LocationDesc\": \"New York\", \"DataSource\": \"NVSS\", \"Topic\": \"Cardiovascular Disease\", \"Question\": \"Mortality from coronary heart disease\", \"Response\": null, \"DataValueUnit\": \"cases per 100,000\", \"DataValueType\": \"Crude Rate\", \"DataValue\": 164.0, \"DataValueAlt\": 164.0, \"DataValueFootnoteSymbol\": NaN, \"DatavalueFootnote\": NaN, \"LowConfidenceLimit\": 161.4, \"HighConfidenceLimit\": 166.5, \"StratificationCategory1\": \"Gender\", \"Stratification1\": \"Male\", \"StratificationCategory2\": null, \"Stratification2\": null, \"StratificationCategory3\": null, \"Stratification3\": null, \"GeoLocation\": \"POINT (-75.54397042699964 42.82700103200045)\", \"ResponseID\": null, \"LocationID\": 36, \"TopicID\": \"CVD\", \"QuestionID\": \"CVD1_3\", \"DataValueTypeID\": \"CRDRATE\", \"StratificationCategoryID1\": \"GENDER\", \"StratificationID1\": \"GENM\", \"StratificationCategoryID2\": null, \"StratificationID2\": null, \"StratificationCategoryID3\": null, \"StratificationID3\": null}, {\"YearStart\": 2019, \"YearEnd\": 2019, \"LocationAbbr\": \"NY\", \"LocationDesc\": \"New York\", \"DataSource\": \"NVSS\", \"Topic\": \"Cardiovascular Disease\", \"Question\": \"Mortality from coronary heart disease\", \"Response\": null, \"DataValueUnit\": \"cases per 100,000\", \"DataValueType\": \"Crude Rate\", \"DataValue\": 140.3, \"DataValueAlt\": 140.3, \"DataValueFootnoteSymbol\": NaN, \"DatavalueFootnote\": NaN, \"LowConfidenceLimit\": 138.0, \"HighConfidenceLimit\": 142.7, \"StratificationCategory1\": \"Gender\", \"Stratification1\": \"Female\", \"StratificationCategory2\": null, \"Stratification2\": null, \"StratificationCategory3\": null, \"Stratification3\": null, \"GeoLocation\": \"POINT (-75.54397042699964 42.82700103200045)\", \"ResponseID\": null, \"LocationID\": 36, \"TopicID\": \"CVD\", \"QuestionID\": \"CVD1_3\", \"DataValueTypeID\": \"CRDRATE\", \"StratificationCategoryID1\": \"GENDER\", \"StratificationID1\": \"GENF\", \"StratificationCategoryID2\": null, \"StratificationID2\": null, \"StratificationCategoryID3\": null, \"StratificationID3\": null}, {\"YearStart\": 2010, \"YearEnd\": 2010, \"LocationAbbr\": \"NY\", \"LocationDesc\": \"New York\", \"DataSource\": \"NVSS\", \"Topic\": \"Cardiovascular Disease\", \"Question\": \"Mortality from coronary heart disease\", \"Response\": null, \"DataValueUnit\": \"cases per 100,000\", \"DataValueType\": \"Age-adjusted Rate\", \"DataValue\": 186.7, \"DataValueAlt\": 186.7, \"DataValueFootnoteSymbol\": NaN, \"DatavalueFootnote\": NaN, \"LowConfidenceLimit\": 183.8, \"HighConfidenceLimit\": 189.6, \"StratificationCategory1\": \"Gender\", \"Stratification1\": \"Male\", \"StratificationCategory2\": null, \"Stratification2\": null, \"StratificationCategory3\": null, \"Stratification3\": null, \"GeoLocation\": \"POINT (-75.54397042699964 42.82700103200045)\", \"ResponseID\": null, \"LocationID\": 36, \"TopicID\": \"CVD\", \"QuestionID\": \"CVD1_3\", \"DataValueTypeID\": \"AGEADJRATE\", \"StratificationCategoryID1\": \"GENDER\", \"StratificationID1\": \"GENM\", \"StratificationCategoryID2\": null, \"StratificationID2\": null, \"StratificationCategoryID3\": null, \"StratificationID3\": null}, {\"YearStart\": 2020, \"YearEnd\": 2020, \"LocationAbbr\": \"NY\", \"LocationDesc\": \"New York\", \"DataSource\": \"NVSS\", \"Topic\": \"Cardiovascular Disease\", \"Question\": \"Mortality from coronary heart disease\", \"Response\": null, \"DataValueUnit\": \"Number\", \"DataValueType\": \"Number\", \"DataValue\": 17650.0, \"DataValueAlt\": 17650.0, \"DataValueFootnoteSymbol\": NaN, \"DatavalueFootnote\": NaN, \"LowConfidenceLimit\": null, \"HighConfidenceLimit\": null, \"StratificationCategory1\": \"Gender\", \"Stratification1\": \"Male\", \"StratificationCategory2\": null, \"Stratification2\": null, \"StratificationCategory3\": null, \"Stratification3\": null, \"GeoLocation\": \"POINT (-75.54397042699964 42.82700103200045)\", \"ResponseID\": null, \"LocationID\": 36, \"TopicID\": \"CVD\", \"QuestionID\": \"CVD1_3\", \"DataValueTypeID\": \"NMBR\", \"StratificationCategoryID1\": \"GENDER\", \"StratificationID1\": \"GENM\", \"StratificationCategoryID2\": null, \"StratificationID2\": null, \"StratificationCategoryID3\": null, \"StratificationID3\": null}, {\"YearStart\": 2018, \"YearEnd\": 2018, \"LocationAbbr\": \"NY\", \"LocationDesc\": \"New York\", \"DataSource\": \"NVSS\", \"Topic\": \"Cardiovascular Disease\", \"Question\": \"Mortality from coronary heart disease\", \"Response\": null, \"DataValueUnit\": \"cases per 100,000\", \"DataValueType\": \"Crude Rate\", \"DataValue\": 144.2, \"DataValueAlt\": 144.2, \"DataValueFootnoteSymbol\": NaN, \"DatavalueFootnote\": NaN, \"LowConfidenceLimit\": 141.9, \"HighConfidenceLimit\": 146.6, \"StratificationCategory1\": \"Gender\", \"Stratification1\": \"Female\", \"StratificationCategory2\": null, \"Stratification2\": null, \"StratificationCategory3\": null, \"Stratification3\": null, \"GeoLocation\": \"POINT (-75.54397042699964 42.82700103200045)\", \"ResponseID\": null, \"LocationID\": 36, \"TopicID\": \"CVD\", \"QuestionID\": \"CVD1_3\", \"DataValueTypeID\": \"CRDRATE\", \"StratificationCategoryID1\": \"GENDER\", \"StratificationID1\": \"GENF\", \"StratificationCategoryID2\": null, \"StratificationID2\": null, \"StratificationCategoryID3\": null, \"StratificationID3\": null}, {\"YearStart\": 2020, \"YearEnd\": 2020, \"LocationAbbr\": \"NY\", \"LocationDesc\": \"New York\", \"DataSource\": \"NVSS\", \"Topic\": \"Cardiovascular Disease\", \"Question\": \"Mortality from coronary heart disease\", \"Response\": null, \"DataValueUnit\": \"cases per 100,000\", \"DataValueType\": \"Age-adjusted Rate\", \"DataValue\": 96.0, \"DataValueAlt\": 96.0, \"DataValueFootnoteSymbol\": NaN, \"DatavalueFootnote\": NaN, \"LowConfidenceLimit\": 94.5, \"HighConfidenceLimit\": 97.6, \"StratificationCategory1\": \"Gender\", \"Stratification1\": \"Female\", \"StratificationCategory2\": null, \"Stratification2\": null, \"StratificationCategory3\": null, \"Stratification3\": null, \"GeoLocation\": \"POINT (-75.54397042699964 42.82700103200045)\", \"ResponseID\": null, \"LocationID\": 36, \"TopicID\": \"CVD\", \"QuestionID\": \"CVD1_3\", \"DataValueTypeID\": \"AGEADJRATE\", \"StratificationCategoryID1\": \"GENDER\", \"StratificationID1\": \"GENF\", \"StratificationCategoryID2\": null, \"StratificationID2\": null, \"StratificationCategoryID3\": null, \"StratificationID3\": null}]}}, {\"mode\": \"vega-lite\"});\n",
       "</script>"
      ],
      "text/plain": [
       "alt.FacetChart(...)"
      ]
     },
     "execution_count": 359,
     "metadata": {},
     "output_type": "execute_result"
    }
   ],
   "source": [
    "stratification = \"Gender\"\n",
    "\n",
    "tmp = dfplot[dfplot[\"StratificationCategory1\"] == stratification]\n",
    "\n",
    "domain = list(tmp[\"Stratification1\"].unique())\n",
    "colors = alt.Scale(\n",
    "  domain= domain,\n",
    "  #range=['#aec7e8', '#c7c7c7', '#1f77b4', '#9467bd', '#e7ba52'][:len(domain)]\n",
    ")\n",
    "\n",
    "line =  alt.Chart().mark_line().encode(\n",
    "    alt.X(\"YearStart:O\",),\n",
    "    alt.Y(\"DataValue:Q\",scale=alt.Scale(zero=False)),\n",
    "    alt.Color('Stratification1:N', scale=colors),\n",
    "    tooltip=[\"YearStart\",\"DataValue\",'Stratification1']\n",
    ")\n",
    "\n",
    "points = alt.Chart().mark_point().encode(\n",
    "    alt.X(\"YearStart:O\",),\n",
    "    alt.Y(\"DataValue:Q\",scale=alt.Scale(zero=False)),\n",
    "    alt.Color('Stratification1:N', scale=colors),\n",
    "    tooltip=[\"YearStart\",\"DataValue\",'Stratification1'])\n",
    "# ).resolve_scale(\n",
    "#     x='independent',\n",
    "#     y='independent'\n",
    "# )#.interactive()\n",
    "\n",
    "cis = alt.Chart().mark_line().encode(\n",
    "    alt.X(\"YearStart:O\",),\n",
    "    alt.Y(\"LowConfidenceLimit:Q\",scale=alt.Scale(zero=False)),\n",
    "    alt.Y2(\"HighConfidenceLimit:Q\"),\n",
    "    alt.Color('Stratification1:N', scale=colors),\n",
    "    tooltip=[\"YearStart\",\"DataValue\",'Stratification1'])\n",
    "# ).resolve_scale(\n",
    "#     x='independent',\n",
    "#     y='independent'\n",
    "# )#.interactive()\n",
    "\n",
    "alt.layer(points, cis, line).facet(\n",
    "  data=tmp,\n",
    "  column='DataValueType:N'\n",
    ").resolve_scale(\n",
    "    x='independent',\n",
    "    y='independent')"
   ]
  }
 ],
 "metadata": {
  "kernelspec": {
   "display_name": "Python 3 (ipykernel)",
   "language": "python",
   "name": "python3"
  },
  "language_info": {
   "codemirror_mode": {
    "name": "ipython",
    "version": 3
   },
   "file_extension": ".py",
   "mimetype": "text/x-python",
   "name": "python",
   "nbconvert_exporter": "python",
   "pygments_lexer": "ipython3",
   "version": "3.10.10"
  }
 },
 "nbformat": 4,
 "nbformat_minor": 5
}
